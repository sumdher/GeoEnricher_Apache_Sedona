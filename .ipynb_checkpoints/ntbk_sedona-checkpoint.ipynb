{
 "cells": [
  {
   "cell_type": "code",
   "execution_count": 1,
   "id": "93b72f18-a15d-43e5-b68f-4722d4303458",
   "metadata": {
    "scrolled": true
   },
   "outputs": [
    {
     "name": "stderr",
     "output_type": "stream",
     "text": [
      "25/01/17 22:21:33 WARN Utils: Your hostname, marvin resolves to a loopback address: 127.0.1.1; using 172.20.27.4 instead (on interface eth0)\n",
      "25/01/17 22:21:33 WARN Utils: Set SPARK_LOCAL_IP if you need to bind to another address\n"
     ]
    },
    {
     "name": "stdout",
     "output_type": "stream",
     "text": [
      ":: loading settings :: url = jar:file:/data/homes_data/sudheer/benchmark_data/sedona_venv/lib/python3.12/site-packages/pyspark/jars/ivy-2.5.1.jar!/org/apache/ivy/core/settings/ivysettings.xml\n"
     ]
    },
    {
     "name": "stderr",
     "output_type": "stream",
     "text": [
      "Ivy Default Cache set to: /data/homes_data/sudheer/.ivy2/cache\n",
      "The jars for the packages stored in: /data/homes_data/sudheer/.ivy2/jars\n",
      "org.apache.sedona#sedona-spark-shaded-3.5_2.12 added as a dependency\n",
      "org.datasyslab#geotools-wrapper added as a dependency\n",
      ":: resolving dependencies :: org.apache.spark#spark-submit-parent-e62f7015-bcb0-419b-9a7f-609224ae4aec;1.0\n",
      "\tconfs: [default]\n",
      "\tfound org.apache.sedona#sedona-spark-shaded-3.5_2.12;1.7.0 in central\n",
      "\tfound org.datasyslab#geotools-wrapper;1.7.0-28.5 in central\n",
      ":: resolution report :: resolve 218ms :: artifacts dl 14ms\n",
      "\t:: modules in use:\n",
      "\torg.apache.sedona#sedona-spark-shaded-3.5_2.12;1.7.0 from central in [default]\n",
      "\torg.datasyslab#geotools-wrapper;1.7.0-28.5 from central in [default]\n",
      "\t---------------------------------------------------------------------\n",
      "\t|                  |            modules            ||   artifacts   |\n",
      "\t|       conf       | number| search|dwnlded|evicted|| number|dwnlded|\n",
      "\t---------------------------------------------------------------------\n",
      "\t|      default     |   2   |   0   |   0   |   0   ||   2   |   0   |\n",
      "\t---------------------------------------------------------------------\n",
      ":: retrieving :: org.apache.spark#spark-submit-parent-e62f7015-bcb0-419b-9a7f-609224ae4aec\n",
      "\tconfs: [default]\n",
      "\t0 artifacts copied, 2 already retrieved (0kB/13ms)\n",
      "25/01/17 22:21:34 WARN NativeCodeLoader: Unable to load native-hadoop library for your platform... using builtin-java classes where applicable\n",
      "Setting default log level to \"WARN\".\n",
      "To adjust logging level use sc.setLogLevel(newLevel). For SparkR, use setLogLevel(newLevel).\n",
      "25/01/17 22:21:36 WARN Utils: Service 'SparkUI' could not bind on port 4040. Attempting port 4041.\n",
      "                                                                                \r"
     ]
    }
   ],
   "source": [
    "from pyspark.sql import SparkSession\n",
    "from sedona.spark import *\n",
    "from pyspark.sql.functions import *\n",
    "import time\n",
    "\n",
    "config = SedonaContext.builder() .\\\n",
    "    config(\"spark.executor.memory\", \"26g\") .\\\n",
    "    config(\"spark.driver.memory\", \"24g\") .\\\n",
    "    config('spark.jars.packages',\n",
    "           'org.apache.sedona:sedona-spark-shaded-3.5_2.12:1.7.0,'\n",
    "           'org.datasyslab:geotools-wrapper:1.7.0-28.5'). \\\n",
    "    getOrCreate()\n",
    "\n",
    "sedona = SedonaContext.create(config)\n",
    "# sedona.sparkContext.setLogLevel(\"OFF\")\n",
    "cores = sedona.sparkContext.defaultParallelism"
   ]
  },
  {
   "cell_type": "code",
   "execution_count": 1,
   "id": "c4c00261-d856-4861-a862-05b793168ae3",
   "metadata": {
    "jupyter": {
     "source_hidden": true
    }
   },
   "outputs": [
    {
     "name": "stdout",
     "output_type": "stream",
     "text": [
      "Available layers: ['U2006_CLC2000_V2020_20u1']\n"
     ]
    }
   ],
   "source": [
    "# Check layers in .gpkg\n",
    "import geopandas as gpd\n",
    "from fiona import listlayers\n",
    "\n",
    "path = \"./data_Corine/land_cover_100m.gpkg\"\n",
    "\n",
    "print(\"Available layers:\", listlayers(path))"
   ]
  },
  {
   "cell_type": "code",
   "execution_count": 2,
   "id": "5d0899ab-4b89-4699-8386-0b5a82948c57",
   "metadata": {},
   "outputs": [
    {
     "name": "stderr",
     "output_type": "stream",
     "text": [
      "                                                                                \r"
     ]
    }
   ],
   "source": [
    "# Read files\n",
    "# Everything in: EPSG:3035\n",
    "\n",
    "lcover_path = \"./data_Corine/land_cover_100m.parquet\"\n",
    "EU_cens_path = \"./data_EU/census_grid_EU/grids.parquet\"\n",
    "italy_cens_path = \"./data_Italy/merged/merged_pop_geom/merged.parquet\"\n",
    "germ_path = \"./data_Germany/germ_grid.parquet\"\n",
    "contr_path = \"./data_EU/countries_shp/\"\n",
    "comuni_path = \"./data_EU/comuni_shp/\"\n",
    "\n",
    "\n",
    "\n",
    "lcover_df = sedona.read.format(\"geoparquet\").option(\"legacyMode\", \"true\").load(lcover_path)\n",
    "eu_df = sedona.read.format(\"geoparquet\").option(\"legacyMode\", \"true\").load(EU_cens_path)\n",
    "italy_df = sedona.read.format(\"geoparquet\").option(\"legacyMode\", \"true\").load(italy_cens_path)\n",
    "germ_df = sedona.read.format(\"geoparquet\").option(\"legacyMode\", \"true\").load(germ_path)\n",
    "# lcover_df = sedona.read.format(\"geopackage\").option(\"tableName\", \"U2006_CLC2000_V2020_20u1\").load(lcover_path)\n",
    "# eu_df = sedona.read.format(\"geopackage\").option(\"tableName\", \"census2021\").load(EU_cens_path)\n",
    "# italy_df = sedona.read.format(\"geopackage\").option(\"tableName\", \"italy_census\").load(italy_cens_path)\n",
    "# germ_df = sedona.read.format(\"geopackage\").option(\"tableName\", \"census_grid\").load(germ_path)\n",
    "\n",
    "contr_df = sedona.read.format(\"shapefile\").load(contr_path)\n",
    "comuni_df = sedona.read.format(\"shapefile\").load(comuni_path)"
   ]
  },
  {
   "cell_type": "code",
   "execution_count": 3,
   "id": "7bf181a4-47a2-49a7-baf1-472f9b0a989d",
   "metadata": {
    "collapsed": true,
    "jupyter": {
     "outputs_hidden": true,
     "source_hidden": true
    }
   },
   "outputs": [
    {
     "name": "stdout",
     "output_type": "stream",
     "text": [
      "lcover_df: ['code_00', 'ID', 'Remark', 'Area_Ha', 'geometry']\n",
      "\n",
      "comuni_df: ['geometry', 'COMM_ID', 'CNTR_ID', 'CNTR_CODE', 'COMM_NAME', 'NAME_ASCI', 'TRUE_FLAG', 'NSI_CODE', 'NAME_NSI', 'NAME_LATN', 'NUTS_CODE', 'FID']\n",
      "\n",
      "contr_df: ['geometry', 'CNTR_ID', 'CNTR_NAME', 'NAME_ENGL', 'NAME_FREN', 'ISO3_CODE', 'SVRG_UN', 'CAPT', 'EU_STAT', 'EFTA_STAT', 'CC_STAT', 'NAME_GERM']\n",
      "\n",
      "germ_df: ['GITTER_ID_100m', 'x_mp_100m', 'y_mp_100m', 'Einwohner', 'geometry']\n",
      "\n",
      "eu_df: ['GRD_ID', 'T', 'M', 'F', 'Y_LT15', 'Y_1564', 'Y_GE65', 'EMP', 'NAT', 'EU_OTH', 'OTH', 'SAME', 'CHG_IN', 'CHG_OUT', 'LAND_SURFACE', 'POPULATED', 'CONFIDENTIALSTATUS', 'geometry']\n",
      "\n",
      "italy_df: ['SEZ21_ID', 'POP21', 'FAM21', 'geometry']\n",
      "\n"
     ]
    }
   ],
   "source": [
    "# Column names\n",
    "print(f\"lcover_df: {lcover_df.columns}\")\n",
    "print()\n",
    "print(f\"comuni_df: {comuni_df.columns}\")\n",
    "print()\n",
    "print(f\"contr_df: {contr_df.columns}\")\n",
    "print()\n",
    "print(f\"germ_df: {germ_df.columns}\")\n",
    "print()\n",
    "print(f\"eu_df: {eu_df.columns}\")\n",
    "print()\n",
    "print(f\"italy_df: {italy_df.columns}\")\n",
    "print()"
   ]
  },
  {
   "cell_type": "code",
   "execution_count": 3,
   "id": "c8e41541-c64a-45f2-b411-e26e8a3f6308",
   "metadata": {
    "collapsed": true,
    "jupyter": {
     "outputs_hidden": true,
     "source_hidden": true
    }
   },
   "outputs": [
    {
     "name": "stderr",
     "output_type": "stream",
     "text": [
      "                                                                                \r"
     ]
    },
    {
     "name": "stdout",
     "output_type": "stream",
     "text": [
      "lcover_df: 2,217,765\n",
      "\n"
     ]
    },
    {
     "name": "stderr",
     "output_type": "stream",
     "text": [
      "                                                                                \r"
     ]
    },
    {
     "name": "stdout",
     "output_type": "stream",
     "text": [
      "comuni_df: 122,750\n",
      "\n"
     ]
    },
    {
     "name": "stderr",
     "output_type": "stream",
     "text": [
      "                                                                                \r"
     ]
    },
    {
     "name": "stdout",
     "output_type": "stream",
     "text": [
      "contr_df: 259\n",
      "\n",
      "germ_df: 3,088,037\n",
      "\n",
      "eu_df: 4,594,018\n",
      "\n",
      "italy_df: 756,259\n",
      "\n"
     ]
    }
   ],
   "source": [
    "# Counts\n",
    "\n",
    "print(f\"lcover_df: {lcover_df.count():,}\")\n",
    "print()\n",
    "print(f\"comuni_df: {comuni_df.count():,}\")\n",
    "print()\n",
    "print(f\"contr_df: {contr_df.count():,}\")\n",
    "print()\n",
    "print(f\"germ_df: {germ_df.count():,}\")\n",
    "print()\n",
    "print(f\"eu_df: {eu_df.count():,}\")\n",
    "print()\n",
    "print(f\"italy_df: {italy_df.count():,}\")\n",
    "print()"
   ]
  },
  {
   "cell_type": "code",
   "execution_count": null,
   "id": "c5927e79-d113-4162-af4c-3ac4a6a5f5e7",
   "metadata": {
    "jupyter": {
     "source_hidden": true
    }
   },
   "outputs": [],
   "source": [
    "# Spatial Partitioning and Index\n",
    "\n",
    "import time\n",
    "from sedona.utils.adapter import Adapter\n",
    "from sedona.core.enums import GridType, IndexType\n",
    "\n",
    "def sp_part_index(df, gcol=\"geometry\"):\n",
    "    start = time.time()\n",
    "    rdd = Adapter.toSpatialRdd(df, gcol)\n",
    "    rdd.analyze()\n",
    "    rdd.spatialPartitioning(GridType.QUADTREE)\n",
    "    # rdd.buildIndex(IndexType.QUADTREE, buildIndexOnSpatialPartitionedRDD=True)\n",
    "    df = Adapter.toDf(rdd, sedona)\n",
    "    end = time.time()\n",
    "    \n",
    "    elapsed = end - start\n",
    "    if elapsed <= 60:\n",
    "        print(f\"Elapsed time for {gcol}: {elapsed:.2f} sec\")\n",
    "    else:\n",
    "        print(f\"Elapsed time for {gcol}: {elapsed/60:.2f} min\")\n",
    "    return df\n",
    "\n",
    "lcover_df = sp_part_index(lcover_df)\n",
    "eu_df = sp_part_index(eu_df)\n",
    "italy_df = sp_part_index(italy_df)\n",
    "contr_df = sp_part_index(contr_df)\n",
    "comuni_df = sp_part_index(comuni_df)\n",
    "germ_df = sp_part_index(germ_df)"
   ]
  },
  {
   "cell_type": "code",
   "execution_count": 3,
   "id": "e3915cbb-72b0-49ba-a4f1-b37b4a58f4cd",
   "metadata": {
    "jupyter": {
     "source_hidden": true
    }
   },
   "outputs": [],
   "source": [
    "# Repartition MANUAL\n",
    "# sedona.sparkContext.setLogLevel(\"ON\")\n",
    "\n",
    "lcover_df = lcover_df.repartition(cores)\n",
    "eu_df = eu_df.repartition(cores)\n",
    "germ_df = germ_df.repartition(cores)\n",
    "italy_df = italy_df.repartition(cores)"
   ]
  },
  {
   "cell_type": "code",
   "execution_count": null,
   "id": "698fa154-8e54-4a13-a6e0-2319c9ef70d6",
   "metadata": {},
   "outputs": [
    {
     "name": "stderr",
     "output_type": "stream",
     "text": [
      "25/01/17 17:06:33 WARN JoinQuery: UseIndex is true, but no index exists. Will build index on the fly.\n",
      "[Stage 13:======================================================> (37 + 1) / 38]\r"
     ]
    }
   ],
   "source": [
    "# Join of LandCover with EU grids\n",
    "\n",
    "res = lcover_df.alias(\"a\").join(eu_df.alias(\"b\"), expr(\"ST_Intersects(a.geometry, b.geometry)\"))\n",
    "\n",
    "name = \"LandCover_EU\"\n",
    "start = time.time()\n",
    "res.write.mode(\"overwrite\").parquet(f\"./outputs/{name}.parquet\")\n",
    "end = time.time()\n",
    "\n",
    "if end - start <= 60:\n",
    "    print(f\"Elapsed time: {(end-start):.2f} sec\")\n",
    "else:\n",
    "    print(f\"Elapsed time: {(end-start)/60:.2f} min\") "
   ]
  },
  {
   "cell_type": "code",
   "execution_count": 8,
   "id": "cdefefb2-48e4-4bf4-8a2e-76e6465bdf5c",
   "metadata": {},
   "outputs": [
    {
     "name": "stdout",
     "output_type": "stream",
     "text": [
      "Elapsed time: 96.11 min\n"
     ]
    }
   ],
   "source": [
    "if end - start <= 60:\n",
    "    print(f\"Elapsed time: {(end-start):.2f} sec\")\n",
    "else:\n",
    "    print(f\"Elapsed time: {(end-start)/60:.2f} min\") "
   ]
  },
  {
   "cell_type": "code",
   "execution_count": null,
   "id": "affc7929-93e6-49d0-85ef-3bd86cf16eed",
   "metadata": {},
   "outputs": [
    {
     "name": "stderr",
     "output_type": "stream",
     "text": [
      "25/01/17 22:23:02 WARN JoinQuery: UseIndex is true, but no index exists. Will build index on the fly.\n",
      "[Stage 13:>                                                       (0 + 10) / 40]\r"
     ]
    }
   ],
   "source": [
    "# LandCover Self Join\n",
    "\n",
    "res = lcover_df.alias(\"a\").join(lcover_df.alias(\"b\"), expr(\"ST_Intersects(a.geometry, b.geometry)\"))\n",
    "\n",
    "name = \"LandCover_EU\"\n",
    "start = time.time()\n",
    "num_rows = res.count()\n",
    "# res.write.mode(\"overwrite\").parquet(f\"./outputs/{name}.parquet\")\n",
    "end = time.time()\n",
    "\n",
    "check_tim = end - start\n",
    "\n",
    "if end - start <= 60:\n",
    "    print(f\"Elapsed time: {(end-start):.2f} sec\")\n",
    "else:\n",
    "    print(f\"Elapsed time: {(end-start)/60:.2f} min\") "
   ]
  },
  {
   "cell_type": "code",
   "execution_count": 8,
   "id": "59cf92e6-22df-4154-aad0-6ef6ff3043eb",
   "metadata": {},
   "outputs": [
    {
     "name": "stderr",
     "output_type": "stream",
     "text": [
      "[Stage 70:=================>                                       (3 + 7) / 10]\r"
     ]
    },
    {
     "name": "stdout",
     "output_type": "stream",
     "text": [
      "Result: 4,531,770\n",
      "Elapsed time: 54.80 sec\n"
     ]
    },
    {
     "name": "stderr",
     "output_type": "stream",
     "text": [
      "                                                                                \r"
     ]
    }
   ],
   "source": [
    "# Countries X EU com\n",
    "\n",
    "res = comuni_df.alias(\"a\").join(contr_df.alias(\"b\"), expr(\"ST_Intersects(a.geom, b.geometry)\"))\n",
    "\n",
    "name = \"Countries_EUcom\"\n",
    "start = time.time()\n",
    "res.write.mode(\"overwrite\").parquet(f\"./outputs/{name}.parquet\")\n",
    "# print(f\"Result: {res.count():,}\")\n",
    "end = time.time()\n",
    "\n",
    "if end - start <= 60:\n",
    "    print(f\"Elapsed time: {(end-start):.2f} sec\")\n",
    "else:\n",
    "    print(f\"Elapsed time: {(end-start)/60:.2f} min\")"
   ]
  },
  {
   "cell_type": "code",
   "execution_count": 9,
   "id": "059cbb44-13c5-4a5d-8bd4-5189debecc0f",
   "metadata": {},
   "outputs": [
    {
     "name": "stderr",
     "output_type": "stream",
     "text": [
      "25/01/17 15:54:07 WARN JoinQuery: UseIndex is true, but no index exists. Will build index on the fly.\n",
      "[Stage 52:====================================================>   (14 + 1) / 15]\r"
     ]
    },
    {
     "name": "stdout",
     "output_type": "stream",
     "text": [
      "Result: 6,315,546\n",
      "Elapsed time: 25.69 sec\n"
     ]
    },
    {
     "name": "stderr",
     "output_type": "stream",
     "text": [
      "                                                                                \r"
     ]
    }
   ],
   "source": [
    "# EU Gr x EU Com\n",
    "\n",
    "res = eu_df.alias(\"a\").join(comuni_df.alias(\"b\"), expr(\"ST_Intersects(a.geometry, b.geometry)\"))\n",
    "\n",
    "name = \"EUgr_EUcom\"\n",
    "start = time.time()\n",
    "res.write.mode(\"overwrite\").parquet(f\"./outputs/{name}.parquet\")\n",
    "# print(f\"Result: {res.count():,}\")\n",
    "end = time.time()\n",
    "\n",
    "if end - start <= 60:\n",
    "    print(f\"Elapsed time: {(end-start):.2f} sec\")\n",
    "else:\n",
    "    print(f\"Elapsed time: {(end-start)/60:.2f} min\")\n",
    "    "
   ]
  },
  {
   "cell_type": "code",
   "execution_count": 5,
   "id": "fd2df2d4-ee7a-4cba-8ff2-e460ff295600",
   "metadata": {},
   "outputs": [
    {
     "name": "stderr",
     "output_type": "stream",
     "text": [
      "25/01/17 15:48:22 WARN JoinQuery: UseIndex is true, but no index exists. Will build index on the fly.\n",
      "[Stage 16:====================================================>   (14 + 1) / 15]\r"
     ]
    },
    {
     "name": "stdout",
     "output_type": "stream",
     "text": [
      "Result: 1,905,529\n",
      "Elapsed time: 1.08 min\n"
     ]
    },
    {
     "name": "stderr",
     "output_type": "stream",
     "text": [
      "                                                                                \r"
     ]
    }
   ],
   "source": [
    "# Italy x EU grids\n",
    "\n",
    "res = italy_df.alias(\"a\").join(eu_df.alias(\"b\"), expr(\"ST_Intersects(a.geometry, b.geometry)\"))\n",
    "\n",
    "name = \"IT_EUgr\"\n",
    "start = time.time()\n",
    "res.write.mode(\"overwrite\").parquet(f\"./outputs/{name}.parquet\")\n",
    "# print(f\"Result: {res.count():,}\")\n",
    "end = time.time()\n",
    "\n",
    "if end - start <= 60:\n",
    "    print(f\"Elapsed time: {(end-start):.2f} sec\")\n",
    "else:\n",
    "    print(f\"Elapsed time: {(end-start)/60:.2f} min\")\n",
    "    "
   ]
  },
  {
   "cell_type": "code",
   "execution_count": 7,
   "id": "39e17906-660a-45c2-92fe-0da2eebe00dd",
   "metadata": {},
   "outputs": [
    {
     "name": "stderr",
     "output_type": "stream",
     "text": [
      "25/01/17 15:52:19 WARN JoinQuery: UseIndex is true, but no index exists. Will build index on the fly.\n",
      "[Stage 34:===================================================>    (12 + 1) / 13]\r"
     ]
    },
    {
     "name": "stdout",
     "output_type": "stream",
     "text": [
      "Result: 913,081\n",
      "Elapsed time: 1.26 min\n"
     ]
    },
    {
     "name": "stderr",
     "output_type": "stream",
     "text": [
      "                                                                                \r"
     ]
    }
   ],
   "source": [
    "# Italy x EU COMUNI\n",
    "\n",
    "res = italy_df.alias(\"a\").join(comuni_df.alias(\"b\"), expr(\"ST_Intersects(a.geometry, b.geometry)\"))\n",
    "\n",
    "name = \"IT_EUcom\"\n",
    "start = time.time()\n",
    "res.write.mode(\"overwrite\").parquet(f\"./outputs/{name}.parquet\")\n",
    "# print(f\"Result: {res.count():,}\")\n",
    "end = time.time()\n",
    "\n",
    "if end - start <= 60:\n",
    "    print(f\"Elapsed time: {(end-start):.2f} sec\")\n",
    "else:\n",
    "    print(f\"Elapsed time: {(end-start)/60:.2f} min\")\n",
    "    "
   ]
  },
  {
   "cell_type": "code",
   "execution_count": 8,
   "id": "bfcc38db-9fe1-48c2-971f-e47a996087ea",
   "metadata": {},
   "outputs": [
    {
     "name": "stderr",
     "output_type": "stream",
     "text": [
      "25/01/17 16:06:16 WARN JoinQuery: UseIndex is true, but no index exists. Will build index on the fly.\n",
      "[Stage 73:====================================================>   (15 + 1) / 16]\r"
     ]
    },
    {
     "name": "stdout",
     "output_type": "stream",
     "text": [
      "Result: 4,786,653\n",
      "Elapsed time: 4.91 min\n"
     ]
    },
    {
     "name": "stderr",
     "output_type": "stream",
     "text": [
      "                                                                                \r"
     ]
    }
   ],
   "source": [
    "# Self join Italy\n",
    "\n",
    "res = italy_df.alias(\"a\").join(italy_df.alias(\"b\"), expr(\"ST_Intersects(a.geometry, b.geometry)\"))\n",
    "\n",
    "start = time.time()\n",
    "print(f\"Result: {res.count():,}\")\n",
    "end = time.time()\n",
    "\n",
    "if end - start <= 60:\n",
    "    print(f\"Elapsed time: {(end-start):.2f} sec\")\n",
    "else:\n",
    "    print(f\"Elapsed time: {(end-start)/60:.2f} min\")\n",
    "    "
   ]
  },
  {
   "cell_type": "code",
   "execution_count": null,
   "id": "d388cf34-76ef-4591-b992-ae28b13291a8",
   "metadata": {},
   "outputs": [],
   "source": []
  },
  {
   "cell_type": "code",
   "execution_count": null,
   "id": "795781aa-bc27-49bc-b8bf-d2b4dee1a38c",
   "metadata": {},
   "outputs": [],
   "source": []
  },
  {
   "cell_type": "code",
   "execution_count": null,
   "id": "29bffd50-198a-4ced-9c57-d2b89eb00bad",
   "metadata": {},
   "outputs": [],
   "source": []
  },
  {
   "cell_type": "code",
   "execution_count": null,
   "id": "122789a6-ac13-44a3-8aec-bf0e4ba05ff4",
   "metadata": {},
   "outputs": [],
   "source": [
    "# ================================================ GEOPANDAS ================================================ "
   ]
  },
  {
   "cell_type": "code",
   "execution_count": null,
   "id": "f65f7062-1248-4dd8-bade-0a3922377063",
   "metadata": {},
   "outputs": [],
   "source": []
  },
  {
   "cell_type": "code",
   "execution_count": null,
   "id": "4b014f14-1ee9-4149-9f6a-097b85d0dc25",
   "metadata": {},
   "outputs": [],
   "source": []
  },
  {
   "cell_type": "code",
   "execution_count": null,
   "id": "1bca1d59-af00-496a-88f2-1cc3ab60ab60",
   "metadata": {},
   "outputs": [],
   "source": []
  },
  {
   "cell_type": "code",
   "execution_count": 10,
   "id": "62c259e3-a2fe-4697-a19b-accac3059da7",
   "metadata": {},
   "outputs": [
    {
     "name": "stdout",
     "output_type": "stream",
     "text": [
      "Result: 4,786,653\n",
      "Elapsed time: 1.80 min\n"
     ]
    }
   ],
   "source": [
    "# Self Join Italy\n",
    "# Geopandas\n",
    "\n",
    "import pandas as pd\n",
    "import geopandas as gpd\n",
    "import time\n",
    "\n",
    "a = gpd.read_file(\"./data_Italy/merged/merged_pop_geom/merged.gpkg\")\n",
    "\n",
    "start = time.time()\n",
    "b = gpd.read_file(\"./data_Italy/merged/merged_pop_geom/merged.gpkg\")\n",
    "\n",
    "grids_enr = gpd.sjoin(a, b, how=\"left\", predicate=\"intersects\")\n",
    "print(f\"Result: {grids_enr.shape[0]:,}\")\n",
    "end = time.time()\n",
    "\n",
    "if end - start <= 60:\n",
    "    print(f\"Elapsed time: {(end-start):.2f} sec\")\n",
    "else:\n",
    "    print(f\"Elapsed time: {(end-start)/60:.2f} min\")"
   ]
  },
  {
   "cell_type": "code",
   "execution_count": 1,
   "id": "41b8aa5d-597e-408b-b37f-cae02f5aece5",
   "metadata": {},
   "outputs": [
    {
     "name": "stdout",
     "output_type": "stream",
     "text": [
      "Result: 1,905,542\n",
      "Elapsed time: 2.71 min\n"
     ]
    }
   ],
   "source": [
    "# EU Gr x Italy\n",
    "# Geopandas\n",
    "\n",
    "import pandas as pd\n",
    "import geopandas as gpd\n",
    "import time\n",
    "\n",
    "start = time.time()\n",
    "a = gpd.read_file(\"./data_Italy/merged/merged_pop_geom/merged.gpkg\")\n",
    "b = gpd.read_file(\"./data_EU/census_grid_EU/grids.gpkg\")\n",
    "\n",
    "grids_enr = gpd.sjoin(a, b, how=\"left\", predicate=\"intersects\")\n",
    "print(f\"Result: {grids_enr.shape[0]:,}\")\n",
    "end = time.time()\n",
    "\n",
    "if end - start <= 60:\n",
    "    print(f\"Elapsed time: {(end-start):.2f} sec\")\n",
    "else:\n",
    "    print(f\"Elapsed time: {(end-start)/60:.2f} min\")\n"
   ]
  },
  {
   "cell_type": "code",
   "execution_count": 11,
   "id": "8e737383-b231-473d-9701-743f30324e43",
   "metadata": {},
   "outputs": [
    {
     "name": "stdout",
     "output_type": "stream",
     "text": [
      "Result: 15,297,508\n",
      "Elapsed time: 6.74 min\n"
     ]
    }
   ],
   "source": [
    "# EU Gr x LandCover\n",
    "# Geopandas\n",
    "\n",
    "import pandas as pd\n",
    "import geopandas as gpd\n",
    "import time\n",
    "\n",
    "start = time.time()\n",
    "a = gpd.read_file(\"./data_Corine/land_cover_100m.gpkg\")\n",
    "b = gpd.read_file(\"./data_EU/census_grid_EU/grids.gpkg\")\n",
    "\n",
    "grids_enr = gpd.sjoin(a, b, how=\"left\", predicate=\"intersects\")\n",
    "print(f\"Result: {grids_enr.shape[0]:,}\")\n",
    "end = time.time()\n",
    "\n",
    "if end - start <= 60:\n",
    "    print(f\"Elapsed time: {(end-start):.2f} sec\")\n",
    "else:\n",
    "    print(f\"Elapsed time: {(end-start)/60:.2f} min\")\n"
   ]
  },
  {
   "cell_type": "code",
   "execution_count": null,
   "id": "8fdb210f-a188-4751-9405-bd4de2491d62",
   "metadata": {},
   "outputs": [],
   "source": [
    "# Comuni x LandCover\n",
    "# Geopandas\n",
    "\n",
    "import pandas as pd\n",
    "import geopandas as gpd\n",
    "import time\n",
    "\n",
    "start = time.time()\n",
    "a = gpd.read_file(\"./data_Corine/land_cover_100m.gpkg\")\n",
    "b = gpd.read_file(\"./data_EU/comuni_shp/\")\n",
    "\n",
    "grids_enr = gpd.sjoin(a, b, how=\"left\", predicate=\"intersects\")\n",
    "print(f\"Result: {grids_enr.shape[0]:,}\")\n",
    "end = time.time()\n",
    "\n",
    "if end - start <= 60:\n",
    "    print(f\"Elapsed time: {(end-start):.2f} sec\")\n",
    "else:\n",
    "    print(f\"Elapsed time: {(end-start)/60:.2f} min\")\n"
   ]
  },
  {
   "cell_type": "code",
   "execution_count": 2,
   "id": "3976b195-1b7b-4b20-99a7-b4c894861da4",
   "metadata": {},
   "outputs": [
    {
     "name": "stdout",
     "output_type": "stream",
     "text": [
      "Result: 12,804,697\n",
      "Elapsed time: 432.87 min\n"
     ]
    }
   ],
   "source": [
    "# LandCover x LandCover\n",
    "# Geopandas\n",
    "\n",
    "import pandas as pd\n",
    "import geopandas as gpd\n",
    "import time\n",
    "\n",
    "start = time.time()\n",
    "a = gpd.read_file(\"./data_Corine/land_cover_100m.gpkg\")\n",
    "b = gpd.read_file(\"./data_Corine/land_cover_100m.gpkg\")\n",
    "\n",
    "grids_enr = gpd.sjoin(a, b, how=\"left\", predicate=\"intersects\")\n",
    "print(f\"Result: {grids_enr.shape[0]:,}\")\n",
    "end = time.time()\n",
    "\n",
    "if end - start <= 60:\n",
    "    print(f\"Elapsed time: {(end-start):.2f} sec\")\n",
    "else:\n",
    "    print(f\"Elapsed time: {(end-start)/60:.2f} min\")\n"
   ]
  },
  {
   "cell_type": "code",
   "execution_count": null,
   "id": "09dbf537-485e-40ea-8890-e6e326f4911e",
   "metadata": {},
   "outputs": [],
   "source": [
    "from sedona.sql import utils"
   ]
  },
  {
   "cell_type": "code",
   "execution_count": null,
   "id": "6be48d27-e92b-4168-b258-5598b7574b70",
   "metadata": {},
   "outputs": [],
   "source": []
  },
  {
   "cell_type": "code",
   "execution_count": null,
   "id": "05f24e56-d3f2-434e-9750-289555b99079",
   "metadata": {},
   "outputs": [],
   "source": []
  },
  {
   "cell_type": "code",
   "execution_count": null,
   "id": "f4da32d9-d970-406d-9e3b-962fcc4a51ec",
   "metadata": {},
   "outputs": [],
   "source": []
  },
  {
   "cell_type": "code",
   "execution_count": null,
   "id": "9a661e85-741c-4e40-ac9a-3da2e50ee4b0",
   "metadata": {},
   "outputs": [],
   "source": []
  },
  {
   "cell_type": "code",
   "execution_count": null,
   "id": "d8cbdcd7-3f3c-4574-8c27-d5c4edcca997",
   "metadata": {},
   "outputs": [],
   "source": [
    "import geopandas as gpd\n",
    "import time\n",
    "\n",
    "s = time.time()\n",
    "gdf1 = gpd.read_file(\"./data_EU/census_grid_EU/grids.gpkg\", layer=\"census2021\")\n",
    "e = time.time()\n",
    "if e - s <= 60:\n",
    "    print(f\"READ: {(e-s):.2f} sec\")\n",
    "else:\n",
    "    print(f\"READ: {(e-s)/60:.2f} min\")\n",
    "gdf2 = gpd.read_file(\"./data_EU/countries_shp/\")\n",
    "\n",
    "print(gdf1.shape[0])\n",
    "\n",
    "s = time.time()\n",
    "grids_enr = gpd.sjoin(gdf1, gdf2, how=\"inner\", predicate=\"intersects\")\n",
    "e = time.time()\n",
    "if e - s <= 60:\n",
    "    print(f\"JOIN: {(e-s):.2f} sec\")\n",
    "else:\n",
    "    print(f\"JOIN: {(e-s)/60:.2f} min\")\n"
   ]
  },
  {
   "cell_type": "code",
   "execution_count": null,
   "id": "c7ad8848-a4a0-4dce-ae1f-c963e056ca05",
   "metadata": {},
   "outputs": [],
   "source": [
    "print(grids_enr.shape[0])"
   ]
  },
  {
   "cell_type": "code",
   "execution_count": null,
   "id": "d4ef44c0-5183-43c9-85a4-eac3ed712d20",
   "metadata": {},
   "outputs": [],
   "source": [
    "import geopandas as gpd \n",
    "\n",
    "gdf1 = gpd.read_file(\"./data_Italy/merged/merged_pop_geom/\")\n",
    "print(gdf1.crs)\n",
    "gdf1 = gdf1.to_crs(\"EPSG:3035\")\n",
    "print(gdf1.crs)\n",
    "# Save to GeoPackage\n",
    "gdf1.to_file(\"merged.gpkg\", driver=\"GPKG\", layer=\"italy_census\")\n",
    "\n",
    "\n"
   ]
  },
  {
   "cell_type": "code",
   "execution_count": null,
   "id": "dae20a6b-4b4c-4090-b2b2-a17cf05dd3b4",
   "metadata": {},
   "outputs": [],
   "source": [
    "gdf.to_file(\"IT_census.geojson\", driver=\"GeoJSON\")"
   ]
  }
 ],
 "metadata": {
  "kernelspec": {
   "display_name": "Python (sedona_venv)",
   "language": "python",
   "name": "sedona_venv"
  },
  "language_info": {
   "codemirror_mode": {
    "name": "ipython",
    "version": 3
   },
   "file_extension": ".py",
   "mimetype": "text/x-python",
   "name": "python",
   "nbconvert_exporter": "python",
   "pygments_lexer": "ipython3",
   "version": "3.12.3"
  }
 },
 "nbformat": 4,
 "nbformat_minor": 5
}
