{
 "cells": [
  {
   "cell_type": "markdown",
   "id": "58544783",
   "metadata": {},
   "source": []
  },
  {
   "cell_type": "code",
   "execution_count": 1,
   "id": "93b72f18-a15d-43e5-b68f-4722d4303458",
   "metadata": {
    "scrolled": true
   },
   "outputs": [
    {
     "name": "stderr",
     "output_type": "stream",
     "text": [
      "25/01/24 13:56:25 WARN Utils: Your hostname, marvin resolves to a loopback address: 127.0.1.1; using 172.20.27.4 instead (on interface eth0)\n",
      "25/01/24 13:56:25 WARN Utils: Set SPARK_LOCAL_IP if you need to bind to another address\n"
     ]
    },
    {
     "name": "stdout",
     "output_type": "stream",
     "text": [
      ":: loading settings :: url = jar:file:/data/homes_data/sudheer/benchmark_data/sedona_venv/lib/python3.12/site-packages/pyspark/jars/ivy-2.5.1.jar!/org/apache/ivy/core/settings/ivysettings.xml\n"
     ]
    },
    {
     "name": "stderr",
     "output_type": "stream",
     "text": [
      "Ivy Default Cache set to: /data/homes_data/sudheer/.ivy2/cache\n",
      "The jars for the packages stored in: /data/homes_data/sudheer/.ivy2/jars\n",
      "org.apache.sedona#sedona-spark-shaded-3.5_2.12 added as a dependency\n",
      "org.datasyslab#geotools-wrapper added as a dependency\n",
      ":: resolving dependencies :: org.apache.spark#spark-submit-parent-c1c99299-0529-44ed-9479-7c0a9ca91b9d;1.0\n",
      "\tconfs: [default]\n",
      "\tfound org.apache.sedona#sedona-spark-shaded-3.5_2.12;1.7.0 in central\n",
      "\tfound org.datasyslab#geotools-wrapper;1.7.0-28.5 in central\n",
      ":: resolution report :: resolve 202ms :: artifacts dl 9ms\n",
      "\t:: modules in use:\n",
      "\torg.apache.sedona#sedona-spark-shaded-3.5_2.12;1.7.0 from central in [default]\n",
      "\torg.datasyslab#geotools-wrapper;1.7.0-28.5 from central in [default]\n",
      "\t---------------------------------------------------------------------\n",
      "\t|                  |            modules            ||   artifacts   |\n",
      "\t|       conf       | number| search|dwnlded|evicted|| number|dwnlded|\n",
      "\t---------------------------------------------------------------------\n",
      "\t|      default     |   2   |   0   |   0   |   0   ||   2   |   0   |\n",
      "\t---------------------------------------------------------------------\n",
      ":: retrieving :: org.apache.spark#spark-submit-parent-c1c99299-0529-44ed-9479-7c0a9ca91b9d\n",
      "\tconfs: [default]\n",
      "\t0 artifacts copied, 2 already retrieved (0kB/6ms)\n",
      "25/01/24 13:56:26 WARN NativeCodeLoader: Unable to load native-hadoop library for your platform... using builtin-java classes where applicable\n",
      "Setting default log level to \"WARN\".\n",
      "To adjust logging level use sc.setLogLevel(newLevel). For SparkR, use setLogLevel(newLevel).\n",
      "                                                                                \r"
     ]
    }
   ],
   "source": [
    "from pyspark.sql import SparkSession\n",
    "from sedona.spark import *\n",
    "from pyspark.sql.functions import *\n",
    "import time\n",
    "\n",
    "config = SedonaContext.builder() .\\\n",
    "    config(\"spark.executor.memory\", \"26g\") .\\\n",
    "    config(\"spark.driver.memory\", \"24g\") .\\\n",
    "    config('spark.jars.packages',\n",
    "           'org.apache.sedona:sedona-spark-shaded-3.5_2.12:1.7.0,'\n",
    "           'org.datasyslab:geotools-wrapper:1.7.0-28.5'). \\\n",
    "    getOrCreate()\n",
    "\n",
    "sedona = SedonaContext.create(config)\n",
    "# sedona.sparkContext.setLogLevel(\"OFF\")\n",
    "cores = sedona.sparkContext.defaultParallelism"
   ]
  },
  {
   "cell_type": "code",
   "execution_count": 1,
   "id": "c4c00261-d856-4861-a862-05b793168ae3",
   "metadata": {
    "jupyter": {
     "source_hidden": true
    }
   },
   "outputs": [
    {
     "name": "stdout",
     "output_type": "stream",
     "text": [
      "Available layers: ['U2006_CLC2000_V2020_20u1']\n"
     ]
    }
   ],
   "source": []
  },
  {
   "cell_type": "code",
   "execution_count": 2,
   "id": "5d0899ab-4b89-4699-8386-0b5a82948c57",
   "metadata": {},
   "outputs": [
    {
     "name": "stderr",
     "output_type": "stream",
     "text": [
      "                                                                                \r"
     ]
    }
   ],
   "source": [
    "# # Check layers in .gpkg\n",
    "# import geopandas as gpd\n",
    "# from fiona import listlayers\n",
    "\n",
    "# path = \"./data_Corine/land_cover_100m.gpkg\"\n",
    "\n",
    "# print(\"Available layers:\", listlayers(path))"
   ]
  },
  {
   "cell_type": "code",
   "execution_count": 2,
   "id": "b8d4185b",
   "metadata": {},
   "outputs": [
    {
     "name": "stderr",
     "output_type": "stream",
     "text": [
      "                                                                                \r"
     ]
    }
   ],
   "source": [
    "# Read files\n",
    "# Everything in: EPSG:3035\n",
    "\n",
    "lcover_path = \"./data_Corine/land_cover_100m.parquet\"\n",
    "EU_cens_path = \"./data_EU/census_grid_EU/grids.parquet\"\n",
    "italy_cens_path = \"./data_Italy/merged/merged_pop_geom/merged.parquet\"\n",
    "germ_path = \"./data_Germany/germ_grid.parquet\"\n",
    "contr_path = \"./data_EU/countries_shp/\"\n",
    "comuni_path = \"./data_EU/comuni_shp/\"\n",
    "\n",
    "\n",
    "\n",
    "# lcover_df = sedona.read.format(\"geoparquet\").option(\"legacyMode\", \"true\").load(lcover_path)\n",
    "eu_df = sedona.read.format(\"geoparquet\").option(\"legacyMode\", \"true\").load(EU_cens_path)\n",
    "# italy_df = sedona.read.format(\"geoparquet\").option(\"legacyMode\", \"true\").load(italy_cens_path)\n",
    "# italy_df = italy_df.withColumn(\"geometry\", expr(\"ST_MakeValid(geometry)\"))\n",
    "# germ_df = sedona.read.format(\"geoparquet\").option(\"legacyMode\", \"true\").load(germ_path)\n",
    "# lcover_df = sedona.read.format(\"geopackage\").option(\"tableName\", \"U2006_CLC2000_V2020_20u1\").load(lcover_path)\n",
    "# eu_df = sedona.read.format(\"geopackage\").option(\"tableName\", \"census2021\").load(EU_cens_path)\n",
    "# italy_df = sedona.read.format(\"geopackage\").option(\"tableName\", \"italy_census\").load(italy_cens_path)\n",
    "# germ_df = sedona.read.format(\"geopackage\").option(\"tableName\", \"census_grid\").load(germ_path)\n",
    "\n",
    "contr_df = sedona.read.format(\"shapefile\").load(contr_path)\n",
    "comuni_df = sedona.read.format(\"shapefile\").load(comuni_path)\n",
    "\n"
   ]
  },
  {
   "cell_type": "code",
   "execution_count": null,
   "id": "fcdbe734",
   "metadata": {},
   "outputs": [],
   "source": []
  },
  {
   "cell_type": "code",
   "execution_count": 3,
   "id": "7bf181a4-47a2-49a7-baf1-472f9b0a989d",
   "metadata": {
    "collapsed": true,
    "jupyter": {
     "outputs_hidden": true,
     "source_hidden": true
    }
   },
   "outputs": [
    {
     "name": "stdout",
     "output_type": "stream",
     "text": [
      "lcover_df: ['code_00', 'ID', 'Remark', 'Area_Ha', 'geometry']\n",
      "\n",
      "comuni_df: ['geometry', 'COMM_ID', 'CNTR_ID', 'CNTR_CODE', 'COMM_NAME', 'NAME_ASCI', 'TRUE_FLAG', 'NSI_CODE', 'NAME_NSI', 'NAME_LATN', 'NUTS_CODE', 'FID']\n",
      "\n",
      "contr_df: ['geometry', 'CNTR_ID', 'CNTR_NAME', 'NAME_ENGL', 'NAME_FREN', 'ISO3_CODE', 'SVRG_UN', 'CAPT', 'EU_STAT', 'EFTA_STAT', 'CC_STAT', 'NAME_GERM']\n",
      "\n",
      "germ_df: ['GITTER_ID_100m', 'x_mp_100m', 'y_mp_100m', 'Einwohner', 'geometry']\n",
      "\n",
      "eu_df: ['GRD_ID', 'T', 'M', 'F', 'Y_LT15', 'Y_1564', 'Y_GE65', 'EMP', 'NAT', 'EU_OTH', 'OTH', 'SAME', 'CHG_IN', 'CHG_OUT', 'LAND_SURFACE', 'POPULATED', 'CONFIDENTIALSTATUS', 'geometry']\n",
      "\n",
      "italy_df: ['SEZ21_ID', 'POP21', 'FAM21', 'geometry']\n",
      "\n"
     ]
    }
   ],
   "source": [
    "# Column names\n",
    "print(f\"lcover_df: {lcover_df.columns}\")\n",
    "print()\n",
    "print(f\"comuni_df: {comuni_df.columns}\")\n",
    "print()\n",
    "print(f\"contr_df: {contr_df.columns}\")\n",
    "print()\n",
    "print(f\"germ_df: {germ_df.columns}\")\n",
    "print()\n",
    "print(f\"eu_df: {eu_df.columns}\")\n",
    "print()\n",
    "print(f\"italy_df: {italy_df.columns}\")\n",
    "print()"
   ]
  },
  {
   "cell_type": "code",
   "execution_count": 3,
   "id": "e3915cbb-72b0-49ba-a4f1-b37b4a58f4cd",
   "metadata": {
    "jupyter": {
     "source_hidden": true
    }
   },
   "outputs": [],
   "source": [
    "# Join, Overlap geom, Intersection ratio and Export\n",
    "\n",
    "from contextlib import contextmanager\n",
    "from pyspark.storagelevel import StorageLevel\n",
    "\n",
    "@contextmanager\n",
    "def get_time(task_name):\n",
    "    # print(f\"{task_name}\", end=\" \", flush=True)\n",
    "    start = time.time()\n",
    "    yield\n",
    "    elapsed = time.time() - start\n",
    "\n",
    "    print(f\"{task_name}... DONE in {(elapsed/60):.2f} min\" \\\n",
    "          if elapsed >= 60 else f\"{task_name}... DONE in {elapsed:.2f} sec\")\n",
    "\n",
    "\n",
    "def join_chey(df1, df2, pred= \"ST_Intersects\", create_geom=False, cache=False, export=False, name=\"unnamed\", df2_grid=None):\n",
    "    \"\"\"\n",
    "    Join, Overlap geom, Intersection ratio and Export\n",
    "    \n",
    "    \"\"\"\n",
    "    \n",
    "    if not create_geom:\n",
    "        res = df1.alias(\"a\") \\\n",
    "            .join(df2.alias(\"b\"), expr(f\"{pred}(a.geometry, b.geometry)\")) \\\n",
    "            .select(\n",
    "                *[f\"a.{c}\" for c in df1.columns],\n",
    "                *[f\"b.{c}\" for c in df2.columns if c != \"geometry\" and c not in df1.columns]\n",
    "            )\n",
    "        if export:\n",
    "            with get_time(f\"Exporting to ./outputs/{name}\"):\n",
    "                res = res.repartition(1)\n",
    "                path = \"./outputs\"\n",
    "                res.write.mode(\"overwrite\").format(\"geoparquet\").save(f\"{path}/\" + f\"/{name}\")\n",
    "        return res\n",
    "    \n",
    "    else:\n",
    "        if df2_grid is not None and df2_grid > 0:\n",
    "            df_2_area = df2_grid**2\n",
    "            res = df1.alias(\"a\") \\\n",
    "                .join(df2.alias(\"b\"), expr(f\"{pred}(a.geometry, b.geometry)\")) \\\n",
    "                .select(\n",
    "                    expr(\"ST_Intersection(a.geometry, b.geometry)\").alias(\"geometry\"),\n",
    "                    *[f\"a.{c}\" for c in df1.columns if c != \"geometry\"],\n",
    "                    *[f\"b.{c}\" for c in df2.columns if c != \"geometry\"]\n",
    "                ) \\\n",
    "                .withColumn(\"int_ratio\", expr(f\"ST_Area(geometry) / {df_2_area}\"))\n",
    "\n",
    "        else:\n",
    "            res = df1.alias(\"a\") \\\n",
    "                .join(df2.alias(\"b\"), expr(f\"{pred}(a.geometry, b.geometry)\")) \\\n",
    "                .select(\n",
    "                    expr(\"ST_Intersection(a.geometry, b.geometry)\").alias(\"geometry\"),\n",
    "                    *[f\"a.{c}\" for c in df1.columns if c != \"geometry\"], \n",
    "                    expr(\"b.geometry\").alias(\"b_geom\"),\n",
    "                    *[f\"b.{c}\" for c in df2.columns if c != \"geometry\"]\n",
    "                ) \\\n",
    "                .withColumn(\"int_ratio\", expr(\"ST_Area(geometry) / ST_Area(b_geom)\")) \\\n",
    "                .drop(\"b_geom\")\n",
    "        \n",
    "        if cache:\n",
    "            if res.storageLevel != StorageLevel.NONE:\n",
    "                res.unpersist()\n",
    "            res.cache()\n",
    "            if not export:\n",
    "                res.count()\n",
    "        \n",
    "        if export:\n",
    "            # res = res.repartition(1)\n",
    "            path = \"./outputs\"\n",
    "            res.write.mode(\"overwrite\").format(\"geoparquet\").save(f\"{path}/\" + f\"/{name}\")\n",
    "        \n",
    "        return res"
   ]
  },
  {
   "cell_type": "code",
   "execution_count": 3,
   "id": "b57b7074",
   "metadata": {},
   "outputs": [
    {
     "name": "stderr",
     "output_type": "stream",
     "text": [
      "ERROR:root:KeyboardInterrupt while sending command.                (5 + 5) / 10]\n",
      "Traceback (most recent call last):\n",
      "  File \"/data/homes_data/sudheer/benchmark_data/sedona_venv/lib/python3.12/site-packages/py4j/java_gateway.py\", line 1038, in send_command\n",
      "    response = connection.send_command(command)\n",
      "               ^^^^^^^^^^^^^^^^^^^^^^^^^^^^^^^^\n",
      "  File \"/data/homes_data/sudheer/benchmark_data/sedona_venv/lib/python3.12/site-packages/py4j/clientserver.py\", line 511, in send_command\n",
      "    answer = smart_decode(self.stream.readline()[:-1])\n",
      "                          ^^^^^^^^^^^^^^^^^^^^^^\n",
      "  File \"/opt/conda/lib/python3.12/socket.py\", line 707, in readinto\n",
      "    return self._sock.recv_into(b)\n",
      "           ^^^^^^^^^^^^^^^^^^^^^^^\n",
      "KeyboardInterrupt\n"
     ]
    },
    {
     "ename": "KeyboardInterrupt",
     "evalue": "",
     "output_type": "error",
     "traceback": [
      "\u001b[0;31m---------------------------------------------------------------------------\u001b[0m",
      "\u001b[0;31mKeyboardInterrupt\u001b[0m                         Traceback (most recent call last)",
      "Cell \u001b[0;32mIn[3], line 3\u001b[0m\n\u001b[1;32m      1\u001b[0m contr_df\u001b[38;5;241m.\u001b[39mrepartition(cores)\n\u001b[1;32m      2\u001b[0m res \u001b[38;5;241m=\u001b[39m contr_df\u001b[38;5;241m.\u001b[39malias(\u001b[38;5;124m\"\u001b[39m\u001b[38;5;124ma\u001b[39m\u001b[38;5;124m\"\u001b[39m)\u001b[38;5;241m.\u001b[39mjoin(eu_df\u001b[38;5;241m.\u001b[39malias(\u001b[38;5;124m\"\u001b[39m\u001b[38;5;124mb\u001b[39m\u001b[38;5;124m\"\u001b[39m), expr(\u001b[38;5;124m\"\u001b[39m\u001b[38;5;124mST_Relate(a.geometry, b.geometry, \u001b[39m\u001b[38;5;124m'\u001b[39m\u001b[38;5;124mT********\u001b[39m\u001b[38;5;124m'\u001b[39m\u001b[38;5;124m)\u001b[39m\u001b[38;5;124m\"\u001b[39m))\u001b[38;5;241m.\u001b[39mselect(\u001b[38;5;124m\"\u001b[39m\u001b[38;5;124ma.*\u001b[39m\u001b[38;5;124m\"\u001b[39m, \u001b[38;5;124m\"\u001b[39m\u001b[38;5;124mb.*\u001b[39m\u001b[38;5;124m\"\u001b[39m) \n\u001b[0;32m----> 3\u001b[0m \u001b[38;5;28mprint\u001b[39m(\u001b[43mres\u001b[49m\u001b[38;5;241;43m.\u001b[39;49m\u001b[43mcount\u001b[49m\u001b[43m(\u001b[49m\u001b[43m)\u001b[49m)\n\u001b[1;32m      4\u001b[0m res\u001b[38;5;241m.\u001b[39mcache()\n",
      "File \u001b[0;32m~/benchmark_data/sedona_venv/lib/python3.12/site-packages/pyspark/sql/dataframe.py:1240\u001b[0m, in \u001b[0;36mDataFrame.count\u001b[0;34m(self)\u001b[0m\n\u001b[1;32m   1217\u001b[0m \u001b[38;5;28;01mdef\u001b[39;00m\u001b[38;5;250m \u001b[39m\u001b[38;5;21mcount\u001b[39m(\u001b[38;5;28mself\u001b[39m) \u001b[38;5;241m-\u001b[39m\u001b[38;5;241m>\u001b[39m \u001b[38;5;28mint\u001b[39m:\n\u001b[1;32m   1218\u001b[0m \u001b[38;5;250m    \u001b[39m\u001b[38;5;124;03m\"\"\"Returns the number of rows in this :class:`DataFrame`.\u001b[39;00m\n\u001b[1;32m   1219\u001b[0m \n\u001b[1;32m   1220\u001b[0m \u001b[38;5;124;03m    .. versionadded:: 1.3.0\u001b[39;00m\n\u001b[0;32m   (...)\u001b[0m\n\u001b[1;32m   1238\u001b[0m \u001b[38;5;124;03m    3\u001b[39;00m\n\u001b[1;32m   1239\u001b[0m \u001b[38;5;124;03m    \"\"\"\u001b[39;00m\n\u001b[0;32m-> 1240\u001b[0m     \u001b[38;5;28;01mreturn\u001b[39;00m \u001b[38;5;28mint\u001b[39m(\u001b[38;5;28;43mself\u001b[39;49m\u001b[38;5;241;43m.\u001b[39;49m\u001b[43m_jdf\u001b[49m\u001b[38;5;241;43m.\u001b[39;49m\u001b[43mcount\u001b[49m\u001b[43m(\u001b[49m\u001b[43m)\u001b[49m)\n",
      "File \u001b[0;32m~/benchmark_data/sedona_venv/lib/python3.12/site-packages/py4j/java_gateway.py:1321\u001b[0m, in \u001b[0;36mJavaMember.__call__\u001b[0;34m(self, *args)\u001b[0m\n\u001b[1;32m   1314\u001b[0m args_command, temp_args \u001b[38;5;241m=\u001b[39m \u001b[38;5;28mself\u001b[39m\u001b[38;5;241m.\u001b[39m_build_args(\u001b[38;5;241m*\u001b[39margs)\n\u001b[1;32m   1316\u001b[0m command \u001b[38;5;241m=\u001b[39m proto\u001b[38;5;241m.\u001b[39mCALL_COMMAND_NAME \u001b[38;5;241m+\u001b[39m\\\n\u001b[1;32m   1317\u001b[0m     \u001b[38;5;28mself\u001b[39m\u001b[38;5;241m.\u001b[39mcommand_header \u001b[38;5;241m+\u001b[39m\\\n\u001b[1;32m   1318\u001b[0m     args_command \u001b[38;5;241m+\u001b[39m\\\n\u001b[1;32m   1319\u001b[0m     proto\u001b[38;5;241m.\u001b[39mEND_COMMAND_PART\n\u001b[0;32m-> 1321\u001b[0m answer \u001b[38;5;241m=\u001b[39m \u001b[38;5;28;43mself\u001b[39;49m\u001b[38;5;241;43m.\u001b[39;49m\u001b[43mgateway_client\u001b[49m\u001b[38;5;241;43m.\u001b[39;49m\u001b[43msend_command\u001b[49m\u001b[43m(\u001b[49m\u001b[43mcommand\u001b[49m\u001b[43m)\u001b[49m\n\u001b[1;32m   1322\u001b[0m return_value \u001b[38;5;241m=\u001b[39m get_return_value(\n\u001b[1;32m   1323\u001b[0m     answer, \u001b[38;5;28mself\u001b[39m\u001b[38;5;241m.\u001b[39mgateway_client, \u001b[38;5;28mself\u001b[39m\u001b[38;5;241m.\u001b[39mtarget_id, \u001b[38;5;28mself\u001b[39m\u001b[38;5;241m.\u001b[39mname)\n\u001b[1;32m   1325\u001b[0m \u001b[38;5;28;01mfor\u001b[39;00m temp_arg \u001b[38;5;129;01min\u001b[39;00m temp_args:\n",
      "File \u001b[0;32m~/benchmark_data/sedona_venv/lib/python3.12/site-packages/py4j/java_gateway.py:1038\u001b[0m, in \u001b[0;36mGatewayClient.send_command\u001b[0;34m(self, command, retry, binary)\u001b[0m\n\u001b[1;32m   1036\u001b[0m connection \u001b[38;5;241m=\u001b[39m \u001b[38;5;28mself\u001b[39m\u001b[38;5;241m.\u001b[39m_get_connection()\n\u001b[1;32m   1037\u001b[0m \u001b[38;5;28;01mtry\u001b[39;00m:\n\u001b[0;32m-> 1038\u001b[0m     response \u001b[38;5;241m=\u001b[39m \u001b[43mconnection\u001b[49m\u001b[38;5;241;43m.\u001b[39;49m\u001b[43msend_command\u001b[49m\u001b[43m(\u001b[49m\u001b[43mcommand\u001b[49m\u001b[43m)\u001b[49m\n\u001b[1;32m   1039\u001b[0m     \u001b[38;5;28;01mif\u001b[39;00m binary:\n\u001b[1;32m   1040\u001b[0m         \u001b[38;5;28;01mreturn\u001b[39;00m response, \u001b[38;5;28mself\u001b[39m\u001b[38;5;241m.\u001b[39m_create_connection_guard(connection)\n",
      "File \u001b[0;32m~/benchmark_data/sedona_venv/lib/python3.12/site-packages/py4j/clientserver.py:511\u001b[0m, in \u001b[0;36mClientServerConnection.send_command\u001b[0;34m(self, command)\u001b[0m\n\u001b[1;32m    509\u001b[0m \u001b[38;5;28;01mtry\u001b[39;00m:\n\u001b[1;32m    510\u001b[0m     \u001b[38;5;28;01mwhile\u001b[39;00m \u001b[38;5;28;01mTrue\u001b[39;00m:\n\u001b[0;32m--> 511\u001b[0m         answer \u001b[38;5;241m=\u001b[39m smart_decode(\u001b[38;5;28;43mself\u001b[39;49m\u001b[38;5;241;43m.\u001b[39;49m\u001b[43mstream\u001b[49m\u001b[38;5;241;43m.\u001b[39;49m\u001b[43mreadline\u001b[49m\u001b[43m(\u001b[49m\u001b[43m)\u001b[49m[:\u001b[38;5;241m-\u001b[39m\u001b[38;5;241m1\u001b[39m])\n\u001b[1;32m    512\u001b[0m         logger\u001b[38;5;241m.\u001b[39mdebug(\u001b[38;5;124m\"\u001b[39m\u001b[38;5;124mAnswer received: \u001b[39m\u001b[38;5;132;01m{0}\u001b[39;00m\u001b[38;5;124m\"\u001b[39m\u001b[38;5;241m.\u001b[39mformat(answer))\n\u001b[1;32m    513\u001b[0m         \u001b[38;5;66;03m# Happens when a the other end is dead. There might be an empty\u001b[39;00m\n\u001b[1;32m    514\u001b[0m         \u001b[38;5;66;03m# answer before the socket raises an error.\u001b[39;00m\n",
      "File \u001b[0;32m/opt/conda/lib/python3.12/socket.py:707\u001b[0m, in \u001b[0;36mSocketIO.readinto\u001b[0;34m(self, b)\u001b[0m\n\u001b[1;32m    705\u001b[0m \u001b[38;5;28;01mwhile\u001b[39;00m \u001b[38;5;28;01mTrue\u001b[39;00m:\n\u001b[1;32m    706\u001b[0m     \u001b[38;5;28;01mtry\u001b[39;00m:\n\u001b[0;32m--> 707\u001b[0m         \u001b[38;5;28;01mreturn\u001b[39;00m \u001b[38;5;28;43mself\u001b[39;49m\u001b[38;5;241;43m.\u001b[39;49m\u001b[43m_sock\u001b[49m\u001b[38;5;241;43m.\u001b[39;49m\u001b[43mrecv_into\u001b[49m\u001b[43m(\u001b[49m\u001b[43mb\u001b[49m\u001b[43m)\u001b[49m\n\u001b[1;32m    708\u001b[0m     \u001b[38;5;28;01mexcept\u001b[39;00m timeout:\n\u001b[1;32m    709\u001b[0m         \u001b[38;5;28mself\u001b[39m\u001b[38;5;241m.\u001b[39m_timeout_occurred \u001b[38;5;241m=\u001b[39m \u001b[38;5;28;01mTrue\u001b[39;00m\n",
      "\u001b[0;31mKeyboardInterrupt\u001b[0m: "
     ]
    },
    {
     "name": "stderr",
     "output_type": "stream",
     "text": [
      "[Stage 7:==============================================>           (8 + 2) / 10]\r"
     ]
    }
   ],
   "source": [
    "contr_df.repartition(cores)\n",
    "res = contr_df.alias(\"a\").join(eu_df.alias(\"b\"), expr(\"ST_Relate(a.geometry, b.geometry, 'T********')\")).select(\"a.*\", \"b.*\") \n",
    "print(res.count())\n",
    "res.cache()"
   ]
  },
  {
   "cell_type": "code",
   "execution_count": 6,
   "id": "35340358",
   "metadata": {},
   "outputs": [
    {
     "name": "stderr",
     "output_type": "stream",
     "text": [
      "25/01/24 13:30:36 WARN SparkStringUtils: Truncated the string representation of a plan since it was too large. This behavior can be adjusted by setting 'spark.sql.debug.maxToStringFields'.\n",
      "ERROR:root:KeyboardInterrupt while sending command.                (5 + 5) / 10]\n",
      "Traceback (most recent call last):\n",
      "  File \"/data/homes_data/sudheer/benchmark_data/sedona_venv/lib/python3.12/site-packages/py4j/java_gateway.py\", line 1038, in send_command\n",
      "    response = connection.send_command(command)\n",
      "               ^^^^^^^^^^^^^^^^^^^^^^^^^^^^^^^^\n",
      "  File \"/data/homes_data/sudheer/benchmark_data/sedona_venv/lib/python3.12/site-packages/py4j/clientserver.py\", line 511, in send_command\n",
      "    answer = smart_decode(self.stream.readline()[:-1])\n",
      "                          ^^^^^^^^^^^^^^^^^^^^^^\n",
      "  File \"/opt/conda/lib/python3.12/socket.py\", line 707, in readinto\n",
      "    return self._sock.recv_into(b)\n",
      "           ^^^^^^^^^^^^^^^^^^^^^^^\n",
      "KeyboardInterrupt\n"
     ]
    },
    {
     "ename": "KeyboardInterrupt",
     "evalue": "",
     "output_type": "error",
     "traceback": [
      "\u001b[0;31m---------------------------------------------------------------------------\u001b[0m",
      "\u001b[0;31mKeyboardInterrupt\u001b[0m                         Traceback (most recent call last)",
      "Cell \u001b[0;32mIn[6], line 1\u001b[0m\n\u001b[0;32m----> 1\u001b[0m \u001b[38;5;28mprint\u001b[39m(\u001b[43mres\u001b[49m\u001b[38;5;241;43m.\u001b[39;49m\u001b[43mcount\u001b[49m\u001b[43m(\u001b[49m\u001b[43m)\u001b[49m)\n",
      "File \u001b[0;32m~/benchmark_data/sedona_venv/lib/python3.12/site-packages/pyspark/sql/dataframe.py:1240\u001b[0m, in \u001b[0;36mDataFrame.count\u001b[0;34m(self)\u001b[0m\n\u001b[1;32m   1217\u001b[0m \u001b[38;5;28;01mdef\u001b[39;00m\u001b[38;5;250m \u001b[39m\u001b[38;5;21mcount\u001b[39m(\u001b[38;5;28mself\u001b[39m) \u001b[38;5;241m-\u001b[39m\u001b[38;5;241m>\u001b[39m \u001b[38;5;28mint\u001b[39m:\n\u001b[1;32m   1218\u001b[0m \u001b[38;5;250m    \u001b[39m\u001b[38;5;124;03m\"\"\"Returns the number of rows in this :class:`DataFrame`.\u001b[39;00m\n\u001b[1;32m   1219\u001b[0m \n\u001b[1;32m   1220\u001b[0m \u001b[38;5;124;03m    .. versionadded:: 1.3.0\u001b[39;00m\n\u001b[0;32m   (...)\u001b[0m\n\u001b[1;32m   1238\u001b[0m \u001b[38;5;124;03m    3\u001b[39;00m\n\u001b[1;32m   1239\u001b[0m \u001b[38;5;124;03m    \"\"\"\u001b[39;00m\n\u001b[0;32m-> 1240\u001b[0m     \u001b[38;5;28;01mreturn\u001b[39;00m \u001b[38;5;28mint\u001b[39m(\u001b[38;5;28;43mself\u001b[39;49m\u001b[38;5;241;43m.\u001b[39;49m\u001b[43m_jdf\u001b[49m\u001b[38;5;241;43m.\u001b[39;49m\u001b[43mcount\u001b[49m\u001b[43m(\u001b[49m\u001b[43m)\u001b[49m)\n",
      "File \u001b[0;32m~/benchmark_data/sedona_venv/lib/python3.12/site-packages/py4j/java_gateway.py:1321\u001b[0m, in \u001b[0;36mJavaMember.__call__\u001b[0;34m(self, *args)\u001b[0m\n\u001b[1;32m   1314\u001b[0m args_command, temp_args \u001b[38;5;241m=\u001b[39m \u001b[38;5;28mself\u001b[39m\u001b[38;5;241m.\u001b[39m_build_args(\u001b[38;5;241m*\u001b[39margs)\n\u001b[1;32m   1316\u001b[0m command \u001b[38;5;241m=\u001b[39m proto\u001b[38;5;241m.\u001b[39mCALL_COMMAND_NAME \u001b[38;5;241m+\u001b[39m\\\n\u001b[1;32m   1317\u001b[0m     \u001b[38;5;28mself\u001b[39m\u001b[38;5;241m.\u001b[39mcommand_header \u001b[38;5;241m+\u001b[39m\\\n\u001b[1;32m   1318\u001b[0m     args_command \u001b[38;5;241m+\u001b[39m\\\n\u001b[1;32m   1319\u001b[0m     proto\u001b[38;5;241m.\u001b[39mEND_COMMAND_PART\n\u001b[0;32m-> 1321\u001b[0m answer \u001b[38;5;241m=\u001b[39m \u001b[38;5;28;43mself\u001b[39;49m\u001b[38;5;241;43m.\u001b[39;49m\u001b[43mgateway_client\u001b[49m\u001b[38;5;241;43m.\u001b[39;49m\u001b[43msend_command\u001b[49m\u001b[43m(\u001b[49m\u001b[43mcommand\u001b[49m\u001b[43m)\u001b[49m\n\u001b[1;32m   1322\u001b[0m return_value \u001b[38;5;241m=\u001b[39m get_return_value(\n\u001b[1;32m   1323\u001b[0m     answer, \u001b[38;5;28mself\u001b[39m\u001b[38;5;241m.\u001b[39mgateway_client, \u001b[38;5;28mself\u001b[39m\u001b[38;5;241m.\u001b[39mtarget_id, \u001b[38;5;28mself\u001b[39m\u001b[38;5;241m.\u001b[39mname)\n\u001b[1;32m   1325\u001b[0m \u001b[38;5;28;01mfor\u001b[39;00m temp_arg \u001b[38;5;129;01min\u001b[39;00m temp_args:\n",
      "File \u001b[0;32m~/benchmark_data/sedona_venv/lib/python3.12/site-packages/py4j/java_gateway.py:1038\u001b[0m, in \u001b[0;36mGatewayClient.send_command\u001b[0;34m(self, command, retry, binary)\u001b[0m\n\u001b[1;32m   1036\u001b[0m connection \u001b[38;5;241m=\u001b[39m \u001b[38;5;28mself\u001b[39m\u001b[38;5;241m.\u001b[39m_get_connection()\n\u001b[1;32m   1037\u001b[0m \u001b[38;5;28;01mtry\u001b[39;00m:\n\u001b[0;32m-> 1038\u001b[0m     response \u001b[38;5;241m=\u001b[39m \u001b[43mconnection\u001b[49m\u001b[38;5;241;43m.\u001b[39;49m\u001b[43msend_command\u001b[49m\u001b[43m(\u001b[49m\u001b[43mcommand\u001b[49m\u001b[43m)\u001b[49m\n\u001b[1;32m   1039\u001b[0m     \u001b[38;5;28;01mif\u001b[39;00m binary:\n\u001b[1;32m   1040\u001b[0m         \u001b[38;5;28;01mreturn\u001b[39;00m response, \u001b[38;5;28mself\u001b[39m\u001b[38;5;241m.\u001b[39m_create_connection_guard(connection)\n",
      "File \u001b[0;32m~/benchmark_data/sedona_venv/lib/python3.12/site-packages/py4j/clientserver.py:511\u001b[0m, in \u001b[0;36mClientServerConnection.send_command\u001b[0;34m(self, command)\u001b[0m\n\u001b[1;32m    509\u001b[0m \u001b[38;5;28;01mtry\u001b[39;00m:\n\u001b[1;32m    510\u001b[0m     \u001b[38;5;28;01mwhile\u001b[39;00m \u001b[38;5;28;01mTrue\u001b[39;00m:\n\u001b[0;32m--> 511\u001b[0m         answer \u001b[38;5;241m=\u001b[39m smart_decode(\u001b[38;5;28;43mself\u001b[39;49m\u001b[38;5;241;43m.\u001b[39;49m\u001b[43mstream\u001b[49m\u001b[38;5;241;43m.\u001b[39;49m\u001b[43mreadline\u001b[49m\u001b[43m(\u001b[49m\u001b[43m)\u001b[49m[:\u001b[38;5;241m-\u001b[39m\u001b[38;5;241m1\u001b[39m])\n\u001b[1;32m    512\u001b[0m         logger\u001b[38;5;241m.\u001b[39mdebug(\u001b[38;5;124m\"\u001b[39m\u001b[38;5;124mAnswer received: \u001b[39m\u001b[38;5;132;01m{0}\u001b[39;00m\u001b[38;5;124m\"\u001b[39m\u001b[38;5;241m.\u001b[39mformat(answer))\n\u001b[1;32m    513\u001b[0m         \u001b[38;5;66;03m# Happens when a the other end is dead. There might be an empty\u001b[39;00m\n\u001b[1;32m    514\u001b[0m         \u001b[38;5;66;03m# answer before the socket raises an error.\u001b[39;00m\n",
      "File \u001b[0;32m/opt/conda/lib/python3.12/socket.py:707\u001b[0m, in \u001b[0;36mSocketIO.readinto\u001b[0;34m(self, b)\u001b[0m\n\u001b[1;32m    705\u001b[0m \u001b[38;5;28;01mwhile\u001b[39;00m \u001b[38;5;28;01mTrue\u001b[39;00m:\n\u001b[1;32m    706\u001b[0m     \u001b[38;5;28;01mtry\u001b[39;00m:\n\u001b[0;32m--> 707\u001b[0m         \u001b[38;5;28;01mreturn\u001b[39;00m \u001b[38;5;28;43mself\u001b[39;49m\u001b[38;5;241;43m.\u001b[39;49m\u001b[43m_sock\u001b[49m\u001b[38;5;241;43m.\u001b[39;49m\u001b[43mrecv_into\u001b[49m\u001b[43m(\u001b[49m\u001b[43mb\u001b[49m\u001b[43m)\u001b[49m\n\u001b[1;32m    708\u001b[0m     \u001b[38;5;28;01mexcept\u001b[39;00m timeout:\n\u001b[1;32m    709\u001b[0m         \u001b[38;5;28mself\u001b[39m\u001b[38;5;241m.\u001b[39m_timeout_occurred \u001b[38;5;241m=\u001b[39m \u001b[38;5;28;01mTrue\u001b[39;00m\n",
      "\u001b[0;31mKeyboardInterrupt\u001b[0m: "
     ]
    }
   ],
   "source": [
    "print(res.count())"
   ]
  },
  {
   "cell_type": "code",
   "execution_count": 5,
   "id": "e263a3d9",
   "metadata": {},
   "outputs": [
    {
     "name": "stderr",
     "output_type": "stream",
     "text": [
      "25/01/21 16:54:48 WARN JoinQuery: UseIndex is true, but no index exists. Will build index on the fly.\n",
      "25/01/21 16:59:23 WARN JoinQuery: UseIndex is true, but no index exists. Will build index on the fly.\n",
      "[Stage 49:====================================================>   (15 + 1) / 16]\r"
     ]
    },
    {
     "name": "stdout",
     "output_type": "stream",
     "text": [
      "res size: 3,017,518\n",
      "Joining EU com, EU grid... DONE in 8.06 min\n"
     ]
    },
    {
     "name": "stderr",
     "output_type": "stream",
     "text": [
      "                                                                                \r"
     ]
    }
   ],
   "source": [
    "# Basic Join\n",
    "\n",
    "name = \"eucom_eugrid\"\n",
    "\n",
    "comuni_df = comuni_df.repartition(cores)\n",
    "\n",
    "with get_time(\"Joining EU com, EU grid\"):\n",
    "\n",
    "    res = join_chey(comuni_df, eu_df, pred=\"ST_Contains\", create_geom=True, export=True, name=name)\n",
    "\n",
    "    print(f\"res size: {res.count():,}\")\n"
   ]
  },
  {
   "cell_type": "code",
   "execution_count": 4,
   "id": "059cbb44-13c5-4a5d-8bd4-5189debecc0f",
   "metadata": {},
   "outputs": [
    {
     "name": "stderr",
     "output_type": "stream",
     "text": [
      "25/01/21 12:22:56 WARN JoinQuery: UseIndex is true, but no index exists. Will build index on the fly.\n",
      "[Stage 13:>                                                         (0 + 1) / 1]\r"
     ]
    },
    {
     "name": "stdout",
     "output_type": "stream",
     "text": [
      "res size: 3,017,518\n",
      "Joining EU com, EU grid... DONE in 9.86 min\n"
     ]
    },
    {
     "name": "stderr",
     "output_type": "stream",
     "text": [
      "                                                                                \r"
     ]
    }
   ],
   "source": [
    "# Basic Join\n",
    "\n",
    "name = \"eucom_eugrid\"\n",
    "\n",
    "with get_time(\"Joining EU com, EU grid\"):\n",
    "\n",
    "    res = join_chey(comuni_df, eu_df, pred=\"ST_Contains\", create_geom=False, export=False, name=name)\n",
    "\n",
    "    print(f\"res size: {res.count():,}\")\n"
   ]
  },
  {
   "cell_type": "code",
   "execution_count": 27,
   "id": "ce73d024",
   "metadata": {},
   "outputs": [
    {
     "name": "stdout",
     "output_type": "stream",
     "text": [
      "Serialized 1x Replicated\n"
     ]
    }
   ],
   "source": [
    "from pyspark.storagelevel import StorageLevel\n",
    "\n",
    "if res.storageLevel == StorageLevel.NONE:\n",
    "    print(res.storageLevel)\n"
   ]
  },
  {
   "cell_type": "code",
   "execution_count": 5,
   "id": "fd2df2d4-ee7a-4cba-8ff2-e460ff295600",
   "metadata": {},
   "outputs": [
    {
     "name": "stderr",
     "output_type": "stream",
     "text": [
      "25/01/17 15:48:22 WARN JoinQuery: UseIndex is true, but no index exists. Will build index on the fly.\n",
      "[Stage 16:====================================================>   (14 + 1) / 15]\r"
     ]
    },
    {
     "name": "stdout",
     "output_type": "stream",
     "text": [
      "Result: 1,905,529\n",
      "Elapsed time: 1.08 min\n"
     ]
    },
    {
     "name": "stderr",
     "output_type": "stream",
     "text": [
      "                                                                                \r"
     ]
    }
   ],
   "source": [
    "# Italy x EU grids\n",
    "\n",
    "res = italy_df.alias(\"a\").join(eu_df.alias(\"b\"), expr(\"ST_Intersects(a.geometry, b.geometry)\"))\n",
    "\n",
    "name = \"IT_EUgr\"\n",
    "start = time.time()\n",
    "res.write.mode(\"overwrite\").parquet(f\"./outputs/{name}.parquet\")\n",
    "# print(f\"Result: {res.count():,}\")\n",
    "end = time.time()\n",
    "\n",
    "if end - start <= 60:\n",
    "    print(f\"Elapsed time: {(end-start):.2f} sec\")\n",
    "else:\n",
    "    print(f\"Elapsed time: {(end-start)/60:.2f} min\")\n",
    "    "
   ]
  },
  {
   "cell_type": "code",
   "execution_count": 7,
   "id": "39e17906-660a-45c2-92fe-0da2eebe00dd",
   "metadata": {},
   "outputs": [
    {
     "name": "stderr",
     "output_type": "stream",
     "text": [
      "25/01/17 15:52:19 WARN JoinQuery: UseIndex is true, but no index exists. Will build index on the fly.\n",
      "[Stage 34:===================================================>    (12 + 1) / 13]\r"
     ]
    },
    {
     "name": "stdout",
     "output_type": "stream",
     "text": [
      "Result: 913,081\n",
      "Elapsed time: 1.26 min\n"
     ]
    },
    {
     "name": "stderr",
     "output_type": "stream",
     "text": [
      "                                                                                \r"
     ]
    }
   ],
   "source": [
    "# Italy x EU COMUNI\n",
    "\n",
    "res = italy_df.alias(\"a\").join(comuni_df.alias(\"b\"), expr(\"ST_Intersects(a.geometry, b.geometry)\"))\n",
    "\n",
    "name = \"IT_EUcom\"\n",
    "start = time.time()\n",
    "res.write.mode(\"overwrite\").parquet(f\"./outputs/{name}.parquet\")\n",
    "# print(f\"Result: {res.count():,}\")\n",
    "end = time.time()\n",
    "\n",
    "if end - start <= 60:\n",
    "    print(f\"Elapsed time: {(end-start):.2f} sec\")\n",
    "else:\n",
    "    print(f\"Elapsed time: {(end-start)/60:.2f} min\")\n",
    "    "
   ]
  },
  {
   "cell_type": "code",
   "execution_count": 8,
   "id": "bfcc38db-9fe1-48c2-971f-e47a996087ea",
   "metadata": {},
   "outputs": [
    {
     "name": "stderr",
     "output_type": "stream",
     "text": [
      "25/01/17 16:06:16 WARN JoinQuery: UseIndex is true, but no index exists. Will build index on the fly.\n",
      "[Stage 73:====================================================>   (15 + 1) / 16]\r"
     ]
    },
    {
     "name": "stdout",
     "output_type": "stream",
     "text": [
      "Result: 4,786,653\n",
      "Elapsed time: 4.91 min\n"
     ]
    },
    {
     "name": "stderr",
     "output_type": "stream",
     "text": [
      "                                                                                \r"
     ]
    }
   ],
   "source": [
    "# Self join Italy\n",
    "\n",
    "res = italy_df.alias(\"a\").join(italy_df.alias(\"b\"), expr(\"ST_Intersects(a.geometry, b.geometry)\"))\n",
    "\n",
    "start = time.time()\n",
    "print(f\"Result: {res.count():,}\")\n",
    "end = time.time()\n",
    "\n",
    "if end - start <= 60:\n",
    "    print(f\"Elapsed time: {(end-start):.2f} sec\")\n",
    "else:\n",
    "    print(f\"Elapsed time: {(end-start)/60:.2f} min\")\n",
    "    "
   ]
  },
  {
   "cell_type": "code",
   "execution_count": 1,
   "id": "d388cf34-76ef-4591-b992-ae28b13291a8",
   "metadata": {},
   "outputs": [],
   "source": [
    "import geopandas as gpd\n",
    "from contextlib import contextmanager\n",
    "import time\n",
    "\n",
    "@contextmanager\n",
    "def get_time(task_name):\n",
    "    print(f\"{task_name}...\", end=\"\", flush=True)\n",
    "    start = time.time()\n",
    "    yield\n",
    "    elapsed = time.time() - start\n",
    "    if elapsed >= 60:\n",
    "        print(f\"\\b DONE in {(elapsed/60):.2f} min\")\n",
    "    else:\n",
    "        print(f\"\\b DONE in {elapsed:.2f} sec\")\n",
    "\n",
    "def join_geopandas(df1, df2, pred=\"intersects\", create_geom=False, export=False, name=\"unnamed\", output_path=\"./outputs\"):\n",
    "    \"\"\"\n",
    "    Join, Overlap geom, Intersection ratio and Export using GeoPandas\n",
    "    \"\"\"\n",
    "    \n",
    "    if pred == \"intersects\":\n",
    "        res = gpd.sjoin(df1, df2, how=\"inner\", predicate=\"intersects\")\n",
    "    elif pred == \"contains\":\n",
    "        res = gpd.sjoin(df1, df2, how=\"inner\", predicate=\"contains\")\n",
    "    elif pred == \"within\":\n",
    "        res = gpd.sjoin(df1, df2, how=\"inner\", predicate=\"within\")\n",
    "    else:\n",
    "        raise ValueError(f\"Unsupported predicate: {pred}\")\n",
    "    \n",
    "    res = res[[*df1.columns, *[c for c in df2.columns if c != \"geometry\" and c not in df1.columns]]]\n",
    "    if 'FID' in res.columns:\n",
    "        res = res.drop(columns=['FID'])\n",
    "\n",
    "    if create_geom:\n",
    "        res['geometry'] = res.apply(lambda row: row['geometry'].intersection(row['geometry_right']), axis=1)\n",
    "        res = res.drop(columns=['geometry_right'])\n",
    "\n",
    "\n",
    "    if export:\n",
    "        with get_time(f\"Exporting to {output_path}/{name}.gpkg\"):\n",
    "            res.to_file(f\"{output_path}/{name}.gpkg\", driver=\"GPKG\")\n",
    "    \n",
    "    return res\n",
    "\n"
   ]
  },
  {
   "cell_type": "code",
   "execution_count": 5,
   "id": "795781aa-bc27-49bc-b8bf-d2b4dee1a38c",
   "metadata": {},
   "outputs": [
    {
     "name": "stdout",
     "output_type": "stream",
     "text": [
      "Joining EU com, EU grid...Exporting to ./outputs/eucom_eugrid_GeoPandas.gpkg.. DONE in 7.03 min\n",
      "Result size: 3,017,518\n",
      "\b DONE in 7.39 min\n"
     ]
    }
   ],
   "source": [
    "import geopandas as gpd\n",
    "import pandas as pd\n",
    "\n",
    "comuni_path = \"./data_EU/comuni_shp/\"\n",
    "EU_cens_path = \"./data_EU/census_grid_EU/grids.gpkg\"\n",
    "\n",
    "comuni_df = gpd.read_file(comuni_path)\n",
    "eu_df = gpd.read_file(EU_cens_path)\n",
    "\n",
    "\n",
    "name = \"eucom_eugrid_GeoPandas\"\n",
    "\n",
    "with get_time(\"Joining EU com, EU grid\"):\n",
    "    res = join_geopandas(comuni_df, eu_df, pred=\"contains\", export=True, name=name, output_path=\"./outputs\")\n",
    "    print(f\"Result size: {len(res):,}\")\n",
    "\n"
   ]
  },
  {
   "cell_type": "code",
   "execution_count": null,
   "id": "29bffd50-198a-4ced-9c57-d2b89eb00bad",
   "metadata": {},
   "outputs": [],
   "source": []
  },
  {
   "cell_type": "code",
   "execution_count": null,
   "id": "122789a6-ac13-44a3-8aec-bf0e4ba05ff4",
   "metadata": {},
   "outputs": [],
   "source": [
    "# ================================================ GEOPANDAS ================================================ "
   ]
  },
  {
   "cell_type": "code",
   "execution_count": null,
   "id": "f65f7062-1248-4dd8-bade-0a3922377063",
   "metadata": {},
   "outputs": [],
   "source": []
  },
  {
   "cell_type": "code",
   "execution_count": null,
   "id": "4b014f14-1ee9-4149-9f6a-097b85d0dc25",
   "metadata": {},
   "outputs": [],
   "source": []
  },
  {
   "cell_type": "code",
   "execution_count": null,
   "id": "1bca1d59-af00-496a-88f2-1cc3ab60ab60",
   "metadata": {},
   "outputs": [],
   "source": []
  },
  {
   "cell_type": "code",
   "execution_count": 10,
   "id": "62c259e3-a2fe-4697-a19b-accac3059da7",
   "metadata": {},
   "outputs": [
    {
     "name": "stdout",
     "output_type": "stream",
     "text": [
      "Result: 4,786,653\n",
      "Elapsed time: 1.80 min\n"
     ]
    }
   ],
   "source": [
    "# Self Join Italy\n",
    "# Geopandas\n",
    "\n",
    "import pandas as pd\n",
    "import geopandas as gpd\n",
    "import time\n",
    "\n",
    "a = gpd.read_file(\"./data_Italy/merged/merged_pop_geom/merged.gpkg\")\n",
    "\n",
    "start = time.time()\n",
    "b = gpd.read_file(\"./data_Italy/merged/merged_pop_geom/merged.gpkg\")\n",
    "\n",
    "grids_enr = gpd.sjoin(a, b, how=\"left\", predicate=\"intersects\")\n",
    "print(f\"Result: {grids_enr.shape[0]:,}\")\n",
    "end = time.time()\n",
    "\n",
    "if end - start <= 60:\n",
    "    print(f\"Elapsed time: {(end-start):.2f} sec\")\n",
    "else:\n",
    "    print(f\"Elapsed time: {(end-start)/60:.2f} min\")"
   ]
  },
  {
   "cell_type": "code",
   "execution_count": 1,
   "id": "41b8aa5d-597e-408b-b37f-cae02f5aece5",
   "metadata": {},
   "outputs": [
    {
     "name": "stdout",
     "output_type": "stream",
     "text": [
      "Result: 1,905,542\n",
      "Elapsed time: 2.71 min\n"
     ]
    }
   ],
   "source": [
    "# EU Gr x Italy\n",
    "# Geopandas\n",
    "\n",
    "import pandas as pd\n",
    "import geopandas as gpd\n",
    "import time\n",
    "\n",
    "start = time.time()\n",
    "a = gpd.read_file(\"./data_Italy/merged/merged_pop_geom/merged.gpkg\")\n",
    "b = gpd.read_file(\"./data_EU/census_grid_EU/grids.gpkg\")\n",
    "\n",
    "grids_enr = gpd.sjoin(a, b, how=\"left\", predicate=\"intersects\")\n",
    "print(f\"Result: {grids_enr.shape[0]:,}\")\n",
    "end = time.time()\n",
    "\n",
    "if end - start <= 60:\n",
    "    print(f\"Elapsed time: {(end-start):.2f} sec\")\n",
    "else:\n",
    "    print(f\"Elapsed time: {(end-start)/60:.2f} min\")\n"
   ]
  },
  {
   "cell_type": "code",
   "execution_count": 11,
   "id": "8e737383-b231-473d-9701-743f30324e43",
   "metadata": {},
   "outputs": [
    {
     "name": "stdout",
     "output_type": "stream",
     "text": [
      "Result: 15,297,508\n",
      "Elapsed time: 6.74 min\n"
     ]
    }
   ],
   "source": [
    "# EU Gr x LandCover\n",
    "# Geopandas\n",
    "\n",
    "import pandas as pd\n",
    "import geopandas as gpd\n",
    "import time\n",
    "\n",
    "start = time.time()\n",
    "a = gpd.read_file(\"./data_Corine/land_cover_100m.gpkg\")\n",
    "b = gpd.read_file(\"./data_EU/census_grid_EU/grids.gpkg\")\n",
    "\n",
    "grids_enr = gpd.sjoin(a, b, how=\"left\", predicate=\"intersects\")\n",
    "print(f\"Result: {grids_enr.shape[0]:,}\")\n",
    "end = time.time()\n",
    "\n",
    "if end - start <= 60:\n",
    "    print(f\"Elapsed time: {(end-start):.2f} sec\")\n",
    "else:\n",
    "    print(f\"Elapsed time: {(end-start)/60:.2f} min\")\n"
   ]
  },
  {
   "cell_type": "code",
   "execution_count": null,
   "id": "8fdb210f-a188-4751-9405-bd4de2491d62",
   "metadata": {},
   "outputs": [],
   "source": [
    "# Comuni x LandCover\n",
    "# Geopandas\n",
    "\n",
    "import pandas as pd\n",
    "import geopandas as gpd\n",
    "import time\n",
    "\n",
    "start = time.time()\n",
    "a = gpd.read_file(\"./data_Corine/land_cover_100m.gpkg\")\n",
    "b = gpd.read_file(\"./data_EU/comuni_shp/\")\n",
    "\n",
    "grids_enr = gpd.sjoin(a, b, how=\"left\", predicate=\"intersects\")\n",
    "print(f\"Result: {grids_enr.shape[0]:,}\")\n",
    "end = time.time()\n",
    "\n",
    "if end - start <= 60:\n",
    "    print(f\"Elapsed time: {(end-start):.2f} sec\")\n",
    "else:\n",
    "    print(f\"Elapsed time: {(end-start)/60:.2f} min\")\n"
   ]
  },
  {
   "cell_type": "code",
   "execution_count": 2,
   "id": "3976b195-1b7b-4b20-99a7-b4c894861da4",
   "metadata": {},
   "outputs": [
    {
     "name": "stdout",
     "output_type": "stream",
     "text": [
      "Result: 12,804,697\n",
      "Elapsed time: 432.87 min\n"
     ]
    }
   ],
   "source": [
    "# LandCover x LandCover\n",
    "# Geopandas\n",
    "\n",
    "import pandas as pd\n",
    "import geopandas as gpd\n",
    "import time\n",
    "\n",
    "start = time.time()\n",
    "a = gpd.read_file(\"./data_Corine/land_cover_100m.gpkg\")\n",
    "b = gpd.read_file(\"./data_Corine/land_cover_100m.gpkg\")\n",
    "\n",
    "grids_enr = gpd.sjoin(a, b, how=\"left\", predicate=\"intersects\")\n",
    "print(f\"Result: {grids_enr.shape[0]:,}\")\n",
    "end = time.time()\n",
    "\n",
    "if end - start <= 60:\n",
    "    print(f\"Elapsed time: {(end-start):.2f} sec\")\n",
    "else:\n",
    "    print(f\"Elapsed time: {(end-start)/60:.2f} min\")\n"
   ]
  },
  {
   "cell_type": "code",
   "execution_count": null,
   "id": "09dbf537-485e-40ea-8890-e6e326f4911e",
   "metadata": {},
   "outputs": [],
   "source": [
    "from sedona.sql import utils"
   ]
  },
  {
   "cell_type": "code",
   "execution_count": null,
   "id": "6be48d27-e92b-4168-b258-5598b7574b70",
   "metadata": {},
   "outputs": [],
   "source": []
  },
  {
   "cell_type": "code",
   "execution_count": null,
   "id": "05f24e56-d3f2-434e-9750-289555b99079",
   "metadata": {},
   "outputs": [],
   "source": []
  },
  {
   "cell_type": "code",
   "execution_count": null,
   "id": "f4da32d9-d970-406d-9e3b-962fcc4a51ec",
   "metadata": {},
   "outputs": [],
   "source": []
  },
  {
   "cell_type": "code",
   "execution_count": null,
   "id": "9a661e85-741c-4e40-ac9a-3da2e50ee4b0",
   "metadata": {},
   "outputs": [],
   "source": []
  },
  {
   "cell_type": "code",
   "execution_count": null,
   "id": "d8cbdcd7-3f3c-4574-8c27-d5c4edcca997",
   "metadata": {},
   "outputs": [],
   "source": [
    "import geopandas as gpd\n",
    "import time\n",
    "\n",
    "s = time.time()\n",
    "gdf1 = gpd.read_file(\"./data_EU/census_grid_EU/grids.gpkg\", layer=\"census2021\")\n",
    "e = time.time()\n",
    "if e - s <= 60:\n",
    "    print(f\"READ: {(e-s):.2f} sec\")\n",
    "else:\n",
    "    print(f\"READ: {(e-s)/60:.2f} min\")\n",
    "gdf2 = gpd.read_file(\"./data_EU/countries_shp/\")\n",
    "\n",
    "print(gdf1.shape[0])\n",
    "\n",
    "s = time.time()\n",
    "grids_enr = gpd.sjoin(gdf1, gdf2, how=\"inner\", predicate=\"intersects\")\n",
    "e = time.time()\n",
    "if e - s <= 60:\n",
    "    print(f\"JOIN: {(e-s):.2f} sec\")\n",
    "else:\n",
    "    print(f\"JOIN: {(e-s)/60:.2f} min\")\n"
   ]
  },
  {
   "cell_type": "code",
   "execution_count": null,
   "id": "c7ad8848-a4a0-4dce-ae1f-c963e056ca05",
   "metadata": {},
   "outputs": [],
   "source": [
    "print(grids_enr.shape[0])"
   ]
  },
  {
   "cell_type": "code",
   "execution_count": null,
   "id": "d4ef44c0-5183-43c9-85a4-eac3ed712d20",
   "metadata": {},
   "outputs": [],
   "source": [
    "import geopandas as gpd \n",
    "\n",
    "gdf1 = gpd.read_file(\"./data_Italy/merged/merged_pop_geom/\")\n",
    "print(gdf1.crs)\n",
    "gdf1 = gdf1.to_crs(\"EPSG:3035\")\n",
    "print(gdf1.crs)\n",
    "# Save to GeoPackage\n",
    "gdf1.to_file(\"merged.gpkg\", driver=\"GPKG\", layer=\"italy_census\")\n",
    "\n",
    "\n"
   ]
  },
  {
   "cell_type": "code",
   "execution_count": null,
   "id": "dae20a6b-4b4c-4090-b2b2-a17cf05dd3b4",
   "metadata": {},
   "outputs": [],
   "source": [
    "gdf.to_file(\"IT_census.geojson\", driver=\"GeoJSON\")"
   ]
  }
 ],
 "metadata": {
  "kernelspec": {
   "display_name": "sedona_venv",
   "language": "python",
   "name": "python3"
  },
  "language_info": {
   "codemirror_mode": {
    "name": "ipython",
    "version": 3
   },
   "file_extension": ".py",
   "mimetype": "text/x-python",
   "name": "python",
   "nbconvert_exporter": "python",
   "pygments_lexer": "ipython3",
   "version": "3.12.3"
  }
 },
 "nbformat": 4,
 "nbformat_minor": 5
}
