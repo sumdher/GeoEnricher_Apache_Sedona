{
 "cells": [
  {
   "cell_type": "code",
   "execution_count": null,
   "metadata": {},
   "outputs": [],
   "source": [
    "# This is copied content\n",
    "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"
   ]
  },
  {
   "cell_type": "code",
   "execution_count": 47,
   "metadata": {},
   "outputs": [
    {
     "name": "stdout",
     "output_type": "stream",
     "text": [
      "\n",
      "Transforming CRS...\n",
      "Changed CRS of 'countries': 'EPSG:3035' to 'EPSG:3035'\n",
      "Changed CRS of 'regions_IT': 'EPSG:32632' to 'EPSG:3035'\n",
      "Changed CRS of 'provinces_IT': 'EPSG:32632' to 'EPSG:3035'\n",
      "Changed CRS of 'comuni_EU': 'EPSG:3035' to 'EPSG:3035'\n",
      "Changed CRS of 'comuni_IT': 'EPSG:32632' to 'EPSG:3035'\n",
      "Changed CRS of 'pop_grids': 'EPSG:3035' to 'EPSG:3035'\n",
      "Changed CRS of 'pop_grids_new': 'EPSG:3035' to 'EPSG:3035'\n",
      "Dataset cached. 259 rows.\n"
     ]
    },
    {
     "name": "stderr",
     "output_type": "stream",
     "text": [
      "                                                                                \r"
     ]
    },
    {
     "name": "stdout",
     "output_type": "stream",
     "text": [
      "Dataset cached. 20 rows.\n"
     ]
    },
    {
     "name": "stderr",
     "output_type": "stream",
     "text": [
      "                                                                                \r"
     ]
    },
    {
     "name": "stdout",
     "output_type": "stream",
     "text": [
      "Dataset cached. 107 rows.\n"
     ]
    },
    {
     "name": "stderr",
     "output_type": "stream",
     "text": [
      "                                                                                \r"
     ]
    },
    {
     "name": "stdout",
     "output_type": "stream",
     "text": [
      "Dataset cached. 122750 rows.\n"
     ]
    },
    {
     "name": "stderr",
     "output_type": "stream",
     "text": [
      "                                                                                \r"
     ]
    },
    {
     "name": "stdout",
     "output_type": "stream",
     "text": [
      "Dataset cached. 7899 rows.\n"
     ]
    },
    {
     "name": "stderr",
     "output_type": "stream",
     "text": [
      "                                                                                \r"
     ]
    },
    {
     "name": "stdout",
     "output_type": "stream",
     "text": [
      "Dataset cached. 4594018 rows.\n"
     ]
    },
    {
     "name": "stderr",
     "output_type": "stream",
     "text": [
      "                                                                                \r"
     ]
    },
    {
     "name": "stdout",
     "output_type": "stream",
     "text": [
      "Dataset cached. 7055226 rows.\n",
      "Saving 'countries' as Parquet...\n",
      "Saved to './data/pickle_parquets/dfs_list/countries'\n",
      "Saving 'regions_IT' as Parquet...\n",
      "Saved to './data/pickle_parquets/dfs_list/regions_IT'\n",
      "Saving 'provinces_IT' as Parquet...\n",
      "Saved to './data/pickle_parquets/dfs_list/provinces_IT'\n",
      "Saving 'comuni_EU' as Parquet...\n"
     ]
    },
    {
     "name": "stderr",
     "output_type": "stream",
     "text": [
      "                                                                                \r"
     ]
    },
    {
     "name": "stdout",
     "output_type": "stream",
     "text": [
      "Saved to './data/pickle_parquets/dfs_list/comuni_EU'\n",
      "Saving 'comuni_IT' as Parquet...\n",
      "Saved to './data/pickle_parquets/dfs_list/comuni_IT'\n",
      "Saving 'pop_grids' as Parquet...\n"
     ]
    },
    {
     "name": "stderr",
     "output_type": "stream",
     "text": [
      "                                                                                \r"
     ]
    },
    {
     "name": "stdout",
     "output_type": "stream",
     "text": [
      "Saved to './data/pickle_parquets/dfs_list/pop_grids'\n",
      "Saving 'pop_grids_new' as Parquet...\n"
     ]
    },
    {
     "name": "stderr",
     "output_type": "stream",
     "text": [
      "[Stage 725:==================================================>     (9 + 1) / 10]\r"
     ]
    },
    {
     "name": "stdout",
     "output_type": "stream",
     "text": [
      "Saved to './data/pickle_parquets/dfs_list/pop_grids_new'\n"
     ]
    },
    {
     "name": "stderr",
     "output_type": "stream",
     "text": [
      "                                                                                \r"
     ]
    }
   ],
   "source": [
    "# # Load data\n",
    "\n",
    "# data_dir = \"./data\"\n",
    "\n",
    "# # file paths:\n",
    "\n",
    "# path_contr = f\"{data_dir}/data_EU/countries_shp/\"\n",
    "# path_reg = f\"{data_dir}/data_Italy/regioni/\"\n",
    "# path_prov = f\"{data_dir}/data_Italy/provinci\"\n",
    "# path_com_EU = f\"{data_dir}/data_EU/comuni_shp/\"\n",
    "# path_com = f\"{data_dir}/data_Italy/comuni/\"\n",
    "# path_grids = f\"{data_dir}/data_EU/census_grid_EU/grids_OG_corrected.parquet\"\n",
    "# path_grids_new = f\"{data_dir}/data_EU/census_grid_EU/grids_new.gpkg\"\n",
    "\n",
    "\n",
    "# # datasets:\n",
    "# # format: {display_name: (path, file_format), ...}\n",
    "\n",
    "# datasets = {\n",
    "#     \"countries\": (path_contr, \"shapefile\"),\n",
    "#     \"regions_IT\": (path_reg, \"shapefile\"),\n",
    "#     \"provinces_IT\": (path_prov, \"shapefile\"),\n",
    "#     \"comuni_EU\": (path_com_EU, \"shapefile\"),\n",
    "#     \"comuni_IT\": (path_com, \"shapefile\"),\n",
    "#     \"pop_grids\": (path_grids, \"geoparquet\"),\n",
    "#     \"pop_grids_new\": (path_grids_new, \"geopackage\"),\n",
    "#     # \"census\": (path_census, \"\"),\n",
    "# }\n",
    "\n",
    "\n",
    "# obj = Enricher(crs=\"EPSG:3035\")\n",
    "# obj.setup_cluster(data_dir=data_dir, which=\"sedona\", ex_mem=26, dr_mem=24, log_level=\"ERROR\")\n",
    "\n",
    "# obj.load(datasets, silent=True)\n",
    "# obj.fix_geometries(skip=['pop_grids', 'pop_grids_new'])\n",
    "# obj.force_repartition(skip=['pop_grids'])\n",
    "# # obj.inspect_partitions()\n",
    "obj.transform_CRS(lazy=False)\n",
    "obj.parquet_all(preserve_partitions=True)\n",
    "\n",
    "\n",
    "# # obj.dfs_list['comuni_EU'] = obj.dfs_list['comuni_EU'].filter(F.col('CNTR_ID').isin([\"IT\", \"DE\"]))"
   ]
  },
  {
   "cell_type": "code",
   "execution_count": null,
   "metadata": {},
   "outputs": [
    {
     "name": "stdout",
     "output_type": "stream",
     "text": [
      "Sedona initialized with 10 cores for parellelism.\n",
      "Loading 'countries' from Parquet...\n",
      "Loaded dataframe 'countries'\n",
      "Loading 'regions_IT' from Parquet...\n",
      "Loaded dataframe 'regions_IT'\n",
      "Loading 'provinces_IT' from Parquet...\n",
      "Loaded dataframe 'provinces_IT'\n",
      "Loading 'comuni_EU' from Parquet...\n",
      "Loaded dataframe 'comuni_EU'\n",
      "Loading 'comuni_IT' from Parquet...\n",
      "Loaded dataframe 'comuni_IT'\n",
      "Loading 'pop_grids' from Parquet...\n",
      "Loaded dataframe 'pop_grids'\n"
     ]
    }
   ],
   "source": [
    "# Load from pickles\n",
    "\n",
    "data_dir = \"./data\"\n",
    "\n",
    "# file paths:\n",
    "\n",
    "path_contr = f\"{data_dir}/data_EU/countries_shp/\"\n",
    "path_reg = f\"{data_dir}/data_Italy/regioni/\"\n",
    "path_prov = f\"{data_dir}/data_Italy/provinci\"\n",
    "path_com_EU = f\"{data_dir}/data_EU/comuni_shp/\"\n",
    "path_com = f\"{data_dir}/data_Italy/comuni/\"\n",
    "path_grids = f\"{data_dir}/data_EU/census_grid_EU/grids_OG_corrected.parquet\"\n",
    "path_grids_new = f\"{data_dir}/data_EU/census_grid_EU/grids_new.gpkg\"\n",
    "\n",
    "\n",
    "# datasets:\n",
    "# format: {display_name: (path, file_format), ...}\n",
    "\n",
    "datasets = {\n",
    "    \"countries\": (path_contr, \"shapefile\"),\n",
    "    \"regions_IT\": (path_reg, \"shapefile\"),\n",
    "    \"provinces_IT\": (path_prov, \"shapefile\"),\n",
    "    \"comuni_EU\": (path_com_EU, \"shapefile\"),\n",
    "    \"comuni_IT\": (path_com, \"shapefile\"),\n",
    "    \"pop_grids\": (path_grids, \"geoparquet\"),\n",
    "    \"pop_grids_new\": (path_grids_new, \"geopackage\"),\n",
    "    # \"census\": (path_census, \"\"),\n",
    "}\n",
    "\n",
    "obj = Enricher(crs=\"EPSG:3035\")\n",
    "obj.setup_cluster(which=\"sedona\", ex_mem=26, dr_mem=24, log_level=\"ERROR\")\n",
    "obj.load_from_parquets(datasets)\n",
    "# obj.inspect_partitions()"
   ]
  },
  {
   "cell_type": "code",
   "execution_count": null,
   "metadata": {},
   "outputs": [
    {
     "name": "stdout",
     "output_type": "stream",
     "text": [
      "['COMM_ID', 'CNTR_ID', 'CNTR_CODE', 'COMM_NAME', 'NAME_ASCI', 'TRUE_FLAG', 'NSI_CODE', 'NAME_NSI', 'NAME_LATN', 'NUTS_CODE', 'FID', 'DIST_BORD', 'TOT_P_2018', 'TOT_P_2006', 'GRD_ID', 'TOT_P_2011', 'Y_LLC', 'NUTS2016_3', 'NUTS2016_2', 'NUTS2016_1', 'NUTS2016_0', 'LAND_PC', 'X_LLC', 'NUTS2021_3', 'NUTS2021_2', 'NUTS2021_1', 'NUTS2021_0', 'geometry', 'intr_ratio', 'TOT_P_2021_agr_sum', 'DIST_COAST_agr_mean']\n",
      "Saving dataframe 'pop_new_X_comuni_EU_res' as Parquet...\n"
     ]
    },
    {
     "name": "stderr",
     "output_type": "stream",
     "text": [
      "[Stage 155:>                                                        (0 + 1) / 1]\r"
     ]
    },
    {
     "name": "stdout",
     "output_type": "stream",
     "text": [
      "Saved to './pickle_parquets/others/pop_new_X_comuni_EU_res'\n"
     ]
    },
    {
     "name": "stderr",
     "output_type": "stream",
     "text": [
      "                                                                                \r"
     ]
    }
   ],
   "source": [
    "# obj.parquet_this(\"pop_new_X_comuni_EU\", obj.res_agr, preserve_partitions=False)\n",
    "\n",
    "obj.parquet_this(\"pop_new_X_comuni_EU_res\", obj.res, preserve_partitions=False)\n"
   ]
  },
  {
   "cell_type": "code",
   "execution_count": null,
   "metadata": {},
   "outputs": [
    {
     "name": "stdout",
     "output_type": "stream",
     "text": [
      "The 'geometry' column in 'countries' is of type: udt\n",
      "The 'geometry' column in 'regions_IT' is of type: udt\n",
      "The 'geometry' column in 'provinces_IT' is of type: udt\n",
      "The 'geometry' column in 'comuni_EU' is of type: udt\n",
      "The 'geometry' column in 'comuni_IT' is of type: udt\n",
      "The 'geometry' column in 'pop_grids' is of type: udt\n"
     ]
    }
   ],
   "source": [
    "\n",
    "for name, df in obj.dfs_list.items():\n",
    "    geometry_dtype = df.schema[\"geometry\"].dataType.simpleString()\n",
    "    print(f\"The 'geometry' column in '{name}' is of type: {geometry_dtype}\")"
   ]
  },
  {
   "cell_type": "code",
   "execution_count": 40,
   "metadata": {},
   "outputs": [
    {
     "data": {
      "application/vnd.jupyter.widget-view+json": {
       "model_id": "8c9a20c8ffb84b0a987ea2187da803bb",
       "version_major": 2,
       "version_minor": 0
      },
      "text/plain": [
       "VBox(children=(HTML(value='<h1>Enrich with Overlay & Aggregation</h1>'), HTML(value=\"<div style='height: 5px;'…"
      ]
     },
     "metadata": {},
     "output_type": "display_data"
    }
   ],
   "source": [
    "# GUI\n",
    "\n",
    "obj_ui = EnricherUI(obj)\n"
   ]
  },
  {
   "cell_type": "code",
   "execution_count": 30,
   "metadata": {},
   "outputs": [
    {
     "name": "stderr",
     "output_type": "stream",
     "text": [
      "                                                                                \r"
     ]
    },
    {
     "name": "stdout",
     "output_type": "stream",
     "text": [
      "Aggregation will result in 109707 rows.\n"
     ]
    },
    {
     "name": "stderr",
     "output_type": "stream",
     "text": [
      "[Stage 305:===============================================>    (181 + 10) / 200]\r"
     ]
    },
    {
     "name": "stdout",
     "output_type": "stream",
     "text": [
      "Dataset cached. 109707 rows.\n"
     ]
    },
    {
     "name": "stderr",
     "output_type": "stream",
     "text": [
      "                                                                                \r"
     ]
    },
    {
     "data": {
      "text/plain": [
       "DataFrame[COMM_ID: string, CNTR_ID: string, CNTR_CODE: string, COMM_NAME: string, NAME_ASCI: string, TRUE_FLAG: string, NSI_CODE: string, NAME_NSI: string, NAME_LATN: string, NUTS_CODE: string, FID: string, geometry: udt, T_agr_sum: double]"
      ]
     },
     "execution_count": 30,
     "metadata": {},
     "output_type": "execute_result"
    }
   ],
   "source": [
    "obj.join_chey_new(\n",
    "                        selected_aggs={'T': 'sum'},\n",
    "                        df1_name='comuni_EU',\n",
    "                        df2_name='pop_grids',\n",
    "                        group_by='COMM_ID',\n",
    "                        pred=\"ST_Intersects\",\n",
    "                        rel_str=\"2********\",\n",
    "                        make_geom=True,\n",
    "                        ratio=True,\n",
    "                        madre=False,\n",
    "                        cache=True,\n",
    "                        grid_area=1e6\n",
    "                    )"
   ]
  },
  {
   "cell_type": "code",
   "execution_count": 16,
   "metadata": {},
   "outputs": [
    {
     "data": {
      "text/plain": [
       "'COMM_ID'"
      ]
     },
     "execution_count": 16,
     "metadata": {},
     "output_type": "execute_result"
    }
   ],
   "source": [
    "obj_ui.group_by_col"
   ]
  },
  {
   "cell_type": "code",
   "execution_count": 1,
   "metadata": {},
   "outputs": [
    {
     "ename": "NameError",
     "evalue": "name 'obj' is not defined",
     "output_type": "error",
     "traceback": [
      "\u001b[0;31m---------------------------------------------------------------------------\u001b[0m",
      "\u001b[0;31mNameError\u001b[0m                                 Traceback (most recent call last)",
      "Cell \u001b[0;32mIn[1], line 6\u001b[0m\n\u001b[1;32m      3\u001b[0m \u001b[38;5;28;01mfrom\u001b[39;00m\u001b[38;5;250m \u001b[39m\u001b[38;5;21;01mshapely\u001b[39;00m\u001b[38;5;21;01m.\u001b[39;00m\u001b[38;5;21;01mgeometry\u001b[39;00m\u001b[38;5;250m \u001b[39m\u001b[38;5;28;01mimport\u001b[39;00m shape\n\u001b[1;32m      4\u001b[0m \u001b[38;5;28;01mimport\u001b[39;00m\u001b[38;5;250m \u001b[39m\u001b[38;5;21;01mdecimal\u001b[39;00m\n\u001b[0;32m----> 6\u001b[0m temp_df \u001b[38;5;241m=\u001b[39m \u001b[43mobj\u001b[49m\u001b[38;5;241m.\u001b[39mres_agr\n\u001b[1;32m      7\u001b[0m \u001b[38;5;66;03m# temp_df = obj.res.filter(F.col('CNTR_ID').isin(\"NL\", \"BE\", \"DE\", \"IT\"))\u001b[39;00m\n\u001b[1;32m      8\u001b[0m \u001b[38;5;66;03m# temp_df = obj.dfs_list['comuni_EU']\u001b[39;00m\n\u001b[1;32m      9\u001b[0m \u001b[38;5;66;03m# temp_df = obj.dfs_list['pop_grids'].filter(F.col('T')>1000)\u001b[39;00m\n\u001b[1;32m     12\u001b[0m \u001b[38;5;28;01mdef\u001b[39;00m\u001b[38;5;250m \u001b[39m\u001b[38;5;21mprep_for_map\u001b[39m(res_agr, crs, geom_col\u001b[38;5;241m=\u001b[39m\u001b[38;5;124m'\u001b[39m\u001b[38;5;124mgeometry\u001b[39m\u001b[38;5;124m'\u001b[39m):\n",
      "\u001b[0;31mNameError\u001b[0m: name 'obj' is not defined"
     ]
    }
   ],
   "source": [
    "from keplergl import KeplerGl\n",
    "import geopandas as gpd\n",
    "from shapely.geometry import shape\n",
    "import decimal\n",
    "\n",
    "temp_df = obj.res_agr\n",
    "# temp_df = obj.res.filter(F.col('CNTR_ID').isin(\"NL\", \"BE\", \"DE\", \"IT\"))\n",
    "# temp_df = obj.dfs_list['comuni_EU']\n",
    "# temp_df = obj.dfs_list['pop_grids'].filter(F.col('T')>1000)\n",
    "\n",
    "\n",
    "def prep_for_map(res_agr, crs, geom_col='geometry'):\n",
    "    df = res_agr.toPandas()\n",
    "    df = df.map(lambda x: float(x) if isinstance(x, decimal.Decimal) else x)\n",
    "    df['geometry'] = df[f'{geom_col}'].apply(lambda geom: shape(geom))\n",
    "\n",
    "    gdf = gpd.GeoDataFrame(df, geometry='geometry')\n",
    "    gdf.crs = crs\n",
    "    \n",
    "    return gdf\n",
    "\n",
    "map = KeplerGl(height=600)\n",
    "map.add_data(data=prep_for_map(temp_df, obj.crs, geom_col=\"geometry\"), name=\"pop_grids\")\n",
    "map"
   ]
  },
  {
   "cell_type": "code",
   "execution_count": null,
   "metadata": {},
   "outputs": [],
   "source": [
    "from keplergl import KeplerGl\n",
    "import geopandas as gpd\n",
    "from shapely.geometry import shape\n",
    "import decimal\n",
    "\n",
    "# temp_df = obj.res_agr\n",
    "temp_df = obj.dfs_list['pop_grids_new']\n",
    "# temp_df = obj.dfs_list['comuni_EU']\n",
    "# temp_df = obj.dfs_list['pop_grids_new'].filter(F.col('CNTR_ID').isin(\"NL\", \"BE\", \"DE\", \"IT\"))\n",
    "\n",
    "\n",
    "def prep_for_map(res_agr, crs, geom_col='geometry'):\n",
    "    df = res_agr.toPandas()\n",
    "    df = df.map(lambda x: float(x) if isinstance(x, decimal.Decimal) else x)\n",
    "    df['geometry'] = df[f'{geom_col}'].apply(lambda geom: shape(geom))\n",
    "\n",
    "    gdf = gpd.GeoDataFrame(df, geometry='geometry')\n",
    "    gdf.crs = crs\n",
    "    \n",
    "    return gdf\n",
    "\n",
    "map = KeplerGl(height=600)\n",
    "map.add_data(data=prep_for_map(temp_df, obj.crs, geom_col=\"geometry\"), name=\"pop_grids\")\n",
    "map"
   ]
  },
  {
   "cell_type": "code",
   "execution_count": null,
   "metadata": {},
   "outputs": [],
   "source": []
  },
  {
   "cell_type": "code",
   "execution_count": 12,
   "metadata": {},
   "outputs": [],
   "source": [
    "full_EU_com_enriched = obj.res_agr"
   ]
  },
  {
   "cell_type": "code",
   "execution_count": 11,
   "metadata": {},
   "outputs": [
    {
     "name": "stdout",
     "output_type": "stream",
     "text": [
      "User Guide: https://docs.kepler.gl/docs/keplergl-jupyter\n"
     ]
    },
    {
     "data": {
      "application/vnd.jupyter.widget-view+json": {
       "model_id": "4a537a4fb6604e8fab471ca6fb390dcc",
       "version_major": 2,
       "version_minor": 0
      },
      "text/plain": [
       "KeplerGl(data={'res_agr': {'index': [0, 1, 2, 3, 4, 5, 6, 7, 8, 9, 10, 11, 12, 13, 14, 15, 16, 17, 18, 19, 20,…"
      ]
     },
     "execution_count": 11,
     "metadata": {},
     "output_type": "execute_result"
    }
   ],
   "source": [
    "from keplergl import KeplerGl\n",
    "import geopandas as gpd\n",
    "from shapely.geometry import shape\n",
    "\n",
    "com_pop = obj.res_agr\n",
    "\n",
    "res_agr = com_pop.toPandas()\n",
    "res_agr['geometry'] = res_agr['geometry'].apply(lambda geom: shape(geom))\n",
    "\n",
    "gdf = gpd.GeoDataFrame(res_agr, geometry='geometry')\n",
    "gdf.crs = \"EPSG:3035\"\n",
    "\n",
    "map = KeplerGl(height=600)\n",
    "map.add_data(data=gdf, name=\"res_agr\")\n",
    "map"
   ]
  },
  {
   "cell_type": "code",
   "execution_count": null,
   "metadata": {},
   "outputs": [],
   "source": []
  },
  {
   "cell_type": "code",
   "execution_count": null,
   "metadata": {},
   "outputs": [],
   "source": []
  },
  {
   "cell_type": "code",
   "execution_count": null,
   "metadata": {},
   "outputs": [],
   "source": []
  },
  {
   "cell_type": "code",
   "execution_count": null,
   "metadata": {},
   "outputs": [],
   "source": []
  },
  {
   "cell_type": "code",
   "execution_count": null,
   "metadata": {},
   "outputs": [],
   "source": []
  },
  {
   "cell_type": "code",
   "execution_count": null,
   "metadata": {},
   "outputs": [],
   "source": []
  },
  {
   "cell_type": "code",
   "execution_count": null,
   "metadata": {},
   "outputs": [],
   "source": []
  },
  {
   "cell_type": "code",
   "execution_count": null,
   "metadata": {},
   "outputs": [],
   "source": []
  },
  {
   "cell_type": "code",
   "execution_count": null,
   "metadata": {},
   "outputs": [],
   "source": []
  }
 ],
 "metadata": {
  "kernelspec": {
   "display_name": "sedona_venv",
   "language": "python",
   "name": "python3"
  },
  "language_info": {
   "codemirror_mode": {
    "name": "ipython",
    "version": 3
   },
   "file_extension": ".py",
   "mimetype": "text/x-python",
   "name": "python",
   "nbconvert_exporter": "python",
   "pygments_lexer": "ipython3",
   "version": "3.12.3"
  }
 },
 "nbformat": 4,
 "nbformat_minor": 4
}
