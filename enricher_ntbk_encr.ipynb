{
 "cells": [
  {
   "cell_type": "code",
   "execution_count": null,
   "metadata": {},
   "outputs": [],
   "source": [
    "#ENCRYPTED\n",
    "# This cell was encrypted. Contact: sudheer.siddabattula@gmail.com for access/details\n",
    "\n",
    "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"
   ]
  },
  {
   "cell_type": "code",
   "execution_count": null,
   "metadata": {},
   "outputs": [],
   "source": [
    "''' \n",
    "Loading data from files.\n",
    "This will take a while. Because it cleans and makes some essential transformations.\n",
    "But it is a one-time operation. `parquet_all()` will save all datasets to the disk, preserving any transformations applied.\n",
    "From next time, you can directly load them  with: `load_from_parquets()`.\n",
    "'''\n",
    "\n",
    "\n",
    "# Provide the data directory\n",
    "data_dir = f\"./data\"\n",
    "\n",
    "# Individual file paths:\n",
    "path_contr = f\"{data_dir}/data_EU/countries_shp/\"\n",
    "path_reg = f\"{data_dir}/data_Italy/regioni/\"\n",
    "path_prov = f\"{data_dir}/data_Italy/provinci\"\n",
    "path_com_EU = f\"{data_dir}/data_EU/comuni_shp/\"\n",
    "path_com = f\"{data_dir}/data_Italy/comuni/\"\n",
    "path_grids = f\"{data_dir}/data_EU/census_grid_EU/grids_OG_corrected.parquet\"\n",
    "path_grids_new = f\"{data_dir}/data_EU/census_grid_EU/grids_new.gpkg\"\n",
    "\n",
    "# Dataset names and their file formats:\n",
    "# format: {dataset_name: (path, file_format), ...}\n",
    "\n",
    "datasets: dict[str, tuple[str, str]] = {\n",
    "    \"countries\": (path_contr, \"shapefile\"),\n",
    "    \"regions_IT\": (path_reg, \"shapefile\"),\n",
    "    \"provinces_IT\": (path_prov, \"shapefile\"),\n",
    "    \"comuni_EU\": (path_com_EU, \"shapefile\"),\n",
    "    \"comuni_IT\": (path_com, \"shapefile\"),\n",
    "    \"pop_grids\": (path_grids, \"geoparquet\"),\n",
    "    \"pop_grids_new\": (path_grids_new, \"geopackage\"),\n",
    "}\n",
    "\n",
    "obj = Enricher(crs=\"EPSG:3035\")\n",
    "\n",
    "# Setup the Enricher object with \"sedona\" (or, \"wherobots\")\n",
    "# \"ex_mem\" and \"dr_mem\" are the executor and driver memory in GB\n",
    "obj.setup_cluster(\n",
    "    data_dir=data_dir, \n",
    "    which=\"sedona\", \n",
    "    ex_mem=26,\n",
    "    dr_mem=24,\n",
    "    log_level=\"ERROR\")\n",
    "\n",
    "# Use \"load()\" to load all the datasets in {data_dir}, \n",
    "# according to the paths and file formats provided in \"datasets{}\"\n",
    "obj.load(datasets, silent=True)\n",
    "\n",
    "# Optionally, run \"fix_geometries()\" to fix invalid geometries if any; \n",
    "# if you want to skip the check for some dataframes, pass their names in \"skip[]\"\n",
    "obj.fix_geometries(\n",
    "    skip=['pop_grids', 'pop_grids_new']\n",
    "    )\n",
    "\n",
    "# Optionally, inspect the partitions and data skew:\n",
    "# obj.inspect_partitions()\n",
    "\n",
    "# and force the dataframes to be repartitioned to the number of available cores\n",
    "# pass the names of the dataframes to be skipped in skip[]\n",
    "obj.force_repartition(skip=['pop_grids'])\n",
    "\n",
    "# obj.inspect_partitions()\n",
    "\n",
    "# Transform the CRS of loaded datasets to the CRS passed in the Enricher constructor\n",
    "# lazy=True will not cache the dataframes. \n",
    "obj.transform_CRS(lazy=False)\n",
    "\n",
    "# Pickle all the dataframes to disk for quick access later.\n",
    "# default directory: \"./{data_dir}/pickle_parquets/dfs_list\"\n",
    "# you may change the directory where they are saved by pasing it in \"parquet_dir\"; relative to the {data_dir}\n",
    "obj.parquet_all(preserve_partitions=True)\n",
    "\n",
    "\n",
    "# obj.dfs_list['comuni_EU'] = obj.dfs_list['comuni_EU'].filter(F.col('CNTR_ID').isin([\"IT\", \"DE\"]))"
   ]
  },
  {
   "cell_type": "code",
   "execution_count": 34,
   "metadata": {},
   "outputs": [
    {
     "name": "stdout",
     "output_type": "stream",
     "text": [
      "sedona initialized with 10 cores for parellelism.\n",
      "Loading 'countries' from Parquet...\n",
      "Loaded dataframe 'countries'\n",
      "Loading 'regions_IT' from Parquet...\n",
      "Loaded dataframe 'regions_IT'\n",
      "Loading 'provinces_IT' from Parquet...\n",
      "Loaded dataframe 'provinces_IT'\n",
      "Loading 'comuni_EU' from Parquet...\n",
      "Loaded dataframe 'comuni_EU'\n",
      "Loading 'comuni_IT' from Parquet...\n",
      "Loaded dataframe 'comuni_IT'\n",
      "Loading 'pop_grids' from Parquet...\n",
      "Loaded dataframe 'pop_grids'\n",
      "Loading 'pop_grids_new' from Parquet...\n",
      "Loaded dataframe 'pop_grids_new'\n"
     ]
    }
   ],
   "source": [
    "''' \n",
    "Load data from pickled parquets \n",
    "\n",
    "'''\n",
    "\n",
    "# Provide the data directory\n",
    "data_dir = \"./data\"\n",
    "\n",
    "obj = Enricher(crs=\"EPSG:3035\")\n",
    "\n",
    "# Setup the Enricher object with \"sedona\" (or, \"wherobots\")\n",
    "# \"ex_mem\" and \"dr_mem\" are the executor and driver memory in GB\n",
    "obj.setup_cluster(data_dir=data_dir, \n",
    "                  which=\"sedona\", \n",
    "                  ex_mem=26, \n",
    "                  dr_mem=24, \n",
    "                  log_level=\"ERROR\")\n",
    "\n",
    "# Loads all the datasets from pickled parquets in the default direcoty: \"./{data_dir}/pickle_parquets/dfs_list\"\n",
    "# optionally, to load from a different directory, pass the directory path in \"parquet_dir\"; reative to the {data_dir}\n",
    "obj.load_from_parquets()\n",
    "# obj.inspect_partitions()"
   ]
  },
  {
   "cell_type": "code",
   "execution_count": null,
   "metadata": {},
   "outputs": [
    {
     "name": "stdout",
     "output_type": "stream",
     "text": [
      "User Guide: https://docs.kepler.gl/docs/keplergl-jupyter\n"
     ]
    },
    {
     "data": {
      "application/vnd.jupyter.widget-view+json": {
       "model_id": "cb44acf0a1014b8b9782e2901d1da236",
       "version_major": 2,
       "version_minor": 0
      },
      "text/plain": [
       "KeplerGl(data={'countries': {'index': [0, 1, 2, 3, 4, 5, 6, 7, 8, 9, 10, 11, 12, 13, 14, 15, 16, 17, 18, 19, 2…"
      ]
     },
     "execution_count": 35,
     "metadata": {},
     "output_type": "execute_result"
    }
   ],
   "source": [
    "\"\"\"\n",
    "Visualize the datasets\n",
    "\"\"\"\n",
    "\n",
    "# Pass a list of names of the loaded datasets or directly the Spark dataframes in memory\n",
    "obj.plot_this(\n",
    "    [\"countries\", obj.dfs_list[\"provinces_IT\"]],  # str | SparkDataFrame | list[str | SparkDataFrame]\n",
    "    new_map=True  # if it is False, the new dataset will be added to the old map (if it exists, or else, makes a new one)\n",
    "    )\n",
    "\n",
    "# you can plot the map in another cell, just run `<obj>.map`"
   ]
  },
  {
   "cell_type": "code",
   "execution_count": 3,
   "metadata": {},
   "outputs": [
    {
     "data": {
      "application/vnd.jupyter.widget-view+json": {
       "model_id": "6ce269a29a6749579205325c27b0d2bb",
       "version_major": 2,
       "version_minor": 0
      },
      "text/plain": [
       "VBox(children=(HTML(value='<h1>Enrich with Overlay & Aggregation</h1>'), HTML(value=\"<div style='height: 5px;'…"
      ]
     },
     "metadata": {},
     "output_type": "display_data"
    }
   ],
   "source": [
    "'''\n",
    "GUI for Enricher primitives\n",
    "\n",
    "'''\n",
    "\n",
    "# pass the Enricher object (loaded with the datasets) to the EnricherUI\n",
    "obj_ui = EnrichOverlay(obj)\n"
   ]
  },
  {
   "cell_type": "code",
   "execution_count": null,
   "metadata": {},
   "outputs": [
    {
     "name": "stdout",
     "output_type": "stream",
     "text": [
      "['COMM_ID', 'CNTR_ID', 'CNTR_CODE', 'COMM_NAME', 'NAME_ASCI', 'TRUE_FLAG', 'NSI_CODE', 'NAME_NSI', 'NAME_LATN', 'NUTS_CODE', 'FID', 'geohash', 'geometry', 'T_agr_sum']\n",
      "58166281.116447605\n"
     ]
    }
   ],
   "source": [
    "\n",
    "from pyspark.sql.dataframe import DataFrame as SparkDataFrame\n",
    "\n",
    "\n",
    "temp: SparkDataFrame = obj.res_agr\n",
    "print(temp.columns)\n",
    "\n",
    "# temp: SparkDataFrame = temp.filter(F.col('CNTR_ID') == 'IT')\n",
    "print(temp.agg(F.sum('T_agr_sum')).collect()[0][0])\n",
    "\n",
    "# obj.parquet_this(\"intrsctn_com_grid_IT\", temp, preserve_partitions=False)\n",
    "# obj.parquet_this(\"grids_new_X_comuni_EU_IT\", temp, preserve_partitions=False)\n",
    "# temp.cache()"
   ]
  },
  {
   "cell_type": "code",
   "execution_count": null,
   "metadata": {},
   "outputs": [
    {
     "name": "stderr",
     "output_type": "stream",
     "text": [
      "[Stage 215:====================================================>(199 + 1) / 200]\r"
     ]
    },
    {
     "name": "stdout",
     "output_type": "stream",
     "text": [
      "109707\n"
     ]
    },
    {
     "name": "stderr",
     "output_type": "stream",
     "text": [
      "                                                                                \r"
     ]
    }
   ],
   "source": [
    "#ENCRYPTED\n",
    "# This cell was encrypted. Contact: sudheer.siddabattula@gmail.com for access/details\n",
    "\n",
    "LS0tLS1CRUdJTiBQR1AgTUVTU0FHRS0tLS0tCgp3Y0JNQTB5VXBDMWwzUy9oQVFmL1FhUFg3ZXp3U2FTT2R3UCtaREwveW5xam8zWXNTekRHamV1VTRhbFVuaWROCkdlamQxVHRwTGFTVFpnVko4NFlDK0Juc1psbndVaEpySEpJQTFmMWUzcFA1WVBTKzd3WHorMkh3WFRkOVdrNWIKeFZjVi9EUkNSYmZrQ1FMZ25xMkgwQ1BubzVXVzQyNUdndU9oTnd6amdSbDB5QnYvT0dZVXMwWUZtNUxtdHgyMApBVnk5djlWb2ZjL3F0SzhYNC9OQ0RvdFhTdGZ3RXp2ZmdzVnlxOFdHWkt5RTRXSHVXckd4czVIV2xMTTM2Q3hVCjdUbkJpZjl5eE45Y3pRVkwvZE5PRlJZa1I4R3R5cmR1cWlEcW1wZFVCeDhpMWxQUUg0ZlhwSS9RSkNCTzkrUGEKVGIwOS8xb1VHb2pFNFZZRVpGa1MvNkViV3NQQUJYYzlXUTNvZG12WXh0TEJ6d0hXeWh1bnZFSVZveDQyakNEWgp0TGFRa2FYa3FqaUhzbHhkUWxHOFVZa3M4WCtOamE3TC9lalBoblZJMWhueVltV0F4K2tDN0hadFFIS2dzbFBOCjlwaU5NWXhKbHRydTdUcUtiSW5zRldoNittY214UmdTT0sxczdRaG9WOEVZZy96S1NqVXJVUS9IU1NmNFkvYmIKaW9LYzF6SmhTUjVxV3cvSjMyTjd1OTkydkIzS1RabXpDTUpEQUFXSFNORFMrY2JieCtNUjRFMzRnVngvTk8rMQpURG1KMjF2VUhCWlFkWG1qWnlVUWx3WlpTcmNrcWczQTZ6MXhCaUVZUjJhaUZObHQ5VDRjWGRoTTU2d3VOSWpsCjJMcDhvc204SFUrejJoVUVvd0h1WDk1KzdZVXpuUVh0TjhTME41YWxleUlKeVl3UzhodVZkd2xKMDNZazFYNWsKRkM1eTFnRnU0N0gwTzZnamc4SzVTd2ViUkVscFEwUUlqcDdhTFhncUxSTjJQQmp6TjFQNngyY1ZmTlVCYzA1MwpzTElocjkrWjNKM3MzemFGNzh5OVlGczhac1VHMGJtcGllR2hualFWTnU4OEhQbVhzYlpZeG9XT0lrRno2TnFUCmUyWjJEOWJtL3lCbFBnQVZXU0NSRXhKSEp2QjZBMTg0VXVFWEN5ZEhJVWVpZ2VuQmZqVDloc0ZlQVpvZGhRc0QKblRKMGtNWW9SeUU1c0UwTklvK01QUnhaWGQydjl2SWhUOUV2ZklWYmdQTEt3aFRjWVNsUXM1NTRsR1p5YkhJdQpNVnlOWWw3QlQ4aGxRdUw4K2tyZzlVM0lhVVBwTmZzcGR3SWxqL1ByMDkrTWp1WmJETEsycjdQbllKMTE2YU5uCkVldDJXaHlzdDQ0RlA4MUwrWUVGenIzaEUxV040UnNXOTg5QWQ1clJpUlA3Y05MWWlVSk5HNXIrZzF0TTNQSVEKNS9IaWEwcWs0Qm9idWRnYUFuYmhWc245TkhEbkszNXc1WS9xSFNVSmZyWDZQSTlVdlNXMVF0by9SWUdyQkZvTQp1MDVHNkxXWVhEL1FZczdSWjJJaTU4YVVqVTRDTHR5VGtkSzJjVm9oSE01R3lDM3EvbkJFM0NzeUJKZjN6TFBJCkdERXg0d1FaNmtpUlJENkVPNk1JNzZjPQo9M3IxRAotLS0tLUVORCBQR1AgTUVTU0FHRS0tLS0tCg=="
   ]
  },
  {
   "cell_type": "code",
   "execution_count": null,
   "metadata": {},
   "outputs": [
    {
     "name": "stdout",
     "output_type": "stream",
     "text": [
      "41190463\n"
     ]
    }
   ],
   "source": [
    "\"\"\"\n",
    "Contains\n",
    "41190463\n",
    "\"\"\"\n",
    "\n",
    "print(res_n.agg(F.sum('t_agr')).collect()[0][0])\n"
   ]
  },
  {
   "cell_type": "code",
   "execution_count": null,
   "metadata": {},
   "outputs": [
    {
     "name": "stdout",
     "output_type": "stream",
     "text": [
      "77386595\n"
     ]
    }
   ],
   "source": [
    "\"\"\"\n",
    "Intersects\n",
    "77386595\n",
    "\"\"\"\n",
    "\n",
    "print(res_n.agg(F.sum('t_agr')).collect()[0][0])\n"
   ]
  },
  {
   "cell_type": "code",
   "execution_count": null,
   "metadata": {},
   "outputs": [],
   "source": [
    "\"\"\"\n",
    "ST_Intersection\n",
    "58166281\n",
    "\"\"\""
   ]
  },
  {
   "cell_type": "code",
   "execution_count": null,
   "metadata": {},
   "outputs": [],
   "source": [
    "import pyarrow.parquet as pq\n",
    "\n",
    "parquet_file = pq.ParquetFile(\"./data/pickle_parquets/others/grids_new_X_comuni_EU/test.parquet\")\n",
    "\n",
    "# Print full metadata\n",
    "print(parquet_file.metadata)\n",
    "\n",
    "# Print schema (column names, types, etc.)\n",
    "print(parquet_file.schema)\n",
    "\n",
    "# Print key-value metadata (custom user-defined metadata)\n",
    "print(parquet_file.metadata.metadata)  # This is a dictionary\n"
   ]
  },
  {
   "cell_type": "code",
   "execution_count": 16,
   "metadata": {},
   "outputs": [
    {
     "name": "stdout",
     "output_type": "stream",
     "text": [
      "{\"$schema\":\"https://proj.org/schemas/v0.7/projjson.schema.json\",\"type\":\"ProjectedCRS\",\"name\":\"ETRS89-extended / LAEA Europe\",\"base_crs\":{\"name\":\"ETRS89\",\"datum_ensemble\":{\"name\":\"European Terrestrial Reference System 1989 ensemble\",\"members\":[{\"name\":\"European Terrestrial Reference Frame 1989\",\"id\":{\"authority\":\"EPSG\",\"code\":1178}},{\"name\":\"European Terrestrial Reference Frame 1990\",\"id\":{\"authority\":\"EPSG\",\"code\":1179}},{\"name\":\"European Terrestrial Reference Frame 1991\",\"id\":{\"authority\":\"EPSG\",\"code\":1180}},{\"name\":\"European Terrestrial Reference Frame 1992\",\"id\":{\"authority\":\"EPSG\",\"code\":1181}},{\"name\":\"European Terrestrial Reference Frame 1993\",\"id\":{\"authority\":\"EPSG\",\"code\":1182}},{\"name\":\"European Terrestrial Reference Frame 1994\",\"id\":{\"authority\":\"EPSG\",\"code\":1183}},{\"name\":\"European Terrestrial Reference Frame 1996\",\"id\":{\"authority\":\"EPSG\",\"code\":1184}},{\"name\":\"European Terrestrial Reference Frame 1997\",\"id\":{\"authority\":\"EPSG\",\"code\":1185}},{\"name\":\"European Terrestrial Reference Frame 2000\",\"id\":{\"authority\":\"EPSG\",\"code\":1186}},{\"name\":\"European Terrestrial Reference Frame 2005\",\"id\":{\"authority\":\"EPSG\",\"code\":1204}},{\"name\":\"European Terrestrial Reference Frame 2014\",\"id\":{\"authority\":\"EPSG\",\"code\":1206}},{\"name\":\"European Terrestrial Reference Frame 2020\",\"id\":{\"authority\":\"EPSG\",\"code\":1382}}],\"ellipsoid\":{\"name\":\"GRS 1980\",\"semi_major_axis\":6378137,\"inverse_flattening\":298.257222101},\"accuracy\":\"0.1\",\"id\":{\"authority\":\"EPSG\",\"code\":6258}},\"coordinate_system\":{\"subtype\":\"ellipsoidal\",\"axis\":[{\"name\":\"Geodetic latitude\",\"abbreviation\":\"Lat\",\"direction\":\"north\",\"unit\":\"degree\"},{\"name\":\"Geodetic longitude\",\"abbreviation\":\"Lon\",\"direction\":\"east\",\"unit\":\"degree\"}]},\"id\":{\"authority\":\"EPSG\",\"code\":4258}},\"conversion\":{\"name\":\"Europe Equal Area 2001\",\"method\":{\"name\":\"Lambert Azimuthal Equal Area\",\"id\":{\"authority\":\"EPSG\",\"code\":9820}},\"parameters\":[{\"name\":\"Latitude of natural origin\",\"value\":52,\"unit\":\"degree\",\"id\":{\"authority\":\"EPSG\",\"code\":8801}},{\"name\":\"Longitude of natural origin\",\"value\":10,\"unit\":\"degree\",\"id\":{\"authority\":\"EPSG\",\"code\":8802}},{\"name\":\"False easting\",\"value\":4321000,\"unit\":\"metre\",\"id\":{\"authority\":\"EPSG\",\"code\":8806}},{\"name\":\"False northing\",\"value\":3210000,\"unit\":\"metre\",\"id\":{\"authority\":\"EPSG\",\"code\":8807}}]},\"coordinate_system\":{\"subtype\":\"Cartesian\",\"axis\":[{\"name\":\"Northing\",\"abbreviation\":\"Y\",\"direction\":\"north\",\"unit\":\"metre\"},{\"name\":\"Easting\",\"abbreviation\":\"X\",\"direction\":\"east\",\"unit\":\"metre\"}]},\"scope\":\"Statistical analysis.\",\"area\":\"Europe - European Union (EU) countries and candidates. Europe - onshore and offshore: Albania; Andorra; Austria; Belgium; Bosnia and Herzegovina; Bulgaria; Croatia; Cyprus; Czechia; Denmark; Estonia; Faroe Islands; Finland; France; Germany; Gibraltar; Greece; Hungary; Iceland; Ireland; Italy; Kosovo; Latvia; Liechtenstein; Lithuania; Luxembourg; Malta; Monaco; Montenegro; Netherlands; North Macedonia; Norway including Svalbard and Jan Mayen; Poland; Portugal including Madeira and Azores; Romania; San Marino; Serbia; Slovakia; Slovenia; Spain including Canary Islands; Sweden; Switzerland; Türkiye (Turkey); United Kingdom (UK) including Channel Islands and Isle of Man; Vatican City State.\",\"bbox\":{\"south_latitude\":24.6,\"west_longitude\":-35.58,\"north_latitude\":84.73,\"east_longitude\":44.83},\"id\":{\"authority\":\"EPSG\",\"code\":3035}}\n"
     ]
    }
   ],
   "source": [
    "from pyproj import CRS\n",
    "print(CRS.from_epsg(3035).to_json()) "
   ]
  },
  {
   "cell_type": "code",
   "execution_count": null,
   "metadata": {},
   "outputs": [
    {
     "name": "stdout",
     "output_type": "stream",
     "text": [
      "4531770\n"
     ]
    }
   ],
   "source": [
    "#ENCRYPTED\n",
    "# This cell was encrypted. Contact: sudheer.siddabattula@gmail.com for access/details\n",
    "\n",
    "LS0tLS1CRUdJTiBQR1AgTUVTU0FHRS0tLS0tCgp3Y0JNQTB5VXBDMWwzUy9oQVFmL1FCUUQxWkM3eUFCelpYclBtSmE2eXR0dUFRWmU5Y3VtUlUydjNOaFp5SmozCkwwbWpZU0YwYlFGbldvSmVZckpPaWhRWDkzUVZCT0Y5a1BYR05leTBhNlFSTWcwbE8wZ2huakN1L04zMWY1Um4KVWI0Y3ZzbzdlbWVmZEJQcFNlOVFDcmhGQTJOWVhOeFJqV0FsNDNOeDJOSUY4bVBSVFA3VzZIRjhESFFWeFB2UApKZmVhY3RHTmlJMnZZQjRacENEQytIc3UveWEzSnloS1ZmcWFad1YvaXRXYjk0SGN1RW4yRHh1Yi9SMkl6TCtLCmZDelNhaTl5RnBXaWhyTVd3ajJwZ0gzSU1EbkJ6RmFyYVdYakx6K0VPMWtEYjI2SGNiemsrZjVUTDk2VnprMXAKbUp0QUZZbUtnWnpnc1NxS3l5TzRXUUpVQ2ZRalY0VUxIRWJyVnVDRHd0TEFTd0VnRmhoaUtSY1p0K0dJb3ZRTQpFYUhxbjkrTnA2eXZFTnVHcEdXRDBxMGZDeStEb3daRGtNZWR3WWlKVDV5K2pIODZFOHZBN3RZbmVkblZ6NndHCnZ4VmtqNU91RWVuSlcxcndjTXNYcklSMTJ3Q1ZsOWdnd05rOUtyeWZxS1JFMDlvNjFBQVh6RlFtb1B6K0NvK0UKQlQzQVQwVWxDUmlRTVA5eEVYNWxwZjJ5NnRXcmZjLzlScWhKVUd0VVI0SzdWR3pmbUQ1cXFSUkE2S052WXNxTwpUT1VVV3J5VUlnejlrYWVFUE9Hbnk2RGZmUWRnTkRJSE1EeHFMY0gxMDNxZ1NUNk1GT2hqU1g5U0k3ZEpMZnB3CklTWVR0SFBGZzVyRG1MeVh5bXdqZ2pWRldlaVpvWXRWdk1nOTJnb2k2MTFlS0VFN0Jjbk5VcDd0d2s1NGE1cTMKcHRPeU12U0srK1Z5TEd0dnFnPT0KPUt0RkIKLS0tLS1FTkQgUEdQIE1FU1NBR0UtLS0tLQo="
   ]
  },
  {
   "cell_type": "code",
   "execution_count": null,
   "metadata": {},
   "outputs": [],
   "source": [
    "#ENCRYPTED\n",
    "# This cell was encrypted. Contact: sudheer.siddabattula@gmail.com for access/details\n",
    "\n",
    "LS0tLS1CRUdJTiBQR1AgTUVTU0FHRS0tLS0tCgp3Y0JNQTB5VXBDMWwzUy9oQVFmL1ZzMFlmMVlhWUc5YzUrVlN4dGtFSWVRNzR0WEFYalAzT00wUTJkZlA0NWdICjM3TmZuSVFVMHNYcE1GSVNzbldINzNhYi94VmZEamVWNVJIeC9CNStQSkRBZ1BPMzBkdkJVN0RwOEF3RmtpcG4KbnNINHZUOEN2Z0oyeGFrVTl5K1gzUmdIN3FpallvUitJZXY2WEk2aEl3K3ZqUFdKM1hDQVEwNDFTd0NwSWM0TgppNVMvMmx1N3BzSHNpOGh1ZHVnb3RkbFBVcG9SdEJla1pheGZKTkZSclhKYzZkRFRvMkR6dURMdS9PL2FTS2FCCnMvRFZkRmVrV1lINkRPT2t6MHpKRDU1ajFWNFltVEJNWERWa0dhTjNwb2pkWXlGTUFMYWUrcS9xMlpCZXc3YVcKNEQzRTF6OUNuODNTbnlMdXkrOUVES3JUa1VIb2lzNE4yY055aWk1VU5OTEJvUUc3dHdLUytBUW43cW9sQ1I1RgpMdWxDVVlvM3VjQ2dpRyt3bWZ2UkRRNk1hTUxRdlRFZDNNdFR0a1NxYlNZYVVNVkFqQitJdzU3SWNHd0RUZ3QrCjEwZGNhbys5UVpnQXdDZlVZS1Q1eU5NMStQVW1CeGUvTGRSZjJTKzhLOGM2WEhFdHYwSzZFckgvVk4zUU5VMkUKcEJLY01rakttVFQwMkUxWTVkUEpVVEhqUUlSRlU2VGJXY0g4Qnh2Tm1iSnkzd2hEa1dHd0I5VFU4Nk0wbStCYwpuR2JKYzVFbmU4Mm56ZmJuNkV3aVlkdEpKOFVkMVpGM2pFb1JvNzcxc21MRVpZT1ZvYWZvT05aSERxUTIvcmZjClI0LzUrd0ZUWnBob3UxMG5sMDl4amxSQWdjTUEzSGh4dHJZVk1HcWtHSEl0U1FVRVZrQnNZZzZHQVViNENtUnMKVGcvMXpXdEpqci8xdHBLaEZBZ1NOWFlVZGNzRUs3ekpRRmRTZUNXM3hlTmpranVaelhqWDk3ZHppNjZSMWx4MQoyY0pTbUJqOW0vcFVIL3pXZUZkTFJ0TjVIWFlWbWc5K1ZoVmhIZVR2eUVHYjYxaURydEJPK05OL2pnQjZxY2RmCnJRVUp1QVZjVk0xeEx0RmMwcGVXVVp5RDdweElUNjF0b253QjlHa0tvNGxMczQzd3c4bHo0ajZOVVFqS3c2eEoKaHpSa1BrUEhraWdzOTFyd1RtaDhnNXdwTmZRZmdQa1l3RkUwWFpmcFEyNXV0djJ3MU9yVDZtUVlpRXdUUkNsRwowL0pRTWNCVTA4c1BzenYrcGFKeDFxaXRuQTNhLzJLWVBRaExkbEx4eUFyMUF6YXpvNlcyZDJZNmwzRDdjenpzCnlRWXN5L1pmZEVYR3A2N3RhUm5PUVVnMzlmVCtjTndnRGpKTTlkanZUYlBabkxTTVdBUGhoSnMwa2RKTmVYb1YKVmcrSS9uZnBMSE1GM0g2NU03YXd0NUhJMTB3THdXSm85SHpORGdIRHVBZ3p6SE9lbWQ2RysrV2t1bmo3MkRNQgptdXYwcGVIb0dDUGZ4ajhYcXFYcDZiRXRKZz09Cj1PYnFTCi0tLS0tRU5EIFBHUCBNRVNTQUdFLS0tLS0K"
   ]
  },
  {
   "cell_type": "code",
   "execution_count": null,
   "metadata": {},
   "outputs": [
    {
     "name": "stderr",
     "output_type": "stream",
     "text": [
      "/data/homes_data/sudheer/benchmark_data/sedona_venv/lib/python3.12/site-packages/jupyter_client/session.py:721: UserWarning: Message serialization failed with:\n",
      "Out of range float values are not JSON compliant: nan\n",
      "Supporting this message is deprecated in jupyter-client 7, please make sure your message is JSON-compliant\n",
      "  content = self.pack(content)\n"
     ]
    },
    {
     "data": {
      "application/vnd.jupyter.widget-view+json": {
       "model_id": "cc76fdf26c8f4a20beab056580dd247c",
       "version_major": 2,
       "version_minor": 0
      },
      "text/plain": [
       "KeplerGl(config={'version': 'v1', 'config': {'visState': {'filters': [], 'layers': [{'id': '7f1zywf', 'type': …"
      ]
     },
     "execution_count": 34,
     "metadata": {},
     "output_type": "execute_result"
    }
   ],
   "source": [
    "map.add_data(\n",
    "    data=prep_for_map(df1, obj.crs, geom_col=\"geometry\"), \n",
    "    name=\"comune\"\n",
    "    )\n",
    "map"
   ]
  },
  {
   "cell_type": "code",
   "execution_count": null,
   "metadata": {},
   "outputs": [],
   "source": [
    "#ENCRYPTED\n",
    "# This cell was encrypted. Contact: sudheer.siddabattula@gmail.com for access/details\n",
    "\n",
    "LS0tLS1CRUdJTiBQR1AgTUVTU0FHRS0tLS0tCgp3Y0JNQTB5VXBDMWwzUy9oQVFmK0lLVEU0NlNEL2hGT29sMHRsYkhiOXhBODJ3NWpnRUhrK3hoU1NjeUFnck0rClVRTFhuNzk1OWVTaTluUUhRcFhPTTFnZjZ5L3lsZ2E3NUg2VFdFalFWNGYyckpreU0wYWFDYmE2OTRCMVFna2gKU2V4SmtlbmE0RWhXSU1NTEhKUFdmUmMxV2U5WWJWVmV4M0xLbEYrY2dTYmo4RVNHaFZSaFRFMVEza2liQnNTSwptSlk4U0JyS1ZabE91T05idGZ0Wm1ob3pnd3VUbWNZZ1BBTzNlS1hTNmN2NXJWTmcyT2xlbHJwOGhiVlhBcEphCmVtMEVOZTdFQU1XWWJNd0dPeXh0M0IwNitNaFZnVzlySzl3ZDUwMi9NbW5GYWZkMnVSTEN0blVpMVFjWDl5dmEKelBVdjhTUFlEWUFjMFg2NlJ2VlFhU1hES0JqckxRNi9lQ3JGcVU1M0lkSzdBWDVDT1JmUVM0WFlJL2pxbEQ2awpab3d4N0RrY0FrUUhRYzR3Uno5ZGlUdHg2MUpqOG5DZkZya3VjZjVnZkhEd0pJdW1GWG5sOHhBYjA4WjJwN2JRCmF0d2FpR1VRRnhja0lsdkwxOGtKLzhjd1lQbHdXYkdxc2tUUG16eU9GaVR3QTFPOXNRb2RwNzNwSWxQYzRRV1gKTEVRb3lkekFmb05UTXdiaWhHVWdrZ2dMS3NxRVNGOG9BdytXS0c5aDY0YlBYZGZNUG9ESG1md2JMcGo0MG1QWApjWlE3a25HV0E3K0VvYm1pQUVSOVE5VkVHRVgxMzRVbjhsV2NUZz09Cj01S0JKCi0tLS0tRU5EIFBHUCBNRVNTQUdFLS0tLS0K"
   ]
  },
  {
   "cell_type": "code",
   "execution_count": null,
   "metadata": {},
   "outputs": [],
   "source": [
    "#ENCRYPTED\n",
    "# This cell was encrypted. Contact: sudheer.siddabattula@gmail.com for access/details\n",
    "\n",
    "LS0tLS1CRUdJTiBQR1AgTUVTU0FHRS0tLS0tCgp3Y0JNQTB5VXBDMWwzUy9oQVFnQW1VQW5zUmcvb2orajlMS0YvZG43Z2NicGtkY0FvL1lyU3VXRnZrUzZJdzl2CmpUYkJLTFpUaXp2UmhxOUJWTGk4aFJFZm9KZUJDblpQQzlmTjMrSDdKd0dwODRseUpWRmw1K3FRTUtsMzNJTnUKaFQ3UjdDNVFUNEwwK2Rsa0tKZlV2TmhaajRRMlhHdVNtRXN0K2M3VHp0Z3NsOU1ZUTJFREZuZVBvSzBzTmlHZAo1Y25Veitnc05mNit1Zmw0bStmOG9EY3NXejVCZ3FETjFtd0J4b0pab0wvRURUbjd4VGFaTzIyb04xRlQxLzVmCm1rOFFCR0U4YnRhOGJJZ3lpbFp4K2kwS1BGSCtIZVBWYVA1RW9oSXo2MzdNVXpMSUpNUXhBK3g4K1VEcGJlYWkKNTdrZTdPdUZCUnIyVVFMdUdrZ3lvalY3UFplV2svclB2eUY3SkM3YS9OTEJDQUhHK3FSMEoyTGZLellPcVdlKwp4YlNhRDFwaCt4MmlsRFczdVY3bDk3ajJBSTJVZ3RTdmFSelBielVwODlNUkRhc25jbCtjNXJRWDMxTUMzMU1yCkFhbkJwcUdhZjRyZnlpWW9GUm1MQ0JrSFpqNlB1UU92YVNhMzFZMDIzNlBNUVM4TlMrdkppLzlGNzE2b1FpSk8KT2wvd24zWEt0b3htZE8yb1lLS0FWaVJWOFlZOGlZdTZXam9ZMjVxRlJiS3ptNmJrallvUklWU0s5K2VIeWVKdwpheXIyN0kzOGc4SGtMVzB4Tzh2dGxxckNJcFVtVy93TFJIcjZpNDJVOC9DSmYzdCsxZFAzMHpvUEFJZGFNM1VwCllyQkdTcGtMSm0xU2Nka1ZYL1V2aFVTUkEvUWZ3QXJmcko3Nit0VWtiQVBOa2ljWTNhRUpRcUFYbGQwOE5HSWUKRFdydjhhR2toU1ppY0JsYXZiVVdwNnE4MHl2T29vN0sxY0tkbmdMZUg3azRtL3FWaTl6cmFnMG1ndUJyenBmYwptWmRmbWtoYmdHNU94OHpqbzlGTld0WDI0eUVqSUlick44M216OHBoSk1aRlBjMHpvODhvTDdBSG93Z1g5NVhrCk9aQ1ZOL1NUb3VwZCt2M0FPbFY5VFZ0OGlTcm5sZUxIc0NzVWtRVWducDVzQUFCVG5YWlZFOFFMVTl4c2dWc04KWjE3OWlhY0xub0hMNVBOUWdCTGJWNzhGTjdySyszaUZOOFoyYjJUTmgwK1U1dldQb1Z2ZndRNjArcDlISWppYwp0RkY5MVN1ak14NHE5dz09Cj1hWjNzCi0tLS0tRU5EIFBHUCBNRVNTQUdFLS0tLS0K"
   ]
  },
  {
   "cell_type": "code",
   "execution_count": null,
   "metadata": {},
   "outputs": [],
   "source": []
  },
  {
   "cell_type": "code",
   "execution_count": null,
   "metadata": {},
   "outputs": [],
   "source": []
  },
  {
   "cell_type": "code",
   "execution_count": null,
   "metadata": {},
   "outputs": [],
   "source": []
  },
  {
   "cell_type": "code",
   "execution_count": null,
   "metadata": {},
   "outputs": [],
   "source": [
    "# import geopandas as gpd\n",
    "\n",
    "# path = \"./data/pickle_parquets/others/grids_new_X_comuni_EU\"\n",
    "\n",
    "# gdf = gpd.read_parquet(path)\n",
    "\n",
    "# crs = gdf.crs\n",
    "\n",
    "# if crs:\n",
    "#     print(f\"The CRS of the GeoParquet file is: {crs}\")\n",
    "# else:\n",
    "#     print(\"The CRS of the GeoParquet file is undefined.\")\n",
    "    \n",
    "# if crs:\n",
    "#     formatted_crs = CRS(crs)  \n",
    "#     print(f\"CRS: {formatted_crs.to_string()}\") \n",
    "#     print(f\"EPSG Code: {formatted_crs.to_epsg()}\")  \n",
    "#     print(f\"PROJ String: {formatted_crs.to_proj4()}\")  \n",
    "#     print(f\"WKT Format: {formatted_crs.to_wkt()}\")  \n",
    "# else:\n",
    "#     print(\"The CRS of the GeoParquet file is undefined.\")"
   ]
  }
 ],
 "metadata": {
  "kernelspec": {
   "display_name": "sedona_venv",
   "language": "python",
   "name": "python3"
  },
  "language_info": {
   "codemirror_mode": {
    "name": "ipython",
    "version": 3
   },
   "file_extension": ".py",
   "mimetype": "text/x-python",
   "name": "python",
   "nbconvert_exporter": "python",
   "pygments_lexer": "ipython3",
   "version": "3.12.3"
  }
 },
 "nbformat": 4,
 "nbformat_minor": 4
}
