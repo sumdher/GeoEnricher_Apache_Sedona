{
 "cells": [
  {
   "cell_type": "code",
   "execution_count": 8,
   "metadata": {},
   "outputs": [],
   "source": [
    "#ENCRYPTED\n",
    "# This cell is encrypted. Will be made public soon. Contact: sudheer.siddabattula@gmail.com for access/details\n",
    "\n",
    "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"
   ]
  },
  {
   "cell_type": "code",
   "execution_count": null,
   "metadata": {},
   "outputs": [],
   "source": [
    "''' \n",
    "Loading data from files.\n",
    "This will take a while. Because it cleans and makes some essential transformations.\n",
    "But it is a one-time operation. `parquet_all()` will save all datasets to the disk, preserving any transformations applied.\n",
    "From next time, you can directly load them  with: `load_from_parquets()`.\n",
    "'''\n",
    "\n",
    "\n",
    "# Provide the data directory\n",
    "data_dir = f\"./data\"\n",
    "\n",
    "# Individual file paths:\n",
    "path_contr = f\"{data_dir}/data_EU/countries_shp/\"\n",
    "path_reg = f\"{data_dir}/data_Italy/regioni/\"\n",
    "path_prov = f\"{data_dir}/data_Italy/provinci\"\n",
    "path_com_EU = f\"{data_dir}/data_EU/comuni_shp/\"\n",
    "path_com = f\"{data_dir}/data_Italy/comuni/\"\n",
    "path_grids = f\"{data_dir}/data_EU/census_grid_EU/grids_OG_corrected.parquet\"\n",
    "path_grids_new = f\"{data_dir}/data_EU/census_grid_EU/grids_new.gpkg\"\n",
    "\n",
    "# Dataset names and their file formats:\n",
    "# format: {dataset_name: (path, file_format), ...}\n",
    "\n",
    "datasets: dict[str, tuple[str, str]] = {\n",
    "    \"countries\": (path_contr, \"shapefile\"),\n",
    "    \"regions_IT\": (path_reg, \"shapefile\"),\n",
    "    \"provinces_IT\": (path_prov, \"shapefile\"),\n",
    "    \"comuni_EU\": (path_com_EU, \"shapefile\"),\n",
    "    \"comuni_IT\": (path_com, \"shapefile\"),\n",
    "    \"pop_grids\": (path_grids, \"geoparquet\"),\n",
    "    \"pop_grids_new\": (path_grids_new, \"geopackage\"),\n",
    "}\n",
    "\n",
    "obj = Enricher(crs=\"EPSG:3035\")\n",
    "\n",
    "# Setup the Enricher object with \"sedona\" (or, \"wherobots\")\n",
    "# \"ex_mem\" and \"dr_mem\" are the executor and driver memory in GB\n",
    "obj.setup_cluster(\n",
    "    data_dir=data_dir, \n",
    "    which=\"sedona\", \n",
    "    ex_mem=26,\n",
    "    dr_mem=24,\n",
    "    log_level=\"ERROR\")\n",
    "\n",
    "# Use \"load()\" to load all the datasets in {data_dir}, \n",
    "# according to the paths and file formats provided in \"datasets{}\"\n",
    "obj.load(datasets, silent=True)\n",
    "\n",
    "# Optionally, run \"fix_geometries()\" to fix invalid geometries if any; \n",
    "# if you want to skip the check for some dataframes, pass their names in \"skip[]\"\n",
    "obj.fix_geometries(\n",
    "    skip=['pop_grids', 'pop_grids_new']\n",
    "    )\n",
    "\n",
    "# Optionally, inspect the partitions and data skew:\n",
    "# obj.inspect_partitions()\n",
    "\n",
    "# and force the dataframes to be repartitioned to the number of available cores\n",
    "# pass the names of the dataframes to be skipped in skip[]\n",
    "obj.force_repartition(skip=['pop_grids'])\n",
    "\n",
    "# obj.inspect_partitions()\n",
    "\n",
    "# Transform the CRS of loaded datasets to the CRS passed in the Enricher constructor\n",
    "# lazy=True will not cache the dataframes. \n",
    "obj.transform_CRS(lazy=False)\n",
    "\n",
    "# Pickle all the dataframes to disk for quick access later.\n",
    "# default directory: \"./{data_dir}/pickle_parquets/dfs_list\"\n",
    "# you may change the directory where they are saved by pasing it in \"parquet_dir\"; relative to the {data_dir}\n",
    "obj.parquet_all(preserve_partitions=True)\n",
    "\n",
    "\n",
    "# obj.dfs_list['comuni_EU'] = obj.dfs_list['comuni_EU'].filter(F.col('CNTR_ID').isin([\"IT\", \"DE\"]))"
   ]
  },
  {
   "cell_type": "code",
   "execution_count": 3,
   "metadata": {},
   "outputs": [
    {
     "name": "stderr",
     "output_type": "stream",
     "text": [
      "25/03/04 17:07:18 WARN Utils: Your hostname, marvin resolves to a loopback address: 127.0.1.1; using 172.20.27.4 instead (on interface eth0)\n",
      "25/03/04 17:07:18 WARN Utils: Set SPARK_LOCAL_IP if you need to bind to another address\n"
     ]
    },
    {
     "name": "stdout",
     "output_type": "stream",
     "text": [
      ":: loading settings :: url = jar:file:/data/homes_data/sudheer/benchmark_data/sedona_venv/lib/python3.12/site-packages/pyspark/jars/ivy-2.5.1.jar!/org/apache/ivy/core/settings/ivysettings.xml\n"
     ]
    },
    {
     "name": "stderr",
     "output_type": "stream",
     "text": [
      "Ivy Default Cache set to: /data/homes_data/sudheer/.ivy2/cache\n",
      "The jars for the packages stored in: /data/homes_data/sudheer/.ivy2/jars\n",
      "org.apache.sedona#sedona-spark-shaded-3.5_2.12 added as a dependency\n",
      "org.datasyslab#geotools-wrapper added as a dependency\n",
      ":: resolving dependencies :: org.apache.spark#spark-submit-parent-62296aa7-c61f-4d10-9463-bf409c3b5de9;1.0\n",
      "\tconfs: [default]\n",
      "\tfound org.apache.sedona#sedona-spark-shaded-3.5_2.12;1.7.0 in central\n",
      "\tfound org.datasyslab#geotools-wrapper;1.7.0-28.5 in central\n",
      ":: resolution report :: resolve 242ms :: artifacts dl 10ms\n",
      "\t:: modules in use:\n",
      "\torg.apache.sedona#sedona-spark-shaded-3.5_2.12;1.7.0 from central in [default]\n",
      "\torg.datasyslab#geotools-wrapper;1.7.0-28.5 from central in [default]\n",
      "\t---------------------------------------------------------------------\n",
      "\t|                  |            modules            ||   artifacts   |\n",
      "\t|       conf       | number| search|dwnlded|evicted|| number|dwnlded|\n",
      "\t---------------------------------------------------------------------\n",
      "\t|      default     |   2   |   0   |   0   |   0   ||   2   |   0   |\n",
      "\t---------------------------------------------------------------------\n",
      ":: retrieving :: org.apache.spark#spark-submit-parent-62296aa7-c61f-4d10-9463-bf409c3b5de9\n",
      "\tconfs: [default]\n",
      "\t0 artifacts copied, 2 already retrieved (0kB/8ms)\n",
      "25/03/04 17:07:20 WARN NativeCodeLoader: Unable to load native-hadoop library for your platform... using builtin-java classes where applicable\n",
      "Setting default log level to \"WARN\".\n",
      "To adjust logging level use sc.setLogLevel(newLevel). For SparkR, use setLogLevel(newLevel).\n",
      "25/03/04 17:07:20 WARN SparkConf: Note that spark.local.dir will be overridden by the value set by the cluster manager (via SPARK_LOCAL_DIRS in mesos/standalone/kubernetes and LOCAL_DIRS in YARN).\n",
      "                                                                                \r"
     ]
    },
    {
     "name": "stdout",
     "output_type": "stream",
     "text": [
      "sedona initialized with 10 cores for parellelism.\n",
      "Loading 'countries' from Parquet...\n"
     ]
    },
    {
     "name": "stderr",
     "output_type": "stream",
     "text": [
      "                                                                                \r"
     ]
    },
    {
     "name": "stdout",
     "output_type": "stream",
     "text": [
      "Loaded dataframe 'countries'\n",
      "Loading 'regions_IT' from Parquet...\n",
      "Loaded dataframe 'regions_IT'\n",
      "Loading 'provinces_IT' from Parquet...\n",
      "Loaded dataframe 'provinces_IT'\n",
      "Loading 'comuni_EU' from Parquet...\n",
      "Loaded dataframe 'comuni_EU'\n",
      "Loading 'comuni_IT' from Parquet...\n",
      "Loaded dataframe 'comuni_IT'\n",
      "Loading 'pop_grids' from Parquet...\n",
      "Loaded dataframe 'pop_grids'\n",
      "Loading 'pop_grids_new' from Parquet...\n",
      "Loaded dataframe 'pop_grids_new'\n"
     ]
    }
   ],
   "source": [
    "''' \n",
    "Load data from pickled parquets \n",
    "\n",
    "'''\n",
    "\n",
    "# Provide the data directory\n",
    "data_dir = \"./data\"\n",
    "\n",
    "obj = Enricher(crs=\"EPSG:3035\")\n",
    "\n",
    "# Setup the Enricher object with \"sedona\" (or, \"wherobots\")\n",
    "# \"ex_mem\" and \"dr_mem\" are the executor and driver memory in GB\n",
    "obj.setup_cluster(data_dir=data_dir, \n",
    "                  which=\"sedona\", \n",
    "                  ex_mem=26, \n",
    "                  dr_mem=24, \n",
    "                  log_level=\"ERROR\")\n",
    "\n",
    "# Loads all the datasets from pickled parquets in the default direcoty: \"./{data_dir}/pickle_parquets/dfs_list\"\n",
    "# optionally, to load from a different directory, pass the directory path in \"parquet_dir\"; reative to the {data_dir}\n",
    "obj.load_from_parquets()\n",
    "# obj.inspect_partitions()"
   ]
  },
  {
   "cell_type": "code",
   "execution_count": null,
   "metadata": {},
   "outputs": [],
   "source": [
    "\"\"\"\n",
    "Visualize the datasets\n",
    "\"\"\"\n",
    "\n",
    "# Pass a list of names of the loaded datasets or directly the Spark dataframes in memory\n",
    "obj.plot_this(\n",
    "    [\"countries\", obj.dfs_list[\"provinces_IT\"]],  # str | SparkDataFrame | list[str | SparkDataFrame]\n",
    "    new_map=True  # if it is False, the dataset will be added to the old map (if it exists, or else, makes a new one)\n",
    "    )\n",
    "\n",
    "# you can plot the map in another cell, just run `<obj>.map`"
   ]
  },
  {
   "cell_type": "code",
   "execution_count": 4,
   "metadata": {},
   "outputs": [
    {
     "data": {
      "application/vnd.jupyter.widget-view+json": {
       "model_id": "e53cbec8797b4f4cbd50a48db2dc072a",
       "version_major": 2,
       "version_minor": 0
      },
      "text/plain": [
       "VBox(children=(HTML(value='<h1>Enrich with Overlay & Aggregation</h1>'), HTML(value=\"<div style='height: 5px;'…"
      ]
     },
     "metadata": {},
     "output_type": "display_data"
    }
   ],
   "source": [
    "'''\n",
    "GUI for Enricher primitives\n",
    "\n",
    "'''\n",
    "\n",
    "# pass the Enricher object (loaded with the datasets) to the EnricherUI\n",
    "obj_ui = EnrichOverlay(obj)\n"
   ]
  },
  {
   "cell_type": "code",
   "execution_count": 11,
   "metadata": {},
   "outputs": [
    {
     "name": "stdout",
     "output_type": "stream",
     "text": [
      "User Guide: https://docs.kepler.gl/docs/keplergl-jupyter\n"
     ]
    },
    {
     "name": "stderr",
     "output_type": "stream",
     "text": [
      "                                                                                \r"
     ]
    },
    {
     "data": {
      "application/vnd.jupyter.widget-view+json": {
       "model_id": "41ffff594e0248f59b9488587771a7b4",
       "version_major": 2,
       "version_minor": 0
      },
      "text/plain": [
       "KeplerGl(data={'unnamed': {'index': [0, 1, 2, 3, 4, 5, 6, 7, 8, 9, 10, 11, 12, 13, 14, 15, 16, 17, 18, 19, 20,…"
      ]
     },
     "execution_count": 11,
     "metadata": {},
     "output_type": "execute_result"
    }
   ],
   "source": [
    "obj.plot_this(\n",
    "    [obj.res_agr],  # str | SparkDataFrame | list[str | SparkDataFrame]\n",
    "    new_map=True  # if it is False, the dataset will be added to the old map (if it exists, or else, makes a new map)\n",
    "    )"
   ]
  },
  {
   "cell_type": "code",
   "execution_count": 14,
   "metadata": {},
   "outputs": [
    {
     "name": "stdout",
     "output_type": "stream",
     "text": [
      "Loading dataframe 'grids_X_comuni' from Parquet...\n",
      "Loaded dataframe 'grids_X_comuni'\n",
      "+---------+\n",
      "|T_agr_sum|\n",
      "+---------+\n",
      "|    15477|\n",
      "|     1854|\n",
      "|     2660|\n",
      "|     2006|\n",
      "|      763|\n",
      "|     2006|\n",
      "|      239|\n",
      "|       63|\n",
      "|      345|\n",
      "|      481|\n",
      "+---------+\n",
      "only showing top 10 rows\n",
      "\n",
      "None\n"
     ]
    }
   ],
   "source": [
    "# obj.parquet_this(\"grids_X_comuni\", obj.res_agr, preserve_partitions=True)\n",
    "\n",
    "res_agr = obj.load_from_parquet(name=\"grids_X_comuni\")\n",
    "print(res_agr.select(\"T_agr_sum\").show(10))"
   ]
  },
  {
   "cell_type": "code",
   "execution_count": null,
   "metadata": {},
   "outputs": [
    {
     "name": "stdout",
     "output_type": "stream",
     "text": [
      "['COMM_ID', 'CNTR_ID', 'CNTR_CODE', 'COMM_NAME', 'NAME_ASCI', 'TRUE_FLAG', 'NSI_CODE', 'NAME_NSI', 'NAME_LATN', 'NUTS_CODE', 'FID', 'geohash', 'geometry', 'T_agr_sum']\n",
      "58166281.116447605\n"
     ]
    }
   ],
   "source": [
    "temp: SparkDataFrame = obj.res_agr\n",
    "print(temp.columns)\n",
    "\n",
    "# temp: SparkDataFrame = temp.filter(F.col('CNTR_ID') == 'IT')\n",
    "print(temp.agg(F.sum('T_agr_sum')).collect()[0][0])\n",
    "\n",
    "# obj.parquet_this(\"intrsctn_com_grid_IT\", temp, preserve_partitions=False)\n",
    "# obj.parquet_this(\"grids_new_X_comuni_EU_IT\", temp, preserve_partitions=False)\n",
    "# temp.cache()"
   ]
  },
  {
   "cell_type": "code",
   "execution_count": null,
   "metadata": {},
   "outputs": [
    {
     "name": "stderr",
     "output_type": "stream",
     "text": [
      "[Stage 215:====================================================>(199 + 1) / 200]\r"
     ]
    },
    {
     "name": "stdout",
     "output_type": "stream",
     "text": [
      "109707\n"
     ]
    },
    {
     "name": "stderr",
     "output_type": "stream",
     "text": [
      "                                                                                \r"
     ]
    }
   ],
   "source": [
    "#ENCRYPTED\n",
    "# This cell is encrypted. Will be made public soon. Contact: sudheer.siddabattula@gmail.com for access/details\n",
    "\n",
    "LS0tLS1CRUdJTiBQR1AgTUVTU0FHRS0tLS0tCgp3Y0JNQTB5VXBDMWwzUy9oQVFmOEM1V25DRlFPVXNOYnY2Y2s3S0V4bzE4T1RwNERDNEw0eXJHcTM3ZEVmNFVoCm5BZkljVVJDV08xc2M1M3BKV3FFT05LMVRRZWFWVVBDTXJ6NjR5RndmaUpaZitrL2QvTk1XSjViL0ErU1B2MU0KMzVFNVFmZlRmVU92UmpBenh0Z3dPL29ORzF1SkJmL2NZSmFZRm0zaW4rOXVicDF5WG9oM3pzdmU1cFhJQ2RxZgpOTEpPNXlSRG1aZktmU2pMaHZzb3pVeW9FdkVDSjZFT0I2QXZvQXVxdzZmYzc0Z05xZ09xZDNUVm03MTZvaklICjhwWmZ3WmJpMUEwZWI0cnBvL3NDTnN3a3pVb0hCMEZ5ekdOMXVOb2tjVFg2NzRSWlBxeVJkTC84Nk5MdnpvUEoKVmdNUjZudWNQc1lNTlJvaVQ5enFxMVVhM2NqRDQ2RG4yVkxsbjdha2ZkTEJ6d0VBYXZMY0Nub2dDSGRwZndtQgpGQStBNHdVSXBEMUdZUm9uUGNhZHBoYk9ROHRwaGRBQnkzcTM1ZURHckVyM0xDejZkeGxRU29tRVR5MzlxckJkCmRrWUlUL080b0JDaTVvejlkWVczMVhOclpLeVlReGMyTnVHRWhTeE1NMmxGUENGY25Qc0dEblUreGZZeFZJNWYKUUZtSTVJL1p2VmR4bVRDOUJYYmlWZnRRUDZrdGV3R1MzUlMrSUVoSVVqQ3NwSk1mdU5hZ1dxd2VabHNyUUl1ZQp3TnR1VjlDV1JCdmRqQVF1NUQ1Z21rcGYraUhMbE5WUzhZMWRhMTY5UlllME9CbkZad2RzUW9hWFZwV2tETnB2CkRFckpuOVpSR2tXQk9WN3puRThFYW9FdHNIcWNISFdvL1F0T21aWHF3bFZhYnljclFWS0RETXV5eE00UEhnNXQKVHVmai8vK2RuUTJmWWx3NDd2a2R6bjN1ckp6RUpQaVF0V2Q2R0hXMFMxT1RyeEhYSEd3NHVBbG0ycTVDZktkaQpVNlNGNHltWTN6eHFQQUhFMXVWRlFiYTBNNGs0bFdSMXdaS3NkUTdMR3cyWDdCN2s0ZGEwT3FEZEZtWmpjWmduCi9hUDZHcmY4ZEhHTGs2QlE5K2YyRmNYWVd2ZnZoaXdTM3RUNU1oTyt3eFdvSGFtWm5pczVqbWtuWUE1WmI0RkEKdWdlZTNHaHBxYlJOT2JHQm5KNE0rbzFsbVU2MTJieGNyVmVZZWJiMkxtYlltb2x5ODkyZVdmcldyamZhMFpkNQpRSnNPVWlRTjdLTWV6UVFuSzAyUFFTenphbmw2bnhoOFk5bW9NdW5BeGUxZUVHR05sNkdNZVVldURFa2lmREgxCndaNGRMdDIrQVVRRzhWZ0hMc0d2d3VWRDlNQStlSE81WVRpVlY0YTVoemd4Z0xnblphU21LLzFyTWIreVVEb2EKc3B6ek10aytCc3NuOTh4emhkNWVmbkNhY2tiSXNWb0pmcTI3dGxRRVJqZGZaaXJJT0tuMzZJVWdsekYyUkNRYQpMU1pWWDhLVnh3SGE5VTFkYkNDQU1UdEhUakdJNVNEYmJYOFFZZ3oxQU80dnJ3Uzh4N29YR1RydlhrajFvaW14CmV3bytQRUcyLzJFeUk0cnRmSXpzZkk0PQo9TjEwSQotLS0tLUVORCBQR1AgTUVTU0FHRS0tLS0tCg=="
   ]
  },
  {
   "cell_type": "code",
   "execution_count": null,
   "metadata": {},
   "outputs": [
    {
     "name": "stdout",
     "output_type": "stream",
     "text": [
      "41190463\n"
     ]
    }
   ],
   "source": [
    "\"\"\"\n",
    "Contains\n",
    "41190463\n",
    "\"\"\"\n",
    "\n",
    "print(res_n.agg(F.sum('t_agr')).collect()[0][0])\n"
   ]
  },
  {
   "cell_type": "code",
   "execution_count": null,
   "metadata": {},
   "outputs": [
    {
     "name": "stdout",
     "output_type": "stream",
     "text": [
      "77386595\n"
     ]
    }
   ],
   "source": [
    "\"\"\"\n",
    "Intersects\n",
    "77386595\n",
    "\"\"\"\n",
    "\n",
    "print(res_n.agg(F.sum('t_agr')).collect()[0][0])\n"
   ]
  },
  {
   "cell_type": "code",
   "execution_count": null,
   "metadata": {},
   "outputs": [],
   "source": [
    "\"\"\"\n",
    "ST_Intersection\n",
    "58166281\n",
    "\"\"\""
   ]
  },
  {
   "cell_type": "code",
   "execution_count": null,
   "metadata": {},
   "outputs": [],
   "source": [
    "import pyarrow.parquet as pq\n",
    "\n",
    "parquet_file = pq.ParquetFile(\"./data/pickle_parquets/others/grids_new_X_comuni_EU/test.parquet\")\n",
    "\n",
    "# Print full metadata\n",
    "print(parquet_file.metadata)\n",
    "\n",
    "# Print schema (column names, types, etc.)\n",
    "print(parquet_file.schema)\n",
    "\n",
    "# Print key-value metadata (custom user-defined metadata)\n",
    "print(parquet_file.metadata.metadata)  # This is a dictionary\n"
   ]
  },
  {
   "cell_type": "code",
   "execution_count": 16,
   "metadata": {},
   "outputs": [
    {
     "name": "stdout",
     "output_type": "stream",
     "text": [
      "{\"$schema\":\"https://proj.org/schemas/v0.7/projjson.schema.json\",\"type\":\"ProjectedCRS\",\"name\":\"ETRS89-extended / LAEA Europe\",\"base_crs\":{\"name\":\"ETRS89\",\"datum_ensemble\":{\"name\":\"European Terrestrial Reference System 1989 ensemble\",\"members\":[{\"name\":\"European Terrestrial Reference Frame 1989\",\"id\":{\"authority\":\"EPSG\",\"code\":1178}},{\"name\":\"European Terrestrial Reference Frame 1990\",\"id\":{\"authority\":\"EPSG\",\"code\":1179}},{\"name\":\"European Terrestrial Reference Frame 1991\",\"id\":{\"authority\":\"EPSG\",\"code\":1180}},{\"name\":\"European Terrestrial Reference Frame 1992\",\"id\":{\"authority\":\"EPSG\",\"code\":1181}},{\"name\":\"European Terrestrial Reference Frame 1993\",\"id\":{\"authority\":\"EPSG\",\"code\":1182}},{\"name\":\"European Terrestrial Reference Frame 1994\",\"id\":{\"authority\":\"EPSG\",\"code\":1183}},{\"name\":\"European Terrestrial Reference Frame 1996\",\"id\":{\"authority\":\"EPSG\",\"code\":1184}},{\"name\":\"European Terrestrial Reference Frame 1997\",\"id\":{\"authority\":\"EPSG\",\"code\":1185}},{\"name\":\"European Terrestrial Reference Frame 2000\",\"id\":{\"authority\":\"EPSG\",\"code\":1186}},{\"name\":\"European Terrestrial Reference Frame 2005\",\"id\":{\"authority\":\"EPSG\",\"code\":1204}},{\"name\":\"European Terrestrial Reference Frame 2014\",\"id\":{\"authority\":\"EPSG\",\"code\":1206}},{\"name\":\"European Terrestrial Reference Frame 2020\",\"id\":{\"authority\":\"EPSG\",\"code\":1382}}],\"ellipsoid\":{\"name\":\"GRS 1980\",\"semi_major_axis\":6378137,\"inverse_flattening\":298.257222101},\"accuracy\":\"0.1\",\"id\":{\"authority\":\"EPSG\",\"code\":6258}},\"coordinate_system\":{\"subtype\":\"ellipsoidal\",\"axis\":[{\"name\":\"Geodetic latitude\",\"abbreviation\":\"Lat\",\"direction\":\"north\",\"unit\":\"degree\"},{\"name\":\"Geodetic longitude\",\"abbreviation\":\"Lon\",\"direction\":\"east\",\"unit\":\"degree\"}]},\"id\":{\"authority\":\"EPSG\",\"code\":4258}},\"conversion\":{\"name\":\"Europe Equal Area 2001\",\"method\":{\"name\":\"Lambert Azimuthal Equal Area\",\"id\":{\"authority\":\"EPSG\",\"code\":9820}},\"parameters\":[{\"name\":\"Latitude of natural origin\",\"value\":52,\"unit\":\"degree\",\"id\":{\"authority\":\"EPSG\",\"code\":8801}},{\"name\":\"Longitude of natural origin\",\"value\":10,\"unit\":\"degree\",\"id\":{\"authority\":\"EPSG\",\"code\":8802}},{\"name\":\"False easting\",\"value\":4321000,\"unit\":\"metre\",\"id\":{\"authority\":\"EPSG\",\"code\":8806}},{\"name\":\"False northing\",\"value\":3210000,\"unit\":\"metre\",\"id\":{\"authority\":\"EPSG\",\"code\":8807}}]},\"coordinate_system\":{\"subtype\":\"Cartesian\",\"axis\":[{\"name\":\"Northing\",\"abbreviation\":\"Y\",\"direction\":\"north\",\"unit\":\"metre\"},{\"name\":\"Easting\",\"abbreviation\":\"X\",\"direction\":\"east\",\"unit\":\"metre\"}]},\"scope\":\"Statistical analysis.\",\"area\":\"Europe - European Union (EU) countries and candidates. Europe - onshore and offshore: Albania; Andorra; Austria; Belgium; Bosnia and Herzegovina; Bulgaria; Croatia; Cyprus; Czechia; Denmark; Estonia; Faroe Islands; Finland; France; Germany; Gibraltar; Greece; Hungary; Iceland; Ireland; Italy; Kosovo; Latvia; Liechtenstein; Lithuania; Luxembourg; Malta; Monaco; Montenegro; Netherlands; North Macedonia; Norway including Svalbard and Jan Mayen; Poland; Portugal including Madeira and Azores; Romania; San Marino; Serbia; Slovakia; Slovenia; Spain including Canary Islands; Sweden; Switzerland; Türkiye (Turkey); United Kingdom (UK) including Channel Islands and Isle of Man; Vatican City State.\",\"bbox\":{\"south_latitude\":24.6,\"west_longitude\":-35.58,\"north_latitude\":84.73,\"east_longitude\":44.83},\"id\":{\"authority\":\"EPSG\",\"code\":3035}}\n"
     ]
    }
   ],
   "source": [
    "from pyproj import CRS\n",
    "print(CRS.from_epsg(3035).to_json()) "
   ]
  },
  {
   "cell_type": "code",
   "execution_count": null,
   "metadata": {},
   "outputs": [
    {
     "name": "stdout",
     "output_type": "stream",
     "text": [
      "4531770\n"
     ]
    }
   ],
   "source": [
    "#ENCRYPTED\n",
    "# This cell is encrypted. Will be made public soon. Contact: sudheer.siddabattula@gmail.com for access/details\n",
    "\n",
    "LS0tLS1CRUdJTiBQR1AgTUVTU0FHRS0tLS0tCgp3Y0JNQTB5VXBDMWwzUy9oQVFmL2ZFYWdiL2dySzBlNU9memJ4WDJCd0ZnbWQ3czRCcjBRaHVRd0JacEFrK2lMCjlBVTVhYjZrVzRXc2x2bnFIMTVzRXp0N2JmRmRxcDFCSTEzanZGSnFwS0FoaFBxbWRjZlkyWi9NQ0RrYnNvWGsKaStxTlgrQVhTVkhERytBK0dQUzZZOFlYUGpHZlprMlMxL2VoVUlGODFqclovenQwN3ZCcFhRM0liZDg5MXptZgowOGRtL2RwV2NlVkM3WFZzeU1uaExTMW9MUEVsWDdYQ2lPK1F5aVp5K1lUV29BYm9raVpBaXowQzhXQWhIMDdCCi9wL1RhNHVQOUVUZkRCS1diUHBGb0F1VFE0L0l0OWdkczVic2ZiajF1ZGNCVmhFRDA4Z3VFRk5QVCtrcEhnNGIKN0ZhcUR5VFBpUzFOWkpPbFdwUGE2amFRb0ZkK1hWMC85TjA5Q3Rad3U5TEFTd0VuNTBYQlV0bVArR0FyNmF0VQorQ28wNXBTYVYrQi85Y1REVkRHZTNuU2U1R1l1YVhGN3JHVXk5YzhxaGZDNFUrdGVTUUFnUDZzSDdoc2dyUS9XCmFqZC81WlM4ZXV0ZDVLbU1EZGNpRVFWbXhpdkxnREtFTTFlaFJ0QjVjUHo3SFVzN0lrY21XeFRzMWFxTWd3MU4Ka3JyVTk2UzZiVGpueUdpd2ppekFOWFRWK1N1TFAyNE9idHlnWVZqem5XbUF4TVlEUW1TVkd6d1BsOU9IMUR2WgpKMEVOSlh0UGVPWWNhU0xjY01RN21UNDhGNU5YY3VRQXdFNWdKekU3Nk5rTEc2aWg5VlRiWTROTUZ5QjMwUnkzCnZZTnpRZkxNdWdBbjRydUJCQjdDZFJBUE83a1FFMVlMQ1RGTFFCQlJHdTNYb0dQbG5zd1dyZnhRdmRTYXhPNE4KVExJRG1qblYyWExLQUVleWFBPT0KPVhVZmIKLS0tLS1FTkQgUEdQIE1FU1NBR0UtLS0tLQo="
   ]
  },
  {
   "cell_type": "code",
   "execution_count": null,
   "metadata": {},
   "outputs": [],
   "source": [
    "#ENCRYPTED\n",
    "# This cell is encrypted. Will be made public soon. Contact: sudheer.siddabattula@gmail.com for access/details\n",
    "\n",
    "LS0tLS1CRUdJTiBQR1AgTUVTU0FHRS0tLS0tCgp3Y0JNQTB5VXBDMWwzUy9oQVFmL1RsamZqSUlXWStaSU9iYzNjcDQ5UXpJYVI3YkNyTXhublVkdWpYY2dXRFJLCmNYeXc1SEJvSlc2czFxSkZZV1pMMU4ybXBtczhiTUdma0laR3RMeUd6TFg5MUhzR3RnNFZuMUlYOTRhcGNkTTIKVFRZNGRRa3hnNGhxbDlXRHFDWXJFdmhnYVJnNjVBdlcxd3hJYm1pYUxZZmhDWFpiSzZzQlkyOXhCbjc5czAyYgpwbnBDR2psU2tQOTM0dTlnS2dicUs4ZmtoZFEyYjJzVFNBZkhreW9jdVUrYnFsSEFFbHoxZnBsVTltT2krSCtSCjBPenNuOUYrUWFoMkVaMitLOVNhTWNZRnVvdFZzbk52TVRleGx4K3ArTkpKdXVwazFpL2lyUlcxMytHV21mNTkKaStudS80anErNGlFZFhReEppRHRoY0NTdnNnbktHL1g2SkN4blJkRnd0TEJvUUdXWEtDMGlWdkdvanl2MzZhUAp1Rm1XSDhwK3dET3ZIUWpaTm9IU0RjQ1N0ZDlLNXR0UWd1cHcxMkt2aDF0czRBcVZ0ejRkQ3VVYTEyRWxpdXdBCkphWis0dFRYbGNRQTBiYmNETStmR2YvMURraW00TGpxZjd1RWRRSHkxM3JDaXU1eGkrN1c5cnk5VjNFeHFiRXEKV05CaFFYa3FuOEpmTXV4d1F0U0h0cnpUM0tnYmgvb09sNWVQaXl6bVhmeEVENXRmajBiZDZlYlR1WlQwNldLVQpvYk9hcDA4WEZjYUh1NTY2WFFLQnk0ZFA0ZS8vM29qaEZKb1dLc2RIWm9tTlZtSk5sOWdtSG5qblVQMXk4T05tCnZTQ1d2bTRDVUJrREFyQ0tJVjZIVDFadnhnenJ4K1VTNWlQOXhwQUFDNXM4L01CNjZUTTI1K1ROQWdmNEFyTTAKdXFBMC9HNUZiYk5hNEk4RXhWZVVRMmlpYVg2dHhzeHh5RURaNUZzVytSUml6UjlWZEYrTkJScFp2eVFaY3M5SAo0RGJWL1BIQjhUSGJvV3hIV1NLNGRPQ1hZc1hhQ2JYMHhaeUlFSWkxUG9qZHJwa2ZlYzJrMFdEbEFlNWZtY2lrCmNRdFc2TXlwWlE4em84YmRzalRzVWJmejVHcXRwUkVMSXYzdGVLeFREc0t2SGxqREhBdGFzdi9ORVJzNFkxbDAKSXF3ZnQrUXpvdlA0WGhWYUxKVFFYaTQwaUlicmZZVng3UCsxeUhmNWU0d0o3Q2RiSDJmK1hCOEVwcGhGTExVWgp0Y0R5d0owZFVtR2tsWlIwR29hcXBKeEhwaHo2bW9FYjVsNEZVZm04czBqODFvTHFLc2hMVk81NkZtR2tMODE2Ck8rWjBvNVpWTkFYY1JsdnhjdjI5eHU1SkExUVVCVEQ3d3RlU29NRlI5RXQ0VFY4WkFoRXBUTTdXRXlhZWV3Mi8KVjdxSmpab2xwU3RzK2dVOVBOaFpyc0pEUkpHWkFBcU53Q2pZL2xEQ0I5Qit3RDZMcUR5NU8vYis2RDI3WUdkawpZOHR0SlVqNHFmUHc0YjkyYUJDUUF2WU1ZUT09Cj1ocFc2Ci0tLS0tRU5EIFBHUCBNRVNTQUdFLS0tLS0K"
   ]
  },
  {
   "cell_type": "code",
   "execution_count": null,
   "metadata": {},
   "outputs": [
    {
     "name": "stderr",
     "output_type": "stream",
     "text": [
      "/data/homes_data/sudheer/benchmark_data/sedona_venv/lib/python3.12/site-packages/jupyter_client/session.py:721: UserWarning: Message serialization failed with:\n",
      "Out of range float values are not JSON compliant: nan\n",
      "Supporting this message is deprecated in jupyter-client 7, please make sure your message is JSON-compliant\n",
      "  content = self.pack(content)\n"
     ]
    },
    {
     "data": {
      "application/vnd.jupyter.widget-view+json": {
       "model_id": "cc76fdf26c8f4a20beab056580dd247c",
       "version_major": 2,
       "version_minor": 0
      },
      "text/plain": [
       "KeplerGl(config={'version': 'v1', 'config': {'visState': {'filters': [], 'layers': [{'id': '7f1zywf', 'type': …"
      ]
     },
     "execution_count": 34,
     "metadata": {},
     "output_type": "execute_result"
    }
   ],
   "source": [
    "map.add_data(\n",
    "    data=prep_for_map(df1, obj.crs, geom_col=\"geometry\"), \n",
    "    name=\"comune\"\n",
    "    )\n",
    "map"
   ]
  },
  {
   "cell_type": "code",
   "execution_count": null,
   "metadata": {},
   "outputs": [],
   "source": [
    "#ENCRYPTED\n",
    "# This cell is encrypted. Will be made public soon. Contact: sudheer.siddabattula@gmail.com for access/details\n",
    "\n",
    "LS0tLS1CRUdJTiBQR1AgTUVTU0FHRS0tLS0tCgp3Y0JNQTB5VXBDMWwzUy9oQVFmL1lXUS9FMWlNS3A3R3lIcERqK0J5ZUNFMmRsYmc0TEUvb3hGTXpKc0ErckJQCkxXZ0FLdFdyVWs4RHVZcFBRY0ZNdTI1eWE5Nyt4bXVSSG5KL0hFQXg3QTBFRDRvNFo2SkJjdkQrQ2tUYmwxZXAKUnk1SCtmZDdNTjNTMVNuellodEtTdjhsM1laaGx5Q3p0KzhDYlBHLzgyZmRiYkhDOGV1THkzbDlITDR3cUhQMApkeWtPbVZoNXc1M0dMdWxzNzUxcTFJSkM3WWFZRjRFTlhLMG45RUVXazB5dDcyeHd1WVpWdXhJblk4QXFhRnFmCkxyVVJ5V3RJNHF5aFhXYVg2dlp4NFdkUm9MdmJGSWZZeE1CcEVEaWFwZnFxSkd0SG1jdkxBaEoxaEVIbG5rcGIKRGM2QlFITll2SlBxVXg1eE5RZUVjNG1oNkhVWjNKUFZBWVBZL0t4RGs5SzdBZEE2aXRpMVVBQmxMYzJZZlIxYwpCQmFCY2J5YUF6aXJ1SnJVUmhvYlhMbm4zQXM5UWt3MVJkRTZwSTFxdDh2dDNMUDZEcTNkdjYyMmtvUGNmeVREClFoU1AzSVZGN0hKcmlXd0p6am56ZHYvN1dQY0ZhUm15YUpNSkJUWmZHK3orbTRGZVd3ZlAzZW5rakJQbkJpMDEKcXlNQVNyNWlGblp5VGZ3NlZ6M0RGenpZTVl5UWRrS1dNRkFVTW5BM29COStBZDl4SlJUczJibkNLWlhJZkNnVApManl6L1AxRHNuVzd3VFNVNmhhRGxPS1lVdDNwUGFPOURXeFM1QT09Cj1xam5ICi0tLS0tRU5EIFBHUCBNRVNTQUdFLS0tLS0K"
   ]
  },
  {
   "cell_type": "code",
   "execution_count": null,
   "metadata": {},
   "outputs": [],
   "source": [
    "#ENCRYPTED\n",
    "# This cell is encrypted. Will be made public soon. Contact: sudheer.siddabattula@gmail.com for access/details\n",
    "\n",
    "LS0tLS1CRUdJTiBQR1AgTUVTU0FHRS0tLS0tCgp3Y0JNQTB5VXBDMWwzUy9oQVFmOEMzQWlBNWdEYzFnL2J5Ym9LMTU4bmNzLzNRaVByb25yN09USnQwMFlmbzhMCm1NU0tuWlE4Q285dTM3V0N4ZUNydjJYK2VwRjBpL0JFMkdiNGk3Y2ZrbGh4MDBUZlNNL1pmQStmc0trbzRRWGsKbzlobEcwYzFjK3RxbHRxK05ONUNMdTM2bTFzMXR4ekRKQ2w2aEEzWjZGTUF5VWN1cllNaVNYbXVvb3ptNE1SVwpwT1AvNUh6RmdsZzRHS0V4T0dFMU9WTzN4SlBWWHZDMjBpcTR6bVJxb1c3TjlwTWdvMkpYQkFrdzA2bVhDNFRFCjVxWHZrV01pY3hycmFGVjVuSXQ0UGV5UlNPYjZzc2QrazlLNHlBcU9MelR5TUVIRDVWZlV4ajlrOEZ2SG1vdE0KbVVJV2tqS3ZiQ1BwQlN3cGppT0s0Wm95T2VDU242ZzlhM1RsREF0TFI5TEJDQUdiRWw1SWNLZ08xTFpOYzZEMwpxVVUrN0grZjU2bHRxTVo5Z2g4TnQyRG1CcXJGL0Riak5zcTEwR3NtTXlMMmZZcllJUTJyUzc2MVMxSTBvdXVrCkVhUk9DejNxVjdhOTRKRXF3UXRVVkFVWVVHK21oeEU1MVZ1Uk9WZ2hMRTYxQ01lVFNrQjIzSDNGUFBBdXljYTgKeXU1ZkhkNWZuOWV3OXVRRlFuVTJmZUIwc0FqWERTYnVoRjRrdFphZVByWGJnT1FuNC9HNWZqdWtMcmZ1TlhZOQpsVUh0dkpJT2c3THNibEZld29NUFdJeVJUVmFrSGhrKzB4WExaUExRYWROSzBONWFCQ1B6dEhQRFJod2ExcnFaCjlwejg5Z05ncHlqOWJjeEx4eVF6NUU0V0c1UzFMaWdQbXVDOGlUTDcyNG5Fc2NGN2hRS2dqdCtiVy94L1pqSlcKVTdHUHpuWUlGTHBmbGp2Mzc1cnNyWG9sNFlHMmtDRDZsdmZFVE5hMGJLQzZBMzNQYndyeVpTRVFYVHp6dC9NUQplUDhzSytraTk2MHhGRjR0T3dvOEE3Z1dVbldrNjI3QXE3ZHRFRTYvYzh0UnJ5NDZTQkJXV215Q3d3RDJSOUpUCkp6Vk9QR0NuQWU1QlRlMUVCUWgzaFdMM0g4cWpkbXlQeHVNVE5GT2tGWDUxVDcxclNrQjk5ZnhjdUM0WFNBNUUKQzJkRS9veTQ5VHgvVklIc0FxVDR1NzF0RldJbkprWmpseHlIZlVvZ2RzQThVYndHTkVDczhBUDl2YVQxbUkwUQpwUVRoQUwrOGlNbmVEZz09Cj14ZFprCi0tLS0tRU5EIFBHUCBNRVNTQUdFLS0tLS0K"
   ]
  },
  {
   "cell_type": "code",
   "execution_count": null,
   "metadata": {},
   "outputs": [],
   "source": []
  },
  {
   "cell_type": "code",
   "execution_count": null,
   "metadata": {},
   "outputs": [],
   "source": []
  },
  {
   "cell_type": "code",
   "execution_count": null,
   "metadata": {},
   "outputs": [],
   "source": []
  },
  {
   "cell_type": "code",
   "execution_count": null,
   "metadata": {},
   "outputs": [],
   "source": [
    "# import geopandas as gpd\n",
    "\n",
    "# path = \"./data/pickle_parquets/others/grids_new_X_comuni_EU\"\n",
    "\n",
    "# gdf = gpd.read_parquet(path)\n",
    "\n",
    "# crs = gdf.crs\n",
    "\n",
    "# if crs:\n",
    "#     print(f\"The CRS of the GeoParquet file is: {crs}\")\n",
    "# else:\n",
    "#     print(\"The CRS of the GeoParquet file is undefined.\")\n",
    "    \n",
    "# if crs:\n",
    "#     formatted_crs = CRS(crs)  \n",
    "#     print(f\"CRS: {formatted_crs.to_string()}\") \n",
    "#     print(f\"EPSG Code: {formatted_crs.to_epsg()}\")  \n",
    "#     print(f\"PROJ String: {formatted_crs.to_proj4()}\")  \n",
    "#     print(f\"WKT Format: {formatted_crs.to_wkt()}\")  \n",
    "# else:\n",
    "#     print(\"The CRS of the GeoParquet file is undefined.\")"
   ]
  }
 ],
 "metadata": {
  "kernelspec": {
   "display_name": "sedona_venv",
   "language": "python",
   "name": "python3"
  },
  "language_info": {
   "codemirror_mode": {
    "name": "ipython",
    "version": 3
   },
   "file_extension": ".py",
   "mimetype": "text/x-python",
   "name": "python",
   "nbconvert_exporter": "python",
   "pygments_lexer": "ipython3",
   "version": "3.12.3"
  }
 },
 "nbformat": 4,
 "nbformat_minor": 4
}
