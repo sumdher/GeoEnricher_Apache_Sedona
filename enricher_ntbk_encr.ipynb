{
 "cells": [
  {
   "cell_type": "code",
   "execution_count": null,
   "metadata": {},
   "outputs": [],
   "source": [
    "#ENCRYPTED\n",
    "# This cell is encrypted. Will be made public soon. Contact: sudheer.siddabattula@gmail.com for access/details\n",
    "\n",
    "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"
   ]
  },
  {
   "cell_type": "code",
   "execution_count": null,
   "metadata": {},
   "outputs": [],
   "source": [
    "''' \n",
    "Loading data from files.\n",
    "This will take a while. Because it cleans and makes some essential transformations.\n",
    "But it is a one-time operation. `parquet_all()` will save all datasets to the disk, preserving any transformations applied.\n",
    "From next time, you can directly load them  with: `load_from_parquets()`.\n",
    "'''\n",
    "\n",
    "\n",
    "# Provide the data directory\n",
    "data_dir = f\"./data\"\n",
    "\n",
    "# Individual file paths:\n",
    "path_contr = f\"{data_dir}/data_EU/countries_shp/\"\n",
    "path_reg = f\"{data_dir}/data_Italy/regioni/\"\n",
    "path_prov = f\"{data_dir}/data_Italy/provinci\"\n",
    "path_com_EU = f\"{data_dir}/data_EU/comuni_shp/\"\n",
    "path_com = f\"{data_dir}/data_Italy/comuni/\"\n",
    "path_grids = f\"{data_dir}/data_EU/census_grid_EU/grids_OG_corrected.parquet\"\n",
    "path_grids_new = f\"{data_dir}/data_EU/census_grid_EU/grids_new.gpkg\"\n",
    "\n",
    "# Dataset names and their file formats:\n",
    "# format: {dataset_name: (path, file_format), ...}\n",
    "\n",
    "datasets: dict[str, tuple[str, str]] = {\n",
    "    \"countries\": (path_contr, \"shapefile\"),\n",
    "    \"regions_IT\": (path_reg, \"shapefile\"),\n",
    "    \"provinces_IT\": (path_prov, \"shapefile\"),\n",
    "    \"comuni_EU\": (path_com_EU, \"shapefile\"),\n",
    "    \"comuni_IT\": (path_com, \"shapefile\"),\n",
    "    \"pop_grids\": (path_grids, \"geoparquet\"),\n",
    "    \"pop_grids_new\": (path_grids_new, \"geopackage\"),\n",
    "}\n",
    "\n",
    "obj = Enricher(crs=\"EPSG:3035\")\n",
    "\n",
    "# Setup the Enricher object with \"sedona\" (or, \"wherobots\")\n",
    "# \"ex_mem\" and \"dr_mem\" are the executor and driver memory in GB\n",
    "obj.setup_cluster(\n",
    "    data_dir=data_dir, \n",
    "    which=\"sedona\", \n",
    "    ex_mem=26,\n",
    "    dr_mem=24,\n",
    "    log_level=\"ERROR\")\n",
    "\n",
    "# Use \"load()\" to load all the datasets in {data_dir}, \n",
    "# according to the paths and file formats provided in \"datasets{}\"\n",
    "obj.load(datasets, silent=True)\n",
    "\n",
    "# Optionally, run \"fix_geometries()\" to fix invalid geometries if any; \n",
    "# if you want to skip the check for some dataframes, pass their names in \"skip[]\"\n",
    "obj.fix_geometries(\n",
    "    skip=['pop_grids', 'pop_grids_new']\n",
    "    )\n",
    "\n",
    "# Optionally, inspect the partitions and data skew:\n",
    "# obj.inspect_partitions()\n",
    "\n",
    "# and force the dataframes to be repartitioned to the number of available cores\n",
    "# pass the names of the dataframes to be skipped in skip[]\n",
    "obj.force_repartition(skip=['pop_grids'])\n",
    "\n",
    "# obj.inspect_partitions()\n",
    "\n",
    "# Transform the CRS of loaded datasets to the CRS passed in the Enricher constructor\n",
    "# lazy=True will not cache the dataframes. \n",
    "obj.transform_CRS(lazy=False)\n",
    "\n",
    "# Pickle all the dataframes to disk for quick access later.\n",
    "# default directory: \"./{data_dir}/pickle_parquets/dfs_list\"\n",
    "# you may change the directory where they are saved by pasing it in \"parquet_dir\"; relative to the {data_dir}\n",
    "obj.parquet_all(preserve_partitions=True)\n",
    "\n",
    "\n",
    "# obj.dfs_list['comuni_EU'] = obj.dfs_list['comuni_EU'].filter(F.col('CNTR_ID').isin([\"IT\", \"DE\"]))"
   ]
  },
  {
   "cell_type": "code",
   "execution_count": 34,
   "metadata": {},
   "outputs": [
    {
     "name": "stdout",
     "output_type": "stream",
     "text": [
      "sedona initialized with 10 cores for parellelism.\n",
      "Loading 'countries' from Parquet...\n",
      "Loaded dataframe 'countries'\n",
      "Loading 'regions_IT' from Parquet...\n",
      "Loaded dataframe 'regions_IT'\n",
      "Loading 'provinces_IT' from Parquet...\n",
      "Loaded dataframe 'provinces_IT'\n",
      "Loading 'comuni_EU' from Parquet...\n",
      "Loaded dataframe 'comuni_EU'\n",
      "Loading 'comuni_IT' from Parquet...\n",
      "Loaded dataframe 'comuni_IT'\n",
      "Loading 'pop_grids' from Parquet...\n",
      "Loaded dataframe 'pop_grids'\n",
      "Loading 'pop_grids_new' from Parquet...\n",
      "Loaded dataframe 'pop_grids_new'\n"
     ]
    }
   ],
   "source": [
    "''' \n",
    "Load data from pickled parquets \n",
    "\n",
    "'''\n",
    "\n",
    "# Provide the data directory\n",
    "data_dir = \"./data\"\n",
    "\n",
    "obj = Enricher(crs=\"EPSG:3035\")\n",
    "\n",
    "# Setup the Enricher object with \"sedona\" (or, \"wherobots\")\n",
    "# \"ex_mem\" and \"dr_mem\" are the executor and driver memory in GB\n",
    "obj.setup_cluster(data_dir=data_dir, \n",
    "                  which=\"sedona\", \n",
    "                  ex_mem=26, \n",
    "                  dr_mem=24, \n",
    "                  log_level=\"ERROR\")\n",
    "\n",
    "# Loads all the datasets from pickled parquets in the default direcoty: \"./{data_dir}/pickle_parquets/dfs_list\"\n",
    "# optionally, to load from a different directory, pass the directory path in \"parquet_dir\"; reative to the {data_dir}\n",
    "obj.load_from_parquets()\n",
    "# obj.inspect_partitions()"
   ]
  },
  {
   "cell_type": "code",
   "execution_count": null,
   "metadata": {},
   "outputs": [
    {
     "name": "stdout",
     "output_type": "stream",
     "text": [
      "User Guide: https://docs.kepler.gl/docs/keplergl-jupyter\n"
     ]
    },
    {
     "data": {
      "application/vnd.jupyter.widget-view+json": {
       "model_id": "cb44acf0a1014b8b9782e2901d1da236",
       "version_major": 2,
       "version_minor": 0
      },
      "text/plain": [
       "KeplerGl(data={'countries': {'index': [0, 1, 2, 3, 4, 5, 6, 7, 8, 9, 10, 11, 12, 13, 14, 15, 16, 17, 18, 19, 2…"
      ]
     },
     "execution_count": 35,
     "metadata": {},
     "output_type": "execute_result"
    }
   ],
   "source": [
    "\"\"\"\n",
    "Visualize the datasets\n",
    "\"\"\"\n",
    "\n",
    "# Pass a list of names of the loaded datasets or directly the Spark dataframes in memory\n",
    "obj.plot_this(\n",
    "    [\"countries\", obj.dfs_list[\"provinces_IT\"]],  # str | SparkDataFrame | list[str | SparkDataFrame]\n",
    "    new_map=True  # if it is False, the new dataset will be added to the old map (if it exists, or else, makes a new one)\n",
    "    )\n",
    "\n",
    "# you can plot the map in another cell, just run `<obj>.map`"
   ]
  },
  {
   "cell_type": "code",
   "execution_count": 3,
   "metadata": {},
   "outputs": [
    {
     "data": {
      "application/vnd.jupyter.widget-view+json": {
       "model_id": "6ce269a29a6749579205325c27b0d2bb",
       "version_major": 2,
       "version_minor": 0
      },
      "text/plain": [
       "VBox(children=(HTML(value='<h1>Enrich with Overlay & Aggregation</h1>'), HTML(value=\"<div style='height: 5px;'…"
      ]
     },
     "metadata": {},
     "output_type": "display_data"
    }
   ],
   "source": [
    "'''\n",
    "GUI for Enricher primitives\n",
    "\n",
    "'''\n",
    "\n",
    "# pass the Enricher object (loaded with the datasets) to the EnricherUI\n",
    "obj_ui = EnrichOverlay(obj)\n"
   ]
  },
  {
   "cell_type": "code",
   "execution_count": null,
   "metadata": {},
   "outputs": [
    {
     "name": "stdout",
     "output_type": "stream",
     "text": [
      "['COMM_ID', 'CNTR_ID', 'CNTR_CODE', 'COMM_NAME', 'NAME_ASCI', 'TRUE_FLAG', 'NSI_CODE', 'NAME_NSI', 'NAME_LATN', 'NUTS_CODE', 'FID', 'geohash', 'geometry', 'T_agr_sum']\n",
      "58166281.116447605\n"
     ]
    }
   ],
   "source": [
    "\n",
    "from pyspark.sql.dataframe import DataFrame as SparkDataFrame\n",
    "\n",
    "\n",
    "temp: SparkDataFrame = obj.res_agr\n",
    "print(temp.columns)\n",
    "\n",
    "# temp: SparkDataFrame = temp.filter(F.col('CNTR_ID') == 'IT')\n",
    "print(temp.agg(F.sum('T_agr_sum')).collect()[0][0])\n",
    "\n",
    "# obj.parquet_this(\"intrsctn_com_grid_IT\", temp, preserve_partitions=False)\n",
    "# obj.parquet_this(\"grids_new_X_comuni_EU_IT\", temp, preserve_partitions=False)\n",
    "# temp.cache()"
   ]
  },
  {
   "cell_type": "code",
   "execution_count": null,
   "metadata": {},
   "outputs": [
    {
     "name": "stderr",
     "output_type": "stream",
     "text": [
      "[Stage 215:====================================================>(199 + 1) / 200]\r"
     ]
    },
    {
     "name": "stdout",
     "output_type": "stream",
     "text": [
      "109707\n"
     ]
    },
    {
     "name": "stderr",
     "output_type": "stream",
     "text": [
      "                                                                                \r"
     ]
    }
   ],
   "source": [
    "#ENCRYPTED\n",
    "# This cell is encrypted. Will be made public soon. Contact: sudheer.siddabattula@gmail.com for access/details\n",
    "\n",
    "LS0tLS1CRUdJTiBQR1AgTUVTU0FHRS0tLS0tCgp3Y0JNQTB5VXBDMWwzUy9oQVFnQWlHeDZRVCtZMGtzaUxqTEVvS3UvY2ZWb0ovTHJLU2ZyeFpkQ0ROMHMxNHUwCmU1cE9SUzltajZXM0dnQmM4c0FDdDQrY3RlSG9NSTcrR2d5OGYrRG5VVUxpdmJsekgwYXpTekFXQXZMWk5wQWYKNlU3VEFlL0ZVeGZFRnZKQlBiQURRNWh2bzk0aDUyVk5WeUJFRWM4djBoVlhPUDBPTlNialN1YWtML2NSU1VlRQpZQ1pkMXhnQ3BLQnFRMmc2cTdUaWNJUXpsRUFzTlVXU0J3WmZEVmttaUdZNGlRVStyTWNlUnQvdW8rR3FMVVEyClJmQzdQK1JKTXVKQXFUN0lMLzRkcSt1VytmVjA0eHpGMHB6eDErSVQyVXdBTDg3OW9NanBOUCtqZEViVGZpMUIKMkdQRjNCaU4wV05tNHJhVytqVS80dGJlbWlPTkJ1d3ZLUHVRNlA4MGd0TEIwQUcxTjFnYitDaVVLNjBHV0hEdApoZ0dMOXpLcXZjLzBieCtOK1NCcmloRUhQbXJ2by96NytUdU1tY3duOWJYR09aMjRKSVk3YzlQekM0UlJrV24yClU4emRxWVN4WUhMczkzMnlrbFMvcEVNMXZRb0hlZkJFS0lxcFZRYnkyNG0yc2VXb3NObkVHTEhKTlI0ekZEcmMKK0tWaWw2cjhMRzd2QUdXNXNxenc3ZDRHckZ0NmtqeVl4ZzVnV0hwUUk1U1I2c3VHTS95R0Z5ZWZ3VUFFakU5YQpnbWthMGxyeEpaWkVDUUVJcW4xY011eXQ4YWFSZ0VaU0VxN052aVF5cWtPb1RkRmVrZ1k0QUpGNC9WZElmeHZICjZFdVNja0xUUStIVHE4blBidTZacUxKUk9kSGowTjFGOWhQSWt1ODJCQXp2S1JpcjRxeHJEdUwrbmo5TndUWHUKMzRlU1lLTjNFbmdsS2VYRmwzb0NOaEJ4aWNYWmpDVUk4UGxIempuNUdPT1ZHeUo4NXVQZFlid25tZlk1YkR6cApvMGRLZHdDdEh6RG44V3JDSWVVUWpKY09RcW5BaUpUUGl3UzdwNHkzc2QvTDcyYXI1RGRjNmZFVDU1eUJwaTFxCk9UM25KSmgwSDc2MkszS3BEaFpFUmIyMVFBd2JXUmptcWQ4OWduL3IzMFFvaEdPN2VCVTdkQWNxL09CVXhBR3cKdzFvbnZNOFJNaWtOYU42Rjl5US9IYzRaSW1taUloS08zSm4zQVpEOUJwNThpclVMemFDVmZyZzhJazdnOVVpcAo4dFJnK3VqaTlBVSs2QmdES0ZZeVNmOUZsbVROSXJuSHdtNGwyWFdoZCtuQ3hldi9HMmk4bDlQck96ZlhZclJTCmdGSUM2eXFKREVXbVpSeENVdDhQdVJJRWZGeUxaL3FBTGd0ZmZkZDdFZko2Ly9oejlvbC9rTXB0Q2VrV3BPK2IKZjFSMWxwbnJkR0JpaW5NZGJjejh5S0VjazVxUUFzR1BsVFIxRXNKQzZHR3ptcW9GMjR5dlIwMmhUYTZmWTdLUgpDNUZ2YjVSWGdVRXNVc0lyZDhDOHllZlllRTdoTUtrelhiSm1YcGE3WTZxZFlGRDRZY0lnVElVc3lzU2lDK0ZxCkU4bGpvYk96MmFPMjRSSzBTV3dZNjNVZgo9YlNmOQotLS0tLUVORCBQR1AgTUVTU0FHRS0tLS0tCg=="
   ]
  },
  {
   "cell_type": "code",
   "execution_count": null,
   "metadata": {},
   "outputs": [
    {
     "name": "stdout",
     "output_type": "stream",
     "text": [
      "41190463\n"
     ]
    }
   ],
   "source": [
    "\"\"\"\n",
    "Contains\n",
    "41190463\n",
    "\"\"\"\n",
    "\n",
    "print(res_n.agg(F.sum('t_agr')).collect()[0][0])\n"
   ]
  },
  {
   "cell_type": "code",
   "execution_count": null,
   "metadata": {},
   "outputs": [
    {
     "name": "stdout",
     "output_type": "stream",
     "text": [
      "77386595\n"
     ]
    }
   ],
   "source": [
    "\"\"\"\n",
    "Intersects\n",
    "77386595\n",
    "\"\"\"\n",
    "\n",
    "print(res_n.agg(F.sum('t_agr')).collect()[0][0])\n"
   ]
  },
  {
   "cell_type": "code",
   "execution_count": null,
   "metadata": {},
   "outputs": [],
   "source": [
    "\"\"\"\n",
    "ST_Intersection\n",
    "58166281\n",
    "\"\"\""
   ]
  },
  {
   "cell_type": "code",
   "execution_count": null,
   "metadata": {},
   "outputs": [],
   "source": [
    "import pyarrow.parquet as pq\n",
    "\n",
    "parquet_file = pq.ParquetFile(\"./data/pickle_parquets/others/grids_new_X_comuni_EU/test.parquet\")\n",
    "\n",
    "# Print full metadata\n",
    "print(parquet_file.metadata)\n",
    "\n",
    "# Print schema (column names, types, etc.)\n",
    "print(parquet_file.schema)\n",
    "\n",
    "# Print key-value metadata (custom user-defined metadata)\n",
    "print(parquet_file.metadata.metadata)  # This is a dictionary\n"
   ]
  },
  {
   "cell_type": "code",
   "execution_count": 16,
   "metadata": {},
   "outputs": [
    {
     "name": "stdout",
     "output_type": "stream",
     "text": [
      "{\"$schema\":\"https://proj.org/schemas/v0.7/projjson.schema.json\",\"type\":\"ProjectedCRS\",\"name\":\"ETRS89-extended / LAEA Europe\",\"base_crs\":{\"name\":\"ETRS89\",\"datum_ensemble\":{\"name\":\"European Terrestrial Reference System 1989 ensemble\",\"members\":[{\"name\":\"European Terrestrial Reference Frame 1989\",\"id\":{\"authority\":\"EPSG\",\"code\":1178}},{\"name\":\"European Terrestrial Reference Frame 1990\",\"id\":{\"authority\":\"EPSG\",\"code\":1179}},{\"name\":\"European Terrestrial Reference Frame 1991\",\"id\":{\"authority\":\"EPSG\",\"code\":1180}},{\"name\":\"European Terrestrial Reference Frame 1992\",\"id\":{\"authority\":\"EPSG\",\"code\":1181}},{\"name\":\"European Terrestrial Reference Frame 1993\",\"id\":{\"authority\":\"EPSG\",\"code\":1182}},{\"name\":\"European Terrestrial Reference Frame 1994\",\"id\":{\"authority\":\"EPSG\",\"code\":1183}},{\"name\":\"European Terrestrial Reference Frame 1996\",\"id\":{\"authority\":\"EPSG\",\"code\":1184}},{\"name\":\"European Terrestrial Reference Frame 1997\",\"id\":{\"authority\":\"EPSG\",\"code\":1185}},{\"name\":\"European Terrestrial Reference Frame 2000\",\"id\":{\"authority\":\"EPSG\",\"code\":1186}},{\"name\":\"European Terrestrial Reference Frame 2005\",\"id\":{\"authority\":\"EPSG\",\"code\":1204}},{\"name\":\"European Terrestrial Reference Frame 2014\",\"id\":{\"authority\":\"EPSG\",\"code\":1206}},{\"name\":\"European Terrestrial Reference Frame 2020\",\"id\":{\"authority\":\"EPSG\",\"code\":1382}}],\"ellipsoid\":{\"name\":\"GRS 1980\",\"semi_major_axis\":6378137,\"inverse_flattening\":298.257222101},\"accuracy\":\"0.1\",\"id\":{\"authority\":\"EPSG\",\"code\":6258}},\"coordinate_system\":{\"subtype\":\"ellipsoidal\",\"axis\":[{\"name\":\"Geodetic latitude\",\"abbreviation\":\"Lat\",\"direction\":\"north\",\"unit\":\"degree\"},{\"name\":\"Geodetic longitude\",\"abbreviation\":\"Lon\",\"direction\":\"east\",\"unit\":\"degree\"}]},\"id\":{\"authority\":\"EPSG\",\"code\":4258}},\"conversion\":{\"name\":\"Europe Equal Area 2001\",\"method\":{\"name\":\"Lambert Azimuthal Equal Area\",\"id\":{\"authority\":\"EPSG\",\"code\":9820}},\"parameters\":[{\"name\":\"Latitude of natural origin\",\"value\":52,\"unit\":\"degree\",\"id\":{\"authority\":\"EPSG\",\"code\":8801}},{\"name\":\"Longitude of natural origin\",\"value\":10,\"unit\":\"degree\",\"id\":{\"authority\":\"EPSG\",\"code\":8802}},{\"name\":\"False easting\",\"value\":4321000,\"unit\":\"metre\",\"id\":{\"authority\":\"EPSG\",\"code\":8806}},{\"name\":\"False northing\",\"value\":3210000,\"unit\":\"metre\",\"id\":{\"authority\":\"EPSG\",\"code\":8807}}]},\"coordinate_system\":{\"subtype\":\"Cartesian\",\"axis\":[{\"name\":\"Northing\",\"abbreviation\":\"Y\",\"direction\":\"north\",\"unit\":\"metre\"},{\"name\":\"Easting\",\"abbreviation\":\"X\",\"direction\":\"east\",\"unit\":\"metre\"}]},\"scope\":\"Statistical analysis.\",\"area\":\"Europe - European Union (EU) countries and candidates. Europe - onshore and offshore: Albania; Andorra; Austria; Belgium; Bosnia and Herzegovina; Bulgaria; Croatia; Cyprus; Czechia; Denmark; Estonia; Faroe Islands; Finland; France; Germany; Gibraltar; Greece; Hungary; Iceland; Ireland; Italy; Kosovo; Latvia; Liechtenstein; Lithuania; Luxembourg; Malta; Monaco; Montenegro; Netherlands; North Macedonia; Norway including Svalbard and Jan Mayen; Poland; Portugal including Madeira and Azores; Romania; San Marino; Serbia; Slovakia; Slovenia; Spain including Canary Islands; Sweden; Switzerland; Türkiye (Turkey); United Kingdom (UK) including Channel Islands and Isle of Man; Vatican City State.\",\"bbox\":{\"south_latitude\":24.6,\"west_longitude\":-35.58,\"north_latitude\":84.73,\"east_longitude\":44.83},\"id\":{\"authority\":\"EPSG\",\"code\":3035}}\n"
     ]
    }
   ],
   "source": [
    "from pyproj import CRS\n",
    "print(CRS.from_epsg(3035).to_json()) "
   ]
  },
  {
   "cell_type": "code",
   "execution_count": null,
   "metadata": {},
   "outputs": [
    {
     "name": "stdout",
     "output_type": "stream",
     "text": [
      "4531770\n"
     ]
    }
   ],
   "source": [
    "#ENCRYPTED\n",
    "# This cell is encrypted. Will be made public soon. Contact: sudheer.siddabattula@gmail.com for access/details\n",
    "\n",
    "LS0tLS1CRUdJTiBQR1AgTUVTU0FHRS0tLS0tCgp3Y0JNQTB5VXBDMWwzUy9oQVFnQW9GSHJyRjBlMGpzazRGNjM2Y003aHlqM0hQNmZ2dUFza2FGeDI5Q2lqVm02CnhkaXZjc2psb0RCWjZKbUc4WXhyMGVxclR3Qk01ZDRLV1dLa3BqdXFQNFJBYUlPOU8rd3ZPejREZnVHV0YySjIKTU1zRFV4eHFYRFFlYWhYWjhZeThEd2cwaDkyYll4bTBCTDlpdFpMNnNBRGNKc2Y3QnUrMi9LRGpxNU4wTS90Vwo4eTRnSmJwVHU4VitKS1lLUE9mUmlJTHg5c1Q1U3JBY1hUcGRKVjdYRVBPWjV2RU9yc0x5M0YxWngva0o2dTFJCmxqeWNXQ2pNTVJTYXkxa3ZJQlppeThlR0RuL0daWmtMbTlzVEh5MDl1c0dCREJETnJwVmsvN0J0NjBYQ1ZYVWoKMzBTWHQ3MUcvSUN2U1Z2bkwwQXBVYzZSWVIyVlNCbWR0eS9CV1FCZW85TEFUQUZKYllVbGFhU25IRVhrZG12WQpJbWRicnlFRWNhZ0ZuS2Yxa1ZUTGRQZzlrNUhoMmVYd1duRnBrWFQ0aC9vcWRrNFdFMmg1NS9vL2pZL0IyNVZTCm5sb242T2J1c2c4QWQ1T3NYTzNUZlExaGtyUTBpSW5lRFBSZDhBdzVtTmo5ZzRjMEhKalJDSUNmRjZxbU5jeGYKMnZMd3Jxdm9NTkNpZHQ4MXVMNkVhaTRobGpmK1A5bGxaakJ0b2JyTmZQdDE1UHd6MGdOQ0QxQWEvb25Dd0theQpTeVpaUnAzcWNnQWx6ZlY3eHM1Z3hMNFlsUkNuR2VnSU9FTDN4dDhtNXE3c1ROYlh6Mm1MRUFaeEh2WndLYVFNCkF1UXJoYXYveUVSWDVzNERIblFJL1pzcWRPNC9FMFk2dHA0YmE4WU5Nb1RIOHFkZFNHRVgzeE00K3VZQjVhTjMKRHcxbTRJNUkvaHVzSW5WWDZScz0KPWlmZWMKLS0tLS1FTkQgUEdQIE1FU1NBR0UtLS0tLQo="
   ]
  },
  {
   "cell_type": "code",
   "execution_count": null,
   "metadata": {},
   "outputs": [],
   "source": [
    "#ENCRYPTED\n",
    "# This cell is encrypted. Will be made public soon. Contact: sudheer.siddabattula@gmail.com for access/details\n",
    "\n",
    "LS0tLS1CRUdJTiBQR1AgTUVTU0FHRS0tLS0tCgp3Y0JNQTB5VXBDMWwzUy9oQVFmOUhUMlVXUngxK2RxMWdyL0FMZytKRi94MzRpdlJQbUtNZDc4WW1EL00zYUQzCm5IVVB6Zk9odXU3Y3pCTjdRTjVyREFBdGlPYkFCUFB3VDZnbHlFbHZuZVhxWmRKU3l2UlY2dGFSeHpmSXR3alUKVDN6NzFWSWEvODF0VmhpcTlKajlRK0lFSzZXeWJOYWVWMzNkWlBRUW9NOEN2NDJUaEE2VjdNejA5azRJMG1mcwpLMmtOYS84YXp4NCtXUFlHanAxNWZLR3lvVE9qaVg3aEszUmNpK2k4NHdyWjNlRm1FWUlPZ2MwVTZqUElVcjhiCk9uYWVtdVRBTzQreitUZnJZWDRlcmJvMWRQd3lWcC9jbnNHT3luZzdwZEFJMGlxSWlNT3lsNDV1bytpL3FaOVYKYzhDTks2WWJaUlQ3WnYrY1RDbGZkbkF2RnYyd2tpaVZ2aVRWNTdtL2lkTEJvZ0Z3RmZ0ekJEN3NIbDFQSjJEegp1Q1llOHExcWtyN1JWLzFzNjdQdHR0YytwWmtQbkJLMzUzWGtoZFRVMDhDb3ZpaXFnY25Qb0tNaklYRzA3eS9ECkE2Wlp0ZU94TWcyMG1BNUxlZFBlQ0U1WTdveE9kOU5Sdkt2a1E3V1JiQnUrMUtSVmtuVitYUXpCaWxrVGZOeEwKdURtZXEwTzJ1ejU3ZFZkVHRKSUQ3MCs3cDFyU3ZJQ284ZXNQakZHcFNhc2VXOUhFRU5vandQaWJuZnFUcDVZOQp6UXd6eXUzYTluSHFpQ2RBSnRoODVnRzBDQ3BoajdoQVBXb0h1dFYxUkJUcFllQlVldFJZUWJ0SDFKemxrMUtlCnhQV05vRXBRQkc5ak0vaC82RUgvRzFmNjhqeWYrVWFxcUc3VDZ1UTNEbENoc3RqNUl2QmNBMTRsN2ZrdllSNVkKeWVEVUNVQ2w4OGwyMmwyMlNmYi9YZWZnYmNFTEZFNFpNYmw3Yi83TUJ2bGkwTk1zYnd5ZFU1R1JsZjFOMFRvUwpWdkFPNFQ5YnVOeXNCK3duOFc3K1dEUFJHdzRraUsrKzRUMi9mNEt2S05iaW11dmVaZnhpSENVeSt3MFVpYzJ1ClJQaHRIWkMrSUhVTHRvN2JQNWpVK0o5ZkVFeGNMY3g1dUIzMFd3ZnBlVzRGdDZjK253RkFQTVE2VHUzM1YrVDEKeXUyVVNEL1V4YllRWkZ1WnJ3ZE5WRVMxK3BxbHAzSGxOSjh5SjhmUjVQRG9VS1dhMWI0WUhEd3hXUWtSZU0vTwpucWIyRXVzdjh6ditTRkpndk5DQTM3TStlWVYzVG53RHdDdjN4VFdvWUdYbWVqb290SU5GbU05bjlBaHRHU3FSClFhemw2cGY4cFE1RzF1Zktlc2hYZ3pXTEhUNEhDcWFwZFc5Rm5JRUdqV3RpMnoxcnNkYi90ZDYrb1B4Vms5SFUKUmMvNkVmbFZJK3ZEaEVDZTRHajVHNlFKMG43OXVRekVNcUh0eWJGc3NaUXc0eml1VUc0dGxyMUQ4b1VGR2VtZApiNjZBTGhDVFdCMm1QTU0xOEVpSENzSHNJVEk9Cj03cWVsCi0tLS0tRU5EIFBHUCBNRVNTQUdFLS0tLS0K"
   ]
  },
  {
   "cell_type": "code",
   "execution_count": null,
   "metadata": {},
   "outputs": [
    {
     "name": "stderr",
     "output_type": "stream",
     "text": [
      "/data/homes_data/sudheer/benchmark_data/sedona_venv/lib/python3.12/site-packages/jupyter_client/session.py:721: UserWarning: Message serialization failed with:\n",
      "Out of range float values are not JSON compliant: nan\n",
      "Supporting this message is deprecated in jupyter-client 7, please make sure your message is JSON-compliant\n",
      "  content = self.pack(content)\n"
     ]
    },
    {
     "data": {
      "application/vnd.jupyter.widget-view+json": {
       "model_id": "cc76fdf26c8f4a20beab056580dd247c",
       "version_major": 2,
       "version_minor": 0
      },
      "text/plain": [
       "KeplerGl(config={'version': 'v1', 'config': {'visState': {'filters': [], 'layers': [{'id': '7f1zywf', 'type': …"
      ]
     },
     "execution_count": 34,
     "metadata": {},
     "output_type": "execute_result"
    }
   ],
   "source": [
    "map.add_data(\n",
    "    data=prep_for_map(df1, obj.crs, geom_col=\"geometry\"), \n",
    "    name=\"comune\"\n",
    "    )\n",
    "map"
   ]
  },
  {
   "cell_type": "code",
   "execution_count": null,
   "metadata": {},
   "outputs": [],
   "source": [
    "#ENCRYPTED\n",
    "# This cell is encrypted. Will be made public soon. Contact: sudheer.siddabattula@gmail.com for access/details\n",
    "\n",
    "LS0tLS1CRUdJTiBQR1AgTUVTU0FHRS0tLS0tCgp3Y0JNQTB5VXBDMWwzUy9oQVFmL2ZVU0xaL1FCYXg5S0pEek44SDljOGs5bmRPcGZndUU4RnJ0blZCQVpjRFRSCjFtUWhkeTNmV0RVT0d5M2FYT29Ib3hoK2ZPN3M0YWNtV2FpV3FlS3RPRHlYYUcxWU5xRDZycWtxbnNhUFBOOXkKbUc5YUtxNFV1TnV3QnhjYnZzdWxyelZoWUNiU29KUTkxOEVkN0Zyb3RNbkNqMVdTSFY4d09LamlJSDJ5YTlUcAowdE5JTTVMWGVhVXdhSUJnalVmN05QdlJWTjlJM3QwQ3lycmx4cHdTTUJ3b2NoZU5iTStiNlczTFlhdjd1SkNwCnhGemxBV0VSaTF2L1piS3BGa01kamVxVTAzTHpIdWVzdWxEMzJLTUhnYTAxSGJXcXRBelRzamZkZmhFdi85NVMKbkJ6aDVaRmZtckFXWGRDZkRWZ0FvcDduT1ZTSS93NzY3bVl3Y2tQYmZ0SzhBWHVMaXZwcmZnV1liSjFjaHhheApXTmJKMFpOQys3U08rdHVEVC9aQzhyNXFYRWgxN1Q0MVY4SjVYUnhqTEZyeDR1a1VFQ0JTVFZvUm5Zc0ROVmRLCm1BWklrWW5kclRoZXFTL0dPQ3Vsc3lNYlJ0MVJ3VVJUU1M3QW5BMk8wY050ZHBFN0t3MjRqWmtmVVJESXZLNmkKMVk2eERoTk5CYWVLdCtaMDU4bWxRc21MVUJRM0pPTmtvemZ6Wm1GbCtkV0dHYzRuWVNQTE5EUU9mTWJQZFpVcAozTFBTbW9MV0VJeHI3NWRGbUdrS3orZ0Jpd2lKSnVqT0lUTWpYTjA9Cj1ieVFjCi0tLS0tRU5EIFBHUCBNRVNTQUdFLS0tLS0K"
   ]
  },
  {
   "cell_type": "code",
   "execution_count": null,
   "metadata": {},
   "outputs": [],
   "source": [
    "#ENCRYPTED\n",
    "# This cell is encrypted. Will be made public soon. Contact: sudheer.siddabattula@gmail.com for access/details\n",
    "\n",
    "LS0tLS1CRUdJTiBQR1AgTUVTU0FHRS0tLS0tCgp3Y0JNQTB5VXBDMWwzUy9oQVFnQWloTGNSbjFqdVkrWC9OYnk0eWVhVS9iN1djdnpsaGRFYmh3eUZmSUIzcExiCkhabk5MT2c0MHRCZDR0MDhwaytXU3hvbTAvVXJJWFRFOTVkZE0xVWk3M1BPcGNYSzYydkxEU3FuSnJ0K3NWNHkKSGY2VkV2dm9FVngwRmgzZGRYYnJRRkM2Z1c0cWdhOEwxeVZMRDJtSDAyQXdLTzRJeFVNeC82ZVFtZTA1T2Q2cApUVlk1dWk4ai9wUFp6TWlocG1GM3JIUlRnSW9seEIwcXJDZm5ZcTZPRkFTL25sUit0OEN0THd4a1VKMGVpdnBICitJeFNJZUFJbysxak5OQlYxeGFydmVVeThLMGZ6MkJQQUhYZ0xSZ3BWVTBoTmhneU9qd2U0cUdIQ1hYUzAvLzIKZzFXUzRvRkttOGpzVUZyK3RaR1J3ZHkwYVZtUDI4dEFuQ01PQVlFTHR0TEJDUUg3c1UzV2xlMllNUi83SGNOVwpSU0wrYWlsUURseTBkbCthSUsyeWNMdGVNenVsNit2cW5xS1NFYk1jNjVGbk5nbllJeElFNGpramI4RTZGWkMxCkl6U1V5SmFiTndwUUh0T3FnZTV6YzhpMnRHcmNNTml2VWZUNzZNd3MzcllGM3FsQVhMTUJYcTcxWEFNc2d2eTIKY0ZaN2htTmxyWVdFbFdzQ0JLWFhObnZabExuTzlkMVVsRHFVN1Npd2ZYNEdzSE9DOHQ1YThzR2ZBNUpVS0dvNgpHN2xmS2ZlTElHZllkRzFzQU5Nd3p4cHl1empGYktSNjNIaGNhbVhnV0FUak1jaVhWbWNNc2x3bGYvSk5nVVFECnVIZVk4dnNPZ3Q4azNCVWtSd2V0U01kSVJRcE96ejArcTdsd1VzTHd3eU9wU0JkWU1kc2d4SXQ2N0JlUis2K2MKdndobk1BR1hKZXFRYkFYc2tZTGF1SmlLSTNxQXNNbXVaMmM2Qk5rd21qSDBiTDYxZjRRRXlEd2JtMml6dUh3bApzbldrNmhpaHFBa3RnOGQ1MmNud1dHTlJLNC9iUWtCdTlRblBTdERxNisvQm9XTzJCdlV6OHYvV1ZSU0o2aEpFCkt2NnBpMkxZWHVTQTIvTUllZjdMTDJSWm9FeWRuSWM2bXpqOXh1Z3R6QzlmeVRxMDFkditYMWdHeDVVc1JZOXoKUWV6U0Q3UmpMYnRlUVp3ek1EbjNXdkVOejlMakVkKytjWmVCYm54UVQxUjBrdVZkbUVUMHEvd1MwVWFxdTg2ZApxelhrVzRzSkgvYTcrQTg9Cj0xRzNWCi0tLS0tRU5EIFBHUCBNRVNTQUdFLS0tLS0K"
   ]
  },
  {
   "cell_type": "code",
   "execution_count": null,
   "metadata": {},
   "outputs": [],
   "source": []
  },
  {
   "cell_type": "code",
   "execution_count": null,
   "metadata": {},
   "outputs": [],
   "source": []
  },
  {
   "cell_type": "code",
   "execution_count": null,
   "metadata": {},
   "outputs": [],
   "source": []
  },
  {
   "cell_type": "code",
   "execution_count": null,
   "metadata": {},
   "outputs": [],
   "source": [
    "# import geopandas as gpd\n",
    "\n",
    "# path = \"./data/pickle_parquets/others/grids_new_X_comuni_EU\"\n",
    "\n",
    "# gdf = gpd.read_parquet(path)\n",
    "\n",
    "# crs = gdf.crs\n",
    "\n",
    "# if crs:\n",
    "#     print(f\"The CRS of the GeoParquet file is: {crs}\")\n",
    "# else:\n",
    "#     print(\"The CRS of the GeoParquet file is undefined.\")\n",
    "    \n",
    "# if crs:\n",
    "#     formatted_crs = CRS(crs)  \n",
    "#     print(f\"CRS: {formatted_crs.to_string()}\") \n",
    "#     print(f\"EPSG Code: {formatted_crs.to_epsg()}\")  \n",
    "#     print(f\"PROJ String: {formatted_crs.to_proj4()}\")  \n",
    "#     print(f\"WKT Format: {formatted_crs.to_wkt()}\")  \n",
    "# else:\n",
    "#     print(\"The CRS of the GeoParquet file is undefined.\")"
   ]
  }
 ],
 "metadata": {
  "kernelspec": {
   "display_name": "sedona_venv",
   "language": "python",
   "name": "python3"
  },
  "language_info": {
   "codemirror_mode": {
    "name": "ipython",
    "version": 3
   },
   "file_extension": ".py",
   "mimetype": "text/x-python",
   "name": "python",
   "nbconvert_exporter": "python",
   "pygments_lexer": "ipython3",
   "version": "3.12.3"
  }
 },
 "nbformat": 4,
 "nbformat_minor": 4
}
