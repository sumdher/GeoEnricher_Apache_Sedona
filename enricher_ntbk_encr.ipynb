{
 "cells": [
  {
   "cell_type": "code",
   "execution_count": null,
   "metadata": {},
   "outputs": [],
   "source": [
    "# This is encypted content. It will be made public soon\n",
    "# Contact me: \"sudheer.siddabattula@gmail.com\" for details/access.\n",
    "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"
   ]
  },
  {
   "cell_type": "code",
   "execution_count": null,
   "metadata": {},
   "outputs": [
    {
     "name": "stderr",
     "output_type": "stream",
     "text": [
      "25/03/03 15:18:59 WARN Utils: Your hostname, marvin resolves to a loopback address: 127.0.1.1; using 172.20.27.4 instead (on interface eth0)\n",
      "25/03/03 15:18:59 WARN Utils: Set SPARK_LOCAL_IP if you need to bind to another address\n"
     ]
    },
    {
     "name": "stdout",
     "output_type": "stream",
     "text": [
      ":: loading settings :: url = jar:file:/data/homes_data/sudheer/benchmark_data/sedona_venv/lib/python3.12/site-packages/pyspark/jars/ivy-2.5.1.jar!/org/apache/ivy/core/settings/ivysettings.xml\n"
     ]
    },
    {
     "name": "stderr",
     "output_type": "stream",
     "text": [
      "Ivy Default Cache set to: /data/homes_data/sudheer/.ivy2/cache\n",
      "The jars for the packages stored in: /data/homes_data/sudheer/.ivy2/jars\n",
      "org.apache.sedona#sedona-spark-shaded-3.5_2.12 added as a dependency\n",
      "org.datasyslab#geotools-wrapper added as a dependency\n",
      ":: resolving dependencies :: org.apache.spark#spark-submit-parent-3b6341ef-7ed5-47c2-9cf2-a76634fcc420;1.0\n",
      "\tconfs: [default]\n",
      "\tfound org.apache.sedona#sedona-spark-shaded-3.5_2.12;1.7.0 in central\n",
      "\tfound org.datasyslab#geotools-wrapper;1.7.0-28.5 in central\n",
      ":: resolution report :: resolve 221ms :: artifacts dl 9ms\n",
      "\t:: modules in use:\n",
      "\torg.apache.sedona#sedona-spark-shaded-3.5_2.12;1.7.0 from central in [default]\n",
      "\torg.datasyslab#geotools-wrapper;1.7.0-28.5 from central in [default]\n",
      "\t---------------------------------------------------------------------\n",
      "\t|                  |            modules            ||   artifacts   |\n",
      "\t|       conf       | number| search|dwnlded|evicted|| number|dwnlded|\n",
      "\t---------------------------------------------------------------------\n",
      "\t|      default     |   2   |   0   |   0   |   0   ||   2   |   0   |\n",
      "\t---------------------------------------------------------------------\n",
      ":: retrieving :: org.apache.spark#spark-submit-parent-3b6341ef-7ed5-47c2-9cf2-a76634fcc420\n",
      "\tconfs: [default]\n",
      "\t0 artifacts copied, 2 already retrieved (0kB/7ms)\n",
      "25/03/03 15:19:01 WARN NativeCodeLoader: Unable to load native-hadoop library for your platform... using builtin-java classes where applicable\n",
      "Setting default log level to \"WARN\".\n",
      "To adjust logging level use sc.setLogLevel(newLevel). For SparkR, use setLogLevel(newLevel).\n",
      "25/03/03 15:19:01 WARN SparkConf: Note that spark.local.dir will be overridden by the value set by the cluster manager (via SPARK_LOCAL_DIRS in mesos/standalone/kubernetes and LOCAL_DIRS in YARN).\n"
     ]
    },
    {
     "name": "stdout",
     "output_type": "stream",
     "text": [
      "Sedona initialized with None cores for parellelism.\n"
     ]
    },
    {
     "name": "stderr",
     "output_type": "stream",
     "text": [
      "                                                                                \r"
     ]
    },
    {
     "name": "stdout",
     "output_type": "stream",
     "text": [
      "\n",
      "Loading datasets...\n",
      "Make sure the geometry column is named \"geometry\" in the datasets\n",
      "Loaded 'countries': (259, 12), 'EPSG:3035'\n",
      "Loaded 'regions_IT': (20, 6), 'EPSG:32632'\n",
      "Loaded 'provinces_IT': (107, 13), 'EPSG:32632'\n",
      "Loaded 'comuni_EU': (122750, 12), 'EPSG:3035'\n",
      "Loaded 'comuni_IT': (7899, 13), 'EPSG:32632'\n"
     ]
    },
    {
     "name": "stderr",
     "output_type": "stream",
     "text": [
      "                                                                                \r"
     ]
    },
    {
     "name": "stdout",
     "output_type": "stream",
     "text": [
      "Loaded 'pop_grids': (4594018, 18), 'EPSG:3035'\n"
     ]
    },
    {
     "name": "stderr",
     "output_type": "stream",
     "text": [
      "/opt/conda/lib/python3.12/contextlib.py:137: RuntimeWarning: GPKG: unrecognized user_version=0x00000000 (0) on './data/data_EU/census_grid_EU/grids_new.gpkg'\n",
      "  return next(self.gen)\n"
     ]
    },
    {
     "name": "stdout",
     "output_type": "stream",
     "text": [
      "Loaded 'pop_grids_new': (7055226, 20), 'EPSG:3035'\n",
      "7 datasets loaded. \n",
      "\n"
     ]
    }
   ],
   "source": [
    "''' \n",
    "Loading data from files.\n",
    "This will take a while. Because it cleans and makes some essential transformations.\n",
    "But it is a one-time operation. `parquet_all()` will save all datasets to the disk, preserving any transformations applied.\n",
    "From next time, you can directly load them  with: `load_from_parquets()`.\n",
    "'''\n",
    "\n",
    "\n",
    "# Provide the data directory\n",
    "data_dir = f\"./data\"\n",
    "\n",
    "# Individual file path:\n",
    "path_contr = f\"{data_dir}/data_EU/countries_shp/\"\n",
    "path_reg = f\"{data_dir}/data_Italy/regioni/\"\n",
    "path_prov = f\"{data_dir}/data_Italy/provinci\"\n",
    "path_com_EU = f\"{data_dir}/data_EU/comuni_shp/\"\n",
    "path_com = f\"{data_dir}/data_Italy/comuni/\"\n",
    "path_grids = f\"{data_dir}/data_EU/census_grid_EU/grids_OG_corrected.parquet\"\n",
    "path_grids_new = f\"{data_dir}/data_EU/census_grid_EU/grids_new.gpkg\"\n",
    "\n",
    "# Dataset names and their file formats:\n",
    "# format: {dataset_name: (path, file_format), ...}\n",
    "\n",
    "datasets: dict[str, tuple[str, str]] = {\n",
    "    \"countries\": (path_contr, \"shapefile\"),\n",
    "    \"regions_IT\": (path_reg, \"shapefile\"),\n",
    "    \"provinces_IT\": (path_prov, \"shapefile\"),\n",
    "    \"comuni_EU\": (path_com_EU, \"shapefile\"),\n",
    "    \"comuni_IT\": (path_com, \"shapefile\"),\n",
    "    \"pop_grids\": (path_grids, \"geoparquet\"),\n",
    "    \"pop_grids_new\": (path_grids_new, \"geopackage\"),\n",
    "}\n",
    "\n",
    "obj = Enricher(crs=\"EPSG:3035\")\n",
    "\n",
    "# Setup the Enricher object with \"sedona\" (or, \"wherobots\")\n",
    "# \"ex_mem\" and \"dr_mem\" are the executor and driver memory in GB\n",
    "obj.setup_cluster(\n",
    "    data_dir=data_dir, \n",
    "    which=\"sedona\", \n",
    "    ex_mem=26,\n",
    "    dr_mem=24,\n",
    "    log_level=\"ERROR\")\n",
    "\n",
    "# Use \"load()\" to load all the datasets in {data_dir}, \n",
    "# according to the paths and file formats provided in \"datasets{}\"\n",
    "obj.load(datasets, silent=True)\n",
    "\n",
    "# Optionally, run \"fix_geometries()\" to fix invalid geometries if any; \n",
    "# if you want to skip the check for some dataframes, pass their names in \"skip[]\"\n",
    "obj.fix_geometries(\n",
    "    skip=['pop_grids', 'pop_grids_new']\n",
    "    )\n",
    "\n",
    "# Optionally, inspect the partitions and data skew:\n",
    "# obj.inspect_partitions()\n",
    "\n",
    "# and force the dataframes to be repartitioned to the number of available cores\n",
    "# pass the names of the dataframes to be skipped in skip[]\n",
    "obj.force_repartition(skip=['pop_grids'])\n",
    "\n",
    "# obj.inspect_partitions()\n",
    "\n",
    "# Transform the CRS of loaded datasets to the CRS passed in the Enricher constructor\n",
    "# lazy=True will not cache the dataframes. \n",
    "obj.transform_CRS(lazy=False)\n",
    "\n",
    "# Pickle all the dataframes to disk for quick access later.\n",
    "# default directory: \"./{data_dir}/pickle_parquets/dfs_list\"\n",
    "# you may change the directory where they are saved by pasing it in \"parquet_dir\"; relative to the {data_dir}\n",
    "obj.parquet_all(preserve_partitions=True)\n",
    "\n",
    "\n",
    "# obj.dfs_list['comuni_EU'] = obj.dfs_list['comuni_EU'].filter(F.col('CNTR_ID').isin([\"IT\", \"DE\"]))"
   ]
  },
  {
   "cell_type": "code",
   "execution_count": null,
   "metadata": {},
   "outputs": [
    {
     "name": "stderr",
     "output_type": "stream",
     "text": [
      "25/03/01 19:08:27 WARN Utils: Your hostname, marvin resolves to a loopback address: 127.0.1.1; using 172.20.27.4 instead (on interface eth0)\n",
      "25/03/01 19:08:27 WARN Utils: Set SPARK_LOCAL_IP if you need to bind to another address\n"
     ]
    },
    {
     "name": "stdout",
     "output_type": "stream",
     "text": [
      ":: loading settings :: url = jar:file:/data/homes_data/sudheer/benchmark_data/sedona_venv/lib/python3.12/site-packages/pyspark/jars/ivy-2.5.1.jar!/org/apache/ivy/core/settings/ivysettings.xml\n"
     ]
    },
    {
     "name": "stderr",
     "output_type": "stream",
     "text": [
      "Ivy Default Cache set to: /data/homes_data/sudheer/.ivy2/cache\n",
      "The jars for the packages stored in: /data/homes_data/sudheer/.ivy2/jars\n",
      "org.apache.sedona#sedona-spark-shaded-3.5_2.12 added as a dependency\n",
      "org.datasyslab#geotools-wrapper added as a dependency\n",
      ":: resolving dependencies :: org.apache.spark#spark-submit-parent-f5fc0e98-b301-4f18-a55b-d6f3a2cdc293;1.0\n",
      "\tconfs: [default]\n",
      "\tfound org.apache.sedona#sedona-spark-shaded-3.5_2.12;1.7.0 in central\n",
      "\tfound org.datasyslab#geotools-wrapper;1.7.0-28.5 in central\n",
      ":: resolution report :: resolve 221ms :: artifacts dl 8ms\n",
      "\t:: modules in use:\n",
      "\torg.apache.sedona#sedona-spark-shaded-3.5_2.12;1.7.0 from central in [default]\n",
      "\torg.datasyslab#geotools-wrapper;1.7.0-28.5 from central in [default]\n",
      "\t---------------------------------------------------------------------\n",
      "\t|                  |            modules            ||   artifacts   |\n",
      "\t|       conf       | number| search|dwnlded|evicted|| number|dwnlded|\n",
      "\t---------------------------------------------------------------------\n",
      "\t|      default     |   2   |   0   |   0   |   0   ||   2   |   0   |\n",
      "\t---------------------------------------------------------------------\n",
      ":: retrieving :: org.apache.spark#spark-submit-parent-f5fc0e98-b301-4f18-a55b-d6f3a2cdc293\n",
      "\tconfs: [default]\n",
      "\t0 artifacts copied, 2 already retrieved (0kB/7ms)\n",
      "25/03/01 19:08:28 WARN NativeCodeLoader: Unable to load native-hadoop library for your platform... using builtin-java classes where applicable\n",
      "Setting default log level to \"WARN\".\n",
      "To adjust logging level use sc.setLogLevel(newLevel). For SparkR, use setLogLevel(newLevel).\n",
      "25/03/01 19:08:28 WARN SparkConf: Note that spark.local.dir will be overridden by the value set by the cluster manager (via SPARK_LOCAL_DIRS in mesos/standalone/kubernetes and LOCAL_DIRS in YARN).\n"
     ]
    },
    {
     "name": "stdout",
     "output_type": "stream",
     "text": [
      "Sedona initialized with None cores for parellelism.\n"
     ]
    },
    {
     "name": "stderr",
     "output_type": "stream",
     "text": [
      "                                                                                \r"
     ]
    },
    {
     "name": "stdout",
     "output_type": "stream",
     "text": [
      "Loading 'countries' from Parquet...\n"
     ]
    },
    {
     "name": "stderr",
     "output_type": "stream",
     "text": [
      "                                                                                \r"
     ]
    },
    {
     "name": "stdout",
     "output_type": "stream",
     "text": [
      "Loaded dataframe 'countries'\n",
      "Loading 'regions_IT' from Parquet...\n",
      "Loaded dataframe 'regions_IT'\n",
      "Loading 'provinces_IT' from Parquet...\n",
      "Loaded dataframe 'provinces_IT'\n",
      "Loading 'comuni_EU' from Parquet...\n",
      "Loaded dataframe 'comuni_EU'\n",
      "Loading 'comuni_IT' from Parquet...\n",
      "Loaded dataframe 'comuni_IT'\n",
      "Loading 'pop_grids' from Parquet...\n",
      "Loaded dataframe 'pop_grids'\n",
      "Loading 'pop_grids_new' from Parquet...\n",
      "Loaded dataframe 'pop_grids_new'\n"
     ]
    }
   ],
   "source": [
    "''' \n",
    "Load data from pickled parquets \n",
    "\n",
    "'''\n",
    "\n",
    "# Provide the data directory\n",
    "data_dir = \"./data\"\n",
    "\n",
    "obj = Enricher(crs=\"EPSG:3035\")\n",
    "\n",
    "# Setup the Enricher object with \"sedona\" (or, \"wherobots\")\n",
    "# \"ex_mem\" and \"dr_mem\" are the executor and driver memory in GB\n",
    "obj.setup_cluster(data_dir=data_dir, \n",
    "                  which=\"sedona\", \n",
    "                  ex_mem=26, \n",
    "                  dr_mem=24, \n",
    "                  log_level=\"ERROR\")\n",
    "\n",
    "# Loads all the datasets from pickled parquets in the default direcoty: \"./{data_dir}/pickle_parquets/dfs_list\"\n",
    "# optionally, to load from a different directory, pass the directory path in \"parquet_dir\"; reative to the {data_dir}\n",
    "obj.load_from_parquets()\n",
    "# obj.inspect_partitions()"
   ]
  },
  {
   "cell_type": "code",
   "execution_count": 3,
   "metadata": {},
   "outputs": [
    {
     "data": {
      "application/vnd.jupyter.widget-view+json": {
       "model_id": "6ce269a29a6749579205325c27b0d2bb",
       "version_major": 2,
       "version_minor": 0
      },
      "text/plain": [
       "VBox(children=(HTML(value='<h1>Enrich with Overlay & Aggregation</h1>'), HTML(value=\"<div style='height: 5px;'…"
      ]
     },
     "metadata": {},
     "output_type": "display_data"
    }
   ],
   "source": [
    "'''\n",
    "GUI for Enricher primitives\n",
    "\n",
    "'''\n",
    "\n",
    "# pass the Enricher object (loaded with the datasets) to the EnricherUI\n",
    "obj_ui = EnrichOverlay(obj)\n"
   ]
  },
  {
   "cell_type": "code",
   "execution_count": null,
   "metadata": {},
   "outputs": [
    {
     "name": "stdout",
     "output_type": "stream",
     "text": [
      "['COMM_ID', 'CNTR_ID', 'CNTR_CODE', 'COMM_NAME', 'NAME_ASCI', 'TRUE_FLAG', 'NSI_CODE', 'NAME_NSI', 'NAME_LATN', 'NUTS_CODE', 'FID', 'geohash', 'geometry', 'T_agr_sum']\n",
      "58166281.116447605\n"
     ]
    }
   ],
   "source": [
    "\n",
    "from pyspark.sql.dataframe import DataFrame as SparkDataFrame\n",
    "\n",
    "\n",
    "temp: SparkDataFrame = obj.res_agr\n",
    "print(temp.columns)\n",
    "\n",
    "# temp: SparkDataFrame = temp.filter(F.col('CNTR_ID') == 'IT')\n",
    "print(temp.agg(F.sum('T_agr_sum')).collect()[0][0])\n",
    "\n",
    "# obj.parquet_this(\"intrsctn_com_grid_IT\", temp, preserve_partitions=False)\n",
    "# obj.parquet_this(\"grids_new_X_comuni_EU_IT\", temp, preserve_partitions=False)\n",
    "# temp.cache()"
   ]
  },
  {
   "cell_type": "code",
   "execution_count": null,
   "metadata": {},
   "outputs": [
    {
     "name": "stderr",
     "output_type": "stream",
     "text": [
      "[Stage 34:==========>      (9 + 6) / 15][Stage 36:===============> (9 + 1) / 10]\r"
     ]
    },
    {
     "name": "stdout",
     "output_type": "stream",
     "text": [
      "4531770\n"
     ]
    },
    {
     "name": "stderr",
     "output_type": "stream",
     "text": [
      "                                                                                \r"
     ]
    }
   ],
   "source": [
    "from pyspark.sql.dataframe import DataFrame as SparkDataFrame\n",
    "\n",
    "\n",
    "\n",
    "df1: SparkDataFrame = obj.dfs_list['comuni_EU']\n",
    "df2: SparkDataFrame = obj.dfs_list['pop_grids']\n",
    "\n",
    "df1.createOrReplaceTempView(\"comune\")\n",
    "df2.createOrReplaceTempView(\"grids\")\n",
    "\n",
    "res: SparkDataFrame = df1.alias(\"df1\").join(\n",
    "    df2.alias(\"df2\"), F.expr(\"ST_Intersects(df1.geometry, df2.geometry)\")\n",
    "    ).select(\n",
    "        F.expr(\"df1.geometry\").alias(\"df1_geom\"),\n",
    "        F.expr(\"df2.geometry\").alias(\"df2_geom\"),\n",
    "        *[f\"df1.{c}\" for c in df1.columns if c != \"geometry\"],\n",
    "        *[f\"df2.{c}\" for c in df2.columns if c != \"geometry\" and c not in df1.columns]\n",
    ")\n",
    "\n",
    "print(res.count())"
   ]
  },
  {
   "cell_type": "code",
   "execution_count": null,
   "metadata": {},
   "outputs": [
    {
     "name": "stderr",
     "output_type": "stream",
     "text": [
      "[Stage 215:====================================================>(199 + 1) / 200]\r"
     ]
    },
    {
     "name": "stdout",
     "output_type": "stream",
     "text": [
      "109707\n"
     ]
    },
    {
     "name": "stderr",
     "output_type": "stream",
     "text": [
      "                                                                                \r"
     ]
    }
   ],
   "source": [
    "df1 = obj.dfs_list['comuni_EU']\n",
    "df2 = obj.dfs_list['pop_grids']\n",
    "\n",
    "df1.createOrReplaceTempView(\"comuni\")\n",
    "df2.createOrReplaceTempView(\"pop_grids\")\n",
    "\n",
    "\"\"\"\n",
    "1\n",
    "\"\"\"\n",
    "# res = obj.sedona.sql(\n",
    "# f\"\"\"\n",
    "# SELECT comuni.*, \n",
    "#     {', '.join([f'pop_grids.{col}' for col in df2.columns if col != 'geometry' and col not in df1.columns])}\n",
    "#     FROM comuni, pop_grids\n",
    "#     WHERE ST_Contains(comuni.geometry, pop_grids.geometry)\n",
    "# \"\"\"\n",
    "# )\n",
    "\n",
    "# res.createOrReplaceTempView(\"res\")\n",
    "\n",
    "# res =  obj.sedona.sql(\n",
    "# f\"\"\"\n",
    "#     SELECT COMM_ID,  SUM(T) as t_agr,\n",
    "#     {', '.join([f'FIRST({col}) as {col}' for col in res.columns if col not in ['COMM_ID', 'T']])}\n",
    "#     FROM res\n",
    "#     GROUP BY COMM_ID\n",
    "# \"\"\"\n",
    "# )\n",
    "\n",
    "\"\"\"\n",
    "2\n",
    "\"\"\"\n",
    "\n",
    "# res = obj.sedona.sql(\n",
    "# f\"\"\"\n",
    "# SELECT \n",
    "#     SUM(T) AS t_agr,\n",
    "#     {', '.join([f'FIRST({col}) as {col}' for col in df2.columns if col not in ['T']])}\n",
    "# FROM (\n",
    "#     SELECT\n",
    "#         comuni.*,\n",
    "#         {', '.join([f'pop_grids.{col}' for col in df2.columns if col != 'geometry' and col not in df1.columns])}\n",
    "#     FROM comuni, pop_grids\n",
    "#     WHERE ST_Intersects(comuni.geometry, pop_grids.geometry)\n",
    "# ) AS res\n",
    "# GROUP BY res.COMM_ID\n",
    "# \"\"\"\n",
    "# )\n",
    "\n",
    "\"\"\"\n",
    "3\n",
    "\"\"\"\n",
    "\n",
    "res = obj.sedona.sql(\n",
    "f\"\"\"\n",
    "    SELECT SUM(pop_grids.T) AS t_agr, FIRST(comuni.geometry) as geometry, FIRST(comuni.CNTR_ID) as CNTR_ID, FIRST(comuni.COMM_NAME) as COMM_NAME\n",
    "    FROM comuni, pop_grids\n",
    "    WHERE ST_Intersects(comuni.geometry, pop_grids.geometry)\n",
    "    GROUP BY comuni.COMM_ID\n",
    "\"\"\"\n",
    ")\n",
    "\n",
    "\"\"\"\n",
    "4\n",
    "\"\"\"\n",
    "\n",
    "# res = obj.sedona.sql(\n",
    "# f\"\"\"\n",
    "#     SELECT ST_Intersection(comuni.geometry, pop_grids.geometry) as geometry, ST_Area(comuni.geometry)/1000000 as intr_ratio, \n",
    "#     FROM comuni, pop_grids\n",
    "#     WHERE ST_Intersects(comuni.geometry, pop_grids.geometry)\n",
    "# \"\"\"\n",
    "# )\n",
    "\n",
    "\n",
    "res = res.cache()\n",
    "print(res.count())\n",
    "res_n = res.filter(F.col('CNTR_ID') == 'IT')\n",
    "\n",
    "\n",
    "\n",
    "# obj.parquet_this(\"grids_new_X_comuni_EU_IT\", res, preserve_partitions=False)"
   ]
  },
  {
   "cell_type": "code",
   "execution_count": null,
   "metadata": {},
   "outputs": [
    {
     "name": "stdout",
     "output_type": "stream",
     "text": [
      "41190463\n"
     ]
    }
   ],
   "source": [
    "\"\"\"\n",
    "Contains\n",
    "41190463\n",
    "\"\"\"\n",
    "\n",
    "print(res_n.agg(F.sum('t_agr')).collect()[0][0])\n"
   ]
  },
  {
   "cell_type": "code",
   "execution_count": null,
   "metadata": {},
   "outputs": [
    {
     "name": "stdout",
     "output_type": "stream",
     "text": [
      "77386595\n"
     ]
    }
   ],
   "source": [
    "\"\"\"\n",
    "Intersects\n",
    "77386595\n",
    "\"\"\"\n",
    "\n",
    "print(res_n.agg(F.sum('t_agr')).collect()[0][0])\n"
   ]
  },
  {
   "cell_type": "code",
   "execution_count": null,
   "metadata": {},
   "outputs": [],
   "source": [
    "\"\"\"\n",
    "ST_Intersection\n",
    "58166281\n",
    "\"\"\""
   ]
  },
  {
   "cell_type": "code",
   "execution_count": null,
   "metadata": {},
   "outputs": [
    {
     "name": "stderr",
     "output_type": "stream",
     "text": [
      "/data/homes_data/sudheer/benchmark_data/sedona_venv/lib/python3.12/site-packages/pyogrio/raw.py:723: RuntimeWarning: 2GB file size limit reached for data/pickle_parquets/others/test.dbf. Going on, but might cause compatibility issues with third party software\n",
      "  ogr_write(\n"
     ]
    },
    {
     "name": "stdout",
     "output_type": "stream",
     "text": [
      "GeoDataFrame has been exported to Shapefile: ./data/pickle_parquets/others/test.shp\n"
     ]
    }
   ],
   "source": [
    "import geopandas as gpd\n",
    "\n",
    "\n",
    "shapefile_path = './data/pickle_parquets/others/test.shp'\n",
    "\n",
    "gdf.to_file(shapefile_path, driver='ESRI Shapefile')\n",
    "print(f\"GeoDataFrame has been exported to Shapefile: {shapefile_path}\")"
   ]
  },
  {
   "cell_type": "code",
   "execution_count": null,
   "metadata": {},
   "outputs": [],
   "source": [
    "import pyarrow.parquet as pq\n",
    "\n",
    "parquet_file = pq.ParquetFile(\"./data/pickle_parquets/others/grids_new_X_comuni_EU/test.parquet\")\n",
    "\n",
    "# Print full metadata\n",
    "print(parquet_file.metadata)\n",
    "\n",
    "# Print schema (column names, types, etc.)\n",
    "print(parquet_file.schema)\n",
    "\n",
    "# Print key-value metadata (custom user-defined metadata)\n",
    "print(parquet_file.metadata.metadata)  # This is a dictionary\n"
   ]
  },
  {
   "cell_type": "code",
   "execution_count": 16,
   "metadata": {},
   "outputs": [
    {
     "name": "stdout",
     "output_type": "stream",
     "text": [
      "{\"$schema\":\"https://proj.org/schemas/v0.7/projjson.schema.json\",\"type\":\"ProjectedCRS\",\"name\":\"ETRS89-extended / LAEA Europe\",\"base_crs\":{\"name\":\"ETRS89\",\"datum_ensemble\":{\"name\":\"European Terrestrial Reference System 1989 ensemble\",\"members\":[{\"name\":\"European Terrestrial Reference Frame 1989\",\"id\":{\"authority\":\"EPSG\",\"code\":1178}},{\"name\":\"European Terrestrial Reference Frame 1990\",\"id\":{\"authority\":\"EPSG\",\"code\":1179}},{\"name\":\"European Terrestrial Reference Frame 1991\",\"id\":{\"authority\":\"EPSG\",\"code\":1180}},{\"name\":\"European Terrestrial Reference Frame 1992\",\"id\":{\"authority\":\"EPSG\",\"code\":1181}},{\"name\":\"European Terrestrial Reference Frame 1993\",\"id\":{\"authority\":\"EPSG\",\"code\":1182}},{\"name\":\"European Terrestrial Reference Frame 1994\",\"id\":{\"authority\":\"EPSG\",\"code\":1183}},{\"name\":\"European Terrestrial Reference Frame 1996\",\"id\":{\"authority\":\"EPSG\",\"code\":1184}},{\"name\":\"European Terrestrial Reference Frame 1997\",\"id\":{\"authority\":\"EPSG\",\"code\":1185}},{\"name\":\"European Terrestrial Reference Frame 2000\",\"id\":{\"authority\":\"EPSG\",\"code\":1186}},{\"name\":\"European Terrestrial Reference Frame 2005\",\"id\":{\"authority\":\"EPSG\",\"code\":1204}},{\"name\":\"European Terrestrial Reference Frame 2014\",\"id\":{\"authority\":\"EPSG\",\"code\":1206}},{\"name\":\"European Terrestrial Reference Frame 2020\",\"id\":{\"authority\":\"EPSG\",\"code\":1382}}],\"ellipsoid\":{\"name\":\"GRS 1980\",\"semi_major_axis\":6378137,\"inverse_flattening\":298.257222101},\"accuracy\":\"0.1\",\"id\":{\"authority\":\"EPSG\",\"code\":6258}},\"coordinate_system\":{\"subtype\":\"ellipsoidal\",\"axis\":[{\"name\":\"Geodetic latitude\",\"abbreviation\":\"Lat\",\"direction\":\"north\",\"unit\":\"degree\"},{\"name\":\"Geodetic longitude\",\"abbreviation\":\"Lon\",\"direction\":\"east\",\"unit\":\"degree\"}]},\"id\":{\"authority\":\"EPSG\",\"code\":4258}},\"conversion\":{\"name\":\"Europe Equal Area 2001\",\"method\":{\"name\":\"Lambert Azimuthal Equal Area\",\"id\":{\"authority\":\"EPSG\",\"code\":9820}},\"parameters\":[{\"name\":\"Latitude of natural origin\",\"value\":52,\"unit\":\"degree\",\"id\":{\"authority\":\"EPSG\",\"code\":8801}},{\"name\":\"Longitude of natural origin\",\"value\":10,\"unit\":\"degree\",\"id\":{\"authority\":\"EPSG\",\"code\":8802}},{\"name\":\"False easting\",\"value\":4321000,\"unit\":\"metre\",\"id\":{\"authority\":\"EPSG\",\"code\":8806}},{\"name\":\"False northing\",\"value\":3210000,\"unit\":\"metre\",\"id\":{\"authority\":\"EPSG\",\"code\":8807}}]},\"coordinate_system\":{\"subtype\":\"Cartesian\",\"axis\":[{\"name\":\"Northing\",\"abbreviation\":\"Y\",\"direction\":\"north\",\"unit\":\"metre\"},{\"name\":\"Easting\",\"abbreviation\":\"X\",\"direction\":\"east\",\"unit\":\"metre\"}]},\"scope\":\"Statistical analysis.\",\"area\":\"Europe - European Union (EU) countries and candidates. Europe - onshore and offshore: Albania; Andorra; Austria; Belgium; Bosnia and Herzegovina; Bulgaria; Croatia; Cyprus; Czechia; Denmark; Estonia; Faroe Islands; Finland; France; Germany; Gibraltar; Greece; Hungary; Iceland; Ireland; Italy; Kosovo; Latvia; Liechtenstein; Lithuania; Luxembourg; Malta; Monaco; Montenegro; Netherlands; North Macedonia; Norway including Svalbard and Jan Mayen; Poland; Portugal including Madeira and Azores; Romania; San Marino; Serbia; Slovakia; Slovenia; Spain including Canary Islands; Sweden; Switzerland; Türkiye (Turkey); United Kingdom (UK) including Channel Islands and Isle of Man; Vatican City State.\",\"bbox\":{\"south_latitude\":24.6,\"west_longitude\":-35.58,\"north_latitude\":84.73,\"east_longitude\":44.83},\"id\":{\"authority\":\"EPSG\",\"code\":3035}}\n"
     ]
    }
   ],
   "source": [
    "from pyproj import CRS\n",
    "print(CRS.from_epsg(3035).to_json()) "
   ]
  },
  {
   "cell_type": "code",
   "execution_count": 18,
   "metadata": {},
   "outputs": [
    {
     "name": "stdout",
     "output_type": "stream",
     "text": [
      "Saving dataframe 'test_geohash' as Parquet...\n"
     ]
    },
    {
     "name": "stderr",
     "output_type": "stream",
     "text": [
      "[Stage 93:>                                                         (0 + 1) / 1]\r"
     ]
    },
    {
     "name": "stdout",
     "output_type": "stream",
     "text": [
      "Saved to './data/pickle_parquets/others/test_geohash'\n"
     ]
    },
    {
     "name": "stderr",
     "output_type": "stream",
     "text": [
      "                                                                                \r"
     ]
    }
   ],
   "source": [
    "res.createOrReplaceGlobalTempView(\"res\")\n",
    "\n",
    "res = obj.sedona.sql(\"\"\"\n",
    "    SELECT *, ST_GeoHash(geometry, 5) as geohash\n",
    "    FROM res\n",
    "    ORDER BY geohash\n",
    "\"\"\"\n",
    ")\n",
    "\n",
    "obj.parquet_this(\"test_geohash\", res, preserve_partitions=False)"
   ]
  },
  {
   "cell_type": "code",
   "execution_count": null,
   "metadata": {},
   "outputs": [
    {
     "name": "stdout",
     "output_type": "stream",
     "text": [
      "4531770\n"
     ]
    }
   ],
   "source": [
    "df1 = obj.dfs_list['countries']\n",
    "df2 = obj.dfs_list['pop_grids']\n",
    "\n",
    "df1.createOrReplaceTempView(\"countries\")\n",
    "df2.createOrReplaceTempView(\"pop_grids\")\n",
    "\n",
    "res = obj.sedona.sql(\"\"\"\n",
    "    SELECT countries.CNTR_NAME, pop_grids.*\n",
    "    FROM countries, pop_grids\n",
    "    WHERE ST_Intersects(countries.geometry, pop_grids.geometry)\n",
    "\"\"\")\n",
    "\n",
    "res = res.cache()\n",
    "print(res.count())\n"
   ]
  },
  {
   "cell_type": "code",
   "execution_count": 61,
   "metadata": {},
   "outputs": [
    {
     "name": "stdout",
     "output_type": "stream",
     "text": [
      "User Guide: https://docs.kepler.gl/docs/keplergl-jupyter\n"
     ]
    },
    {
     "name": "stderr",
     "output_type": "stream",
     "text": [
      "                                                                                \r"
     ]
    },
    {
     "ename": "KeyboardInterrupt",
     "evalue": "",
     "output_type": "error",
     "traceback": [
      "\u001b[0;31m---------------------------------------------------------------------------\u001b[0m",
      "\u001b[0;31mKeyboardInterrupt\u001b[0m                         Traceback (most recent call last)",
      "\u001b[0;32m/tmp/ipykernel_2818954/4107501640.py\u001b[0m in \u001b[0;36m?\u001b[0;34m()\u001b[0m\n\u001b[1;32m     34\u001b[0m \u001b[0;34m\u001b[0m\u001b[0m\n\u001b[1;32m     35\u001b[0m \u001b[0;34m\u001b[0m\u001b[0m\n\u001b[1;32m     36\u001b[0m \u001b[0mmap\u001b[0m \u001b[0;34m=\u001b[0m \u001b[0mKeplerGl\u001b[0m\u001b[0;34m(\u001b[0m\u001b[0mheight\u001b[0m\u001b[0;34m=\u001b[0m\u001b[0;36m600\u001b[0m\u001b[0;34m)\u001b[0m\u001b[0;34m\u001b[0m\u001b[0;34m\u001b[0m\u001b[0m\n\u001b[1;32m     37\u001b[0m \u001b[0;34m\u001b[0m\u001b[0m\n\u001b[0;32m---> 38\u001b[0;31m map.add_data(\n\u001b[0m\u001b[1;32m     39\u001b[0m     \u001b[0mdata\u001b[0m\u001b[0;34m=\u001b[0m\u001b[0mprep_for_map\u001b[0m\u001b[0;34m(\u001b[0m\u001b[0mres\u001b[0m\u001b[0;34m,\u001b[0m \u001b[0mobj\u001b[0m\u001b[0;34m.\u001b[0m\u001b[0mcrs\u001b[0m\u001b[0;34m,\u001b[0m \u001b[0mgeom_col\u001b[0m\u001b[0;34m=\u001b[0m\u001b[0;34m\"geometry\"\u001b[0m\u001b[0;34m)\u001b[0m\u001b[0;34m,\u001b[0m\u001b[0;34m\u001b[0m\u001b[0;34m\u001b[0m\u001b[0m\n\u001b[1;32m     40\u001b[0m     \u001b[0mname\u001b[0m\u001b[0;34m=\u001b[0m\u001b[0;34m\"result\"\u001b[0m\u001b[0;34m\u001b[0m\u001b[0;34m\u001b[0m\u001b[0m\n\u001b[1;32m     41\u001b[0m     \u001b[0;34m)\u001b[0m\u001b[0;34m\u001b[0m\u001b[0;34m\u001b[0m\u001b[0m\n",
      "\u001b[0;32m~/benchmark_data/sedona_venv/lib/python3.12/site-packages/keplergl/keplergl.py\u001b[0m in \u001b[0;36m?\u001b[0;34m(self, data, name, use_arrow)\u001b[0m\n\u001b[1;32m    214\u001b[0m \u001b[0;34m\u001b[0m\u001b[0m\n\u001b[1;32m    215\u001b[0m         \u001b[0mExample\u001b[0m \u001b[0mof\u001b[0m \u001b[0muse\u001b[0m\u001b[0;34m:\u001b[0m\u001b[0;34m\u001b[0m\u001b[0;34m\u001b[0m\u001b[0m\n\u001b[1;32m    216\u001b[0m             \u001b[0mkeplergl\u001b[0m\u001b[0;34m.\u001b[0m\u001b[0madd_data\u001b[0m\u001b[0;34m(\u001b[0m\u001b[0mdata_string\u001b[0m\u001b[0;34m,\u001b[0m \u001b[0mname\u001b[0m\u001b[0;34m=\u001b[0m\u001b[0;34m\"data_1\"\u001b[0m\u001b[0;34m)\u001b[0m\u001b[0;34m\u001b[0m\u001b[0;34m\u001b[0m\u001b[0m\n\u001b[1;32m    217\u001b[0m         '''\n\u001b[0;32m--> 218\u001b[0;31m         \u001b[0mnormalized\u001b[0m \u001b[0;34m=\u001b[0m \u001b[0m_normalize_data\u001b[0m\u001b[0;34m(\u001b[0m\u001b[0mdata\u001b[0m\u001b[0;34m,\u001b[0m \u001b[0muse_arrow\u001b[0m\u001b[0;34m)\u001b[0m\u001b[0;34m\u001b[0m\u001b[0;34m\u001b[0m\u001b[0m\n\u001b[0m\u001b[1;32m    219\u001b[0m         \u001b[0mcopy\u001b[0m \u001b[0;34m=\u001b[0m \u001b[0mself\u001b[0m\u001b[0;34m.\u001b[0m\u001b[0mdata\u001b[0m\u001b[0;34m.\u001b[0m\u001b[0mcopy\u001b[0m\u001b[0;34m(\u001b[0m\u001b[0;34m)\u001b[0m\u001b[0;34m\u001b[0m\u001b[0;34m\u001b[0m\u001b[0m\n\u001b[1;32m    220\u001b[0m         \u001b[0mcopy\u001b[0m\u001b[0;34m.\u001b[0m\u001b[0mupdate\u001b[0m\u001b[0;34m(\u001b[0m\u001b[0;34m{\u001b[0m\u001b[0mname\u001b[0m\u001b[0;34m:\u001b[0m \u001b[0mnormalized\u001b[0m\u001b[0;34m}\u001b[0m\u001b[0;34m)\u001b[0m\u001b[0;34m\u001b[0m\u001b[0;34m\u001b[0m\u001b[0m\n\u001b[1;32m    221\u001b[0m \u001b[0;34m\u001b[0m\u001b[0m\n",
      "\u001b[0;32m~/benchmark_data/sedona_venv/lib/python3.12/site-packages/keplergl/keplergl.py\u001b[0m in \u001b[0;36m?\u001b[0;34m(data, use_arrow)\u001b[0m\n\u001b[1;32m    115\u001b[0m     \u001b[0;32mif\u001b[0m \u001b[0misinstance\u001b[0m\u001b[0;34m(\u001b[0m\u001b[0mdata\u001b[0m\u001b[0;34m,\u001b[0m \u001b[0mpd\u001b[0m\u001b[0;34m.\u001b[0m\u001b[0mDataFrame\u001b[0m\u001b[0;34m)\u001b[0m\u001b[0;34m:\u001b[0m\u001b[0;34m\u001b[0m\u001b[0;34m\u001b[0m\u001b[0m\n\u001b[1;32m    116\u001b[0m         \u001b[0;32mif\u001b[0m \u001b[0muse_arrow\u001b[0m\u001b[0;34m:\u001b[0m\u001b[0;34m\u001b[0m\u001b[0;34m\u001b[0m\u001b[0m\n\u001b[1;32m    117\u001b[0m             \u001b[0;32mreturn\u001b[0m \u001b[0m_gdf_to_arrow\u001b[0m\u001b[0;34m(\u001b[0m\u001b[0mdata\u001b[0m\u001b[0;34m)\u001b[0m \u001b[0;32mif\u001b[0m \u001b[0misinstance\u001b[0m\u001b[0;34m(\u001b[0m\u001b[0mdata\u001b[0m\u001b[0;34m,\u001b[0m \u001b[0mgeopandas\u001b[0m\u001b[0;34m.\u001b[0m\u001b[0mGeoDataFrame\u001b[0m\u001b[0;34m)\u001b[0m \u001b[0;32melse\u001b[0m \u001b[0m_df_to_arrow\u001b[0m\u001b[0;34m(\u001b[0m\u001b[0mdata\u001b[0m\u001b[0;34m)\u001b[0m\u001b[0;34m\u001b[0m\u001b[0;34m\u001b[0m\u001b[0m\n\u001b[1;32m    118\u001b[0m         \u001b[0;32melse\u001b[0m\u001b[0;34m:\u001b[0m\u001b[0;34m\u001b[0m\u001b[0;34m\u001b[0m\u001b[0m\n\u001b[0;32m--> 119\u001b[0;31m             \u001b[0;32mreturn\u001b[0m \u001b[0m_gdf_to_dict\u001b[0m\u001b[0;34m(\u001b[0m\u001b[0mdata\u001b[0m\u001b[0;34m)\u001b[0m \u001b[0;32mif\u001b[0m \u001b[0misinstance\u001b[0m\u001b[0;34m(\u001b[0m\u001b[0mdata\u001b[0m\u001b[0;34m,\u001b[0m \u001b[0mgeopandas\u001b[0m\u001b[0;34m.\u001b[0m\u001b[0mGeoDataFrame\u001b[0m\u001b[0;34m)\u001b[0m \u001b[0;32melse\u001b[0m \u001b[0m_df_to_dict\u001b[0m\u001b[0;34m(\u001b[0m\u001b[0mdata\u001b[0m\u001b[0;34m)\u001b[0m\u001b[0;34m\u001b[0m\u001b[0;34m\u001b[0m\u001b[0m\n\u001b[0m\u001b[1;32m    120\u001b[0m     \u001b[0;32mreturn\u001b[0m \u001b[0mdata\u001b[0m\u001b[0;34m\u001b[0m\u001b[0;34m\u001b[0m\u001b[0m\n",
      "\u001b[0;32m~/benchmark_data/sedona_venv/lib/python3.12/site-packages/keplergl/keplergl.py\u001b[0m in \u001b[0;36m?\u001b[0;34m(gdf)\u001b[0m\n\u001b[1;32m     88\u001b[0m     \u001b[0;31m# convert geometry to wkt\u001b[0m\u001b[0;34m\u001b[0m\u001b[0;34m\u001b[0m\u001b[0m\n\u001b[1;32m     89\u001b[0m     \u001b[0mdf\u001b[0m\u001b[0;34m[\u001b[0m\u001b[0mname\u001b[0m\u001b[0;34m]\u001b[0m \u001b[0;34m=\u001b[0m \u001b[0mdf\u001b[0m\u001b[0;34m.\u001b[0m\u001b[0mgeometry\u001b[0m\u001b[0;34m.\u001b[0m\u001b[0mapply\u001b[0m\u001b[0;34m(\u001b[0m\u001b[0;32mlambda\u001b[0m \u001b[0mx\u001b[0m\u001b[0;34m:\u001b[0m \u001b[0mshapely\u001b[0m\u001b[0;34m.\u001b[0m\u001b[0mwkt\u001b[0m\u001b[0;34m.\u001b[0m\u001b[0mdumps\u001b[0m\u001b[0;34m(\u001b[0m\u001b[0mx\u001b[0m\u001b[0;34m)\u001b[0m\u001b[0;34m)\u001b[0m\u001b[0;34m\u001b[0m\u001b[0;34m\u001b[0m\u001b[0m\n\u001b[1;32m     90\u001b[0m     \u001b[0;31m#  df[name] = shapely.wkt.dumps(df.geometry)\u001b[0m\u001b[0;34m\u001b[0m\u001b[0;34m\u001b[0m\u001b[0m\n\u001b[1;32m     91\u001b[0m \u001b[0;34m\u001b[0m\u001b[0m\n\u001b[0;32m---> 92\u001b[0;31m     \u001b[0;32mreturn\u001b[0m \u001b[0m_df_to_dict\u001b[0m\u001b[0;34m(\u001b[0m\u001b[0mdf\u001b[0m\u001b[0;34m)\u001b[0m\u001b[0;34m\u001b[0m\u001b[0;34m\u001b[0m\u001b[0m\n\u001b[0m",
      "\u001b[0;32m~/benchmark_data/sedona_venv/lib/python3.12/site-packages/keplergl/keplergl.py\u001b[0m in \u001b[0;36m?\u001b[0;34m(df)\u001b[0m\n\u001b[1;32m     48\u001b[0m     \u001b[0mReturns\u001b[0m\u001b[0;34m:\u001b[0m\u001b[0;34m\u001b[0m\u001b[0;34m\u001b[0m\u001b[0m\n\u001b[1;32m     49\u001b[0m     \u001b[0;34m-\u001b[0m \u001b[0mdictionary\u001b[0m\u001b[0;34m:\u001b[0m \u001b[0ma\u001b[0m \u001b[0mdictionary\u001b[0m \u001b[0mvariable\u001b[0m \u001b[0mthat\u001b[0m \u001b[0mcan\u001b[0m \u001b[0mbe\u001b[0m \u001b[0mused\u001b[0m \u001b[0;32min\u001b[0m \u001b[0mKepler\u001b[0m\u001b[0;34m.\u001b[0m\u001b[0mgl\u001b[0m\u001b[0;34m\u001b[0m\u001b[0;34m\u001b[0m\u001b[0m\n\u001b[1;32m     50\u001b[0m \u001b[0;34m\u001b[0m\u001b[0m\n\u001b[1;32m     51\u001b[0m     '''\n\u001b[0;32m---> 52\u001b[0;31m     \u001b[0;32mreturn\u001b[0m \u001b[0mdf\u001b[0m\u001b[0;34m.\u001b[0m\u001b[0mto_dict\u001b[0m\u001b[0;34m(\u001b[0m\u001b[0;34m'split'\u001b[0m\u001b[0;34m)\u001b[0m\u001b[0;34m\u001b[0m\u001b[0;34m\u001b[0m\u001b[0m\n\u001b[0m",
      "\u001b[0;32m~/benchmark_data/sedona_venv/lib/python3.12/site-packages/pandas/util/_decorators.py\u001b[0m in \u001b[0;36m?\u001b[0;34m(*args, **kwargs)\u001b[0m\n\u001b[1;32m    329\u001b[0m                     \u001b[0mmsg\u001b[0m\u001b[0;34m.\u001b[0m\u001b[0mformat\u001b[0m\u001b[0;34m(\u001b[0m\u001b[0marguments\u001b[0m\u001b[0;34m=\u001b[0m\u001b[0m_format_argument_list\u001b[0m\u001b[0;34m(\u001b[0m\u001b[0mallow_args\u001b[0m\u001b[0;34m)\u001b[0m\u001b[0;34m)\u001b[0m\u001b[0;34m,\u001b[0m\u001b[0;34m\u001b[0m\u001b[0;34m\u001b[0m\u001b[0m\n\u001b[1;32m    330\u001b[0m                     \u001b[0mFutureWarning\u001b[0m\u001b[0;34m,\u001b[0m\u001b[0;34m\u001b[0m\u001b[0;34m\u001b[0m\u001b[0m\n\u001b[1;32m    331\u001b[0m                     \u001b[0mstacklevel\u001b[0m\u001b[0;34m=\u001b[0m\u001b[0mfind_stack_level\u001b[0m\u001b[0;34m(\u001b[0m\u001b[0;34m)\u001b[0m\u001b[0;34m,\u001b[0m\u001b[0;34m\u001b[0m\u001b[0;34m\u001b[0m\u001b[0m\n\u001b[1;32m    332\u001b[0m                 \u001b[0;34m)\u001b[0m\u001b[0;34m\u001b[0m\u001b[0;34m\u001b[0m\u001b[0m\n\u001b[0;32m--> 333\u001b[0;31m             \u001b[0;32mreturn\u001b[0m \u001b[0mfunc\u001b[0m\u001b[0;34m(\u001b[0m\u001b[0;34m*\u001b[0m\u001b[0margs\u001b[0m\u001b[0;34m,\u001b[0m \u001b[0;34m**\u001b[0m\u001b[0mkwargs\u001b[0m\u001b[0;34m)\u001b[0m\u001b[0;34m\u001b[0m\u001b[0;34m\u001b[0m\u001b[0m\n\u001b[0m",
      "\u001b[0;32m~/benchmark_data/sedona_venv/lib/python3.12/site-packages/pandas/core/frame.py\u001b[0m in \u001b[0;36m?\u001b[0;34m(self, orient, into, index)\u001b[0m\n\u001b[1;32m   2174\u001b[0m          \u001b[0mdefaultdict\u001b[0m\u001b[0;34m(\u001b[0m\u001b[0;34m<\u001b[0m\u001b[0;32mclass\u001b[0m \u001b[0;34m'list'\u001b[0m\u001b[0;34m>\u001b[0m\u001b[0;34m,\u001b[0m \u001b[0;34m{\u001b[0m\u001b[0;34m'col1'\u001b[0m\u001b[0;34m:\u001b[0m \u001b[0;36m2\u001b[0m\u001b[0;34m,\u001b[0m \u001b[0;34m'col2'\u001b[0m\u001b[0;34m:\u001b[0m \u001b[0;36m0.75\u001b[0m\u001b[0;34m}\u001b[0m\u001b[0;34m)\u001b[0m\u001b[0;34m]\u001b[0m\u001b[0;34m\u001b[0m\u001b[0;34m\u001b[0m\u001b[0m\n\u001b[1;32m   2175\u001b[0m         \"\"\"\n\u001b[1;32m   2176\u001b[0m         \u001b[0;32mfrom\u001b[0m \u001b[0mpandas\u001b[0m\u001b[0;34m.\u001b[0m\u001b[0mcore\u001b[0m\u001b[0;34m.\u001b[0m\u001b[0mmethods\u001b[0m\u001b[0;34m.\u001b[0m\u001b[0mto_dict\u001b[0m \u001b[0;32mimport\u001b[0m \u001b[0mto_dict\u001b[0m\u001b[0;34m\u001b[0m\u001b[0;34m\u001b[0m\u001b[0m\n\u001b[1;32m   2177\u001b[0m \u001b[0;34m\u001b[0m\u001b[0m\n\u001b[0;32m-> 2178\u001b[0;31m         \u001b[0;32mreturn\u001b[0m \u001b[0mto_dict\u001b[0m\u001b[0;34m(\u001b[0m\u001b[0mself\u001b[0m\u001b[0;34m,\u001b[0m \u001b[0morient\u001b[0m\u001b[0;34m,\u001b[0m \u001b[0minto\u001b[0m\u001b[0;34m=\u001b[0m\u001b[0minto\u001b[0m\u001b[0;34m,\u001b[0m \u001b[0mindex\u001b[0m\u001b[0;34m=\u001b[0m\u001b[0mindex\u001b[0m\u001b[0;34m)\u001b[0m\u001b[0;34m\u001b[0m\u001b[0;34m\u001b[0m\u001b[0m\n\u001b[0m",
      "\u001b[0;32m~/benchmark_data/sedona_venv/lib/python3.12/site-packages/pandas/core/methods/to_dict.py\u001b[0m in \u001b[0;36m?\u001b[0;34m(df, orient, into, index)\u001b[0m\n\u001b[1;32m    178\u001b[0m             \u001b[0;32mfor\u001b[0m \u001b[0mi\u001b[0m\u001b[0;34m,\u001b[0m \u001b[0;34m(\u001b[0m\u001b[0mk\u001b[0m\u001b[0;34m,\u001b[0m \u001b[0mv\u001b[0m\u001b[0;34m)\u001b[0m \u001b[0;32min\u001b[0m \u001b[0menumerate\u001b[0m\u001b[0;34m(\u001b[0m\u001b[0mdf\u001b[0m\u001b[0;34m.\u001b[0m\u001b[0mitems\u001b[0m\u001b[0;34m(\u001b[0m\u001b[0;34m)\u001b[0m\u001b[0;34m)\u001b[0m\u001b[0;34m\u001b[0m\u001b[0;34m\u001b[0m\u001b[0m\n\u001b[1;32m    179\u001b[0m         \u001b[0;34m)\u001b[0m\u001b[0;34m\u001b[0m\u001b[0;34m\u001b[0m\u001b[0m\n\u001b[1;32m    180\u001b[0m \u001b[0;34m\u001b[0m\u001b[0m\n\u001b[1;32m    181\u001b[0m     \u001b[0;32melif\u001b[0m \u001b[0morient\u001b[0m \u001b[0;34m==\u001b[0m \u001b[0;34m\"split\"\u001b[0m\u001b[0;34m:\u001b[0m\u001b[0;34m\u001b[0m\u001b[0;34m\u001b[0m\u001b[0m\n\u001b[0;32m--> 182\u001b[0;31m         data = df._create_data_for_split_and_tight_to_dict(\n\u001b[0m\u001b[1;32m    183\u001b[0m             \u001b[0mare_all_object_dtype_cols\u001b[0m\u001b[0;34m,\u001b[0m \u001b[0mbox_native_indices\u001b[0m\u001b[0;34m\u001b[0m\u001b[0;34m\u001b[0m\u001b[0m\n\u001b[1;32m    184\u001b[0m         \u001b[0;34m)\u001b[0m\u001b[0;34m\u001b[0m\u001b[0;34m\u001b[0m\u001b[0m\n\u001b[1;32m    185\u001b[0m \u001b[0;34m\u001b[0m\u001b[0m\n",
      "\u001b[0;32m~/benchmark_data/sedona_venv/lib/python3.12/site-packages/pandas/core/frame.py\u001b[0m in \u001b[0;36m?\u001b[0;34m(self, are_all_object_dtype_cols, object_dtype_indices)\u001b[0m\n\u001b[1;32m   2008\u001b[0m                 \u001b[0mlist\u001b[0m\u001b[0;34m(\u001b[0m\u001b[0mmap\u001b[0m\u001b[0;34m(\u001b[0m\u001b[0mmaybe_box_native\u001b[0m\u001b[0;34m,\u001b[0m \u001b[0mt\u001b[0m\u001b[0;34m)\u001b[0m\u001b[0;34m)\u001b[0m\u001b[0;34m\u001b[0m\u001b[0;34m\u001b[0m\u001b[0m\n\u001b[1;32m   2009\u001b[0m                 \u001b[0;32mfor\u001b[0m \u001b[0mt\u001b[0m \u001b[0;32min\u001b[0m \u001b[0mself\u001b[0m\u001b[0;34m.\u001b[0m\u001b[0mitertuples\u001b[0m\u001b[0;34m(\u001b[0m\u001b[0mindex\u001b[0m\u001b[0;34m=\u001b[0m\u001b[0;32mFalse\u001b[0m\u001b[0;34m,\u001b[0m \u001b[0mname\u001b[0m\u001b[0;34m=\u001b[0m\u001b[0;32mNone\u001b[0m\u001b[0;34m)\u001b[0m\u001b[0;34m\u001b[0m\u001b[0;34m\u001b[0m\u001b[0m\n\u001b[1;32m   2010\u001b[0m             \u001b[0;34m]\u001b[0m\u001b[0;34m\u001b[0m\u001b[0;34m\u001b[0m\u001b[0m\n\u001b[1;32m   2011\u001b[0m         \u001b[0;32melse\u001b[0m\u001b[0;34m:\u001b[0m\u001b[0;34m\u001b[0m\u001b[0;34m\u001b[0m\u001b[0m\n\u001b[0;32m-> 2012\u001b[0;31m             \u001b[0mdata\u001b[0m \u001b[0;34m=\u001b[0m \u001b[0;34m[\u001b[0m\u001b[0mlist\u001b[0m\u001b[0;34m(\u001b[0m\u001b[0mt\u001b[0m\u001b[0;34m)\u001b[0m \u001b[0;32mfor\u001b[0m \u001b[0mt\u001b[0m \u001b[0;32min\u001b[0m \u001b[0mself\u001b[0m\u001b[0;34m.\u001b[0m\u001b[0mitertuples\u001b[0m\u001b[0;34m(\u001b[0m\u001b[0mindex\u001b[0m\u001b[0;34m=\u001b[0m\u001b[0;32mFalse\u001b[0m\u001b[0;34m,\u001b[0m \u001b[0mname\u001b[0m\u001b[0;34m=\u001b[0m\u001b[0;32mNone\u001b[0m\u001b[0;34m)\u001b[0m\u001b[0;34m]\u001b[0m\u001b[0;34m\u001b[0m\u001b[0;34m\u001b[0m\u001b[0m\n\u001b[0m\u001b[1;32m   2013\u001b[0m             \u001b[0;32mif\u001b[0m \u001b[0mobject_dtype_indices\u001b[0m\u001b[0;34m:\u001b[0m\u001b[0;34m\u001b[0m\u001b[0;34m\u001b[0m\u001b[0m\n\u001b[1;32m   2014\u001b[0m                 \u001b[0;31m# If we have object_dtype_cols, apply maybe_box_naive after list\u001b[0m\u001b[0;34m\u001b[0m\u001b[0;34m\u001b[0m\u001b[0m\n\u001b[1;32m   2015\u001b[0m                 \u001b[0;31m# comprehension for perf\u001b[0m\u001b[0;34m\u001b[0m\u001b[0;34m\u001b[0m\u001b[0m\n",
      "\u001b[0;31mKeyboardInterrupt\u001b[0m: "
     ]
    }
   ],
   "source": [
    "'''\n",
    "For visualizing the results or other spatial datasets\n",
    "\n",
    "'''\n",
    "\n",
    "\n",
    "from keplergl import KeplerGl\n",
    "import geopandas as gpd\n",
    "from shapely.geometry import shape\n",
    "import decimal\n",
    "\n",
    "\n",
    "# Pass the dataframe you want to visualize to \"temp_df\"\n",
    "\n",
    "temp_df = res_n\n",
    "# temp_df = obj.dfs_list['pop_grids_new'].filter(F.col('CNTR_ID').isin([\"IT\"]))\n",
    "# temp_df = obj.res.filter(F.col('CNTR_ID').isin(\"NL\", \"BE\", \"DE\", \"IT\"))\n",
    "# temp_df = obj.dfs_list['pop_grids'].filter(F.col('T')>1000)\n",
    "\n",
    "\n",
    "def prep_for_map(res_agr, crs, geom_col='geometry'):\n",
    "    \"\"\"\n",
    "    This is a function that takes a Sedona (Spark) dataframe and\n",
    "    converts it to a Geopandas dataframe for visualization in Kepler.gl.\n",
    "    \"\"\"\n",
    "    df = res_agr.toPandas()\n",
    "    df = df.map(lambda x: float(x) if isinstance(x, decimal.Decimal) else x)\n",
    "    df['geometry'] = df[f'{geom_col}'].apply(lambda geom: shape(geom))\n",
    "\n",
    "    gdf = gpd.GeoDataFrame(df, geometry='geometry')\n",
    "    gdf.crs = crs\n",
    "    \n",
    "    return gdf\n",
    "\n",
    "\n",
    "map = KeplerGl(height=600)\n",
    "\n",
    "map.add_data(\n",
    "    data=prep_for_map(res, obj.crs, geom_col=\"geometry\"), \n",
    "    name=\"result\"\n",
    "    )\n",
    "map"
   ]
  },
  {
   "cell_type": "code",
   "execution_count": null,
   "metadata": {},
   "outputs": [
    {
     "name": "stderr",
     "output_type": "stream",
     "text": [
      "/data/homes_data/sudheer/benchmark_data/sedona_venv/lib/python3.12/site-packages/jupyter_client/session.py:721: UserWarning: Message serialization failed with:\n",
      "Out of range float values are not JSON compliant: nan\n",
      "Supporting this message is deprecated in jupyter-client 7, please make sure your message is JSON-compliant\n",
      "  content = self.pack(content)\n"
     ]
    },
    {
     "data": {
      "application/vnd.jupyter.widget-view+json": {
       "model_id": "cc76fdf26c8f4a20beab056580dd247c",
       "version_major": 2,
       "version_minor": 0
      },
      "text/plain": [
       "KeplerGl(config={'version': 'v1', 'config': {'visState': {'filters': [], 'layers': [{'id': '7f1zywf', 'type': …"
      ]
     },
     "execution_count": 34,
     "metadata": {},
     "output_type": "execute_result"
    }
   ],
   "source": [
    "map.add_data(\n",
    "    data=prep_for_map(df1, obj.crs, geom_col=\"geometry\"), \n",
    "    name=\"comune\"\n",
    "    )\n",
    "map"
   ]
  },
  {
   "cell_type": "code",
   "execution_count": null,
   "metadata": {},
   "outputs": [],
   "source": [
    "from sedona.maps.SedonaKepler import SedonaKepler\n",
    "\n",
    "res = res.cache()\n",
    "temp_df = res.filter(F.col('CNTR_ID').isin([\"IT\"]))\n",
    "map = SedonaKepler.create_map(df=temp_df, name=\"temp\")"
   ]
  },
  {
   "cell_type": "code",
   "execution_count": null,
   "metadata": {},
   "outputs": [],
   "source": [
    "from keplergl import KeplerGl\n",
    "import geopandas as gpd\n",
    "from shapely.geometry import shape\n",
    "import decimal\n",
    "\n",
    "# temp_df = obj.res_agr\n",
    "temp_df = obj.dfs_list['pop_grids_new']\n",
    "# temp_df = obj.dfs_list['comuni_EU']\n",
    "# temp_df = obj.dfs_list['pop_grids_new'].filter(F.col('CNTR_ID').isin(\"NL\", \"BE\", \"DE\", \"IT\"))\n",
    "\n",
    "\n",
    "def prep_for_map(res_agr, crs, geom_col='geometry'):\n",
    "    df = res_agr.toPandas()\n",
    "    df = df.map(lambda x: float(x) if isinstance(x, decimal.Decimal) else x)\n",
    "    df['geometry'] = df[f'{geom_col}'].apply(lambda geom: shape(geom))\n",
    "\n",
    "    gdf = gpd.GeoDataFrame(df, geometry='geometry')\n",
    "    gdf.crs = crs\n",
    "    \n",
    "    return gdf\n",
    "\n",
    "map = KeplerGl(height=600)\n",
    "map.add_data(data=prep_for_map(temp_df, obj.crs, geom_col=\"geometry\"), name=\"pop_grids\")\n",
    "map"
   ]
  },
  {
   "cell_type": "code",
   "execution_count": null,
   "metadata": {},
   "outputs": [],
   "source": []
  },
  {
   "cell_type": "code",
   "execution_count": null,
   "metadata": {},
   "outputs": [],
   "source": []
  },
  {
   "cell_type": "code",
   "execution_count": null,
   "metadata": {},
   "outputs": [],
   "source": []
  },
  {
   "cell_type": "code",
   "execution_count": null,
   "metadata": {},
   "outputs": [],
   "source": [
    "# import geopandas as gpd\n",
    "\n",
    "# path = \"./data/pickle_parquets/others/grids_new_X_comuni_EU\"\n",
    "\n",
    "# gdf = gpd.read_parquet(path)\n",
    "\n",
    "# crs = gdf.crs\n",
    "\n",
    "# if crs:\n",
    "#     print(f\"The CRS of the GeoParquet file is: {crs}\")\n",
    "# else:\n",
    "#     print(\"The CRS of the GeoParquet file is undefined.\")\n",
    "    \n",
    "# if crs:\n",
    "#     formatted_crs = CRS(crs)  \n",
    "#     print(f\"CRS: {formatted_crs.to_string()}\") \n",
    "#     print(f\"EPSG Code: {formatted_crs.to_epsg()}\")  \n",
    "#     print(f\"PROJ String: {formatted_crs.to_proj4()}\")  \n",
    "#     print(f\"WKT Format: {formatted_crs.to_wkt()}\")  \n",
    "# else:\n",
    "#     print(\"The CRS of the GeoParquet file is undefined.\")"
   ]
  }
 ],
 "metadata": {
  "kernelspec": {
   "display_name": "sedona_venv",
   "language": "python",
   "name": "python3"
  },
  "language_info": {
   "codemirror_mode": {
    "name": "ipython",
    "version": 3
   },
   "file_extension": ".py",
   "mimetype": "text/x-python",
   "name": "python",
   "nbconvert_exporter": "python",
   "pygments_lexer": "ipython3",
   "version": "3.12.3"
  }
 },
 "nbformat": 4,
 "nbformat_minor": 4
}
