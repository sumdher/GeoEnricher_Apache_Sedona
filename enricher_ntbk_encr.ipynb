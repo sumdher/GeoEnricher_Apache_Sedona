{
 "cells": [
  {
   "cell_type": "code",
   "execution_count": null,
   "metadata": {},
   "outputs": [],
   "source": [
    "# This is encypted content. It will be made public soon\n",
    "# Contact me: \"sudheer.siddabattula@gmail.com\" for details/access.\n",
    "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"
   ]
  },
  {
   "cell_type": "code",
   "execution_count": null,
   "metadata": {},
   "outputs": [],
   "source": [
    "''' \n",
    "Loading data from files.\n",
    "This will take a while. Because it cleans and makes some essential transformations.\n",
    "But it is a one-time operation. `parquet_all()` will save all datasets to the disk, preserving any transformations applied.\n",
    "From next time, you can directly load them  with: `load_from_parquets()`.\n",
    "'''\n",
    "\n",
    "\n",
    "# Provide the data directory\n",
    "data_dir = f\"./data\"\n",
    "\n",
    "# Individual file path:\n",
    "path_contr = f\"{data_dir}/data_EU/countries_shp/\"\n",
    "path_reg = f\"{data_dir}/data_Italy/regioni/\"\n",
    "path_prov = f\"{data_dir}/data_Italy/provinci\"\n",
    "path_com_EU = f\"{data_dir}/data_EU/comuni_shp/\"\n",
    "path_com = f\"{data_dir}/data_Italy/comuni/\"\n",
    "path_grids = f\"{data_dir}/data_EU/census_grid_EU/grids_OG_corrected.parquet\"\n",
    "path_grids_new = f\"{data_dir}/data_EU/census_grid_EU/grids_new.gpkg\"\n",
    "\n",
    "# Dataset names and their file formats:\n",
    "# format: {dataset_name: (path, file_format), ...}\n",
    "\n",
    "datasets: dict[str, tuple[str, str]] = {\n",
    "    \"countries\": (path_contr, \"shapefile\"),\n",
    "    \"regions_IT\": (path_reg, \"shapefile\"),\n",
    "    \"provinces_IT\": (path_prov, \"shapefile\"),\n",
    "    \"comuni_EU\": (path_com_EU, \"shapefile\"),\n",
    "    \"comuni_IT\": (path_com, \"shapefile\"),\n",
    "    \"pop_grids\": (path_grids, \"geoparquet\"),\n",
    "    \"pop_grids_new\": (path_grids_new, \"geopackage\"),\n",
    "}\n",
    "\n",
    "obj = Enricher(crs=\"EPSG:3035\")\n",
    "\n",
    "# Setup the Enricher object with \"sedona\" (or, \"wherobots\")\n",
    "# \"ex_mem\" and \"dr_mem\" are the executor and driver memory in GB\n",
    "obj.setup_cluster(data_dir=data_dir, which=\"sedona\", ex_mem=26, dr_mem=24, log_level=\"ERROR\")\n",
    "\n",
    "# Use \"load()\" to load all the datasets in {data_dir}, \n",
    "# according to the paths and file formats provided in \"datasets{}\"\n",
    "obj.load(datasets, silent=True)\n",
    "\n",
    "# Optionally, run \"fix_geometries()\" to fix invalid geometries if any; \n",
    "# if you want to skip the check for some dataframes, pass their names in \"skip[]\"\n",
    "obj.fix_geometries(skip=['pop_grids', 'pop_grids_new'])\n",
    "\n",
    "# Optionally, inspect the partitions and data skew:\n",
    "# obj.inspect_partitions()\n",
    "\n",
    "# and force the dataframes to be repartitioned to the number of available cores\n",
    "# pass the names of the dataframes to be skipped in skip[]\n",
    "obj.force_repartition(skip=['pop_grids'])\n",
    "\n",
    "# obj.inspect_partitions()\n",
    "\n",
    "# Transform the CRS of loaded datasets to the CRS passed in the Enricher constructor\n",
    "# lazy=True will not cache the dataframes. \n",
    "obj.transform_CRS(lazy=False)\n",
    "\n",
    "# Pickle all the dataframes to disk for quick access later.\n",
    "# default directory: \"./{data_dir}/pickle_parquets/dfs_list\"\n",
    "# you may change the directory where they are saved by pasing it in \"parquet_dir\"; relative to the {data_dir}\n",
    "obj.parquet_all(preserve_partitions=True)\n",
    "\n",
    "\n",
    "# obj.dfs_list['comuni_EU'] = obj.dfs_list['comuni_EU'].filter(F.col('CNTR_ID').isin([\"IT\", \"DE\"]))"
   ]
  },
  {
   "cell_type": "code",
   "execution_count": null,
   "metadata": {},
   "outputs": [
    {
     "name": "stderr",
     "output_type": "stream",
     "text": [
      "25/03/01 19:08:27 WARN Utils: Your hostname, marvin resolves to a loopback address: 127.0.1.1; using 172.20.27.4 instead (on interface eth0)\n",
      "25/03/01 19:08:27 WARN Utils: Set SPARK_LOCAL_IP if you need to bind to another address\n"
     ]
    },
    {
     "name": "stdout",
     "output_type": "stream",
     "text": [
      ":: loading settings :: url = jar:file:/data/homes_data/sudheer/benchmark_data/sedona_venv/lib/python3.12/site-packages/pyspark/jars/ivy-2.5.1.jar!/org/apache/ivy/core/settings/ivysettings.xml\n"
     ]
    },
    {
     "name": "stderr",
     "output_type": "stream",
     "text": [
      "Ivy Default Cache set to: /data/homes_data/sudheer/.ivy2/cache\n",
      "The jars for the packages stored in: /data/homes_data/sudheer/.ivy2/jars\n",
      "org.apache.sedona#sedona-spark-shaded-3.5_2.12 added as a dependency\n",
      "org.datasyslab#geotools-wrapper added as a dependency\n",
      ":: resolving dependencies :: org.apache.spark#spark-submit-parent-f5fc0e98-b301-4f18-a55b-d6f3a2cdc293;1.0\n",
      "\tconfs: [default]\n",
      "\tfound org.apache.sedona#sedona-spark-shaded-3.5_2.12;1.7.0 in central\n",
      "\tfound org.datasyslab#geotools-wrapper;1.7.0-28.5 in central\n",
      ":: resolution report :: resolve 221ms :: artifacts dl 8ms\n",
      "\t:: modules in use:\n",
      "\torg.apache.sedona#sedona-spark-shaded-3.5_2.12;1.7.0 from central in [default]\n",
      "\torg.datasyslab#geotools-wrapper;1.7.0-28.5 from central in [default]\n",
      "\t---------------------------------------------------------------------\n",
      "\t|                  |            modules            ||   artifacts   |\n",
      "\t|       conf       | number| search|dwnlded|evicted|| number|dwnlded|\n",
      "\t---------------------------------------------------------------------\n",
      "\t|      default     |   2   |   0   |   0   |   0   ||   2   |   0   |\n",
      "\t---------------------------------------------------------------------\n",
      ":: retrieving :: org.apache.spark#spark-submit-parent-f5fc0e98-b301-4f18-a55b-d6f3a2cdc293\n",
      "\tconfs: [default]\n",
      "\t0 artifacts copied, 2 already retrieved (0kB/7ms)\n",
      "25/03/01 19:08:28 WARN NativeCodeLoader: Unable to load native-hadoop library for your platform... using builtin-java classes where applicable\n",
      "Setting default log level to \"WARN\".\n",
      "To adjust logging level use sc.setLogLevel(newLevel). For SparkR, use setLogLevel(newLevel).\n",
      "25/03/01 19:08:28 WARN SparkConf: Note that spark.local.dir will be overridden by the value set by the cluster manager (via SPARK_LOCAL_DIRS in mesos/standalone/kubernetes and LOCAL_DIRS in YARN).\n"
     ]
    },
    {
     "name": "stdout",
     "output_type": "stream",
     "text": [
      "Sedona initialized with None cores for parellelism.\n"
     ]
    },
    {
     "name": "stderr",
     "output_type": "stream",
     "text": [
      "                                                                                \r"
     ]
    },
    {
     "name": "stdout",
     "output_type": "stream",
     "text": [
      "Loading 'countries' from Parquet...\n"
     ]
    },
    {
     "name": "stderr",
     "output_type": "stream",
     "text": [
      "                                                                                \r"
     ]
    },
    {
     "name": "stdout",
     "output_type": "stream",
     "text": [
      "Loaded dataframe 'countries'\n",
      "Loading 'regions_IT' from Parquet...\n",
      "Loaded dataframe 'regions_IT'\n",
      "Loading 'provinces_IT' from Parquet...\n",
      "Loaded dataframe 'provinces_IT'\n",
      "Loading 'comuni_EU' from Parquet...\n",
      "Loaded dataframe 'comuni_EU'\n",
      "Loading 'comuni_IT' from Parquet...\n",
      "Loaded dataframe 'comuni_IT'\n",
      "Loading 'pop_grids' from Parquet...\n",
      "Loaded dataframe 'pop_grids'\n",
      "Loading 'pop_grids_new' from Parquet...\n",
      "Loaded dataframe 'pop_grids_new'\n"
     ]
    }
   ],
   "source": [
    "''' \n",
    "Load data from pickled parquets \n",
    "\n",
    "'''\n",
    "\n",
    "# Provide the data directory\n",
    "data_dir = \"./data\"\n",
    "\n",
    "obj = Enricher(crs=\"EPSG:3035\")\n",
    "\n",
    "# Setup the Enricher object with \"sedona\" (or, \"wherobots\")\n",
    "# \"ex_mem\" and \"dr_mem\" are the executor and driver memory in GB\n",
    "obj.setup_cluster(data_dir=data_dir, \n",
    "                  which=\"sedona\", \n",
    "                  ex_mem=26, \n",
    "                  dr_mem=24, \n",
    "                  log_level=\"ERROR\")\n",
    "\n",
    "# Loads all the datasets from pickled parquets in the default direcoty: \"./{data_dir}/pickle_parquets/dfs_list\"\n",
    "# optionally, to load from a different directory, pass the directory path in \"parquet_dir\"; reative to the {data_dir}\n",
    "obj.load_from_parquets()\n",
    "# obj.inspect_partitions()"
   ]
  },
  {
   "cell_type": "code",
   "execution_count": 3,
   "metadata": {},
   "outputs": [
    {
     "data": {
      "application/vnd.jupyter.widget-view+json": {
       "model_id": "6ce269a29a6749579205325c27b0d2bb",
       "version_major": 2,
       "version_minor": 0
      },
      "text/plain": [
       "VBox(children=(HTML(value='<h1>Enrich with Overlay & Aggregation</h1>'), HTML(value=\"<div style='height: 5px;'…"
      ]
     },
     "metadata": {},
     "output_type": "display_data"
    }
   ],
   "source": [
    "'''\n",
    "GUI for Enricher primitives\n",
    "\n",
    "'''\n",
    "\n",
    "# pass the Enricher object (loaded with the datasets) to the EnricherUI\n",
    "obj_ui = EnrichOverlay(obj)\n"
   ]
  },
  {
   "cell_type": "code",
   "execution_count": 15,
   "metadata": {},
   "outputs": [
    {
     "name": "stdout",
     "output_type": "stream",
     "text": [
      "['COMM_ID', 'CNTR_ID', 'CNTR_CODE', 'COMM_NAME', 'NAME_ASCI', 'TRUE_FLAG', 'NSI_CODE', 'NAME_NSI', 'NAME_LATN', 'NUTS_CODE', 'FID', 'geohash', 'geometry', 'T_agr_sum']\n",
      "58166281.116447605\n"
     ]
    }
   ],
   "source": [
    "\n",
    "temp = obj.res_agr\n",
    "print(temp.columns)\n",
    "\n",
    "# temp = temp.drop(\"df1_geom\", \"df2_geom\")\n",
    "# temp = temp.withColumnRenamed(\"intr_geometry\", \"geometry\")\n",
    "temp = temp.filter(F.col('CNTR_ID') == 'IT')\n",
    "print(temp.agg(F.sum('T_agr_sum')).collect()[0][0])\n",
    "\n",
    "# obj.parquet_this(\"intrsctn_com_grid_IT\", temp, preserve_partitions=False)\n",
    "# obj.parquet_this(\"grids_new_X_comuni_EU_IT\", temp, preserve_partitions=False)\n",
    "# temp.cache()"
   ]
  },
  {
   "cell_type": "code",
   "execution_count": null,
   "metadata": {},
   "outputs": [
    {
     "name": "stderr",
     "output_type": "stream",
     "text": [
      "[Stage 34:==========>      (9 + 6) / 15][Stage 36:===============> (9 + 1) / 10]\r"
     ]
    },
    {
     "name": "stdout",
     "output_type": "stream",
     "text": [
      "4531770\n"
     ]
    },
    {
     "name": "stderr",
     "output_type": "stream",
     "text": [
      "                                                                                \r"
     ]
    }
   ],
   "source": [
    "df1 = obj.dfs_list['comuni_EU']\n",
    "df2 = obj.dfs_list['pop_grids']\n",
    "\n",
    "df1.createOrReplaceTempView(\"comune\")\n",
    "df2.createOrReplaceTempView(\"grids\")\n",
    "\n",
    "res = df1.alias(\"df1\").join(\n",
    "    df2.alias(\"df2\"), F.expr(\"ST_Intersects(df1.geometry, df2.geometry)\")\n",
    "    ).select(\n",
    "        F.expr(\"df1.geometry\").alias(\"df1_geom\"),\n",
    "        F.expr(\"df2.geometry\").alias(\"df2_geom\"),\n",
    "        *[f\"df1.{c}\" for c in df1.columns if c != \"geometry\"],\n",
    "        *[f\"df2.{c}\" for c in df2.columns if c != \"geometry\" and c not in df1.columns]\n",
    ")\n",
    "\n",
    "print(res.count())"
   ]
  },
  {
   "cell_type": "code",
   "execution_count": 9,
   "metadata": {},
   "outputs": [
    {
     "name": "stderr",
     "output_type": "stream",
     "text": [
      "[Stage 215:====================================================>(199 + 1) / 200]\r"
     ]
    },
    {
     "name": "stdout",
     "output_type": "stream",
     "text": [
      "109707\n"
     ]
    },
    {
     "name": "stderr",
     "output_type": "stream",
     "text": [
      "                                                                                \r"
     ]
    }
   ],
   "source": [
    "df1 = obj.dfs_list['comuni_EU']\n",
    "df2 = obj.dfs_list['pop_grids']\n",
    "\n",
    "df1.createOrReplaceTempView(\"comuni\")\n",
    "df2.createOrReplaceTempView(\"pop_grids\")\n",
    "\n",
    "\"\"\"\n",
    "1\n",
    "\"\"\"\n",
    "# res = obj.sedona.sql(\n",
    "# f\"\"\"\n",
    "# SELECT\n",
    "#     comuni.*, \n",
    "#     {', '.join([f'pop_grids.{col}' for col in df2.columns if col != 'geometry' and col not in df1.columns])}\n",
    "#     FROM comuni, pop_grids\n",
    "#     WHERE ST_Contains(comuni.geometry, pop_grids.geometry)\n",
    "# \"\"\"\n",
    "# )\n",
    "\n",
    "# res.createOrReplaceTempView(\"res\")\n",
    "\n",
    "# res =  obj.sedona.sql(\n",
    "# f\"\"\"\n",
    "#     SELECT COMM_ID,  SUM(T) as t_agr,\n",
    "#     {', '.join([f'FIRST({col}) as {col}' for col in res.columns if col not in ['COMM_ID', 'T']])}\n",
    "#     FROM res\n",
    "#     GROUP BY COMM_ID\n",
    "# \"\"\"\n",
    "# )\n",
    "\n",
    "\"\"\"\n",
    "2\n",
    "\"\"\"\n",
    "\n",
    "# res = obj.sedona.sql(\n",
    "# f\"\"\"\n",
    "# SELECT \n",
    "#     SUM(T) AS t_agr,\n",
    "#     {', '.join([f'FIRST({col}) as {col}' for col in df2.columns if col not in ['T']])}\n",
    "# FROM (\n",
    "#     SELECT\n",
    "#         comuni.*,\n",
    "#         {', '.join([f'pop_grids.{col}' for col in df2.columns if col != 'geometry' and col not in df1.columns])}\n",
    "#     FROM comuni, pop_grids\n",
    "#     WHERE ST_Intersects(comuni.geometry, pop_grids.geometry)\n",
    "# ) AS res\n",
    "# GROUP BY res.COMM_ID\n",
    "# \"\"\"\n",
    "# )\n",
    "\n",
    "\"\"\"\n",
    "3\n",
    "\"\"\"\n",
    "\n",
    "res = obj.sedona.sql(\n",
    "f\"\"\"\n",
    "    SELECT SUM(pop_grids.T) AS t_agr, FIRST(comuni.geometry) as geometry, FIRST(comuni.CNTR_ID) as CNTR_ID, FIRST(comuni.COMM_NAME) as COMM_NAME\n",
    "    FROM comuni, pop_grids\n",
    "    WHERE ST_Intersects(comuni.geometry, pop_grids.geometry)\n",
    "    GROUP BY comuni.COMM_ID\n",
    "\"\"\"\n",
    ")\n",
    "\n",
    "\"\"\"\n",
    "4\n",
    "\"\"\"\n",
    "\n",
    "# res = obj.sedona.sql(\n",
    "# f\"\"\"\n",
    "#     SELECT ST_Intersection(comuni.geometry, pop_grids.geometry) as geometry, ST_Area(comuni.geometry)/1000000 as intr_ratio, \n",
    "#     FROM comuni, pop_grids\n",
    "#     WHERE ST_Intersects(comuni.geometry, pop_grids.geometry)\n",
    "# \"\"\"\n",
    "# )\n",
    "\n",
    "\n",
    "res = res.cache()\n",
    "print(res.count())\n",
    "res_n = res.filter(F.col('CNTR_ID') == 'IT')\n",
    "\n",
    "\n",
    "\n",
    "# obj.parquet_this(\"grids_new_X_comuni_EU_IT\", res, preserve_partitions=False)"
   ]
  },
  {
   "cell_type": "code",
   "execution_count": null,
   "metadata": {},
   "outputs": [
    {
     "name": "stdout",
     "output_type": "stream",
     "text": [
      "41190463\n"
     ]
    }
   ],
   "source": [
    "\"\"\"\n",
    "Contains\n",
    "41190463\n",
    "\"\"\"\n",
    "\n",
    "print(res_n.agg(F.sum('t_agr')).collect()[0][0])\n"
   ]
  },
  {
   "cell_type": "code",
   "execution_count": null,
   "metadata": {},
   "outputs": [
    {
     "name": "stdout",
     "output_type": "stream",
     "text": [
      "77386595\n"
     ]
    }
   ],
   "source": [
    "\"\"\"\n",
    "Intersects\n",
    "77386595\n",
    "\"\"\"\n",
    "\n",
    "print(res_n.agg(F.sum('t_agr')).collect()[0][0])\n"
   ]
  },
  {
   "cell_type": "code",
   "execution_count": null,
   "metadata": {},
   "outputs": [],
   "source": [
    "\"\"\"\n",
    "ST_Intersection\n",
    "58166281\n",
    "\"\"\""
   ]
  },
  {
   "cell_type": "code",
   "execution_count": null,
   "metadata": {},
   "outputs": [
    {
     "name": "stderr",
     "output_type": "stream",
     "text": [
      "/data/homes_data/sudheer/benchmark_data/sedona_venv/lib/python3.12/site-packages/pyogrio/raw.py:723: RuntimeWarning: 2GB file size limit reached for data/pickle_parquets/others/test.dbf. Going on, but might cause compatibility issues with third party software\n",
      "  ogr_write(\n"
     ]
    },
    {
     "name": "stdout",
     "output_type": "stream",
     "text": [
      "GeoDataFrame has been exported to Shapefile: ./data/pickle_parquets/others/test.shp\n"
     ]
    }
   ],
   "source": [
    "import geopandas as gpd\n",
    "\n",
    "\n",
    "shapefile_path = './data/pickle_parquets/others/test.shp'\n",
    "\n",
    "gdf.to_file(shapefile_path, driver='ESRI Shapefile')\n",
    "print(f\"GeoDataFrame has been exported to Shapefile: {shapefile_path}\")"
   ]
  },
  {
   "cell_type": "code",
   "execution_count": null,
   "metadata": {},
   "outputs": [],
   "source": [
    "import pyarrow.parquet as pq\n",
    "\n",
    "parquet_file = pq.ParquetFile(\"./data/pickle_parquets/others/grids_new_X_comuni_EU/test.parquet\")\n",
    "\n",
    "# Print full metadata\n",
    "print(parquet_file.metadata)\n",
    "\n",
    "# Print schema (column names, types, etc.)\n",
    "print(parquet_file.schema)\n",
    "\n",
    "# Print key-value metadata (custom user-defined metadata)\n",
    "print(parquet_file.metadata.metadata)  # This is a dictionary\n"
   ]
  },
  {
   "cell_type": "code",
   "execution_count": 16,
   "metadata": {},
   "outputs": [
    {
     "name": "stdout",
     "output_type": "stream",
     "text": [
      "{\"$schema\":\"https://proj.org/schemas/v0.7/projjson.schema.json\",\"type\":\"ProjectedCRS\",\"name\":\"ETRS89-extended / LAEA Europe\",\"base_crs\":{\"name\":\"ETRS89\",\"datum_ensemble\":{\"name\":\"European Terrestrial Reference System 1989 ensemble\",\"members\":[{\"name\":\"European Terrestrial Reference Frame 1989\",\"id\":{\"authority\":\"EPSG\",\"code\":1178}},{\"name\":\"European Terrestrial Reference Frame 1990\",\"id\":{\"authority\":\"EPSG\",\"code\":1179}},{\"name\":\"European Terrestrial Reference Frame 1991\",\"id\":{\"authority\":\"EPSG\",\"code\":1180}},{\"name\":\"European Terrestrial Reference Frame 1992\",\"id\":{\"authority\":\"EPSG\",\"code\":1181}},{\"name\":\"European Terrestrial Reference Frame 1993\",\"id\":{\"authority\":\"EPSG\",\"code\":1182}},{\"name\":\"European Terrestrial Reference Frame 1994\",\"id\":{\"authority\":\"EPSG\",\"code\":1183}},{\"name\":\"European Terrestrial Reference Frame 1996\",\"id\":{\"authority\":\"EPSG\",\"code\":1184}},{\"name\":\"European Terrestrial Reference Frame 1997\",\"id\":{\"authority\":\"EPSG\",\"code\":1185}},{\"name\":\"European Terrestrial Reference Frame 2000\",\"id\":{\"authority\":\"EPSG\",\"code\":1186}},{\"name\":\"European Terrestrial Reference Frame 2005\",\"id\":{\"authority\":\"EPSG\",\"code\":1204}},{\"name\":\"European Terrestrial Reference Frame 2014\",\"id\":{\"authority\":\"EPSG\",\"code\":1206}},{\"name\":\"European Terrestrial Reference Frame 2020\",\"id\":{\"authority\":\"EPSG\",\"code\":1382}}],\"ellipsoid\":{\"name\":\"GRS 1980\",\"semi_major_axis\":6378137,\"inverse_flattening\":298.257222101},\"accuracy\":\"0.1\",\"id\":{\"authority\":\"EPSG\",\"code\":6258}},\"coordinate_system\":{\"subtype\":\"ellipsoidal\",\"axis\":[{\"name\":\"Geodetic latitude\",\"abbreviation\":\"Lat\",\"direction\":\"north\",\"unit\":\"degree\"},{\"name\":\"Geodetic longitude\",\"abbreviation\":\"Lon\",\"direction\":\"east\",\"unit\":\"degree\"}]},\"id\":{\"authority\":\"EPSG\",\"code\":4258}},\"conversion\":{\"name\":\"Europe Equal Area 2001\",\"method\":{\"name\":\"Lambert Azimuthal Equal Area\",\"id\":{\"authority\":\"EPSG\",\"code\":9820}},\"parameters\":[{\"name\":\"Latitude of natural origin\",\"value\":52,\"unit\":\"degree\",\"id\":{\"authority\":\"EPSG\",\"code\":8801}},{\"name\":\"Longitude of natural origin\",\"value\":10,\"unit\":\"degree\",\"id\":{\"authority\":\"EPSG\",\"code\":8802}},{\"name\":\"False easting\",\"value\":4321000,\"unit\":\"metre\",\"id\":{\"authority\":\"EPSG\",\"code\":8806}},{\"name\":\"False northing\",\"value\":3210000,\"unit\":\"metre\",\"id\":{\"authority\":\"EPSG\",\"code\":8807}}]},\"coordinate_system\":{\"subtype\":\"Cartesian\",\"axis\":[{\"name\":\"Northing\",\"abbreviation\":\"Y\",\"direction\":\"north\",\"unit\":\"metre\"},{\"name\":\"Easting\",\"abbreviation\":\"X\",\"direction\":\"east\",\"unit\":\"metre\"}]},\"scope\":\"Statistical analysis.\",\"area\":\"Europe - European Union (EU) countries and candidates. Europe - onshore and offshore: Albania; Andorra; Austria; Belgium; Bosnia and Herzegovina; Bulgaria; Croatia; Cyprus; Czechia; Denmark; Estonia; Faroe Islands; Finland; France; Germany; Gibraltar; Greece; Hungary; Iceland; Ireland; Italy; Kosovo; Latvia; Liechtenstein; Lithuania; Luxembourg; Malta; Monaco; Montenegro; Netherlands; North Macedonia; Norway including Svalbard and Jan Mayen; Poland; Portugal including Madeira and Azores; Romania; San Marino; Serbia; Slovakia; Slovenia; Spain including Canary Islands; Sweden; Switzerland; Türkiye (Turkey); United Kingdom (UK) including Channel Islands and Isle of Man; Vatican City State.\",\"bbox\":{\"south_latitude\":24.6,\"west_longitude\":-35.58,\"north_latitude\":84.73,\"east_longitude\":44.83},\"id\":{\"authority\":\"EPSG\",\"code\":3035}}\n"
     ]
    }
   ],
   "source": [
    "from pyproj import CRS\n",
    "print(CRS.from_epsg(3035).to_json()) "
   ]
  },
  {
   "cell_type": "code",
   "execution_count": 18,
   "metadata": {},
   "outputs": [
    {
     "name": "stdout",
     "output_type": "stream",
     "text": [
      "Saving dataframe 'test_geohash' as Parquet...\n"
     ]
    },
    {
     "name": "stderr",
     "output_type": "stream",
     "text": [
      "[Stage 93:>                                                         (0 + 1) / 1]\r"
     ]
    },
    {
     "name": "stdout",
     "output_type": "stream",
     "text": [
      "Saved to './data/pickle_parquets/others/test_geohash'\n"
     ]
    },
    {
     "name": "stderr",
     "output_type": "stream",
     "text": [
      "                                                                                \r"
     ]
    }
   ],
   "source": [
    "res.createOrReplaceGlobalTempView(\"res\")\n",
    "\n",
    "res = obj.sedona.sql(\"\"\"\n",
    "    SELECT *, ST_GeoHash(geometry, 5) as geohash\n",
    "    FROM res\n",
    "    ORDER BY geohash\n",
    "\"\"\"\n",
    ")\n",
    "\n",
    "obj.parquet_this(\"test_geohash\", res, preserve_partitions=False)"
   ]
  },
  {
   "cell_type": "code",
   "execution_count": null,
   "metadata": {},
   "outputs": [
    {
     "name": "stdout",
     "output_type": "stream",
     "text": [
      "4531770\n"
     ]
    }
   ],
   "source": [
    "df1 = obj.dfs_list['countries']\n",
    "df2 = obj.dfs_list['pop_grids']\n",
    "\n",
    "df1.createOrReplaceTempView(\"countries\")\n",
    "df2.createOrReplaceTempView(\"pop_grids\")\n",
    "\n",
    "res = obj.sedona.sql(\"\"\"\n",
    "    SELECT\n",
    "        countries.CNTR_NAME,\n",
    "        pop_grids.*\n",
    "    FROM countries, pop_grids\n",
    "    WHERE ST_Intersects(countries.geometry, pop_grids.geometry)\n",
    "\"\"\")\n",
    "\n",
    "res = res.cache()\n",
    "print(res.count())\n"
   ]
  },
  {
   "cell_type": "code",
   "execution_count": 61,
   "metadata": {},
   "outputs": [
    {
     "name": "stdout",
     "output_type": "stream",
     "text": [
      "User Guide: https://docs.kepler.gl/docs/keplergl-jupyter\n"
     ]
    },
    {
     "name": "stderr",
     "output_type": "stream",
     "text": [
      "                                                                                \r"
     ]
    },
    {
     "ename": "KeyboardInterrupt",
     "evalue": "",
     "output_type": "error",
     "traceback": [
      "\u001b[0;31m---------------------------------------------------------------------------\u001b[0m",
      "\u001b[0;31mKeyboardInterrupt\u001b[0m                         Traceback (most recent call last)",
      "\u001b[0;32m/tmp/ipykernel_2818954/4107501640.py\u001b[0m in \u001b[0;36m?\u001b[0;34m()\u001b[0m\n\u001b[1;32m     34\u001b[0m \u001b[0;34m\u001b[0m\u001b[0m\n\u001b[1;32m     35\u001b[0m \u001b[0;34m\u001b[0m\u001b[0m\n\u001b[1;32m     36\u001b[0m \u001b[0mmap\u001b[0m \u001b[0;34m=\u001b[0m \u001b[0mKeplerGl\u001b[0m\u001b[0;34m(\u001b[0m\u001b[0mheight\u001b[0m\u001b[0;34m=\u001b[0m\u001b[0;36m600\u001b[0m\u001b[0;34m)\u001b[0m\u001b[0;34m\u001b[0m\u001b[0;34m\u001b[0m\u001b[0m\n\u001b[1;32m     37\u001b[0m \u001b[0;34m\u001b[0m\u001b[0m\n\u001b[0;32m---> 38\u001b[0;31m map.add_data(\n\u001b[0m\u001b[1;32m     39\u001b[0m     \u001b[0mdata\u001b[0m\u001b[0;34m=\u001b[0m\u001b[0mprep_for_map\u001b[0m\u001b[0;34m(\u001b[0m\u001b[0mres\u001b[0m\u001b[0;34m,\u001b[0m \u001b[0mobj\u001b[0m\u001b[0;34m.\u001b[0m\u001b[0mcrs\u001b[0m\u001b[0;34m,\u001b[0m \u001b[0mgeom_col\u001b[0m\u001b[0;34m=\u001b[0m\u001b[0;34m\"geometry\"\u001b[0m\u001b[0;34m)\u001b[0m\u001b[0;34m,\u001b[0m\u001b[0;34m\u001b[0m\u001b[0;34m\u001b[0m\u001b[0m\n\u001b[1;32m     40\u001b[0m     \u001b[0mname\u001b[0m\u001b[0;34m=\u001b[0m\u001b[0;34m\"result\"\u001b[0m\u001b[0;34m\u001b[0m\u001b[0;34m\u001b[0m\u001b[0m\n\u001b[1;32m     41\u001b[0m     \u001b[0;34m)\u001b[0m\u001b[0;34m\u001b[0m\u001b[0;34m\u001b[0m\u001b[0m\n",
      "\u001b[0;32m~/benchmark_data/sedona_venv/lib/python3.12/site-packages/keplergl/keplergl.py\u001b[0m in \u001b[0;36m?\u001b[0;34m(self, data, name, use_arrow)\u001b[0m\n\u001b[1;32m    214\u001b[0m \u001b[0;34m\u001b[0m\u001b[0m\n\u001b[1;32m    215\u001b[0m         \u001b[0mExample\u001b[0m \u001b[0mof\u001b[0m \u001b[0muse\u001b[0m\u001b[0;34m:\u001b[0m\u001b[0;34m\u001b[0m\u001b[0;34m\u001b[0m\u001b[0m\n\u001b[1;32m    216\u001b[0m             \u001b[0mkeplergl\u001b[0m\u001b[0;34m.\u001b[0m\u001b[0madd_data\u001b[0m\u001b[0;34m(\u001b[0m\u001b[0mdata_string\u001b[0m\u001b[0;34m,\u001b[0m \u001b[0mname\u001b[0m\u001b[0;34m=\u001b[0m\u001b[0;34m\"data_1\"\u001b[0m\u001b[0;34m)\u001b[0m\u001b[0;34m\u001b[0m\u001b[0;34m\u001b[0m\u001b[0m\n\u001b[1;32m    217\u001b[0m         '''\n\u001b[0;32m--> 218\u001b[0;31m         \u001b[0mnormalized\u001b[0m \u001b[0;34m=\u001b[0m \u001b[0m_normalize_data\u001b[0m\u001b[0;34m(\u001b[0m\u001b[0mdata\u001b[0m\u001b[0;34m,\u001b[0m \u001b[0muse_arrow\u001b[0m\u001b[0;34m)\u001b[0m\u001b[0;34m\u001b[0m\u001b[0;34m\u001b[0m\u001b[0m\n\u001b[0m\u001b[1;32m    219\u001b[0m         \u001b[0mcopy\u001b[0m \u001b[0;34m=\u001b[0m \u001b[0mself\u001b[0m\u001b[0;34m.\u001b[0m\u001b[0mdata\u001b[0m\u001b[0;34m.\u001b[0m\u001b[0mcopy\u001b[0m\u001b[0;34m(\u001b[0m\u001b[0;34m)\u001b[0m\u001b[0;34m\u001b[0m\u001b[0;34m\u001b[0m\u001b[0m\n\u001b[1;32m    220\u001b[0m         \u001b[0mcopy\u001b[0m\u001b[0;34m.\u001b[0m\u001b[0mupdate\u001b[0m\u001b[0;34m(\u001b[0m\u001b[0;34m{\u001b[0m\u001b[0mname\u001b[0m\u001b[0;34m:\u001b[0m \u001b[0mnormalized\u001b[0m\u001b[0;34m}\u001b[0m\u001b[0;34m)\u001b[0m\u001b[0;34m\u001b[0m\u001b[0;34m\u001b[0m\u001b[0m\n\u001b[1;32m    221\u001b[0m \u001b[0;34m\u001b[0m\u001b[0m\n",
      "\u001b[0;32m~/benchmark_data/sedona_venv/lib/python3.12/site-packages/keplergl/keplergl.py\u001b[0m in \u001b[0;36m?\u001b[0;34m(data, use_arrow)\u001b[0m\n\u001b[1;32m    115\u001b[0m     \u001b[0;32mif\u001b[0m \u001b[0misinstance\u001b[0m\u001b[0;34m(\u001b[0m\u001b[0mdata\u001b[0m\u001b[0;34m,\u001b[0m \u001b[0mpd\u001b[0m\u001b[0;34m.\u001b[0m\u001b[0mDataFrame\u001b[0m\u001b[0;34m)\u001b[0m\u001b[0;34m:\u001b[0m\u001b[0;34m\u001b[0m\u001b[0;34m\u001b[0m\u001b[0m\n\u001b[1;32m    116\u001b[0m         \u001b[0;32mif\u001b[0m \u001b[0muse_arrow\u001b[0m\u001b[0;34m:\u001b[0m\u001b[0;34m\u001b[0m\u001b[0;34m\u001b[0m\u001b[0m\n\u001b[1;32m    117\u001b[0m             \u001b[0;32mreturn\u001b[0m \u001b[0m_gdf_to_arrow\u001b[0m\u001b[0;34m(\u001b[0m\u001b[0mdata\u001b[0m\u001b[0;34m)\u001b[0m \u001b[0;32mif\u001b[0m \u001b[0misinstance\u001b[0m\u001b[0;34m(\u001b[0m\u001b[0mdata\u001b[0m\u001b[0;34m,\u001b[0m \u001b[0mgeopandas\u001b[0m\u001b[0;34m.\u001b[0m\u001b[0mGeoDataFrame\u001b[0m\u001b[0;34m)\u001b[0m \u001b[0;32melse\u001b[0m \u001b[0m_df_to_arrow\u001b[0m\u001b[0;34m(\u001b[0m\u001b[0mdata\u001b[0m\u001b[0;34m)\u001b[0m\u001b[0;34m\u001b[0m\u001b[0;34m\u001b[0m\u001b[0m\n\u001b[1;32m    118\u001b[0m         \u001b[0;32melse\u001b[0m\u001b[0;34m:\u001b[0m\u001b[0;34m\u001b[0m\u001b[0;34m\u001b[0m\u001b[0m\n\u001b[0;32m--> 119\u001b[0;31m             \u001b[0;32mreturn\u001b[0m \u001b[0m_gdf_to_dict\u001b[0m\u001b[0;34m(\u001b[0m\u001b[0mdata\u001b[0m\u001b[0;34m)\u001b[0m \u001b[0;32mif\u001b[0m \u001b[0misinstance\u001b[0m\u001b[0;34m(\u001b[0m\u001b[0mdata\u001b[0m\u001b[0;34m,\u001b[0m \u001b[0mgeopandas\u001b[0m\u001b[0;34m.\u001b[0m\u001b[0mGeoDataFrame\u001b[0m\u001b[0;34m)\u001b[0m \u001b[0;32melse\u001b[0m \u001b[0m_df_to_dict\u001b[0m\u001b[0;34m(\u001b[0m\u001b[0mdata\u001b[0m\u001b[0;34m)\u001b[0m\u001b[0;34m\u001b[0m\u001b[0;34m\u001b[0m\u001b[0m\n\u001b[0m\u001b[1;32m    120\u001b[0m     \u001b[0;32mreturn\u001b[0m \u001b[0mdata\u001b[0m\u001b[0;34m\u001b[0m\u001b[0;34m\u001b[0m\u001b[0m\n",
      "\u001b[0;32m~/benchmark_data/sedona_venv/lib/python3.12/site-packages/keplergl/keplergl.py\u001b[0m in \u001b[0;36m?\u001b[0;34m(gdf)\u001b[0m\n\u001b[1;32m     88\u001b[0m     \u001b[0;31m# convert geometry to wkt\u001b[0m\u001b[0;34m\u001b[0m\u001b[0;34m\u001b[0m\u001b[0m\n\u001b[1;32m     89\u001b[0m     \u001b[0mdf\u001b[0m\u001b[0;34m[\u001b[0m\u001b[0mname\u001b[0m\u001b[0;34m]\u001b[0m \u001b[0;34m=\u001b[0m \u001b[0mdf\u001b[0m\u001b[0;34m.\u001b[0m\u001b[0mgeometry\u001b[0m\u001b[0;34m.\u001b[0m\u001b[0mapply\u001b[0m\u001b[0;34m(\u001b[0m\u001b[0;32mlambda\u001b[0m \u001b[0mx\u001b[0m\u001b[0;34m:\u001b[0m \u001b[0mshapely\u001b[0m\u001b[0;34m.\u001b[0m\u001b[0mwkt\u001b[0m\u001b[0;34m.\u001b[0m\u001b[0mdumps\u001b[0m\u001b[0;34m(\u001b[0m\u001b[0mx\u001b[0m\u001b[0;34m)\u001b[0m\u001b[0;34m)\u001b[0m\u001b[0;34m\u001b[0m\u001b[0;34m\u001b[0m\u001b[0m\n\u001b[1;32m     90\u001b[0m     \u001b[0;31m#  df[name] = shapely.wkt.dumps(df.geometry)\u001b[0m\u001b[0;34m\u001b[0m\u001b[0;34m\u001b[0m\u001b[0m\n\u001b[1;32m     91\u001b[0m \u001b[0;34m\u001b[0m\u001b[0m\n\u001b[0;32m---> 92\u001b[0;31m     \u001b[0;32mreturn\u001b[0m \u001b[0m_df_to_dict\u001b[0m\u001b[0;34m(\u001b[0m\u001b[0mdf\u001b[0m\u001b[0;34m)\u001b[0m\u001b[0;34m\u001b[0m\u001b[0;34m\u001b[0m\u001b[0m\n\u001b[0m",
      "\u001b[0;32m~/benchmark_data/sedona_venv/lib/python3.12/site-packages/keplergl/keplergl.py\u001b[0m in \u001b[0;36m?\u001b[0;34m(df)\u001b[0m\n\u001b[1;32m     48\u001b[0m     \u001b[0mReturns\u001b[0m\u001b[0;34m:\u001b[0m\u001b[0;34m\u001b[0m\u001b[0;34m\u001b[0m\u001b[0m\n\u001b[1;32m     49\u001b[0m     \u001b[0;34m-\u001b[0m \u001b[0mdictionary\u001b[0m\u001b[0;34m:\u001b[0m \u001b[0ma\u001b[0m \u001b[0mdictionary\u001b[0m \u001b[0mvariable\u001b[0m \u001b[0mthat\u001b[0m \u001b[0mcan\u001b[0m \u001b[0mbe\u001b[0m \u001b[0mused\u001b[0m \u001b[0;32min\u001b[0m \u001b[0mKepler\u001b[0m\u001b[0;34m.\u001b[0m\u001b[0mgl\u001b[0m\u001b[0;34m\u001b[0m\u001b[0;34m\u001b[0m\u001b[0m\n\u001b[1;32m     50\u001b[0m \u001b[0;34m\u001b[0m\u001b[0m\n\u001b[1;32m     51\u001b[0m     '''\n\u001b[0;32m---> 52\u001b[0;31m     \u001b[0;32mreturn\u001b[0m \u001b[0mdf\u001b[0m\u001b[0;34m.\u001b[0m\u001b[0mto_dict\u001b[0m\u001b[0;34m(\u001b[0m\u001b[0;34m'split'\u001b[0m\u001b[0;34m)\u001b[0m\u001b[0;34m\u001b[0m\u001b[0;34m\u001b[0m\u001b[0m\n\u001b[0m",
      "\u001b[0;32m~/benchmark_data/sedona_venv/lib/python3.12/site-packages/pandas/util/_decorators.py\u001b[0m in \u001b[0;36m?\u001b[0;34m(*args, **kwargs)\u001b[0m\n\u001b[1;32m    329\u001b[0m                     \u001b[0mmsg\u001b[0m\u001b[0;34m.\u001b[0m\u001b[0mformat\u001b[0m\u001b[0;34m(\u001b[0m\u001b[0marguments\u001b[0m\u001b[0;34m=\u001b[0m\u001b[0m_format_argument_list\u001b[0m\u001b[0;34m(\u001b[0m\u001b[0mallow_args\u001b[0m\u001b[0;34m)\u001b[0m\u001b[0;34m)\u001b[0m\u001b[0;34m,\u001b[0m\u001b[0;34m\u001b[0m\u001b[0;34m\u001b[0m\u001b[0m\n\u001b[1;32m    330\u001b[0m                     \u001b[0mFutureWarning\u001b[0m\u001b[0;34m,\u001b[0m\u001b[0;34m\u001b[0m\u001b[0;34m\u001b[0m\u001b[0m\n\u001b[1;32m    331\u001b[0m                     \u001b[0mstacklevel\u001b[0m\u001b[0;34m=\u001b[0m\u001b[0mfind_stack_level\u001b[0m\u001b[0;34m(\u001b[0m\u001b[0;34m)\u001b[0m\u001b[0;34m,\u001b[0m\u001b[0;34m\u001b[0m\u001b[0;34m\u001b[0m\u001b[0m\n\u001b[1;32m    332\u001b[0m                 \u001b[0;34m)\u001b[0m\u001b[0;34m\u001b[0m\u001b[0;34m\u001b[0m\u001b[0m\n\u001b[0;32m--> 333\u001b[0;31m             \u001b[0;32mreturn\u001b[0m \u001b[0mfunc\u001b[0m\u001b[0;34m(\u001b[0m\u001b[0;34m*\u001b[0m\u001b[0margs\u001b[0m\u001b[0;34m,\u001b[0m \u001b[0;34m**\u001b[0m\u001b[0mkwargs\u001b[0m\u001b[0;34m)\u001b[0m\u001b[0;34m\u001b[0m\u001b[0;34m\u001b[0m\u001b[0m\n\u001b[0m",
      "\u001b[0;32m~/benchmark_data/sedona_venv/lib/python3.12/site-packages/pandas/core/frame.py\u001b[0m in \u001b[0;36m?\u001b[0;34m(self, orient, into, index)\u001b[0m\n\u001b[1;32m   2174\u001b[0m          \u001b[0mdefaultdict\u001b[0m\u001b[0;34m(\u001b[0m\u001b[0;34m<\u001b[0m\u001b[0;32mclass\u001b[0m \u001b[0;34m'list'\u001b[0m\u001b[0;34m>\u001b[0m\u001b[0;34m,\u001b[0m \u001b[0;34m{\u001b[0m\u001b[0;34m'col1'\u001b[0m\u001b[0;34m:\u001b[0m \u001b[0;36m2\u001b[0m\u001b[0;34m,\u001b[0m \u001b[0;34m'col2'\u001b[0m\u001b[0;34m:\u001b[0m \u001b[0;36m0.75\u001b[0m\u001b[0;34m}\u001b[0m\u001b[0;34m)\u001b[0m\u001b[0;34m]\u001b[0m\u001b[0;34m\u001b[0m\u001b[0;34m\u001b[0m\u001b[0m\n\u001b[1;32m   2175\u001b[0m         \"\"\"\n\u001b[1;32m   2176\u001b[0m         \u001b[0;32mfrom\u001b[0m \u001b[0mpandas\u001b[0m\u001b[0;34m.\u001b[0m\u001b[0mcore\u001b[0m\u001b[0;34m.\u001b[0m\u001b[0mmethods\u001b[0m\u001b[0;34m.\u001b[0m\u001b[0mto_dict\u001b[0m \u001b[0;32mimport\u001b[0m \u001b[0mto_dict\u001b[0m\u001b[0;34m\u001b[0m\u001b[0;34m\u001b[0m\u001b[0m\n\u001b[1;32m   2177\u001b[0m \u001b[0;34m\u001b[0m\u001b[0m\n\u001b[0;32m-> 2178\u001b[0;31m         \u001b[0;32mreturn\u001b[0m \u001b[0mto_dict\u001b[0m\u001b[0;34m(\u001b[0m\u001b[0mself\u001b[0m\u001b[0;34m,\u001b[0m \u001b[0morient\u001b[0m\u001b[0;34m,\u001b[0m \u001b[0minto\u001b[0m\u001b[0;34m=\u001b[0m\u001b[0minto\u001b[0m\u001b[0;34m,\u001b[0m \u001b[0mindex\u001b[0m\u001b[0;34m=\u001b[0m\u001b[0mindex\u001b[0m\u001b[0;34m)\u001b[0m\u001b[0;34m\u001b[0m\u001b[0;34m\u001b[0m\u001b[0m\n\u001b[0m",
      "\u001b[0;32m~/benchmark_data/sedona_venv/lib/python3.12/site-packages/pandas/core/methods/to_dict.py\u001b[0m in \u001b[0;36m?\u001b[0;34m(df, orient, into, index)\u001b[0m\n\u001b[1;32m    178\u001b[0m             \u001b[0;32mfor\u001b[0m \u001b[0mi\u001b[0m\u001b[0;34m,\u001b[0m \u001b[0;34m(\u001b[0m\u001b[0mk\u001b[0m\u001b[0;34m,\u001b[0m \u001b[0mv\u001b[0m\u001b[0;34m)\u001b[0m \u001b[0;32min\u001b[0m \u001b[0menumerate\u001b[0m\u001b[0;34m(\u001b[0m\u001b[0mdf\u001b[0m\u001b[0;34m.\u001b[0m\u001b[0mitems\u001b[0m\u001b[0;34m(\u001b[0m\u001b[0;34m)\u001b[0m\u001b[0;34m)\u001b[0m\u001b[0;34m\u001b[0m\u001b[0;34m\u001b[0m\u001b[0m\n\u001b[1;32m    179\u001b[0m         \u001b[0;34m)\u001b[0m\u001b[0;34m\u001b[0m\u001b[0;34m\u001b[0m\u001b[0m\n\u001b[1;32m    180\u001b[0m \u001b[0;34m\u001b[0m\u001b[0m\n\u001b[1;32m    181\u001b[0m     \u001b[0;32melif\u001b[0m \u001b[0morient\u001b[0m \u001b[0;34m==\u001b[0m \u001b[0;34m\"split\"\u001b[0m\u001b[0;34m:\u001b[0m\u001b[0;34m\u001b[0m\u001b[0;34m\u001b[0m\u001b[0m\n\u001b[0;32m--> 182\u001b[0;31m         data = df._create_data_for_split_and_tight_to_dict(\n\u001b[0m\u001b[1;32m    183\u001b[0m             \u001b[0mare_all_object_dtype_cols\u001b[0m\u001b[0;34m,\u001b[0m \u001b[0mbox_native_indices\u001b[0m\u001b[0;34m\u001b[0m\u001b[0;34m\u001b[0m\u001b[0m\n\u001b[1;32m    184\u001b[0m         \u001b[0;34m)\u001b[0m\u001b[0;34m\u001b[0m\u001b[0;34m\u001b[0m\u001b[0m\n\u001b[1;32m    185\u001b[0m \u001b[0;34m\u001b[0m\u001b[0m\n",
      "\u001b[0;32m~/benchmark_data/sedona_venv/lib/python3.12/site-packages/pandas/core/frame.py\u001b[0m in \u001b[0;36m?\u001b[0;34m(self, are_all_object_dtype_cols, object_dtype_indices)\u001b[0m\n\u001b[1;32m   2008\u001b[0m                 \u001b[0mlist\u001b[0m\u001b[0;34m(\u001b[0m\u001b[0mmap\u001b[0m\u001b[0;34m(\u001b[0m\u001b[0mmaybe_box_native\u001b[0m\u001b[0;34m,\u001b[0m \u001b[0mt\u001b[0m\u001b[0;34m)\u001b[0m\u001b[0;34m)\u001b[0m\u001b[0;34m\u001b[0m\u001b[0;34m\u001b[0m\u001b[0m\n\u001b[1;32m   2009\u001b[0m                 \u001b[0;32mfor\u001b[0m \u001b[0mt\u001b[0m \u001b[0;32min\u001b[0m \u001b[0mself\u001b[0m\u001b[0;34m.\u001b[0m\u001b[0mitertuples\u001b[0m\u001b[0;34m(\u001b[0m\u001b[0mindex\u001b[0m\u001b[0;34m=\u001b[0m\u001b[0;32mFalse\u001b[0m\u001b[0;34m,\u001b[0m \u001b[0mname\u001b[0m\u001b[0;34m=\u001b[0m\u001b[0;32mNone\u001b[0m\u001b[0;34m)\u001b[0m\u001b[0;34m\u001b[0m\u001b[0;34m\u001b[0m\u001b[0m\n\u001b[1;32m   2010\u001b[0m             \u001b[0;34m]\u001b[0m\u001b[0;34m\u001b[0m\u001b[0;34m\u001b[0m\u001b[0m\n\u001b[1;32m   2011\u001b[0m         \u001b[0;32melse\u001b[0m\u001b[0;34m:\u001b[0m\u001b[0;34m\u001b[0m\u001b[0;34m\u001b[0m\u001b[0m\n\u001b[0;32m-> 2012\u001b[0;31m             \u001b[0mdata\u001b[0m \u001b[0;34m=\u001b[0m \u001b[0;34m[\u001b[0m\u001b[0mlist\u001b[0m\u001b[0;34m(\u001b[0m\u001b[0mt\u001b[0m\u001b[0;34m)\u001b[0m \u001b[0;32mfor\u001b[0m \u001b[0mt\u001b[0m \u001b[0;32min\u001b[0m \u001b[0mself\u001b[0m\u001b[0;34m.\u001b[0m\u001b[0mitertuples\u001b[0m\u001b[0;34m(\u001b[0m\u001b[0mindex\u001b[0m\u001b[0;34m=\u001b[0m\u001b[0;32mFalse\u001b[0m\u001b[0;34m,\u001b[0m \u001b[0mname\u001b[0m\u001b[0;34m=\u001b[0m\u001b[0;32mNone\u001b[0m\u001b[0;34m)\u001b[0m\u001b[0;34m]\u001b[0m\u001b[0;34m\u001b[0m\u001b[0;34m\u001b[0m\u001b[0m\n\u001b[0m\u001b[1;32m   2013\u001b[0m             \u001b[0;32mif\u001b[0m \u001b[0mobject_dtype_indices\u001b[0m\u001b[0;34m:\u001b[0m\u001b[0;34m\u001b[0m\u001b[0;34m\u001b[0m\u001b[0m\n\u001b[1;32m   2014\u001b[0m                 \u001b[0;31m# If we have object_dtype_cols, apply maybe_box_naive after list\u001b[0m\u001b[0;34m\u001b[0m\u001b[0;34m\u001b[0m\u001b[0m\n\u001b[1;32m   2015\u001b[0m                 \u001b[0;31m# comprehension for perf\u001b[0m\u001b[0;34m\u001b[0m\u001b[0;34m\u001b[0m\u001b[0m\n",
      "\u001b[0;31mKeyboardInterrupt\u001b[0m: "
     ]
    }
   ],
   "source": [
    "'''\n",
    "For visualizing the results or other spatial datasets\n",
    "\n",
    "'''\n",
    "\n",
    "\n",
    "from keplergl import KeplerGl\n",
    "import geopandas as gpd\n",
    "from shapely.geometry import shape\n",
    "import decimal\n",
    "\n",
    "\n",
    "# Pass the dataframe you want to visualize to \"temp_df\"\n",
    "\n",
    "temp_df = res_n\n",
    "# temp_df = obj.dfs_list['pop_grids_new'].filter(F.col('CNTR_ID').isin([\"IT\"]))\n",
    "# temp_df = obj.res.filter(F.col('CNTR_ID').isin(\"NL\", \"BE\", \"DE\", \"IT\"))\n",
    "# temp_df = obj.dfs_list['pop_grids'].filter(F.col('T')>1000)\n",
    "\n",
    "\n",
    "def prep_for_map(res_agr, crs, geom_col='geometry'):\n",
    "    \"\"\"\n",
    "    This is a function that takes a Sedona (Spark) dataframe and\n",
    "    converts it to a Geopandas dataframe for visualization in Kepler.gl.\n",
    "    \"\"\"\n",
    "    df = res_agr.toPandas()\n",
    "    df = df.map(lambda x: float(x) if isinstance(x, decimal.Decimal) else x)\n",
    "    df['geometry'] = df[f'{geom_col}'].apply(lambda geom: shape(geom))\n",
    "\n",
    "    gdf = gpd.GeoDataFrame(df, geometry='geometry')\n",
    "    gdf.crs = crs\n",
    "    \n",
    "    return gdf\n",
    "\n",
    "\n",
    "map = KeplerGl(height=600)\n",
    "\n",
    "map.add_data(\n",
    "    data=prep_for_map(res, obj.crs, geom_col=\"geometry\"), \n",
    "    name=\"result\"\n",
    "    )\n",
    "map"
   ]
  },
  {
   "cell_type": "code",
   "execution_count": null,
   "metadata": {},
   "outputs": [
    {
     "name": "stderr",
     "output_type": "stream",
     "text": [
      "/data/homes_data/sudheer/benchmark_data/sedona_venv/lib/python3.12/site-packages/jupyter_client/session.py:721: UserWarning: Message serialization failed with:\n",
      "Out of range float values are not JSON compliant: nan\n",
      "Supporting this message is deprecated in jupyter-client 7, please make sure your message is JSON-compliant\n",
      "  content = self.pack(content)\n"
     ]
    },
    {
     "data": {
      "application/vnd.jupyter.widget-view+json": {
       "model_id": "cc76fdf26c8f4a20beab056580dd247c",
       "version_major": 2,
       "version_minor": 0
      },
      "text/plain": [
       "KeplerGl(config={'version': 'v1', 'config': {'visState': {'filters': [], 'layers': [{'id': '7f1zywf', 'type': …"
      ]
     },
     "execution_count": 34,
     "metadata": {},
     "output_type": "execute_result"
    }
   ],
   "source": [
    "map.add_data(\n",
    "    data=prep_for_map(df1, obj.crs, geom_col=\"geometry\"), \n",
    "    name=\"comune\"\n",
    "    )\n",
    "map"
   ]
  },
  {
   "cell_type": "code",
   "execution_count": null,
   "metadata": {},
   "outputs": [],
   "source": [
    "from sedona.maps.SedonaKepler import SedonaKepler\n",
    "\n",
    "res = res.cache()\n",
    "temp_df = res.filter(F.col('CNTR_ID').isin([\"IT\"]))\n",
    "map = SedonaKepler.create_map(df=temp_df, name=\"temp\")"
   ]
  },
  {
   "cell_type": "code",
   "execution_count": null,
   "metadata": {},
   "outputs": [],
   "source": [
    "from keplergl import KeplerGl\n",
    "import geopandas as gpd\n",
    "from shapely.geometry import shape\n",
    "import decimal\n",
    "\n",
    "# temp_df = obj.res_agr\n",
    "temp_df = obj.dfs_list['pop_grids_new']\n",
    "# temp_df = obj.dfs_list['comuni_EU']\n",
    "# temp_df = obj.dfs_list['pop_grids_new'].filter(F.col('CNTR_ID').isin(\"NL\", \"BE\", \"DE\", \"IT\"))\n",
    "\n",
    "\n",
    "def prep_for_map(res_agr, crs, geom_col='geometry'):\n",
    "    df = res_agr.toPandas()\n",
    "    df = df.map(lambda x: float(x) if isinstance(x, decimal.Decimal) else x)\n",
    "    df['geometry'] = df[f'{geom_col}'].apply(lambda geom: shape(geom))\n",
    "\n",
    "    gdf = gpd.GeoDataFrame(df, geometry='geometry')\n",
    "    gdf.crs = crs\n",
    "    \n",
    "    return gdf\n",
    "\n",
    "map = KeplerGl(height=600)\n",
    "map.add_data(data=prep_for_map(temp_df, obj.crs, geom_col=\"geometry\"), name=\"pop_grids\")\n",
    "map"
   ]
  },
  {
   "cell_type": "code",
   "execution_count": null,
   "metadata": {},
   "outputs": [],
   "source": []
  },
  {
   "cell_type": "code",
   "execution_count": null,
   "metadata": {},
   "outputs": [],
   "source": []
  },
  {
   "cell_type": "code",
   "execution_count": null,
   "metadata": {},
   "outputs": [],
   "source": []
  },
  {
   "cell_type": "code",
   "execution_count": null,
   "metadata": {},
   "outputs": [],
   "source": [
    "# import geopandas as gpd\n",
    "\n",
    "# path = \"./data/pickle_parquets/others/grids_new_X_comuni_EU\"\n",
    "\n",
    "# gdf = gpd.read_parquet(path)\n",
    "\n",
    "# crs = gdf.crs\n",
    "\n",
    "# if crs:\n",
    "#     print(f\"The CRS of the GeoParquet file is: {crs}\")\n",
    "# else:\n",
    "#     print(\"The CRS of the GeoParquet file is undefined.\")\n",
    "    \n",
    "# if crs:\n",
    "#     formatted_crs = CRS(crs)  \n",
    "#     print(f\"CRS: {formatted_crs.to_string()}\") \n",
    "#     print(f\"EPSG Code: {formatted_crs.to_epsg()}\")  \n",
    "#     print(f\"PROJ String: {formatted_crs.to_proj4()}\")  \n",
    "#     print(f\"WKT Format: {formatted_crs.to_wkt()}\")  \n",
    "# else:\n",
    "#     print(\"The CRS of the GeoParquet file is undefined.\")"
   ]
  }
 ],
 "metadata": {
  "kernelspec": {
   "display_name": "sedona_venv",
   "language": "python",
   "name": "python3"
  },
  "language_info": {
   "codemirror_mode": {
    "name": "ipython",
    "version": 3
   },
   "file_extension": ".py",
   "mimetype": "text/x-python",
   "name": "python",
   "nbconvert_exporter": "python",
   "pygments_lexer": "ipython3",
   "version": "3.12.3"
  }
 },
 "nbformat": 4,
 "nbformat_minor": 4
}
