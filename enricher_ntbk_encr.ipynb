{
 "cells": [
  {
   "cell_type": "code",
   "execution_count": null,
   "metadata": {},
   "outputs": [],
   "source": [
    "#ENCRYPTED\n",
    "# This cell was encrypted. Contact: sudheer.siddabattula@gmail.com for access/details\n",
    "\n",
    "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"
   ]
  },
  {
   "cell_type": "code",
   "execution_count": null,
   "metadata": {},
   "outputs": [
    {
     "name": "stderr",
     "output_type": "stream",
     "text": [
      "25/03/03 15:18:59 WARN Utils: Your hostname, marvin resolves to a loopback address: 127.0.1.1; using 172.20.27.4 instead (on interface eth0)\n",
      "25/03/03 15:18:59 WARN Utils: Set SPARK_LOCAL_IP if you need to bind to another address\n"
     ]
    },
    {
     "name": "stdout",
     "output_type": "stream",
     "text": [
      ":: loading settings :: url = jar:file:/data/homes_data/sudheer/benchmark_data/sedona_venv/lib/python3.12/site-packages/pyspark/jars/ivy-2.5.1.jar!/org/apache/ivy/core/settings/ivysettings.xml\n"
     ]
    },
    {
     "name": "stderr",
     "output_type": "stream",
     "text": [
      "Ivy Default Cache set to: /data/homes_data/sudheer/.ivy2/cache\n",
      "The jars for the packages stored in: /data/homes_data/sudheer/.ivy2/jars\n",
      "org.apache.sedona#sedona-spark-shaded-3.5_2.12 added as a dependency\n",
      "org.datasyslab#geotools-wrapper added as a dependency\n",
      ":: resolving dependencies :: org.apache.spark#spark-submit-parent-3b6341ef-7ed5-47c2-9cf2-a76634fcc420;1.0\n",
      "\tconfs: [default]\n",
      "\tfound org.apache.sedona#sedona-spark-shaded-3.5_2.12;1.7.0 in central\n",
      "\tfound org.datasyslab#geotools-wrapper;1.7.0-28.5 in central\n",
      ":: resolution report :: resolve 221ms :: artifacts dl 9ms\n",
      "\t:: modules in use:\n",
      "\torg.apache.sedona#sedona-spark-shaded-3.5_2.12;1.7.0 from central in [default]\n",
      "\torg.datasyslab#geotools-wrapper;1.7.0-28.5 from central in [default]\n",
      "\t---------------------------------------------------------------------\n",
      "\t|                  |            modules            ||   artifacts   |\n",
      "\t|       conf       | number| search|dwnlded|evicted|| number|dwnlded|\n",
      "\t---------------------------------------------------------------------\n",
      "\t|      default     |   2   |   0   |   0   |   0   ||   2   |   0   |\n",
      "\t---------------------------------------------------------------------\n",
      ":: retrieving :: org.apache.spark#spark-submit-parent-3b6341ef-7ed5-47c2-9cf2-a76634fcc420\n",
      "\tconfs: [default]\n",
      "\t0 artifacts copied, 2 already retrieved (0kB/7ms)\n",
      "25/03/03 15:19:01 WARN NativeCodeLoader: Unable to load native-hadoop library for your platform... using builtin-java classes where applicable\n",
      "Setting default log level to \"WARN\".\n",
      "To adjust logging level use sc.setLogLevel(newLevel). For SparkR, use setLogLevel(newLevel).\n",
      "25/03/03 15:19:01 WARN SparkConf: Note that spark.local.dir will be overridden by the value set by the cluster manager (via SPARK_LOCAL_DIRS in mesos/standalone/kubernetes and LOCAL_DIRS in YARN).\n"
     ]
    },
    {
     "name": "stdout",
     "output_type": "stream",
     "text": [
      "Sedona initialized with None cores for parellelism.\n"
     ]
    },
    {
     "name": "stderr",
     "output_type": "stream",
     "text": [
      "                                                                                \r"
     ]
    },
    {
     "name": "stdout",
     "output_type": "stream",
     "text": [
      "\n",
      "Loading datasets...\n",
      "Make sure the geometry column is named \"geometry\" in the datasets\n",
      "Loaded 'countries': (259, 12), 'EPSG:3035'\n",
      "Loaded 'regions_IT': (20, 6), 'EPSG:32632'\n",
      "Loaded 'provinces_IT': (107, 13), 'EPSG:32632'\n",
      "Loaded 'comuni_EU': (122750, 12), 'EPSG:3035'\n",
      "Loaded 'comuni_IT': (7899, 13), 'EPSG:32632'\n"
     ]
    },
    {
     "name": "stderr",
     "output_type": "stream",
     "text": [
      "                                                                                \r"
     ]
    },
    {
     "name": "stdout",
     "output_type": "stream",
     "text": [
      "Loaded 'pop_grids': (4594018, 18), 'EPSG:3035'\n"
     ]
    },
    {
     "name": "stderr",
     "output_type": "stream",
     "text": [
      "/opt/conda/lib/python3.12/contextlib.py:137: RuntimeWarning: GPKG: unrecognized user_version=0x00000000 (0) on './data/data_EU/census_grid_EU/grids_new.gpkg'\n",
      "  return next(self.gen)\n"
     ]
    },
    {
     "name": "stdout",
     "output_type": "stream",
     "text": [
      "Loaded 'pop_grids_new': (7055226, 20), 'EPSG:3035'\n",
      "7 datasets loaded. \n",
      "\n"
     ]
    }
   ],
   "source": [
    "''' \n",
    "Loading data from files.\n",
    "This will take a while. Because it cleans and makes some essential transformations.\n",
    "But it is a one-time operation. `parquet_all()` will save all datasets to the disk, preserving any transformations applied.\n",
    "From next time, you can directly load them  with: `load_from_parquets()`.\n",
    "'''\n",
    "\n",
    "\n",
    "# Provide the data directory\n",
    "data_dir = f\"./data\"\n",
    "\n",
    "# Individual file path:\n",
    "path_contr = f\"{data_dir}/data_EU/countries_shp/\"\n",
    "path_reg = f\"{data_dir}/data_Italy/regioni/\"\n",
    "path_prov = f\"{data_dir}/data_Italy/provinci\"\n",
    "path_com_EU = f\"{data_dir}/data_EU/comuni_shp/\"\n",
    "path_com = f\"{data_dir}/data_Italy/comuni/\"\n",
    "path_grids = f\"{data_dir}/data_EU/census_grid_EU/grids_OG_corrected.parquet\"\n",
    "path_grids_new = f\"{data_dir}/data_EU/census_grid_EU/grids_new.gpkg\"\n",
    "\n",
    "# Dataset names and their file formats:\n",
    "# format: {dataset_name: (path, file_format), ...}\n",
    "\n",
    "datasets: dict[str, tuple[str, str]] = {\n",
    "    \"countries\": (path_contr, \"shapefile\"),\n",
    "    \"regions_IT\": (path_reg, \"shapefile\"),\n",
    "    \"provinces_IT\": (path_prov, \"shapefile\"),\n",
    "    \"comuni_EU\": (path_com_EU, \"shapefile\"),\n",
    "    \"comuni_IT\": (path_com, \"shapefile\"),\n",
    "    \"pop_grids\": (path_grids, \"geoparquet\"),\n",
    "    \"pop_grids_new\": (path_grids_new, \"geopackage\"),\n",
    "}\n",
    "\n",
    "obj = Enricher(crs=\"EPSG:3035\")\n",
    "\n",
    "# Setup the Enricher object with \"sedona\" (or, \"wherobots\")\n",
    "# \"ex_mem\" and \"dr_mem\" are the executor and driver memory in GB\n",
    "obj.setup_cluster(\n",
    "    data_dir=data_dir, \n",
    "    which=\"sedona\", \n",
    "    ex_mem=26,\n",
    "    dr_mem=24,\n",
    "    log_level=\"ERROR\")\n",
    "\n",
    "# Use \"load()\" to load all the datasets in {data_dir}, \n",
    "# according to the paths and file formats provided in \"datasets{}\"\n",
    "obj.load(datasets, silent=True)\n",
    "\n",
    "# Optionally, run \"fix_geometries()\" to fix invalid geometries if any; \n",
    "# if you want to skip the check for some dataframes, pass their names in \"skip[]\"\n",
    "obj.fix_geometries(\n",
    "    skip=['pop_grids', 'pop_grids_new']\n",
    "    )\n",
    "\n",
    "# Optionally, inspect the partitions and data skew:\n",
    "# obj.inspect_partitions()\n",
    "\n",
    "# and force the dataframes to be repartitioned to the number of available cores\n",
    "# pass the names of the dataframes to be skipped in skip[]\n",
    "obj.force_repartition(skip=['pop_grids'])\n",
    "\n",
    "# obj.inspect_partitions()\n",
    "\n",
    "# Transform the CRS of loaded datasets to the CRS passed in the Enricher constructor\n",
    "# lazy=True will not cache the dataframes. \n",
    "obj.transform_CRS(lazy=False)\n",
    "\n",
    "# Pickle all the dataframes to disk for quick access later.\n",
    "# default directory: \"./{data_dir}/pickle_parquets/dfs_list\"\n",
    "# you may change the directory where they are saved by pasing it in \"parquet_dir\"; relative to the {data_dir}\n",
    "obj.parquet_all(preserve_partitions=True)\n",
    "\n",
    "\n",
    "# obj.dfs_list['comuni_EU'] = obj.dfs_list['comuni_EU'].filter(F.col('CNTR_ID').isin([\"IT\", \"DE\"]))"
   ]
  },
  {
   "cell_type": "code",
   "execution_count": null,
   "metadata": {},
   "outputs": [
    {
     "name": "stderr",
     "output_type": "stream",
     "text": [
      "25/03/01 19:08:27 WARN Utils: Your hostname, marvin resolves to a loopback address: 127.0.1.1; using 172.20.27.4 instead (on interface eth0)\n",
      "25/03/01 19:08:27 WARN Utils: Set SPARK_LOCAL_IP if you need to bind to another address\n"
     ]
    },
    {
     "name": "stdout",
     "output_type": "stream",
     "text": [
      ":: loading settings :: url = jar:file:/data/homes_data/sudheer/benchmark_data/sedona_venv/lib/python3.12/site-packages/pyspark/jars/ivy-2.5.1.jar!/org/apache/ivy/core/settings/ivysettings.xml\n"
     ]
    },
    {
     "name": "stderr",
     "output_type": "stream",
     "text": [
      "Ivy Default Cache set to: /data/homes_data/sudheer/.ivy2/cache\n",
      "The jars for the packages stored in: /data/homes_data/sudheer/.ivy2/jars\n",
      "org.apache.sedona#sedona-spark-shaded-3.5_2.12 added as a dependency\n",
      "org.datasyslab#geotools-wrapper added as a dependency\n",
      ":: resolving dependencies :: org.apache.spark#spark-submit-parent-f5fc0e98-b301-4f18-a55b-d6f3a2cdc293;1.0\n",
      "\tconfs: [default]\n",
      "\tfound org.apache.sedona#sedona-spark-shaded-3.5_2.12;1.7.0 in central\n",
      "\tfound org.datasyslab#geotools-wrapper;1.7.0-28.5 in central\n",
      ":: resolution report :: resolve 221ms :: artifacts dl 8ms\n",
      "\t:: modules in use:\n",
      "\torg.apache.sedona#sedona-spark-shaded-3.5_2.12;1.7.0 from central in [default]\n",
      "\torg.datasyslab#geotools-wrapper;1.7.0-28.5 from central in [default]\n",
      "\t---------------------------------------------------------------------\n",
      "\t|                  |            modules            ||   artifacts   |\n",
      "\t|       conf       | number| search|dwnlded|evicted|| number|dwnlded|\n",
      "\t---------------------------------------------------------------------\n",
      "\t|      default     |   2   |   0   |   0   |   0   ||   2   |   0   |\n",
      "\t---------------------------------------------------------------------\n",
      ":: retrieving :: org.apache.spark#spark-submit-parent-f5fc0e98-b301-4f18-a55b-d6f3a2cdc293\n",
      "\tconfs: [default]\n",
      "\t0 artifacts copied, 2 already retrieved (0kB/7ms)\n",
      "25/03/01 19:08:28 WARN NativeCodeLoader: Unable to load native-hadoop library for your platform... using builtin-java classes where applicable\n",
      "Setting default log level to \"WARN\".\n",
      "To adjust logging level use sc.setLogLevel(newLevel). For SparkR, use setLogLevel(newLevel).\n",
      "25/03/01 19:08:28 WARN SparkConf: Note that spark.local.dir will be overridden by the value set by the cluster manager (via SPARK_LOCAL_DIRS in mesos/standalone/kubernetes and LOCAL_DIRS in YARN).\n"
     ]
    },
    {
     "name": "stdout",
     "output_type": "stream",
     "text": [
      "Sedona initialized with None cores for parellelism.\n"
     ]
    },
    {
     "name": "stderr",
     "output_type": "stream",
     "text": [
      "                                                                                \r"
     ]
    },
    {
     "name": "stdout",
     "output_type": "stream",
     "text": [
      "Loading 'countries' from Parquet...\n"
     ]
    },
    {
     "name": "stderr",
     "output_type": "stream",
     "text": [
      "                                                                                \r"
     ]
    },
    {
     "name": "stdout",
     "output_type": "stream",
     "text": [
      "Loaded dataframe 'countries'\n",
      "Loading 'regions_IT' from Parquet...\n",
      "Loaded dataframe 'regions_IT'\n",
      "Loading 'provinces_IT' from Parquet...\n",
      "Loaded dataframe 'provinces_IT'\n",
      "Loading 'comuni_EU' from Parquet...\n",
      "Loaded dataframe 'comuni_EU'\n",
      "Loading 'comuni_IT' from Parquet...\n",
      "Loaded dataframe 'comuni_IT'\n",
      "Loading 'pop_grids' from Parquet...\n",
      "Loaded dataframe 'pop_grids'\n",
      "Loading 'pop_grids_new' from Parquet...\n",
      "Loaded dataframe 'pop_grids_new'\n"
     ]
    }
   ],
   "source": [
    "''' \n",
    "Load data from pickled parquets \n",
    "\n",
    "'''\n",
    "\n",
    "# Provide the data directory\n",
    "data_dir = \"./data\"\n",
    "\n",
    "obj = Enricher(crs=\"EPSG:3035\")\n",
    "\n",
    "# Setup the Enricher object with \"sedona\" (or, \"wherobots\")\n",
    "# \"ex_mem\" and \"dr_mem\" are the executor and driver memory in GB\n",
    "obj.setup_cluster(data_dir=data_dir, \n",
    "                  which=\"sedona\", \n",
    "                  ex_mem=26, \n",
    "                  dr_mem=24, \n",
    "                  log_level=\"ERROR\")\n",
    "\n",
    "# Loads all the datasets from pickled parquets in the default direcoty: \"./{data_dir}/pickle_parquets/dfs_list\"\n",
    "# optionally, to load from a different directory, pass the directory path in \"parquet_dir\"; reative to the {data_dir}\n",
    "obj.load_from_parquets()\n",
    "# obj.inspect_partitions()"
   ]
  },
  {
   "cell_type": "code",
   "execution_count": 3,
   "metadata": {},
   "outputs": [
    {
     "data": {
      "application/vnd.jupyter.widget-view+json": {
       "model_id": "6ce269a29a6749579205325c27b0d2bb",
       "version_major": 2,
       "version_minor": 0
      },
      "text/plain": [
       "VBox(children=(HTML(value='<h1>Enrich with Overlay & Aggregation</h1>'), HTML(value=\"<div style='height: 5px;'…"
      ]
     },
     "metadata": {},
     "output_type": "display_data"
    }
   ],
   "source": [
    "'''\n",
    "GUI for Enricher primitives\n",
    "\n",
    "'''\n",
    "\n",
    "# pass the Enricher object (loaded with the datasets) to the EnricherUI\n",
    "obj_ui = EnrichOverlay(obj)\n"
   ]
  },
  {
   "cell_type": "code",
   "execution_count": null,
   "metadata": {},
   "outputs": [
    {
     "name": "stdout",
     "output_type": "stream",
     "text": [
      "['COMM_ID', 'CNTR_ID', 'CNTR_CODE', 'COMM_NAME', 'NAME_ASCI', 'TRUE_FLAG', 'NSI_CODE', 'NAME_NSI', 'NAME_LATN', 'NUTS_CODE', 'FID', 'geohash', 'geometry', 'T_agr_sum']\n",
      "58166281.116447605\n"
     ]
    }
   ],
   "source": [
    "\n",
    "from pyspark.sql.dataframe import DataFrame as SparkDataFrame\n",
    "\n",
    "\n",
    "temp: SparkDataFrame = obj.res_agr\n",
    "print(temp.columns)\n",
    "\n",
    "# temp: SparkDataFrame = temp.filter(F.col('CNTR_ID') == 'IT')\n",
    "print(temp.agg(F.sum('T_agr_sum')).collect()[0][0])\n",
    "\n",
    "# obj.parquet_this(\"intrsctn_com_grid_IT\", temp, preserve_partitions=False)\n",
    "# obj.parquet_this(\"grids_new_X_comuni_EU_IT\", temp, preserve_partitions=False)\n",
    "# temp.cache()"
   ]
  },
  {
   "cell_type": "code",
   "execution_count": null,
   "metadata": {},
   "outputs": [
    {
     "name": "stderr",
     "output_type": "stream",
     "text": [
      "[Stage 215:====================================================>(199 + 1) / 200]\r"
     ]
    },
    {
     "name": "stdout",
     "output_type": "stream",
     "text": [
      "109707\n"
     ]
    },
    {
     "name": "stderr",
     "output_type": "stream",
     "text": [
      "                                                                                \r"
     ]
    }
   ],
   "source": [
    "#ENCRYPTED\n",
    "# This cell was encrypted. Contact: sudheer.siddabattula@gmail.com for access/details\n",
    "\n",
    "LS0tLS1CRUdJTiBQR1AgTUVTU0FHRS0tLS0tCgp3Y0JNQTB5VXBDMWwzUy9oQVFmL2JUSFdkNFFmRzVYTGowVzZkS2NJUlgwTE8wUWo0dlBkdGtCL2tRdUNCbndaClZKZXp6cEtYVTFacjQxN0FXK1lzN0NLNFRvbVBvdGNwdm9SVEptdnJIUWhqaUg0L3U0dDMzVEM4UUZQc1h1QUsKRFlDalJzVmJTMDQ5eWMySHRmb1c4dDB6emdzRzJwU05mbys1WUlnQ0NrUlh3REhqbEY3Nkpva1RYZjZNeFJSdQp0b3pCMkEvNkRKRWlCQWlEUTFlOWxmVWhQUHlFeC9GNHcyUTlkVC9TbHhSKzl2M0tKaXhUbUtPTHJDSTNkaDFRClBUejhmYUc4NVhCQSszQ0RZRHBscFlubVpQMjV3MTZvQU1PTkRVdjNieXROUzBVbXN2a2thMER5bUJGdzZUOXAKREZFejh3TEhMZTh2VFB0K0k4b3VMcHlHV1pwWTdDVHRuQURJSUg5S050TEJ6Z0hYU1ZBQnd0bGVYZ2gzT2pSbgppb3BwNm5ZSkI5Mi90MlZuVWxnanFXYkRERDNoKzJibVNtWFFacjFGYVh2OXZsVVd1OGZyYStOVG8zZHhWZWNzCmxwYzh0Q1I4TEZUODBTL0ZtM0diQmEyQXp4QkhkNmVwL2FTeWZBblhMcE8rWDl5MjBOcFJPNThIbk9VYU1FY1cKQ01EZ2FPOXBjNCt0c291UUFxd0RmaDVQWEwvcXV5c2NSaThNd3l5SlEzdEZZSkFmSjZJbWx4WHFpYXdrd1RUUAozMlQwWDl4QjFyZUtVL2EvNVp1TGFFZ051NktJeklqSWJVejRuT04wcTlveS84ajBOWmNkK216TFZUSEp2NGhSCjFXNEZQMC80eUszSEVIVitZUGczN3FtOFhJdTU3VlR0aFAvWnpUY1FzK2poV2Evc0cvT3ZSVXIwTXN5ZmZ1L1EKTzhqMndQc3RIMzdlSklZdURuenE3T0hjcXdOT3ljSk5wc2pXbG52aXR4ZncrZ201U3lxYSt0aDhUSEJ3bkFlMgpaS2ljUEJsbkRHcVM5RlN1alNsdGpqYTcrUEs3RUEwRXFHYVpoYzVxVFBOSnFiMnNDQlI3eURFSnVtQ0ZISlNOCktpeWxBTmFZa0t3cmE2TTNwOGNjWVQxak5vZ3gxajdxUm5Dc29RVlE0ek1yL2QrMUFxTnBKemw2cGpqdWZPTUsKSkpKQkxBOUNqK3pqVkJzeXcrUmczK242eVZwT2VFWURYMXFUazd3Q2VDQnJOUGhBRzRNOVpLWVE1T01lZ0wxSQpYUjhkWUJmKzhSVG5JTlAzZG5EOHR6akI1bFFhekZ6ZTNjNy80L2FFcW81YkRiUEMwNy9pd1JRWWcwMDFNY2J2CkUrZnBpT3JtMWhaaGhVS3NweU0zdlRGMDBxcS9JZkUzRnlvMGJVaVBBcFJ3MCtuVlVkVkZYM0VTL0tvcFBGUjkKZzlyRGVsa1dkeXd0SFgxUEFmQUJFaGMvSjlFdVdwMVpZUVZmRnk4MU54UGRrdk8vbkw5RkMxQ3lhd1NEbDlLVQpqTVlwK0JONlRRZ0MwWGFDbWl4SU5WVnMrRWQrSW5yNWYxdGpXczVubnlpQWR0Y0JJMithMUtRV3VGUG4xbklKCjhSKzF5alZ1M3lEMnJWUkRSeEtkU3c9PQo9ejEwZgotLS0tLUVORCBQR1AgTUVTU0FHRS0tLS0tCg=="
   ]
  },
  {
   "cell_type": "code",
   "execution_count": null,
   "metadata": {},
   "outputs": [
    {
     "name": "stdout",
     "output_type": "stream",
     "text": [
      "41190463\n"
     ]
    }
   ],
   "source": [
    "\"\"\"\n",
    "Contains\n",
    "41190463\n",
    "\"\"\"\n",
    "\n",
    "print(res_n.agg(F.sum('t_agr')).collect()[0][0])\n"
   ]
  },
  {
   "cell_type": "code",
   "execution_count": null,
   "metadata": {},
   "outputs": [
    {
     "name": "stdout",
     "output_type": "stream",
     "text": [
      "77386595\n"
     ]
    }
   ],
   "source": [
    "\"\"\"\n",
    "Intersects\n",
    "77386595\n",
    "\"\"\"\n",
    "\n",
    "print(res_n.agg(F.sum('t_agr')).collect()[0][0])\n"
   ]
  },
  {
   "cell_type": "code",
   "execution_count": null,
   "metadata": {},
   "outputs": [],
   "source": [
    "\"\"\"\n",
    "ST_Intersection\n",
    "58166281\n",
    "\"\"\""
   ]
  },
  {
   "cell_type": "code",
   "execution_count": null,
   "metadata": {},
   "outputs": [
    {
     "name": "stderr",
     "output_type": "stream",
     "text": [
      "/data/homes_data/sudheer/benchmark_data/sedona_venv/lib/python3.12/site-packages/pyogrio/raw.py:723: RuntimeWarning: 2GB file size limit reached for data/pickle_parquets/others/test.dbf. Going on, but might cause compatibility issues with third party software\n",
      "  ogr_write(\n"
     ]
    },
    {
     "name": "stdout",
     "output_type": "stream",
     "text": [
      "GeoDataFrame has been exported to Shapefile: ./data/pickle_parquets/others/test.shp\n"
     ]
    }
   ],
   "source": [
    "import geopandas as gpd\n",
    "\n",
    "\n",
    "shapefile_path = './data/pickle_parquets/others/test.shp'\n",
    "\n",
    "gdf.to_file(shapefile_path, driver='ESRI Shapefile')\n",
    "print(f\"GeoDataFrame has been exported to Shapefile: {shapefile_path}\")"
   ]
  },
  {
   "cell_type": "code",
   "execution_count": null,
   "metadata": {},
   "outputs": [],
   "source": [
    "import pyarrow.parquet as pq\n",
    "\n",
    "parquet_file = pq.ParquetFile(\"./data/pickle_parquets/others/grids_new_X_comuni_EU/test.parquet\")\n",
    "\n",
    "# Print full metadata\n",
    "print(parquet_file.metadata)\n",
    "\n",
    "# Print schema (column names, types, etc.)\n",
    "print(parquet_file.schema)\n",
    "\n",
    "# Print key-value metadata (custom user-defined metadata)\n",
    "print(parquet_file.metadata.metadata)  # This is a dictionary\n"
   ]
  },
  {
   "cell_type": "code",
   "execution_count": 16,
   "metadata": {},
   "outputs": [
    {
     "name": "stdout",
     "output_type": "stream",
     "text": [
      "{\"$schema\":\"https://proj.org/schemas/v0.7/projjson.schema.json\",\"type\":\"ProjectedCRS\",\"name\":\"ETRS89-extended / LAEA Europe\",\"base_crs\":{\"name\":\"ETRS89\",\"datum_ensemble\":{\"name\":\"European Terrestrial Reference System 1989 ensemble\",\"members\":[{\"name\":\"European Terrestrial Reference Frame 1989\",\"id\":{\"authority\":\"EPSG\",\"code\":1178}},{\"name\":\"European Terrestrial Reference Frame 1990\",\"id\":{\"authority\":\"EPSG\",\"code\":1179}},{\"name\":\"European Terrestrial Reference Frame 1991\",\"id\":{\"authority\":\"EPSG\",\"code\":1180}},{\"name\":\"European Terrestrial Reference Frame 1992\",\"id\":{\"authority\":\"EPSG\",\"code\":1181}},{\"name\":\"European Terrestrial Reference Frame 1993\",\"id\":{\"authority\":\"EPSG\",\"code\":1182}},{\"name\":\"European Terrestrial Reference Frame 1994\",\"id\":{\"authority\":\"EPSG\",\"code\":1183}},{\"name\":\"European Terrestrial Reference Frame 1996\",\"id\":{\"authority\":\"EPSG\",\"code\":1184}},{\"name\":\"European Terrestrial Reference Frame 1997\",\"id\":{\"authority\":\"EPSG\",\"code\":1185}},{\"name\":\"European Terrestrial Reference Frame 2000\",\"id\":{\"authority\":\"EPSG\",\"code\":1186}},{\"name\":\"European Terrestrial Reference Frame 2005\",\"id\":{\"authority\":\"EPSG\",\"code\":1204}},{\"name\":\"European Terrestrial Reference Frame 2014\",\"id\":{\"authority\":\"EPSG\",\"code\":1206}},{\"name\":\"European Terrestrial Reference Frame 2020\",\"id\":{\"authority\":\"EPSG\",\"code\":1382}}],\"ellipsoid\":{\"name\":\"GRS 1980\",\"semi_major_axis\":6378137,\"inverse_flattening\":298.257222101},\"accuracy\":\"0.1\",\"id\":{\"authority\":\"EPSG\",\"code\":6258}},\"coordinate_system\":{\"subtype\":\"ellipsoidal\",\"axis\":[{\"name\":\"Geodetic latitude\",\"abbreviation\":\"Lat\",\"direction\":\"north\",\"unit\":\"degree\"},{\"name\":\"Geodetic longitude\",\"abbreviation\":\"Lon\",\"direction\":\"east\",\"unit\":\"degree\"}]},\"id\":{\"authority\":\"EPSG\",\"code\":4258}},\"conversion\":{\"name\":\"Europe Equal Area 2001\",\"method\":{\"name\":\"Lambert Azimuthal Equal Area\",\"id\":{\"authority\":\"EPSG\",\"code\":9820}},\"parameters\":[{\"name\":\"Latitude of natural origin\",\"value\":52,\"unit\":\"degree\",\"id\":{\"authority\":\"EPSG\",\"code\":8801}},{\"name\":\"Longitude of natural origin\",\"value\":10,\"unit\":\"degree\",\"id\":{\"authority\":\"EPSG\",\"code\":8802}},{\"name\":\"False easting\",\"value\":4321000,\"unit\":\"metre\",\"id\":{\"authority\":\"EPSG\",\"code\":8806}},{\"name\":\"False northing\",\"value\":3210000,\"unit\":\"metre\",\"id\":{\"authority\":\"EPSG\",\"code\":8807}}]},\"coordinate_system\":{\"subtype\":\"Cartesian\",\"axis\":[{\"name\":\"Northing\",\"abbreviation\":\"Y\",\"direction\":\"north\",\"unit\":\"metre\"},{\"name\":\"Easting\",\"abbreviation\":\"X\",\"direction\":\"east\",\"unit\":\"metre\"}]},\"scope\":\"Statistical analysis.\",\"area\":\"Europe - European Union (EU) countries and candidates. Europe - onshore and offshore: Albania; Andorra; Austria; Belgium; Bosnia and Herzegovina; Bulgaria; Croatia; Cyprus; Czechia; Denmark; Estonia; Faroe Islands; Finland; France; Germany; Gibraltar; Greece; Hungary; Iceland; Ireland; Italy; Kosovo; Latvia; Liechtenstein; Lithuania; Luxembourg; Malta; Monaco; Montenegro; Netherlands; North Macedonia; Norway including Svalbard and Jan Mayen; Poland; Portugal including Madeira and Azores; Romania; San Marino; Serbia; Slovakia; Slovenia; Spain including Canary Islands; Sweden; Switzerland; Türkiye (Turkey); United Kingdom (UK) including Channel Islands and Isle of Man; Vatican City State.\",\"bbox\":{\"south_latitude\":24.6,\"west_longitude\":-35.58,\"north_latitude\":84.73,\"east_longitude\":44.83},\"id\":{\"authority\":\"EPSG\",\"code\":3035}}\n"
     ]
    }
   ],
   "source": [
    "from pyproj import CRS\n",
    "print(CRS.from_epsg(3035).to_json()) "
   ]
  },
  {
   "cell_type": "code",
   "execution_count": null,
   "metadata": {},
   "outputs": [
    {
     "name": "stdout",
     "output_type": "stream",
     "text": [
      "4531770\n"
     ]
    }
   ],
   "source": [
    "#ENCRYPTED\n",
    "# This cell was encrypted. Contact: sudheer.siddabattula@gmail.com for access/details\n",
    "\n",
    "LS0tLS1CRUdJTiBQR1AgTUVTU0FHRS0tLS0tCgp3Y0JNQTB5VXBDMWwzUy9oQVFmK0k3SDFieWxyNy9zcm80NlhXSFRIRU5lY3Z4dkJyUnNUYVdtb1U1WUM3d2ZFCkR6MitrTzMvUDBPSWdJT1h4MDZzd0lXclo5dE1nT2FLWDRXUG5Va2JqTUVwMXU5UnhHZTdLQzlKM2p4QXFrWG4KeXdmc0ZhRkRhZkszL3ZrQ0dXS1lFM1R4T1VvVzlzL1NrUURxQW1IWTZ4ZWNrcVVYZXQyVTN1NndCcEpKcUJhdQpvMlVPTWVGK3d0bmtFUUJvekRrbkFPVkNyRUZMbFlKdjIvY2ZxWWZ1SHBrWUw1N2VqaVlRS2o2aXpEMW9CNzdTCjBpNG15RjY5Wk9tUC8xaVo0aDQ3ZkcwcnFKWGNUVTNBb21sSmF6enRpUWdtUVhPc1JRdlZzdUo2OHM2RkpRVkkKS2ZaSGVwVDZnTHl4a0haaGdsQlVXdEQxdXYva28rMzhGd1o2WE5NNWNOTEFTZ0dHYVR2SGFlOFhvMktzdTlXdAptZWx5Zk14U0k0R3lEV0tSTDgvcW8yYnRQcUZFTlJ4RkJWODlDMnRFdjY2MGxMcGsySkZlSUJseGZKOWJPa1B5ClBRN0UzRUo3MzkrU2ZQRS9NSWlPeGlZZFF5SzU0VWpOT2JjU0lDend5V2hmL1FBd0F4dWFKZElxTE9ra2N5V3AKU082clRHR1p6aXVSU2tKSFdBQWVPQUJuQTViSXU3V2VUdEd1NnlGRFhMMDBLT1BIT3ArNzJ3MWFyR1lWM0VZVAozZnllT3J0VTJrOHREQzdrRUJtUURnd0dYMXdpeUFmZHVaRUdmWmJvQVVwQmlvMWhvSmFLbFFEMncrT1hVSWkvCisrcU1TUkRyMUNjbXpFckN6Yk83cVU2MUpXYTJkK1ZDbnRicXVFc29LUm1KUFJDbyswRVRkVVRmUHpPUEt4ZlgKODd4bFlOZWpyUnZjYzhTcQo9MWtpegotLS0tLUVORCBQR1AgTUVTU0FHRS0tLS0tCg=="
   ]
  },
  {
   "cell_type": "code",
   "execution_count": null,
   "metadata": {},
   "outputs": [],
   "source": [
    "#ENCRYPTED\n",
    "# This cell was encrypted. Contact: sudheer.siddabattula@gmail.com for access/details\n",
    "\n",
    "LS0tLS1CRUdJTiBQR1AgTUVTU0FHRS0tLS0tCgp3Y0JNQTB5VXBDMWwzUy9oQVFnQW5ST3dVYnhKU0RhTGJkUzB6ZFBxOUJqQUo3S3ZUVElIU1FtK2RVMENTTVIxCndTUmtzWXdIb3dGRldZS0NCMTdmS0RlVXFGWFA3UVZib3AvcVlPa2hJVWFCMHROMWhnNHdmaWljUmtDM0cyTGQKV0xQZEVua2M4U3RIY2dCVFVNVktxNEJVNDM1VE9YK0h6Z1lITUpacEluK3h2TGt1ZUMyTnVqbE1ZcGJrVGdsdApHMXFIWHFwMEZpamlOSnp0WEdSeHZNOENoL3lTYUtGUFlKSzhWOVVQSkt6NGVHb2JURWQ1bE8zeitpSUhCWjZtCmtNQktUZ1BoL0pGRUxoaVhsbmJTM1NBeUtDTmd6RWlVK2xZNkdEL2l6V2UxV01IMW9LYXNYZW1MTWV0TVc4OVQKS3VIWko0cTh4Ym9YVnJyK3hzQW5RMVYrSlhmQTlXOENCdFRHdytzMWROTEJvUUhjWlRKeHdUZUgzSGJEdjUwZApnT1B2MnJlZ1pCOUppUTFTQWNuTGNXODJaaFMxSWdadzhiT2NMaFhSSCs3emVQM1g0Y1RETTZhN1RNYnhKaEZNCk1YZmlhU3MvTTZhNkJGL3dIMFJMNVgwbkVmSi9nYzBJcTFDTndMblpHNzRwWlRGbmt6N0JFamxpMDluV3NsdzUKREhsdXprd1V0Z0Q1SkFYaE5rejdBY2hqV09maHRldXI3YVlDVWprWEFQWkdVcVRmcEY0U0RoczZZeUt2RElKQQpRNXNoRzRoMmNTVGZBWXVoNlA4bUtzR1M1NFZjYUZNeTZNVlU5S05WNmRSTUFUYlliZGwveUZjOFZCSHVZNkdhCmZzM3VCQUVGb0JTMTBVaEZQcno2dVBTa04zM1lmS0lTa01tV2FpbXNRbzdFR3V6Wm1pYU1ueGxWbmo0TW51MTUKU09rUUswWnRLREQwdGZmZnF5OUgrdVpFQVMrempLVU0rMmFQZTg5ZDRmQ1pCaUJLS3B3S0lnVS9qZTJET0p0OAp2QmhSaFc4VTltVEJETzdOczNKZFp0cmRVR2R1eE5TTzNkODArZjUwT3h5dEVLR2V2c3l4ZThpdzMwVHVmYXBXCjEyMVNRdGs3Z004aU5OcmNjbFY3dEt2cXJQdDBPdlZnclkvSEs1SG9FYkpQdVJWYXJma2V4NlZ3Nk9GOG9XWGQKT1VlQk83dHZlSUt0Q2xJWE5QUTlINnBCMVNEbkZBQWNQdkZsOWxEOTA3RkFTTTJROXFyNW1ma1RtZzdRbzIwWgp6K2pvSEVSbGUyUm1CTlRXalZvM1VmMEEzU2JtSG5sSjc0bXBnZEN3T0RVdmlGcTJuM1hMTHArR3FwSnhlN0cvCjRqaXBEeEQ4VkJYZlRuR0pqV1NoaGJkZWI2TTdwMVhaeU9QS0dKSjJmL2NUUWwyMVpQVkd0aWxPaWJLSE5zOEEKZXFKWEVmbkZFNFRLZDZWWGhoc2Y3UU9pN1hmQjM3eW1xb0VabUJ4N3F0ZzI4UlpobThOS0RtTnA1WVNteE1ZeQoydUtEU0JiSlZ6UTh3UU9rVkZHSzFMa3VZUT09Cj1oVzQ3Ci0tLS0tRU5EIFBHUCBNRVNTQUdFLS0tLS0K"
   ]
  },
  {
   "cell_type": "code",
   "execution_count": null,
   "metadata": {},
   "outputs": [
    {
     "name": "stderr",
     "output_type": "stream",
     "text": [
      "/data/homes_data/sudheer/benchmark_data/sedona_venv/lib/python3.12/site-packages/jupyter_client/session.py:721: UserWarning: Message serialization failed with:\n",
      "Out of range float values are not JSON compliant: nan\n",
      "Supporting this message is deprecated in jupyter-client 7, please make sure your message is JSON-compliant\n",
      "  content = self.pack(content)\n"
     ]
    },
    {
     "data": {
      "application/vnd.jupyter.widget-view+json": {
       "model_id": "cc76fdf26c8f4a20beab056580dd247c",
       "version_major": 2,
       "version_minor": 0
      },
      "text/plain": [
       "KeplerGl(config={'version': 'v1', 'config': {'visState': {'filters': [], 'layers': [{'id': '7f1zywf', 'type': …"
      ]
     },
     "execution_count": 34,
     "metadata": {},
     "output_type": "execute_result"
    }
   ],
   "source": [
    "map.add_data(\n",
    "    data=prep_for_map(df1, obj.crs, geom_col=\"geometry\"), \n",
    "    name=\"comune\"\n",
    "    )\n",
    "map"
   ]
  },
  {
   "cell_type": "code",
   "execution_count": null,
   "metadata": {},
   "outputs": [],
   "source": [
    "#ENCRYPTED\n",
    "# This cell was encrypted. Contact: sudheer.siddabattula@gmail.com for access/details\n",
    "\n",
    "LS0tLS1CRUdJTiBQR1AgTUVTU0FHRS0tLS0tCgp3Y0JNQTB5VXBDMWwzUy9oQVFnQW8wWC93bWc5NlN6ZDdYVTJEUlZKSDl1L0ZjaGZMVDAzcU5JU3VnWnhOMU45Clh6cjRkbG8veGFYZzA2T00vMThMdzU5U21Fb3pXLy9iK29NK1BTTlpHbHd1NkZPbUtXQkRQZjB2SXpqbnBMdTIKUUh6RXlXNzdUMHAwUnhvV2NQR1pHZUZ4bmU3ckdyVk9JK3pnZlFGUmJrNzM0eXN6QWZKWkM2a3pUd1JYSzBZQQp2dmtZMzFZazVOVVBKK2luV3J0Qyt4dXZjdGQyKzJlc2ZxQVNxSzlBVFk5bnNIay9sYjFZR3ZvYlFmUGdzdmpYCmlrck5xRDRSTEpkbHVvSXZ6MFl1eDdDMGVHWFhVbHdmL1Q5a1VLZTl6U1RMTnZxcndkNjlRT2FFcTgybktLcXMKQWFqa1pqYnowbWdkVFlJQnNiMHBHSjJpRVZrNXBoMTNZeFJpb1JXekU5SzZBU0o1ZlpzNnFsaUR5d2UzeE9PNApXeTZCZU5BOElqMkNsL1FWOXhIK0ZuQUVEKy9QUjZ1dk96YTFjWHl2ZjJMN00xZXdZaWVWTmhYcGlOMVU5Q1JBCmNHWHUyTHl3NHhCcElnYUpGZWt1RUZVYjRFdWM0MHdIZlN4ZjBLZEVaQUlINktEVXZSVjU1OGZDenpWdC95Y0MKWi9YbkdBenczS3cxbm90Ukxub0s3dU0wU0pBRmltTWxhcmEweDBLdFpwVDJQdEhIRWNlTmt3T3premloSWJVdwo3bzF0ejlRUlRiN2k2ME8vdjhUaE84eGNZZDdVcW9XWElkaXAKPUxLQjcKLS0tLS1FTkQgUEdQIE1FU1NBR0UtLS0tLQo="
   ]
  },
  {
   "cell_type": "code",
   "execution_count": null,
   "metadata": {},
   "outputs": [],
   "source": [
    "#ENCRYPTED\n",
    "# This cell was encrypted. Contact: sudheer.siddabattula@gmail.com for access/details\n",
    "\n",
    "LS0tLS1CRUdJTiBQR1AgTUVTU0FHRS0tLS0tCgp3Y0JNQTB5VXBDMWwzUy9oQVFnQXBpUTBHL2tJZkJyUVhwVEFCRW53SWpiWUkyWHduaUR1T05ZQ2VraDVxUG4yCkNxTCtHNXZqT09YMkl2NEY1TFNGVEM1ZXpaRnE3T1ZzSmw0NVB1clNLZk9ydzJLcEN1SGRwQmFWamszY2t4aXUKR2pJb1hzYjVFTGxiSW1xaHBqN01JZ1JSSEMrNlhXUVAvK2NZYjExbWlhcDgwWm1zVlV0ZHR2STAwK2h6TStvRgpndzBIaUo3YzVNNzJFeFZsb3hoZ1NGTXF4TFJzeDZtQ0NtQ0gvNTdaKzVjZXZuNlJVdWZvczk3UFp2S0JpTTNNCmFaekEzSDZaVEp3Z3BSQ1ptMTdVcEkra3UwZHJvd0NKdmc2V2cxdEtLYWk1VEpKeU9oSzY4R1k4bitydzg3N1EKdzZvZ2ZUUHVtcnl5YU1wT2NlTnVyL2U3QmFmY1VJUDhHMFdaNy9IWFB0TEJDQUdWZ1h1cmtRbCt0Y0FleC9yNgpLK1V5dnZKZVhkT3RMUFMweWhpZzZZaVV0d0NLeVRLSE9sNjVLZ1plb2syK2J5UksrVy9kSlZQSC9IeVE5REU2CkFWMWFaaWRsL3NrZnpkdm02MEdOenVFaHB5MGRNckNMQ2VmY2lxeXAzb20vRE9kUWs1LzFDT0RKTTMydmI4S0YKblBnNzVVTEhLMHBaVjlVNEprcHBGK3l5R2d3bUo1UlBYQW5vWTJ6VXVDSUxhQkpFWUhkUXZSRnF5UnBuMnFXWQpYRG1pUk1aRmNhSFRGVCtyS0Z1UGN6dzhrMjRRTmlsR2Q2b0dJOEJkalluZU5teE0rWTdmY2p5ZGlQUFVuRTJBCjJ3REpqT3NRMUJ1bnZWZmRqY1hwMzBpQy9CcWdQdkJZR25JVkFKTHplaFVaYzNIQ3UydjczUXFVclJ6ZU03Q0IKaEI2ZUdQcUlPS25xN3NoaHhpSmc4WVFFQSs0QkRoRldNYTVmZnhCSVRxY2dqVWpvcFVKdmlIY096K20waHBNOQpVY0hsNDhFT1d4aTBacjRyOGJYNEpnVFdSUTA5eWE4ai9lQ0MxL010ODlVdlJNZW1oWWVjU21hbHhBdzhEVHhkCjBIV3NsdTFGdTZ5QWphNkw1RFh2Um1uUzNxTitKZ3l5L0V4bmUvN2ZjTnB3b0pZcm5OdVRhRkgvWEVuanV0Q2YKZXIzNGM1L3JEdVRyRExkWWhVYkxSV1ZjNEpHTzlwRGMxU0JSUmRSOHBZemxpOG5LREJLUmNMaHUzcXU1ZXdEWQpoaUppVWhyVkJFRks0UT09Cj14SkZECi0tLS0tRU5EIFBHUCBNRVNTQUdFLS0tLS0K"
   ]
  },
  {
   "cell_type": "code",
   "execution_count": null,
   "metadata": {},
   "outputs": [],
   "source": []
  },
  {
   "cell_type": "code",
   "execution_count": null,
   "metadata": {},
   "outputs": [],
   "source": []
  },
  {
   "cell_type": "code",
   "execution_count": null,
   "metadata": {},
   "outputs": [],
   "source": []
  },
  {
   "cell_type": "code",
   "execution_count": null,
   "metadata": {},
   "outputs": [],
   "source": [
    "# import geopandas as gpd\n",
    "\n",
    "# path = \"./data/pickle_parquets/others/grids_new_X_comuni_EU\"\n",
    "\n",
    "# gdf = gpd.read_parquet(path)\n",
    "\n",
    "# crs = gdf.crs\n",
    "\n",
    "# if crs:\n",
    "#     print(f\"The CRS of the GeoParquet file is: {crs}\")\n",
    "# else:\n",
    "#     print(\"The CRS of the GeoParquet file is undefined.\")\n",
    "    \n",
    "# if crs:\n",
    "#     formatted_crs = CRS(crs)  \n",
    "#     print(f\"CRS: {formatted_crs.to_string()}\") \n",
    "#     print(f\"EPSG Code: {formatted_crs.to_epsg()}\")  \n",
    "#     print(f\"PROJ String: {formatted_crs.to_proj4()}\")  \n",
    "#     print(f\"WKT Format: {formatted_crs.to_wkt()}\")  \n",
    "# else:\n",
    "#     print(\"The CRS of the GeoParquet file is undefined.\")"
   ]
  }
 ],
 "metadata": {
  "kernelspec": {
   "display_name": "sedona_venv",
   "language": "python",
   "name": "python3"
  },
  "language_info": {
   "codemirror_mode": {
    "name": "ipython",
    "version": 3
   },
   "file_extension": ".py",
   "mimetype": "text/x-python",
   "name": "python",
   "nbconvert_exporter": "python",
   "pygments_lexer": "ipython3",
   "version": "3.12.3"
  }
 },
 "nbformat": 4,
 "nbformat_minor": 4
}
