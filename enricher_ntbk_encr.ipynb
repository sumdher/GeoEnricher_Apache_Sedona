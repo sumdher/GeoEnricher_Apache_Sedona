{
 "cells": [
  {
   "cell_type": "code",
   "execution_count": null,
   "metadata": {},
   "outputs": [],
   "source": [
    "# This is encypted content. It will be made public soon\n",
    "# Contact me: \"sudheer.siddabattula@gmail.com\" for details/access.\n",
    "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"
   ]
  },
  {
   "cell_type": "code",
   "execution_count": 2,
   "metadata": {},
   "outputs": [
    {
     "name": "stderr",
     "output_type": "stream",
     "text": [
      "25/02/28 17:21:27 WARN Utils: Your hostname, marvin resolves to a loopback address: 127.0.1.1; using 172.20.27.4 instead (on interface eth0)\n",
      "25/02/28 17:21:27 WARN Utils: Set SPARK_LOCAL_IP if you need to bind to another address\n"
     ]
    },
    {
     "name": "stdout",
     "output_type": "stream",
     "text": [
      ":: loading settings :: url = jar:file:/data/homes_data/sudheer/benchmark_data/sedona_venv/lib/python3.12/site-packages/pyspark/jars/ivy-2.5.1.jar!/org/apache/ivy/core/settings/ivysettings.xml\n"
     ]
    },
    {
     "name": "stderr",
     "output_type": "stream",
     "text": [
      "Ivy Default Cache set to: /data/homes_data/sudheer/.ivy2/cache\n",
      "The jars for the packages stored in: /data/homes_data/sudheer/.ivy2/jars\n",
      "org.apache.sedona#sedona-spark-shaded-3.5_2.12 added as a dependency\n",
      "org.datasyslab#geotools-wrapper added as a dependency\n",
      ":: resolving dependencies :: org.apache.spark#spark-submit-parent-6f1cdb80-071a-44f0-bfb7-d6331e78056b;1.0\n",
      "\tconfs: [default]\n",
      "\tfound org.apache.sedona#sedona-spark-shaded-3.5_2.12;1.7.0 in central\n",
      "\tfound org.datasyslab#geotools-wrapper;1.7.0-28.5 in central\n",
      ":: resolution report :: resolve 219ms :: artifacts dl 8ms\n",
      "\t:: modules in use:\n",
      "\torg.apache.sedona#sedona-spark-shaded-3.5_2.12;1.7.0 from central in [default]\n",
      "\torg.datasyslab#geotools-wrapper;1.7.0-28.5 from central in [default]\n",
      "\t---------------------------------------------------------------------\n",
      "\t|                  |            modules            ||   artifacts   |\n",
      "\t|       conf       | number| search|dwnlded|evicted|| number|dwnlded|\n",
      "\t---------------------------------------------------------------------\n",
      "\t|      default     |   2   |   0   |   0   |   0   ||   2   |   0   |\n",
      "\t---------------------------------------------------------------------\n",
      ":: retrieving :: org.apache.spark#spark-submit-parent-6f1cdb80-071a-44f0-bfb7-d6331e78056b\n",
      "\tconfs: [default]\n",
      "\t0 artifacts copied, 2 already retrieved (0kB/6ms)\n",
      "25/02/28 17:21:28 WARN NativeCodeLoader: Unable to load native-hadoop library for your platform... using builtin-java classes where applicable\n",
      "Setting default log level to \"WARN\".\n",
      "To adjust logging level use sc.setLogLevel(newLevel). For SparkR, use setLogLevel(newLevel).\n",
      "25/02/28 17:21:29 WARN SparkConf: Note that spark.local.dir will be overridden by the value set by the cluster manager (via SPARK_LOCAL_DIRS in mesos/standalone/kubernetes and LOCAL_DIRS in YARN).\n"
     ]
    },
    {
     "name": "stdout",
     "output_type": "stream",
     "text": [
      "Sedona initialized with None cores for parellelism.\n"
     ]
    },
    {
     "name": "stderr",
     "output_type": "stream",
     "text": [
      "                                                                                \r"
     ]
    },
    {
     "name": "stdout",
     "output_type": "stream",
     "text": [
      "\n",
      "Loading datasets...\n",
      "Make sure the geometry column is named \"geometry\" in the datasets\n",
      "Loaded 'countries': (259, 12), 'EPSG:3035'\n",
      "Loaded 'regions_IT': (20, 6), 'EPSG:32632'\n",
      "Loaded 'provinces_IT': (107, 13), 'EPSG:32632'\n",
      "Loaded 'comuni_EU': (122750, 12), 'EPSG:3035'\n",
      "Loaded 'comuni_IT': (7899, 13), 'EPSG:32632'\n"
     ]
    },
    {
     "name": "stderr",
     "output_type": "stream",
     "text": [
      "                                                                                \r"
     ]
    },
    {
     "name": "stdout",
     "output_type": "stream",
     "text": [
      "Loaded 'pop_grids': (4594018, 18), 'EPSG:3035'\n"
     ]
    },
    {
     "name": "stderr",
     "output_type": "stream",
     "text": [
      "/opt/conda/lib/python3.12/contextlib.py:137: RuntimeWarning: GPKG: unrecognized user_version=0x00000000 (0) on './data/data_EU/census_grid_EU/grids_new.gpkg'\n",
      "  return next(self.gen)\n"
     ]
    },
    {
     "name": "stdout",
     "output_type": "stream",
     "text": [
      "Loaded 'pop_grids_new': (7055226, 20), 'EPSG:3035'\n",
      "7 datasets loaded. \n",
      "\n"
     ]
    },
    {
     "name": "stderr",
     "output_type": "stream",
     "text": [
      "                                                                                \r"
     ]
    },
    {
     "name": "stdout",
     "output_type": "stream",
     "text": [
      "'countries' has 0.00% invalid geometries.\n",
      "Nothing to fix in 'countries'\n"
     ]
    },
    {
     "name": "stderr",
     "output_type": "stream",
     "text": [
      "                                                                                \r"
     ]
    },
    {
     "name": "stdout",
     "output_type": "stream",
     "text": [
      "'regions_IT' has 5.00% invalid geometries.\n",
      "Fixed 1 geometries in 'regions_IT'\n"
     ]
    },
    {
     "name": "stderr",
     "output_type": "stream",
     "text": [
      "                                                                                \r"
     ]
    },
    {
     "name": "stdout",
     "output_type": "stream",
     "text": [
      "'provinces_IT' has 0.93% invalid geometries.\n",
      "Fixed 1 geometries in 'provinces_IT'\n"
     ]
    },
    {
     "name": "stderr",
     "output_type": "stream",
     "text": [
      "                                                                                \r"
     ]
    },
    {
     "name": "stdout",
     "output_type": "stream",
     "text": [
      "'comuni_EU' has 0.00% invalid geometries.\n",
      "Nothing to fix in 'comuni_EU'\n"
     ]
    },
    {
     "name": "stderr",
     "output_type": "stream",
     "text": [
      "                                                                                \r"
     ]
    },
    {
     "name": "stdout",
     "output_type": "stream",
     "text": [
      "'comuni_IT' has 0.10% invalid geometries.\n",
      "Fixed 8 geometries in 'comuni_IT'\n",
      "\n",
      "Transforming CRS...\n",
      "Changed CRS of 'countries': 'EPSG:3035' to 'EPSG:3035'\n",
      "Changed CRS of 'regions_IT': 'EPSG:32632' to 'EPSG:3035'\n",
      "Changed CRS of 'provinces_IT': 'EPSG:32632' to 'EPSG:3035'\n",
      "Changed CRS of 'comuni_EU': 'EPSG:3035' to 'EPSG:3035'\n",
      "Changed CRS of 'comuni_IT': 'EPSG:32632' to 'EPSG:3035'\n",
      "Changed CRS of 'pop_grids': 'EPSG:3035' to 'EPSG:3035'\n",
      "Changed CRS of 'pop_grids_new': 'EPSG:3035' to 'EPSG:3035'\n",
      "Dataset cached. 259 rows.\n"
     ]
    },
    {
     "name": "stderr",
     "output_type": "stream",
     "text": [
      "                                                                                \r"
     ]
    },
    {
     "name": "stdout",
     "output_type": "stream",
     "text": [
      "Dataset cached. 20 rows.\n"
     ]
    },
    {
     "name": "stderr",
     "output_type": "stream",
     "text": [
      "                                                                                \r"
     ]
    },
    {
     "name": "stdout",
     "output_type": "stream",
     "text": [
      "Dataset cached. 107 rows.\n"
     ]
    },
    {
     "name": "stderr",
     "output_type": "stream",
     "text": [
      "                                                                                \r"
     ]
    },
    {
     "name": "stdout",
     "output_type": "stream",
     "text": [
      "Dataset cached. 122750 rows.\n"
     ]
    },
    {
     "name": "stderr",
     "output_type": "stream",
     "text": [
      "                                                                                \r"
     ]
    },
    {
     "name": "stdout",
     "output_type": "stream",
     "text": [
      "Dataset cached. 7899 rows.\n"
     ]
    },
    {
     "name": "stderr",
     "output_type": "stream",
     "text": [
      "                                                                                \r"
     ]
    },
    {
     "name": "stdout",
     "output_type": "stream",
     "text": [
      "Dataset cached. 4594018 rows.\n"
     ]
    },
    {
     "name": "stderr",
     "output_type": "stream",
     "text": [
      "                                                                                \r"
     ]
    },
    {
     "name": "stdout",
     "output_type": "stream",
     "text": [
      "Dataset cached. 7055226 rows.\n",
      "Saving 'countries' as Parquet...\n",
      "Saved to './data/pickle_parquets/dfs_list/countries'\n",
      "Saving 'regions_IT' as Parquet...\n",
      "Saved to './data/pickle_parquets/dfs_list/regions_IT'\n",
      "Saving 'provinces_IT' as Parquet...\n"
     ]
    },
    {
     "name": "stderr",
     "output_type": "stream",
     "text": [
      "                                                                                \r"
     ]
    },
    {
     "name": "stdout",
     "output_type": "stream",
     "text": [
      "Saved to './data/pickle_parquets/dfs_list/provinces_IT'\n",
      "Saving 'comuni_EU' as Parquet...\n"
     ]
    },
    {
     "name": "stderr",
     "output_type": "stream",
     "text": [
      "                                                                                \r"
     ]
    },
    {
     "name": "stdout",
     "output_type": "stream",
     "text": [
      "Saved to './data/pickle_parquets/dfs_list/comuni_EU'\n",
      "Saving 'comuni_IT' as Parquet...\n"
     ]
    },
    {
     "name": "stderr",
     "output_type": "stream",
     "text": [
      "                                                                                \r"
     ]
    },
    {
     "name": "stdout",
     "output_type": "stream",
     "text": [
      "Saved to './data/pickle_parquets/dfs_list/comuni_IT'\n",
      "Saving 'pop_grids' as Parquet...\n"
     ]
    },
    {
     "name": "stderr",
     "output_type": "stream",
     "text": [
      "                                                                                \r"
     ]
    },
    {
     "name": "stdout",
     "output_type": "stream",
     "text": [
      "Saved to './data/pickle_parquets/dfs_list/pop_grids'\n",
      "Saving 'pop_grids_new' as Parquet...\n"
     ]
    },
    {
     "name": "stderr",
     "output_type": "stream",
     "text": [
      "[Stage 151:>                                                        (0 + 1) / 1]\r"
     ]
    },
    {
     "name": "stdout",
     "output_type": "stream",
     "text": [
      "Saved to './data/pickle_parquets/dfs_list/pop_grids_new'\n"
     ]
    },
    {
     "name": "stderr",
     "output_type": "stream",
     "text": [
      "                                                                                \r"
     ]
    }
   ],
   "source": [
    "''' \n",
    "Loading data from files.\n",
    "This will take a while. Because it cleans and makes some essential transformations.\n",
    "But it is a one-time operation. `parquet_all()` will save all datasets to the disk, preserving any transformations applied.\n",
    "From next time, you can directly load them  with: `load_from_parquets()`\n",
    "'''\n",
    "\n",
    "\n",
    "# Provide the data directory\n",
    "data_dir = \"./data\"\n",
    "\n",
    "# Individual file path:\n",
    "path_contr = f\"{data_dir}/data_EU/countries_shp/\"\n",
    "path_reg = f\"{data_dir}/data_Italy/regioni/\"\n",
    "path_prov = f\"{data_dir}/data_Italy/provinci\"\n",
    "path_com_EU = f\"{data_dir}/data_EU/comuni_shp/\"\n",
    "path_com = f\"{data_dir}/data_Italy/comuni/\"\n",
    "path_grids = f\"{data_dir}/data_EU/census_grid_EU/grids_OG_corrected.parquet\"\n",
    "path_grids_new = f\"{data_dir}/data_EU/census_grid_EU/grids_new.gpkg\"\n",
    "\n",
    "# Dataset names and their file formats:\n",
    "# format: {dataset_name: (path, file_format), ...}\n",
    "\n",
    "datasets = {\n",
    "    \"countries\": (path_contr, \"shapefile\"),\n",
    "    \"regions_IT\": (path_reg, \"shapefile\"),\n",
    "    \"provinces_IT\": (path_prov, \"shapefile\"),\n",
    "    \"comuni_EU\": (path_com_EU, \"shapefile\"),\n",
    "    \"comuni_IT\": (path_com, \"shapefile\"),\n",
    "    \"pop_grids\": (path_grids, \"geoparquet\"),\n",
    "    \"pop_grids_new\": (path_grids_new, \"geopackage\"),\n",
    "}\n",
    "\n",
    "obj = Enricher(crs=\"EPSG:3035\")\n",
    "\n",
    "# Setup the Enricher object with \"sedona\" (or, \"wherobots\")\n",
    "# \"ex_mem\" and \"dr_mem\" are the executor and driver memory in GB\n",
    "obj.setup_cluster(data_dir=data_dir, which=\"sedona\", ex_mem=26, dr_mem=24, log_level=\"ERROR\")\n",
    "\n",
    "# Use \"load()\" to load all the datasets in {data_dir}, \n",
    "# according to the paths and file formats provided in \"datasets{}\"\n",
    "obj.load(datasets, silent=True)\n",
    "\n",
    "# Optionally, run \"fix_geometries()\" to fix invalid geometries if any; \n",
    "# if you want to skip the check for some dataframes, pass their names in \"skip[]\"\n",
    "obj.fix_geometries(skip=['pop_grids', 'pop_grids_new'])\n",
    "\n",
    "# Optionally, inspect the partitions and data skew:\n",
    "# obj.inspect_partitions()\n",
    "\n",
    "# and force the dataframes to be repartitioned to the number of available cores\n",
    "# pass the names of the dataframes to be skipped in skip[]\n",
    "obj.force_repartition(skip=['pop_grids'])\n",
    "\n",
    "# obj.inspect_partitions()\n",
    "\n",
    "# Transform the CRS of loaded datasets to the CRS passed in the Enricher constructor\n",
    "# lazy=True will not cache the dataframes. \n",
    "obj.transform_CRS(lazy=False)\n",
    "\n",
    "# Pickle all the dataframes to disk for quick access later.\n",
    "# default directory: \"./{data_dir}/pickle_parquets/dfs_list\"\n",
    "# you may change the directory where they are saved by pasing it in \"parquet_dir\"; relative to the {data_dir}\n",
    "obj.parquet_all(preserve_partitions=True)\n",
    "\n",
    "\n",
    "# obj.dfs_list['comuni_EU'] = obj.dfs_list['comuni_EU'].filter(F.col('CNTR_ID').isin([\"IT\", \"DE\"]))"
   ]
  },
  {
   "cell_type": "code",
   "execution_count": 3,
   "metadata": {},
   "outputs": [
    {
     "name": "stdout",
     "output_type": "stream",
     "text": [
      "Sedona initialized with None cores for parellelism.\n",
      "Loading 'countries' from Parquet...\n",
      "Loaded dataframe 'countries'\n",
      "Loading 'regions_IT' from Parquet...\n",
      "Loaded dataframe 'regions_IT'\n",
      "Loading 'provinces_IT' from Parquet...\n",
      "Loaded dataframe 'provinces_IT'\n",
      "Loading 'comuni_EU' from Parquet...\n",
      "Loaded dataframe 'comuni_EU'\n",
      "Loading 'comuni_IT' from Parquet...\n",
      "Loaded dataframe 'comuni_IT'\n",
      "Loading 'pop_grids' from Parquet...\n",
      "Loaded dataframe 'pop_grids'\n",
      "Loading 'pop_grids_new' from Parquet...\n",
      "Loaded dataframe 'pop_grids_new'\n"
     ]
    }
   ],
   "source": [
    "''' \n",
    "Load data from pickled parquets \n",
    "\n",
    "'''\n",
    "\n",
    "# Provide the data directory\n",
    "data_dir = \"./data\"\n",
    "\n",
    "obj = Enricher(crs=\"EPSG:3035\")\n",
    "\n",
    "# Setup the Enricher object with \"sedona\" (or, \"wherobots\")\n",
    "# \"ex_mem\" and \"dr_mem\" are the executor and driver memory in GB\n",
    "obj.setup_cluster(data_dir=data_dir, which=\"sedona\", ex_mem=26, dr_mem=24, log_level=\"ERROR\")\n",
    "\n",
    "# Loads all the datasets from pickled parquets in the default direcoty: \"./{data_dir}/pickle_parquets/dfs_list\"\n",
    "# optionally, to load from a different directory, pass the directory path in \"parquet_dir\"; reative to the {data_dir}\n",
    "obj.load_from_parquets()\n",
    "# obj.inspect_partitions()"
   ]
  },
  {
   "cell_type": "code",
   "execution_count": null,
   "metadata": {},
   "outputs": [
    {
     "data": {
      "application/vnd.jupyter.widget-view+json": {
       "model_id": "b75e7e40d1c7422c87ae8f766cac916f",
       "version_major": 2,
       "version_minor": 0
      },
      "text/plain": [
       "VBox(children=(HTML(value='<h1>Enrich with Overlay & Aggregation</h1>'), HTML(value=\"<div style='height: 5px;'…"
      ]
     },
     "metadata": {},
     "output_type": "display_data"
    }
   ],
   "source": [
    "'''\n",
    "GUI for Enricher primitives\n",
    "\n",
    "'''\n",
    "\n",
    "# pass the Enricher object (loaded with the datasets) to the EnricherUI\n",
    "obj_ui = EnricherUI(obj)\n"
   ]
  },
  {
   "cell_type": "code",
   "execution_count": 15,
   "metadata": {},
   "outputs": [
    {
     "name": "stdout",
     "output_type": "stream",
     "text": [
      "['COMM_ID', 'CNTR_ID', 'CNTR_CODE', 'COMM_NAME', 'NAME_ASCI', 'TRUE_FLAG', 'NSI_CODE', 'NAME_NSI', 'NAME_LATN', 'NUTS_CODE', 'FID', 'geohash', 'geometry', 'T_agr_sum']\n",
      "58166281.116447605\n"
     ]
    }
   ],
   "source": [
    "\n",
    "temp = obj.res_agr\n",
    "print(temp.columns)\n",
    "\n",
    "# temp = temp.drop(\"df1_geom\", \"df2_geom\")\n",
    "# temp = temp.withColumnRenamed(\"intr_geometry\", \"geometry\")\n",
    "temp = temp.filter(F.col('CNTR_ID') == 'IT')\n",
    "print(temp.agg(F.sum('T_agr_sum')).collect()[0][0])\n",
    "\n",
    "# obj.parquet_this(\"intrsctn_com_grid_IT\", temp, preserve_partitions=False)\n",
    "# obj.parquet_this(\"grids_new_X_comuni_EU_IT\", temp, preserve_partitions=False)\n",
    "# temp.cache()"
   ]
  },
  {
   "cell_type": "code",
   "execution_count": null,
   "metadata": {},
   "outputs": [
    {
     "name": "stderr",
     "output_type": "stream",
     "text": [
      "[Stage 34:==========>      (9 + 6) / 15][Stage 36:===============> (9 + 1) / 10]\r"
     ]
    },
    {
     "name": "stdout",
     "output_type": "stream",
     "text": [
      "4531770\n"
     ]
    },
    {
     "name": "stderr",
     "output_type": "stream",
     "text": [
      "                                                                                \r"
     ]
    }
   ],
   "source": [
    "df1 = obj.dfs_list['comuni_EU']\n",
    "df2 = obj.dfs_list['pop_grids']\n",
    "\n",
    "df1.createOrReplaceTempView(\"comune\")\n",
    "df2.createOrReplaceTempView(\"grids\")\n",
    "\n",
    "res = df1.alias(\"df1\").join(\n",
    "    df2.alias(\"df2\"), F.expr(\"ST_Intersects(df1.geometry, df2.geometry)\")\n",
    "    ).select(\n",
    "        F.expr(\"df1.geometry\").alias(\"df1_geom\"),\n",
    "        F.expr(\"df2.geometry\").alias(\"df2_geom\"),\n",
    "        *[f\"df1.{c}\" for c in df1.columns if c != \"geometry\"],\n",
    "        *[f\"df2.{c}\" for c in df2.columns if c != \"geometry\" and c not in df1.columns]\n",
    ")\n",
    "\n",
    "print(res.count())"
   ]
  },
  {
   "cell_type": "code",
   "execution_count": 9,
   "metadata": {},
   "outputs": [
    {
     "name": "stderr",
     "output_type": "stream",
     "text": [
      "[Stage 215:====================================================>(199 + 1) / 200]\r"
     ]
    },
    {
     "name": "stdout",
     "output_type": "stream",
     "text": [
      "109707\n"
     ]
    },
    {
     "name": "stderr",
     "output_type": "stream",
     "text": [
      "                                                                                \r"
     ]
    }
   ],
   "source": [
    "df1 = obj.dfs_list['comuni_EU']\n",
    "df2 = obj.dfs_list['pop_grids']\n",
    "\n",
    "df1.createOrReplaceTempView(\"comuni\")\n",
    "df2.createOrReplaceTempView(\"pop_grids\")\n",
    "\n",
    "\"\"\"\n",
    "1\n",
    "\"\"\"\n",
    "# res = obj.sedona.sql(\n",
    "# f\"\"\"\n",
    "# SELECT\n",
    "#     comuni.*, \n",
    "#     {', '.join([f'pop_grids.{col}' for col in df2.columns if col != 'geometry' and col not in df1.columns])}\n",
    "#     FROM comuni, pop_grids\n",
    "#     WHERE ST_Contains(comuni.geometry, pop_grids.geometry)\n",
    "# \"\"\"\n",
    "# )\n",
    "\n",
    "# res.createOrReplaceTempView(\"res\")\n",
    "\n",
    "# res =  obj.sedona.sql(\n",
    "# f\"\"\"\n",
    "#     SELECT COMM_ID,  SUM(T) as t_agr,\n",
    "#     {', '.join([f'FIRST({col}) as {col}' for col in res.columns if col not in ['COMM_ID', 'T']])}\n",
    "#     FROM res\n",
    "#     GROUP BY COMM_ID\n",
    "# \"\"\"\n",
    "# )\n",
    "\n",
    "\"\"\"\n",
    "2\n",
    "\"\"\"\n",
    "\n",
    "# res = obj.sedona.sql(\n",
    "# f\"\"\"\n",
    "# SELECT \n",
    "#     SUM(T) AS t_agr,\n",
    "#     {', '.join([f'FIRST({col}) as {col}' for col in df2.columns if col not in ['T']])}\n",
    "# FROM (\n",
    "#     SELECT\n",
    "#         comuni.*,\n",
    "#         {', '.join([f'pop_grids.{col}' for col in df2.columns if col != 'geometry' and col not in df1.columns])}\n",
    "#     FROM comuni, pop_grids\n",
    "#     WHERE ST_Intersects(comuni.geometry, pop_grids.geometry)\n",
    "# ) AS res\n",
    "# GROUP BY res.COMM_ID\n",
    "# \"\"\"\n",
    "# )\n",
    "\n",
    "\"\"\"\n",
    "3\n",
    "\"\"\"\n",
    "\n",
    "res = obj.sedona.sql(\n",
    "f\"\"\"\n",
    "    SELECT SUM(pop_grids.T) AS t_agr, FIRST(comuni.geometry) as geometry, FIRST(comuni.CNTR_ID) as CNTR_ID, FIRST(comuni.COMM_NAME) as COMM_NAME\n",
    "    FROM comuni, pop_grids\n",
    "    WHERE ST_Intersects(comuni.geometry, pop_grids.geometry)\n",
    "    GROUP BY comuni.COMM_ID\n",
    "\"\"\"\n",
    ")\n",
    "\n",
    "\"\"\"\n",
    "4\n",
    "\"\"\"\n",
    "\n",
    "# res = obj.sedona.sql(\n",
    "# f\"\"\"\n",
    "#     SELECT ST_Intersection(comuni.geometry, pop_grids.geometry) as geometry, ST_Area(comuni.geometry)/1000000 as intr_ratio, \n",
    "#     FROM comuni, pop_grids\n",
    "#     WHERE ST_Intersects(comuni.geometry, pop_grids.geometry)\n",
    "# \"\"\"\n",
    "# )\n",
    "\n",
    "\n",
    "res = res.cache()\n",
    "print(res.count())\n",
    "res_n = res.filter(F.col('CNTR_ID') == 'IT')\n",
    "\n",
    "\n",
    "\n",
    "# obj.parquet_this(\"grids_new_X_comuni_EU_IT\", res, preserve_partitions=False)"
   ]
  },
  {
   "cell_type": "code",
   "execution_count": null,
   "metadata": {},
   "outputs": [
    {
     "name": "stdout",
     "output_type": "stream",
     "text": [
      "41190463\n"
     ]
    }
   ],
   "source": [
    "\"\"\"\n",
    "Contains\n",
    "41190463\n",
    "\"\"\"\n",
    "\n",
    "print(res_n.agg(F.sum('t_agr')).collect()[0][0])\n"
   ]
  },
  {
   "cell_type": "code",
   "execution_count": null,
   "metadata": {},
   "outputs": [
    {
     "name": "stdout",
     "output_type": "stream",
     "text": [
      "77386595\n"
     ]
    }
   ],
   "source": [
    "\"\"\"\n",
    "Intersects\n",
    "77386595\n",
    "\"\"\"\n",
    "\n",
    "print(res_n.agg(F.sum('t_agr')).collect()[0][0])\n"
   ]
  },
  {
   "cell_type": "code",
   "execution_count": null,
   "metadata": {},
   "outputs": [],
   "source": [
    "\"\"\"\n",
    "ST_Intersection\n",
    "58166281\n",
    "\"\"\""
   ]
  },
  {
   "cell_type": "code",
   "execution_count": null,
   "metadata": {},
   "outputs": [
    {
     "name": "stderr",
     "output_type": "stream",
     "text": [
      "/data/homes_data/sudheer/benchmark_data/sedona_venv/lib/python3.12/site-packages/pyogrio/raw.py:723: RuntimeWarning: 2GB file size limit reached for data/pickle_parquets/others/test.dbf. Going on, but might cause compatibility issues with third party software\n",
      "  ogr_write(\n"
     ]
    },
    {
     "name": "stdout",
     "output_type": "stream",
     "text": [
      "GeoDataFrame has been exported to Shapefile: ./data/pickle_parquets/others/test.shp\n"
     ]
    }
   ],
   "source": [
    "import geopandas as gpd\n",
    "\n",
    "\n",
    "shapefile_path = './data/pickle_parquets/others/test.shp'\n",
    "\n",
    "gdf.to_file(shapefile_path, driver='ESRI Shapefile')\n",
    "print(f\"GeoDataFrame has been exported to Shapefile: {shapefile_path}\")"
   ]
  },
  {
   "cell_type": "code",
   "execution_count": null,
   "metadata": {},
   "outputs": [],
   "source": [
    "import pyarrow.parquet as pq\n",
    "\n",
    "parquet_file = pq.ParquetFile(\"./data/pickle_parquets/others/grids_new_X_comuni_EU/test.parquet\")\n",
    "\n",
    "# Print full metadata\n",
    "print(parquet_file.metadata)\n",
    "\n",
    "# Print schema (column names, types, etc.)\n",
    "print(parquet_file.schema)\n",
    "\n",
    "# Print key-value metadata (custom user-defined metadata)\n",
    "print(parquet_file.metadata.metadata)  # This is a dictionary\n"
   ]
  },
  {
   "cell_type": "code",
   "execution_count": 16,
   "metadata": {},
   "outputs": [
    {
     "name": "stdout",
     "output_type": "stream",
     "text": [
      "{\"$schema\":\"https://proj.org/schemas/v0.7/projjson.schema.json\",\"type\":\"ProjectedCRS\",\"name\":\"ETRS89-extended / LAEA Europe\",\"base_crs\":{\"name\":\"ETRS89\",\"datum_ensemble\":{\"name\":\"European Terrestrial Reference System 1989 ensemble\",\"members\":[{\"name\":\"European Terrestrial Reference Frame 1989\",\"id\":{\"authority\":\"EPSG\",\"code\":1178}},{\"name\":\"European Terrestrial Reference Frame 1990\",\"id\":{\"authority\":\"EPSG\",\"code\":1179}},{\"name\":\"European Terrestrial Reference Frame 1991\",\"id\":{\"authority\":\"EPSG\",\"code\":1180}},{\"name\":\"European Terrestrial Reference Frame 1992\",\"id\":{\"authority\":\"EPSG\",\"code\":1181}},{\"name\":\"European Terrestrial Reference Frame 1993\",\"id\":{\"authority\":\"EPSG\",\"code\":1182}},{\"name\":\"European Terrestrial Reference Frame 1994\",\"id\":{\"authority\":\"EPSG\",\"code\":1183}},{\"name\":\"European Terrestrial Reference Frame 1996\",\"id\":{\"authority\":\"EPSG\",\"code\":1184}},{\"name\":\"European Terrestrial Reference Frame 1997\",\"id\":{\"authority\":\"EPSG\",\"code\":1185}},{\"name\":\"European Terrestrial Reference Frame 2000\",\"id\":{\"authority\":\"EPSG\",\"code\":1186}},{\"name\":\"European Terrestrial Reference Frame 2005\",\"id\":{\"authority\":\"EPSG\",\"code\":1204}},{\"name\":\"European Terrestrial Reference Frame 2014\",\"id\":{\"authority\":\"EPSG\",\"code\":1206}},{\"name\":\"European Terrestrial Reference Frame 2020\",\"id\":{\"authority\":\"EPSG\",\"code\":1382}}],\"ellipsoid\":{\"name\":\"GRS 1980\",\"semi_major_axis\":6378137,\"inverse_flattening\":298.257222101},\"accuracy\":\"0.1\",\"id\":{\"authority\":\"EPSG\",\"code\":6258}},\"coordinate_system\":{\"subtype\":\"ellipsoidal\",\"axis\":[{\"name\":\"Geodetic latitude\",\"abbreviation\":\"Lat\",\"direction\":\"north\",\"unit\":\"degree\"},{\"name\":\"Geodetic longitude\",\"abbreviation\":\"Lon\",\"direction\":\"east\",\"unit\":\"degree\"}]},\"id\":{\"authority\":\"EPSG\",\"code\":4258}},\"conversion\":{\"name\":\"Europe Equal Area 2001\",\"method\":{\"name\":\"Lambert Azimuthal Equal Area\",\"id\":{\"authority\":\"EPSG\",\"code\":9820}},\"parameters\":[{\"name\":\"Latitude of natural origin\",\"value\":52,\"unit\":\"degree\",\"id\":{\"authority\":\"EPSG\",\"code\":8801}},{\"name\":\"Longitude of natural origin\",\"value\":10,\"unit\":\"degree\",\"id\":{\"authority\":\"EPSG\",\"code\":8802}},{\"name\":\"False easting\",\"value\":4321000,\"unit\":\"metre\",\"id\":{\"authority\":\"EPSG\",\"code\":8806}},{\"name\":\"False northing\",\"value\":3210000,\"unit\":\"metre\",\"id\":{\"authority\":\"EPSG\",\"code\":8807}}]},\"coordinate_system\":{\"subtype\":\"Cartesian\",\"axis\":[{\"name\":\"Northing\",\"abbreviation\":\"Y\",\"direction\":\"north\",\"unit\":\"metre\"},{\"name\":\"Easting\",\"abbreviation\":\"X\",\"direction\":\"east\",\"unit\":\"metre\"}]},\"scope\":\"Statistical analysis.\",\"area\":\"Europe - European Union (EU) countries and candidates. Europe - onshore and offshore: Albania; Andorra; Austria; Belgium; Bosnia and Herzegovina; Bulgaria; Croatia; Cyprus; Czechia; Denmark; Estonia; Faroe Islands; Finland; France; Germany; Gibraltar; Greece; Hungary; Iceland; Ireland; Italy; Kosovo; Latvia; Liechtenstein; Lithuania; Luxembourg; Malta; Monaco; Montenegro; Netherlands; North Macedonia; Norway including Svalbard and Jan Mayen; Poland; Portugal including Madeira and Azores; Romania; San Marino; Serbia; Slovakia; Slovenia; Spain including Canary Islands; Sweden; Switzerland; Türkiye (Turkey); United Kingdom (UK) including Channel Islands and Isle of Man; Vatican City State.\",\"bbox\":{\"south_latitude\":24.6,\"west_longitude\":-35.58,\"north_latitude\":84.73,\"east_longitude\":44.83},\"id\":{\"authority\":\"EPSG\",\"code\":3035}}\n"
     ]
    }
   ],
   "source": [
    "from pyproj import CRS\n",
    "print(CRS.from_epsg(3035).to_json()) "
   ]
  },
  {
   "cell_type": "code",
   "execution_count": 18,
   "metadata": {},
   "outputs": [
    {
     "name": "stdout",
     "output_type": "stream",
     "text": [
      "Saving dataframe 'test_geohash' as Parquet...\n"
     ]
    },
    {
     "name": "stderr",
     "output_type": "stream",
     "text": [
      "[Stage 93:>                                                         (0 + 1) / 1]\r"
     ]
    },
    {
     "name": "stdout",
     "output_type": "stream",
     "text": [
      "Saved to './data/pickle_parquets/others/test_geohash'\n"
     ]
    },
    {
     "name": "stderr",
     "output_type": "stream",
     "text": [
      "                                                                                \r"
     ]
    }
   ],
   "source": [
    "res.createOrReplaceGlobalTempView(\"res\")\n",
    "\n",
    "res = obj.sedona.sql(\"\"\"\n",
    "    SELECT *, ST_GeoHash(geometry, 5) as geohash\n",
    "    FROM res\n",
    "    ORDER BY geohash\n",
    "\"\"\"\n",
    ")\n",
    "\n",
    "obj.parquet_this(\"test_geohash\", res, preserve_partitions=False)"
   ]
  },
  {
   "cell_type": "code",
   "execution_count": null,
   "metadata": {},
   "outputs": [
    {
     "name": "stdout",
     "output_type": "stream",
     "text": [
      "4531770\n"
     ]
    }
   ],
   "source": [
    "df1 = obj.dfs_list['countries']\n",
    "df2 = obj.dfs_list['pop_grids']\n",
    "\n",
    "df1.createOrReplaceTempView(\"countries\")\n",
    "df2.createOrReplaceTempView(\"pop_grids\")\n",
    "\n",
    "res = obj.sedona.sql(\"\"\"\n",
    "    SELECT\n",
    "        countries.CNTR_NAME,\n",
    "        pop_grids.*\n",
    "    FROM countries, pop_grids\n",
    "    WHERE ST_Intersects(countries.geometry, pop_grids.geometry)\n",
    "\"\"\")\n",
    "\n",
    "res = res.cache()\n",
    "print(res.count())\n"
   ]
  },
  {
   "cell_type": "code",
   "execution_count": 61,
   "metadata": {},
   "outputs": [
    {
     "name": "stdout",
     "output_type": "stream",
     "text": [
      "User Guide: https://docs.kepler.gl/docs/keplergl-jupyter\n"
     ]
    },
    {
     "name": "stderr",
     "output_type": "stream",
     "text": [
      "                                                                                \r"
     ]
    },
    {
     "ename": "KeyboardInterrupt",
     "evalue": "",
     "output_type": "error",
     "traceback": [
      "\u001b[0;31m---------------------------------------------------------------------------\u001b[0m",
      "\u001b[0;31mKeyboardInterrupt\u001b[0m                         Traceback (most recent call last)",
      "\u001b[0;32m/tmp/ipykernel_2818954/4107501640.py\u001b[0m in \u001b[0;36m?\u001b[0;34m()\u001b[0m\n\u001b[1;32m     34\u001b[0m \u001b[0;34m\u001b[0m\u001b[0m\n\u001b[1;32m     35\u001b[0m \u001b[0;34m\u001b[0m\u001b[0m\n\u001b[1;32m     36\u001b[0m \u001b[0mmap\u001b[0m \u001b[0;34m=\u001b[0m \u001b[0mKeplerGl\u001b[0m\u001b[0;34m(\u001b[0m\u001b[0mheight\u001b[0m\u001b[0;34m=\u001b[0m\u001b[0;36m600\u001b[0m\u001b[0;34m)\u001b[0m\u001b[0;34m\u001b[0m\u001b[0;34m\u001b[0m\u001b[0m\n\u001b[1;32m     37\u001b[0m \u001b[0;34m\u001b[0m\u001b[0m\n\u001b[0;32m---> 38\u001b[0;31m map.add_data(\n\u001b[0m\u001b[1;32m     39\u001b[0m     \u001b[0mdata\u001b[0m\u001b[0;34m=\u001b[0m\u001b[0mprep_for_map\u001b[0m\u001b[0;34m(\u001b[0m\u001b[0mres\u001b[0m\u001b[0;34m,\u001b[0m \u001b[0mobj\u001b[0m\u001b[0;34m.\u001b[0m\u001b[0mcrs\u001b[0m\u001b[0;34m,\u001b[0m \u001b[0mgeom_col\u001b[0m\u001b[0;34m=\u001b[0m\u001b[0;34m\"geometry\"\u001b[0m\u001b[0;34m)\u001b[0m\u001b[0;34m,\u001b[0m\u001b[0;34m\u001b[0m\u001b[0;34m\u001b[0m\u001b[0m\n\u001b[1;32m     40\u001b[0m     \u001b[0mname\u001b[0m\u001b[0;34m=\u001b[0m\u001b[0;34m\"result\"\u001b[0m\u001b[0;34m\u001b[0m\u001b[0;34m\u001b[0m\u001b[0m\n\u001b[1;32m     41\u001b[0m     \u001b[0;34m)\u001b[0m\u001b[0;34m\u001b[0m\u001b[0;34m\u001b[0m\u001b[0m\n",
      "\u001b[0;32m~/benchmark_data/sedona_venv/lib/python3.12/site-packages/keplergl/keplergl.py\u001b[0m in \u001b[0;36m?\u001b[0;34m(self, data, name, use_arrow)\u001b[0m\n\u001b[1;32m    214\u001b[0m \u001b[0;34m\u001b[0m\u001b[0m\n\u001b[1;32m    215\u001b[0m         \u001b[0mExample\u001b[0m \u001b[0mof\u001b[0m \u001b[0muse\u001b[0m\u001b[0;34m:\u001b[0m\u001b[0;34m\u001b[0m\u001b[0;34m\u001b[0m\u001b[0m\n\u001b[1;32m    216\u001b[0m             \u001b[0mkeplergl\u001b[0m\u001b[0;34m.\u001b[0m\u001b[0madd_data\u001b[0m\u001b[0;34m(\u001b[0m\u001b[0mdata_string\u001b[0m\u001b[0;34m,\u001b[0m \u001b[0mname\u001b[0m\u001b[0;34m=\u001b[0m\u001b[0;34m\"data_1\"\u001b[0m\u001b[0;34m)\u001b[0m\u001b[0;34m\u001b[0m\u001b[0;34m\u001b[0m\u001b[0m\n\u001b[1;32m    217\u001b[0m         '''\n\u001b[0;32m--> 218\u001b[0;31m         \u001b[0mnormalized\u001b[0m \u001b[0;34m=\u001b[0m \u001b[0m_normalize_data\u001b[0m\u001b[0;34m(\u001b[0m\u001b[0mdata\u001b[0m\u001b[0;34m,\u001b[0m \u001b[0muse_arrow\u001b[0m\u001b[0;34m)\u001b[0m\u001b[0;34m\u001b[0m\u001b[0;34m\u001b[0m\u001b[0m\n\u001b[0m\u001b[1;32m    219\u001b[0m         \u001b[0mcopy\u001b[0m \u001b[0;34m=\u001b[0m \u001b[0mself\u001b[0m\u001b[0;34m.\u001b[0m\u001b[0mdata\u001b[0m\u001b[0;34m.\u001b[0m\u001b[0mcopy\u001b[0m\u001b[0;34m(\u001b[0m\u001b[0;34m)\u001b[0m\u001b[0;34m\u001b[0m\u001b[0;34m\u001b[0m\u001b[0m\n\u001b[1;32m    220\u001b[0m         \u001b[0mcopy\u001b[0m\u001b[0;34m.\u001b[0m\u001b[0mupdate\u001b[0m\u001b[0;34m(\u001b[0m\u001b[0;34m{\u001b[0m\u001b[0mname\u001b[0m\u001b[0;34m:\u001b[0m \u001b[0mnormalized\u001b[0m\u001b[0;34m}\u001b[0m\u001b[0;34m)\u001b[0m\u001b[0;34m\u001b[0m\u001b[0;34m\u001b[0m\u001b[0m\n\u001b[1;32m    221\u001b[0m \u001b[0;34m\u001b[0m\u001b[0m\n",
      "\u001b[0;32m~/benchmark_data/sedona_venv/lib/python3.12/site-packages/keplergl/keplergl.py\u001b[0m in \u001b[0;36m?\u001b[0;34m(data, use_arrow)\u001b[0m\n\u001b[1;32m    115\u001b[0m     \u001b[0;32mif\u001b[0m \u001b[0misinstance\u001b[0m\u001b[0;34m(\u001b[0m\u001b[0mdata\u001b[0m\u001b[0;34m,\u001b[0m \u001b[0mpd\u001b[0m\u001b[0;34m.\u001b[0m\u001b[0mDataFrame\u001b[0m\u001b[0;34m)\u001b[0m\u001b[0;34m:\u001b[0m\u001b[0;34m\u001b[0m\u001b[0;34m\u001b[0m\u001b[0m\n\u001b[1;32m    116\u001b[0m         \u001b[0;32mif\u001b[0m \u001b[0muse_arrow\u001b[0m\u001b[0;34m:\u001b[0m\u001b[0;34m\u001b[0m\u001b[0;34m\u001b[0m\u001b[0m\n\u001b[1;32m    117\u001b[0m             \u001b[0;32mreturn\u001b[0m \u001b[0m_gdf_to_arrow\u001b[0m\u001b[0;34m(\u001b[0m\u001b[0mdata\u001b[0m\u001b[0;34m)\u001b[0m \u001b[0;32mif\u001b[0m \u001b[0misinstance\u001b[0m\u001b[0;34m(\u001b[0m\u001b[0mdata\u001b[0m\u001b[0;34m,\u001b[0m \u001b[0mgeopandas\u001b[0m\u001b[0;34m.\u001b[0m\u001b[0mGeoDataFrame\u001b[0m\u001b[0;34m)\u001b[0m \u001b[0;32melse\u001b[0m \u001b[0m_df_to_arrow\u001b[0m\u001b[0;34m(\u001b[0m\u001b[0mdata\u001b[0m\u001b[0;34m)\u001b[0m\u001b[0;34m\u001b[0m\u001b[0;34m\u001b[0m\u001b[0m\n\u001b[1;32m    118\u001b[0m         \u001b[0;32melse\u001b[0m\u001b[0;34m:\u001b[0m\u001b[0;34m\u001b[0m\u001b[0;34m\u001b[0m\u001b[0m\n\u001b[0;32m--> 119\u001b[0;31m             \u001b[0;32mreturn\u001b[0m \u001b[0m_gdf_to_dict\u001b[0m\u001b[0;34m(\u001b[0m\u001b[0mdata\u001b[0m\u001b[0;34m)\u001b[0m \u001b[0;32mif\u001b[0m \u001b[0misinstance\u001b[0m\u001b[0;34m(\u001b[0m\u001b[0mdata\u001b[0m\u001b[0;34m,\u001b[0m \u001b[0mgeopandas\u001b[0m\u001b[0;34m.\u001b[0m\u001b[0mGeoDataFrame\u001b[0m\u001b[0;34m)\u001b[0m \u001b[0;32melse\u001b[0m \u001b[0m_df_to_dict\u001b[0m\u001b[0;34m(\u001b[0m\u001b[0mdata\u001b[0m\u001b[0;34m)\u001b[0m\u001b[0;34m\u001b[0m\u001b[0;34m\u001b[0m\u001b[0m\n\u001b[0m\u001b[1;32m    120\u001b[0m     \u001b[0;32mreturn\u001b[0m \u001b[0mdata\u001b[0m\u001b[0;34m\u001b[0m\u001b[0;34m\u001b[0m\u001b[0m\n",
      "\u001b[0;32m~/benchmark_data/sedona_venv/lib/python3.12/site-packages/keplergl/keplergl.py\u001b[0m in \u001b[0;36m?\u001b[0;34m(gdf)\u001b[0m\n\u001b[1;32m     88\u001b[0m     \u001b[0;31m# convert geometry to wkt\u001b[0m\u001b[0;34m\u001b[0m\u001b[0;34m\u001b[0m\u001b[0m\n\u001b[1;32m     89\u001b[0m     \u001b[0mdf\u001b[0m\u001b[0;34m[\u001b[0m\u001b[0mname\u001b[0m\u001b[0;34m]\u001b[0m \u001b[0;34m=\u001b[0m \u001b[0mdf\u001b[0m\u001b[0;34m.\u001b[0m\u001b[0mgeometry\u001b[0m\u001b[0;34m.\u001b[0m\u001b[0mapply\u001b[0m\u001b[0;34m(\u001b[0m\u001b[0;32mlambda\u001b[0m \u001b[0mx\u001b[0m\u001b[0;34m:\u001b[0m \u001b[0mshapely\u001b[0m\u001b[0;34m.\u001b[0m\u001b[0mwkt\u001b[0m\u001b[0;34m.\u001b[0m\u001b[0mdumps\u001b[0m\u001b[0;34m(\u001b[0m\u001b[0mx\u001b[0m\u001b[0;34m)\u001b[0m\u001b[0;34m)\u001b[0m\u001b[0;34m\u001b[0m\u001b[0;34m\u001b[0m\u001b[0m\n\u001b[1;32m     90\u001b[0m     \u001b[0;31m#  df[name] = shapely.wkt.dumps(df.geometry)\u001b[0m\u001b[0;34m\u001b[0m\u001b[0;34m\u001b[0m\u001b[0m\n\u001b[1;32m     91\u001b[0m \u001b[0;34m\u001b[0m\u001b[0m\n\u001b[0;32m---> 92\u001b[0;31m     \u001b[0;32mreturn\u001b[0m \u001b[0m_df_to_dict\u001b[0m\u001b[0;34m(\u001b[0m\u001b[0mdf\u001b[0m\u001b[0;34m)\u001b[0m\u001b[0;34m\u001b[0m\u001b[0;34m\u001b[0m\u001b[0m\n\u001b[0m",
      "\u001b[0;32m~/benchmark_data/sedona_venv/lib/python3.12/site-packages/keplergl/keplergl.py\u001b[0m in \u001b[0;36m?\u001b[0;34m(df)\u001b[0m\n\u001b[1;32m     48\u001b[0m     \u001b[0mReturns\u001b[0m\u001b[0;34m:\u001b[0m\u001b[0;34m\u001b[0m\u001b[0;34m\u001b[0m\u001b[0m\n\u001b[1;32m     49\u001b[0m     \u001b[0;34m-\u001b[0m \u001b[0mdictionary\u001b[0m\u001b[0;34m:\u001b[0m \u001b[0ma\u001b[0m \u001b[0mdictionary\u001b[0m \u001b[0mvariable\u001b[0m \u001b[0mthat\u001b[0m \u001b[0mcan\u001b[0m \u001b[0mbe\u001b[0m \u001b[0mused\u001b[0m \u001b[0;32min\u001b[0m \u001b[0mKepler\u001b[0m\u001b[0;34m.\u001b[0m\u001b[0mgl\u001b[0m\u001b[0;34m\u001b[0m\u001b[0;34m\u001b[0m\u001b[0m\n\u001b[1;32m     50\u001b[0m \u001b[0;34m\u001b[0m\u001b[0m\n\u001b[1;32m     51\u001b[0m     '''\n\u001b[0;32m---> 52\u001b[0;31m     \u001b[0;32mreturn\u001b[0m \u001b[0mdf\u001b[0m\u001b[0;34m.\u001b[0m\u001b[0mto_dict\u001b[0m\u001b[0;34m(\u001b[0m\u001b[0;34m'split'\u001b[0m\u001b[0;34m)\u001b[0m\u001b[0;34m\u001b[0m\u001b[0;34m\u001b[0m\u001b[0m\n\u001b[0m",
      "\u001b[0;32m~/benchmark_data/sedona_venv/lib/python3.12/site-packages/pandas/util/_decorators.py\u001b[0m in \u001b[0;36m?\u001b[0;34m(*args, **kwargs)\u001b[0m\n\u001b[1;32m    329\u001b[0m                     \u001b[0mmsg\u001b[0m\u001b[0;34m.\u001b[0m\u001b[0mformat\u001b[0m\u001b[0;34m(\u001b[0m\u001b[0marguments\u001b[0m\u001b[0;34m=\u001b[0m\u001b[0m_format_argument_list\u001b[0m\u001b[0;34m(\u001b[0m\u001b[0mallow_args\u001b[0m\u001b[0;34m)\u001b[0m\u001b[0;34m)\u001b[0m\u001b[0;34m,\u001b[0m\u001b[0;34m\u001b[0m\u001b[0;34m\u001b[0m\u001b[0m\n\u001b[1;32m    330\u001b[0m                     \u001b[0mFutureWarning\u001b[0m\u001b[0;34m,\u001b[0m\u001b[0;34m\u001b[0m\u001b[0;34m\u001b[0m\u001b[0m\n\u001b[1;32m    331\u001b[0m                     \u001b[0mstacklevel\u001b[0m\u001b[0;34m=\u001b[0m\u001b[0mfind_stack_level\u001b[0m\u001b[0;34m(\u001b[0m\u001b[0;34m)\u001b[0m\u001b[0;34m,\u001b[0m\u001b[0;34m\u001b[0m\u001b[0;34m\u001b[0m\u001b[0m\n\u001b[1;32m    332\u001b[0m                 \u001b[0;34m)\u001b[0m\u001b[0;34m\u001b[0m\u001b[0;34m\u001b[0m\u001b[0m\n\u001b[0;32m--> 333\u001b[0;31m             \u001b[0;32mreturn\u001b[0m \u001b[0mfunc\u001b[0m\u001b[0;34m(\u001b[0m\u001b[0;34m*\u001b[0m\u001b[0margs\u001b[0m\u001b[0;34m,\u001b[0m \u001b[0;34m**\u001b[0m\u001b[0mkwargs\u001b[0m\u001b[0;34m)\u001b[0m\u001b[0;34m\u001b[0m\u001b[0;34m\u001b[0m\u001b[0m\n\u001b[0m",
      "\u001b[0;32m~/benchmark_data/sedona_venv/lib/python3.12/site-packages/pandas/core/frame.py\u001b[0m in \u001b[0;36m?\u001b[0;34m(self, orient, into, index)\u001b[0m\n\u001b[1;32m   2174\u001b[0m          \u001b[0mdefaultdict\u001b[0m\u001b[0;34m(\u001b[0m\u001b[0;34m<\u001b[0m\u001b[0;32mclass\u001b[0m \u001b[0;34m'list'\u001b[0m\u001b[0;34m>\u001b[0m\u001b[0;34m,\u001b[0m \u001b[0;34m{\u001b[0m\u001b[0;34m'col1'\u001b[0m\u001b[0;34m:\u001b[0m \u001b[0;36m2\u001b[0m\u001b[0;34m,\u001b[0m \u001b[0;34m'col2'\u001b[0m\u001b[0;34m:\u001b[0m \u001b[0;36m0.75\u001b[0m\u001b[0;34m}\u001b[0m\u001b[0;34m)\u001b[0m\u001b[0;34m]\u001b[0m\u001b[0;34m\u001b[0m\u001b[0;34m\u001b[0m\u001b[0m\n\u001b[1;32m   2175\u001b[0m         \"\"\"\n\u001b[1;32m   2176\u001b[0m         \u001b[0;32mfrom\u001b[0m \u001b[0mpandas\u001b[0m\u001b[0;34m.\u001b[0m\u001b[0mcore\u001b[0m\u001b[0;34m.\u001b[0m\u001b[0mmethods\u001b[0m\u001b[0;34m.\u001b[0m\u001b[0mto_dict\u001b[0m \u001b[0;32mimport\u001b[0m \u001b[0mto_dict\u001b[0m\u001b[0;34m\u001b[0m\u001b[0;34m\u001b[0m\u001b[0m\n\u001b[1;32m   2177\u001b[0m \u001b[0;34m\u001b[0m\u001b[0m\n\u001b[0;32m-> 2178\u001b[0;31m         \u001b[0;32mreturn\u001b[0m \u001b[0mto_dict\u001b[0m\u001b[0;34m(\u001b[0m\u001b[0mself\u001b[0m\u001b[0;34m,\u001b[0m \u001b[0morient\u001b[0m\u001b[0;34m,\u001b[0m \u001b[0minto\u001b[0m\u001b[0;34m=\u001b[0m\u001b[0minto\u001b[0m\u001b[0;34m,\u001b[0m \u001b[0mindex\u001b[0m\u001b[0;34m=\u001b[0m\u001b[0mindex\u001b[0m\u001b[0;34m)\u001b[0m\u001b[0;34m\u001b[0m\u001b[0;34m\u001b[0m\u001b[0m\n\u001b[0m",
      "\u001b[0;32m~/benchmark_data/sedona_venv/lib/python3.12/site-packages/pandas/core/methods/to_dict.py\u001b[0m in \u001b[0;36m?\u001b[0;34m(df, orient, into, index)\u001b[0m\n\u001b[1;32m    178\u001b[0m             \u001b[0;32mfor\u001b[0m \u001b[0mi\u001b[0m\u001b[0;34m,\u001b[0m \u001b[0;34m(\u001b[0m\u001b[0mk\u001b[0m\u001b[0;34m,\u001b[0m \u001b[0mv\u001b[0m\u001b[0;34m)\u001b[0m \u001b[0;32min\u001b[0m \u001b[0menumerate\u001b[0m\u001b[0;34m(\u001b[0m\u001b[0mdf\u001b[0m\u001b[0;34m.\u001b[0m\u001b[0mitems\u001b[0m\u001b[0;34m(\u001b[0m\u001b[0;34m)\u001b[0m\u001b[0;34m)\u001b[0m\u001b[0;34m\u001b[0m\u001b[0;34m\u001b[0m\u001b[0m\n\u001b[1;32m    179\u001b[0m         \u001b[0;34m)\u001b[0m\u001b[0;34m\u001b[0m\u001b[0;34m\u001b[0m\u001b[0m\n\u001b[1;32m    180\u001b[0m \u001b[0;34m\u001b[0m\u001b[0m\n\u001b[1;32m    181\u001b[0m     \u001b[0;32melif\u001b[0m \u001b[0morient\u001b[0m \u001b[0;34m==\u001b[0m \u001b[0;34m\"split\"\u001b[0m\u001b[0;34m:\u001b[0m\u001b[0;34m\u001b[0m\u001b[0;34m\u001b[0m\u001b[0m\n\u001b[0;32m--> 182\u001b[0;31m         data = df._create_data_for_split_and_tight_to_dict(\n\u001b[0m\u001b[1;32m    183\u001b[0m             \u001b[0mare_all_object_dtype_cols\u001b[0m\u001b[0;34m,\u001b[0m \u001b[0mbox_native_indices\u001b[0m\u001b[0;34m\u001b[0m\u001b[0;34m\u001b[0m\u001b[0m\n\u001b[1;32m    184\u001b[0m         \u001b[0;34m)\u001b[0m\u001b[0;34m\u001b[0m\u001b[0;34m\u001b[0m\u001b[0m\n\u001b[1;32m    185\u001b[0m \u001b[0;34m\u001b[0m\u001b[0m\n",
      "\u001b[0;32m~/benchmark_data/sedona_venv/lib/python3.12/site-packages/pandas/core/frame.py\u001b[0m in \u001b[0;36m?\u001b[0;34m(self, are_all_object_dtype_cols, object_dtype_indices)\u001b[0m\n\u001b[1;32m   2008\u001b[0m                 \u001b[0mlist\u001b[0m\u001b[0;34m(\u001b[0m\u001b[0mmap\u001b[0m\u001b[0;34m(\u001b[0m\u001b[0mmaybe_box_native\u001b[0m\u001b[0;34m,\u001b[0m \u001b[0mt\u001b[0m\u001b[0;34m)\u001b[0m\u001b[0;34m)\u001b[0m\u001b[0;34m\u001b[0m\u001b[0;34m\u001b[0m\u001b[0m\n\u001b[1;32m   2009\u001b[0m                 \u001b[0;32mfor\u001b[0m \u001b[0mt\u001b[0m \u001b[0;32min\u001b[0m \u001b[0mself\u001b[0m\u001b[0;34m.\u001b[0m\u001b[0mitertuples\u001b[0m\u001b[0;34m(\u001b[0m\u001b[0mindex\u001b[0m\u001b[0;34m=\u001b[0m\u001b[0;32mFalse\u001b[0m\u001b[0;34m,\u001b[0m \u001b[0mname\u001b[0m\u001b[0;34m=\u001b[0m\u001b[0;32mNone\u001b[0m\u001b[0;34m)\u001b[0m\u001b[0;34m\u001b[0m\u001b[0;34m\u001b[0m\u001b[0m\n\u001b[1;32m   2010\u001b[0m             \u001b[0;34m]\u001b[0m\u001b[0;34m\u001b[0m\u001b[0;34m\u001b[0m\u001b[0m\n\u001b[1;32m   2011\u001b[0m         \u001b[0;32melse\u001b[0m\u001b[0;34m:\u001b[0m\u001b[0;34m\u001b[0m\u001b[0;34m\u001b[0m\u001b[0m\n\u001b[0;32m-> 2012\u001b[0;31m             \u001b[0mdata\u001b[0m \u001b[0;34m=\u001b[0m \u001b[0;34m[\u001b[0m\u001b[0mlist\u001b[0m\u001b[0;34m(\u001b[0m\u001b[0mt\u001b[0m\u001b[0;34m)\u001b[0m \u001b[0;32mfor\u001b[0m \u001b[0mt\u001b[0m \u001b[0;32min\u001b[0m \u001b[0mself\u001b[0m\u001b[0;34m.\u001b[0m\u001b[0mitertuples\u001b[0m\u001b[0;34m(\u001b[0m\u001b[0mindex\u001b[0m\u001b[0;34m=\u001b[0m\u001b[0;32mFalse\u001b[0m\u001b[0;34m,\u001b[0m \u001b[0mname\u001b[0m\u001b[0;34m=\u001b[0m\u001b[0;32mNone\u001b[0m\u001b[0;34m)\u001b[0m\u001b[0;34m]\u001b[0m\u001b[0;34m\u001b[0m\u001b[0;34m\u001b[0m\u001b[0m\n\u001b[0m\u001b[1;32m   2013\u001b[0m             \u001b[0;32mif\u001b[0m \u001b[0mobject_dtype_indices\u001b[0m\u001b[0;34m:\u001b[0m\u001b[0;34m\u001b[0m\u001b[0;34m\u001b[0m\u001b[0m\n\u001b[1;32m   2014\u001b[0m                 \u001b[0;31m# If we have object_dtype_cols, apply maybe_box_naive after list\u001b[0m\u001b[0;34m\u001b[0m\u001b[0;34m\u001b[0m\u001b[0m\n\u001b[1;32m   2015\u001b[0m                 \u001b[0;31m# comprehension for perf\u001b[0m\u001b[0;34m\u001b[0m\u001b[0;34m\u001b[0m\u001b[0m\n",
      "\u001b[0;31mKeyboardInterrupt\u001b[0m: "
     ]
    }
   ],
   "source": [
    "'''\n",
    "For visualizing the results or other spatial datasets\n",
    "\n",
    "'''\n",
    "\n",
    "\n",
    "from keplergl import KeplerGl\n",
    "import geopandas as gpd\n",
    "from shapely.geometry import shape\n",
    "import decimal\n",
    "\n",
    "\n",
    "# Pass the dataframe you want to visualize to \"temp_df\"\n",
    "\n",
    "temp_df = res_n\n",
    "# temp_df = obj.dfs_list['pop_grids_new'].filter(F.col('CNTR_ID').isin([\"IT\"]))\n",
    "# temp_df = obj.res.filter(F.col('CNTR_ID').isin(\"NL\", \"BE\", \"DE\", \"IT\"))\n",
    "# temp_df = obj.dfs_list['pop_grids'].filter(F.col('T')>1000)\n",
    "\n",
    "\n",
    "def prep_for_map(res_agr, crs, geom_col='geometry'):\n",
    "    \"\"\"\n",
    "    This is a function that takes a Sedona (Spark) dataframe and\n",
    "    converts it to a Geopandas dataframe for visualization in Kepler.gl.\n",
    "    \"\"\"\n",
    "    df = res_agr.toPandas()\n",
    "    df = df.map(lambda x: float(x) if isinstance(x, decimal.Decimal) else x)\n",
    "    df['geometry'] = df[f'{geom_col}'].apply(lambda geom: shape(geom))\n",
    "\n",
    "    gdf = gpd.GeoDataFrame(df, geometry='geometry')\n",
    "    gdf.crs = crs\n",
    "    \n",
    "    return gdf\n",
    "\n",
    "\n",
    "map = KeplerGl(height=600)\n",
    "\n",
    "map.add_data(\n",
    "    data=prep_for_map(res, obj.crs, geom_col=\"geometry\"), \n",
    "    name=\"result\"\n",
    "    )\n",
    "map"
   ]
  },
  {
   "cell_type": "code",
   "execution_count": null,
   "metadata": {},
   "outputs": [
    {
     "name": "stderr",
     "output_type": "stream",
     "text": [
      "/data/homes_data/sudheer/benchmark_data/sedona_venv/lib/python3.12/site-packages/jupyter_client/session.py:721: UserWarning: Message serialization failed with:\n",
      "Out of range float values are not JSON compliant: nan\n",
      "Supporting this message is deprecated in jupyter-client 7, please make sure your message is JSON-compliant\n",
      "  content = self.pack(content)\n"
     ]
    },
    {
     "data": {
      "application/vnd.jupyter.widget-view+json": {
       "model_id": "cc76fdf26c8f4a20beab056580dd247c",
       "version_major": 2,
       "version_minor": 0
      },
      "text/plain": [
       "KeplerGl(config={'version': 'v1', 'config': {'visState': {'filters': [], 'layers': [{'id': '7f1zywf', 'type': …"
      ]
     },
     "execution_count": 34,
     "metadata": {},
     "output_type": "execute_result"
    }
   ],
   "source": [
    "map.add_data(\n",
    "    data=prep_for_map(df1, obj.crs, geom_col=\"geometry\"), \n",
    "    name=\"comune\"\n",
    "    )\n",
    "map"
   ]
  },
  {
   "cell_type": "code",
   "execution_count": null,
   "metadata": {},
   "outputs": [],
   "source": [
    "from sedona.maps.SedonaKepler import SedonaKepler\n",
    "\n",
    "res = res.cache()\n",
    "temp_df = res.filter(F.col('CNTR_ID').isin([\"IT\"]))\n",
    "map = SedonaKepler.create_map(df=temp_df, name=\"temp\")"
   ]
  },
  {
   "cell_type": "code",
   "execution_count": null,
   "metadata": {},
   "outputs": [],
   "source": [
    "from keplergl import KeplerGl\n",
    "import geopandas as gpd\n",
    "from shapely.geometry import shape\n",
    "import decimal\n",
    "\n",
    "# temp_df = obj.res_agr\n",
    "temp_df = obj.dfs_list['pop_grids_new']\n",
    "# temp_df = obj.dfs_list['comuni_EU']\n",
    "# temp_df = obj.dfs_list['pop_grids_new'].filter(F.col('CNTR_ID').isin(\"NL\", \"BE\", \"DE\", \"IT\"))\n",
    "\n",
    "\n",
    "def prep_for_map(res_agr, crs, geom_col='geometry'):\n",
    "    df = res_agr.toPandas()\n",
    "    df = df.map(lambda x: float(x) if isinstance(x, decimal.Decimal) else x)\n",
    "    df['geometry'] = df[f'{geom_col}'].apply(lambda geom: shape(geom))\n",
    "\n",
    "    gdf = gpd.GeoDataFrame(df, geometry='geometry')\n",
    "    gdf.crs = crs\n",
    "    \n",
    "    return gdf\n",
    "\n",
    "map = KeplerGl(height=600)\n",
    "map.add_data(data=prep_for_map(temp_df, obj.crs, geom_col=\"geometry\"), name=\"pop_grids\")\n",
    "map"
   ]
  },
  {
   "cell_type": "code",
   "execution_count": null,
   "metadata": {},
   "outputs": [],
   "source": []
  },
  {
   "cell_type": "code",
   "execution_count": null,
   "metadata": {},
   "outputs": [],
   "source": []
  },
  {
   "cell_type": "code",
   "execution_count": null,
   "metadata": {},
   "outputs": [],
   "source": []
  },
  {
   "cell_type": "code",
   "execution_count": null,
   "metadata": {},
   "outputs": [],
   "source": [
    "# import geopandas as gpd\n",
    "\n",
    "# path = \"./data/pickle_parquets/others/grids_new_X_comuni_EU\"\n",
    "\n",
    "# gdf = gpd.read_parquet(path)\n",
    "\n",
    "# crs = gdf.crs\n",
    "\n",
    "# if crs:\n",
    "#     print(f\"The CRS of the GeoParquet file is: {crs}\")\n",
    "# else:\n",
    "#     print(\"The CRS of the GeoParquet file is undefined.\")\n",
    "    \n",
    "# if crs:\n",
    "#     formatted_crs = CRS(crs)  \n",
    "#     print(f\"CRS: {formatted_crs.to_string()}\") \n",
    "#     print(f\"EPSG Code: {formatted_crs.to_epsg()}\")  \n",
    "#     print(f\"PROJ String: {formatted_crs.to_proj4()}\")  \n",
    "#     print(f\"WKT Format: {formatted_crs.to_wkt()}\")  \n",
    "# else:\n",
    "#     print(\"The CRS of the GeoParquet file is undefined.\")"
   ]
  }
 ],
 "metadata": {
  "kernelspec": {
   "display_name": "sedona_venv",
   "language": "python",
   "name": "python3"
  },
  "language_info": {
   "codemirror_mode": {
    "name": "ipython",
    "version": 3
   },
   "file_extension": ".py",
   "mimetype": "text/x-python",
   "name": "python",
   "nbconvert_exporter": "python",
   "pygments_lexer": "ipython3",
   "version": "3.12.3"
  }
 },
 "nbformat": 4,
 "nbformat_minor": 4
}
