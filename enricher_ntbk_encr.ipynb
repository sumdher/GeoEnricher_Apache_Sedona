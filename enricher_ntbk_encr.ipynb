{
 "cells": [
  {
   "cell_type": "code",
   "execution_count": 23,
   "metadata": {},
   "outputs": [],
   "source": [
    "#ENCRYPTED\n",
    "# This cell is encrypted. Will be made public soon. Contact: sudheer.siddabattula@gmail.com for access/details\n",
    "\n",
    "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"
   ]
  },
  {
   "cell_type": "code",
   "execution_count": null,
   "metadata": {},
   "outputs": [],
   "source": [
    "''' \n",
    "Loading data from files.\n",
    "This will take a while. Because it cleans and makes some essential transformations.\n",
    "But it is a one-time operation. `parquet_all()` will save all datasets to the disk, preserving any transformations applied.\n",
    "From next time, you can directly load them  with: `load_from_parquets()`.\n",
    "'''\n",
    "\n",
    "\n",
    "# Provide the data directory\n",
    "data_dir = f\"./data\"\n",
    "\n",
    "# Individual file paths:\n",
    "path_contr = f\"{data_dir}/data_EU/countries_shp/\"\n",
    "path_reg = f\"{data_dir}/data_Italy/regioni/\"\n",
    "path_prov = f\"{data_dir}/data_Italy/provinci\"\n",
    "path_com_EU = f\"{data_dir}/data_EU/comuni_shp/\"\n",
    "path_com = f\"{data_dir}/data_Italy/comuni/\"\n",
    "path_grids = f\"{data_dir}/data_EU/census_grid_EU/grids_OG_corrected.parquet\"\n",
    "path_grids_new = f\"{data_dir}/data_EU/census_grid_EU/grids_new.gpkg\"\n",
    "\n",
    "# Dataset names and their file formats:\n",
    "# format: {dataset_name: (path, file_format), ...}\n",
    "\n",
    "datasets: dict[str, tuple[str, str]] = {\n",
    "    \"countries\": (path_contr, \"shapefile\"),\n",
    "    \"regions_IT\": (path_reg, \"shapefile\"),\n",
    "    \"provinces_IT\": (path_prov, \"shapefile\"),\n",
    "    \"comuni_EU\": (path_com_EU, \"shapefile\"),\n",
    "    \"comuni_IT\": (path_com, \"shapefile\"),\n",
    "    \"pop_grids\": (path_grids, \"geoparquet\"),\n",
    "    \"pop_grids_new\": (path_grids_new, \"geopackage\"),\n",
    "}\n",
    "\n",
    "obj = Enricher(crs=\"EPSG:3035\")\n",
    "\n",
    "# Setup the Enricher object with \"sedona\" (or, \"wherobots\")\n",
    "# \"ex_mem\" and \"dr_mem\" are the executor and driver memory in GB\n",
    "obj.setup_cluster(\n",
    "    data_dir=data_dir, \n",
    "    which=\"sedona\", \n",
    "    ex_mem=26,\n",
    "    dr_mem=24,\n",
    "    log_level=\"ERROR\")\n",
    "\n",
    "# Use \"load()\" to load all the datasets in {data_dir}, \n",
    "# according to the paths and file formats provided in \"datasets{}\"\n",
    "obj.load(datasets, silent=True)\n",
    "\n",
    "# Optionally, run \"fix_geometries()\" to fix invalid geometries if any; \n",
    "# if you want to skip the check for some dataframes, pass their names in \"skip[]\"\n",
    "obj.fix_geometries(\n",
    "    skip=['pop_grids', 'pop_grids_new']\n",
    "    )\n",
    "\n",
    "# Optionally, inspect the partitions and data skew:\n",
    "# obj.inspect_partitions()\n",
    "\n",
    "# and force the dataframes to be repartitioned to the number of available cores\n",
    "# pass the names of the dataframes to be skipped in skip[]\n",
    "obj.force_repartition(skip=['pop_grids'])\n",
    "\n",
    "# obj.inspect_partitions()\n",
    "\n",
    "# Transform the CRS of loaded datasets to the CRS passed in the Enricher constructor\n",
    "# lazy=True will not cache the dataframes. \n",
    "obj.transform_CRS(lazy=False)\n",
    "\n",
    "# Pickle all the dataframes to disk for quick access later.\n",
    "# default directory: \"./{data_dir}/pickle_parquets/dfs_list\"\n",
    "# you may change the directory where they are saved by pasing it in \"parquet_dir\"; relative to the {data_dir}\n",
    "obj.parquet_all(preserve_partitions=True)\n",
    "\n",
    "\n",
    "# obj.dfs_list['comuni_EU'] = obj.dfs_list['comuni_EU'].filter(F.col('CNTR_ID').isin([\"IT\", \"DE\"]))"
   ]
  },
  {
   "cell_type": "code",
   "execution_count": 21,
   "metadata": {},
   "outputs": [
    {
     "name": "stdout",
     "output_type": "stream",
     "text": [
      "sedona initialized with 10 cores for parellelism.\n",
      "Loading 'provinces_IT' from Parquet...\n",
      "Loaded dataframe 'provinces_IT'\n",
      "Loading 'comune' from Parquet...\n",
      "Loaded dataframe 'comune'\n",
      "Loading 'grids' from Parquet...\n",
      "Loaded dataframe 'grids'\n",
      "Loading 'regions_IT' from Parquet...\n",
      "Loaded dataframe 'regions_IT'\n",
      "Loading 'countries' from Parquet...\n",
      "Loaded dataframe 'countries'\n",
      "Loading 'grids_IT' from Parquet...\n",
      "Loaded dataframe 'grids_IT'\n",
      "Loading 'pop_grids' from Parquet...\n",
      "Loaded dataframe 'pop_grids'\n",
      "Loading 'comuni_EU' from Parquet...\n",
      "Loaded dataframe 'comuni_EU'\n",
      "Loading 'comuni_EU_IT' from Parquet...\n",
      "Loaded dataframe 'comuni_EU_IT'\n",
      "Loading 'pop_grids_new' from Parquet...\n",
      "Loaded dataframe 'pop_grids_new'\n",
      "Loading 'comuni_IT' from Parquet...\n",
      "Loaded dataframe 'comuni_IT'\n"
     ]
    }
   ],
   "source": [
    "''' \n",
    "Load data from pickled parquets \n",
    "\n",
    "'''\n",
    "\n",
    "# Provide the data directory\n",
    "data_dir = \"./data\"\n",
    "\n",
    "obj = Enricher(crs=\"EPSG:3035\")\n",
    "\n",
    "# Setup the Enricher object with \"sedona\" (or, \"wherobots\")\n",
    "# \"ex_mem\" and \"dr_mem\" are the executor and driver memory in GB\n",
    "obj.setup_cluster(data_dir=data_dir, \n",
    "                  which=\"sedona\", \n",
    "                  ex_mem=26, \n",
    "                  dr_mem=24, \n",
    "                  log_level=\"ERROR\")\n",
    "\n",
    "# Loads all the datasets from pickled parquets in the default direcoty: \"./{data_dir}/pickle_parquets/dfs_list\"\n",
    "# optionally, to load from a different directory, pass the directory path in \"parquet_dir\"; reative to the {data_dir}\n",
    "obj.load_from_parquets()\n",
    "# obj.inspect_partitions()"
   ]
  },
  {
   "cell_type": "code",
   "execution_count": 14,
   "metadata": {},
   "outputs": [
    {
     "name": "stdout",
     "output_type": "stream",
     "text": [
      "User Guide: https://docs.kepler.gl/docs/keplergl-jupyter\n"
     ]
    },
    {
     "data": {
      "application/vnd.jupyter.widget-view+json": {
       "model_id": "077d413863084243a782e80e58d49b8a",
       "version_major": 2,
       "version_minor": 0
      },
      "text/plain": [
       "KeplerGl(data={'countries': 'countries'})"
      ]
     },
     "execution_count": 14,
     "metadata": {},
     "output_type": "execute_result"
    }
   ],
   "source": [
    "'''\n",
    "Visualize the datasets\n",
    "\n",
    "'''\n",
    "\n",
    "# Pass a list of: names of the loaded datasets or directly the Spark dataframes in memory\n",
    "# Make sure the geometry column is named \"geometry\".\n",
    "# If not, pass individual dataframes with thei geometry column with the argument `geom_col`\n",
    "obj.plot_this(\n",
    "    [\"countries\", obj.dfs_list[\"provinces_IT\"]],  # str | SparkDataFrame | list[str | SparkDataFrame]\n",
    "    new_map=True  # if it is False, the dataset will be added to the old map (if it exists, or else, makes a new one)\n",
    "    )\n",
    "\n",
    "# you can plot the map in another cell, just run `<obj>.map`"
   ]
  },
  {
   "cell_type": "code",
   "execution_count": null,
   "metadata": {},
   "outputs": [
    {
     "data": {
      "application/vnd.jupyter.widget-view+json": {
       "model_id": "64a02b061b6c49b3aa36deed63870880",
       "version_major": 2,
       "version_minor": 0
      },
      "text/plain": [
       "VBox(children=(HTML(value='<h1>Enrich with Overlay & Aggregation</h1>'), HTML(value=\"<div style='height: 5px;'…"
      ]
     },
     "metadata": {},
     "output_type": "display_data"
    }
   ],
   "source": [
    "'''\n",
    "GUI for Enricher primitives\n",
    "\n",
    "'''\n",
    "\n",
    "# pass the Enricher object (loaded with the datasets) to the EnricherUI\n",
    "obj_ui = EnrichOverlay(obj)\n"
   ]
  },
  {
   "cell_type": "code",
   "execution_count": 27,
   "metadata": {},
   "outputs": [
    {
     "name": "stdout",
     "output_type": "stream",
     "text": [
      "User Guide: https://docs.kepler.gl/docs/keplergl-jupyter\n"
     ]
    },
    {
     "data": {
      "application/vnd.jupyter.widget-view+json": {
       "model_id": "a93d6a4b2c0a4c16b25bd96a3125886a",
       "version_major": 2,
       "version_minor": 0
      },
      "text/plain": [
       "KeplerGl(data={'comuni_EU_IT': {'index': [0, 1, 2, 3, 4, 5, 6, 7, 8, 9, 10, 11, 12, 13, 14, 15, 16, 17, 18, 19…"
      ]
     },
     "execution_count": 27,
     "metadata": {},
     "output_type": "execute_result"
    }
   ],
   "source": [
    "# res_agr = obj.load_from_parquet(name=\"grids_X_countries\")\n",
    "\n",
    "obj.plot_this(\n",
    "    [obj.dfs_list['comuni_EU_IT']],  # str | SparkDataFrame | list[str | SparkDataFrame]\n",
    "    new_map=True  # if it is False, the dataset will be added to the old map (if it exists, or else, makes a new map)\n",
    "    )"
   ]
  },
  {
   "cell_type": "code",
   "execution_count": 29,
   "metadata": {},
   "outputs": [
    {
     "name": "stdout",
     "output_type": "stream",
     "text": [
      "+------------------------------------------------------------+\n",
      "|COMM_NAME                                                   |\n",
      "+------------------------------------------------------------+\n",
      "|Roma\u0000\u0000\u0000\u0000\u0000\u0000\u0000\u0000\u0000\u0000\u0000\u0000\u0000\u0000\u0000\u0000\u0000\u0000\u0000\u0000\u0000\u0000\u0000\u0000\u0000\u0000\u0000\u0000\u0000\u0000\u0000\u0000\u0000\u0000\u0000\u0000\u0000\u0000\u0000\u0000\u0000\u0000\u0000\u0000\u0000\u0000\u0000\u0000\u0000\u0000\u0000\u0000\u0000\u0000\u0000\u0000|\n",
      "|Milano\u0000\u0000\u0000\u0000\u0000\u0000\u0000\u0000\u0000\u0000\u0000\u0000\u0000\u0000\u0000\u0000\u0000\u0000\u0000\u0000\u0000\u0000\u0000\u0000\u0000\u0000\u0000\u0000\u0000\u0000\u0000\u0000\u0000\u0000\u0000\u0000\u0000\u0000\u0000\u0000\u0000\u0000\u0000\u0000\u0000\u0000\u0000\u0000\u0000\u0000\u0000\u0000\u0000\u0000|\n",
      "|Napoli\u0000\u0000\u0000\u0000\u0000\u0000\u0000\u0000\u0000\u0000\u0000\u0000\u0000\u0000\u0000\u0000\u0000\u0000\u0000\u0000\u0000\u0000\u0000\u0000\u0000\u0000\u0000\u0000\u0000\u0000\u0000\u0000\u0000\u0000\u0000\u0000\u0000\u0000\u0000\u0000\u0000\u0000\u0000\u0000\u0000\u0000\u0000\u0000\u0000\u0000\u0000\u0000\u0000\u0000|\n",
      "|Torino\u0000\u0000\u0000\u0000\u0000\u0000\u0000\u0000\u0000\u0000\u0000\u0000\u0000\u0000\u0000\u0000\u0000\u0000\u0000\u0000\u0000\u0000\u0000\u0000\u0000\u0000\u0000\u0000\u0000\u0000\u0000\u0000\u0000\u0000\u0000\u0000\u0000\u0000\u0000\u0000\u0000\u0000\u0000\u0000\u0000\u0000\u0000\u0000\u0000\u0000\u0000\u0000\u0000\u0000|\n",
      "|Palermo\u0000\u0000\u0000\u0000\u0000\u0000\u0000\u0000\u0000\u0000\u0000\u0000\u0000\u0000\u0000\u0000\u0000\u0000\u0000\u0000\u0000\u0000\u0000\u0000\u0000\u0000\u0000\u0000\u0000\u0000\u0000\u0000\u0000\u0000\u0000\u0000\u0000\u0000\u0000\u0000\u0000\u0000\u0000\u0000\u0000\u0000\u0000\u0000\u0000\u0000\u0000\u0000\u0000|\n",
      "+------------------------------------------------------------+\n",
      "only showing top 5 rows\n",
      "\n"
     ]
    }
   ],
   "source": [
    "\n",
    "obj.res_agr.orderBy(F.desc(\"T_agr_sum\")).select(\"COMM_NAME\").show(5, truncate=False)\n"
   ]
  },
  {
   "cell_type": "code",
   "execution_count": 26,
   "metadata": {},
   "outputs": [
    {
     "name": "stdout",
     "output_type": "stream",
     "text": [
      "User Guide: https://docs.kepler.gl/docs/keplergl-jupyter\n"
     ]
    },
    {
     "name": "stderr",
     "output_type": "stream",
     "text": [
      "/data/homes_data/sudheer/benchmark_data/sedona_venv/lib/python3.12/site-packages/jupyter_client/session.py:721: UserWarning: Message serialization failed with:\n",
      "Out of range float values are not JSON compliant: nan\n",
      "Supporting this message is deprecated in jupyter-client 7, please make sure your message is JSON-compliant\n",
      "  content = self.pack(content)\n"
     ]
    },
    {
     "data": {
      "application/vnd.jupyter.widget-view+json": {
       "model_id": "3c5d85b9e0e845f4937951289f1fde68",
       "version_major": 2,
       "version_minor": 0
      },
      "text/plain": [
       "KeplerGl(data={'grids_IT': {'index': [0, 1, 2, 3, 4, 5, 6, 7, 8, 9, 10, 11, 12, 13, 14, 15, 16, 17, 18, 19, 20…"
      ]
     },
     "execution_count": 26,
     "metadata": {},
     "output_type": "execute_result"
    }
   ],
   "source": [
    "# res_agr = obj.load_from_parquet(name=\"grids_X_countries\")\n",
    "\n",
    "obj.plot_this(\n",
    "    [obj.dfs_list['grids_IT']],  # str | SparkDataFrame | list[str | SparkDataFrame]\n",
    "    new_map=True  # if it is False, the dataset will be added to the old map (if it exists, or else, makes a new map)\n",
    "    )"
   ]
  },
  {
   "cell_type": "code",
   "execution_count": 16,
   "metadata": {},
   "outputs": [
    {
     "name": "stdout",
     "output_type": "stream",
     "text": [
      "Saving dataframe 'comuni_EU_IT' as GeoParquet...\n"
     ]
    },
    {
     "name": "stderr",
     "output_type": "stream",
     "text": [
      "[Stage 53:===================================================>     (9 + 1) / 10]\r"
     ]
    },
    {
     "name": "stdout",
     "output_type": "stream",
     "text": [
      "Saved to './data/pickle_parquets/others/comuni_EU_IT'\n"
     ]
    },
    {
     "name": "stderr",
     "output_type": "stream",
     "text": [
      "                                                                                \r"
     ]
    }
   ],
   "source": [
    "# obj.dfs_list.keys()\n",
    "\n",
    "ress = ress.filter(F.col('CNTR_ID') == 'IT')\n",
    "obj.parquet_this(\"comuni_EU_IT\", ress, preserve_partitions=True)\n"
   ]
  },
  {
   "cell_type": "code",
   "execution_count": 3,
   "metadata": {},
   "outputs": [
    {
     "data": {
      "text/plain": [
       "['geometry',\n",
       " 'CNTR_ID',\n",
       " 'CNTR_NAME',\n",
       " 'NAME_ENGL',\n",
       " 'NAME_FREN',\n",
       " 'ISO3_CODE',\n",
       " 'SVRG_UN',\n",
       " 'CAPT',\n",
       " 'EU_STAT',\n",
       " 'EFTA_STAT',\n",
       " 'CC_STAT',\n",
       " 'NAME_GERM',\n",
       " 'geohash']"
      ]
     },
     "execution_count": 3,
     "metadata": {},
     "output_type": "execute_result"
    }
   ],
   "source": [
    "obj.dfs_list['countries'].columns"
   ]
  },
  {
   "cell_type": "code",
   "execution_count": 15,
   "metadata": {},
   "outputs": [
    {
     "name": "stderr",
     "output_type": "stream",
     "text": [
      "[Stage 46:===================================================>     (9 + 1) / 10]\r"
     ]
    },
    {
     "name": "stdout",
     "output_type": "stream",
     "text": [
      "126089\n"
     ]
    },
    {
     "name": "stderr",
     "output_type": "stream",
     "text": [
      "                                                                                \r"
     ]
    }
   ],
   "source": [
    "ress = obj.join_simple(df1=\"comuni_EU\", df2=obj.dfs_list['countries'], enr_cols=[\"CNTR_ID\", \"CNTR_NAME\"])\n",
    "ress.cache()\n",
    "print(ress.count())"
   ]
  },
  {
   "cell_type": "code",
   "execution_count": null,
   "metadata": {},
   "outputs": [
    {
     "name": "stdout",
     "output_type": "stream",
     "text": [
      "['COMM_ID', 'CNTR_ID', 'CNTR_CODE', 'COMM_NAME', 'NAME_ASCI', 'TRUE_FLAG', 'NSI_CODE', 'NAME_NSI', 'NAME_LATN', 'NUTS_CODE', 'FID', 'geohash', 'geometry', 'T_agr_sum']\n",
      "58166281.116447605\n"
     ]
    }
   ],
   "source": [
    "temp: SparkDataFrame = obj.res_agr\n",
    "print(temp.columns)\n",
    "\n",
    "# temp: SparkDataFrame = temp.filter(F.col('CNTR_ID') == 'IT')\n",
    "print(temp.agg(F.sum('T_agr_sum')).collect()[0][0])\n",
    "\n",
    "# obj.parquet_this(\"intrsctn_com_grid_IT\", temp, preserve_partitions=False)\n",
    "# obj.parquet_this(\"grids_new_X_comuni_EU_IT\", temp, preserve_partitions=False)\n",
    "# temp.cache()"
   ]
  },
  {
   "cell_type": "code",
   "execution_count": null,
   "metadata": {},
   "outputs": [
    {
     "name": "stderr",
     "output_type": "stream",
     "text": [
      "[Stage 215:====================================================>(199 + 1) / 200]\r"
     ]
    },
    {
     "name": "stdout",
     "output_type": "stream",
     "text": [
      "109707\n"
     ]
    },
    {
     "name": "stderr",
     "output_type": "stream",
     "text": [
      "                                                                                \r"
     ]
    }
   ],
   "source": [
    "#ENCRYPTED\n",
    "# This cell is encrypted. Will be made public soon. Contact: sudheer.siddabattula@gmail.com for access/details\n",
    "\n",
    "LS0tLS1CRUdJTiBQR1AgTUVTU0FHRS0tLS0tCgp3Y0JNQTB5VXBDMWwzUy9oQVFnQW1UK3JMYnVidUVUWmlJdHdFdkFNdTNvTkdvODYzUFFXUjZ1bGpkTzhjTzJsCllXdUFwaUJ5ZHNISjg4bTNFOE40dVBZaVNNNkRHRFQ2ZzJ0WHluUGNMWHhPZDlDa1F0dlBVdUJtMld6K3h6NVEKalR1TmJLM0ZkY0lFQjZEY3IzU1RRWHd0Sys0S1l6clArUlB4VlVqaC9ya0kyMDBiVVlOUTJGeXJ0Rmt3WGs4SgpEaDFjTVVRQnNqaXZpdzROYkFDTG92SGRXWUdBdEpna2hyZXRsaVZPU0FDZUFlQVR4dzFXN2dkT1BHTXJuMHE4ClZWazQzTmhKeW9TcmRxVFhkVFNGUWFRSHF6SzA5T0RkZkpaMStiVHNkZTR6K2h0bVUxZTM0OFVaaFJwZW85aEYKSSt6VWFuc3JnSlFyaElnRkluTm5xdUx2cnlWQmNNMG03RnlGSUlla1U5TEJ6Z0hWcC9RY0Vka002WkdBRnd4YQpCeXAxL01lbzRqbXVPdlZuVlVPSGxWM0dvNjdFQ21oeDJ2MzZjb2tDc2g0Z1VjYzQ5dXdQN0dTdFFSOU5OZ2RECkdyRitJU1dFMjVtckVlUFVTSnVvQXJxOGtTbzdUYzIwZXpIcExwY2ZVMXpZYUxiSWZpOEtjbUhvQTdFdC9rR3gKQktzZ08vZ2ZVQTBlTVNZS2dYR1FVRlJZYTF2R3lGZkZhUncxWnlvdE5QdGd2UlVjdW94ZW81aXdJU3YzWkJ3Zgp4dkpYdE5KeGc1OEtqbUlVRmdDUFBkRHdPWDdUZ29oblNXeTJsUVFmdVpBKzY2QWlmeWtDNmpBYVFTWElFeStmCjYxVU1mUDZRcEY2NUduNEZwQ2tobzhIR0xPUnI5Vm4wQndxQVFLRE1lNi9zSjB3QWkxZnFndW9BVnFacURGWnEKOFdUdWtYS0tUdWlWZUplSkU2cDdoN0JCRWVGbWs4RTgrL0J0WThhU2dXTXFuNVNqT0lRVjBHbXNFRkNtSTRSRgplQmF6anpJMDJzejVmV0N5Ykg5NUdMQjB6b01ENkRUNUVGb04zMTBxUm9CMzJlaTZaYzhoUTkwZlQ0ZUFUa0xPCitrdUkycVFzRHF4NHpTSi9PYWIyS1Q4ckhDMVpJQ0JTTFA0cjZLcW9DK3dsVjRZTHVOV1ZlSEtGeWdyWnF2akwKKzhmelQ5Zk5iMjg2L2VwQ2RMQUtlY0FudytxY3grM0pQbXNOREM1RjgvVFRZaitvT0ZnWkxHLzgvL0wrN0swWgpNQnF2MTVoYitZMlVza1ZCUGN3NzM5TllpMG9TeWRiYXRlNXVlUkNmbWpmMjE4dVh4MU5BV3dFRkxvYmE3WVUzCmJhVkh1NGdGQXc0OHB2cTVNaEJyenBUODdyZzJ4Z0JvQ25SVlByaTM4Ky9ZZXVvZVpQRWQyRlZYZXEvSU1nMngKYUpZNUVVU1RKRmVqM1lQVzFTS2tqczY2dmx1K3BSOVpwYzJKdXdQelMyRHo3RFhXNmpNalFVYXJhMHUydllNbQp3OVZjK3lEaXdhWUk1VTFLck1lbmlhMHAzNDhVVkExMmI2Y3NDTjhlU3ZXSld3RmVCQUlhdWJwQkJDQ3R6ZlpwClBXOEZVeE1CelVXUTZDY3V1YTlTK1E9PQo9WlFIaQotLS0tLUVORCBQR1AgTUVTU0FHRS0tLS0tCg=="
   ]
  },
  {
   "cell_type": "code",
   "execution_count": null,
   "metadata": {},
   "outputs": [
    {
     "name": "stdout",
     "output_type": "stream",
     "text": [
      "41190463\n"
     ]
    }
   ],
   "source": [
    "\"\"\"\n",
    "Contains\n",
    "41190463\n",
    "\"\"\"\n",
    "\n",
    "print(res_n.agg(F.sum('t_agr')).collect()[0][0])\n"
   ]
  },
  {
   "cell_type": "code",
   "execution_count": null,
   "metadata": {},
   "outputs": [
    {
     "name": "stdout",
     "output_type": "stream",
     "text": [
      "77386595\n"
     ]
    }
   ],
   "source": [
    "\"\"\"\n",
    "Intersects\n",
    "77386595\n",
    "\"\"\"\n",
    "\n",
    "print(res_n.agg(F.sum('t_agr')).collect()[0][0])\n"
   ]
  },
  {
   "cell_type": "code",
   "execution_count": null,
   "metadata": {},
   "outputs": [],
   "source": [
    "\"\"\"\n",
    "ST_Intersection\n",
    "58166281\n",
    "\"\"\""
   ]
  },
  {
   "cell_type": "code",
   "execution_count": null,
   "metadata": {},
   "outputs": [],
   "source": [
    "import pyarrow.parquet as pq\n",
    "\n",
    "parquet_file = pq.ParquetFile(\"./data/pickle_parquets/others/grids_new_X_comuni_EU/test.parquet\")\n",
    "\n",
    "# Print full metadata\n",
    "print(parquet_file.metadata)\n",
    "\n",
    "# Print schema (column names, types, etc.)\n",
    "print(parquet_file.schema)\n",
    "\n",
    "# Print key-value metadata (custom user-defined metadata)\n",
    "print(parquet_file.metadata.metadata)  # This is a dictionary\n"
   ]
  },
  {
   "cell_type": "code",
   "execution_count": 16,
   "metadata": {},
   "outputs": [
    {
     "name": "stdout",
     "output_type": "stream",
     "text": [
      "{\"$schema\":\"https://proj.org/schemas/v0.7/projjson.schema.json\",\"type\":\"ProjectedCRS\",\"name\":\"ETRS89-extended / LAEA Europe\",\"base_crs\":{\"name\":\"ETRS89\",\"datum_ensemble\":{\"name\":\"European Terrestrial Reference System 1989 ensemble\",\"members\":[{\"name\":\"European Terrestrial Reference Frame 1989\",\"id\":{\"authority\":\"EPSG\",\"code\":1178}},{\"name\":\"European Terrestrial Reference Frame 1990\",\"id\":{\"authority\":\"EPSG\",\"code\":1179}},{\"name\":\"European Terrestrial Reference Frame 1991\",\"id\":{\"authority\":\"EPSG\",\"code\":1180}},{\"name\":\"European Terrestrial Reference Frame 1992\",\"id\":{\"authority\":\"EPSG\",\"code\":1181}},{\"name\":\"European Terrestrial Reference Frame 1993\",\"id\":{\"authority\":\"EPSG\",\"code\":1182}},{\"name\":\"European Terrestrial Reference Frame 1994\",\"id\":{\"authority\":\"EPSG\",\"code\":1183}},{\"name\":\"European Terrestrial Reference Frame 1996\",\"id\":{\"authority\":\"EPSG\",\"code\":1184}},{\"name\":\"European Terrestrial Reference Frame 1997\",\"id\":{\"authority\":\"EPSG\",\"code\":1185}},{\"name\":\"European Terrestrial Reference Frame 2000\",\"id\":{\"authority\":\"EPSG\",\"code\":1186}},{\"name\":\"European Terrestrial Reference Frame 2005\",\"id\":{\"authority\":\"EPSG\",\"code\":1204}},{\"name\":\"European Terrestrial Reference Frame 2014\",\"id\":{\"authority\":\"EPSG\",\"code\":1206}},{\"name\":\"European Terrestrial Reference Frame 2020\",\"id\":{\"authority\":\"EPSG\",\"code\":1382}}],\"ellipsoid\":{\"name\":\"GRS 1980\",\"semi_major_axis\":6378137,\"inverse_flattening\":298.257222101},\"accuracy\":\"0.1\",\"id\":{\"authority\":\"EPSG\",\"code\":6258}},\"coordinate_system\":{\"subtype\":\"ellipsoidal\",\"axis\":[{\"name\":\"Geodetic latitude\",\"abbreviation\":\"Lat\",\"direction\":\"north\",\"unit\":\"degree\"},{\"name\":\"Geodetic longitude\",\"abbreviation\":\"Lon\",\"direction\":\"east\",\"unit\":\"degree\"}]},\"id\":{\"authority\":\"EPSG\",\"code\":4258}},\"conversion\":{\"name\":\"Europe Equal Area 2001\",\"method\":{\"name\":\"Lambert Azimuthal Equal Area\",\"id\":{\"authority\":\"EPSG\",\"code\":9820}},\"parameters\":[{\"name\":\"Latitude of natural origin\",\"value\":52,\"unit\":\"degree\",\"id\":{\"authority\":\"EPSG\",\"code\":8801}},{\"name\":\"Longitude of natural origin\",\"value\":10,\"unit\":\"degree\",\"id\":{\"authority\":\"EPSG\",\"code\":8802}},{\"name\":\"False easting\",\"value\":4321000,\"unit\":\"metre\",\"id\":{\"authority\":\"EPSG\",\"code\":8806}},{\"name\":\"False northing\",\"value\":3210000,\"unit\":\"metre\",\"id\":{\"authority\":\"EPSG\",\"code\":8807}}]},\"coordinate_system\":{\"subtype\":\"Cartesian\",\"axis\":[{\"name\":\"Northing\",\"abbreviation\":\"Y\",\"direction\":\"north\",\"unit\":\"metre\"},{\"name\":\"Easting\",\"abbreviation\":\"X\",\"direction\":\"east\",\"unit\":\"metre\"}]},\"scope\":\"Statistical analysis.\",\"area\":\"Europe - European Union (EU) countries and candidates. Europe - onshore and offshore: Albania; Andorra; Austria; Belgium; Bosnia and Herzegovina; Bulgaria; Croatia; Cyprus; Czechia; Denmark; Estonia; Faroe Islands; Finland; France; Germany; Gibraltar; Greece; Hungary; Iceland; Ireland; Italy; Kosovo; Latvia; Liechtenstein; Lithuania; Luxembourg; Malta; Monaco; Montenegro; Netherlands; North Macedonia; Norway including Svalbard and Jan Mayen; Poland; Portugal including Madeira and Azores; Romania; San Marino; Serbia; Slovakia; Slovenia; Spain including Canary Islands; Sweden; Switzerland; Türkiye (Turkey); United Kingdom (UK) including Channel Islands and Isle of Man; Vatican City State.\",\"bbox\":{\"south_latitude\":24.6,\"west_longitude\":-35.58,\"north_latitude\":84.73,\"east_longitude\":44.83},\"id\":{\"authority\":\"EPSG\",\"code\":3035}}\n"
     ]
    }
   ],
   "source": [
    "from pyproj import CRS\n",
    "print(CRS.from_epsg(3035).to_json()) "
   ]
  },
  {
   "cell_type": "code",
   "execution_count": null,
   "metadata": {},
   "outputs": [
    {
     "name": "stdout",
     "output_type": "stream",
     "text": [
      "4531770\n"
     ]
    }
   ],
   "source": [
    "#ENCRYPTED\n",
    "# This cell is encrypted. Will be made public soon. Contact: sudheer.siddabattula@gmail.com for access/details\n",
    "\n",
    "LS0tLS1CRUdJTiBQR1AgTUVTU0FHRS0tLS0tCgp3Y0JNQTB5VXBDMWwzUy9oQVFmOEM4Q01rNXhIQkJMYW1UV25VR2FpWXJ4cDREanByVGNHVmVYVWM1d1d1MU5YCkZyVjllTE9sM2Q1NlJ2a2xMUlhqY1dIMXd6cmtxazdQazNqbUd0bUF6U0lINU9uai94cE1Bc3hzZlMwQWQvdTIKMmhXdjE2OXZoTE5LcHF5YnJ0TGpzK2ZYOG5JQ09IdTdmVkV6YnhwRUVuN0tkZEZMUldROEN1K0dlV3l4bm5rcApxVTZFOWpLYU9TOXZQanhJeWdwUXVEZ1ZqRUtFbFlPNFlTenJxdVB5K3pqTTJoSEx4OVFaVGxIdkZYNURRcExNCkVSK1pXQSs4YVI0NE01T25YQjZuclZjOVV2TEg0R2VOQnVnUHpMYnFMYTJEQWsxRFBROVlpeGFTa1IzbHpiRjQKR1FKMnRDdks3a08vOVJOKzdNWHU5MnpSSytkUHROREpSQnRPd1lFNDNkTEFTd0hyWmo3YUkraExmamxoY1N4SwpmVlJGdCtjeW53bDNFd2pqZG5hSkxVWERFdWk4STB2QmNJSnNic3dzWG43VkpsUzhhRHB5eC90cW1sdFRVenpMCmVTaHRkTjR1aDR0b1BqbzdnQzc5VGVsK3VFeTdsV2l6UzVNa1JjNnc4OE44TlpoZWtlSnhWSmxsNGFHeEU1STAKVUR2dnBKczQrK2h0QUhZVVM0K3B6T01FMWtzRE9BWG4rUXUycFl3Zm5tSE41SVRCNGR3eWc3NFNSKzdsSHFKTwo1OXgzOWYvWThSV3lXQVEvV29yUVo3QmFvclFpTW9VZ1ZIb0p5TlZoaE5ObG5ESnV2ODBmMWt4NWFZK3NBOXQyCk5jbVpuNjBEL1VNK2hMSmd3ZklHdmxKZXFmR1JIMXVlS3BvVkpEK1VzaUU2ZU5QekYzdE1USWpIRVR0WEtUdk0KczQvSFFuMDM3RzhHVUFZWkdRPT0KPWRCY0EKLS0tLS1FTkQgUEdQIE1FU1NBR0UtLS0tLQo="
   ]
  },
  {
   "cell_type": "code",
   "execution_count": null,
   "metadata": {},
   "outputs": [],
   "source": [
    "#ENCRYPTED\n",
    "# This cell is encrypted. Will be made public soon. Contact: sudheer.siddabattula@gmail.com for access/details\n",
    "\n",
    "LS0tLS1CRUdJTiBQR1AgTUVTU0FHRS0tLS0tCgp3Y0JNQTB5VXBDMWwzUy9oQVFmOUZ5b2FhQm5NL0tPc2tQRHhTaUpIbG1kVDZhUFUvMjVhMkdRMUVhT05memFoClZVSVEvWEF3V3dCM0ZqYktUeE5LNlRVeXhlVnN2ZFc2dEJORzcvU0pMcnozMHdHMG1NTzN3WWd0YytVL3d0MjcKdzZvOElsTU16c3BXYmxNeDQ0ek5YOTV0UTBWWE5pdmhLamRFaEk5Z2o0c3F4S0x2SENOcVI5emIwaVBlV21JTApuRjg1K0FHZXFiSHlXR04xQ3pBYnF1U0NLUG9OV3U4SzNxUy85eThGaUowSHFiTXpYZDdURHV5eGJ0Ny8vVUlECmdxTmdsTGl6Z095emlBSnpIWU1WcmJ5YWhJRk4wMUYrVHNqemZKbC9UUzQ4TzZSU2Z3Z0NqWTdTTkUwa0pqaDgKM2xaMDFoUnFoeWZvRHVhK3IzNHBpR3NSSElQQjdIVHBVVUZRVU9RMUtkTEJvUUdyTUpnT3RyRS80bW1QU0pYdgpkV2N3dnlJNkZqK2pLZGYyVU5rOWthOFJoWmhxQm8vT1RzYXNlQUkwY3BWeDdLTlZwNnRoaXVXZWxZNVV2V1NxClJIV0NEU0JhYjBGWXo0anU0amNaU2RvSW9YdmhLbUhvVlZzbXdZWGVZNStkNVV5YnVUemZNOUMyQThsbzZaOU0KS3N6TjQxaEcxV1huZDBYOUVOc0VJUVBMTzdLWVQ5MzRNMWlUcWhUelp5eHZ1dFhGbVI5azc0QUI3cTBVQ2grZwpMc1JUWSs1UEx2MUJCbFdHK0c3TnJQUFgyMWdIWk5WTm1xLzF2SG9SYnY2a3VsaGpGNWlaUjhPeXF4OXJnMlo1CnhXaDVtTVJSaEJsOGZHSFR2VTJObjBDWHhaejB1ZGZqdDc3VzU1b0NsV0o3dFR6SUZWN3paU3VSV2NYLzhtZ2MKaGJOVDVvNjluOW1vN1hYSkNlQUhhM3l5bzk0bTZWVG9zakpwdTFsOWFhTTM5L0I0SnovZnk0OWt1QUNQa2h2Nwo4M0ltbWdmanNJOUEzUFc1eW9VcGxLSlk1SEpCSFliNis1d3RmTzhySDgxV0NldWRVYWZ6NjFhZktZN2U0VG5ICk5uWjRSa2NTYWEwOEYvdzZIMFkxMkhkSzgxNXpFd20vQ05nRmhrQXRNS0hJdUVDMkRpYXFvSFBhditTSTZQekgKeU1zTms1U2dLWmhURkZxQUVTZWtGc0lINm9kSk5aTDVPdWsweXlyUzdnQjhpbEZiZEFlYXUxRWdpZjF1ZDJYWApyeURqeGxTTC9KWVMwUUdXa2Nqb0hGdUdMNGhWMnkyYWlpWVYxOUV0T2JqY0gySTFRY0JUR3hUWGd6Y05EMTRrCm9CdFBDWFdxL0x5L1NLY1pDRlBNNmhnZmd6aTdGL0tHMFprRHNERTg3ZENtRnNyaDBnSkNEU2FBV1B1ZlJxSHAKR1l5ODVYSlpiL3hsOHRIRTlHa0UwNHUxQSt1ZjdWRXgzTDBJbFJLZnc5eXNLdTlOL3M5VVVwbzl5NWZpdjVkTApQeWJsdHFzdWlRWXZIVmFYK1FnY3N3Nk5CQT09Cj1XQlFTCi0tLS0tRU5EIFBHUCBNRVNTQUdFLS0tLS0K"
   ]
  },
  {
   "cell_type": "code",
   "execution_count": null,
   "metadata": {},
   "outputs": [
    {
     "name": "stderr",
     "output_type": "stream",
     "text": [
      "/data/homes_data/sudheer/benchmark_data/sedona_venv/lib/python3.12/site-packages/jupyter_client/session.py:721: UserWarning: Message serialization failed with:\n",
      "Out of range float values are not JSON compliant: nan\n",
      "Supporting this message is deprecated in jupyter-client 7, please make sure your message is JSON-compliant\n",
      "  content = self.pack(content)\n"
     ]
    },
    {
     "data": {
      "application/vnd.jupyter.widget-view+json": {
       "model_id": "cc76fdf26c8f4a20beab056580dd247c",
       "version_major": 2,
       "version_minor": 0
      },
      "text/plain": [
       "KeplerGl(config={'version': 'v1', 'config': {'visState': {'filters': [], 'layers': [{'id': '7f1zywf', 'type': …"
      ]
     },
     "execution_count": 34,
     "metadata": {},
     "output_type": "execute_result"
    }
   ],
   "source": [
    "map.add_data(\n",
    "    data=prep_for_map(df1, obj.crs, geom_col=\"geometry\"), \n",
    "    name=\"comune\"\n",
    "    )\n",
    "map"
   ]
  },
  {
   "cell_type": "code",
   "execution_count": 17,
   "metadata": {},
   "outputs": [
    {
     "name": "stdout",
     "output_type": "stream",
     "text": [
      "User Guide: https://docs.kepler.gl/docs/keplergl-jupyter\n"
     ]
    },
    {
     "data": {
      "application/vnd.jupyter.widget-view+json": {
       "model_id": "3d1da6fa92384e37ba4e1bd81d65337f",
       "version_major": 2,
       "version_minor": 0
      },
      "text/plain": [
       "KeplerGl(data={'temp': {'index': [0, 1, 2, 3, 4, 5, 6, 7, 8, 9, 10, 11, 12, 13, 14, 15, 16, 17, 18, 19, 20, 21…"
      ]
     },
     "execution_count": 17,
     "metadata": {},
     "output_type": "execute_result"
    }
   ],
   "source": [
    "#ENCRYPTED\n",
    "# This cell is encrypted. Will be made public soon. Contact: sudheer.siddabattula@gmail.com for access/details\n",
    "\n",
    "LS0tLS1CRUdJTiBQR1AgTUVTU0FHRS0tLS0tCgp3Y0JNQTB5VXBDMWwzUy9oQVFmN0IxaFhpN3crb1REbjVmaHN6bVBubG1RR1ZUNjIxV1ViZVA4UVFYTHFFU1pmClVqTkx3MDhvaGdDNFdubDVLYkJoY3AwN0FnZEdaaStNcnFwQjM1OWJXYkNoS2sveC9FcHd4STRWU2d4U2lEcWEKSzBKODlaNk5HcGF5RTc0Y2F1eWdSaVFURkFvRHZVcVVFYnBnczU1V0RUWkxYbnQ2L2NreFJEM2VhM3VtbGhneAo1RmRDN1BUWmZHY3R6QjBmYURyNkdwY1hURWUrdkJ0NEVlREVDdWhNV0NKYzJnZ2xRRUVBa2pLUEoyeDBJOVdRCkpEc3k5UUVqVnZYeUV2T2Q2UFFhUlgzSE05dnJMcmMvWE00OHFEeEEzK09xVGZPOHFtOXRhbk9FQVc2VExRSVMKWEoraFc0ZyttenVvOUVTZ25TWmtVZjBMYmNrZ2EzMDlVMUc1ZjVyQjV0TEFCUUdURXJSTHFXVDY3NmNyRi9jNwpsaXNaZmNpbXBOd0Nuc0hiSjE0YnFxT1hyQytyRVFCVzZmM1VBeDRHcy8wUENrS0FQSTRGeDY2b3pPNW1wWm5mCjZrb1VJOWlFRGxEVkRLZVc4NmtzWGNCeGszOHFtM2toTTB5aiswSDkxMW1hemZEYWNVSzQ0aWJwaTNIMmhEWXAKNFRvUkp4STBtalNEUmI5WjhkVElST05ocytyWmNpci8vTXlSYUZkZEFiSEcxVlp6ZFhPTElic1FDZmx6RjNILwptdlB2WW9iejEzVWhkcklWYzAycGlHbVZjaE5EQkNVMkdmcXlLUS92cElkeWM5MCt0Sys3Cj1DYmovCi0tLS0tRU5EIFBHUCBNRVNTQUdFLS0tLS0K"
   ]
  },
  {
   "cell_type": "code",
   "execution_count": null,
   "metadata": {},
   "outputs": [],
   "source": [
    "#ENCRYPTED\n",
    "# This cell is encrypted. Will be made public soon. Contact: sudheer.siddabattula@gmail.com for access/details\n",
    "\n",
    "LS0tLS1CRUdJTiBQR1AgTUVTU0FHRS0tLS0tCgp3Y0JNQTB5VXBDMWwzUy9oQVFmK0xuZ0t6STZtaEY3VG83RXVPK290bjBsL3RaRG9hZ0NwTWhqNVgyVnpUUklpClpDU3pja1NTMFRzcG5ZNGdVeXVibXBNYmRBeWdsdC9jUzBZeld6OU9NUzRHNVVrTXErd0c1d3V0S2Y0TDZkRjYKYjdMRTk2TWV4SE1aQWlOenl5eXhvOE8yMVptRlRWaU1IYTloWi9RTExQMzFydTZ6WDNPcUlnS2tuTy9KbTFlegp3cFBMaFh1NlIzbzB1MGhuWUtJN2pqMERZYVkxd1VRM01rZzBpM0tvZnhOSjZMdlBPcFkwTHA4V2l2S3hnT1czCjJDU0E5dmZNTUNhTEV0cTlVQkFkRmVEbVFoL0VKeVJyL2p1NUxtU09PYTBHSk82YXowditnQmRPUm9JOG5kWDIKR3A5OEM4amtRR0QyMVJKaHg0U3ZsSVFPcDMzbGJaNlhhdlV5bnVDRDh0TEJCd0VSSE9tV1JwUjRZZ0hDV0pKNgpOS1hqYU45UjBjbXFJeWxiWGt5amhiU2h5S1dEdWpUaHJuV0sySGlCdngxL2dhSnlUYmFFNEdsdWV0WEJxVUQ0ClRTdXg0MWswdFJBcGxDZXhOWFFiSFFTTzJsekN4ZUViek9uNC9rYVVnZk9jWkRTUmpHWE44MU5MNnBncUhnNW0KTm5sQUNTWThqS21EL2pWVlpJem13WldqYXJ0em5oY0J0YVVUVGd4MXRjZmlKRDNWZWg4RXFLbmNMZEtDdDNDWgpkc3JqSG51aTVQbUF3K1Q3YmY4WXhBRERtZm12OGd0ZXEya0ZXM2lqTUN0YjVucERrcFdoRWF1dy8xUjk4VVhJCmpwckgrR1lOZ1drWEJrWXBvVGxjQnRlai9ra0NYUEJlZi9YdWlYM0h6R1NwQ3VwRDNBdG1DdUo3NDZ5V3lYM0sKQmpXYVlLMHA0QlNXYTlQNVN3K2drNkI2TENMbGRLN3VRYyt4T29iUW0zeGRYMm5ZNy80bG9FQStCclR4VUUvQgo5OC9KNCs4R1RDQWtXU3dGdVI5UnJuRVozc2JINVpEQy9VUGNSYzYvdGpOTUpFUzMxVmlTSGVZVFZpMGJpV0gyCnFNUmdFQ0IrYllYbVA3UlkyOFdzcWlCcDdXeHlkYUMwVERFclBDeUN6Yi9UeW9HN1hwVFNnTUFzekVKM2ZielkKVkNJSmZUSnNaWld1czlwcnBEVG1NTUJyR2R1Y3VEN0d6cFNqUC9FVkFwcE9jY0NVaFZKM1pUSUUweGlnOHU4cgpQWGN3cjhMNzV6Ym8KPWNMYjQKLS0tLS1FTkQgUEdQIE1FU1NBR0UtLS0tLQo="
   ]
  },
  {
   "cell_type": "code",
   "execution_count": null,
   "metadata": {},
   "outputs": [],
   "source": []
  },
  {
   "cell_type": "code",
   "execution_count": null,
   "metadata": {},
   "outputs": [],
   "source": []
  },
  {
   "cell_type": "code",
   "execution_count": null,
   "metadata": {},
   "outputs": [],
   "source": []
  },
  {
   "cell_type": "code",
   "execution_count": null,
   "metadata": {},
   "outputs": [],
   "source": [
    "# import geopandas as gpd\n",
    "\n",
    "# path = \"./data/pickle_parquets/others/grids_new_X_comuni_EU\"\n",
    "\n",
    "# gdf = gpd.read_parquet(path)\n",
    "\n",
    "# crs = gdf.crs\n",
    "\n",
    "# if crs:\n",
    "#     print(f\"The CRS of the GeoParquet file is: {crs}\")\n",
    "# else:\n",
    "#     print(\"The CRS of the GeoParquet file is undefined.\")\n",
    "    \n",
    "# if crs:\n",
    "#     formatted_crs = CRS(crs)  \n",
    "#     print(f\"CRS: {formatted_crs.to_string()}\") \n",
    "#     print(f\"EPSG Code: {formatted_crs.to_epsg()}\")  \n",
    "#     print(f\"PROJ String: {formatted_crs.to_proj4()}\")  \n",
    "#     print(f\"WKT Format: {formatted_crs.to_wkt()}\")  \n",
    "# else:\n",
    "#     print(\"The CRS of the GeoParquet file is undefined.\")"
   ]
  }
 ],
 "metadata": {
  "kernelspec": {
   "display_name": "sedona_venv",
   "language": "python",
   "name": "python3"
  },
  "language_info": {
   "codemirror_mode": {
    "name": "ipython",
    "version": 3
   },
   "file_extension": ".py",
   "mimetype": "text/x-python",
   "name": "python",
   "nbconvert_exporter": "python",
   "pygments_lexer": "ipython3",
   "version": "3.12.3"
  }
 },
 "nbformat": 4,
 "nbformat_minor": 4
}
