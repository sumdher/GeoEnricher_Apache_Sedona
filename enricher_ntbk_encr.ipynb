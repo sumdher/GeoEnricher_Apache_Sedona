{
 "cells": [
  {
   "cell_type": "code",
   "execution_count": 2,
   "metadata": {},
   "outputs": [
    {
     "name": "stdout",
     "output_type": "stream",
     "text": [
      "Unexpected exception formatting exception. Falling back to standard exception\n"
     ]
    },
    {
     "name": "stderr",
     "output_type": "stream",
     "text": [
      "Traceback (most recent call last):\n",
      "  File \"/data/homes_data/sudheer/benchmark_data/sedona_venv/lib/python3.12/site-packages/IPython/core/interactiveshell.py\", line 3577, in run_code\n",
      "  File \"/tmp/ipykernel_2796684/803073441.py\", line 14, in <module>\n",
      "    from pyspark.sql import DataFrame as SparkDataFrame\n",
      "ModuleNotFoundError: No module named 'pyspark'\n",
      "\n",
      "During handling of the above exception, another exception occurred:\n",
      "\n",
      "Traceback (most recent call last):\n",
      "  File \"/data/homes_data/sudheer/benchmark_data/sedona_venv/lib/python3.12/site-packages/pygments/styles/__init__.py\", line 45, in get_style_by_name\n",
      "ModuleNotFoundError: No module named 'pygments.styles.default'\n",
      "\n",
      "During handling of the above exception, another exception occurred:\n",
      "\n",
      "Traceback (most recent call last):\n",
      "  File \"/data/homes_data/sudheer/benchmark_data/sedona_venv/lib/python3.12/site-packages/IPython/core/interactiveshell.py\", line 2168, in showtraceback\n",
      "  File \"/data/homes_data/sudheer/benchmark_data/sedona_venv/lib/python3.12/site-packages/IPython/core/ultratb.py\", line 1457, in structured_traceback\n",
      "  File \"/data/homes_data/sudheer/benchmark_data/sedona_venv/lib/python3.12/site-packages/IPython/core/ultratb.py\", line 1348, in structured_traceback\n",
      "  File \"/data/homes_data/sudheer/benchmark_data/sedona_venv/lib/python3.12/site-packages/IPython/core/ultratb.py\", line 1195, in structured_traceback\n",
      "  File \"/data/homes_data/sudheer/benchmark_data/sedona_venv/lib/python3.12/site-packages/IPython/core/ultratb.py\", line 1085, in format_exception_as_a_whole\n",
      "  File \"/data/homes_data/sudheer/benchmark_data/sedona_venv/lib/python3.12/site-packages/IPython/core/ultratb.py\", line 1136, in get_records\n",
      "  File \"/data/homes_data/sudheer/benchmark_data/sedona_venv/lib/python3.12/site-packages/pygments/styles/__init__.py\", line 47, in get_style_by_name\n",
      "pygments.util.ClassNotFound: Could not find style module 'pygments.styles.default', though it should be builtin.\n"
     ]
    }
   ],
   "source": [
    "# ENCRYPTED\n",
    "# This cell is encrypted. Will be made public soon. Contact: sudheer.siddabattula@gmail.com for access/details\n",
    "\n",
    "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"
   ]
  },
  {
   "cell_type": "code",
   "execution_count": null,
   "metadata": {},
   "outputs": [
    {
     "name": "stdout",
     "output_type": "stream",
     "text": [
      "sedona initialized with 10 cores for parellelism.\n",
      "\n",
      "Loading datasets...\n",
      "Loaded 'nuts': [1,793 rows, 9 cols], 'EPSG:3035'\n",
      "1 datasets loaded. \n",
      "\n",
      "Making sure the geometry column is named \"geometry\" in the datasets\n",
      "\n"
     ]
    }
   ],
   "source": [
    "\n",
    "# Loading data from files.\n",
    "# This will take a while. Because it cleans and makes some essential transformations.\n",
    "# But it is a one-time operation. `parquet_all()` will save all datasets to the disk, preserving any transformations applied.\n",
    "# From next time, you can directly load them  with: `load_from_parquets()`.\n",
    "\n",
    "# Provide the data directory\n",
    "data_dir = f\"./data\"\n",
    "\n",
    "# Individual file paths:\n",
    "path_com_EU = f\"{data_dir}/data_EU/comuni_shp/\"\n",
    "path_contr = f\"{data_dir}/data_EU/countries_shp/\"\n",
    "path_grids = f\"{data_dir}/data_EU/census_grid_EU/grids_OG_corrected.parquet\"\n",
    "path_grids_new = f\"{data_dir}/data_EU/census_grid_EU/grids_new.gpkg\"\n",
    "path_reg = f\"{data_dir}/data_Italy/regioni/\"\n",
    "path_prov = f\"{data_dir}/data_Italy/provinci\"\n",
    "path_com = f\"{data_dir}/data_Italy/comuni/\"\n",
    "path_hlth = f\"{data_dir}/data_EU/services/healthcare_dropna.gpkg\"\n",
    "path_edu = f\"{data_dir}/data_EU/services/education_dropna.gpkg\"\n",
    "path_acc_health = f\"{data_dir}/data_EU/accessibility/healthcare/grid_accessibility_health.geoparquet\"\n",
    "path_acc_edu = f\"{data_dir}/data_EU/accessibility/education/grid_accessibility_educ.geoparquet\"\n",
    "path_NUTS = f\"{data_dir}/NUTS.shp\"\n",
    "path_LAU = f\"{data_dir}/LAU.shp\"\n",
    "path_DGURBA = f\"{data_dir}/DGURBA\"\n",
    "\n",
    "# Dataset names and their file formats:\n",
    "# format: {dataset_name: (path, file_format), ...}\n",
    "\n",
    "datasets: dict[str, tuple[str, str]] = {\n",
    "    # \"comuni_EU\": (path_com_EU, \"shapefile\"),\n",
    "    # \"countries\": (path_contr, \"shapefile\"),\n",
    "    # \"pop_grids\": (path_grids, \"geoparquet\"),\n",
    "    # # \"pop_grids_new\": (path_grids_new, \"geopackage\"),\n",
    "    # \"regions_IT\": (path_reg, \"shapefile\"),\n",
    "    # \"provinces_IT\": (path_prov, \"shapefile\"),\n",
    "    # \"comuni_IT\": (path_com, \"shapefile\"),\n",
    "    # \"healthcare\": (path_hlth, \"geopackage\"),\n",
    "    # \"education\": (path_edu, \"geopackage\"),\n",
    "    # \"acc_health\": (path_acc_health, \"geoparquet\"),\n",
    "    # \"acc_edu\": (path_acc_edu, \"geoparquet\"),\n",
    "    # \"nuts\": (path_NUTS, \"shapefile\"),\n",
    "    # \"lau\": (path_LAU, \"shapefile\"),\n",
    "    \"dg_urban\": (path_DGURBA, \"shapefile\"),\n",
    "}\n",
    "\n",
    "obj = Enricher(crs=\"EPSG:3035\")\n",
    "\n",
    "# Setup the Enricher object with \"sedona\" (or, \"wherobots\")\n",
    "# \"ex_mem\" and \"dr_mem\" are the executor and driver memory in GB\n",
    "obj.setup_cluster(\n",
    "    data_dir=data_dir, \n",
    "    which=\"sedona\", \n",
    "    ex_mem=26,  # change this\n",
    "    dr_mem=24,  # change this\n",
    "    log_level=\"ERROR\"\n",
    ")\n",
    "\n",
    "# Use \"load()\" to load all the datasets in {data_dir}, \n",
    "# according to the paths and file formats provided in \"datasets{}\"\n",
    "obj.load(datasets, silent=True)\n",
    "\n",
    "# Optionally, run \"fix_geometries()\" to fix invalid geometries if any; \n",
    "# if you want to skip the check for some dataframes, pass their names in \"skip[]\"\n",
    "obj.fix_geometries(\n",
    "    skip=['pop_grids', 'pop_grids_new']\n",
    ")\n",
    "\n",
    "# Optionally, inspect the partitions and data skew:\n",
    "# obj.inspect_partitions()\n",
    "\n",
    "# and force the dataframes to be repartitioned to the number of available cores\n",
    "# pass the names of the dataframes to be skipped in skip[]\n",
    "obj.force_repartition(skip=['pop_grids'])\n",
    "\n",
    "# obj.inspect_partitions()\n",
    "\n",
    "# Transform the CRS of loaded datasets to the CRS passed in the Enricher constructor\n",
    "# lazy=True will not cache the dataframes. \n",
    "obj.transform_CRS(lazy=False)\n",
    "\n",
    "# Pickle all the dataframes to disk for quick access later.\n",
    "# default directory: \"./{data_dir}/pickle_parquets/dfs_list\"\n",
    "# you may change the directory where they are saved by pasing it in \"parquet_dir\"; relative to the {data_dir}\n",
    "obj.parquet_all(preserve_partitions=True)\n"
   ]
  },
  {
   "cell_type": "code",
   "execution_count": null,
   "metadata": {},
   "outputs": [
    {
     "name": "stdout",
     "output_type": "stream",
     "text": [
      "Making buffer the default geometry column. Old geometries in: `geometry_old`.\n",
      "Made buffers for healthcare\n"
     ]
    }
   ],
   "source": [
    "# obj.make_buffers(\n",
    "#     df=[\n",
    "#         \"healthcare\", \n",
    "#     ],\n",
    "#     dist=2500, \n",
    "#     change_geom_col=True,\n",
    "#     )"
   ]
  },
  {
   "cell_type": "code",
   "execution_count": 1,
   "metadata": {},
   "outputs": [
    {
     "name": "stdout",
     "output_type": "stream",
     "text": [
      "Unexpected exception formatting exception. Falling back to standard exception\n"
     ]
    },
    {
     "name": "stderr",
     "output_type": "stream",
     "text": [
      "Traceback (most recent call last):\n",
      "  File \"/data/homes_data/sudheer/benchmark_data/sedona_venv/lib/python3.12/site-packages/IPython/core/interactiveshell.py\", line 3577, in run_code\n",
      "  File \"/tmp/ipykernel_2796684/3314401817.py\", line 9, in <module>\n",
      "    obj = Enricher(crs=\"EPSG:3035\")\n",
      "          ^^^^^^^^\n",
      "NameError: name 'Enricher' is not defined\n",
      "\n",
      "During handling of the above exception, another exception occurred:\n",
      "\n",
      "Traceback (most recent call last):\n",
      "  File \"/data/homes_data/sudheer/benchmark_data/sedona_venv/lib/python3.12/site-packages/pygments/styles/__init__.py\", line 45, in get_style_by_name\n",
      "ModuleNotFoundError: No module named 'pygments.styles.default'\n",
      "\n",
      "During handling of the above exception, another exception occurred:\n",
      "\n",
      "Traceback (most recent call last):\n",
      "  File \"/data/homes_data/sudheer/benchmark_data/sedona_venv/lib/python3.12/site-packages/IPython/core/interactiveshell.py\", line 2168, in showtraceback\n",
      "  File \"/data/homes_data/sudheer/benchmark_data/sedona_venv/lib/python3.12/site-packages/IPython/core/ultratb.py\", line 1457, in structured_traceback\n",
      "  File \"/data/homes_data/sudheer/benchmark_data/sedona_venv/lib/python3.12/site-packages/IPython/core/ultratb.py\", line 1348, in structured_traceback\n",
      "  File \"/data/homes_data/sudheer/benchmark_data/sedona_venv/lib/python3.12/site-packages/IPython/core/ultratb.py\", line 1195, in structured_traceback\n",
      "  File \"/data/homes_data/sudheer/benchmark_data/sedona_venv/lib/python3.12/site-packages/IPython/core/ultratb.py\", line 1085, in format_exception_as_a_whole\n",
      "  File \"/data/homes_data/sudheer/benchmark_data/sedona_venv/lib/python3.12/site-packages/IPython/core/ultratb.py\", line 1136, in get_records\n",
      "  File \"/data/homes_data/sudheer/benchmark_data/sedona_venv/lib/python3.12/site-packages/pygments/styles/__init__.py\", line 47, in get_style_by_name\n",
      "pygments.util.ClassNotFound: Could not find style module 'pygments.styles.default', though it should be builtin.\n"
     ]
    }
   ],
   "source": [
    "''' \n",
    "Load data from pickled parquets \n",
    "\n",
    "'''\n",
    "\n",
    "# Provide the data directory\n",
    "data_dir = \"./data\"\n",
    "\n",
    "obj = Enricher(crs=\"EPSG:3035\")\n",
    "\n",
    "# Setup the Enricher object with \"sedona\" (or, \"wherobots\")\n",
    "# \"ex_mem\" and \"dr_mem\" are the executor and driver memory in GB\n",
    "obj.setup_cluster(\n",
    "    data_dir=data_dir, \n",
    "    which=\"sedona\", \n",
    "    ex_mem=26, \n",
    "    dr_mem=24, \n",
    "    log_level=\"ERROR\"\n",
    "    )\n",
    "\n",
    "# Loads all the datasets from pickled parquets in the default direcoty: \"./{data_dir}/pickle_parquets/dfs_list\"\n",
    "# optionally, to load from a different directory, pass the directory path in \"parquet_dir\"; reative to the {data_dir}\n",
    "obj.load_from_parquets()\n",
    "# obj.inspect_partitions()"
   ]
  },
  {
   "cell_type": "code",
   "execution_count": 5,
   "metadata": {},
   "outputs": [
    {
     "name": "stdout",
     "output_type": "stream",
     "text": [
      "['COMM_ID', 'CNTR_ID', 'CNTR_CODE', 'COMM_NAME', 'NAME_ASCI', 'TRUE_FLAG', 'NSI_CODE', 'NAME_NSI', 'NAME_LATN', 'NUTS_CODE', 'FID', 'geometry', 'T_agr_sum', 'M_agr_sum', 'F_agr_sum', 'Y_LT15_agr_sum', 'Y_1564_agr_sum', 'Y_GE65_agr_sum', 'EMP_agr_sum', 'NAT_agr_sum', 'EU_OTH_agr_sum', 'OTH_agr_sum', 'SAME_agr_sum', 'CHG_IN_agr_sum', 'CHG_OUT_agr_sum', 'LAND_SURFACE_agr_sum', 'dist_health_agr_mean', 'dist_educ_agr_mean', 'DIST_BORD_agr_mean', 'DIST_COAST_agr_mean', 'cap_beds_sum', 'cap_prac_sum', 'cap_rooms_sum', 'hospitals', 'centroid', 'cen_x', 'cen_y']\n"
     ]
    }
   ],
   "source": [
    "print(obj.dfs_list['com_X_pop_accssblty_hosps'].columns)"
   ]
  },
  {
   "cell_type": "code",
   "execution_count": null,
   "metadata": {},
   "outputs": [],
   "source": []
  },
  {
   "cell_type": "code",
   "execution_count": 14,
   "metadata": {},
   "outputs": [
    {
     "name": "stdout",
     "output_type": "stream",
     "text": [
      "DGURBA: ['geometry', 'GISCO_ID', 'CNTR_CODE', 'LAU_ID', 'LAU_NAME', 'DGURBA', 'SHAPE_AREA', 'SHAPE_LEN']\n",
      "\n",
      "\n",
      "LAU: ['geometry', 'GISCO_ID', 'CNTR_CODE', 'LAU_ID', 'LAU_NAME', 'POP_2023', 'POP_DENS_2', 'AREA_KM2', 'YEAR']\n",
      "\n",
      "\n",
      "NUTS: ['geometry', 'NUTS_ID', 'LEVL_CODE', 'CNTR_CODE', 'NAME_LATN', 'NUTS_NAME', 'MOUNT_TYPE', 'URBN_TYPE', 'COAST_TYPE']\n",
      "\n",
      "\n",
      "com_X_pop_accssblty_hosps: ['COMM_ID', 'CNTR_ID', 'CNTR_CODE', 'COMM_NAME', 'NAME_ASCI', 'TRUE_FLAG', 'NSI_CODE', 'NAME_NSI', 'NAME_LATN', 'NUTS_CODE', 'FID', 'geometry', 'T_agr_sum', 'M_agr_sum', 'F_agr_sum', 'Y_LT15_agr_sum', 'Y_1564_agr_sum', 'Y_GE65_agr_sum', 'EMP_agr_sum', 'NAT_agr_sum', 'EU_OTH_agr_sum', 'OTH_agr_sum', 'SAME_agr_sum', 'CHG_IN_agr_sum', 'CHG_OUT_agr_sum', 'LAND_SURFACE_agr_sum', 'dist_health_agr_mean', 'dist_educ_agr_mean', 'DIST_BORD_agr_mean', 'DIST_COAST_agr_mean', 'cap_beds_sum', 'cap_prac_sum', 'cap_rooms_sum', 'hospitals', 'centroid', 'cen_x', 'cen_y']\n"
     ]
    }
   ],
   "source": [
    "print(f\"DGURBA: {obj.dfs_list['dg_urban'].columns}\")\n",
    "print()\n",
    "print()\n",
    "print(f\"LAU: {obj.dfs_list['lau'].columns}\")\n",
    "print()\n",
    "print()\n",
    "print(f\"NUTS: {obj.dfs_list['nuts'].columns}\")\n",
    "print()\n",
    "print()\n",
    "print(f\"com_X_pop_accssblty_hosps: {obj.dfs_list['com_X_pop_accssblty_hosps'].columns}\")\n"
   ]
  },
  {
   "cell_type": "code",
   "execution_count": null,
   "metadata": {},
   "outputs": [
    {
     "name": "stdout",
     "output_type": "stream",
     "text": [
      "root\n",
      " |-- geometry: geometry (nullable = true)\n",
      " |-- GISCO_ID: string (nullable = true)\n",
      " |-- CNTR_CODE: string (nullable = true)\n",
      " |-- LAU_ID: string (nullable = true)\n",
      " |-- LAU_NAME: string (nullable = true)\n",
      " |-- DGURBA: long (nullable = true)\n",
      " |-- SHAPE_AREA: decimal(19,11) (nullable = true)\n",
      " |-- SHAPE_LEN: decimal(19,11) (nullable = true)\n",
      "\n"
     ]
    }
   ],
   "source": [
    "obj.dfs_list['dg_urban'].printSchema()"
   ]
  },
  {
   "cell_type": "code",
   "execution_count": 12,
   "metadata": {},
   "outputs": [
    {
     "name": "stdout",
     "output_type": "stream",
     "text": [
      "+--------------------+\n",
      "|            NAME_NSI|\n",
      "+--------------------+\n",
      "|Kobersdorf\u0000\u0000\u0000\u0000\u0000\u0000\u0000...|\n",
      "|Blindenmarkt\u0000\u0000\u0000\u0000\u0000...|\n",
      "|Dietmanns\u0000\u0000\u0000\u0000\u0000\u0000\u0000\u0000...|\n",
      "|Schwarzenbach\u0000\u0000\u0000\u0000...|\n",
      "|Schörfling am Att...|\n",
      "+--------------------+\n",
      "only showing top 5 rows\n",
      "\n"
     ]
    }
   ],
   "source": [
    "(obj.dfs_list['com_X_pop_accssblty_hosps'].select('NAME_NSI')).show(5)\n",
    "# (obj.dfs_list['dg_urban'].select('LAU_NAME')).show(5)\n",
    "# (ress.select('DGURBA')).show(100)"
   ]
  },
  {
   "cell_type": "code",
   "execution_count": null,
   "metadata": {},
   "outputs": [
    {
     "name": "stdout",
     "output_type": "stream",
     "text": [
      "User Guide: https://docs.kepler.gl/docs/keplergl-jupyter\n",
      "Auto-detected geometry columns: ['geometry', 'centroid']\n",
      "in string binary WKB\n",
      "in string binary WKB\n"
     ]
    },
    {
     "data": {
      "application/vnd.jupyter.widget-view+json": {
       "model_id": "d4606661220b474a93f11bf684d21288",
       "version_major": 2,
       "version_minor": 0
      },
      "text/plain": [
       "KeplerGl(data={'unnamed_0': {'index': [0, 1, 2, 3, 4, 5, 6, 7, 8, 9, 10, 11, 12, 13, 14, 15, 16, 17, 18, 19, 2…"
      ]
     },
     "execution_count": 23,
     "metadata": {},
     "output_type": "execute_result"
    }
   ],
   "source": [
    "# ENCRYPTED\n",
    "# This cell is encrypted. Will be made public soon. Contact: sudheer.siddabattula@gmail.com for access/details\n",
    "\n",
    "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"
   ]
  },
  {
   "cell_type": "code",
   "execution_count": 24,
   "metadata": {},
   "outputs": [
    {
     "name": "stdout",
     "output_type": "stream",
     "text": [
      "Map saved to ./municipalities_beds_ratio_DGURBAN.html!\n"
     ]
    }
   ],
   "source": [
    "obj.map.save_to_html(file_name=\"./municipalities_beds_ratio_DGURBAN.html\")"
   ]
  },
  {
   "cell_type": "code",
   "execution_count": null,
   "metadata": {},
   "outputs": [
    {
     "data": {
      "text/plain": [
       "DataFrame[geometry: udt, COMM_ID: string, CNTR_ID: string, CNTR_CODE: string, COMM_NAME: string, NAME_ASCI: string, TRUE_FLAG: string, NSI_CODE: string, NAME_NSI: string, NAME_LATN: string, NUTS_CODE: string, FID: string, level: int, GISCO_ID: string, LAU_ID: string, LAU_NAME: string, POP_2023: decimal(24,15), POP_DENS_2: decimal(24,15), AREA_KM2: decimal(24,15), YEAR: bigint, DGURBA: bigint, SHAPE_AREA: decimal(19,11), SHAPE_LEN: decimal(19,11)]"
      ]
     },
     "execution_count": 3,
     "metadata": {},
     "output_type": "execute_result"
    }
   ],
   "source": [
    "# ENCRYPTED\n",
    "# This cell is encrypted. Will be made public soon. Contact: sudheer.siddabattula@gmail.com for access/details\n",
    "\n",
    "LS0tLS1CRUdJTiBQR1AgTUVTU0FHRS0tLS0tCgp3Y0JNQTNPRWs1MWpOSTZhQVFmL1dUSkhHWUNBWEhjelpKVGR4TVFZVjNtclV6ZXN1c2pUNVVhQTJLZEhteTZFCnR0U092LzVraHZiTWtvRmI4a2h6ZnJ0NW9IbVlQUkYrb3l6L3ltV041dWE4ajJ6MW1BbkpZUUJIZDc5WTRlRlMKbkpLQUg5a2Z1cDB2anJEdlNMeFFSaHFtOUZNM3B5SElocEtrelZsZGpoUERMMzBJSTZ0bGU5SkF6NWNoSWl0UAo0OTY5Sk5UaWFFRlVZaDBWUW9XaUtFSWRTWUpYRGZGQzViN1A4Y0xvVG9zallzUllEK2RiQ0s3R1d5QXdYSTl4Cnh6bXdSMG5DcGp5cnZzRkltN09BbUxocHAyN0lMakFISHhPLzF2ZVVSOS9DWkd1dTVTYUhpUVRiVzFJVjBlS2UKdU9nR1VQdTROc1hjblEvb2MvOGR4N2dzYXhKRGVXdk9zR0puVFQyUFJ0TEF6UUZzN2hmK3B4ZFBWditkbmY4Lwo1Wm8wOE9YTVlmcHlUVEl6VHJtcDcrUkhyQStGYWZEMjhDYUl1dCtSd3pCUWZwOVI4ejE0aHAzZ3RFeTg5OUs5CjNtaTRKS0wxYVNEV2lXcFJ1WWh6eGVlZ0s0Vm5EbGxSbW5wWUtPeWNmNCsvR0N2MlNDNVBtNXFQRnI5UmQwTGkKclRETWhlYitrVGdOV2F2MkVleTlyOS9HMm9ueXc1TWRGdmZYdWRMalliaEJUcjVVNmZaSldWRnJEcUFsRFBFQQorZnNPUFZtV0M4c3FaOXVrQ1RqU1d3d1hRa3RtSFZQclZXZWYzTjdsb25BYm9aTXQ4OUw1a1hHMlBKQk0wOEY3CithSmg5anUyZHNVaUNGb1FRSElCcFNDU3dyVmRTcVpHMEpEclFlTWFFZFJ1QkZqV0k4emFZaEhXcDdML0t6Y04Kbld6enkxbjhPdVlCT3hRUXhmWnNqMWJ2QTh0WHExbENIQUxFSGYxWE1BOGpuOC81L0pVMlYwV2s2RUFBaVlDUwpCc2dUbEllSnpYWVVDOWJXdjZ3QVVhTnpNMkVzSXhiNURrQlB3dHN1QjFpdHpoVnpLcVlaOGt1d0piY0Z2Tk9nClA5V1ovMXUyZ1Z0bGRDNVUyblRFdTZoODJyK1RNSHlmd3djQ25tL1pFMVJFNjRPbzlHeUZBaXdZRm4wWW1Zbz0KPU1aZVUKLS0tLS1FTkQgUEdQIE1FU1NBR0UtLS0tLQo="
   ]
  },
  {
   "cell_type": "code",
   "execution_count": 8,
   "metadata": {},
   "outputs": [
    {
     "data": {
      "text/plain": [
       "['geometry',\n",
       " 'CNTR_ID',\n",
       " 'CNTR_NAME',\n",
       " 'NAME_ENGL',\n",
       " 'NAME_FREN',\n",
       " 'ISO3_CODE',\n",
       " 'SVRG_UN',\n",
       " 'CAPT',\n",
       " 'EU_STAT',\n",
       " 'EFTA_STAT',\n",
       " 'CC_STAT',\n",
       " 'NAME_GERM']"
      ]
     },
     "execution_count": 8,
     "metadata": {},
     "output_type": "execute_result"
    }
   ],
   "source": [
    "obj.dfs_list['countries'].columns\n"
   ]
  },
  {
   "cell_type": "code",
   "execution_count": null,
   "metadata": {},
   "outputs": [
    {
     "name": "stderr",
     "output_type": "stream",
     "text": [
      "                                                                                \r"
     ]
    },
    {
     "name": "stdout",
     "output_type": "stream",
     "text": [
      "4594018\n"
     ]
    },
    {
     "name": "stderr",
     "output_type": "stream",
     "text": [
      "[Stage 16:===================================================>     (9 + 1) / 10]\r"
     ]
    },
    {
     "name": "stdout",
     "output_type": "stream",
     "text": [
      "4618273\n"
     ]
    },
    {
     "name": "stderr",
     "output_type": "stream",
     "text": [
      "                                                                                \r"
     ]
    },
    {
     "data": {
      "text/plain": [
       "DataFrame[GRD_ID: string, T: bigint, M: double, F: double, Y_LT15: double, Y_1564: double, Y_GE65: double, EMP: double, NAT: double, EU_OTH: double, OTH: double, SAME: double, CHG_IN: double, CHG_OUT: double, LAND_SURFACE: double, POPULATED: bigint, CONFIDENTIALSTATUS: double, geometry: udt, dist_health: double, dist_educ: double, DIST_BORD: double, DIST_COAST: double, CNTR_ID: string, CNTR_NAME: string, NAME_ENGL: string, ISO3_CODE: string, SVRG_UN: string, CAPT: string, EU_STAT: string, EFTA_STAT: string, CC_STAT: string]"
      ]
     },
     "execution_count": 4,
     "metadata": {},
     "output_type": "execute_result"
    }
   ],
   "source": [
    "# ENCRYPTED\n",
    "# This cell is encrypted. Will be made public soon. Contact: sudheer.siddabattula@gmail.com for access/details\n",
    "\n",
    "LS0tLS1CRUdJTiBQR1AgTUVTU0FHRS0tLS0tCgp3Y0JNQTNPRWs1MWpOSTZhQVFmL1ZtTjFZanRldmhValpINFoyQVROOENjMGxJY3lPYUtQcEFXMlRkUFlIWE15ClJPL0x0NUkyaW5VQ1hTSnFZcVZIVm1nYjdvZ012VTlLRmdKVHVnVFp5UmY0d3pOSmJBYjVnUDZ0UGRFMlhLc0YKZjlpeEtCTTJwbDhZUFBzZnpJdFRGSkpQWjZFbVgrWTZjcTA3eVdQSUpNb1p2RDVld3R0RUI0eTFyM0NwbzA1Lwpidk9KTlA2NHVlSUhZZTBpemQ4c3dKbDV3SVZwa2dlelI2R1lOeXdnV1dKUnJCZU5hR2hjb2FvTVlMQjNBLzVXClBGckFKYXJwQkFoSkM5UU9hU2pJUGZDdkJEbVI2U1ZoL2JWdjBlM1FTZFAyWVE3bXF5ZVVvU1JtcHlINWN6OXoKT0lPRnl3Z2k2NEFSc0UzWXROYTR0cjF0ck5tL3ovcHZxejgzYUJYbi85TENSZ0VDNU5RVFdaeGhMQlVqSVVtRApvU2I4eHQ5ZzFxdVQxbVFQYy9CUU81ck8wQzJOK2RLU3RoQVQyRGtQVWZQTzhyS005UElaRUM2amNiYnJTWk5oCnBPaldaTmxXeUFpWmFxclMzN1c0cGRIZHh5OVRjc0szdWFWUVQyaDdpTWpGTkVvT2V1ajlMOWN6bjBEa243VGoKYXAvMjdNd0tCb25RV1F0d1RQMTg4VTYrMGdJZ25GVzVBYlBMTE5UNnkvQU9JRlEzU1RMN1NtTC9wcGxtREorZQpCVjBGYlVvZWQxb2RhVG9WMEpjSXlNTkN1QnN2WGJUN09vWUJ3UjBTRmZxQ3l5Mmxnc3VzczZiblZhRUJSZ3VUCnl3TTNkZy8rUEtXMjVIbUxSVkVBc2srbVZNY2JoTDhGdHVNa1ROSGRiRXJLWlhYNTR3MHBscEtPL3h6RmU4MTEKMXJGUytQVEFvamtZQlVIWmlQM3Vmdkx5bkhSMnJKQVg4Y0dLYVZkbXh6Q0dPY25PbzRsQmdwVSs2OVlwR2ZkMwpad1hwd29uMGVQZlJzYzZ6dWdxZDNKdEhhSWUzQ2FXMW5HOW43b204NXcxQ3QyMTZZOVNCTmJnTWtPZWpJcG1WCi9IdDdUU1NPb0hodGpBaWN4MXVDbmxlRnBpTlBGeDlLUndGbmpPOGdWVWxHMjU4VC96dk51VjAra0xUV243eHYKWkU1UFpHTzJRc1JRVlF2Vm4zTlhkZW85bnNoV2NnRE51NFVjNzFud3duSVJWWkJwVEQ5MGhkblgvRHNmdUkvcAo3SStHbjM3Tk5rTFQ4eGZHSkU4THpOaG5WZzJGSlMrYWpKaUcyVUMwZld0YUM5S2tKcHJWd3FQTG80bmlFOGw2CnZNMGtNOGEwQUgrVHhpMHptZ1grZGlFLytwK0M3VjZTMkg0T2ZFbThQU2wxYy96R3UvdVRXV01vU0E0eklUMVEKSkR4ZGU5VkpCRWVRMG9oWXJtOVNmaVRnMlNHNUlVYll5NlhjMkR5aTYxbmZFVEQ4T3NhNGJUS1ZDckN6UVMwYwpGVmlxQkYxNENGdTRhRXN4YmtVSGY3WWxpVGkydWpjbS9sTXZHb2FnQ1NYTGJHY0NrazVpNU1xVXFmK1VENHd0Ci9HMFhRNUFieHZCeHdJYllWaHlpUmZIVmk1UytCa1NIek5sZTRTMGhaNHVQKzlGMTBmbnFMNC8rYnIrcTFVcE4KN3VJZG1sRTB6bzNyUFB0czJialFWYjBXMXJWb0lnUWhISWRhQVB1TE5mOW1zK2x1d0V5REpPS3BZekRaOG1sVApXaHMzNUVKMFU0cWY4Y1JjcjRuWEZ6c1c3UFROekx6WmlMT2FJcVBBQjRnYnVTeWZVc00xUWc9PQo9cEhCawotLS0tLUVORCBQR1AgTUVTU0FHRS0tLS0tCg=="
   ]
  },
  {
   "cell_type": "code",
   "execution_count": 56,
   "metadata": {},
   "outputs": [
    {
     "data": {
      "application/vnd.jupyter.widget-view+json": {
       "model_id": "6dcb52f397d74be5a67d5b023fcc9c3d",
       "version_major": 2,
       "version_minor": 0
      },
      "text/plain": [
       "VBox(children=(HTML(value='<h1>Enrich with Overlay & Aggregation</h1>'), HTML(value=\"<div style='height: 5px;'…"
      ]
     },
     "metadata": {},
     "output_type": "display_data"
    }
   ],
   "source": [
    "'''\n",
    "GUI for Enrich by Overlay\n",
    "\n",
    "'''\n",
    "\n",
    "# pass the Enricher object (loaded with the datasets) to the EnricherUI\n",
    "obj_ui = EnrichOverlay(obj)\n"
   ]
  },
  {
   "cell_type": "code",
   "execution_count": null,
   "metadata": {},
   "outputs": [],
   "source": [
    "# res_agr = obj.load_from_parquet(name=\"grids_X_countries\")\n",
    "\n",
    "obj.plot_this(\n",
    "    ress.filter(F.col('CNTR_ID') == 'IT'),  # str | SparkDataFrame | list[str | SparkDataFrame]\n",
    "    new_map=True  # if it is False, the dataset will be added to the old map (if it exists, or else, makes a new map)\n",
    "    )"
   ]
  },
  {
   "cell_type": "code",
   "execution_count": 7,
   "metadata": {},
   "outputs": [
    {
     "name": "stdout",
     "output_type": "stream",
     "text": [
      "Map saved to ./population_grids_IT.html!\n"
     ]
    }
   ],
   "source": [
    "obj.map.save_to_html(file_name=\"./population_grids_IT.html\")"
   ]
  },
  {
   "cell_type": "code",
   "execution_count": null,
   "metadata": {},
   "outputs": [],
   "source": [
    "# res_agr = obj.load_from_parquet(name=\"grids_X_countries\")\n",
    "\n",
    "obj.plot_this(\n",
    "    [ress],  # str | SparkDataFrame | list[str | SparkDataFrame]\n",
    "    new_map=True  # if it is False, the dataset will be added to the old map (if it exists, or else, makes a new map)\n",
    "    )"
   ]
  },
  {
   "cell_type": "code",
   "execution_count": null,
   "metadata": {},
   "outputs": [
    {
     "name": "stderr",
     "output_type": "stream",
     "text": [
      "[Stage 46:===================================================>     (9 + 1) / 10]\r"
     ]
    },
    {
     "name": "stdout",
     "output_type": "stream",
     "text": [
      "126089\n"
     ]
    },
    {
     "name": "stderr",
     "output_type": "stream",
     "text": [
      "                                                                                \r"
     ]
    }
   ],
   "source": [
    "ress = obj.join_simple(\n",
    "    df1=\"comuni_EU\", \n",
    "    df2=obj.dfs_list['countries'],\n",
    "    enr_cols=[\"CNTR_ID\", \"CNTR_NAME\"])\n",
    "ress.cache()\n",
    "print(ress.count())"
   ]
  },
  {
   "cell_type": "code",
   "execution_count": 34,
   "metadata": {},
   "outputs": [
    {
     "name": "stdout",
     "output_type": "stream",
     "text": [
      "Saving dataframe 'comuni_EU_ENRC' as GeoParquet...\n"
     ]
    },
    {
     "name": "stderr",
     "output_type": "stream",
     "text": [
      "[Stage 180:====================================================>(199 + 1) / 200]\r"
     ]
    },
    {
     "name": "stdout",
     "output_type": "stream",
     "text": [
      "Saved to './data/pickle_parquets/others/comuni_EU_ENRC'\n"
     ]
    },
    {
     "name": "stderr",
     "output_type": "stream",
     "text": [
      "                                                                                \r"
     ]
    }
   ],
   "source": [
    "temp: SparkDataFrame = obj.res_agr\n",
    "# print(temp.columns)\n",
    "\n",
    "# # temp: SparkDataFrame = temp.filter(F.col('CNTR_ID') == 'IT')\n",
    "# print(temp.agg(F.sum('T_agr_sum')).collect()[0][0])\n",
    "\n",
    "obj.parquet_this(\"comuni_EU_ENRC\", temp, preserve_partitions=True)\n",
    "# obj.parquet_this(\"grids_new_X_comuni_EU_IT\", temp, preserve_partitions=False)\n",
    "# temp.cache()"
   ]
  },
  {
   "cell_type": "code",
   "execution_count": null,
   "metadata": {},
   "outputs": [
    {
     "name": "stderr",
     "output_type": "stream",
     "text": [
      "[Stage 215:====================================================>(199 + 1) / 200]\r"
     ]
    },
    {
     "name": "stdout",
     "output_type": "stream",
     "text": [
      "109707\n"
     ]
    },
    {
     "name": "stderr",
     "output_type": "stream",
     "text": [
      "                                                                                \r"
     ]
    }
   ],
   "source": [
    "# ENCRYPTED\n",
    "# This cell is encrypted. Will be made public soon. Contact: sudheer.siddabattula@gmail.com for access/details\n",
    "\n",
    "LS0tLS1CRUdJTiBQR1AgTUVTU0FHRS0tLS0tCgp3Y0JNQTNPRWs1MWpOSTZhQVFnQXRvT1hFYkdoYVFwV3NmSitOYndKWHlPcW1hMjVORjhZS1RUYmpXbURxQUpNCm5pSFFDcVlDZzh2c3o1RE1aeWthSFZVNEF2WGU4VENlaEp2aG1LM2hEOEhGQ0szREdadEdhQlBXTHY0ZDhLcmYKM3I5QXZ2OVp3c1U4eHNZWHAyYXpKcFJwSmc5TFYxc1luc1dWVDBZNXE3T1RpNWtxVU9iY0ZWVHdTbzU1dVRzbgp3aGJ0NFM5UXd5QTFaTUVFSlN4MG5icmV2U0l6eEduSHhzSy9yWWZFaXhrZFNMMFFYTzE5cnZZOEk2YTlPdEErCnNwN2UzeWs5TWU3ZitiZ0hkcTA1ZG5ybGgrUjhoMEQ3T3l3bXpWTG13MXQzQW1iZEFZOWs0bEFoTTlrU0pkRGsKeG1DS0sxbkpwd3RxQzEwMnFBTis5R1JNeXN3MkpaaTRRcEhjaEdhQnk5TEJ6UUVTSTJGdjZCRXFHczM1Z01mcQpZSmlXMnlrQWo1VWhMa24vbU10QmJnRDRveGtET1hFVTVUenBTRE9WNThLbEEzTXZGdjFDdWQzNFpsbHRTTWlLCk5kMzlpRFNlRWdIQVJHb3UxMHJkWGNJK01WekMxZ0ZKeFFiN0ZMNkNia3pjNHRPVStkMnN0WEFJckJtbklCTGgKcXc4cXdGbUJtajNXRFAzcjByRjNTYVEyU1A4SHJ0ZDh0amVyak8zVGllNWlHcHhwcmNYcVdLMmtOMTU1TG5vWApVL3FGYkJYMS9pYTRxaC9aeUxFa2dMdUhRUy9VR3d6ZE9LOTdwOTR5UytyVlFUVEthZlJMY0FBQmpOcHEvRW9jCmU2MmY1ZzMvblNMTTgwQ2dLTysxZTNEbDFzMSsrOG92TVFjWTdpOFU4N3IzbTdQL3lhckdxWk1aVDBKN0V2WEIKK3BUb3ZLNmdia1lMMWVWN3ZjbENwLzkxakRTa21ycTZoZlFmT2x2UTkvK1BLbk1VRUE1NFNrR2llNFY1OXpHdAo2SGV2VTJRRjMyRjYvcTVPWG92Y09vOVB5V1hCWkp0OWljb0dVTFRUY3ByRDBBQVo3cFVHT1ZSVm1nWkc1K1pyCmZTNm1xT0h0TTkvM002SC9KcnM4d2FNUk85N2xweG12MGVXVUo3K0tvSW1NdlZtYmJNQUgyZ3o5aUtVVGd3b1EKNTlPTVVsRk41cmY1cURWMk1Hc2Q1c0ZBQmF2RjdLL0V0alc5TFdMdVZySHJvUkh5NmQ2cHVDUVU5VDQ5NXpUQwpyUytaVDhyRmQzT1d3Y1YzaDF1bHVGN1V0WDVUVllrbm9LQ2ZtbWh2ZEc5Tnp6TjVNM2tSb1htNUlLQU5FcSt5CnV6S1oybjZTZ3hiOWlLeEIxVFI0S01qT3BSMDFuekFuRWRZdDVDall6cTBUWnB6UDFRa0Zld3Z6Z3E5L1Z0UFUKY1hsK2llZWlmblhOdVRFSEw5dVVLY1hMTDdnaWFTMUtFYVV6a1dzM24wRUt1M3dKMllHT0ZnNDhtSnpsTXN2MgpCSUo5N2h3aVRZbHZoR2tGcXlLWFVpaE5nVjgyczZlUng5T21ZenZwV2xNM25OTW1NV0pRZXBueGVKU1VJYURrCldMd2ZHSS9hZXZnOGx4dDFkcytSCj1tNElWCi0tLS0tRU5EIFBHUCBNRVNTQUdFLS0tLS0K"
   ]
  },
  {
   "cell_type": "code",
   "execution_count": null,
   "metadata": {},
   "outputs": [],
   "source": [
    "import pyarrow.parquet as pq\n",
    "\n",
    "parquet_file = pq.ParquetFile(\"./data/pickle_parquets/others/grids_new_X_comuni_EU/test.parquet\")\n",
    "\n",
    "# Print full metadata\n",
    "print(parquet_file.metadata)\n",
    "\n",
    "# Print schema (column names, types, etc.)\n",
    "print(parquet_file.schema)\n",
    "\n",
    "# Print key-value metadata (custom user-defined metadata)\n",
    "print(parquet_file.metadata.metadata)  # This is a dictionary\n"
   ]
  },
  {
   "cell_type": "code",
   "execution_count": null,
   "metadata": {},
   "outputs": [],
   "source": [
    "# ENCRYPTED\n",
    "# This cell is encrypted. Will be made public soon. Contact: sudheer.siddabattula@gmail.com for access/details\n",
    "\n",
    "LS0tLS1CRUdJTiBQR1AgTUVTU0FHRS0tLS0tCgp3Y0JNQTNPRWs1MWpOSTZhQVFmL1RyTk5Kc2hWNGtPMnl5VmVZbm9hSmN0VmtoRm9WTjFZS2NQUEE2bTNhS2MwCkZDZnpiVVB0eXFPeXFjcWdOTFpzT2lVcUg5VjFDaENYd0dRMEhSVVVzc0twRTduMUNHVWNuMFdCK3pzUnJ6N1kKLzgzU3lMRm0rMEQ1dWk0aU9VdFVvS25WczRHZGMveXhaSDRVekxCTEVhR3RPMlAxQ1pKSmdNZkpZVFZJbFAzRgpCSEU5dEE0N1Z2K2c5djhXYWNXR29sL1JvYm9hcFkwK2U1bHJpdVl1bkJKRFVOSFdXeUxBZDQ0ZEI5TVBSOUU0CkRvamVhLzNMaEpUU091OFJTeGltYjk4Umw4OGN2ZGhwbHJjOW5JaFd6NS9uL0szd3JEemVybXJxemVOYXlIQVMKdGpNUUF1RUs0cFRjclpwc25qZjB1VVpCWUFFK2FsQlF0MFh2cXNLdlo5TEJvQUhIZnVnRk03ZmpzRkNOWUtNMworLzVaZHRWeW9lUm1iaEtLeW5FNlA5S2ZJWGxsd0czR3JVanM5NnJqVVZSWmNPQkczbGVHVTNkR1U3VzZSb0FnCmFKalRRaDhZSWZiVUo5dDBRVCtHSFlwUFlTZGt2dDNoRlN2T3h5RG9xNmRSZGcxNlF4ZFUrWG9kbzdJN2Q3cmgKbGFtRTlVMGZkNzNGUlpUcFJ5Qy9LS0tjVkcwNHlNYzZkRStlQnpuSWxOKytISW5lMGR5dW5iWFc0cmpJbE82ZQpCM2h1YXdsOEI4eVVmdGdYRWUxTzV0T1VaZ2dKUzN3SEFYd2ZxMnBrTjhnbkJWODZqNnRvbmRESXo5ZWk1VWZvCnFGQ0h1WXBEcWlieHlIS1loVFdpSzdncUNzK1pCa01ENklNRHhnTmd0eDlyS2pWVWp0U05HcWFmMEdEUjd5UHgKemhkaThrcE9TVEpETkJrNDdKZ3RhakhaajJ2bzJxNjVZdnQyNFMybHg5dGZSYk41ZGpyTEFQUnNOWjJ5RDlXdwpiUW93N2pmOWw3eVVCVFRGb1JyRFljSVdRa2hHVGEzSzRjdEhlRksvSG54djVGRG5lVFpDMHN2Z1pvWjVjbGhNCjNQYnFaWFl1azdMbG9BWE11NFFEOXlMODdUMHM3WlhQek5ncXZlNG1XS3RiTmxVek9Hc21XWk82aStFUWtpZW4KSFQ1dCtVd2NWWDlzeXNXVjNPTy8vS3piMlo1a1Fjc3AyV3pMQVZUdCt1NFJVaFpPUnIwOUtzaUxBOFh4V2l5YgpSb1g3ZFdhYkpaVnZxbzZLQVg1NWF5a2dXd1BMWDRvRDdscGZNNS9TMURGYmhlSXlncXV3UFliQ2ZIaXJTQ1BwCkIxYXNkRDhMVTFhVlZlQlBlT3lEdFdXYjg4UExzRmNRb3ZGMTlxTXlRbWdDemNJV01UKzJzTDZJSGJTS3BCTGgKY2dJR2hMZ0VSM1lqM2xOTFFBaUVURjM3cG5jT1hPWU9yZkJoVTdXaE9OMHNGUVNsL2VQYnhOYXBDeFFMdWt1ZgpSZnRlckduZ0VnbitiM1E4aE90ZjczMHcKPVFJY2IKLS0tLS1FTkQgUEdQIE1FU1NBR0UtLS0tLQo="
   ]
  },
  {
   "cell_type": "code",
   "execution_count": null,
   "metadata": {},
   "outputs": [
    {
     "name": "stderr",
     "output_type": "stream",
     "text": [
      "/data/homes_data/sudheer/benchmark_data/sedona_venv/lib/python3.12/site-packages/jupyter_client/session.py:721: UserWarning: Message serialization failed with:\n",
      "Out of range float values are not JSON compliant: nan\n",
      "Supporting this message is deprecated in jupyter-client 7, please make sure your message is JSON-compliant\n",
      "  content = self.pack(content)\n"
     ]
    },
    {
     "data": {
      "application/vnd.jupyter.widget-view+json": {
       "model_id": "cc76fdf26c8f4a20beab056580dd247c",
       "version_major": 2,
       "version_minor": 0
      },
      "text/plain": [
       "KeplerGl(config={'version': 'v1', 'config': {'visState': {'filters': [], 'layers': [{'id': '7f1zywf', 'type': …"
      ]
     },
     "execution_count": 34,
     "metadata": {},
     "output_type": "execute_result"
    }
   ],
   "source": [
    "map.add_data(\n",
    "    data=prep_for_map(df1, obj.crs, geom_col=\"geometry\"), \n",
    "    name=\"comune\"\n",
    "    )\n",
    "map"
   ]
  },
  {
   "cell_type": "code",
   "execution_count": 17,
   "metadata": {},
   "outputs": [
    {
     "name": "stdout",
     "output_type": "stream",
     "text": [
      "User Guide: https://docs.kepler.gl/docs/keplergl-jupyter\n"
     ]
    },
    {
     "data": {
      "application/vnd.jupyter.widget-view+json": {
       "model_id": "3d1da6fa92384e37ba4e1bd81d65337f",
       "version_major": 2,
       "version_minor": 0
      },
      "text/plain": [
       "KeplerGl(data={'temp': {'index': [0, 1, 2, 3, 4, 5, 6, 7, 8, 9, 10, 11, 12, 13, 14, 15, 16, 17, 18, 19, 20, 21…"
      ]
     },
     "execution_count": 17,
     "metadata": {},
     "output_type": "execute_result"
    }
   ],
   "source": [
    "# ENCRYPTED\n",
    "# This cell is encrypted. Will be made public soon. Contact: sudheer.siddabattula@gmail.com for access/details\n",
    "\n",
    "LS0tLS1CRUdJTiBQR1AgTUVTU0FHRS0tLS0tCgp3Y0JNQTNPRWs1MWpOSTZhQVFnQWlueG1XSWE2RllpWC9vajRBVm40RmNKdlA5MUducmhEQzIvY1hJekVvOG0vCjdFVGlEbFNqVG1DZmRQMlhseDBMdHJBNHpvZnRiRzFueFpEY3hRUWxzdnUyeTZienJYMm9DaXNqVFB0eW5CMU4KOG1SMVcxc25ZS25udmRRaEkvbENuREN5Q1BoNGFBMGZaWnJFYzIzRWNzRzBWQVQrSGxzWjlLcFkyODQzMi9EWApuOWxPQ3EzT3I2a3pKM2VtZVRxSXBheWZVNWRmSEFtS1NuVmlZUWthTVZEOXJIeTdUN0hYd2NEY2hwN2V4OFJOCnFjNTRlRVJVbDQyZ3liRXliYnVHNkU3Vi9Wak1PUXJsbkM2dHJzTy93UVNIaGx4OGtObFVoYWM5MkF1OFhkOXkKUUN2ZTQzWllrN3RUYjh0TVA3ODdzeUZNS2dMWk4xQjdiRS9PYlMweGU5TEFCQUh1OUd0N3RKK1QyYk5GVkdGKwpXNzhNaEZaVFRPNnE3RGdoYy9tZWF4OEovZDZDWTdQQU8zNjlaV2NGQzkrWmVkemtEamsyS1FjVm1wNW5KNnp0ClREQ1B3c3E4QzFnQmlNTUtrY3FsUU90MTM5T0N2Q1VtSUNRK1IyT3BZOVZjK3BrTWxVb1ZxTXFLKzdSQ1N4STUKREVVYzN0c25ES0Jja2l2Z2IwUGxWU2ZMczB5L2pYMWROUHlZdnZZdGFqSUV2WU9pU2d2YWp4NFRlSFcwK2hRMwpVTjc1SjNYb3pKSXJzemxUVloxSTNIWXRYZ0YwamtYVm5NRnpYRmhpM3JqVGozeS9KSkk9Cj1kZ21DCi0tLS0tRU5EIFBHUCBNRVNTQUdFLS0tLS0K"
   ]
  },
  {
   "cell_type": "code",
   "execution_count": null,
   "metadata": {},
   "outputs": [],
   "source": [
    "# ENCRYPTED\n",
    "# This cell is encrypted. Will be made public soon. Contact: sudheer.siddabattula@gmail.com for access/details\n",
    "\n",
    "LS0tLS1CRUdJTiBQR1AgTUVTU0FHRS0tLS0tCgp3Y0JNQTNPRWs1MWpOSTZhQVFmL1hQbFl6U3k4WXgzU1R5THZsN1A4SkN3Mkw0S3pZcmRDZERrT081M3JNTFNGCllFSjNCcUxqamVVUG45SWxsRFJXdy9XWmozbzRnaisrLzBweGd1d25nL2ZsN1RHOFhLeDl0NWtpMENKS2ZwaWMKb1c0V0VuRWcrZ1pEcGpzMHIxUHNVb1ZuV05HNXVaa1JCaXNvbUlqdE9rS1pRUjd5blJ2QktvUTZMTFFlWGwrWApxekh3RjZpK1I1eFBDQmd4dTd5WHZZVEN3ZysyUTlBYzhFUjBmYzFVU2VjNjIzdUZ4aTlQaWxzck5pRzh0dWhuCjU5YlhNUnpwSVhZMFFycVRQQ0UvQk1GeVFjR2dTZkJQeGVIbnIvSkpIS3NVcWpTQ2V2L1ViZkdZNDV1WURXMTgKSDl0a1Q0M3hSTFg5MEFxRWsyb3NyVjFSVjVhQk1KUVFJTDZoOWkzeFVOTEJCd0Y1M0F6ZVVtUmM3Uk9hdjVhWgpJUno0NGxxMCtqanhtY0pXdzdXZDQzR08yY0lZZHZzS0gxRGM1QSs2by9qUTRUV0JlRkR2WFplSTVCVUJzd0piCkZCWklZRmpYOTVTRnpJYXZEVnJpUWJ2RzNvcVgzaXRUejNPZkU4bjcwYzY5bDVnYzZMTGk5bnpnS013ekdzY2kKSjdUdDVJdklvSUVONy9zNDVET25QN1FqM2lsSFQ0cHJzQlpYa1Nqd2ZRMTEzNWdEUUlGSjUxRnB6UjhIZTEvUgo3M2I4M3pBODlRbittVktvNEF0WDJZaTBFZVpVakRkcGRCampjdS93WVBzKzJSU1Q1RlBpUHp5NzAzNVBMM1Z2CjVWZEVmUGp2Y3o2UUk3Z2xIUytPbVhKcFlDWS9GNEVRY09FRkE1UW13VjN2a2JJQzAzWjVqT0lDcTVUQVJvWlcKaE1aa3JLdzVxem9Bc0JsY1FIVGY1b2tCTGZrVUhCM0NkZHdlOXV6QklPWkFVazJrWFNNd0tOR0pvNFBUUHV1bwp3K0IvbExlMkg2RmNzcHVES0hrcGpQRlpOaHpUbXZJTzA5NXVTTkdrK2NOZllzckQ1clc0QmJRZTJJcUlhYzRzCjRQWUdLbXdVbXBWaGF4aEtjczlqU3kveEZDNmRqK2RlQzdPam42UVRLaHVmTTdnTTlIaEl1bTJ5SXdvZ2JNSWUKLzFnZXRoOVp5UmYzSlpxd0pYY0hOYnRJNERBSGkyWDNUK3VRRDRaMHlwWjR4ZDgvdlRaTzhGMmRoR0VoR0VyTgptSGdUTHhTMU41dmsKPVRqL1MKLS0tLS1FTkQgUEdQIE1FU1NBR0UtLS0tLQo="
   ]
  },
  {
   "cell_type": "code",
   "execution_count": null,
   "metadata": {},
   "outputs": [],
   "source": []
  },
  {
   "cell_type": "code",
   "execution_count": null,
   "metadata": {},
   "outputs": [],
   "source": []
  },
  {
   "cell_type": "code",
   "execution_count": null,
   "metadata": {},
   "outputs": [],
   "source": []
  },
  {
   "cell_type": "code",
   "execution_count": null,
   "metadata": {},
   "outputs": [],
   "source": [
    "# import geopandas as gpd\n",
    "\n",
    "# path = \"./data/pickle_parquets/others/grids_new_X_comuni_EU\"\n",
    "\n",
    "# gdf = gpd.read_parquet(path)\n",
    "\n",
    "# crs = gdf.crs\n",
    "\n",
    "# if crs:\n",
    "#     print(f\"The CRS of the GeoParquet file is: {crs}\")\n",
    "# else:\n",
    "#     print(\"The CRS of the GeoParquet file is undefined.\")\n",
    "    \n",
    "# if crs:\n",
    "#     formatted_crs = CRS(crs)  \n",
    "#     print(f\"CRS: {formatted_crs.to_string()}\") \n",
    "#     print(f\"EPSG Code: {formatted_crs.to_epsg()}\")  \n",
    "#     print(f\"PROJ String: {formatted_crs.to_proj4()}\")  \n",
    "#     print(f\"WKT Format: {formatted_crs.to_wkt()}\")  \n",
    "# else:\n",
    "#     print(\"The CRS of the GeoParquet file is undefined.\")"
   ]
  }
 ],
 "metadata": {
  "kernelspec": {
   "display_name": "sedona_venv",
   "language": "python",
   "name": "python3"
  },
  "language_info": {
   "codemirror_mode": {
    "name": "ipython",
    "version": 3
   },
   "file_extension": ".py",
   "mimetype": "text/x-python",
   "name": "python",
   "nbconvert_exporter": "python",
   "pygments_lexer": "ipython3",
   "version": "3.12.3"
  }
 },
 "nbformat": 4,
 "nbformat_minor": 4
}
