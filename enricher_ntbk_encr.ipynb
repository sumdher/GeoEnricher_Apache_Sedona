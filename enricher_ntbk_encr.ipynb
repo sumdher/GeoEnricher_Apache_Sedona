{
 "cells": [
  {
   "cell_type": "code",
   "execution_count": null,
   "metadata": {},
   "outputs": [],
   "source": [
    "#ENCRYPTED\n",
    "# This cell is encrypted. Will be made public soon. Contact: sudheer.siddabattula@gmail.com for access/details\n",
    "\n",
    "LS0tLS1CRUdJTiBQR1AgTUVTU0FHRS0tLS0tCgp3Y0JNQTB5VXBDMWwzUy9oQVFnQWhkVWVmM0FiYWNLQjYzdzdsc2RBYU1yVDZ0UlRxR3BCeHBjSXg5VlNFS25pCmRpVWJtYnhOdXpNdnc2ejgrSGJhMDdqSWFnWmw5RVNSVFd6T0JnSEhPV1AyYkx3K1o2WUxxYURTdE9KK1hKRWYKSlJ1Q3NlblExeXpKNDhIMWFsMjZhR2YreUVnOTlrVkZBbm1oTU5jVVJTYUJrZlZFT3ROWnRkdm9OeTMrVWVKUgpQWkpBbWxhSjBkb0tIUmZET2NGYXRLeGhIekovV2gzR0VtYnhZY2FvQU04SlZpeGI0NXNZZ0hlZXVJQU5RRUdhCkZkdWtqeTJ4cVNoZ2tTR0x5OFliZjIzaEIxdUx1OXFDcHQzRU01cFk5aDJRNG5GYmRRL1d3cGRTcURudFgzK0cKUklRUk54Rll1cERScDBjdG1NMEtkejlWTUdLSGpIZ1ZWQ3FtV3VjVFVkTGVnUUduSndOMWVCelIzbUlWRWpLSApxZlpRVG1nTzlRWHlCd3h3a2x6aXl0VlJXTWtEQnpTeHp3SFUzeGlTblU0L25tZFlJbFB2VlZQeEFQS01iZkZlClBTMHpIbnp1WUt2VURCZzUveGp3cGlHa0JXWWJSb3hxdjdPSUtMYURabWNRbWlLZCtQUkdCRG0wOTVHc2l5NTcKM0xHTnNuNTljL0Z0Y1JjcmxXYWRYaWhGSGhIekhYYS9vN0Z1clVnUVd5TTNGSjc3NldudUpIaDlGKzVLc1R2YwozMU9FdHB1SVhIbEJTdG5BSUVzOTUra2JhVy9rdHJLOTU1TEZlWlI4cnRmWVc3RVhma0pSVkR1SkVQbE9SRVV3CnVpb3ZRTWhZV3RkUG1aT3h3cTRqRjZmNUw5VGlPbDBEUlE2akd0RUFuMVMzdFRNWWlmTGpCVnE4VlVSK0RiRGsKSm5iOC82TXhaOXdSV0RkTTEzSHNaenJYVzNMZ0Y4bmxJeE1yWmRGZkFpWnNYdmFxZkVWM1ZMOWFEWERtajZGWApoZUduWFFnVEV4MHZJaFZ3dzJ6VWtPMDhGeXJJUUJwUWE4QitwdU10Z1BRNDhZcCszeXAzLzRCck11Y1ZpZ3ZCCjhVbWlDRmpMVFBVT3IvQ01zMFlBTTJVeWp2TmxFMnVXZUFBQ0pER3lDeE5XckpmNnU2b2taWHQ0dFRwRXc0NXQKMDBOUWhmWTROS0EvRWZUSkRYaENlN2M1dEU5a3hxR2JZQ1ZHVXJXZCt5eG9ZMWpuZk5JK0V4ZGEvb0dwa2dHTwpBdnQ2M2s4QWpyakhtZEFpaTNaaEdLOEhmNGs5UDJ6VVhRQm13M2FXTkczU1dHd3RlOEl1YmlnVkE3L0dPbHR3CldpL2NoQ3hnTEpCT2IxNTZudEtsWjRNUFdPaTBmS1p5MGpRUUxoTTlZK0lvQWI4WFE1WFZXeExTbkFxeDJySHAKcS8vODB1ODBCeXJmWU9CZ0ZkRlhSTlRySjlBMVQzdElTakFWNk11eGM3aTZvdlJSWkhyeXZaOGxkQ2NRa3NOMwpHVVdWODhDeWFoZ0xjZ3VPUmhWeFpDMnRZaFRmSEZNNHF2djZoczQ5UFVjVFlpMGRPdmtQdVlxSlhsQXMzMDRxCkZHL3huTTIzWkY4cDhnSmlHWFUxNFcvek9zVnJneVJyaGJ5eEQ0M2VCekZZdHJ1d3JYelBRNEJweHArTGFjamoKL3dMSWplalNTTm1mTnRYa0RvYjQ3cDNvbnNyeThuL3BoZ3M0Z1gzZWVESjQ4SlBSRjBFUDI5dGNtVHpFZ3BVRwprQzU0cXNKQXRKcXBvRnRQZGpxNFREMkZFS29QYTN1M3N4K2k4RlNUVzlwWm9yU0NTckZTVjduaUVNZEJ1Unh2CjNKemVGRTFFYWtSYnhNOEtiVm45cG1URHlUejRWbTlZbm82Tndodm0vcWxUdlJyQ3h0MzFnYVNSM0piU21qNHQKYmtCOThFeUQvbEVxdS9PWk5CUm9UODI2UnMyclo0QTE1aWVTYUhVVml1ZW1wbENQamhVVEswKzN6NSs0Qm4rNApxRFhVbXNaaE9IWDhLU29oM3Y4Zi9PYTN0KzZXUU1ndkYxWkxoUzVnZmZTZVRvR2hMRUpCcllGOFZLZXBuVG5MCk9sZ1pNanRuWWdBSWd6SDJ0RHM0ZllGZkl3Y3poS3o3MjAwdTF2MC83djdzQ1dUOTF0dnpXK2NJdllmelRJR3kKZnZRVTVoS2NLa09YeHJzaVQ0UkdJajhyVUd6OWY0YXlPNlVCVE5SZzlwdVRiZTJRMWNEMVFkT1o1K3cwcTU0MApvUXAzVi9Gb2Q0OXhxamtwSzl3QVpoOGZSZVpwZmtqbzVEQjhDa1FwNEk3UnhjUFliRi9HQzdzOVdvNExYV0Q2CmdLeEZXemVvalR5b0h0eXkrYWJZdFhBTElSeWxGSmlKNzQrVVZlcWUxRlpBcTBQcVdQWGJ2ckxtZUhSdEJPZmIKVks5UE9HWEZ3M1gvREsvWTUxcTFMVXVHYVdYdUk3QXJjV0M4blpPWWJsekJDMlRjbExaZ3k1NGRPY3hWMEdvOQovNVk5SFI3ZlpEK2FTL3c3N1hZTnBPSTJTYmpKR1ZRSSt5YkVEMHpYMW9XUEJ2ZGpsS3c2c1JnRHVzenpncnV2CnlaTE5DNEdBWERPTThuWldjSC81WlU3T1pydTRjZ0p3R0FlM29WcDJYSlNPaVBlNXRrZ2ZhVVhIYzE5eVJMVy8KTndZYU1sVmRrbDZoL2JGcWNySlZ2WWpKeVBuQ3RZSGJtdXV4QW42ZU1HcG1ZNHd1RlM4amZSSGpTQ3BuUlhTUwpnYVNSNUJmbkx3K21oUjNZTC9aOVNjNWdpSXcvTTJ5U2dmZEMyTmlNejM5RUlPeHJURUVmaTVpSjl5VkpaVnJnCnZFOWh0Yk1IdVlhUWdCaHV3MmsyV2ZwMVVWS0ZIV25iOUFtckRsWEo2TFQ4eThXRkhMMW1YUWhGM1Y4TkpYRHoKbTZqRU5Va29xZW91aTl4TjdETG5rcjYrSk1XUXFSREtBOWJBMVdFZ0NoS3crQmw3cFJhUGk2S1dCSytBbG14MwpIcmZKRzlBZ2JIOVZkRlR4RXJpMTZvWXNBczRTQzRIT1Z1Z084d1NmL25JTUNzRU9Bb1B6YUdnM1FaUFpubDJDCjBjdFhvSWdaTVJlNEhUUHRFdmFpRHVFQmtHRlNtSDhZUlJoRFBoUkltazVkQnlCQUJ3c3NlWGNXS1pxbzJBRlcKZmhyRmVGTHlQOUxvZjUxZm1RNUxNT3NTbU80YVJJZ0hua083RXRaTFo2b3NBQ1ZWMUFBeVMzem9uM3lBVk1McgpTMWxkYTJ6RHpWUTNNcVZxTXRGZlJRT0lxUkZuSDhQOTZKaGxhYTc2MHZpV0QwU2k3SVIwRVprakYydVpTN1psCjhna2U2VFBtbGtRTkpCVFA3dFNEc3l6dFczclRpR0hjRlEyQkhPQ01OaFl5aE9VSExHaEp4WUNoaEpGNDdZQ0UKYU1XL2RwaDR6cDNOanVvWm81anlYOGd1QlhDV2xCbXhXbFNxa1RQUDcyRERMdU5qamYyVEo0SzlrMWdnakZsRwpWbEcrbU5pbzUrNjkyV0U1MG1VQkFma0d2ODhsWHhIdWZMeE11UFlZTko2S29Fd0hEQXlCRWhGSWhxY2hpMVh3CnNJSHlVdHo0Rm1pWjV1cFY4bzNXNnduOHd3dXpuUjRMOW1DVDRiejVvajFSL0tORWhFMWYydFJpSnphbUJ5cjQKSkwyd2FtVnE0RGw3eGtBaTBJTWo3REZCNURVK05WdldaUnR1TTdOK3gvMzV2TzNkakVoaDJFaGFMSmxwV3VxbQpmMmFMY3o0SjU1cmVyK3RyaHRMZE9ZK0dWc1MrL2E2NGVqRElyT3pVR1g4R1lYdTBCaS9MU1RweFM0OTJVYytlCm5rNGhLczJpeHlsdzVHWC8vQmNWYmpLY25jbEhhbmIvazAvNks4U1JJRDdLWDVBODVkSVFQbkZoazdmMklEWVUKK0xZRzNyUi9pTnJrdk1iWnVFSjl2VXI2RUZtK1ZETnJScGU1LzlCeWNGK3hoakthM3BwaUJ4MGxjU2x3aS9GVwpDOGdaZ2tJeHpZcVNQMXV6L2JKK012cEVKbDFIZFMwc1dodnU4YnNQUGlhU1BlcG4yR0VtTlZSV2UyWjY2N2NTCkY2TmZRa1dhTnd1WWE4a1Y4LytNN1lrNWFyM2o4VlNxckFOemJ1UGJJOU5oMC9VQ21aSlpVZ01WUjkxT2wzS0sKeU8vVVU1S1E1WU11OTlrNDlsS2ZHQU4weHUwUnhDTFhXTjA1dFVLbUdOZmRwTzJhNzM1TnZxR2tSU05EV25yUgpqMmU3NWFieUhQVW9NbVBRb004NlRjVUJocnR0cFliMVJjV2R3cmRCQXJVUlhvQm50R0VhRThFUHZIVmE3V1JUCk5iN0dUMXNkejMwc2FNdSt1emlvU1pzV2NTQmQ0bXBxNVlMTmdQbFg0N2RJYlBTd2NWeTFmK1dKbERZZGRCNHEKMmtLWGJOZVVWd0xsTy90elhjQ2dPakppY0Z3Tk4xY3krVlIzV0hRZnc0bFdMK1J5cHZlTi9WZ1NSK2M2M1NJbAoreFhkUFd5TlhZVTVzQ0E3K3loZElDRlhJQUdIRGZKa0FLaWZ5b2NYSHdWbGUzSDVCSy9ESHg5RzltcG9NeWRoClQ4bTVCNldnRnVLQUhpUUZCaTdHWHFIeHpZcUdmejdueGowRXlXaldmdG5vczR6K0JKZ3ZrNlFEUkIwQXRjUjAKelN5NjVzM1BOZW53MUZDbHFxRDVMNEZiS1ljRENmT2lhT2lHakRlVUVuT1JsMmpDY1VjbDVOdjNXNnEzM1lILwpQNzBIYy9JV2FtR0Y4OWg2YU5ZNGYyUGlXNUJhT05aL3VkdXU0TFh6VnFCNDRhVXRCZ0RERllkanFCSmpDM1FaCkJOUG1BcGZRZFJ4RWxnSDdMN3hBU2tObThkbkk1bmZrU0wrWllDYTRQQmJwNkc4MEJ2enBSeXBMMzN4SUd0eDcKVFkvZEh4VGZiYTBxSldsRTlHMFdkL1IwV0lmcTVLQS8waHQ2VDBoT1ppNEFiWjJSbWRFYXM5TWVLQW8yM2VFWQpWWVltank0cjJiYWczeTNjM3ZsbHNDNVg4bmRHTjJEa0s3ODN5YVE1YXlueHlSb3dSdzVjUTVXc0ErWWQxci9lCmxlVlFxdytiTDJFN2tLaWdtVkF3QnhBeUxEbUFVMU4xaS9aYmRBRlV1Z3VzQUtHYWlEeExqUU55V0EvZHRRMUwKYnBsbk1NSTVaMENha01YUVJaSmIyMWdaTXJ3eWhuTmV6emx3WU5lM1lXQjlFVllrd1ZwZzl6YW9SU3hBck56WApqMmVmZ0tWUFM4THc5M1c0bGRGYzZYUTJIaVJ5a2VnZEhSa0w2NWlzdDVRVEpYbFFzR3IzM1Bra0xtangwSkdoClBTcHl5TTd3cjR3NW1pZTU5MmlLWTlaTnhMc3h6Y0JPMTdKNDIxamZuVVNJNi84b2MwY3dSekxscml3akQvNjIKaWZsMk9CeWV6Z3h0S05SWS9rc1Rpb0RNUVlLTWZYcDA3WTZsNnlrRC9oS0N4UnFDU3l5NkNmSk1rQ2I0VGErawpLN1dZd3JUSVdBN2ttUnVBVkhpand6ZkNUYkthM2h3UWJaQUU0VEU3UnU0YW5Hb25kNzhaZUFUMVRaYkdEUldHCmRRVzVVRjN0WjJUYlo2b1lyRGFINUxsZFlRNlZnWU5JeWhSek5jTUFlRkRxNTl0V1JxRTFTM3o2L09SSllTUDgKWVlseW9WWkxXZkdDQUthdmhqbnhmb3RTaFZSU3hJWnJqS0JXTGVRaDRldk45UWkzdjNJWGwzMXNxSE00Y3ZoOApvM2x0M0tka1JkN1J3U3Y1OWp2a3pSMG9JSms0cWxqTkZ6dGRSOTd4MnpqekhzY1dGSWZhalEwUm9oRkFUUllJCkd6K0dpbGJ1UnQyRFN3ZXVvNDc5dHU4djBWY0pxRHVQNDFEZ0IrM1pQQ3QvZ3VsbjJneEJvaVd5NmtlVzErS2MKUjJqcWpUUWFZU3dad1FZb2ZEYTM3QkJUL3JqeDVBUUFHZFlPbDk2eFlGd2ZwUVlsWUlmSzlnc005TjlBVi8zSgprcm9Pak5HRjFBZElYV3ZqVGxpT2ZUZmRhNkVsT0JDc1FoQzlURGdwdEtoa2FuQ0s4eTB6Rmp2a2tYcHlqZWpXCmhrUFNNNzlZZUdKWVVzNGVPTFB4SUtQQ2hHTEEvQzUwRVdGc1RyNzR6Q2FnYkk5MTUxcHlwc0FMQVQ0Z1c5eHQKQjhDbUJveDZHcFdVaUxIVDFIdnUwTkNsTXFUbkRKOWtTVzI3ZzZacCtYaENEdFI5ZW4vN1BNZUsvVm1BWUFjSAp0YXE0S1QxdnV5eVUwck16bHlWLzFuM2thSkd3M2ZRTnpBZk9oL2xJencvV0Vza1M5ZjZQOEN5V292Z25LUFFKCnZnc0dxTG1mV21CZ2dLcW9XMVFpMmRwTysxTG0zRmhuZHY0VmJYbWhFbzZNbkUyZ09XZm5OYTM5SGlxclRUM00KWjU0SHQ1b3REbnd3WlVtL3diSmRRNTg3ZGpDWHZGVEsyeS9pM0h5UWJhU2YvenJKemtaSnVwSE5ZTW9WSmRVbwpaRzFyam5Ha1dpNHdDMEI3S1VPZ0ZhcFJydXROeXpCRFpEK2hYOUFrVURsUHVzNjZvRjBNSE1rYVhIWWNVWnkyCkFqZkJCM3lyaWlZNEFqcENuV040WktRNVpsdUtXeFBPNHZKMm8wUndzRllYVmlQRVUveWVzQ2xaampEN3JNbnYKVDN4a205RHZQbkhKaW5FQUNzWHhRK2FkNVluM056QUtDeklOL21OUDNIUmdJcFd3R2dCZlUzNFgwcnpyUkpLRQpodUZLTVdJSlVlWnFwdjhIUGlGSGNNNHkxQjBISENza04wUHJwUU9idmZjLzNTZW42azlsL00xMWozTFJpVUx4CisrbkMrNzVFSmwzRWdjNVM3cTRaSng4Sy9SbVRlWFFTdGl3U2Q1L3NwM2RzZTJHTnJkK0F3N2V4N29yUGQwRjgKbnhJYjhHMHhVbW14UW5KK2xMQStuTDFOdTEzMHdXSjQ4bCtRYVVRZDd5WlF3dDBKU1VvN1cwQnUyTFN3WWtjYgp6TFZNUHdFZ0VDQzc2bnkrTWttZW9UK1haTFg5ZllraXFaMUt1T0QvV3duNDRnZk80ZFRPL1FSTVVOUzFFVXc1CmhrQ0dFRTVuNGd0cnQ1aXhMNWVISWNrSDF2cUV5a1o5THk2K043N3F0VkhtWVpBcWRmT3gwbEs0SjZpRmo3WUoKQ25yZTVIbmZNK3o0MGJHREM0OEEwL0lGcmJnZVZuZHZIRExNaWJEbTBLMW0ycmtvelJqbUtNYkJDWVU5dTFHTwo4cVEzeTVxYkVRQXlWY1lPMnp0TjVHVkhUcXZ2cGl4T0tWdVF0SzBYNG9Lemd2aVBkZzd5cmJXSGJJdHMxdTR1CkxuRWZKVkFQNTg1SDhvWVN6T1NJZWxkZnE5Z3BHSnk3TmJyZS9YeHBmMThJaEZLZzlJU0tRWlRJMEtBM2xyWlQKakZrajVNUW1NQ2EyRnd0M1BkQlhKcmd2VnBlQldzanFpN25wc1YwM0NoT1ZEUnFPUWlmbm5rWklWbmloNTNsSwphWGFtbXFsMmI4dEZsNGwzNnNhT0ZEN0JHNVl2bkVMTUc1VllZM1RWMHJ4Kzl4RmQ2T3J6WUYvVk1MVW1HVUt0CkQySE5uMUdiSWVNQkdDYi9QNVNJbmxXdERLOTJCcVRGaDk0aEYrTzZZRXRCR2MrNkhXZkVPeis3cGpSQnFiOU4KT1VyUE1pK2lXRHl2MEpHMXV5L1lhRC9wNU8vMUwzRXV6dnNLc0NXMjQ0SXhVQ2VUa3BFYmlCOTdFK3JUMEVnSAp5Z1E5clc5alltOUdPcFQwa2QwL1Rmc2FNdm1pMlJLZTNINll2eEh4bWFPUFFiQTVnbzA3Skp0RjRaQ0ZZb0FUCmtUV0t1MGt3ZGNKVUxzcXdEd0Q3YnhSUEpTU3Y5YjBQekk4Y2pJQ2gzK2JQMWFFZGliM0VlSjFycW92dldRbWcKSTJ1Vm9JUU9jVEhpcU1UMit4bGdlRHg2MHd2aWh5dFQ4L1lXSDN4aHdreEttTkloVlBQZk9sZHg4T1RUOWJUaAo2eWpBM3JUWHlTLy9NNEZtWWpLWVNCZVlNRzBxQnZlejRWTUV3VStsNS93Y3R6aFp6Nkg1ejFqaUJRSlpzdzViClhuVFovODJ2VG42eGUwUW0rQ1BtYkFVdmlzOGlGSWdlbXVrbnJGRTFaMVdoRXFiSVEyT2FiTFVTVkgrbFpjaFgKNjMvY0JsbVZyU0xRTGdmdXJqZDNGckh4NjVjMDUray9ZdWd6OUZkdmphMXppamhFaW1YV0x1T3lSTEp1Y0dhcApSazdCeTZRcmtLSTFYb2VJV040SWJhdEdnUk01d25qeXhHc0NDTnV3RWJEbGxiRzFWdWN6aEgyTEE0SnZ5YVNJCjhIb1lXUEZlUzVhV3I2dkFPbks1dEwybW93dTRDS0JWRUViVnBRWE9CRGx2ZThPQjl5ZnFKWmJ1ZENCN1NteHoKa0REOWVEcEl3N0JZTzVXMG13ZFBoTEVvOGFwaDdQMzNmb3Q5bWw3RXlKTHB5bHhIWG1UV1UxZEZTQWYyUDk3QQoySXRwQytjMGhKcWJ0SWVhQWVRR0xhN0NkZ3NaNG9zV1dyZFZibDJVaytjRkNXY2ZESDE2ZnRKK3p6bmEvYUVyCk9GSndHd0w1RitkL1Qzek9rd2pwNHo5Vk5vN2RmZFlnRS9KL1dhVVk5NFZNbm1nZjc5ek8xQUg5Qm9ML3dYSnYKc2JoanVlT2xuMnRXYWg4SS9jeG9JUEtmL1VsQmt4YjY0KzlhdDVEakIwWWMvUHlYR2FuMkNDdUZ6OEEzTE51MAp4M1p3QnRZZHBQUGpmaVRHTm5ySmFuRmo4ZlJsYnlnVEpOdWR6OSsrQnl0TTJvZ3pEZlFIeEdHbUhGQnd3K05LCmE3cysvelB3V3dTeWNOTDl6NnhHUStrdktzN2NOSXFodnlqc3ZId3Fma2NBMlM4L1l3VWRsZ001bWNsYjczdFcKTWtqaGpRa3FKakVyZjhoNGViRStFVnlla1NiRHI3OVdTL2xQN2JQaHVyWWplUmtlcldFOEY3UGJxMmtRLzdLSgprQzJRMGRLS0IzVXBEM1d6WmdWTTBDUWovSUJmb1plVzRuNUI1TUhydE94cHpJQjA4UWJYTG40QWRRTUxjS1BWClNXWWQ4RTE3U3NJaTFXSVFNclBVNVZMUkp6RkRMNzhzbEFXZEFvVm9wQ1VKOUI3eGdhR3pPOHUzVzFycWFqTk0KTWtCeURRdXVMdDFTTUVMeEo4bHdHdVA5M1J1NGVJQ3NmZ0IxckpTSDEwZDBlMlFVYWhYVDFiM2R0YnNEL3dvaAozdEdOZCtZbEhjUFlPUVhicWFSK09UK0RtVWlFTlEvaWZkV0djNWdOd0syVG1MdE81NlRVS2NaajhhSzI2MEt3CjFaWU1wMzJwMjhrYWlHUDcvTmMzM0NhYzU5NDJSOWxNS2ROaHFkV3ZVUTNzLytGWllybm5Zb1hBNDhHOXFwMXUKQ0J1L3Q3L3JjWDVnUmRBYklhN3RXbTVJdDdRM0dyeHNhZE1OSGVUb29QVVhZcWlMdjVlcGU2M09hZ00vVzJwbQpDSWsxbWZrOFFTMDZqOTE3cGNnU0llb1UxRzBZQjIzUHozdGNDTVNPZkpqaVJWamxPblR4NXNPS1o5enZLaStXCkJybnVDNWJIWngxSE1kb3BmN05MWWZjTmJ6SjFPL2w2QzdjcXRtZGNnVFFmeGJHc0xGSlphU3RXRjJpZmtIN3oKeVV1WGs4M0ZJUTNLRVF6TkhyN0hlTHdCaGVRNzk3OVdDMlJFeWxWTC9EeDBOVjVSS3Q1Qms4Rzh1cFUyZEo1SQpaTklvRGR6UTEraElSK1Z6V1M3SVlzSDA0dkVmSmRZa1ArUW4xOEpkbnZNUFNsU1Y2MzVQeWxoVGRIQzYxRmdiClZ1VVp0MDVTT09iYUNrVzc0MGk1dHkxTHZycS9XQmNTSURxSWExTlhXWFhPTTR4MnhmUm9KMnVNSkhncmhIUFEKVGVCZFRmcExwakFQVm9lTmxBS21xemlDSXJVTlZ1Y1hQYTZiOWVoSHRKWnRuUlBHbWQ0TnVOcll5em56ZDAyMApycmxTdUx4YjRMNTVTSS9GS3NkRWNTdXRseUk4RG5RN0owVnVJeUtVdzA2eGVXY1c2aWZYYlovRlE3WWZLMXkwCkZQanVMY0Rob01RRHhhL3RWTFExTWd4WHUvbGptQXh0MkNwdDB6UHFPQ1Fkbmg1dGx6V0RSK01PRzI1L3Vvc04KYTg1S25ERjE3UHMrRTRCOTZ6U2lGdkN5WXJ0ZEJabERwSHMwc04rYzJ1ZmtCakoxMDcrOUNZSWc0b1RkMFAzSQo0YzBZRFpXdFZPalcrNVRsa2J2clBUQmtlZ1BSVjNHQll1VDFLckEwSDNoRTZKb1NZYStpaGVhd0IzamRCTE9KCkhtVEFQSnlaa1NMaVd4VXFVMmdiY25pOENaUElsVXl3eHZOTytsaGRGcWloc0hIckl3RnNqMW5tWm9ibXhZa1cKZmpndzFYQStuR2twY2lwanV2MEFLUm4rc3QvRC9ENWtKeC9WVkI5b0gzbWlvWnZZaTNDRm5WSXBNcFZXeUJ2RApVWjNDY0svejk3UG5nQmVWOVFvdkpaZzBYbGJWWGNHeGhKdzNDUXI4cjI5UTFGVXVrUzR4L3ltRklIbUQ1MXBGCjJaWFJjaVBZd2hPSXFXQUovSHB6WXNIc3hDY091L3BpYTZ1eGlCL3dsZXlkeUdrMjNSUkVQVWlKR0JFUitybWkKM1BUWmRZZWY3aGUzd3ROdE0zK2lOdExmd3hOZHdUUklIR1UrSGp6ay9kb0g2WnNwK0RESDYyN2hOejBVdmg0SApROEw2eE9uQ1hKY21CVVVrYVhQV0NYTWdXbjFzcVJFc3E3MkFUUHU5WnE3Lzc4Mk9VMEhCcWQ3Z0hFcUNIM25nCkU4M0F2SldKMW8rNHhKVGFRRFh4elA0R3VudVdKM2h2WVBpaUlic3JSZVdGeG1nV3ZKY3d1U0IwazB2S1lodkoKM0pEL3N5eUtlYlBuR1ZsWXR2b2U5aGx2Z3lJRWpVS3dyVnhueGtPSG1ZeUUwTWdVNW1HU0xGZkpFTUxvZGJKcgpLR0dDRGNEaldUTFhIK21JZGlBaFRORVV0SWJ4c3NSNVhlcXhQNTlha1MwUzF1eWVIek9Tb1hrMFNzY3VlQWlJCkluUTBUWk9LYmw0RWd6dUt5K2lzZkUzZnlrVU9sWTlxejFnOGhIOEI3U1BBaTViZEllNGlkUmsxQys1QTZjWngKZ1VZUmhHVkRwOVppOXdFcmd1N2lVcGFqc3RqUEo2c0Q3aWZaZUErWUdVR0JYQUhjK1Rtb3ZyaXZoWnQwcVpSVApLOEY5d0NLSFhycmNEWW9maWprdTM3V1dIZzNQai9EWHFCYk5QT2xlMHBUYXJZV1N5OG5aVDY1WXhGWHRpNkw0CkRnWHZjbEhac252RTBhZTVmRktESkJjOURsSHliT1lGTlk0QVJpbTdhamR6Vnp6NGhRSEFjeEM2SWhiOWtJQnMKc0tGRG1DdjN1TThpYmN1dkViS1VJN3BnMkxPWU5uQTdlK21UTTV0dG9TNXErSUl5a0JYa2V6RGx3QUtJNzZNagp2UXZLNi9sR004VDBtY2VZYitJVXhuYXRWR0JNVGFsYURWTUpFYTZ2cld1RWdYaVowZHMzcEFNSnhGVm1tZTAyCnpwdng3WFlSK0lXcTI2eEJTMXJOeExRNG1WU3IvSnJCcXJRWi9uSGZySnllMFBxWXFaOTdPSDZMOEU1VHVVeWIKVTY3NXR4VDZJakl6OU1GL0VOV2xXTVQyemxBOWp4aDNLVEhzS2hRZlZrcXFxdDhxRHlrUjB0WG1DZDRENHZBUgpoeHdHTjEyaWtGbElNUzlDamdSdXZTdDM5UTA0R00yOTk3OUZ1MTE0U1FobVZWeGlCQTlLNHRuUmVoZVNpS050CnZjRnVEOFdIT2N2SHJVUEN4ajZTLzc4aU5TdWVJQXptWisyZTJxTDh2L1hlRkJxa2p4SmEvZGFUVXdrb21WQ0wKM3BoWkNYdC9HWTlDVHkyR05qZnhYQit4OEE5RFFhSiswSHpseHJMekltYWZsdEtienJFUEdLTWtad3hBb24vbwpoSFNZQlliVUpTVFRhTzJWaktURVVQQnZtSTRhMnE0NmxjUmZLbTEvSjlSL2JUL2Y0MXM2S1F1cWZRRS9yK1dpCkFYamw5Q2F1cStGMEVDSU5Hd2pydTBRSGt2WUlkK1ZReWY1UjZoamR3NkQvM3lET3crOEZGMWxZRVVFUmdGV3cKUjVRYkxKbVhOVW9IRVc4WVJ4bmhSWUMraVBNVC84d0xGL3FWZDFzQmVDN0Z5cVZJR3pqdDk2dUsxc0psUVVVcQpaQXJmMDZ4clhNcWtwUVhDenJoVkx5SHQrZXNtQ1N3dzVOYlBTS1VtQzdzWWpJNk44UlU4TlliQ3dtVkpubFFJClU1WUNhdXJVTkpwZHlkS1VndkpYT3RCSy9TQTV6TC9NM0Z3bDcwU2pudEN0OXgxS2J1TFRveDBBczZKekxUUXIKamtQQ2VQd2ljdnI4Uzg0VG5NUWdmajZIYkN0dFY3WHhTQ3lBY1lpd01qTUxvTnV4YUdFUVBGR0hVanlwakIwOQp0VTBiaXlPUWNablplVDhhcFFhQTYwZW8wZmh0QjVDWFMyelRVTkN1ZThUdzVidU1wUHIzK2xqVURlOVY4VVMrCmVlQlc5bnM1NFRreThza05FZDRZeUxCNTVCZUdTbWtRNUZ5R1RqM1lqWlU5RkZZc3RkUjh0ekV1RXZoZEpTelQKa2VmSGxRY05LSFp2Yis3Y3RhVEIzc2UzdkJ0WXFrdUd1bEZCbjZqQm1idk90enNJRDZiVzhKbXpHZTFLQTV1QwphbzBGZmNsbnZxdCswWERSOG9tWTJjSEM0bkttRmRyTkpMVUxVR2J2M3JQaWRLOEo0b0dDVUdMV0t2QzljWkw4CmFJWmlqcWpYWUlNTURQL0N2Zk9KK2ZtUmlwOXpFWTI1OS9ZZTc1MWpzTGlzQlhqTVFWb2FTb1ZTRUtPZWkyUGQKTnYwK3JKSDNEdDVzYjd3dE1icnZKMDVoUHFNZ2xMamVhMDhGM1dQa29uRGdUQjZDOUU2ZWx1Q0tyZmUwMVRMZwpORXVoeGxaRUQzTzZGWDBtbDN3MHJxT1J6NllFa09pRTZzT1BHWERudW5ibDJpTU1hVWRYYVVQNTFNQkoxemo0CjZ1UnVabHF6U1VBVWE2TEtwdXJSVTNtb3dVOGNjOFVlS2ltMUdOdTdJR2w3am1TY2E1TWVzUFZ6ZUdXRnB0eVUKZitwemVZdHRpOE5qbVZyR0JKQTVPT09BSlNEUWVWWlNGQ1lHb2FveGRqa3N0bFM4TkorNDJ6Y3FVejRWa3p2egpJTXhCSmQxd3c5TEpJL1dtLzdvU0N2eXRFelJ5ZVZrbVEvZkE3ODAzelZkSlNWdmdFNGdZNzdIYzh6Zm9PemFtClJTMlVUTGhwamZHRUhJc3dvRlI0WVNkWHlVaW1IaEFkbldVK21KUGxGQnZ0bHlJbVcvY3Q2endaZVVBTjc2UjgKbTV4OExlVC8vYTJFelc5VnZCUFZwRjlEM1JpVVFQWGNEbjlWRjhEZWFQaWhsbjNVVVVNdnlkRGtTN1pXSE1xSgpZNXdTdTRlMHJqSW1BUjFlcURuYVA3M2oxTktUNHlJYSsvOGM4K2Nyd0didlZSU3lwMjdxOTIrOFlsczVZQ1pJCmdQa2pyaUpweUtGRkNuOU1FdmZERHZiMlZVZjUxWGI0ZHBDYkRLMTVwekx6OW1GaW05b1E0UWIxVzdpTXlBZDkKWlNuWE1QMjMrQTBndlQ4RUk5NFQ5ODc4eFdJbWo4YVAycU1wYlZsVm1mdXpGMUwwZml2SG5Wc2xlUnZYZjlPSQpONEpHc04yOHhvQXNxTmhnMnlGNlFaMmozcjhWWHdxWTU4azRaWk1jWXhERE1nU3dVZ0kzV0srTWJ4NXhSejk2CjhSYlhadE9oQkgzbitTSyt0a3RHU20xVE9ET1Z6TWNGMktMaUZEbDlNVXc3NDQ4czBEOFNGb1RMcjNyMGNRNDQKYlBTKzBkQmgxTzlGS2IwTHVLbnEyTlRvdE5nYU9rT3I0ZjVJZkdudjVuUVRLczgzTllXNm1vejE0MXZTWDlqUgo4elQ4WFlLU2VqL2NuT1RvL1g4Y2RjanN5eTdRNjQvcmUvUVFDZ2N4ajdRcm8rUUVTVDdQa0tVUlR2RkZZd294Cm5YM2RKaHlOR3VRMmgxRWVMdTN4MzdrRWEzV0NzeHQ2bmpsTnRlQ1QrcnFiR1JNb21xZnVVc29FYUU1aWxNRWkKTE83WG95QWpYL09BVnJza1Z0M1BZYVRPMVcvNlNEc2NsNThXTFJSeVFjNy9LdzNxMjVoRnpZek03OHp3UEpzSgpGdXdObFJsbjlyMEVBdWJRQWhEZHFOT1lQUEJrME5TMVNOV2RVOHp3dUpTSmFVRWRTS2xSSGR0ZlZmVS8relkwClFEVUZHYzduSGNEZWxCNFBiMFlwNlZBQjVnPT0KPUN4a20KLS0tLS1FTkQgUEdQIE1FU1NBR0UtLS0tLQo="
   ]
  },
  {
   "cell_type": "code",
   "execution_count": null,
   "metadata": {},
   "outputs": [],
   "source": [
    "''' \n",
    "Loading data from files.\n",
    "This will take a while. Because it cleans and makes some essential transformations.\n",
    "But it is a one-time operation. `parquet_all()` will save all datasets to the disk, preserving any transformations applied.\n",
    "From next time, you can directly load them  with: `load_from_parquets()`.\n",
    "'''\n",
    "\n",
    "\n",
    "# Provide the data directory\n",
    "data_dir = f\"./data\"\n",
    "\n",
    "# Individual file paths:\n",
    "path_contr = f\"{data_dir}/data_EU/countries_shp/\"\n",
    "path_reg = f\"{data_dir}/data_Italy/regioni/\"\n",
    "path_prov = f\"{data_dir}/data_Italy/provinci\"\n",
    "path_com_EU = f\"{data_dir}/data_EU/comuni_shp/\"\n",
    "path_com = f\"{data_dir}/data_Italy/comuni/\"\n",
    "path_grids = f\"{data_dir}/data_EU/census_grid_EU/grids_OG_corrected.parquet\"\n",
    "path_grids_new = f\"{data_dir}/data_EU/census_grid_EU/grids_new.gpkg\"\n",
    "\n",
    "# Dataset names and their file formats:\n",
    "# format: {dataset_name: (path, file_format), ...}\n",
    "\n",
    "datasets: dict[str, tuple[str, str]] = {\n",
    "    \"countries\": (path_contr, \"shapefile\"),\n",
    "    \"regions_IT\": (path_reg, \"shapefile\"),\n",
    "    \"provinces_IT\": (path_prov, \"shapefile\"),\n",
    "    \"comuni_EU\": (path_com_EU, \"shapefile\"),\n",
    "    \"comuni_IT\": (path_com, \"shapefile\"),\n",
    "    \"pop_grids\": (path_grids, \"geoparquet\"),\n",
    "    \"pop_grids_new\": (path_grids_new, \"geopackage\"),\n",
    "}\n",
    "\n",
    "obj = Enricher(crs=\"EPSG:3035\")\n",
    "\n",
    "# Setup the Enricher object with \"sedona\" (or, \"wherobots\")\n",
    "# \"ex_mem\" and \"dr_mem\" are the executor and driver memory in GB\n",
    "obj.setup_cluster(\n",
    "    data_dir=data_dir, \n",
    "    which=\"sedona\", \n",
    "    ex_mem=26,\n",
    "    dr_mem=24,\n",
    "    log_level=\"ERROR\")\n",
    "\n",
    "# Use \"load()\" to load all the datasets in {data_dir}, \n",
    "# according to the paths and file formats provided in \"datasets{}\"\n",
    "obj.load(datasets, silent=True)\n",
    "\n",
    "# Optionally, run \"fix_geometries()\" to fix invalid geometries if any; \n",
    "# if you want to skip the check for some dataframes, pass their names in \"skip[]\"\n",
    "obj.fix_geometries(\n",
    "    skip=['pop_grids', 'pop_grids_new']\n",
    "    )\n",
    "\n",
    "# Optionally, inspect the partitions and data skew:\n",
    "# obj.inspect_partitions()\n",
    "\n",
    "# and force the dataframes to be repartitioned to the number of available cores\n",
    "# pass the names of the dataframes to be skipped in skip[]\n",
    "obj.force_repartition(skip=['pop_grids'])\n",
    "\n",
    "# obj.inspect_partitions()\n",
    "\n",
    "# Transform the CRS of loaded datasets to the CRS passed in the Enricher constructor\n",
    "# lazy=True will not cache the dataframes. \n",
    "obj.transform_CRS(lazy=False)\n",
    "\n",
    "# Pickle all the dataframes to disk for quick access later.\n",
    "# default directory: \"./{data_dir}/pickle_parquets/dfs_list\"\n",
    "# you may change the directory where they are saved by pasing it in \"parquet_dir\"; relative to the {data_dir}\n",
    "obj.parquet_all(preserve_partitions=True)\n",
    "\n",
    "\n",
    "# obj.dfs_list['comuni_EU'] = obj.dfs_list['comuni_EU'].filter(F.col('CNTR_ID').isin([\"IT\", \"DE\"]))"
   ]
  },
  {
   "cell_type": "code",
   "execution_count": 19,
   "metadata": {},
   "outputs": [
    {
     "name": "stdout",
     "output_type": "stream",
     "text": [
      "sedona initialized with 10 cores for parellelism.\n",
      "Loading 'countries' from Parquet...\n",
      "Loaded dataframe 'countries'\n",
      "Loading 'regions_IT' from Parquet...\n",
      "Loaded dataframe 'regions_IT'\n",
      "Loading 'provinces_IT' from Parquet...\n",
      "Loaded dataframe 'provinces_IT'\n",
      "Loading 'comuni_EU' from Parquet...\n",
      "Loaded dataframe 'comuni_EU'\n",
      "Loading 'comuni_IT' from Parquet...\n",
      "Loaded dataframe 'comuni_IT'\n",
      "Loading 'pop_grids' from Parquet...\n",
      "Loaded dataframe 'pop_grids'\n",
      "Loading 'pop_grids_new' from Parquet...\n",
      "Loaded dataframe 'pop_grids_new'\n"
     ]
    }
   ],
   "source": [
    "''' \n",
    "Load data from pickled parquets \n",
    "\n",
    "'''\n",
    "\n",
    "# Provide the data directory\n",
    "data_dir = \"./data\"\n",
    "\n",
    "obj = Enricher(crs=\"EPSG:3035\")\n",
    "\n",
    "# Setup the Enricher object with \"sedona\" (or, \"wherobots\")\n",
    "# \"ex_mem\" and \"dr_mem\" are the executor and driver memory in GB\n",
    "obj.setup_cluster(data_dir=data_dir, \n",
    "                  which=\"sedona\", \n",
    "                  ex_mem=26, \n",
    "                  dr_mem=24, \n",
    "                  log_level=\"ERROR\")\n",
    "\n",
    "# Loads all the datasets from pickled parquets in the default direcoty: \"./{data_dir}/pickle_parquets/dfs_list\"\n",
    "# optionally, to load from a different directory, pass the directory path in \"parquet_dir\"; reative to the {data_dir}\n",
    "obj.load_from_parquets()\n",
    "# obj.inspect_partitions()"
   ]
  },
  {
   "cell_type": "code",
   "execution_count": 14,
   "metadata": {},
   "outputs": [
    {
     "name": "stdout",
     "output_type": "stream",
     "text": [
      "User Guide: https://docs.kepler.gl/docs/keplergl-jupyter\n"
     ]
    },
    {
     "data": {
      "application/vnd.jupyter.widget-view+json": {
       "model_id": "077d413863084243a782e80e58d49b8a",
       "version_major": 2,
       "version_minor": 0
      },
      "text/plain": [
       "KeplerGl(data={'countries': 'countries'})"
      ]
     },
     "execution_count": 14,
     "metadata": {},
     "output_type": "execute_result"
    }
   ],
   "source": [
    "'''\n",
    "Visualize the datasets\n",
    "\n",
    "'''\n",
    "\n",
    "# Pass a list of: names of the loaded datasets or directly the Spark dataframes in memory\n",
    "# Make sure the geometry column is named \"geometry\".\n",
    "# If not, pass individual dataframes with thei geometry column with the argument `geom_col`\n",
    "obj.plot_this(\n",
    "    [\"countries\", obj.dfs_list[\"provinces_IT\"]],  # str | SparkDataFrame | list[str | SparkDataFrame]\n",
    "    new_map=True  # if it is False, the dataset will be added to the old map (if it exists, or else, makes a new one)\n",
    "    )\n",
    "\n",
    "# you can plot the map in another cell, just run `<obj>.map`"
   ]
  },
  {
   "cell_type": "code",
   "execution_count": 3,
   "metadata": {},
   "outputs": [
    {
     "data": {
      "application/vnd.jupyter.widget-view+json": {
       "model_id": "b220077e15a74ec281f0ea0aeb4a776f",
       "version_major": 2,
       "version_minor": 0
      },
      "text/plain": [
       "VBox(children=(HTML(value='<h1>Enrich with Overlay & Aggregation</h1>'), HTML(value=\"<div style='height: 5px;'…"
      ]
     },
     "metadata": {},
     "output_type": "display_data"
    }
   ],
   "source": [
    "'''\n",
    "GUI for Enricher primitives\n",
    "\n",
    "'''\n",
    "\n",
    "# pass the Enricher object (loaded with the datasets) to the EnricherUI\n",
    "obj_ui = EnrichOverlay(obj)\n"
   ]
  },
  {
   "cell_type": "code",
   "execution_count": null,
   "metadata": {},
   "outputs": [
    {
     "name": "stdout",
     "output_type": "stream",
     "text": [
      "User Guide: https://docs.kepler.gl/docs/keplergl-jupyter\n"
     ]
    },
    {
     "data": {
      "application/vnd.jupyter.widget-view+json": {
       "model_id": "2870d247de19426f94650378dcaef53a",
       "version_major": 2,
       "version_minor": 0
      },
      "text/plain": [
       "KeplerGl(data={'unnamed': {'index': [0, 1, 2, 3, 4, 5, 6, 7, 8, 9, 10, 11, 12, 13, 14, 15, 16, 17, 18, 19, 20,…"
      ]
     },
     "execution_count": 20,
     "metadata": {},
     "output_type": "execute_result"
    }
   ],
   "source": [
    "res_agr = obj.load_from_parquet(name=\"grids_X_countries\")\n",
    "\n",
    "obj.plot_this(\n",
    "    [res_agr],  # str | SparkDataFrame | list[str | SparkDataFrame]\n",
    "    new_map=True  # if it is False, the dataset will be added to the old map (if it exists, or else, makes a new map)\n",
    "    )"
   ]
  },
  {
   "cell_type": "code",
   "execution_count": null,
   "metadata": {},
   "outputs": [
    {
     "name": "stdout",
     "output_type": "stream",
     "text": [
      "Loading dataframe 'grids_X_countries' from Parquet...\n",
      "Loaded dataframe 'grids_X_countries'\n"
     ]
    }
   ],
   "source": [
    "# obj.dfs_list.keys()\n",
    "\n",
    "# obj.parquet_this(\"grids_X_countries\", obj.res_agr, preserve_partitions=True)\n"
   ]
  },
  {
   "cell_type": "code",
   "execution_count": null,
   "metadata": {},
   "outputs": [
    {
     "name": "stdout",
     "output_type": "stream",
     "text": [
      "['COMM_ID', 'CNTR_ID', 'CNTR_CODE', 'COMM_NAME', 'NAME_ASCI', 'TRUE_FLAG', 'NSI_CODE', 'NAME_NSI', 'NAME_LATN', 'NUTS_CODE', 'FID', 'geohash', 'geometry', 'T_agr_sum']\n",
      "58166281.116447605\n"
     ]
    }
   ],
   "source": [
    "temp: SparkDataFrame = obj.res_agr\n",
    "print(temp.columns)\n",
    "\n",
    "# temp: SparkDataFrame = temp.filter(F.col('CNTR_ID') == 'IT')\n",
    "print(temp.agg(F.sum('T_agr_sum')).collect()[0][0])\n",
    "\n",
    "# obj.parquet_this(\"intrsctn_com_grid_IT\", temp, preserve_partitions=False)\n",
    "# obj.parquet_this(\"grids_new_X_comuni_EU_IT\", temp, preserve_partitions=False)\n",
    "# temp.cache()"
   ]
  },
  {
   "cell_type": "code",
   "execution_count": null,
   "metadata": {},
   "outputs": [
    {
     "name": "stderr",
     "output_type": "stream",
     "text": [
      "[Stage 215:====================================================>(199 + 1) / 200]\r"
     ]
    },
    {
     "name": "stdout",
     "output_type": "stream",
     "text": [
      "109707\n"
     ]
    },
    {
     "name": "stderr",
     "output_type": "stream",
     "text": [
      "                                                                                \r"
     ]
    }
   ],
   "source": [
    "#ENCRYPTED\n",
    "# This cell is encrypted. Will be made public soon. Contact: sudheer.siddabattula@gmail.com for access/details\n",
    "\n",
    "LS0tLS1CRUdJTiBQR1AgTUVTU0FHRS0tLS0tCgp3Y0JNQTB5VXBDMWwzUy9oQVFnQWtnWUdqRWFHNTNOT1Z4bmMvUExHWGs4N1FqY1R6Ri8wQW9JVGRkRnJjMFBQCmVMZTVyTnluNTlyOWNLdTBRSU50REQ5Vmo4R3RXR2JseVI4UXNMSVZNRHZwOGVEeUtmQ0hvQkFnVnExU1FHQW8KZDNIUUVYL3I5SDR4eUtXMEZpeGhmdkpWRDU1MWRrM3Y2K0tvNjNpQWhYTVBhOFlRS1FXVTFkdVZvWkVzMXdVdwprMzNtY3JtSGpkd0FCMEQ4eGU1Ui91S0dJU2FOSzcyVC9wZTNkTTVEc2F4WFpNZG96WDJzWGR0RlRqVVI1ZW1iCmdjd0ZtVlRFNjg3bDhCaGFYMG9TUkxDdU1acU9UYWpkbVFBL0hlNFRadFRvWC9VbzROcnFHRzVhWU1taDQ0N1MKL3U5STRsQ2hJcXEwMmwxOHJjSVdwQlpVOUdyT1pDVHBzaDg0VFNmbkxkTEJ6UUdnOTU3MkRVSXJnanJmbUtLTwplZ1dLZFZYYnZNSU5kTGRaWXA0S2s0bXBSWEIyaDdURUU1RFp6dE1TU2orQlNZaTF6WFI1RlpvUzRLdUQ2Qy9PClRGaFYyZFFWOWF2Nkk5eGFEVTRSejUvSmZpbmlrMTdvekkySFY3Q0V1ZzVmTU9zYnEwbC9pM1dkZy84RXpYeEYKN3lCWkJkS1FmQkM0dTBwVGtodkFLb0Q3REpSVks4RVIybHBpalduOG9PWDNGTlduTE9KVC9RTmpmN1NPdGNnagppbmZoUjQrUEE4OHdXZFRWZ3B5SUlUWUdZRStRRm1rRVF0ZjJJNlU4WTJQV2FNR3psSzlwdW41NXlVbkRUbG82Ckl3THVvdkhNMFJXWlJOTTBXb2xDUmFjK25Fd2VOanJzd3BLL05XNnBQaGdENDErUGJkaXFUQXlVZFo5S3FETnEKR1VGNXJrNmNGcm1OcUxidy8vb21QMTZrbmppWElzbGF2MlE2T0lnaDRFRFloM2VoUlhYbEsyU0hYYU5TRThYbgpPYnVLb2JJYmdoV05PejVXTlcyeEpiL2gxaW1oSnV6M3JzcXNRNFdhNDRVMFNvaitmTXBnb0NWUFFRaXRWaFVzCnk5Y01SSTlPYmtoS21wODhWbUJwci80M3ZSMFNZYUJhVHUzSmc4ak5SblBTMDlLN1kvd1lncGFFYVF1a1M5VzkKZ3gyRCthQ0lHLy9PMU9jLzRJK25jMFZxc3ZYOFhBQVo0OEVTRmhJUXV2bFA3RzRFZ1pwN3dmOXRTQkZ1M1k2VwpjUEUzNCsyMytiY1BOLzZoTTVSL0M4NzE1R2QvRXUvakpJN2I2bG5yN2x3UVJCY1VwMjltemVDaHJnMGFUaVdUClJjK2ZUU3d6RXk3RFJQMWEyeFZud3E2T05jZlpFM1JIM3lWTXJNOUErZFVpT2Y1S1JvWjhyZU8rOWZKdDZFb0QKWlVrdmg5RjRHZHE3VGNmUjlicjYvRGFIQXN3b0lKYlBVU0gwSVRoS1Q4Um9UUlVTcEFhS2t1UGl0TXE2a1QyUgo0Um5UY1ZTT3ErcWM4V0tOVHRhMU4yU0d1Yng5d0NwVEpydGI5Mnoxb0J0cFlkMDFiVzJWWU1OMERnTFBsak5tCjdxck5CWElPdTkyOGw2bVJWQnA3Cj1zSmdYCi0tLS0tRU5EIFBHUCBNRVNTQUdFLS0tLS0K"
   ]
  },
  {
   "cell_type": "code",
   "execution_count": null,
   "metadata": {},
   "outputs": [
    {
     "name": "stdout",
     "output_type": "stream",
     "text": [
      "41190463\n"
     ]
    }
   ],
   "source": [
    "\"\"\"\n",
    "Contains\n",
    "41190463\n",
    "\"\"\"\n",
    "\n",
    "print(res_n.agg(F.sum('t_agr')).collect()[0][0])\n"
   ]
  },
  {
   "cell_type": "code",
   "execution_count": null,
   "metadata": {},
   "outputs": [
    {
     "name": "stdout",
     "output_type": "stream",
     "text": [
      "77386595\n"
     ]
    }
   ],
   "source": [
    "\"\"\"\n",
    "Intersects\n",
    "77386595\n",
    "\"\"\"\n",
    "\n",
    "print(res_n.agg(F.sum('t_agr')).collect()[0][0])\n"
   ]
  },
  {
   "cell_type": "code",
   "execution_count": null,
   "metadata": {},
   "outputs": [],
   "source": [
    "\"\"\"\n",
    "ST_Intersection\n",
    "58166281\n",
    "\"\"\""
   ]
  },
  {
   "cell_type": "code",
   "execution_count": null,
   "metadata": {},
   "outputs": [],
   "source": [
    "import pyarrow.parquet as pq\n",
    "\n",
    "parquet_file = pq.ParquetFile(\"./data/pickle_parquets/others/grids_new_X_comuni_EU/test.parquet\")\n",
    "\n",
    "# Print full metadata\n",
    "print(parquet_file.metadata)\n",
    "\n",
    "# Print schema (column names, types, etc.)\n",
    "print(parquet_file.schema)\n",
    "\n",
    "# Print key-value metadata (custom user-defined metadata)\n",
    "print(parquet_file.metadata.metadata)  # This is a dictionary\n"
   ]
  },
  {
   "cell_type": "code",
   "execution_count": 16,
   "metadata": {},
   "outputs": [
    {
     "name": "stdout",
     "output_type": "stream",
     "text": [
      "{\"$schema\":\"https://proj.org/schemas/v0.7/projjson.schema.json\",\"type\":\"ProjectedCRS\",\"name\":\"ETRS89-extended / LAEA Europe\",\"base_crs\":{\"name\":\"ETRS89\",\"datum_ensemble\":{\"name\":\"European Terrestrial Reference System 1989 ensemble\",\"members\":[{\"name\":\"European Terrestrial Reference Frame 1989\",\"id\":{\"authority\":\"EPSG\",\"code\":1178}},{\"name\":\"European Terrestrial Reference Frame 1990\",\"id\":{\"authority\":\"EPSG\",\"code\":1179}},{\"name\":\"European Terrestrial Reference Frame 1991\",\"id\":{\"authority\":\"EPSG\",\"code\":1180}},{\"name\":\"European Terrestrial Reference Frame 1992\",\"id\":{\"authority\":\"EPSG\",\"code\":1181}},{\"name\":\"European Terrestrial Reference Frame 1993\",\"id\":{\"authority\":\"EPSG\",\"code\":1182}},{\"name\":\"European Terrestrial Reference Frame 1994\",\"id\":{\"authority\":\"EPSG\",\"code\":1183}},{\"name\":\"European Terrestrial Reference Frame 1996\",\"id\":{\"authority\":\"EPSG\",\"code\":1184}},{\"name\":\"European Terrestrial Reference Frame 1997\",\"id\":{\"authority\":\"EPSG\",\"code\":1185}},{\"name\":\"European Terrestrial Reference Frame 2000\",\"id\":{\"authority\":\"EPSG\",\"code\":1186}},{\"name\":\"European Terrestrial Reference Frame 2005\",\"id\":{\"authority\":\"EPSG\",\"code\":1204}},{\"name\":\"European Terrestrial Reference Frame 2014\",\"id\":{\"authority\":\"EPSG\",\"code\":1206}},{\"name\":\"European Terrestrial Reference Frame 2020\",\"id\":{\"authority\":\"EPSG\",\"code\":1382}}],\"ellipsoid\":{\"name\":\"GRS 1980\",\"semi_major_axis\":6378137,\"inverse_flattening\":298.257222101},\"accuracy\":\"0.1\",\"id\":{\"authority\":\"EPSG\",\"code\":6258}},\"coordinate_system\":{\"subtype\":\"ellipsoidal\",\"axis\":[{\"name\":\"Geodetic latitude\",\"abbreviation\":\"Lat\",\"direction\":\"north\",\"unit\":\"degree\"},{\"name\":\"Geodetic longitude\",\"abbreviation\":\"Lon\",\"direction\":\"east\",\"unit\":\"degree\"}]},\"id\":{\"authority\":\"EPSG\",\"code\":4258}},\"conversion\":{\"name\":\"Europe Equal Area 2001\",\"method\":{\"name\":\"Lambert Azimuthal Equal Area\",\"id\":{\"authority\":\"EPSG\",\"code\":9820}},\"parameters\":[{\"name\":\"Latitude of natural origin\",\"value\":52,\"unit\":\"degree\",\"id\":{\"authority\":\"EPSG\",\"code\":8801}},{\"name\":\"Longitude of natural origin\",\"value\":10,\"unit\":\"degree\",\"id\":{\"authority\":\"EPSG\",\"code\":8802}},{\"name\":\"False easting\",\"value\":4321000,\"unit\":\"metre\",\"id\":{\"authority\":\"EPSG\",\"code\":8806}},{\"name\":\"False northing\",\"value\":3210000,\"unit\":\"metre\",\"id\":{\"authority\":\"EPSG\",\"code\":8807}}]},\"coordinate_system\":{\"subtype\":\"Cartesian\",\"axis\":[{\"name\":\"Northing\",\"abbreviation\":\"Y\",\"direction\":\"north\",\"unit\":\"metre\"},{\"name\":\"Easting\",\"abbreviation\":\"X\",\"direction\":\"east\",\"unit\":\"metre\"}]},\"scope\":\"Statistical analysis.\",\"area\":\"Europe - European Union (EU) countries and candidates. Europe - onshore and offshore: Albania; Andorra; Austria; Belgium; Bosnia and Herzegovina; Bulgaria; Croatia; Cyprus; Czechia; Denmark; Estonia; Faroe Islands; Finland; France; Germany; Gibraltar; Greece; Hungary; Iceland; Ireland; Italy; Kosovo; Latvia; Liechtenstein; Lithuania; Luxembourg; Malta; Monaco; Montenegro; Netherlands; North Macedonia; Norway including Svalbard and Jan Mayen; Poland; Portugal including Madeira and Azores; Romania; San Marino; Serbia; Slovakia; Slovenia; Spain including Canary Islands; Sweden; Switzerland; Türkiye (Turkey); United Kingdom (UK) including Channel Islands and Isle of Man; Vatican City State.\",\"bbox\":{\"south_latitude\":24.6,\"west_longitude\":-35.58,\"north_latitude\":84.73,\"east_longitude\":44.83},\"id\":{\"authority\":\"EPSG\",\"code\":3035}}\n"
     ]
    }
   ],
   "source": [
    "from pyproj import CRS\n",
    "print(CRS.from_epsg(3035).to_json()) "
   ]
  },
  {
   "cell_type": "code",
   "execution_count": null,
   "metadata": {},
   "outputs": [
    {
     "name": "stdout",
     "output_type": "stream",
     "text": [
      "4531770\n"
     ]
    }
   ],
   "source": [
    "#ENCRYPTED\n",
    "# This cell is encrypted. Will be made public soon. Contact: sudheer.siddabattula@gmail.com for access/details\n",
    "\n",
    "LS0tLS1CRUdJTiBQR1AgTUVTU0FHRS0tLS0tCgp3Y0JNQTB5VXBDMWwzUy9oQVFnQW5TbXM1em1ReGtoNVV0V0l4c0xuREJQY0xQdHNQQjdlQnJqa1BITGU5WFpkCkhmRWUrMzZvcHFwTFlVMi82YmJLRWdxT01UdDV4T2loaG1mNGJLM0ZWS3VFQlNRYWlnK3pEbHJyQlNrbkdRSUcKaTNmeGJzNTU5RWtjWUkzYXN2aUI5d1lpRUFCanNVcjA5QnNnTHF3bTJzZW5DaFlJMjlVb2RPaFJycGZyN3ZpZgpOSXIzbjNmU3RUVXlwbUg2NjBjemRqYWx6UDN3QWExUnlDTFEvNy9BMGlzZ2xEYlRZWFEwejJTVW85ZGlZdUJ5Cms5UVUyamFSSjhZaTl1d2ZQM3RUakd1Y3hVQkNjUDRQNm5MYXZiWGxNajZwdmhabkFtOTJYNGxYZ0F1THgvamgKZ3VtZ1haWW54Z2plaGJ5Q3cxTGRnSXIrSWEvazJsUVhYZGVvZ2w5YS90TEFTUUhQWEJTd1M0cE15M0dMeWdFbQpuSVhhMmx2Wi9xdmdDTVFlRjNCcmhvUVdUVjZRT3dYNmM4WGhQK3JsQVY2K3h6NWtaOGtvMU5GckI3aUxDaU5rCjBiMCtDMUsrbkVpU1FKeWZuTk96eERYakEwbFJzSW1iclFBZ2VlcVgwdjExNEZmMWN4TlBsYWwxVUFselpSZWYKOXBrZ29pTVd4U0d3TFRIQStGUjUrRTJRdjhSREg1Z3ZqMmRQeEtmNmZjOTlUUEMyekgxYVVFaElGd1ZuRE1YeApvUEt0QjMvWkNEVktoRVJjRkZRaGV4Y2lLVlJsZlRDSjlianZzMWdSV0IrdUN2WnNFdGdjdnJ6ZnZhRW5aMHVkCi9jdm1FSURuVjkycks0eFlVTVE5MUk4UmpqY0szcDFtYzJJcmpwTG5kT2FFcWtLblMvZENBaUM2WHNjSkJkQWsKeGEwbktvNFZyanZySHkwPQo9QjUxZAotLS0tLUVORCBQR1AgTUVTU0FHRS0tLS0tCg=="
   ]
  },
  {
   "cell_type": "code",
   "execution_count": null,
   "metadata": {},
   "outputs": [],
   "source": [
    "#ENCRYPTED\n",
    "# This cell is encrypted. Will be made public soon. Contact: sudheer.siddabattula@gmail.com for access/details\n",
    "\n",
    "LS0tLS1CRUdJTiBQR1AgTUVTU0FHRS0tLS0tCgp3Y0JNQTB5VXBDMWwzUy9oQVFmOUhvcmxPdkY3bFBGTGVlWkxES0pkZ0xZWlYvcHF6eXRTelF2YzN4Skt6VlhqCkhSdGxKOXZoSmMvWWdCRUR4YnBjSlZqMWs5T2Q3YnFoRm5VL2hPeGQ2QzNRWUJXVGVkcFRTcDFqMHlGWU1OSnMKRzVPcmI2ZDFLOXJwOXBLaHdob2o1NXdwb3lRc3dxaldPZFpaSlp4Qy9QSEZ6VmREM2x3WmVQNUp3ZVdLcjI4MwpMU0Mwa21ja2V0TVNqeU5KNnltNDJEdWtQSVZZa2taRHFvVlRDMTJkVERoejlmWUtLeUxNbHlCamNYM0htbDZsCmw2eksvUlJMd0tWcG9oWVpTLzZ3VmtQL20wNGlpS3lvTEtRZ3dSdjFhVEJ0SDY3Vlh6VzdneUtUQXJCTWV4YjcKcndlNVVnK251VEFXbTEyUlZEK0YyRkxiSHdjbGxHMzhnSUJDWXo4eXJkTEJvQUY0aExJRU10cTdsTkY0UjRYTwpHekVJQmlDaThIakNJeW52bnMzaGZSb2trQmM1NUlTVW1adGErSFVUajdwZ1VYRUduSVNNY3hpL2ZEUW5mdW5zCnVndUlnYlEyNE9jamR5b0YzYjRneStyZUgzNXlNdkxNSmFtNUpTNlFnUDVMdkF3OWFVbDVhekozNzJoay85TDcKcUZIQUk5ME1ncWVNZ1ZITk4vODJST0xhYXJhVXY5WnhEMnU5dGVydWtGQTJKU0p6dGxRM29YN2lRVW92eFJjMgpZei90SnBzN3l2RU9NdzBjSC9xcUN6clhQTWtIT25hQ090THpGVVQrS0E1NXZIQTNIOWFxY2l4WGhxaEVoSm13CjQwVFZYYk05ejA2SGhBL3RhYXpBU1Z2MlAybFB4ekVFTVBvNi9iVi8reFhMN0t5bWhqKzVVK2w1OXZIZ080Sy8KMUxkMUF2cGV5NVdUK1FDQ09IQXZBUFV6WHBMbnBIZjNTaDE1OVdNZnZWQnBDeFMwTDh6U21SU1hzYURvdjRSYQo1a2ltTS8xakx1SmFhN2pQZ0ZzQWJkbmZ0VG05MWRtQTBNak84SzU1SnFTRllhdk1naTNyZGNjZzNwOVVQblhPClhydG9FcXFpYTN6VDNnaTlEdkg0VXJkU0VHTXI0NXh0R3pFU3prMThSV0JUVkNFRmFtWkFxYmZ2NGNBY2M3VDQKWFM0djRjOEJ6bWl1Y3NxOXdoZ2VmcHM2RjZGRXJlUlpiQmxjREpSVGpDWS9ocHhMMVlST2lVeE5nRk1vclU0NQpJUGJSblJHT2ZLN09yNmxGLzZkNHo1dUxLZHUzeFFUek9ZVnZtN0RGVnlRamtDaHhLSEJtRmtlQjNweWRWMGFIClJBTkhNU3F1N0ROQzR1dXR0NWRkMytib0RzSXNjb3dwR0ZmQ0hNZTJ0S1Fjb0x6YzQvTEVkTzdhamVMaHh5b0QKUlkweHRuditkaDU4bW02cXYvaFkxNk9YQU8zakFhRmRzcEV3Y1JPcGNOL0xqSEZ3cFd6Ump4UElYbEZsNTdFRgpUMEdxRVRxOVpQcHNlYk5OakZOS3lPcVUKPXBDWTkKLS0tLS1FTkQgUEdQIE1FU1NBR0UtLS0tLQo="
   ]
  },
  {
   "cell_type": "code",
   "execution_count": null,
   "metadata": {},
   "outputs": [
    {
     "name": "stderr",
     "output_type": "stream",
     "text": [
      "/data/homes_data/sudheer/benchmark_data/sedona_venv/lib/python3.12/site-packages/jupyter_client/session.py:721: UserWarning: Message serialization failed with:\n",
      "Out of range float values are not JSON compliant: nan\n",
      "Supporting this message is deprecated in jupyter-client 7, please make sure your message is JSON-compliant\n",
      "  content = self.pack(content)\n"
     ]
    },
    {
     "data": {
      "application/vnd.jupyter.widget-view+json": {
       "model_id": "cc76fdf26c8f4a20beab056580dd247c",
       "version_major": 2,
       "version_minor": 0
      },
      "text/plain": [
       "KeplerGl(config={'version': 'v1', 'config': {'visState': {'filters': [], 'layers': [{'id': '7f1zywf', 'type': …"
      ]
     },
     "execution_count": 34,
     "metadata": {},
     "output_type": "execute_result"
    }
   ],
   "source": [
    "map.add_data(\n",
    "    data=prep_for_map(df1, obj.crs, geom_col=\"geometry\"), \n",
    "    name=\"comune\"\n",
    "    )\n",
    "map"
   ]
  },
  {
   "cell_type": "code",
   "execution_count": 17,
   "metadata": {},
   "outputs": [
    {
     "name": "stdout",
     "output_type": "stream",
     "text": [
      "User Guide: https://docs.kepler.gl/docs/keplergl-jupyter\n"
     ]
    },
    {
     "data": {
      "application/vnd.jupyter.widget-view+json": {
       "model_id": "3d1da6fa92384e37ba4e1bd81d65337f",
       "version_major": 2,
       "version_minor": 0
      },
      "text/plain": [
       "KeplerGl(data={'temp': {'index': [0, 1, 2, 3, 4, 5, 6, 7, 8, 9, 10, 11, 12, 13, 14, 15, 16, 17, 18, 19, 20, 21…"
      ]
     },
     "execution_count": 17,
     "metadata": {},
     "output_type": "execute_result"
    }
   ],
   "source": [
    "#ENCRYPTED\n",
    "# This cell is encrypted. Will be made public soon. Contact: sudheer.siddabattula@gmail.com for access/details\n",
    "\n",
    "LS0tLS1CRUdJTiBQR1AgTUVTU0FHRS0tLS0tCgp3Y0JNQTB5VXBDMWwzUy9oQVFnQW9sdUNtYS90bVJjN1lWZTF2VWZyb3hJWEtIQTdtNUdRQ1d6b080bGl0S3ByClppSzZTbkVvWXh6NjFFRGVhQktkdHM3T2NFTE1QbTJZUkJ4aTVpWUpJYkZRalRCYXdiTU5DVFQzUWZHRUcvb04KWTU4bTZLbElCTnhGMGRoNjJTZk1tRnAvQkVhcGNVM1hmYXBaNGxhNVVxV0l5bGxGaVZqZDg3VURldzVab01CbQppS3lXTWpORXpXWmh0UndnNUlzV08yM1NiWHFaclUzMkEvMThPR3JzWk0zNXlRQm44NlRFWGh2M0VwMk1HSHh1CmFxOUJHUEJSR3FGYWppc2x1aU1mOUdhR2lQYnJKUXA4S3lJblZOaGRiNy9JTVdxVWl4R1orM1lBTllBdU1OenIKWmdOVUV3eTRRSmgyWDNWdkdVMllmVUJZMTJLZjVjdFlmdGRpQmVabHF0TEFBd0hUK2VqVE9ibWhtTVFJQm1URgpGWmtBcXN2ajBvM2J6S3FuUVZrTlVMQVRvUHJrRTBDQjFnSGFWLzFkMGVFUzZ2T3M5bmkxR09nVTJpS25nclZaCnR3VmpaeEJBOFhvRmd0YVdYUnhpMGt5MEF4Y3JsN1kyMmIzTDNjdnBOa0MxM0xJekE3OVZzNnNwQmdXM3QrSS8KYk1ndkxZdG00THF0dWJERmkrMmJ6eW1wVFFNYy8zMm9taEtqZ3RUWGxkdzdVYmkwTEUzOXplREFPQS9pdzNKRgptVEVtT0dxUkl6VkxnTWVCbUhCK0M2TFlCK2pwUFJCbUhoOEJwa3dxSXZpM1JJVDVkdz09Cj1vZVo1Ci0tLS0tRU5EIFBHUCBNRVNTQUdFLS0tLS0K"
   ]
  },
  {
   "cell_type": "code",
   "execution_count": null,
   "metadata": {},
   "outputs": [],
   "source": [
    "#ENCRYPTED\n",
    "# This cell is encrypted. Will be made public soon. Contact: sudheer.siddabattula@gmail.com for access/details\n",
    "\n",
    "LS0tLS1CRUdJTiBQR1AgTUVTU0FHRS0tLS0tCgp3Y0JNQTB5VXBDMWwzUy9oQVFmL1lGMVQrVmZCNWhEa29vZk5uc1dRSG94WTViWnNjby9JZkUwejNrT0huR3kwCkN4RmhCN015Q05KbitiMkllRWtMZFk0MUk5RHZzMHRIMTltTjk0TFdMemlUWENOalJXYk5OVjhhSk9Qc0JYWnIKR3h6OFkwN25JaG82ZkhvY3loNFk3V04raERLZG1LUHUzVCttSUhsdWo5UUVleGZIUFRaRmFaM0NYZkJyYkRScQpyRmtRcWNzY0ZPTXFodDdWUlJlWUV6N3ljN3JOVVlkOXFwS3ViVHRSL2V1T0RUckdzbG8wS1EvZFh2VW5FTExxCi9SOE9mSzZwV3V0WXJyWFRGU2ExVy9XMmNOMUJaK1VhRUVraWtKMkYwWXdVYlVlSU8zenBrcm1lb2J3elNZWmEKaCtoZ0dSTVNpM1I4NFdBKzFEcFArTkVjeDNPYlpoSXRyOFhpdDd0eGROTEJCd0dxWW5ITWxPUkpxcFRESEV3eAo0TGppNHBuNG02cnFORXhsbXdielBrWDBrN1NnSFJBS3duUlA5ckpSV2M4Y2ZXeWloNFNKV04rSGpieFFCL1I3CkRmS3dvdUZJVVFnNXdZV0VESzRMdlpPdDgzeUNLYW1SVExwVlhIbXdEcHJFYkpNZ2FDYWNxTWloemFWU1R5cTAKSHZpL2wydFRIL25DM1dwR1JqL3U5UUxEWVlMQllZeWIzbzBTN1JlQmhCbFNEUDdoVythMVQwaS9CMVhGZUR5UwpETDRSUzhSQTZiRHV2QjdSNy8zMTRCbjhoTzdrMUxZdDZZa0tqR3JZLzlsZXl1ekd1aDAyUnVCTkt4YmoyQmYvCnp2Skl6cEVRVVRaVTRQTzVDdXMrZzJOdytwb1FYdzFlamVDNzVLd1c2ZllmVEhscFhtQ0Zjek9NdkMycytTQTgKQy8vZmFFU2JBWHlyWjFmRGk3YzFJeG4zVUxDNzUzak5xeGVCTDdjRC9PNUN3c1djNFZqaGlXRzd3dkszUGFLSAppamVObEViRk51WUczWHZzd0dNZEhYcWpCS0dEaHY0VHZtYm9LenRwcnJmY3RPQk5MeUNNZ09ZQy8xNWlHMFpvCjVmdFJtOFFpM2tCK0s4ZzRkZTB1NDFMVHNZU211aGh2UkQxYjQ4aTFhTDMvcHNGRXdoVWxTQVBJaWoyQlhzWXIKemptM2FMaGhtWVBUNnVYZGRncHMvSm1RUURpODF0cmVEeUorRVIzc1RuK292SFl5cTZFSVFrbVV0akU2ZkphUwpicWltQ2VVSWJMYmoKPTlKS3EKLS0tLS1FTkQgUEdQIE1FU1NBR0UtLS0tLQo="
   ]
  },
  {
   "cell_type": "code",
   "execution_count": null,
   "metadata": {},
   "outputs": [],
   "source": []
  },
  {
   "cell_type": "code",
   "execution_count": null,
   "metadata": {},
   "outputs": [],
   "source": []
  },
  {
   "cell_type": "code",
   "execution_count": null,
   "metadata": {},
   "outputs": [],
   "source": []
  },
  {
   "cell_type": "code",
   "execution_count": null,
   "metadata": {},
   "outputs": [],
   "source": [
    "# import geopandas as gpd\n",
    "\n",
    "# path = \"./data/pickle_parquets/others/grids_new_X_comuni_EU\"\n",
    "\n",
    "# gdf = gpd.read_parquet(path)\n",
    "\n",
    "# crs = gdf.crs\n",
    "\n",
    "# if crs:\n",
    "#     print(f\"The CRS of the GeoParquet file is: {crs}\")\n",
    "# else:\n",
    "#     print(\"The CRS of the GeoParquet file is undefined.\")\n",
    "    \n",
    "# if crs:\n",
    "#     formatted_crs = CRS(crs)  \n",
    "#     print(f\"CRS: {formatted_crs.to_string()}\") \n",
    "#     print(f\"EPSG Code: {formatted_crs.to_epsg()}\")  \n",
    "#     print(f\"PROJ String: {formatted_crs.to_proj4()}\")  \n",
    "#     print(f\"WKT Format: {formatted_crs.to_wkt()}\")  \n",
    "# else:\n",
    "#     print(\"The CRS of the GeoParquet file is undefined.\")"
   ]
  }
 ],
 "metadata": {
  "kernelspec": {
   "display_name": "sedona_venv",
   "language": "python",
   "name": "python3"
  },
  "language_info": {
   "codemirror_mode": {
    "name": "ipython",
    "version": 3
   },
   "file_extension": ".py",
   "mimetype": "text/x-python",
   "name": "python",
   "nbconvert_exporter": "python",
   "pygments_lexer": "ipython3",
   "version": "3.12.3"
  }
 },
 "nbformat": 4,
 "nbformat_minor": 4
}
