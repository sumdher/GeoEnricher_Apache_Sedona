{
 "cells": [
  {
   "cell_type": "code",
   "execution_count": 34,
   "metadata": {},
   "outputs": [],
   "source": [
    "#ENCRYPTED\n",
    "# This cell is encrypted. Will be made public soon. Contact: sudheer.siddabattula@gmail.com for access/details\n",
    "\n",
    "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"
   ]
  },
  {
   "cell_type": "code",
   "execution_count": null,
   "metadata": {},
   "outputs": [],
   "source": [
    "''' \n",
    "Loading data from files.\n",
    "This will take a while. Because it cleans and makes some essential transformations.\n",
    "But it is a one-time operation. `parquet_all()` will save all datasets to the disk, preserving any transformations applied.\n",
    "From next time, you can directly load them  with: `load_from_parquets()`.\n",
    "'''\n",
    "\n",
    "\n",
    "# Provide the data directory\n",
    "data_dir = f\"./data\"\n",
    "\n",
    "# Individual file paths:\n",
    "path_contr = f\"{data_dir}/data_EU/countries_shp/\"\n",
    "path_reg = f\"{data_dir}/data_Italy/regioni/\"\n",
    "path_prov = f\"{data_dir}/data_Italy/provinci\"\n",
    "path_com_EU = f\"{data_dir}/data_EU/comuni_shp/\"\n",
    "path_com = f\"{data_dir}/data_Italy/comuni/\"\n",
    "path_grids = f\"{data_dir}/data_EU/census_grid_EU/grids_OG_corrected.parquet\"\n",
    "path_grids_new = f\"{data_dir}/data_EU/census_grid_EU/grids_new.gpkg\"\n",
    "\n",
    "# Dataset names and their file formats:\n",
    "# format: {dataset_name: (path, file_format), ...}\n",
    "\n",
    "datasets: dict[str, tuple[str, str]] = {\n",
    "    \"countries\": (path_contr, \"shapefile\"),\n",
    "    \"regions_IT\": (path_reg, \"shapefile\"),\n",
    "    \"provinces_IT\": (path_prov, \"shapefile\"),\n",
    "    \"comuni_EU\": (path_com_EU, \"shapefile\"),\n",
    "    \"comuni_IT\": (path_com, \"shapefile\"),\n",
    "    \"pop_grids\": (path_grids, \"geoparquet\"),\n",
    "    \"pop_grids_new\": (path_grids_new, \"geopackage\"),\n",
    "}\n",
    "\n",
    "obj = Enricher(crs=\"EPSG:3035\")\n",
    "\n",
    "# Setup the Enricher object with \"sedona\" (or, \"wherobots\")\n",
    "# \"ex_mem\" and \"dr_mem\" are the executor and driver memory in GB\n",
    "obj.setup_cluster(\n",
    "    data_dir=data_dir, \n",
    "    which=\"sedona\", \n",
    "    ex_mem=26,\n",
    "    dr_mem=24,\n",
    "    log_level=\"ERROR\"\n",
    "    )\n",
    "\n",
    "# Use \"load()\" to load all the datasets in {data_dir}, \n",
    "# according to the paths and file formats provided in \"datasets{}\"\n",
    "obj.load(datasets, silent=True)\n",
    "\n",
    "# Optionally, run \"fix_geometries()\" to fix invalid geometries if any; \n",
    "# if you want to skip the check for some dataframes, pass their names in \"skip[]\"\n",
    "obj.fix_geometries(\n",
    "    skip=['pop_grids', 'pop_grids_new']\n",
    "    )\n",
    "\n",
    "# Optionally, inspect the partitions and data skew:\n",
    "# obj.inspect_partitions()\n",
    "\n",
    "# and force the dataframes to be repartitioned to the number of available cores\n",
    "# pass the names of the dataframes to be skipped in skip[]\n",
    "obj.force_repartition(skip=['pop_grids'])\n",
    "\n",
    "# obj.inspect_partitions()\n",
    "\n",
    "# Transform the CRS of loaded datasets to the CRS passed in the Enricher constructor\n",
    "# lazy=True will not cache the dataframes. \n",
    "obj.transform_CRS(lazy=False)\n",
    "\n",
    "# Pickle all the dataframes to disk for quick access later.\n",
    "# default directory: \"./{data_dir}/pickle_parquets/dfs_list\"\n",
    "# you may change the directory where they are saved by pasing it in \"parquet_dir\"; relative to the {data_dir}\n",
    "obj.parquet_all(preserve_partitions=True)\n"
   ]
  },
  {
   "cell_type": "code",
   "execution_count": 35,
   "metadata": {},
   "outputs": [
    {
     "name": "stdout",
     "output_type": "stream",
     "text": [
      "sedona initialized with 10 cores for parellelism.\n",
      "\n",
      "Loaded dataframe 'provinces_IT'\n",
      "Loaded dataframe 'comune'\n",
      "Loaded dataframe 'grids'\n",
      "Loaded dataframe 'regions_IT'\n",
      "Loaded dataframe 'countries'\n",
      "Loaded dataframe 'grids_IT'\n",
      "Loaded dataframe 'pop_grids'\n",
      "Loaded dataframe 'comuni_EU'\n",
      "Loaded dataframe 'comuni_EU_IT'\n",
      "Loaded dataframe 'pop_grids_new'\n",
      "Loaded dataframe 'comuni_IT'\n"
     ]
    }
   ],
   "source": [
    "''' \n",
    "Load data from pickled parquets \n",
    "\n",
    "'''\n",
    "\n",
    "# Provide the data directory\n",
    "data_dir = \"./data\"\n",
    "\n",
    "obj = Enricher(crs=\"EPSG:3035\")\n",
    "\n",
    "# Setup the Enricher object with \"sedona\" (or, \"wherobots\")\n",
    "# \"ex_mem\" and \"dr_mem\" are the executor and driver memory in GB\n",
    "obj.setup_cluster(\n",
    "    data_dir=data_dir, \n",
    "    which=\"sedona\", \n",
    "    ex_mem=26, \n",
    "    dr_mem=24, \n",
    "    log_level=\"ERROR\"\n",
    "    )\n",
    "\n",
    "# Loads all the datasets from pickled parquets in the default direcoty: \"./{data_dir}/pickle_parquets/dfs_list\"\n",
    "# optionally, to load from a different directory, pass the directory path in \"parquet_dir\"; reative to the {data_dir}\n",
    "obj.load_from_parquets()\n",
    "# obj.inspect_partitions()"
   ]
  },
  {
   "cell_type": "code",
   "execution_count": 14,
   "metadata": {},
   "outputs": [
    {
     "name": "stdout",
     "output_type": "stream",
     "text": [
      "User Guide: https://docs.kepler.gl/docs/keplergl-jupyter\n"
     ]
    },
    {
     "data": {
      "application/vnd.jupyter.widget-view+json": {
       "model_id": "077d413863084243a782e80e58d49b8a",
       "version_major": 2,
       "version_minor": 0
      },
      "text/plain": [
       "KeplerGl(data={'countries': 'countries'})"
      ]
     },
     "execution_count": 14,
     "metadata": {},
     "output_type": "execute_result"
    }
   ],
   "source": [
    "'''\n",
    "Visualize the datasets\n",
    "\n",
    "'''\n",
    "\n",
    "# Pass a list of: names of the loaded datasets or directly the Spark dataframes in memory\n",
    "# Make sure the geometry column is named \"geometry\".\n",
    "# If not, pass individual dataframes with thei geometry column with the argument `geom_col`\n",
    "obj.plot_this(\n",
    "    [\"countries\", obj.dfs_list[\"provinces_IT\"]],  # str | SparkDataFrame | list[str | SparkDataFrame]\n",
    "    new_map=True  # if it is False, the dataset will be added to the old map (if it exists, or else, makes a new one)\n",
    "    )\n",
    "\n",
    "# you can plot the map in another cell, just run `<obj>.map`"
   ]
  },
  {
   "cell_type": "code",
   "execution_count": null,
   "metadata": {},
   "outputs": [
    {
     "data": {
      "application/vnd.jupyter.widget-view+json": {
       "model_id": "64a02b061b6c49b3aa36deed63870880",
       "version_major": 2,
       "version_minor": 0
      },
      "text/plain": [
       "VBox(children=(HTML(value='<h1>Enrich with Overlay & Aggregation</h1>'), HTML(value=\"<div style='height: 5px;'…"
      ]
     },
     "metadata": {},
     "output_type": "display_data"
    }
   ],
   "source": [
    "'''\n",
    "GUI for Enricher primitives\n",
    "\n",
    "'''\n",
    "\n",
    "# pass the Enricher object (loaded with the datasets) to the EnricherUI\n",
    "obj_ui = EnrichOverlay(obj)\n"
   ]
  },
  {
   "cell_type": "code",
   "execution_count": 27,
   "metadata": {},
   "outputs": [
    {
     "name": "stdout",
     "output_type": "stream",
     "text": [
      "User Guide: https://docs.kepler.gl/docs/keplergl-jupyter\n"
     ]
    },
    {
     "data": {
      "application/vnd.jupyter.widget-view+json": {
       "model_id": "a93d6a4b2c0a4c16b25bd96a3125886a",
       "version_major": 2,
       "version_minor": 0
      },
      "text/plain": [
       "KeplerGl(data={'comuni_EU_IT': {'index': [0, 1, 2, 3, 4, 5, 6, 7, 8, 9, 10, 11, 12, 13, 14, 15, 16, 17, 18, 19…"
      ]
     },
     "execution_count": 27,
     "metadata": {},
     "output_type": "execute_result"
    }
   ],
   "source": [
    "# res_agr = obj.load_from_parquet(name=\"grids_X_countries\")\n",
    "\n",
    "obj.plot_this(\n",
    "    [obj.dfs_list['comuni_EU_IT']],  # str | SparkDataFrame | list[str | SparkDataFrame]\n",
    "    new_map=True  # if it is False, the dataset will be added to the old map (if it exists, or else, makes a new map)\n",
    "    )"
   ]
  },
  {
   "cell_type": "code",
   "execution_count": 29,
   "metadata": {},
   "outputs": [
    {
     "name": "stdout",
     "output_type": "stream",
     "text": [
      "+------------------------------------------------------------+\n",
      "|COMM_NAME                                                   |\n",
      "+------------------------------------------------------------+\n",
      "|Roma\u0000\u0000\u0000\u0000\u0000\u0000\u0000\u0000\u0000\u0000\u0000\u0000\u0000\u0000\u0000\u0000\u0000\u0000\u0000\u0000\u0000\u0000\u0000\u0000\u0000\u0000\u0000\u0000\u0000\u0000\u0000\u0000\u0000\u0000\u0000\u0000\u0000\u0000\u0000\u0000\u0000\u0000\u0000\u0000\u0000\u0000\u0000\u0000\u0000\u0000\u0000\u0000\u0000\u0000\u0000\u0000|\n",
      "|Milano\u0000\u0000\u0000\u0000\u0000\u0000\u0000\u0000\u0000\u0000\u0000\u0000\u0000\u0000\u0000\u0000\u0000\u0000\u0000\u0000\u0000\u0000\u0000\u0000\u0000\u0000\u0000\u0000\u0000\u0000\u0000\u0000\u0000\u0000\u0000\u0000\u0000\u0000\u0000\u0000\u0000\u0000\u0000\u0000\u0000\u0000\u0000\u0000\u0000\u0000\u0000\u0000\u0000\u0000|\n",
      "|Napoli\u0000\u0000\u0000\u0000\u0000\u0000\u0000\u0000\u0000\u0000\u0000\u0000\u0000\u0000\u0000\u0000\u0000\u0000\u0000\u0000\u0000\u0000\u0000\u0000\u0000\u0000\u0000\u0000\u0000\u0000\u0000\u0000\u0000\u0000\u0000\u0000\u0000\u0000\u0000\u0000\u0000\u0000\u0000\u0000\u0000\u0000\u0000\u0000\u0000\u0000\u0000\u0000\u0000\u0000|\n",
      "|Torino\u0000\u0000\u0000\u0000\u0000\u0000\u0000\u0000\u0000\u0000\u0000\u0000\u0000\u0000\u0000\u0000\u0000\u0000\u0000\u0000\u0000\u0000\u0000\u0000\u0000\u0000\u0000\u0000\u0000\u0000\u0000\u0000\u0000\u0000\u0000\u0000\u0000\u0000\u0000\u0000\u0000\u0000\u0000\u0000\u0000\u0000\u0000\u0000\u0000\u0000\u0000\u0000\u0000\u0000|\n",
      "|Palermo\u0000\u0000\u0000\u0000\u0000\u0000\u0000\u0000\u0000\u0000\u0000\u0000\u0000\u0000\u0000\u0000\u0000\u0000\u0000\u0000\u0000\u0000\u0000\u0000\u0000\u0000\u0000\u0000\u0000\u0000\u0000\u0000\u0000\u0000\u0000\u0000\u0000\u0000\u0000\u0000\u0000\u0000\u0000\u0000\u0000\u0000\u0000\u0000\u0000\u0000\u0000\u0000\u0000|\n",
      "+------------------------------------------------------------+\n",
      "only showing top 5 rows\n",
      "\n"
     ]
    }
   ],
   "source": [
    "\n",
    "obj.res_agr.orderBy(F.desc(\"T_agr_sum\")).select(\"COMM_NAME\").show(5, truncate=False)\n"
   ]
  },
  {
   "cell_type": "code",
   "execution_count": 26,
   "metadata": {},
   "outputs": [
    {
     "name": "stdout",
     "output_type": "stream",
     "text": [
      "User Guide: https://docs.kepler.gl/docs/keplergl-jupyter\n"
     ]
    },
    {
     "name": "stderr",
     "output_type": "stream",
     "text": [
      "/data/homes_data/sudheer/benchmark_data/sedona_venv/lib/python3.12/site-packages/jupyter_client/session.py:721: UserWarning: Message serialization failed with:\n",
      "Out of range float values are not JSON compliant: nan\n",
      "Supporting this message is deprecated in jupyter-client 7, please make sure your message is JSON-compliant\n",
      "  content = self.pack(content)\n"
     ]
    },
    {
     "data": {
      "application/vnd.jupyter.widget-view+json": {
       "model_id": "3c5d85b9e0e845f4937951289f1fde68",
       "version_major": 2,
       "version_minor": 0
      },
      "text/plain": [
       "KeplerGl(data={'grids_IT': {'index': [0, 1, 2, 3, 4, 5, 6, 7, 8, 9, 10, 11, 12, 13, 14, 15, 16, 17, 18, 19, 20…"
      ]
     },
     "execution_count": 26,
     "metadata": {},
     "output_type": "execute_result"
    }
   ],
   "source": [
    "# res_agr = obj.load_from_parquet(name=\"grids_X_countries\")\n",
    "\n",
    "obj.plot_this(\n",
    "    [obj.dfs_list['grids_IT']],  # str | SparkDataFrame | list[str | SparkDataFrame]\n",
    "    new_map=True  # if it is False, the dataset will be added to the old map (if it exists, or else, makes a new map)\n",
    "    )"
   ]
  },
  {
   "cell_type": "code",
   "execution_count": 16,
   "metadata": {},
   "outputs": [
    {
     "name": "stdout",
     "output_type": "stream",
     "text": [
      "Saving dataframe 'comuni_EU_IT' as GeoParquet...\n"
     ]
    },
    {
     "name": "stderr",
     "output_type": "stream",
     "text": [
      "[Stage 53:===================================================>     (9 + 1) / 10]\r"
     ]
    },
    {
     "name": "stdout",
     "output_type": "stream",
     "text": [
      "Saved to './data/pickle_parquets/others/comuni_EU_IT'\n"
     ]
    },
    {
     "name": "stderr",
     "output_type": "stream",
     "text": [
      "                                                                                \r"
     ]
    }
   ],
   "source": [
    "# obj.dfs_list.keys()\n",
    "\n",
    "ress = ress.filter(F.col('CNTR_ID') == 'IT')\n",
    "obj.parquet_this(\"comuni_EU_IT\", ress, preserve_partitions=True)\n"
   ]
  },
  {
   "cell_type": "code",
   "execution_count": 3,
   "metadata": {},
   "outputs": [
    {
     "data": {
      "text/plain": [
       "['geometry',\n",
       " 'CNTR_ID',\n",
       " 'CNTR_NAME',\n",
       " 'NAME_ENGL',\n",
       " 'NAME_FREN',\n",
       " 'ISO3_CODE',\n",
       " 'SVRG_UN',\n",
       " 'CAPT',\n",
       " 'EU_STAT',\n",
       " 'EFTA_STAT',\n",
       " 'CC_STAT',\n",
       " 'NAME_GERM',\n",
       " 'geohash']"
      ]
     },
     "execution_count": 3,
     "metadata": {},
     "output_type": "execute_result"
    }
   ],
   "source": [
    "obj.dfs_list['countries'].columns"
   ]
  },
  {
   "cell_type": "code",
   "execution_count": 15,
   "metadata": {},
   "outputs": [
    {
     "name": "stderr",
     "output_type": "stream",
     "text": [
      "[Stage 46:===================================================>     (9 + 1) / 10]\r"
     ]
    },
    {
     "name": "stdout",
     "output_type": "stream",
     "text": [
      "126089\n"
     ]
    },
    {
     "name": "stderr",
     "output_type": "stream",
     "text": [
      "                                                                                \r"
     ]
    }
   ],
   "source": [
    "ress = obj.join_simple(df1=\"comuni_EU\", df2=obj.dfs_list['countries'], enr_cols=[\"CNTR_ID\", \"CNTR_NAME\"])\n",
    "ress.cache()\n",
    "print(ress.count())"
   ]
  },
  {
   "cell_type": "code",
   "execution_count": null,
   "metadata": {},
   "outputs": [
    {
     "name": "stdout",
     "output_type": "stream",
     "text": [
      "['COMM_ID', 'CNTR_ID', 'CNTR_CODE', 'COMM_NAME', 'NAME_ASCI', 'TRUE_FLAG', 'NSI_CODE', 'NAME_NSI', 'NAME_LATN', 'NUTS_CODE', 'FID', 'geohash', 'geometry', 'T_agr_sum']\n",
      "58166281.116447605\n"
     ]
    }
   ],
   "source": [
    "temp: SparkDataFrame = obj.res_agr\n",
    "print(temp.columns)\n",
    "\n",
    "# temp: SparkDataFrame = temp.filter(F.col('CNTR_ID') == 'IT')\n",
    "print(temp.agg(F.sum('T_agr_sum')).collect()[0][0])\n",
    "\n",
    "# obj.parquet_this(\"intrsctn_com_grid_IT\", temp, preserve_partitions=False)\n",
    "# obj.parquet_this(\"grids_new_X_comuni_EU_IT\", temp, preserve_partitions=False)\n",
    "# temp.cache()"
   ]
  },
  {
   "cell_type": "code",
   "execution_count": null,
   "metadata": {},
   "outputs": [
    {
     "name": "stderr",
     "output_type": "stream",
     "text": [
      "[Stage 215:====================================================>(199 + 1) / 200]\r"
     ]
    },
    {
     "name": "stdout",
     "output_type": "stream",
     "text": [
      "109707\n"
     ]
    },
    {
     "name": "stderr",
     "output_type": "stream",
     "text": [
      "                                                                                \r"
     ]
    }
   ],
   "source": [
    "#ENCRYPTED\n",
    "# This cell is encrypted. Will be made public soon. Contact: sudheer.siddabattula@gmail.com for access/details\n",
    "\n",
    "LS0tLS1CRUdJTiBQR1AgTUVTU0FHRS0tLS0tCgp3Y0JNQTB5VXBDMWwzUy9oQVFmK0kzSzBoQ1dSUlpFalZFcWpRN2FLQStMUktrVHF3STJxL1ZjOTNxR3BsWCtMClJHT0psQWNYeEk2OWZoOHlyNFVuaGEvUHYzTC9ETzRCbTBXUHpuQVBhTlpDQ2VjcDhBQlhIR1BkdUZPTC9MQ2sKdjBFZ09pMjk1RFRrbGpPZnhiaEJ0UTB4ZlJVRlBuMVB2R2RyQ3B4QWdJWEdkWVV1ekI3NzFvM2kwVGhWdHdtNwpzcEpENWVOeU50REwzWk1RQzEyTUpJZEVZbXhLK3NzZ2hjSFRDY1FDamU3alEyV2dTb0NyK0F3bzlxYWpSTFhXCmkwMmNYWkd6dmNrOWxRRk9tbHgwKzgxdU1YbVRmTE56OE5sMy9rZ0RXTW1keXcrSjl3Zks3cWRlSTYraWM2UFUKcThJWFYvenZYZVljb0hUOGx4eVFkemhtUEdTaUg4cDdEVTZjN2JHUVFOTEJ6Z0VhRGlseG5NbHpXMHBLVlFidgpuT1RNT21HZFBWUnpIMC9mcXVmOFVtNkd5bEk0ZEY2czVlSWdNN1VrSE5zdFl2ZWFpYTdoejQ0SG4xNnVOK0ZLCnpvUG8rekZxRExEVi9ZMW13dXVWS3BGYUtNZ3RiUDJUWEMxSmovcTFYVU1qRTl6TDJEYktHenlLRUw5bUtncTMKakZubjRiQmtMZU9wcG84WWVuWG9nYlROejZwc2w4ZXdiVDFvMmFIVUZDb3lkRUo1NzZaeGsyZllGbFNhOFRucgo3VzFraEZMazZ2bHNjUUVhM2h6UmpGL3RhaDJobUZXM1VoV0phVk5NZ3ZPQ0xGYzRYSG44b0N3N2RyQllJOUhBCkd3RUpqdy8yUHY2dytGTytTcTEwQm1KWTlyQXhEOUlpdG1PVEhXalZDeUo2Z2oxdzJBSXVxek5iellZVHA5SUgKQjVFcy9kMjlrL3REdm5mY2pCcFI3R2RzOTBLdk9md3BIM1psOUFNcU1hUW1FQWlBbHVNMkF3RG5KSTlWa3V4NApweE9vVHZBZ09GVkxSOUUyV3pkSDRQY3I4di9FQ241RVlYR1lkdzB0ZGVId0NEa0FDUENjNXpXdFdjTlhKanFaCjRoMkV1Ylg5TmFYemFDcE9uSnV3cnpjdjh5UFppQldsTGRUK2NyM29ESlZ6TDJnbEIwa25Db3lRUkpCTzVzWGIKQWlGeCtwUGp3Tnlmc3NBV2hEQnRUemFIQlY1YnROZ1B3ckJ1dUM0RThDM2YweXVVVEhFdDk4WnMzTEhtMDhCQgpXWHRGTU4zS2JBZmVrRlJEUmsrb0dUbWt2amJoYk9VYTdtNHJPRzZwTm91Rlo1NThhSTNHSDBtKzhZdWxKZHlVClNSbG9LSjE5V3JITk9aZE5MVFdDZjdTZUltcENjbkF1Qm44Rm9nbWY3bnhwNlhEUnNKYUwzbzl1ZEE1SDA1UXkKTUFpVGtmTGxMMjZ6MDRHcnhOd3gzMzFGOGxpY1dkb1pZTEpDZ3M5b0QwaVRiVDFTRVhHcDhCN1dJc1NxOFZrWQpkTVNsTHF1OWVPV3Y5TGFZRlFYM0ZieDBNTG15bjFnYnRwZzZPZlhYWjRyb0hqc3lrOG9IUjhPbTZQRU85WVVPCmhTMnl1b3o0bEZSamFjdTFIdEMvWlE9PQo9MlQ2SQotLS0tLUVORCBQR1AgTUVTU0FHRS0tLS0tCg=="
   ]
  },
  {
   "cell_type": "code",
   "execution_count": null,
   "metadata": {},
   "outputs": [
    {
     "name": "stdout",
     "output_type": "stream",
     "text": [
      "41190463\n"
     ]
    }
   ],
   "source": [
    "\"\"\"\n",
    "Contains\n",
    "41190463\n",
    "\"\"\"\n",
    "\n",
    "print(res_n.agg(F.sum('t_agr')).collect()[0][0])\n"
   ]
  },
  {
   "cell_type": "code",
   "execution_count": null,
   "metadata": {},
   "outputs": [
    {
     "name": "stdout",
     "output_type": "stream",
     "text": [
      "77386595\n"
     ]
    }
   ],
   "source": [
    "\"\"\"\n",
    "Intersects\n",
    "77386595\n",
    "\"\"\"\n",
    "\n",
    "print(res_n.agg(F.sum('t_agr')).collect()[0][0])\n"
   ]
  },
  {
   "cell_type": "code",
   "execution_count": null,
   "metadata": {},
   "outputs": [],
   "source": [
    "\"\"\"\n",
    "ST_Intersection\n",
    "58166281\n",
    "\"\"\""
   ]
  },
  {
   "cell_type": "code",
   "execution_count": null,
   "metadata": {},
   "outputs": [],
   "source": [
    "import pyarrow.parquet as pq\n",
    "\n",
    "parquet_file = pq.ParquetFile(\"./data/pickle_parquets/others/grids_new_X_comuni_EU/test.parquet\")\n",
    "\n",
    "# Print full metadata\n",
    "print(parquet_file.metadata)\n",
    "\n",
    "# Print schema (column names, types, etc.)\n",
    "print(parquet_file.schema)\n",
    "\n",
    "# Print key-value metadata (custom user-defined metadata)\n",
    "print(parquet_file.metadata.metadata)  # This is a dictionary\n"
   ]
  },
  {
   "cell_type": "code",
   "execution_count": 16,
   "metadata": {},
   "outputs": [
    {
     "name": "stdout",
     "output_type": "stream",
     "text": [
      "{\"$schema\":\"https://proj.org/schemas/v0.7/projjson.schema.json\",\"type\":\"ProjectedCRS\",\"name\":\"ETRS89-extended / LAEA Europe\",\"base_crs\":{\"name\":\"ETRS89\",\"datum_ensemble\":{\"name\":\"European Terrestrial Reference System 1989 ensemble\",\"members\":[{\"name\":\"European Terrestrial Reference Frame 1989\",\"id\":{\"authority\":\"EPSG\",\"code\":1178}},{\"name\":\"European Terrestrial Reference Frame 1990\",\"id\":{\"authority\":\"EPSG\",\"code\":1179}},{\"name\":\"European Terrestrial Reference Frame 1991\",\"id\":{\"authority\":\"EPSG\",\"code\":1180}},{\"name\":\"European Terrestrial Reference Frame 1992\",\"id\":{\"authority\":\"EPSG\",\"code\":1181}},{\"name\":\"European Terrestrial Reference Frame 1993\",\"id\":{\"authority\":\"EPSG\",\"code\":1182}},{\"name\":\"European Terrestrial Reference Frame 1994\",\"id\":{\"authority\":\"EPSG\",\"code\":1183}},{\"name\":\"European Terrestrial Reference Frame 1996\",\"id\":{\"authority\":\"EPSG\",\"code\":1184}},{\"name\":\"European Terrestrial Reference Frame 1997\",\"id\":{\"authority\":\"EPSG\",\"code\":1185}},{\"name\":\"European Terrestrial Reference Frame 2000\",\"id\":{\"authority\":\"EPSG\",\"code\":1186}},{\"name\":\"European Terrestrial Reference Frame 2005\",\"id\":{\"authority\":\"EPSG\",\"code\":1204}},{\"name\":\"European Terrestrial Reference Frame 2014\",\"id\":{\"authority\":\"EPSG\",\"code\":1206}},{\"name\":\"European Terrestrial Reference Frame 2020\",\"id\":{\"authority\":\"EPSG\",\"code\":1382}}],\"ellipsoid\":{\"name\":\"GRS 1980\",\"semi_major_axis\":6378137,\"inverse_flattening\":298.257222101},\"accuracy\":\"0.1\",\"id\":{\"authority\":\"EPSG\",\"code\":6258}},\"coordinate_system\":{\"subtype\":\"ellipsoidal\",\"axis\":[{\"name\":\"Geodetic latitude\",\"abbreviation\":\"Lat\",\"direction\":\"north\",\"unit\":\"degree\"},{\"name\":\"Geodetic longitude\",\"abbreviation\":\"Lon\",\"direction\":\"east\",\"unit\":\"degree\"}]},\"id\":{\"authority\":\"EPSG\",\"code\":4258}},\"conversion\":{\"name\":\"Europe Equal Area 2001\",\"method\":{\"name\":\"Lambert Azimuthal Equal Area\",\"id\":{\"authority\":\"EPSG\",\"code\":9820}},\"parameters\":[{\"name\":\"Latitude of natural origin\",\"value\":52,\"unit\":\"degree\",\"id\":{\"authority\":\"EPSG\",\"code\":8801}},{\"name\":\"Longitude of natural origin\",\"value\":10,\"unit\":\"degree\",\"id\":{\"authority\":\"EPSG\",\"code\":8802}},{\"name\":\"False easting\",\"value\":4321000,\"unit\":\"metre\",\"id\":{\"authority\":\"EPSG\",\"code\":8806}},{\"name\":\"False northing\",\"value\":3210000,\"unit\":\"metre\",\"id\":{\"authority\":\"EPSG\",\"code\":8807}}]},\"coordinate_system\":{\"subtype\":\"Cartesian\",\"axis\":[{\"name\":\"Northing\",\"abbreviation\":\"Y\",\"direction\":\"north\",\"unit\":\"metre\"},{\"name\":\"Easting\",\"abbreviation\":\"X\",\"direction\":\"east\",\"unit\":\"metre\"}]},\"scope\":\"Statistical analysis.\",\"area\":\"Europe - European Union (EU) countries and candidates. Europe - onshore and offshore: Albania; Andorra; Austria; Belgium; Bosnia and Herzegovina; Bulgaria; Croatia; Cyprus; Czechia; Denmark; Estonia; Faroe Islands; Finland; France; Germany; Gibraltar; Greece; Hungary; Iceland; Ireland; Italy; Kosovo; Latvia; Liechtenstein; Lithuania; Luxembourg; Malta; Monaco; Montenegro; Netherlands; North Macedonia; Norway including Svalbard and Jan Mayen; Poland; Portugal including Madeira and Azores; Romania; San Marino; Serbia; Slovakia; Slovenia; Spain including Canary Islands; Sweden; Switzerland; Türkiye (Turkey); United Kingdom (UK) including Channel Islands and Isle of Man; Vatican City State.\",\"bbox\":{\"south_latitude\":24.6,\"west_longitude\":-35.58,\"north_latitude\":84.73,\"east_longitude\":44.83},\"id\":{\"authority\":\"EPSG\",\"code\":3035}}\n"
     ]
    }
   ],
   "source": [
    "from pyproj import CRS\n",
    "print(CRS.from_epsg(3035).to_json()) "
   ]
  },
  {
   "cell_type": "code",
   "execution_count": null,
   "metadata": {},
   "outputs": [
    {
     "name": "stdout",
     "output_type": "stream",
     "text": [
      "4531770\n"
     ]
    }
   ],
   "source": [
    "#ENCRYPTED\n",
    "# This cell is encrypted. Will be made public soon. Contact: sudheer.siddabattula@gmail.com for access/details\n",
    "\n",
    "LS0tLS1CRUdJTiBQR1AgTUVTU0FHRS0tLS0tCgp3Y0JNQTB5VXBDMWwzUy9oQVFmK0w5RUlSd2dvbk9lZ0RnUHhoNndtT3FiZUZ1R2M0SDhCYkorTHl6TzdxSURVCno5TE1LZk1yY05DRWt0NGhtT1VaMkFUS2NlNkdpeWdJL2NJa0FQOFZ2d0U3RWV0MjREMDFnK0VPdys1YXFhZ1cKYlpPM2pLOW9XM3h5cG15by9VVE56NmRvKzBxK0FXd1FhckRkblh2aWdBaWp2YUNuNC9Manl3K3daTnVGSjZNdApCUzNQRlF4OHh3bXQ2bTlhaDdzVTcwYWk2eXZrb0M4OFVoc21Wd29yU3pRQ0JySmUrYy9uTng3MHM0bnJyV2d0CjhwNDV5MXNDYk1SK29hQ3o1c05pQXpuSTB0T3l5RURhQ2JINzUvNUdINTlLUkxyOVVOVjBNemxValo5bllTL0EKUHJ2dVpDb0M5bjJ0QU9ZUm9XKzM4L1R5SVd2RkxxTWZ0NkVOR1dCWE85TEFTd0VtQ1EvUi92ZnVKVGY5bXZpcgpMdGxsdjc3OGpTMkFmSStmR1ZWL3lhRzJMaVg3Z3lyQU1yRm9oNVpJMG5obHMrbHVtK25NU3lENWx1Y1ZabnFECmZMNmdsUU9qNXdWUFZrVERubEExVlpLYkQrYkJKMk4vZTI1anNHY3RMa0x2KzJPcyt3SU4zUGlFczJvQXJpMFUKUGZrd2NyWUtTZlhhdTVJSDNuSGo1b1VZMXhoYmVzN2lVaDlMdkJ1VFZ5TmR4NDhsNmgyTGhma1pWbnM3L0JCcwoycmV0TTZBR05KdmtOUkNuOG91M0hCbEhFL1dLKzA5RnQzU0wzb3AwSENpTnF3ckJFb05CbFBGTVFIcWxxZ1NECmMxMXZ3Q04rZEVPdldCR1RJMFF3MGt2MFpweU1mclBMc0hTc3cycnZNS08wS252d0dTeVpnT2RLaXdPVDBNRmMKRzB6dzh4VHh0cmx1ZEovenh3PT0KPVVvVkQKLS0tLS1FTkQgUEdQIE1FU1NBR0UtLS0tLQo="
   ]
  },
  {
   "cell_type": "code",
   "execution_count": null,
   "metadata": {},
   "outputs": [],
   "source": [
    "#ENCRYPTED\n",
    "# This cell is encrypted. Will be made public soon. Contact: sudheer.siddabattula@gmail.com for access/details\n",
    "\n",
    "LS0tLS1CRUdJTiBQR1AgTUVTU0FHRS0tLS0tCgp3Y0JNQTB5VXBDMWwzUy9oQVFmN0JkQ3hjcnRESWJMblY0bjI0V1lDbkY3UWtSZk5TWHR0ZnRWOEtMdGZpK3RFCmdpTDVQdlYxYVRiSTVzSnZiMjFVM0V2VkM4VFZoMXRMUHRDUFBvY3A5Z2pYOXgzbTZweGlxUVYvQzB2RXQ3RmQKOXR4VVFuYi8vZlRWTlFUa1NhSVIwbWg0MjhteFJJRnF1M0lTM3hBdktyaTVyTG0yNUpwL3lvSEFBQmFWSzE4YQoxamw5emFjRy91ZTJHbmU0REw3QUcvZHI4aG1QTW9TTlZIY3JyWnQ3R2lxYjNyRmhZUlJ1eWg0WGpKYzJ6SFllClc4YjNUcEJiend5bkk5YTZaK1hkOUxVQ0VTTGdTRmxzMkJQbEg4T1dYU2dwbVNOeE1hWmMvKzUzYjhSaWJDUGQKY2dxYTdoSU8zVmhkckRWMUxFRk9pYk9MZTV1aGVPcERUVkpCcmo2OTRkTEJvZ0ZrcndsMXdRK1FNWE9oK213UQpVTHJOOG1VZ29adUZKdDZMekYzVndCUG4xbTlZNVdycC9Demw0WDkraGNpNkxsN2NnWDV0U1JGZHZpZHVGT0RYClQvTXJMSzd5SitLOGJ1cjBHVEppVDVCYlMzS3hxUHJka0lzUUJHd25QWnFEUjZmRkxVRGVhUnlWY0hURlNCSWQKQlB2MFJYWGh0VnpBMWpHSnRCdzY5eC8wYjRpblRIY2RNaDRvd1B6ZmhMTFB4KzFzeFRncHp6NDFMRjl1NEw2cApLUzVRZUFBQU0xRDdhVmVDb1M2V3hjSVZIK3JybVdqNzh6V0hDWmtXRmVJa2lBemFpQWRqcktKcC91ZXk2amovCjNJRkJEVkJoejc1djIxbHdRV0Q1YzYrU050SytUNXZHc2hhV3RXZURUdlBnRXFsYlpZeENQTytxYnBRSXJkWXgKYmdORXFIRW5YNlhRRlZ1QmppSEVWYmpzcEFuUGZsaU9zeXYyc1p6WC8yYjBvOWdmTmhkZWRReEZERWRNSjkrZgpFa0p0MTIxMUFoYlgvZ2hHKzNObjRsZFQ3VGlJcDNsU0JUS1A1SDh4SEwxdkFwNVI3RlU4Si9pYVRBYVlXUEs4ClJBVHJqT0lSR09BcTNUTVQ3QWNFMGg4cVdzS1N0MHFYY1M2YXEzV2UwVGRvRkxDRnY2T1RyVXRTM3NNV2VTOE4KLzk5Qnp5cHVrMFVHNDJhY05Kc1dwVlBJQ0YvZnJFWnpIMWp3ak4yZ0JUdGdOeC8rNHJvWFZkanNCMXArU29FSQpyRVJSL3UzTXg2ZUNLZ0thazVnTjFUNWp6YUxsQzNyVS9wbFI5cVB2aWJUWlIwUklEVmk4Z1lvcDNVeHQxaVdnCmt5bXQ4TU9NT2NOYkx0L0Vqa2J3VVNsbW83S2VnUEpqQnBHYjYrZERyekw1RUVyV3lucUpidUQ0ZGp0aytPT2MKbWJZT0pmOFkzTmxXN1JBYStVSVNKcVFzNG9TVDZMQXB2TGZRZ2o3STZCY0FBQlFDVEdXTU1MejZvRk42VEVBbAo2ZDNYWkdwWUgxeEhLbGozdWNjS1p0cE9yd0E9Cj1STWQzCi0tLS0tRU5EIFBHUCBNRVNTQUdFLS0tLS0K"
   ]
  },
  {
   "cell_type": "code",
   "execution_count": null,
   "metadata": {},
   "outputs": [
    {
     "name": "stderr",
     "output_type": "stream",
     "text": [
      "/data/homes_data/sudheer/benchmark_data/sedona_venv/lib/python3.12/site-packages/jupyter_client/session.py:721: UserWarning: Message serialization failed with:\n",
      "Out of range float values are not JSON compliant: nan\n",
      "Supporting this message is deprecated in jupyter-client 7, please make sure your message is JSON-compliant\n",
      "  content = self.pack(content)\n"
     ]
    },
    {
     "data": {
      "application/vnd.jupyter.widget-view+json": {
       "model_id": "cc76fdf26c8f4a20beab056580dd247c",
       "version_major": 2,
       "version_minor": 0
      },
      "text/plain": [
       "KeplerGl(config={'version': 'v1', 'config': {'visState': {'filters': [], 'layers': [{'id': '7f1zywf', 'type': …"
      ]
     },
     "execution_count": 34,
     "metadata": {},
     "output_type": "execute_result"
    }
   ],
   "source": [
    "map.add_data(\n",
    "    data=prep_for_map(df1, obj.crs, geom_col=\"geometry\"), \n",
    "    name=\"comune\"\n",
    "    )\n",
    "map"
   ]
  },
  {
   "cell_type": "code",
   "execution_count": 17,
   "metadata": {},
   "outputs": [
    {
     "name": "stdout",
     "output_type": "stream",
     "text": [
      "User Guide: https://docs.kepler.gl/docs/keplergl-jupyter\n"
     ]
    },
    {
     "data": {
      "application/vnd.jupyter.widget-view+json": {
       "model_id": "3d1da6fa92384e37ba4e1bd81d65337f",
       "version_major": 2,
       "version_minor": 0
      },
      "text/plain": [
       "KeplerGl(data={'temp': {'index': [0, 1, 2, 3, 4, 5, 6, 7, 8, 9, 10, 11, 12, 13, 14, 15, 16, 17, 18, 19, 20, 21…"
      ]
     },
     "execution_count": 17,
     "metadata": {},
     "output_type": "execute_result"
    }
   ],
   "source": [
    "#ENCRYPTED\n",
    "# This cell is encrypted. Will be made public soon. Contact: sudheer.siddabattula@gmail.com for access/details\n",
    "\n",
    "LS0tLS1CRUdJTiBQR1AgTUVTU0FHRS0tLS0tCgp3Y0JNQTB5VXBDMWwzUy9oQVFmL1gzMlZJQ3N0ZVU1cUluTEc5YzBjVHZvZW5DbDU1TWJ6NjFOWW5mMkdGbkE4CmUyR0kxRm5TUHQvcWxUZzBobnZGREtoNW43OC9DbkFZZ09rcytNWWRVQnRqS1huZVFMUmxLZ01lOVhmOW85dTUKNXBDRUhaMFdpR3doTkNiaXZzSUgxRmdXYU5WeU1FdGRxaHRISTdQazh1WGNMU2xzN0NzSUd1R3B3TVhEY05VMgprRkhjaTJjZUtmMW82ZXlBN0R3N2w1VmxaNjJ1RzYwQ0RURzBUTUVRdVpHeENydVFNcERkU21YaFlSbTZDY0o0CnYyZ3RCU1k0MU5EQTNOa3EveUIzcURLMHpVa1l4OW84TlJ4YUQycTFWRCt2MGxCMHc0NGJKYW5tc2xROTR0UVoKSVNoVmVhUGpzUExVSWhGc3pwQ2VJekVzN04wT3BEVlpZenFGWlE0dVFkTEFCUUZSV0pwMTJvVFFhZmRNakJtZwpLYWR2UFNLbjVoOW55U2VuaEpWYk5qMGFKRUk0MTFQT3c1dG9JS0hQSGJyNmlBcWdVU0dGZXBIR09rZnhjZ0xICjNkY2xaNkRBanB5SVdRTEI5OWdpS0QyL1RBeFBKZ1dkVk5yc0Yxb0FOeDkrcmZVUnM3MmRhekRMUkNaQndENkwKYXNZR2IrSWo3NWJlc1JHbWNEWWtQYWNQdGlwYjRYOFllekl5Vmhrc1NZc0grcEMya2NOS0N4SVk4dEpjVnRWUgo0TEpsbXVzaUg5U2ZscDB1R0pKYStzekxjd3p3NGJnelVzSWpFMWFtS0NDNlJ4N3BaWHMxCj03MDF0Ci0tLS0tRU5EIFBHUCBNRVNTQUdFLS0tLS0K"
   ]
  },
  {
   "cell_type": "code",
   "execution_count": null,
   "metadata": {},
   "outputs": [],
   "source": [
    "#ENCRYPTED\n",
    "# This cell is encrypted. Will be made public soon. Contact: sudheer.siddabattula@gmail.com for access/details\n",
    "\n",
    "LS0tLS1CRUdJTiBQR1AgTUVTU0FHRS0tLS0tCgp3Y0JNQTB5VXBDMWwzUy9oQVFmNkE1QTUvL2N5M0N5QXNZRCtoMDBEVFQvQWg3TS9WZmVKY1ZOK1dTUjZtQmNzClB4eE1TMFNlbERSaVZXakt2RSttSnY4M29DNDJtcGxkb3RGQTNKaTRYWGc1WjJnR1VOK0k1cDFTd0VPcXJwZ3AKSUlhSlpmcFpvTkU0QmViMkE5WU5zem5XNHpIcEh5MXZnbURCQVNDcmpPK2RwK0xrN3V2ajZBcGY0YnRQZ1lDegpheXVXYXhvZlJaaWNqaHBEWG5SQ2ZtcWVTdW5DbHQ2VTFUTXhiK3ZlUlduSCtmUUJickc3U1RkczI0N3p6TjlxCnYwaHdIK3Ywa0hmekV2NlZUVlVqM2RXR3RSSS8raVQxM1JWaXRLMDFKTlBjQ1Vkc0pOTW13SjJiMlh3L1duVlUKUHlkcHpwdG5jQXZsMDFkcnNqMmRXTlVkNU90NFZSYUV0UXVSUDR5Wjd0TEJDUUh4NVBTR1JScXNFc3hlQ0JFRwp3QTZPZU15eC9YY2dBQmhsOTJZSngxTlBrRWFkNTJmMHZsVC96cEhzcXlVaE5mbStPOWlycnpSNzg3UmRuZGh3Cjd4clJZLzJ2LzR6WGV4blJWZUk3eDB1NkE1V2dsTGcyK2lpdXNXSU5aWG4wc2VUVlp4RkJoamhKamxTdTB4b3oKNzY1ZFdIZERHc0NVS0djVVkxcVgrYVV1RWtKd3NkcHRTTy9yZmFZYk1RYjZlUXJ2dk5DSVBNOUFsR0VFWDY4KwpCTjNBYStnY3FYdGZPdUpJVitNV1IzWFY5bGs3alpBM3Bkbi9yMXk4NU4wT2k0RnVyRXpWK2tldHBwYzBRU3ErCnN4VUhlSC9KYmYxbWMwK2FiZ3JSYUNXLzBwdTM0YmorWEFzNU12eWxCalFVQm9zSDM0RFhQWHkyQ25OUmFjK2QKamdOYmRFa0kybFJlbTl4QVhHYXVyUVQwRkVqNmpscHBBMG02RUpMZXRmbnJwSFpFbjRMRHViaUJuaUhlL1dIQwp6UzN1OGtzbEZEbUhXdm9sMHBIM2U0MEJmVnhWREl0VTlpQUd3aC9FaEp3UGhQRnRZbFN5S1hsNVFaYTRla1pKCkgxK3A1bXBKdTU3OS9ibENVcXRha2ptS2NlMHd4ZUV3NWJidU5kY0kxS2tCd2NFaGczZ08zbGtuMFVLTTBKK2UKa2RxaERKUUNKUEc2Z0VHelRFN3BpdkYzMXBuek5YajBCb3FPNkFJeEI4aEt2N1U0OEt4aTduT0xSM2RlQjZiRwpSOFRSNXZxUVJUQWhZOFU9Cj1IVktiCi0tLS0tRU5EIFBHUCBNRVNTQUdFLS0tLS0K"
   ]
  },
  {
   "cell_type": "code",
   "execution_count": null,
   "metadata": {},
   "outputs": [],
   "source": []
  },
  {
   "cell_type": "code",
   "execution_count": null,
   "metadata": {},
   "outputs": [],
   "source": []
  },
  {
   "cell_type": "code",
   "execution_count": null,
   "metadata": {},
   "outputs": [],
   "source": []
  },
  {
   "cell_type": "code",
   "execution_count": null,
   "metadata": {},
   "outputs": [],
   "source": [
    "# import geopandas as gpd\n",
    "\n",
    "# path = \"./data/pickle_parquets/others/grids_new_X_comuni_EU\"\n",
    "\n",
    "# gdf = gpd.read_parquet(path)\n",
    "\n",
    "# crs = gdf.crs\n",
    "\n",
    "# if crs:\n",
    "#     print(f\"The CRS of the GeoParquet file is: {crs}\")\n",
    "# else:\n",
    "#     print(\"The CRS of the GeoParquet file is undefined.\")\n",
    "    \n",
    "# if crs:\n",
    "#     formatted_crs = CRS(crs)  \n",
    "#     print(f\"CRS: {formatted_crs.to_string()}\") \n",
    "#     print(f\"EPSG Code: {formatted_crs.to_epsg()}\")  \n",
    "#     print(f\"PROJ String: {formatted_crs.to_proj4()}\")  \n",
    "#     print(f\"WKT Format: {formatted_crs.to_wkt()}\")  \n",
    "# else:\n",
    "#     print(\"The CRS of the GeoParquet file is undefined.\")"
   ]
  }
 ],
 "metadata": {
  "kernelspec": {
   "display_name": "sedona_venv",
   "language": "python",
   "name": "python3"
  },
  "language_info": {
   "codemirror_mode": {
    "name": "ipython",
    "version": 3
   },
   "file_extension": ".py",
   "mimetype": "text/x-python",
   "name": "python",
   "nbconvert_exporter": "python",
   "pygments_lexer": "ipython3",
   "version": "3.12.3"
  }
 },
 "nbformat": 4,
 "nbformat_minor": 4
}
