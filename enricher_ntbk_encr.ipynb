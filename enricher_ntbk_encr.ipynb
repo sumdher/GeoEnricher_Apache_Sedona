{
 "cells": [
  {
   "cell_type": "code",
   "execution_count": 20,
   "metadata": {},
   "outputs": [],
   "source": [
    "#ENCRYPTED\n",
    "# This cell was encrypted. Contact: sudheer.siddabattula@gmail.com for access/details\n",
    "\n",
    "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"
   ]
  },
  {
   "cell_type": "code",
   "execution_count": null,
   "metadata": {},
   "outputs": [],
   "source": [
    "''' \n",
    "Loading data from files.\n",
    "This will take a while. Because it cleans and makes some essential transformations.\n",
    "But it is a one-time operation. `parquet_all()` will save all datasets to the disk, preserving any transformations applied.\n",
    "From next time, you can directly load them  with: `load_from_parquets()`.\n",
    "'''\n",
    "\n",
    "\n",
    "# Provide the data directory\n",
    "data_dir = f\"./data\"\n",
    "\n",
    "# Individual file path:\n",
    "path_contr = f\"{data_dir}/data_EU/countries_shp/\"\n",
    "path_reg = f\"{data_dir}/data_Italy/regioni/\"\n",
    "path_prov = f\"{data_dir}/data_Italy/provinci\"\n",
    "path_com_EU = f\"{data_dir}/data_EU/comuni_shp/\"\n",
    "path_com = f\"{data_dir}/data_Italy/comuni/\"\n",
    "path_grids = f\"{data_dir}/data_EU/census_grid_EU/grids_OG_corrected.parquet\"\n",
    "path_grids_new = f\"{data_dir}/data_EU/census_grid_EU/grids_new.gpkg\"\n",
    "\n",
    "# Dataset names and their file formats:\n",
    "# format: {dataset_name: (path, file_format), ...}\n",
    "\n",
    "datasets: dict[str, tuple[str, str]] = {\n",
    "    \"countries\": (path_contr, \"shapefile\"),\n",
    "    \"regions_IT\": (path_reg, \"shapefile\"),\n",
    "    \"provinces_IT\": (path_prov, \"shapefile\"),\n",
    "    \"comuni_EU\": (path_com_EU, \"shapefile\"),\n",
    "    \"comuni_IT\": (path_com, \"shapefile\"),\n",
    "    \"pop_grids\": (path_grids, \"geoparquet\"),\n",
    "    \"pop_grids_new\": (path_grids_new, \"geopackage\"),\n",
    "}\n",
    "\n",
    "obj = Enricher(crs=\"EPSG:3035\")\n",
    "\n",
    "# Setup the Enricher object with \"sedona\" (or, \"wherobots\")\n",
    "# \"ex_mem\" and \"dr_mem\" are the executor and driver memory in GB\n",
    "obj.setup_cluster(\n",
    "    data_dir=data_dir, \n",
    "    which=\"sedona\", \n",
    "    ex_mem=26,\n",
    "    dr_mem=24,\n",
    "    log_level=\"ERROR\")\n",
    "\n",
    "# Use \"load()\" to load all the datasets in {data_dir}, \n",
    "# according to the paths and file formats provided in \"datasets{}\"\n",
    "obj.load(datasets, silent=True)\n",
    "\n",
    "# Optionally, run \"fix_geometries()\" to fix invalid geometries if any; \n",
    "# if you want to skip the check for some dataframes, pass their names in \"skip[]\"\n",
    "obj.fix_geometries(\n",
    "    skip=['pop_grids', 'pop_grids_new']\n",
    "    )\n",
    "\n",
    "# Optionally, inspect the partitions and data skew:\n",
    "# obj.inspect_partitions()\n",
    "\n",
    "# and force the dataframes to be repartitioned to the number of available cores\n",
    "# pass the names of the dataframes to be skipped in skip[]\n",
    "obj.force_repartition(skip=['pop_grids'])\n",
    "\n",
    "# obj.inspect_partitions()\n",
    "\n",
    "# Transform the CRS of loaded datasets to the CRS passed in the Enricher constructor\n",
    "# lazy=True will not cache the dataframes. \n",
    "obj.transform_CRS(lazy=False)\n",
    "\n",
    "# Pickle all the dataframes to disk for quick access later.\n",
    "# default directory: \"./{data_dir}/pickle_parquets/dfs_list\"\n",
    "# you may change the directory where they are saved by pasing it in \"parquet_dir\"; relative to the {data_dir}\n",
    "obj.parquet_all(preserve_partitions=True)\n",
    "\n",
    "\n",
    "# obj.dfs_list['comuni_EU'] = obj.dfs_list['comuni_EU'].filter(F.col('CNTR_ID').isin([\"IT\", \"DE\"]))"
   ]
  },
  {
   "cell_type": "code",
   "execution_count": 21,
   "metadata": {},
   "outputs": [
    {
     "name": "stdout",
     "output_type": "stream",
     "text": [
      "Sedona initialized with None cores for parellelism.\n",
      "Loading 'countries' from Parquet...\n",
      "Loaded dataframe 'countries'\n",
      "Loading 'regions_IT' from Parquet...\n",
      "Loaded dataframe 'regions_IT'\n",
      "Loading 'provinces_IT' from Parquet...\n",
      "Loaded dataframe 'provinces_IT'\n",
      "Loading 'comuni_EU' from Parquet...\n",
      "Loaded dataframe 'comuni_EU'\n",
      "Loading 'comuni_IT' from Parquet...\n",
      "Loaded dataframe 'comuni_IT'\n",
      "Loading 'pop_grids' from Parquet...\n",
      "Loaded dataframe 'pop_grids'\n",
      "Loading 'pop_grids_new' from Parquet...\n",
      "Loaded dataframe 'pop_grids_new'\n"
     ]
    }
   ],
   "source": [
    "''' \n",
    "Load data from pickled parquets \n",
    "\n",
    "'''\n",
    "\n",
    "# Provide the data directory\n",
    "data_dir = \"./data\"\n",
    "\n",
    "obj = Enricher(crs=\"EPSG:3035\")\n",
    "\n",
    "# Setup the Enricher object with \"sedona\" (or, \"wherobots\")\n",
    "# \"ex_mem\" and \"dr_mem\" are the executor and driver memory in GB\n",
    "obj.setup_cluster(data_dir=data_dir, \n",
    "                  which=\"sedona\", \n",
    "                  ex_mem=26, \n",
    "                  dr_mem=24, \n",
    "                  log_level=\"ERROR\")\n",
    "\n",
    "# Loads all the datasets from pickled parquets in the default direcoty: \"./{data_dir}/pickle_parquets/dfs_list\"\n",
    "# optionally, to load from a different directory, pass the directory path in \"parquet_dir\"; reative to the {data_dir}\n",
    "obj.load_from_parquets()\n",
    "# obj.inspect_partitions()"
   ]
  },
  {
   "cell_type": "code",
   "execution_count": 22,
   "metadata": {},
   "outputs": [
    {
     "name": "stdout",
     "output_type": "stream",
     "text": [
      "User Guide: https://docs.kepler.gl/docs/keplergl-jupyter\n"
     ]
    },
    {
     "data": {
      "application/vnd.jupyter.widget-view+json": {
       "model_id": "1e1d2b34891843a1bc15a1b5ab692740",
       "version_major": 2,
       "version_minor": 0
      },
      "text/plain": [
       "KeplerGl(data={'countries': {'index': [0, 1, 2, 3, 4, 5, 6, 7, 8, 9, 10, 11, 12, 13, 14, 15, 16, 17, 18, 19, 2…"
      ]
     },
     "execution_count": 22,
     "metadata": {},
     "output_type": "execute_result"
    }
   ],
   "source": [
    "obj.make_map()\n",
    "obj.add_to_map(\"countries\")"
   ]
  },
  {
   "cell_type": "code",
   "execution_count": 3,
   "metadata": {},
   "outputs": [
    {
     "data": {
      "application/vnd.jupyter.widget-view+json": {
       "model_id": "6ce269a29a6749579205325c27b0d2bb",
       "version_major": 2,
       "version_minor": 0
      },
      "text/plain": [
       "VBox(children=(HTML(value='<h1>Enrich with Overlay & Aggregation</h1>'), HTML(value=\"<div style='height: 5px;'…"
      ]
     },
     "metadata": {},
     "output_type": "display_data"
    }
   ],
   "source": [
    "'''\n",
    "GUI for Enricher primitives\n",
    "\n",
    "'''\n",
    "\n",
    "# pass the Enricher object (loaded with the datasets) to the EnricherUI\n",
    "obj_ui = EnrichOverlay(obj)\n"
   ]
  },
  {
   "cell_type": "code",
   "execution_count": null,
   "metadata": {},
   "outputs": [
    {
     "name": "stdout",
     "output_type": "stream",
     "text": [
      "['COMM_ID', 'CNTR_ID', 'CNTR_CODE', 'COMM_NAME', 'NAME_ASCI', 'TRUE_FLAG', 'NSI_CODE', 'NAME_NSI', 'NAME_LATN', 'NUTS_CODE', 'FID', 'geohash', 'geometry', 'T_agr_sum']\n",
      "58166281.116447605\n"
     ]
    }
   ],
   "source": [
    "\n",
    "from pyspark.sql.dataframe import DataFrame as SparkDataFrame\n",
    "\n",
    "\n",
    "temp: SparkDataFrame = obj.res_agr\n",
    "print(temp.columns)\n",
    "\n",
    "# temp: SparkDataFrame = temp.filter(F.col('CNTR_ID') == 'IT')\n",
    "print(temp.agg(F.sum('T_agr_sum')).collect()[0][0])\n",
    "\n",
    "# obj.parquet_this(\"intrsctn_com_grid_IT\", temp, preserve_partitions=False)\n",
    "# obj.parquet_this(\"grids_new_X_comuni_EU_IT\", temp, preserve_partitions=False)\n",
    "# temp.cache()"
   ]
  },
  {
   "cell_type": "code",
   "execution_count": null,
   "metadata": {},
   "outputs": [
    {
     "name": "stderr",
     "output_type": "stream",
     "text": [
      "[Stage 215:====================================================>(199 + 1) / 200]\r"
     ]
    },
    {
     "name": "stdout",
     "output_type": "stream",
     "text": [
      "109707\n"
     ]
    },
    {
     "name": "stderr",
     "output_type": "stream",
     "text": [
      "                                                                                \r"
     ]
    }
   ],
   "source": [
    "#ENCRYPTED\n",
    "# This cell was encrypted. Contact: sudheer.siddabattula@gmail.com for access/details\n",
    "\n",
    "LS0tLS1CRUdJTiBQR1AgTUVTU0FHRS0tLS0tCgp3Y0JNQTB5VXBDMWwzUy9oQVFnQWlJUHFDREJvWGRYQXF1NEJpSjhTR2xZdC8zY0tlNklndWxxZFZyZVZpUkVhCkNxWVo1MVduaXV0Lzk0UHVjMURWdFpKdks1S0VhbFZiUW4wSVY2ZzVIdE1SZzl4aWEwSU93NDVhTW93K3d6dWQKVHBiY2dlS1ZvUWxmR25qS3pNN0Z5Y1VuWW9mY2d2ZFpJdTZCUlI1WFNmS2NLanJDeHBDQXowMjNSTUJpRDRiSwo3NTRlay9TcWFyQzM1U1VuQWoyRkZDVmRWVEJGZXlkWHZUMmc0bnhEMHp6emRXYlFxZDVERXV0SWI3eCtaajczCllkRTc4Wk9HVWpXUnhuTlFKdUE2UEFxRWthK2ZndWZDejRMQW1VdEI4aXczWC85T2NIcUtUai91WGFzelZwYWsKTTB1OTVsUDh3OXBDSUZZQmQvTzhLdUhhZTF1YkVPWXo2UmhYT1lUdHZOTEJ6d0dnSWp0Ly9ZT2hZWjBndFZtawpjUnJLajdoU3dZcEhlUkw3aXdZcTVPTmJNamIxTFU3M1ZSVk14cW5wbjhJakdNcHNaQWVjMjJlL3c0MDhiZXk2Cmx0K0NOL0hOQ1R6VnFYTFZFRGN2NFhGZkhKWktkL1YvVW93cTg2MmlRV0M5d3hsVjlLMFlIYlNYLytRem12bXkKZDhiMm1wMWhWTVpldzdmQitrWmFZUTNPRU00UXRzR0pNOERYdkhmV2NsQi81N3M4NGpvc2dTdmt1bXBxaWhGUwpjSnNlaVNpb0xIdHF5eDExbEdNc2xVNXMzaWp5L2Fmd0llaTRtSHB3dW9Ecm1PZ2NveW01OUhib1NqOHVucld4CjNrdDVjQXpmNk4yeWF6RlY0ZDN3UDFzMzk4ZnZuTG5uVml4ZGVRMW5oeUxBYWhIRCsyUXNlUkxSY29qYTdTUCsKQlRZQi9tV1ZmOVNRWHN5WGl3czdybElab2VibGpiUmtGTG1SSndCa2JrU1NhZWt4MC96d0REc1hWR3VGMUREeAp0WUQrUG56cVhWQnl3QXFTMzJWbklxTTljaFNDNmxlM2xmQ0JwZEZ6S3ZoUmU0a0lsSG9PS3lKd3FmOVB2dFE5ClBoUlNzWk5aU1BhQ0FtclpGNGNLMVVjY2g3UDdZR3JEc09oOTVEam1sRHFLQVVTc0c5dTVQRjkvZ1I0UUpHcC8KNGRLZHpTem15ZGJkMzAwOGtWeVFaZHh6RlVCL1JVRWUwbzNOdDJDMnpNNkk5WnpFQ1QwQUJHVVN6NmlwdDNOQgptZVlneHZnZnpYSER6OTB2WFA1Y0dkb1dlZW1iYXl6Q29xMTJHSm4zcUpmZDJ1MTY4SmJsSjJEK1ZUOXJTVVNJCkxYbDk5TjJjQ3pIVVo1VTEwVjlhdEtSWERzLzFnblN0ZGpyK1AwbnB0Z2tJV1l4VDRPNkNnR2NZVDRMc3BJd0oKMFpOaGlia3FtejgvWEVVZ1AwcFFXRC8yNFpMYW8vWTFVQmJmS2JFeVdFU1hkSEVGY3B1Z2t3bVhJWkNKWHJYYwo4WjhnV0JldllsOTRZYjJUdEFRb2wzUHBxdVdGNHFJY0x0RFk4bGtJcEMzWG9yclpyZ0NyS3J3U1QwSlNuOXlECjk2TGJ0Mmx1NjNhemtXWC9lajJIRnBvPQo9VmxmZQotLS0tLUVORCBQR1AgTUVTU0FHRS0tLS0tCg=="
   ]
  },
  {
   "cell_type": "code",
   "execution_count": null,
   "metadata": {},
   "outputs": [
    {
     "name": "stdout",
     "output_type": "stream",
     "text": [
      "41190463\n"
     ]
    }
   ],
   "source": [
    "\"\"\"\n",
    "Contains\n",
    "41190463\n",
    "\"\"\"\n",
    "\n",
    "print(res_n.agg(F.sum('t_agr')).collect()[0][0])\n"
   ]
  },
  {
   "cell_type": "code",
   "execution_count": null,
   "metadata": {},
   "outputs": [
    {
     "name": "stdout",
     "output_type": "stream",
     "text": [
      "77386595\n"
     ]
    }
   ],
   "source": [
    "\"\"\"\n",
    "Intersects\n",
    "77386595\n",
    "\"\"\"\n",
    "\n",
    "print(res_n.agg(F.sum('t_agr')).collect()[0][0])\n"
   ]
  },
  {
   "cell_type": "code",
   "execution_count": null,
   "metadata": {},
   "outputs": [],
   "source": [
    "\"\"\"\n",
    "ST_Intersection\n",
    "58166281\n",
    "\"\"\""
   ]
  },
  {
   "cell_type": "code",
   "execution_count": null,
   "metadata": {},
   "outputs": [],
   "source": [
    "import pyarrow.parquet as pq\n",
    "\n",
    "parquet_file = pq.ParquetFile(\"./data/pickle_parquets/others/grids_new_X_comuni_EU/test.parquet\")\n",
    "\n",
    "# Print full metadata\n",
    "print(parquet_file.metadata)\n",
    "\n",
    "# Print schema (column names, types, etc.)\n",
    "print(parquet_file.schema)\n",
    "\n",
    "# Print key-value metadata (custom user-defined metadata)\n",
    "print(parquet_file.metadata.metadata)  # This is a dictionary\n"
   ]
  },
  {
   "cell_type": "code",
   "execution_count": 16,
   "metadata": {},
   "outputs": [
    {
     "name": "stdout",
     "output_type": "stream",
     "text": [
      "{\"$schema\":\"https://proj.org/schemas/v0.7/projjson.schema.json\",\"type\":\"ProjectedCRS\",\"name\":\"ETRS89-extended / LAEA Europe\",\"base_crs\":{\"name\":\"ETRS89\",\"datum_ensemble\":{\"name\":\"European Terrestrial Reference System 1989 ensemble\",\"members\":[{\"name\":\"European Terrestrial Reference Frame 1989\",\"id\":{\"authority\":\"EPSG\",\"code\":1178}},{\"name\":\"European Terrestrial Reference Frame 1990\",\"id\":{\"authority\":\"EPSG\",\"code\":1179}},{\"name\":\"European Terrestrial Reference Frame 1991\",\"id\":{\"authority\":\"EPSG\",\"code\":1180}},{\"name\":\"European Terrestrial Reference Frame 1992\",\"id\":{\"authority\":\"EPSG\",\"code\":1181}},{\"name\":\"European Terrestrial Reference Frame 1993\",\"id\":{\"authority\":\"EPSG\",\"code\":1182}},{\"name\":\"European Terrestrial Reference Frame 1994\",\"id\":{\"authority\":\"EPSG\",\"code\":1183}},{\"name\":\"European Terrestrial Reference Frame 1996\",\"id\":{\"authority\":\"EPSG\",\"code\":1184}},{\"name\":\"European Terrestrial Reference Frame 1997\",\"id\":{\"authority\":\"EPSG\",\"code\":1185}},{\"name\":\"European Terrestrial Reference Frame 2000\",\"id\":{\"authority\":\"EPSG\",\"code\":1186}},{\"name\":\"European Terrestrial Reference Frame 2005\",\"id\":{\"authority\":\"EPSG\",\"code\":1204}},{\"name\":\"European Terrestrial Reference Frame 2014\",\"id\":{\"authority\":\"EPSG\",\"code\":1206}},{\"name\":\"European Terrestrial Reference Frame 2020\",\"id\":{\"authority\":\"EPSG\",\"code\":1382}}],\"ellipsoid\":{\"name\":\"GRS 1980\",\"semi_major_axis\":6378137,\"inverse_flattening\":298.257222101},\"accuracy\":\"0.1\",\"id\":{\"authority\":\"EPSG\",\"code\":6258}},\"coordinate_system\":{\"subtype\":\"ellipsoidal\",\"axis\":[{\"name\":\"Geodetic latitude\",\"abbreviation\":\"Lat\",\"direction\":\"north\",\"unit\":\"degree\"},{\"name\":\"Geodetic longitude\",\"abbreviation\":\"Lon\",\"direction\":\"east\",\"unit\":\"degree\"}]},\"id\":{\"authority\":\"EPSG\",\"code\":4258}},\"conversion\":{\"name\":\"Europe Equal Area 2001\",\"method\":{\"name\":\"Lambert Azimuthal Equal Area\",\"id\":{\"authority\":\"EPSG\",\"code\":9820}},\"parameters\":[{\"name\":\"Latitude of natural origin\",\"value\":52,\"unit\":\"degree\",\"id\":{\"authority\":\"EPSG\",\"code\":8801}},{\"name\":\"Longitude of natural origin\",\"value\":10,\"unit\":\"degree\",\"id\":{\"authority\":\"EPSG\",\"code\":8802}},{\"name\":\"False easting\",\"value\":4321000,\"unit\":\"metre\",\"id\":{\"authority\":\"EPSG\",\"code\":8806}},{\"name\":\"False northing\",\"value\":3210000,\"unit\":\"metre\",\"id\":{\"authority\":\"EPSG\",\"code\":8807}}]},\"coordinate_system\":{\"subtype\":\"Cartesian\",\"axis\":[{\"name\":\"Northing\",\"abbreviation\":\"Y\",\"direction\":\"north\",\"unit\":\"metre\"},{\"name\":\"Easting\",\"abbreviation\":\"X\",\"direction\":\"east\",\"unit\":\"metre\"}]},\"scope\":\"Statistical analysis.\",\"area\":\"Europe - European Union (EU) countries and candidates. Europe - onshore and offshore: Albania; Andorra; Austria; Belgium; Bosnia and Herzegovina; Bulgaria; Croatia; Cyprus; Czechia; Denmark; Estonia; Faroe Islands; Finland; France; Germany; Gibraltar; Greece; Hungary; Iceland; Ireland; Italy; Kosovo; Latvia; Liechtenstein; Lithuania; Luxembourg; Malta; Monaco; Montenegro; Netherlands; North Macedonia; Norway including Svalbard and Jan Mayen; Poland; Portugal including Madeira and Azores; Romania; San Marino; Serbia; Slovakia; Slovenia; Spain including Canary Islands; Sweden; Switzerland; Türkiye (Turkey); United Kingdom (UK) including Channel Islands and Isle of Man; Vatican City State.\",\"bbox\":{\"south_latitude\":24.6,\"west_longitude\":-35.58,\"north_latitude\":84.73,\"east_longitude\":44.83},\"id\":{\"authority\":\"EPSG\",\"code\":3035}}\n"
     ]
    }
   ],
   "source": [
    "from pyproj import CRS\n",
    "print(CRS.from_epsg(3035).to_json()) "
   ]
  },
  {
   "cell_type": "code",
   "execution_count": null,
   "metadata": {},
   "outputs": [
    {
     "name": "stdout",
     "output_type": "stream",
     "text": [
      "4531770\n"
     ]
    }
   ],
   "source": [
    "#ENCRYPTED\n",
    "# This cell was encrypted. Contact: sudheer.siddabattula@gmail.com for access/details\n",
    "\n",
    "LS0tLS1CRUdJTiBQR1AgTUVTU0FHRS0tLS0tCgp3Y0JNQTB5VXBDMWwzUy9oQVFmOUZ6Vm1YRUVrbWlMcGcrbmhiQS91QU9iWlpocW9VVFZmcXg3MUN4dmRDMFNCCmJYOVArdXpjTEozZUlETWM5OVBudm5Id0xPVm1IUEV0NndJaUlyNTZ0UkwzMzJxNC9KOFdIWDc1eFBQYjQ2aGsKbFpMdlNobWhjVDByeVkwUWNzaC9OYlFHNWIvUEU0T21md0ZzZzJLdlZ5QXNBR2RBYmdjZ2FNUUJMOWIxN3pZTwpQRHI2Yk5yQnpPaWxacXRnSW9RK0NiUXZNTTI3MkhHZS9iUWJFb3dYRzU3OHlpbFFKUXVHUHNiVkxKQ1RMYk4rClRqOStKbFVOOUpUdFhnVC9USExNQ2l1MVlMc2N0a1JsWVl4VmVCY2hrRVJubTFzVnFLSmRvaDJPR0NxRVJSaE4KYkhZU0hhQllEQndHWWVKT3EzSUY5VlhNMVpBVjZxOGo0NjBuTDNQQmpOTEFTd0V0N3BXUmhydEZSOUdMVjJGWQpyOFVKY0NsTndmblpFVkpnaU9ibkFSdXYrMXRJTlY0LzlpSjRSZWVUbFBuMHc2MVp3UTdyYnZOWUdoR1NnM09NCmhJUkZMQ1RMZVlCek1FSXM5MmRLK2hYOW5NWFZwaUFrNzkzallBaEh4L1lHWUpCRTdQeUF2bjRnYXNxcjhDbmgKdjlmY1dwSnlLNUw1THpXa2xlQm01aXpKMVVyWW9jeE01WWU5TFZESTJsMmpyYnhoV2NGbkV5eHA2ZkFkbERPWgp3YWZKWVZVclpma3k5c01qUGNMeU91dUk5QVFSUkVzMENGalBCVTlCeUlxNUNqV0VxZE9WT2pjNnF3eEZUeWo3ClJWRTZwRXJKUHpobWVHMWRqRi9LMUp0djQrVlNiWFBsN3VjM1BBdWRYeFJWNjdyM2dWbW5WZ0hoajVDZk9vRi8KT0Y4WkM5ODZtbU92alUrLzh3PT0KPTJ4MHoKLS0tLS1FTkQgUEdQIE1FU1NBR0UtLS0tLQo="
   ]
  },
  {
   "cell_type": "code",
   "execution_count": null,
   "metadata": {},
   "outputs": [],
   "source": [
    "#ENCRYPTED\n",
    "# This cell was encrypted. Contact: sudheer.siddabattula@gmail.com for access/details\n",
    "\n",
    "LS0tLS1CRUdJTiBQR1AgTUVTU0FHRS0tLS0tCgp3Y0JNQTB5VXBDMWwzUy9oQVFmK0tmMDRaYVRVRU16QWppNEdkZ1owbXBQb2ErWnYwdHplRnZ2WFlkaGo4M3plCk1qUHhOemVGSnJpeEcxQzAzb3dBSUpOd3BINkg2OGxkaTF0VC9FckR0UHBwL1pRQkNyTGY4UGd0Q1lpeWg5MTQKWHJtNFNlUFExdkgxanZFaklFREpodWZqT2QwVXN3ck5pcHpsU1RyNnA0cFFwcmJiTzNGSk03dlpsaXErNXphcApYZURKSnNiMk9XbTNEN0N1a0RqVDJlaE1CcGhNa0IwblRZMitMa0pseStFem9GTk9IZ2VtTm55dGtONGtYRzR4CkJtWTd3YUF1eUpTcXdJNXJ3Zy92TTdsSm92bkxSOGQxV1kxQmU0TTVhNU13MVIxdEFwdE9tMzNjeERZOUk5NjcKRkJRNEVTRGRMN3F6M0YvSmgyL0FZQ3BUVVFNMHBUZmhsUC9URFNIbGU5TEJvUUVlTHZkMXArOTJiQXg1bnhxMwpJVnFZc00vNW43VHdVTTAvcmc2TWVJUUFtdGdPbm84R005WE52Ujd3ZE9vVDlaLzE1RWxlZHFXNVlqK3M0ZTFRCm9nRUxsc2JJVVRsUE0rait3b3N4bjBOeWtmL25vRXVhejh3OVpmeDlINlBFbnlPZnlwdm1INW85cWxhTXF6U1IKYlZ4SzU2RzA4UGlUb3JPSmFiemRORjdUMVNHa013K1pvUXBoM0o1YUFZazl1VGRYdndwRjhtSVVVb1A3QlFOTApJVVpFQjhWVGlMODRYbnRKKzZvWWk4dHM1OEsrWWRRRFhrdGtkS2FiNkZGVmE4MnhCaTFPOTJ4Qlh6OFlYREhmCnM2VlhDWGx6cjJTbG9FSGdnOXdwYjY1SEYrQ0FjUGZBVDhSdDdzSGNwRUFRUk94ZUtib3NiRExSNTBWbVExTTkKREhLcy8vZm5wc3d1MWcvUlRvR2h2cjNVRzRSL0NRb0xXQ21vUmsvU1pCK204YlBldm1ORkVacjZJZmpCa21VSwowMnJtcGlZZWErRnJOOUlNWmRGa0VwY0JLdHBoQjAvZHNOUlZRVjVUOE5vT3hrdC9zL3RsV3AwaE9HRUlqTThzCjN6ZFF2dFZrTThwd0lmdXhCZHR4eURIaENGWDR0QUV3OW5uNVhISFdBWnFSb3h4ZkpMd2U2R3h0R2dKNWlYTGoKbzNibDUwQXFSbE9wYlljVDhSTS9zYXVGQ3RpM3g1ZTNoemlIeXVWNERRZmVlT0Z6SXpYNFNkRUMwb2xDa20xcQpzM2R5VTlvT3hhY1lSd0x2dnZPVlk1N3ZDK2xUdEJCVDc4TkkzNmlydzNQZmI1YWZTcU83Zk9zRDA1TDM5dFF2CjhUQ1BxVGpZeGo5UFBEemtHQ1U3eThtdHdPaDhneXZTM0Q0T3l6QjBoS1hnOHByYWdXcUhWS3RzeHNROUZXQjQKcmxvTVJLdlN5YmQ2Qk0wQjRTMjVPdDVmQ0ltZkdtOGRGV3gzQTFFakNmT0dRVEEra3hjOVZFK0poR0lKem1EMApFR2tabXFTMW9FYmJqZ0hyaE1HMnVQQ0U3dz09Cj1WZVltCi0tLS0tRU5EIFBHUCBNRVNTQUdFLS0tLS0K"
   ]
  },
  {
   "cell_type": "code",
   "execution_count": null,
   "metadata": {},
   "outputs": [
    {
     "name": "stderr",
     "output_type": "stream",
     "text": [
      "/data/homes_data/sudheer/benchmark_data/sedona_venv/lib/python3.12/site-packages/jupyter_client/session.py:721: UserWarning: Message serialization failed with:\n",
      "Out of range float values are not JSON compliant: nan\n",
      "Supporting this message is deprecated in jupyter-client 7, please make sure your message is JSON-compliant\n",
      "  content = self.pack(content)\n"
     ]
    },
    {
     "data": {
      "application/vnd.jupyter.widget-view+json": {
       "model_id": "cc76fdf26c8f4a20beab056580dd247c",
       "version_major": 2,
       "version_minor": 0
      },
      "text/plain": [
       "KeplerGl(config={'version': 'v1', 'config': {'visState': {'filters': [], 'layers': [{'id': '7f1zywf', 'type': …"
      ]
     },
     "execution_count": 34,
     "metadata": {},
     "output_type": "execute_result"
    }
   ],
   "source": [
    "map.add_data(\n",
    "    data=prep_for_map(df1, obj.crs, geom_col=\"geometry\"), \n",
    "    name=\"comune\"\n",
    "    )\n",
    "map"
   ]
  },
  {
   "cell_type": "code",
   "execution_count": null,
   "metadata": {},
   "outputs": [],
   "source": [
    "#ENCRYPTED\n",
    "# This cell was encrypted. Contact: sudheer.siddabattula@gmail.com for access/details\n",
    "\n",
    "LS0tLS1CRUdJTiBQR1AgTUVTU0FHRS0tLS0tCgp3Y0JNQTB5VXBDMWwzUy9oQVFmOUh4ZWVCbE1JU0NBQStKZ2hQVlVqYmhCYTN5UktGdkxzMzFCcUVsUjRqckJTCjhuS3B2RWlpQTlEeHk3SlUwc3R1NlN5RklhSXdjNEM2Zi9Ub0x0dk9rTTR1Y3B0akFCdWlVT3NGYWl6NzFXNU0KTEs4RDV5djdYa2R1UG1YVTlrYTdYaFVJdjhPMy8yd3FtQmsxN2U2UU1QU1JjTnJ6aU5xeGExTGRpZlJvSXJXQQpJdTBOVDFmcktrRU1UTzhYU3crRXg5YzY3dTlpbFdUYVdpbjI4QlViUnljUDFFRldXeTZSR2pkbXlUUlZKNE5mCjRPMVBuS2VFZ1I2dk15QUp5VzZHZS9qNmNYMmc5c0tFTjlQUDlPQW8wOHhiSURLU3pxMkhZZEdsclZoUFFZSFEKUzBicUdLZWxDTklzTkluR0tPRlNOd2lZRm9tL2c1SDB5ZGZTcW8rYVF0SzdBZFlHeG0zNkFOL3FhWFgrYlpIUwo1ekI3QTM3ZlNIY3BnMkVkVDMxbnc1U2NZc2dKN1FVMVJTVDB1K0JZU1NUaytnMENxWGZkQld4c21hRENyRGROCmlyRjNsait1d0hGY3BzMGQzSG9sdWFCcGZQVUVtSC85bGV1VkpBR25NSUwwelpGUEpLNUl3dGpTR3ZpRW50NHgKWk5OYTdtR1FSbEtJT3B4bk84cXlwcGhKdFZ2SUZBNTNZSWc0WmNQNm9jNGh4RFRpaVpSM0RVYzdGMklObXBJcgpiZGZuY1JKVTd4NlR6Q25xM0hUNlAzemUwVEFnbS8rQUZ4ZlRxdz09Cj13RE9LCi0tLS0tRU5EIFBHUCBNRVNTQUdFLS0tLS0K"
   ]
  },
  {
   "cell_type": "code",
   "execution_count": null,
   "metadata": {},
   "outputs": [],
   "source": [
    "#ENCRYPTED\n",
    "# This cell was encrypted. Contact: sudheer.siddabattula@gmail.com for access/details\n",
    "\n",
    "LS0tLS1CRUdJTiBQR1AgTUVTU0FHRS0tLS0tCgp3Y0JNQTB5VXBDMWwzUy9oQVFmL2JZd1hHNXQ5YVJCUzFWTDZFa1dWb2Qxd1RUREw1eWJlV2svQWF0ekZmSnJ2Cm9KMGNCdzU4SENZSHRDNXdPSzBJVmdLc2wzZDRsTmNxZlNmUUdPNVY5MDAxcTZIR0VBUnVmS3NlM0VPNmswVk8KZG1vR0ZYOTdUSktUUkRQYmFHMkZZQ0FQdDFiT0JzOWJMNFNhN0NLbTNhVHh6UVVsdGdvcGhHOFVXQlJicm5TTQpRemZVOVVLTGdCZWtKeFpPdU9xQnhqQXlhUXNvWDhtWkhRVDF0MUI0QTdZSDlCZHVYamV2Mno0RWZXT0tNSUw2CnV1bkNYc1c0djNLOGQ0OEVsWi81WjJUNFZKbGdRMTFGNWdKQWlzY3JWUnlHNUtpZVR5RU5XY3Y2UHJ0ajdxZFAKSUJDY0crTWhYekZvaSs5UUV6eFZFc1psZUhjTjkvcVZxNHFZQ1FzcHd0TEJDUUZXcEtGRVhGSGtMQldsaGVPUgpJZVJueVU4QmJFVVpQUC9ISkJ0bjdwdE1iSzFLRitJaE9uQnBScVhLQzl0c0xvMUNFZk9jNS94RnpjUmZNS0NsCnpNeS9oRjNmNE94THZVZ21Jc2FRUlFxdFA5dE1rbkNMbEZwckRIb0NhQjQyQkY3TXdyM2k2TFhJL3ZRbFFiZTUKRERFSUtsdmpEbDY0Y3ZLZUx0eHN4OXpMZGhOaXNkS3EzSDI5Q3VLMFpEazdTdUJ0RDZkMkdudzlaTFg0WU5yTQpuVjZvdnVybURyd1IzN0V3TjdweGhkRmwyemh6VDlZUlpTV1hxcVhoVnZzUGplazB1eG9GV3BGQUs2OWVPWHJWCm9WS2lEY3U0WGlYV0FDbzFYR3AzNUs2SkN2eUJmdEtLeVRjT2U3TjlGRzB2amFUVzhmaUx3UFU5NVBVazZRelQKMWZjeitXTE9STEJSZnBCck0vZlhBWnlOZ0ZETVVBdGY2ZnVOTWx4a3F2bjRmMk1SMmFuSURNUVVpYnhuL3VvMApKUUNjOHlFYitGNlNnaTBicGR3bVRsQ1RCMkhKd1lBdmo5UEkwT1RqVmJrdDIrTkJBUlNHbHpmdVBRdVRoaGNoCnhpSGVLenduTUZSOXhaQjliaVIxSk13cGZaOEpsYjVXQkV0RnVoVmxhQklUUGtCTmF0NGt5cmdwblg4UE1VTWMKLzREZkRuZWNiUGwvUDFlY0ZGSGQ3VDZrTFhKQ2VtcndTVHpuUXZNbStMMjMyU0EyeGp5cnhkV1BBQjJaN21YYgo3MWRBRWZKNFRQYUtMdjg9Cj1iNkVUCi0tLS0tRU5EIFBHUCBNRVNTQUdFLS0tLS0K"
   ]
  },
  {
   "cell_type": "code",
   "execution_count": null,
   "metadata": {},
   "outputs": [],
   "source": []
  },
  {
   "cell_type": "code",
   "execution_count": null,
   "metadata": {},
   "outputs": [],
   "source": []
  },
  {
   "cell_type": "code",
   "execution_count": null,
   "metadata": {},
   "outputs": [],
   "source": []
  },
  {
   "cell_type": "code",
   "execution_count": null,
   "metadata": {},
   "outputs": [],
   "source": [
    "# import geopandas as gpd\n",
    "\n",
    "# path = \"./data/pickle_parquets/others/grids_new_X_comuni_EU\"\n",
    "\n",
    "# gdf = gpd.read_parquet(path)\n",
    "\n",
    "# crs = gdf.crs\n",
    "\n",
    "# if crs:\n",
    "#     print(f\"The CRS of the GeoParquet file is: {crs}\")\n",
    "# else:\n",
    "#     print(\"The CRS of the GeoParquet file is undefined.\")\n",
    "    \n",
    "# if crs:\n",
    "#     formatted_crs = CRS(crs)  \n",
    "#     print(f\"CRS: {formatted_crs.to_string()}\") \n",
    "#     print(f\"EPSG Code: {formatted_crs.to_epsg()}\")  \n",
    "#     print(f\"PROJ String: {formatted_crs.to_proj4()}\")  \n",
    "#     print(f\"WKT Format: {formatted_crs.to_wkt()}\")  \n",
    "# else:\n",
    "#     print(\"The CRS of the GeoParquet file is undefined.\")"
   ]
  }
 ],
 "metadata": {
  "kernelspec": {
   "display_name": "sedona_venv",
   "language": "python",
   "name": "python3"
  },
  "language_info": {
   "codemirror_mode": {
    "name": "ipython",
    "version": 3
   },
   "file_extension": ".py",
   "mimetype": "text/x-python",
   "name": "python",
   "nbconvert_exporter": "python",
   "pygments_lexer": "ipython3",
   "version": "3.12.3"
  }
 },
 "nbformat": 4,
 "nbformat_minor": 4
}
