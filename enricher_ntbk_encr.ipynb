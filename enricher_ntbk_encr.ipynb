{
 "cells": [
  {
   "cell_type": "code",
   "execution_count": null,
   "metadata": {},
   "outputs": [],
   "source": [
    "# This is encypted content. It will be made public soon\n",
    "# Contact me: \"sudheer.siddabattula@gmail.com\" for details/access.\n",
    "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"
   ]
  },
  {
   "cell_type": "code",
   "execution_count": null,
   "metadata": {},
   "outputs": [
    {
     "name": "stdout",
     "output_type": "stream",
     "text": [
      "Sedona initialized with 10 cores for parellelism.\n",
      "\n",
      "Loading datasets...\n",
      "Make sure the geometry column is named \"geometry\" in the datasets\n",
      "Loaded 'countries': (259, 12), 'EPSG:3035'\n",
      "Loaded 'regions_IT': (20, 6), 'EPSG:32632'\n",
      "Loaded 'provinces_IT': (107, 13), 'EPSG:32632'\n",
      "Loaded 'comuni_EU': (122750, 12), 'EPSG:3035'\n",
      "Loaded 'comuni_IT': (7899, 13), 'EPSG:32632'\n"
     ]
    },
    {
     "name": "stderr",
     "output_type": "stream",
     "text": [
      "                                                                                \r"
     ]
    },
    {
     "name": "stdout",
     "output_type": "stream",
     "text": [
      "Loaded 'pop_grids': (4594018, 18), 'EPSG:3035'\n"
     ]
    },
    {
     "name": "stderr",
     "output_type": "stream",
     "text": [
      "/opt/conda/lib/python3.12/contextlib.py:137: RuntimeWarning: GPKG: unrecognized user_version=0x00000000 (0) on './data/data_EU/census_grid_EU/grids_new.gpkg'\n",
      "  return next(self.gen)\n"
     ]
    },
    {
     "name": "stdout",
     "output_type": "stream",
     "text": [
      "Loaded 'pop_grids_new': (7055226, 20), 'EPSG:3035'\n",
      "7 datasets loaded. \n",
      "\n"
     ]
    },
    {
     "name": "stderr",
     "output_type": "stream",
     "text": [
      "                                                                                \r"
     ]
    },
    {
     "name": "stdout",
     "output_type": "stream",
     "text": [
      "'countries' has 0.00% invalid geometries.\n",
      "Nothing to fix in 'countries'\n"
     ]
    },
    {
     "name": "stderr",
     "output_type": "stream",
     "text": [
      "                                                                                \r"
     ]
    },
    {
     "name": "stdout",
     "output_type": "stream",
     "text": [
      "'regions_IT' has 5.00% invalid geometries.\n",
      "Fixed 1 geometries in 'regions_IT'\n"
     ]
    },
    {
     "name": "stderr",
     "output_type": "stream",
     "text": [
      "                                                                                \r"
     ]
    },
    {
     "name": "stdout",
     "output_type": "stream",
     "text": [
      "'provinces_IT' has 0.93% invalid geometries.\n",
      "Fixed 1 geometries in 'provinces_IT'\n"
     ]
    },
    {
     "name": "stderr",
     "output_type": "stream",
     "text": [
      "                                                                                \r"
     ]
    },
    {
     "name": "stdout",
     "output_type": "stream",
     "text": [
      "'comuni_EU' has 0.00% invalid geometries.\n",
      "Nothing to fix in 'comuni_EU'\n"
     ]
    },
    {
     "name": "stderr",
     "output_type": "stream",
     "text": [
      "                                                                                \r"
     ]
    },
    {
     "name": "stdout",
     "output_type": "stream",
     "text": [
      "'comuni_IT' has 0.10% invalid geometries.\n",
      "Fixed 8 geometries in 'comuni_IT'\n",
      "\n",
      "Transforming CRS...\n",
      "Changed CRS of 'countries': 'EPSG:3035' to 'EPSG:3035'\n",
      "Changed CRS of 'regions_IT': 'EPSG:32632' to 'EPSG:3035'\n",
      "Changed CRS of 'provinces_IT': 'EPSG:32632' to 'EPSG:3035'\n",
      "Changed CRS of 'comuni_EU': 'EPSG:3035' to 'EPSG:3035'\n",
      "Changed CRS of 'comuni_IT': 'EPSG:32632' to 'EPSG:3035'\n",
      "Changed CRS of 'pop_grids': 'EPSG:3035' to 'EPSG:3035'\n",
      "Changed CRS of 'pop_grids_new': 'EPSG:3035' to 'EPSG:3035'\n",
      "Dataset cached. 259 rows.\n"
     ]
    },
    {
     "name": "stderr",
     "output_type": "stream",
     "text": [
      "                                                                                \r"
     ]
    },
    {
     "name": "stdout",
     "output_type": "stream",
     "text": [
      "Dataset cached. 20 rows.\n"
     ]
    },
    {
     "name": "stderr",
     "output_type": "stream",
     "text": [
      "                                                                                \r"
     ]
    },
    {
     "name": "stdout",
     "output_type": "stream",
     "text": [
      "Dataset cached. 107 rows.\n"
     ]
    },
    {
     "name": "stderr",
     "output_type": "stream",
     "text": [
      "                                                                                \r"
     ]
    },
    {
     "name": "stdout",
     "output_type": "stream",
     "text": [
      "Dataset cached. 122750 rows.\n"
     ]
    },
    {
     "name": "stderr",
     "output_type": "stream",
     "text": [
      "                                                                                \r"
     ]
    },
    {
     "name": "stdout",
     "output_type": "stream",
     "text": [
      "Dataset cached. 7899 rows.\n"
     ]
    },
    {
     "name": "stderr",
     "output_type": "stream",
     "text": [
      "                                                                                \r"
     ]
    },
    {
     "name": "stdout",
     "output_type": "stream",
     "text": [
      "Dataset cached. 4594018 rows.\n"
     ]
    },
    {
     "name": "stderr",
     "output_type": "stream",
     "text": [
      "                                                                                \r"
     ]
    },
    {
     "name": "stdout",
     "output_type": "stream",
     "text": [
      "Dataset cached. 7055226 rows.\n",
      "Saving 'countries' as Parquet...\n"
     ]
    },
    {
     "name": "stderr",
     "output_type": "stream",
     "text": [
      "                                                                                \r"
     ]
    },
    {
     "name": "stdout",
     "output_type": "stream",
     "text": [
      "Saved to './data/pickle_parquets/dfs_list/countries'\n",
      "Saving 'regions_IT' as Parquet...\n",
      "Saved to './data/pickle_parquets/dfs_list/regions_IT'\n",
      "Saving 'provinces_IT' as Parquet...\n",
      "Saved to './data/pickle_parquets/dfs_list/provinces_IT'\n",
      "Saving 'comuni_EU' as Parquet...\n"
     ]
    },
    {
     "name": "stderr",
     "output_type": "stream",
     "text": [
      "                                                                                \r"
     ]
    },
    {
     "name": "stdout",
     "output_type": "stream",
     "text": [
      "Saved to './data/pickle_parquets/dfs_list/comuni_EU'\n",
      "Saving 'comuni_IT' as Parquet...\n"
     ]
    },
    {
     "name": "stderr",
     "output_type": "stream",
     "text": [
      "                                                                                \r"
     ]
    },
    {
     "name": "stdout",
     "output_type": "stream",
     "text": [
      "Saved to './data/pickle_parquets/dfs_list/comuni_IT'\n",
      "Saving 'pop_grids' as Parquet...\n"
     ]
    },
    {
     "name": "stderr",
     "output_type": "stream",
     "text": [
      "                                                                                \r"
     ]
    },
    {
     "name": "stdout",
     "output_type": "stream",
     "text": [
      "Saved to './data/pickle_parquets/dfs_list/pop_grids'\n",
      "Saving 'pop_grids_new' as Parquet...\n"
     ]
    },
    {
     "name": "stderr",
     "output_type": "stream",
     "text": [
      "[Stage 121:============================>                           (5 + 5) / 10]\r"
     ]
    },
    {
     "name": "stdout",
     "output_type": "stream",
     "text": [
      "Saved to './data/pickle_parquets/dfs_list/pop_grids_new'\n"
     ]
    },
    {
     "name": "stderr",
     "output_type": "stream",
     "text": [
      "                                                                                \r"
     ]
    }
   ],
   "source": [
    "''' \n",
    "Load data from files \n",
    "\n",
    "'''\n",
    "\n",
    "\n",
    "# Provide the data directory\n",
    "data_dir = \"./data\"\n",
    "\n",
    "# Individual file path:\n",
    "path_contr = f\"{data_dir}/data_EU/countries_shp/\"\n",
    "path_reg = f\"{data_dir}/data_Italy/regioni/\"\n",
    "path_prov = f\"{data_dir}/data_Italy/provinci\"\n",
    "path_com_EU = f\"{data_dir}/data_EU/comuni_shp/\"\n",
    "path_com = f\"{data_dir}/data_Italy/comuni/\"\n",
    "path_grids = f\"{data_dir}/data_EU/census_grid_EU/grids_OG_corrected.parquet\"\n",
    "path_grids_new = f\"{data_dir}/data_EU/census_grid_EU/grids_new.gpkg\"\n",
    "\n",
    "\n",
    "# Dataset names and their file formats:\n",
    "# format: {dataset_name: (path, file_format), ...}\n",
    "\n",
    "datasets = {\n",
    "    \"countries\": (path_contr, \"shapefile\"),\n",
    "    \"regions_IT\": (path_reg, \"shapefile\"),\n",
    "    \"provinces_IT\": (path_prov, \"shapefile\"),\n",
    "    \"comuni_EU\": (path_com_EU, \"shapefile\"),\n",
    "    \"comuni_IT\": (path_com, \"shapefile\"),\n",
    "    \"pop_grids\": (path_grids, \"geoparquet\"),\n",
    "    \"pop_grids_new\": (path_grids_new, \"geopackage\")\n",
    "    # \"census\": (path_census, \"\"),\n",
    "}\n",
    "\n",
    "obj = Enricher(crs=\"EPSG:3035\")\n",
    "\n",
    "# Setup the Enricher object with \"sedona\" (or, \"wherobots\")\n",
    "# \"ex_mem\" and \"dr_mem\" are the executor and driver memory in GB\n",
    "obj.setup_cluster(data_dir=data_dir, which=\"sedona\", ex_mem=26, dr_mem=24, log_level=\"ERROR\")\n",
    "\n",
    "# Use \"load()\" to load all the datasets in {data_dir}, \n",
    "# according to the paths and file formats provided in \"datasets{}\"\n",
    "obj.load(datasets, silent=True)\n",
    "\n",
    "# Optionally, run \"fix_geometries()\" to fix invalid geometries if any; \n",
    "# if you want to skip the check for some dataframes, pass their names in \"skip[]\"\n",
    "obj.fix_geometries(skip=['pop_grids', 'pop_grids_new'])\n",
    "\n",
    "# Optionally, inspect the partitions and data skew\n",
    "# obj.inspect_partitions()\n",
    "\n",
    "# if you want, force the dataframes to be repartitioned to the number of available cores\n",
    "# pass the names of the dataframes to be skipped in skip[]\n",
    "obj.force_repartition(skip=['pop_grids'])\n",
    "\n",
    "# obj.inspect_partitions()\n",
    "\n",
    "# Transform the CRS of loaded datasets to the CRS passed in the Enricher constructor\n",
    "# lazy=True will not materialize and cache the dataframes. \n",
    "obj.transform_CRS(lazy=False)\n",
    "\n",
    "# Pickle all the dataframes to disk for quick access later.\n",
    "# default directory: \"./{data_dir}/pickle_parquets/dfs_list\"\n",
    "# you may change the directory where they are saved by pasing it in \"parquet_dir\"; relative to the {data_dir}\n",
    "obj.parquet_all(preserve_partitions=True)\n",
    "\n",
    "\n",
    "# obj.dfs_list['comuni_EU'] = obj.dfs_list['comuni_EU'].filter(F.col('CNTR_ID').isin([\"IT\", \"DE\"]))"
   ]
  },
  {
   "cell_type": "code",
   "execution_count": null,
   "metadata": {},
   "outputs": [
    {
     "name": "stdout",
     "output_type": "stream",
     "text": [
      "Sedona initialized with 10 cores for parellelism.\n",
      "Loading 'countries' from Parquet...\n"
     ]
    },
    {
     "name": "stderr",
     "output_type": "stream",
     "text": [
      "                                                                                \r"
     ]
    },
    {
     "name": "stdout",
     "output_type": "stream",
     "text": [
      "Loaded dataframe 'countries'\n",
      "Loading 'regions_IT' from Parquet...\n",
      "Loaded dataframe 'regions_IT'\n",
      "Loading 'provinces_IT' from Parquet...\n",
      "Loaded dataframe 'provinces_IT'\n",
      "Loading 'comuni_EU' from Parquet...\n",
      "Loaded dataframe 'comuni_EU'\n",
      "Loading 'comuni_IT' from Parquet...\n",
      "Loaded dataframe 'comuni_IT'\n",
      "Loading 'pop_grids' from Parquet...\n",
      "Loaded dataframe 'pop_grids'\n",
      "Loading 'pop_grids_new' from Parquet...\n",
      "Loaded dataframe 'pop_grids_new'\n"
     ]
    }
   ],
   "source": [
    "''' \n",
    "Load data from pickled parquets \n",
    "\n",
    "'''\n",
    "\n",
    "# Provide the data directory\n",
    "data_dir = \"./data\"\n",
    "\n",
    "obj = Enricher(crs=\"EPSG:3035\")\n",
    "\n",
    "# Setup the Enricher object with \"sedona\" (or, \"wherobots\")\n",
    "# \"ex_mem\" and \"dr_mem\" are the executor and driver memory in GB\n",
    "obj.setup_cluster(data_dir=data_dir, which=\"sedona\", ex_mem=26, dr_mem=24, log_level=\"ERROR\")\n",
    "\n",
    "# Loads all the datasets from pickled parquets in the default direcoty: \"./{data_dir}/pickle_parquets/dfs_list\"\n",
    "# optionally, to load from a different directory, pass the directory path in \"parquet_dir\"; reative to the {data_dir}\n",
    "obj.load_from_parquets()\n",
    "# obj.inspect_partitions()"
   ]
  },
  {
   "cell_type": "code",
   "execution_count": null,
   "metadata": {},
   "outputs": [
    {
     "name": "stdout",
     "output_type": "stream",
     "text": [
      "['COMM_ID', 'CNTR_ID', 'CNTR_CODE', 'COMM_NAME', 'NAME_ASCI', 'TRUE_FLAG', 'NSI_CODE', 'NAME_NSI', 'NAME_LATN', 'NUTS_CODE', 'FID', 'DIST_BORD', 'TOT_P_2018', 'TOT_P_2006', 'GRD_ID', 'TOT_P_2011', 'Y_LLC', 'NUTS2016_3', 'NUTS2016_2', 'NUTS2016_1', 'NUTS2016_0', 'LAND_PC', 'X_LLC', 'NUTS2021_3', 'NUTS2021_2', 'NUTS2021_1', 'NUTS2021_0', 'geometry', 'intr_ratio', 'TOT_P_2021_agr_sum', 'DIST_COAST_agr_mean']\n",
      "Saving dataframe 'pop_new_X_comuni_EU_res' as Parquet...\n"
     ]
    },
    {
     "name": "stderr",
     "output_type": "stream",
     "text": [
      "[Stage 155:>                                                        (0 + 1) / 1]\r"
     ]
    },
    {
     "name": "stdout",
     "output_type": "stream",
     "text": [
      "Saved to './pickle_parquets/others/pop_new_X_comuni_EU_res'\n"
     ]
    },
    {
     "name": "stderr",
     "output_type": "stream",
     "text": [
      "                                                                                \r"
     ]
    }
   ],
   "source": [
    "# obj.parquet_this(\"pop_new_X_comuni_EU\", obj.res_agr, preserve_partitions=False)\n",
    "\n",
    "obj.parquet_this(\"pop_new_X_comuni_EU_res\", obj.res, preserve_partitions=False)\n"
   ]
  },
  {
   "cell_type": "code",
   "execution_count": null,
   "metadata": {},
   "outputs": [
    {
     "data": {
      "application/vnd.jupyter.widget-view+json": {
       "model_id": "ab16c59dacaa4e8d8525fdb1bf23d136",
       "version_major": 2,
       "version_minor": 0
      },
      "text/plain": [
       "VBox(children=(HTML(value='<h1>Enrich with Overlay & Aggregation</h1>'), HTML(value=\"<div style='height: 5px;'…"
      ]
     },
     "metadata": {},
     "output_type": "display_data"
    }
   ],
   "source": [
    "'''\n",
    "GUI for Enricher primitives\n",
    "\n",
    "'''\n",
    "\n",
    "# pass the Enricher object (loaded with the datasets) to the EnricherUI\n",
    "obj_ui = EnricherUI(obj)\n"
   ]
  },
  {
   "cell_type": "code",
   "execution_count": null,
   "metadata": {},
   "outputs": [
    {
     "name": "stdout",
     "output_type": "stream",
     "text": [
      "User Guide: https://docs.kepler.gl/docs/keplergl-jupyter\n"
     ]
    },
    {
     "data": {
      "application/vnd.jupyter.widget-view+json": {
       "model_id": "d8fc78ed0899463eb996895294e377ec",
       "version_major": 2,
       "version_minor": 0
      },
      "text/plain": [
       "KeplerGl(data={'unnamed': {'index': [0, 1, 2, 3, 4, 5, 6, 7, 8, 9, 10, 11, 12, 13, 14, 15, 16, 17, 18, 19, 20,…"
      ]
     },
     "execution_count": 12,
     "metadata": {},
     "output_type": "execute_result"
    }
   ],
   "source": [
    "'''\n",
    "For visualizing the results or other spatial datasets\n",
    "\n",
    "'''\n",
    "\n",
    "\n",
    "from keplergl import KeplerGl\n",
    "import geopandas as gpd\n",
    "from shapely.geometry import shape\n",
    "import decimal\n",
    "\n",
    "\n",
    "def prep_for_map(res_agr, crs, geom_col='geometry'):\n",
    "    df = res_agr.toPandas()\n",
    "    df = df.map(lambda x: float(x) if isinstance(x, decimal.Decimal) else x)\n",
    "    df['geometry'] = df[f'{geom_col}'].apply(lambda geom: shape(geom))\n",
    "\n",
    "    gdf = gpd.GeoDataFrame(df, geometry='geometry')\n",
    "    gdf.crs = crs\n",
    "    \n",
    "    return gdf\n",
    "\n",
    "\n",
    "# Pass the dataset you want to visualize to \"temp_df\"\n",
    "temp_df = obj.res_agr\n",
    "# temp_df = obj.res.filter(F.col('CNTR_ID').isin(\"NL\", \"BE\", \"DE\", \"IT\"))\n",
    "# temp_df = obj.dfs_list['comuni_EU']\n",
    "# temp_df = obj.dfs_list['pop_grids'].filter(F.col('T')>1000)\n",
    "\n",
    "map = KeplerGl(height=600)\n",
    "\n",
    "map.add_data(\n",
    "    data=prep_for_map(temp_df, obj.crs, geom_col=\"geometry\"), \n",
    "    name=\"unnamed\"\n",
    "    )\n",
    "map"
   ]
  },
  {
   "cell_type": "code",
   "execution_count": null,
   "metadata": {},
   "outputs": [],
   "source": [
    "from keplergl import KeplerGl\n",
    "import geopandas as gpd\n",
    "from shapely.geometry import shape\n",
    "import decimal\n",
    "\n",
    "# temp_df = obj.res_agr\n",
    "temp_df = obj.dfs_list['pop_grids_new']\n",
    "# temp_df = obj.dfs_list['comuni_EU']\n",
    "# temp_df = obj.dfs_list['pop_grids_new'].filter(F.col('CNTR_ID').isin(\"NL\", \"BE\", \"DE\", \"IT\"))\n",
    "\n",
    "\n",
    "def prep_for_map(res_agr, crs, geom_col='geometry'):\n",
    "    df = res_agr.toPandas()\n",
    "    df = df.map(lambda x: float(x) if isinstance(x, decimal.Decimal) else x)\n",
    "    df['geometry'] = df[f'{geom_col}'].apply(lambda geom: shape(geom))\n",
    "\n",
    "    gdf = gpd.GeoDataFrame(df, geometry='geometry')\n",
    "    gdf.crs = crs\n",
    "    \n",
    "    return gdf\n",
    "\n",
    "map = KeplerGl(height=600)\n",
    "map.add_data(data=prep_for_map(temp_df, obj.crs, geom_col=\"geometry\"), name=\"pop_grids\")\n",
    "map"
   ]
  },
  {
   "cell_type": "code",
   "execution_count": null,
   "metadata": {},
   "outputs": [],
   "source": []
  },
  {
   "cell_type": "code",
   "execution_count": null,
   "metadata": {},
   "outputs": [],
   "source": []
  },
  {
   "cell_type": "code",
   "execution_count": null,
   "metadata": {},
   "outputs": [],
   "source": []
  },
  {
   "cell_type": "code",
   "execution_count": null,
   "metadata": {},
   "outputs": [],
   "source": []
  },
  {
   "cell_type": "code",
   "execution_count": null,
   "metadata": {},
   "outputs": [],
   "source": []
  }
 ],
 "metadata": {
  "kernelspec": {
   "display_name": "sedona_venv",
   "language": "python",
   "name": "python3"
  },
  "language_info": {
   "codemirror_mode": {
    "name": "ipython",
    "version": 3
   },
   "file_extension": ".py",
   "mimetype": "text/x-python",
   "name": "python",
   "nbconvert_exporter": "python",
   "pygments_lexer": "ipython3",
   "version": "3.12.3"
  }
 },
 "nbformat": 4,
 "nbformat_minor": 4
}
