{
 "cells": [
  {
   "cell_type": "code",
   "execution_count": 34,
   "metadata": {},
   "outputs": [],
   "source": [
    "#ENCRYPTED\n",
    "# This cell is encrypted. Will be made public soon. Contact: sudheer.siddabattula@gmail.com for access/details\n",
    "\n",
    "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"
   ]
  },
  {
   "cell_type": "code",
   "execution_count": null,
   "metadata": {},
   "outputs": [],
   "source": [
    "''' \n",
    "Loading data from files.\n",
    "This will take a while. Because it cleans and makes some essential transformations.\n",
    "But it is a one-time operation. `parquet_all()` will save all datasets to the disk, preserving any transformations applied.\n",
    "From next time, you can directly load them  with: `load_from_parquets()`.\n",
    "'''\n",
    "\n",
    "\n",
    "# Provide the data directory\n",
    "data_dir = f\"./data\"\n",
    "\n",
    "# Individual file paths:\n",
    "path_contr = f\"{data_dir}/data_EU/countries_shp/\"\n",
    "path_reg = f\"{data_dir}/data_Italy/regioni/\"\n",
    "path_prov = f\"{data_dir}/data_Italy/provinci\"\n",
    "path_com_EU = f\"{data_dir}/data_EU/comuni_shp/\"\n",
    "path_com = f\"{data_dir}/data_Italy/comuni/\"\n",
    "path_grids = f\"{data_dir}/data_EU/census_grid_EU/grids_OG_corrected.parquet\"\n",
    "path_grids_new = f\"{data_dir}/data_EU/census_grid_EU/grids_new.gpkg\"\n",
    "\n",
    "# Dataset names and their file formats:\n",
    "# format: {dataset_name: (path, file_format), ...}\n",
    "\n",
    "datasets: dict[str, tuple[str, str]] = {\n",
    "    \"countries\": (path_contr, \"shapefile\"),\n",
    "    \"regions_IT\": (path_reg, \"shapefile\"),\n",
    "    \"provinces_IT\": (path_prov, \"shapefile\"),\n",
    "    \"comuni_EU\": (path_com_EU, \"shapefile\"),\n",
    "    \"comuni_IT\": (path_com, \"shapefile\"),\n",
    "    \"pop_grids\": (path_grids, \"geoparquet\"),\n",
    "    \"pop_grids_new\": (path_grids_new, \"geopackage\"),\n",
    "}\n",
    "\n",
    "obj = Enricher(crs=\"EPSG:3035\")\n",
    "\n",
    "# Setup the Enricher object with \"sedona\" (or, \"wherobots\")\n",
    "# \"ex_mem\" and \"dr_mem\" are the executor and driver memory in GB\n",
    "obj.setup_cluster(\n",
    "    data_dir=data_dir, \n",
    "    which=\"sedona\", \n",
    "    ex_mem=26,\n",
    "    dr_mem=24,\n",
    "    log_level=\"ERROR\"\n",
    "    )\n",
    "\n",
    "# Use \"load()\" to load all the datasets in {data_dir}, \n",
    "# according to the paths and file formats provided in \"datasets{}\"\n",
    "obj.load(datasets, silent=True)\n",
    "\n",
    "# Optionally, run \"fix_geometries()\" to fix invalid geometries if any; \n",
    "# if you want to skip the check for some dataframes, pass their names in \"skip[]\"\n",
    "obj.fix_geometries(\n",
    "    skip=['pop_grids', 'pop_grids_new']\n",
    "    )\n",
    "\n",
    "# Optionally, inspect the partitions and data skew:\n",
    "# obj.inspect_partitions()\n",
    "\n",
    "# and force the dataframes to be repartitioned to the number of available cores\n",
    "# pass the names of the dataframes to be skipped in skip[]\n",
    "obj.force_repartition(skip=['pop_grids'])\n",
    "\n",
    "# obj.inspect_partitions()\n",
    "\n",
    "# Transform the CRS of loaded datasets to the CRS passed in the Enricher constructor\n",
    "# lazy=True will not cache the dataframes. \n",
    "obj.transform_CRS(lazy=False)\n",
    "\n",
    "# Pickle all the dataframes to disk for quick access later.\n",
    "# default directory: \"./{data_dir}/pickle_parquets/dfs_list\"\n",
    "# you may change the directory where they are saved by pasing it in \"parquet_dir\"; relative to the {data_dir}\n",
    "obj.parquet_all(preserve_partitions=True)\n"
   ]
  },
  {
   "cell_type": "code",
   "execution_count": 35,
   "metadata": {},
   "outputs": [
    {
     "name": "stdout",
     "output_type": "stream",
     "text": [
      "sedona initialized with 10 cores for parellelism.\n",
      "\n",
      "Loaded dataframe 'provinces_IT'\n",
      "Loaded dataframe 'comune'\n",
      "Loaded dataframe 'grids'\n",
      "Loaded dataframe 'regions_IT'\n",
      "Loaded dataframe 'countries'\n",
      "Loaded dataframe 'grids_IT'\n",
      "Loaded dataframe 'pop_grids'\n",
      "Loaded dataframe 'comuni_EU'\n",
      "Loaded dataframe 'comuni_EU_IT'\n",
      "Loaded dataframe 'pop_grids_new'\n",
      "Loaded dataframe 'comuni_IT'\n"
     ]
    }
   ],
   "source": [
    "''' \n",
    "Load data from pickled parquets \n",
    "\n",
    "'''\n",
    "\n",
    "# Provide the data directory\n",
    "data_dir = \"./data\"\n",
    "\n",
    "obj = Enricher(crs=\"EPSG:3035\")\n",
    "\n",
    "# Setup the Enricher object with \"sedona\" (or, \"wherobots\")\n",
    "# \"ex_mem\" and \"dr_mem\" are the executor and driver memory in GB\n",
    "obj.setup_cluster(\n",
    "    data_dir=data_dir, \n",
    "    which=\"sedona\", \n",
    "    ex_mem=26, \n",
    "    dr_mem=24, \n",
    "    log_level=\"ERROR\"\n",
    "    )\n",
    "\n",
    "# Loads all the datasets from pickled parquets in the default direcoty: \"./{data_dir}/pickle_parquets/dfs_list\"\n",
    "# optionally, to load from a different directory, pass the directory path in \"parquet_dir\"; reative to the {data_dir}\n",
    "obj.load_from_parquets()\n",
    "# obj.inspect_partitions()"
   ]
  },
  {
   "cell_type": "code",
   "execution_count": 14,
   "metadata": {},
   "outputs": [
    {
     "name": "stdout",
     "output_type": "stream",
     "text": [
      "User Guide: https://docs.kepler.gl/docs/keplergl-jupyter\n"
     ]
    },
    {
     "data": {
      "application/vnd.jupyter.widget-view+json": {
       "model_id": "077d413863084243a782e80e58d49b8a",
       "version_major": 2,
       "version_minor": 0
      },
      "text/plain": [
       "KeplerGl(data={'countries': 'countries'})"
      ]
     },
     "execution_count": 14,
     "metadata": {},
     "output_type": "execute_result"
    }
   ],
   "source": [
    "'''\n",
    "Visualize the datasets\n",
    "\n",
    "'''\n",
    "\n",
    "# Pass a list of: names of the loaded datasets or directly the Spark dataframes in memory\n",
    "# Make sure the geometry column is named \"geometry\".\n",
    "# If not, pass individual dataframes with thei geometry column with the argument `geom_col`\n",
    "obj.plot_this(\n",
    "    [\"countries\", obj.dfs_list[\"provinces_IT\"]],  # str | SparkDataFrame | list[str | SparkDataFrame]\n",
    "    new_map=True  # if it is False, the dataset will be added to the old map (if it exists, or else, makes a new one)\n",
    "    )\n",
    "\n",
    "# you can plot the map in another cell, just run `<obj>.map`"
   ]
  },
  {
   "cell_type": "code",
   "execution_count": null,
   "metadata": {},
   "outputs": [
    {
     "data": {
      "application/vnd.jupyter.widget-view+json": {
       "model_id": "64a02b061b6c49b3aa36deed63870880",
       "version_major": 2,
       "version_minor": 0
      },
      "text/plain": [
       "VBox(children=(HTML(value='<h1>Enrich with Overlay & Aggregation</h1>'), HTML(value=\"<div style='height: 5px;'…"
      ]
     },
     "metadata": {},
     "output_type": "display_data"
    }
   ],
   "source": [
    "'''\n",
    "GUI for Enrich by Overlay\n",
    "\n",
    "'''\n",
    "\n",
    "# pass the Enricher object (loaded with the datasets) to the EnricherUI\n",
    "obj_ui = EnrichOverlay(obj)\n"
   ]
  },
  {
   "cell_type": "code",
   "execution_count": 27,
   "metadata": {},
   "outputs": [
    {
     "name": "stdout",
     "output_type": "stream",
     "text": [
      "User Guide: https://docs.kepler.gl/docs/keplergl-jupyter\n"
     ]
    },
    {
     "data": {
      "application/vnd.jupyter.widget-view+json": {
       "model_id": "a93d6a4b2c0a4c16b25bd96a3125886a",
       "version_major": 2,
       "version_minor": 0
      },
      "text/plain": [
       "KeplerGl(data={'comuni_EU_IT': {'index': [0, 1, 2, 3, 4, 5, 6, 7, 8, 9, 10, 11, 12, 13, 14, 15, 16, 17, 18, 19…"
      ]
     },
     "execution_count": 27,
     "metadata": {},
     "output_type": "execute_result"
    }
   ],
   "source": [
    "# res_agr = obj.load_from_parquet(name=\"grids_X_countries\")\n",
    "\n",
    "obj.plot_this(\n",
    "    [obj.dfs_list['comuni_EU_IT']],  # str | SparkDataFrame | list[str | SparkDataFrame]\n",
    "    new_map=True  # if it is False, the dataset will be added to the old map (if it exists, or else, makes a new map)\n",
    "    )"
   ]
  },
  {
   "cell_type": "code",
   "execution_count": 29,
   "metadata": {},
   "outputs": [
    {
     "name": "stdout",
     "output_type": "stream",
     "text": [
      "+------------------------------------------------------------+\n",
      "|COMM_NAME                                                   |\n",
      "+------------------------------------------------------------+\n",
      "|Roma\u0000\u0000\u0000\u0000\u0000\u0000\u0000\u0000\u0000\u0000\u0000\u0000\u0000\u0000\u0000\u0000\u0000\u0000\u0000\u0000\u0000\u0000\u0000\u0000\u0000\u0000\u0000\u0000\u0000\u0000\u0000\u0000\u0000\u0000\u0000\u0000\u0000\u0000\u0000\u0000\u0000\u0000\u0000\u0000\u0000\u0000\u0000\u0000\u0000\u0000\u0000\u0000\u0000\u0000\u0000\u0000|\n",
      "|Milano\u0000\u0000\u0000\u0000\u0000\u0000\u0000\u0000\u0000\u0000\u0000\u0000\u0000\u0000\u0000\u0000\u0000\u0000\u0000\u0000\u0000\u0000\u0000\u0000\u0000\u0000\u0000\u0000\u0000\u0000\u0000\u0000\u0000\u0000\u0000\u0000\u0000\u0000\u0000\u0000\u0000\u0000\u0000\u0000\u0000\u0000\u0000\u0000\u0000\u0000\u0000\u0000\u0000\u0000|\n",
      "|Napoli\u0000\u0000\u0000\u0000\u0000\u0000\u0000\u0000\u0000\u0000\u0000\u0000\u0000\u0000\u0000\u0000\u0000\u0000\u0000\u0000\u0000\u0000\u0000\u0000\u0000\u0000\u0000\u0000\u0000\u0000\u0000\u0000\u0000\u0000\u0000\u0000\u0000\u0000\u0000\u0000\u0000\u0000\u0000\u0000\u0000\u0000\u0000\u0000\u0000\u0000\u0000\u0000\u0000\u0000|\n",
      "|Torino\u0000\u0000\u0000\u0000\u0000\u0000\u0000\u0000\u0000\u0000\u0000\u0000\u0000\u0000\u0000\u0000\u0000\u0000\u0000\u0000\u0000\u0000\u0000\u0000\u0000\u0000\u0000\u0000\u0000\u0000\u0000\u0000\u0000\u0000\u0000\u0000\u0000\u0000\u0000\u0000\u0000\u0000\u0000\u0000\u0000\u0000\u0000\u0000\u0000\u0000\u0000\u0000\u0000\u0000|\n",
      "|Palermo\u0000\u0000\u0000\u0000\u0000\u0000\u0000\u0000\u0000\u0000\u0000\u0000\u0000\u0000\u0000\u0000\u0000\u0000\u0000\u0000\u0000\u0000\u0000\u0000\u0000\u0000\u0000\u0000\u0000\u0000\u0000\u0000\u0000\u0000\u0000\u0000\u0000\u0000\u0000\u0000\u0000\u0000\u0000\u0000\u0000\u0000\u0000\u0000\u0000\u0000\u0000\u0000\u0000|\n",
      "+------------------------------------------------------------+\n",
      "only showing top 5 rows\n",
      "\n"
     ]
    }
   ],
   "source": [
    "\n",
    "obj.res_agr.orderBy(F.desc(\"T_agr_sum\")).select(\"COMM_NAME\").show(5, truncate=False)\n"
   ]
  },
  {
   "cell_type": "code",
   "execution_count": 26,
   "metadata": {},
   "outputs": [
    {
     "name": "stdout",
     "output_type": "stream",
     "text": [
      "User Guide: https://docs.kepler.gl/docs/keplergl-jupyter\n"
     ]
    },
    {
     "name": "stderr",
     "output_type": "stream",
     "text": [
      "/data/homes_data/sudheer/benchmark_data/sedona_venv/lib/python3.12/site-packages/jupyter_client/session.py:721: UserWarning: Message serialization failed with:\n",
      "Out of range float values are not JSON compliant: nan\n",
      "Supporting this message is deprecated in jupyter-client 7, please make sure your message is JSON-compliant\n",
      "  content = self.pack(content)\n"
     ]
    },
    {
     "data": {
      "application/vnd.jupyter.widget-view+json": {
       "model_id": "3c5d85b9e0e845f4937951289f1fde68",
       "version_major": 2,
       "version_minor": 0
      },
      "text/plain": [
       "KeplerGl(data={'grids_IT': {'index': [0, 1, 2, 3, 4, 5, 6, 7, 8, 9, 10, 11, 12, 13, 14, 15, 16, 17, 18, 19, 20…"
      ]
     },
     "execution_count": 26,
     "metadata": {},
     "output_type": "execute_result"
    }
   ],
   "source": [
    "# res_agr = obj.load_from_parquet(name=\"grids_X_countries\")\n",
    "\n",
    "obj.plot_this(\n",
    "    [obj.dfs_list['grids_IT']],  # str | SparkDataFrame | list[str | SparkDataFrame]\n",
    "    new_map=True  # if it is False, the dataset will be added to the old map (if it exists, or else, makes a new map)\n",
    "    )"
   ]
  },
  {
   "cell_type": "code",
   "execution_count": 16,
   "metadata": {},
   "outputs": [
    {
     "name": "stdout",
     "output_type": "stream",
     "text": [
      "Saving dataframe 'comuni_EU_IT' as GeoParquet...\n"
     ]
    },
    {
     "name": "stderr",
     "output_type": "stream",
     "text": [
      "[Stage 53:===================================================>     (9 + 1) / 10]\r"
     ]
    },
    {
     "name": "stdout",
     "output_type": "stream",
     "text": [
      "Saved to './data/pickle_parquets/others/comuni_EU_IT'\n"
     ]
    },
    {
     "name": "stderr",
     "output_type": "stream",
     "text": [
      "                                                                                \r"
     ]
    }
   ],
   "source": [
    "# obj.dfs_list.keys()\n",
    "\n",
    "ress = ress.filter(F.col('CNTR_ID') == 'IT')\n",
    "obj.parquet_this(\"comuni_EU_IT\", ress, preserve_partitions=True)\n"
   ]
  },
  {
   "cell_type": "code",
   "execution_count": 3,
   "metadata": {},
   "outputs": [
    {
     "data": {
      "text/plain": [
       "['geometry',\n",
       " 'CNTR_ID',\n",
       " 'CNTR_NAME',\n",
       " 'NAME_ENGL',\n",
       " 'NAME_FREN',\n",
       " 'ISO3_CODE',\n",
       " 'SVRG_UN',\n",
       " 'CAPT',\n",
       " 'EU_STAT',\n",
       " 'EFTA_STAT',\n",
       " 'CC_STAT',\n",
       " 'NAME_GERM',\n",
       " 'geohash']"
      ]
     },
     "execution_count": 3,
     "metadata": {},
     "output_type": "execute_result"
    }
   ],
   "source": [
    "obj.dfs_list['countries'].columns"
   ]
  },
  {
   "cell_type": "code",
   "execution_count": 15,
   "metadata": {},
   "outputs": [
    {
     "name": "stderr",
     "output_type": "stream",
     "text": [
      "[Stage 46:===================================================>     (9 + 1) / 10]\r"
     ]
    },
    {
     "name": "stdout",
     "output_type": "stream",
     "text": [
      "126089\n"
     ]
    },
    {
     "name": "stderr",
     "output_type": "stream",
     "text": [
      "                                                                                \r"
     ]
    }
   ],
   "source": [
    "ress = obj.join_simple(df1=\"comuni_EU\", df2=obj.dfs_list['countries'], enr_cols=[\"CNTR_ID\", \"CNTR_NAME\"])\n",
    "ress.cache()\n",
    "print(ress.count())"
   ]
  },
  {
   "cell_type": "code",
   "execution_count": null,
   "metadata": {},
   "outputs": [
    {
     "name": "stdout",
     "output_type": "stream",
     "text": [
      "['COMM_ID', 'CNTR_ID', 'CNTR_CODE', 'COMM_NAME', 'NAME_ASCI', 'TRUE_FLAG', 'NSI_CODE', 'NAME_NSI', 'NAME_LATN', 'NUTS_CODE', 'FID', 'geohash', 'geometry', 'T_agr_sum']\n",
      "58166281.116447605\n"
     ]
    }
   ],
   "source": [
    "temp: SparkDataFrame = obj.res_agr\n",
    "print(temp.columns)\n",
    "\n",
    "# temp: SparkDataFrame = temp.filter(F.col('CNTR_ID') == 'IT')\n",
    "print(temp.agg(F.sum('T_agr_sum')).collect()[0][0])\n",
    "\n",
    "# obj.parquet_this(\"intrsctn_com_grid_IT\", temp, preserve_partitions=False)\n",
    "# obj.parquet_this(\"grids_new_X_comuni_EU_IT\", temp, preserve_partitions=False)\n",
    "# temp.cache()"
   ]
  },
  {
   "cell_type": "code",
   "execution_count": null,
   "metadata": {},
   "outputs": [
    {
     "name": "stderr",
     "output_type": "stream",
     "text": [
      "[Stage 215:====================================================>(199 + 1) / 200]\r"
     ]
    },
    {
     "name": "stdout",
     "output_type": "stream",
     "text": [
      "109707\n"
     ]
    },
    {
     "name": "stderr",
     "output_type": "stream",
     "text": [
      "                                                                                \r"
     ]
    }
   ],
   "source": [
    "#ENCRYPTED\n",
    "# This cell is encrypted. Will be made public soon. Contact: sudheer.siddabattula@gmail.com for access/details\n",
    "\n",
    "LS0tLS1CRUdJTiBQR1AgTUVTU0FHRS0tLS0tCgp3Y0JNQTB5VXBDMWwzUy9oQVFmK0lUbFJ0Rlg0WHp6V1BQSnlteCtiVER2WE1CbVJOcU9rTjNxalUrYlJEUG0yClorUDg3WEEwSnZDMmNHcXZqRnRlVGFtRE16a0lCS2hQV0VNeFNJdU9CRUNveTZDT05lazZORmIxeFZ0c3JUN2YKQlpkMzBsWHVmNUw0VDUvMGh3c0l4NUxIaFRmc2Rtb1pzWkdPK00xNmwxNE1ETFBkOFRmREZ4OEJaRm9Ic1RzSQpmbm5GeHpQZEpkZWJ2Q2xuNHc3bXlDVkRmTmJEempSVGNYNXJkRmdQZEtLMTlidGMwbDExREZsSVpzYjhqVmRaCno5cmxoc254T1lXM21ZbVB1M241QXkwZy9QNGpXTkpkM2Q1VTNlQ2thZEIwRjB0dHplZGhlakdDK0E3WEVES08Kb2FlNTlIeTRKM09KUE9VSEFSTG1xS2Z2aUlscFUxSUI2MlFpNjJPUkFkTEJ5d0Zsd0NKYmtCRUtMNXVGanA5bQpHWE13M1lNcWJqRXFMTGVIakUxQzcrYXVJd21leHpnOUVVNXl5K0pydHN0TnR4ZTVrZ1k5TnpNNjVpMVFWbVlhCjBYNGtwSW5naEJNSSs0eTkyR1BnWG1Uay9TNURnQTRWMjRoU3Z4cnIweUxJVWFWS1AyQU5wVUVrNC9mMmd4dHIKeFZBWFFGKzZmZDV0OTFpR0N4aUc3T1VMTWU4VGg4cEpGTzRDcVVFYXRIZ1pPVEtKSSs0dGpFYzNKVThBakFrcwpKMm5wNjk2VzNxQk5nUFBuY2xNUXY3ZnlGc1c5TlBSZy96L3lMQWNwSG5waHhQMWQ1Rk5nRU5sOERmTGE1QUZsCkk2OXc0SFp6SnhMSnhPNWZVMGRGWEJvZW5hTXY1VmwzcmZYS0VJSFozclhBS0VYSlY2S3ZIZEpMd2tjQmlnLy8KUHNLWlZmMExGL0srM3Vqazg1SnNFek5OMkhoWHMrOW53blJyeWdDY09vN0NES3lrSmhXN1dCTnoyS1BobkZqdAp6TGdjMU13Z3Q3KzcyZXJmeWIwSEdQcXcvK3VlOWMzNmkvVXAyRDd5VjRQUEQwSVJMUUFRYnRxVmg3SGZidjZVClQzN2diUU5nMjhLbWl2RHdLTVo0ZGkwOHRGMHdxT2UxelQvWUFCWEtidnB5dFJ1bEtJSlV1bjZLOHpyaERUeUkKZ3BMbnJjWHJPakVpd1dRNGxuRGFDbC9IaWJvMzBUMHVPSngyMW5kakZ5VnRsUUdPMXQyVVhiaGF5R3JtczRDbgpQYVJQdHdVN21NeUlDb2ZQR2FqM2psaVYrNDB0UlorYnpGNk5NZ3Z2QUhzWE41TjFuMjJQeUNwbW16RDFhMXY0ClBzYXZQeGNzbUQ1b1Flb0VQeE0rUW9OMno2ZGFPZkRxWEY4NnZPMW8rK1QrQ01WSHZpQlpnTkVQLytvNXB1eTYKUGFMTXZyZE5ldG9vd0s4SDJyMzkrZVNsMkM1MHRlWDl5UDNGMG9xcHpvdXRiS05aT1dDam9vUGl6TG5XS2ZpcwpWdGd3ZlVReXVPV1J6VnZEZkYwdGUzQU9UWExPM0NVNUtSY3YxUmg1enZncmQwZks0Rm9yWVZjYUFOSk1DQ2VRCjJNYWhUa1RIVzF6alhXTXFhQT09Cj14OTdYCi0tLS0tRU5EIFBHUCBNRVNTQUdFLS0tLS0K"
   ]
  },
  {
   "cell_type": "code",
   "execution_count": null,
   "metadata": {},
   "outputs": [
    {
     "name": "stdout",
     "output_type": "stream",
     "text": [
      "41190463\n"
     ]
    }
   ],
   "source": [
    "\"\"\"\n",
    "Contains\n",
    "41190463\n",
    "\"\"\"\n",
    "\n",
    "print(res_n.agg(F.sum('t_agr')).collect()[0][0])\n"
   ]
  },
  {
   "cell_type": "code",
   "execution_count": null,
   "metadata": {},
   "outputs": [
    {
     "name": "stdout",
     "output_type": "stream",
     "text": [
      "77386595\n"
     ]
    }
   ],
   "source": [
    "\"\"\"\n",
    "Intersects\n",
    "77386595\n",
    "\"\"\"\n",
    "\n",
    "print(res_n.agg(F.sum('t_agr')).collect()[0][0])\n"
   ]
  },
  {
   "cell_type": "code",
   "execution_count": null,
   "metadata": {},
   "outputs": [],
   "source": [
    "\"\"\"\n",
    "ST_Intersection\n",
    "58166281\n",
    "\"\"\""
   ]
  },
  {
   "cell_type": "code",
   "execution_count": null,
   "metadata": {},
   "outputs": [],
   "source": [
    "import pyarrow.parquet as pq\n",
    "\n",
    "parquet_file = pq.ParquetFile(\"./data/pickle_parquets/others/grids_new_X_comuni_EU/test.parquet\")\n",
    "\n",
    "# Print full metadata\n",
    "print(parquet_file.metadata)\n",
    "\n",
    "# Print schema (column names, types, etc.)\n",
    "print(parquet_file.schema)\n",
    "\n",
    "# Print key-value metadata (custom user-defined metadata)\n",
    "print(parquet_file.metadata.metadata)  # This is a dictionary\n"
   ]
  },
  {
   "cell_type": "code",
   "execution_count": 16,
   "metadata": {},
   "outputs": [
    {
     "name": "stdout",
     "output_type": "stream",
     "text": [
      "{\"$schema\":\"https://proj.org/schemas/v0.7/projjson.schema.json\",\"type\":\"ProjectedCRS\",\"name\":\"ETRS89-extended / LAEA Europe\",\"base_crs\":{\"name\":\"ETRS89\",\"datum_ensemble\":{\"name\":\"European Terrestrial Reference System 1989 ensemble\",\"members\":[{\"name\":\"European Terrestrial Reference Frame 1989\",\"id\":{\"authority\":\"EPSG\",\"code\":1178}},{\"name\":\"European Terrestrial Reference Frame 1990\",\"id\":{\"authority\":\"EPSG\",\"code\":1179}},{\"name\":\"European Terrestrial Reference Frame 1991\",\"id\":{\"authority\":\"EPSG\",\"code\":1180}},{\"name\":\"European Terrestrial Reference Frame 1992\",\"id\":{\"authority\":\"EPSG\",\"code\":1181}},{\"name\":\"European Terrestrial Reference Frame 1993\",\"id\":{\"authority\":\"EPSG\",\"code\":1182}},{\"name\":\"European Terrestrial Reference Frame 1994\",\"id\":{\"authority\":\"EPSG\",\"code\":1183}},{\"name\":\"European Terrestrial Reference Frame 1996\",\"id\":{\"authority\":\"EPSG\",\"code\":1184}},{\"name\":\"European Terrestrial Reference Frame 1997\",\"id\":{\"authority\":\"EPSG\",\"code\":1185}},{\"name\":\"European Terrestrial Reference Frame 2000\",\"id\":{\"authority\":\"EPSG\",\"code\":1186}},{\"name\":\"European Terrestrial Reference Frame 2005\",\"id\":{\"authority\":\"EPSG\",\"code\":1204}},{\"name\":\"European Terrestrial Reference Frame 2014\",\"id\":{\"authority\":\"EPSG\",\"code\":1206}},{\"name\":\"European Terrestrial Reference Frame 2020\",\"id\":{\"authority\":\"EPSG\",\"code\":1382}}],\"ellipsoid\":{\"name\":\"GRS 1980\",\"semi_major_axis\":6378137,\"inverse_flattening\":298.257222101},\"accuracy\":\"0.1\",\"id\":{\"authority\":\"EPSG\",\"code\":6258}},\"coordinate_system\":{\"subtype\":\"ellipsoidal\",\"axis\":[{\"name\":\"Geodetic latitude\",\"abbreviation\":\"Lat\",\"direction\":\"north\",\"unit\":\"degree\"},{\"name\":\"Geodetic longitude\",\"abbreviation\":\"Lon\",\"direction\":\"east\",\"unit\":\"degree\"}]},\"id\":{\"authority\":\"EPSG\",\"code\":4258}},\"conversion\":{\"name\":\"Europe Equal Area 2001\",\"method\":{\"name\":\"Lambert Azimuthal Equal Area\",\"id\":{\"authority\":\"EPSG\",\"code\":9820}},\"parameters\":[{\"name\":\"Latitude of natural origin\",\"value\":52,\"unit\":\"degree\",\"id\":{\"authority\":\"EPSG\",\"code\":8801}},{\"name\":\"Longitude of natural origin\",\"value\":10,\"unit\":\"degree\",\"id\":{\"authority\":\"EPSG\",\"code\":8802}},{\"name\":\"False easting\",\"value\":4321000,\"unit\":\"metre\",\"id\":{\"authority\":\"EPSG\",\"code\":8806}},{\"name\":\"False northing\",\"value\":3210000,\"unit\":\"metre\",\"id\":{\"authority\":\"EPSG\",\"code\":8807}}]},\"coordinate_system\":{\"subtype\":\"Cartesian\",\"axis\":[{\"name\":\"Northing\",\"abbreviation\":\"Y\",\"direction\":\"north\",\"unit\":\"metre\"},{\"name\":\"Easting\",\"abbreviation\":\"X\",\"direction\":\"east\",\"unit\":\"metre\"}]},\"scope\":\"Statistical analysis.\",\"area\":\"Europe - European Union (EU) countries and candidates. Europe - onshore and offshore: Albania; Andorra; Austria; Belgium; Bosnia and Herzegovina; Bulgaria; Croatia; Cyprus; Czechia; Denmark; Estonia; Faroe Islands; Finland; France; Germany; Gibraltar; Greece; Hungary; Iceland; Ireland; Italy; Kosovo; Latvia; Liechtenstein; Lithuania; Luxembourg; Malta; Monaco; Montenegro; Netherlands; North Macedonia; Norway including Svalbard and Jan Mayen; Poland; Portugal including Madeira and Azores; Romania; San Marino; Serbia; Slovakia; Slovenia; Spain including Canary Islands; Sweden; Switzerland; Türkiye (Turkey); United Kingdom (UK) including Channel Islands and Isle of Man; Vatican City State.\",\"bbox\":{\"south_latitude\":24.6,\"west_longitude\":-35.58,\"north_latitude\":84.73,\"east_longitude\":44.83},\"id\":{\"authority\":\"EPSG\",\"code\":3035}}\n"
     ]
    }
   ],
   "source": [
    "from pyproj import CRS\n",
    "print(CRS.from_epsg(3035).to_json()) "
   ]
  },
  {
   "cell_type": "code",
   "execution_count": null,
   "metadata": {},
   "outputs": [
    {
     "name": "stdout",
     "output_type": "stream",
     "text": [
      "4531770\n"
     ]
    }
   ],
   "source": [
    "#ENCRYPTED\n",
    "# This cell is encrypted. Will be made public soon. Contact: sudheer.siddabattula@gmail.com for access/details\n",
    "\n",
    "LS0tLS1CRUdJTiBQR1AgTUVTU0FHRS0tLS0tCgp3Y0JNQTB5VXBDMWwzUy9oQVFmL2ZaMER6dlVIejhyckRGR3haNUN1WCt5a1hUWmhQM3MzR0xSNGhsOWFzcmtOCmw2ZCtMeTJzOENBeWx2RHY2cUxBVnZJMzNpVUdhbDRnN2IrdDF0UGdCbEVqYW9SM1p3ZnU4eVZaSGZlMkJWekoKRGdmdDYxQU1PclNIL3JibnNHV3dtN2E4ZWt6aUFmMCtPak1Td1NpbDlWZTZqYlg5UEtJUUtjc1lzSW9aeTExcQp0TGE4MU1rUzhIL2tabjFuMUI0K1ZJYU9CUVRoazZGbjBUcFI1aU92Y3lyRG1QZWJRTmVPVGV1OVlDWGV1ZWZnClowaVlaS3I3S3lTcmNwWHpCRHZjZFdCdHhIL1pLWDNRYWp2d1E1TTJFQlNCZUhGbVRudmVoL3BGQWM2RWIzbGQKOHMrRGlPTUVvN0UyZmdqTzhYaVJHZWhjcEd5Y3NHT2JFVTJXUTNxZXI5TEFTQUdGb3BBSVdIa0tSQXZ6MHI4bwppM1BUYkw1NGZocGlnWEpnaTRXQ2h2MC9TSlZya0RVZTRqa3BQV2xEVXlmY2pmZXF1a25wdUl0TzN6cHVINWhJCm15RXdSQVh2ajR1V0t6aVhDcjlrcVRiZlNkSGtrMUx3bGRQK01OWFJvK28wZHJPT1ZEMHhQb01DK1hMb3BwWG0KQTJ1VnBVMERvQldiSmRmdWVrbGx6Q3hlclJlREx1L1BBd3NRTVdoZjhTUmJia1ZHMnNxZ2hqbCtTV0gzUElaOQpjaU5vVmJnQXNpM28zWXE3K3F2QXdhSm14b2dVZ1V2dHVsdk5HYk0vNndTS2xIN1N6cTRENVZ6bXhaRDVXQTdYCmFhL25RQXd3TXord2VNMWRFYU9yUDRSNDdkdnJVaWF1UnpENG5tK1pxbWxrK3VhekNZVEN3bm1vRmlTYnc3KysKSGdMVm5RWm9HL0hQTFE9PQo9SUFHbQotLS0tLUVORCBQR1AgTUVTU0FHRS0tLS0tCg=="
   ]
  },
  {
   "cell_type": "code",
   "execution_count": null,
   "metadata": {},
   "outputs": [],
   "source": [
    "#ENCRYPTED\n",
    "# This cell is encrypted. Will be made public soon. Contact: sudheer.siddabattula@gmail.com for access/details\n",
    "\n",
    "LS0tLS1CRUdJTiBQR1AgTUVTU0FHRS0tLS0tCgp3Y0JNQTB5VXBDMWwzUy9oQVFmL1l6S3A2d2xlL0FDbHM3WGpvYWtQUW9zTmtQODU4aExrQTlyK2s5d3M1VWNxCkJRRE1PdlJjQkZxVEcxNEw3WGxUU0twYVNyaGFYSmRLWVdxMnA2Zm9icVN0cXlCaTFzVnUvL1JhSWFETzB3c0UKRncwaGRYdGJTM1JmRVRka3hTekUxdU5YaUh0K25OWHBybWpTSzd2aWJwYW16UVhPTDI5SXNwek54SDZXdzZyTQptS3ZaWFd6VW12MUtVb1NwczlOVVdKM09ITkZCVGlpY1N6RDBVUEJ0eWEvWC8rNEZidEllcGdLZ3N0eXlGdTlsCkFrb25QMnZzZWNOYUY0NDR2aDRqT1dGdWtGRGx0TTh6NDVwdjJKdmdIZ2ExdVpUU2hvRmdXSDBLOGZCMFdmQzMKbFVRK3JwenV5TFdNZjJ4ai9xck53YWwzeUVzSlJsY1RTdW9MQ0NjV0hOTEJud0VQaWVvdXNYaWwrVlN2akdTVgpGUGx3dGxFR3N6NVB1TkVKUmE2WXJqd0pRZjgxeDFLVlZKUWdRSndxai9mWmx4REw3WTRyZnZ1S3liUExhYkxCClk0bFF3K00yaWZJbFJnaVdjWms1WHdNbnM0L2oxbHlQVXVwYk1CTDlSYWRVNnNFUDI5dExKZktYRlcrMWFkUmsKUVhpM21OK2dvRnp0dGg4OU9NanFhQjhqY1dMNUdaVldKRUF1WlF0bHM3d1BFeXV3alM2MnBYV2ppT2NFTTB0awpyUVlCRVVGV29GWUdTYmlFV2gza0NQTTNHS2JzUWZ0ZU1pcEtLbXNrcC9CYnFiUkJJOW1PekxZU254Q2I3NCtzCjQ4OU9WMjM4eEpmWWhGcVk2N1dmcWtsMzIvaExBSmhZTUlzWDZobkd6Q1VHdWZKSlE4R1BJRkJBdThoNUs5Zk0Kd3pXeUczRE5nTTBjU2VEME9XSzhVUDVZUjNHekV0NlBiaFlSMHJBcEdIcU1BaENlZXhTamRlNy8rM2U1VHByUgpST2FwaHlQNE9zRUhMZ2I4OGczRm5UOFRQY0wra1J0UGNjQVBoaS82d0JBSGtXQThpQ1E0OHQ0eE9yRkJkYktkCllkL21DL3g4WTNJSlhWbER1b0xBR1ZXMjg3VHRjVHB3aDQxSEQxQVNLY3NtU2dPZjRuTjRCbG4xR1BSVk9aSEsKbFdoOFVrL1VNcXl3bFlZMnRVdWlvbzlVTDJWRVpQK3NwNDV1WG85eXFyWXp0aGdkV3pGbkNjY1RRUFVKMHZSWgplb1I1UG5ZblU2U0V0MzhPR0d6dVpXaGJPekcrK0dtYlVvcUJ4Mms5OVpwcWw5UGpUTSszYWw1aElNOWtyM1lRClIwVDZPY21pMEdHVVBUcU5kalJNK3VnZlZFY1Q5cGhDNk5zQVN2cEtFSi93UkVYeGFCd25Dc3RUeUY4dWdyMnUKTGpXZXRZZDhSc25rYWdMN0owUTY0QUovSmpqc3lLN3oxQ0RtNWdWaTlXTXhrSVVjZFNFdjJJMWNaM1RmNWFJdQplOVVaeEZDd292NVpDeklDbFpxcW1FOD0KPWRuMlYKLS0tLS1FTkQgUEdQIE1FU1NBR0UtLS0tLQo="
   ]
  },
  {
   "cell_type": "code",
   "execution_count": null,
   "metadata": {},
   "outputs": [
    {
     "name": "stderr",
     "output_type": "stream",
     "text": [
      "/data/homes_data/sudheer/benchmark_data/sedona_venv/lib/python3.12/site-packages/jupyter_client/session.py:721: UserWarning: Message serialization failed with:\n",
      "Out of range float values are not JSON compliant: nan\n",
      "Supporting this message is deprecated in jupyter-client 7, please make sure your message is JSON-compliant\n",
      "  content = self.pack(content)\n"
     ]
    },
    {
     "data": {
      "application/vnd.jupyter.widget-view+json": {
       "model_id": "cc76fdf26c8f4a20beab056580dd247c",
       "version_major": 2,
       "version_minor": 0
      },
      "text/plain": [
       "KeplerGl(config={'version': 'v1', 'config': {'visState': {'filters': [], 'layers': [{'id': '7f1zywf', 'type': …"
      ]
     },
     "execution_count": 34,
     "metadata": {},
     "output_type": "execute_result"
    }
   ],
   "source": [
    "map.add_data(\n",
    "    data=prep_for_map(df1, obj.crs, geom_col=\"geometry\"), \n",
    "    name=\"comune\"\n",
    "    )\n",
    "map"
   ]
  },
  {
   "cell_type": "code",
   "execution_count": 17,
   "metadata": {},
   "outputs": [
    {
     "name": "stdout",
     "output_type": "stream",
     "text": [
      "User Guide: https://docs.kepler.gl/docs/keplergl-jupyter\n"
     ]
    },
    {
     "data": {
      "application/vnd.jupyter.widget-view+json": {
       "model_id": "3d1da6fa92384e37ba4e1bd81d65337f",
       "version_major": 2,
       "version_minor": 0
      },
      "text/plain": [
       "KeplerGl(data={'temp': {'index': [0, 1, 2, 3, 4, 5, 6, 7, 8, 9, 10, 11, 12, 13, 14, 15, 16, 17, 18, 19, 20, 21…"
      ]
     },
     "execution_count": 17,
     "metadata": {},
     "output_type": "execute_result"
    }
   ],
   "source": [
    "#ENCRYPTED\n",
    "# This cell is encrypted. Will be made public soon. Contact: sudheer.siddabattula@gmail.com for access/details\n",
    "\n",
    "LS0tLS1CRUdJTiBQR1AgTUVTU0FHRS0tLS0tCgp3Y0JNQTB5VXBDMWwzUy9oQVFmL2FzcVZFQy9WUUVpTTFyUEhmM1VUTUJSN2R4T2wzbSt2S1RmQWkvZjJqb3ZICm4rc0xiaTQxQUFLZ2NFUXp4SkQ5VkZiMHRLRzF3c25SQTdERytFODdyd0UxWXdhS3NNc3RRN00zT0dHSUQveHgKcU5EQ05zbGtySlh2OFpjSmhZODUxUTh2UXhQekRUcTNPWTY0a3lzUG43eWY3MUFTS0dYaFN0dUlJNEdUemFRTgpJVklxRlJOVXUyMTE2SGNvM2EycXpIa2UraVprM3JaR0dKbnRFaXBlejR3NUhscm1oMUc3ZTczYWowMXVBOHBsCnNPcUlCM2hQTS9UZ2w0bmpyc2VLSFR6VFNhd0h0TFZSUlZ3aWRtZFI4aEt2NGk1WXRWSFYzY3l3djByYmpBWngKNTFBdlJzK044Qi9DOGkxbytVQ0YrOVJmYnpJZWN0UlhuQWJNNnJ0Qy85TEFCQUh5Qitvb1h0SFgwV1p4TlJuNAp6b1hDSVZYR0hXRklDc210WGxjS2xZOFo1elUrSytTbWtLQmc3Vm9hUXE2T0lqcnVHMy9kd3JGNjc0dGtDOFJ2CmpNRnVnVHFwWk0rKytXT2dnMXF0c3dFcXNwNXBrbEtDRXRVU1p6YWFmc1BabDd1T2RUNy8vMGpUNTVXcjRqL00KZThxMjRmRThZN1JQVVl5bHA1Wmk1d1B6R1A0c0svSVhVMEJma2M2YzlIUXpzM1dMZnB1SnJ2dmxyZDJlK3RNbApEZ1JCYmE2ZGt6a1VDTEJpaFl0QS9majB6TGpHMmRjbWQ1WmNxYUI3YmxnNmtxdW8zSDA9Cj1nektvCi0tLS0tRU5EIFBHUCBNRVNTQUdFLS0tLS0K"
   ]
  },
  {
   "cell_type": "code",
   "execution_count": null,
   "metadata": {},
   "outputs": [],
   "source": [
    "#ENCRYPTED\n",
    "# This cell is encrypted. Will be made public soon. Contact: sudheer.siddabattula@gmail.com for access/details\n",
    "\n",
    "LS0tLS1CRUdJTiBQR1AgTUVTU0FHRS0tLS0tCgp3Y0JNQTB5VXBDMWwzUy9oQVFmL2NycnVlZFlrT3VvaW1lb3Fhak1BMjMybzFhOUJ3dUtLOVBHNWVFOTRUKytUClNCVGwwSUFXemh3djF5VFJkRFZkV1BQU3dwOFdDTStuTHp0eDFnOW9tdDNrMXFkaWJ1TlkvTmFpa1A1RGUweGIKRG5kT2hzWXI3SXBDMm1yV2NMdmxEMHNab2NzSllDVmhYR2ZFRzZmamc3bU8yN05ib2VhNEJlTTlzVmFWZnBPbQpRQUk5Z3o5S3cwUlBzVUt6WXVzeE5zcjVjODJJbEIrV0FmZnFnV1VmdDZMVUNVc1JXQmc5enNTSHpZTFZxUktICnFMcERlOUdTRzN4N1BDUFQ1ZlJ3ekpqT0FSVWgwV0pjZ2RaQjdkUmRtTlVsQ3Y1U01WdWJndEhQM1RYbFRJMEoKWTVwUFBlU0JvNHE3T1BWZWs3K2dDSWpSbDdDV01Wa3J3eHhSaVlhNzhOTEJCZ0VVTlpCelUyclpibWxLbkVxaApUbklucUFRa0Vhc3ZkUEpjdFZ6NDVmb3BQM2xsL1NNcXZaNFZ3WDRHdTE1Z1ozNWpyL2ExakZSV3NoYmU3czZyCnUwbktDYW5WYm1McEtrUlozRHhXd0Erdk0xN21hVTYweFBZWmx5aGdRYWl3SERZMW9kWDBXNktTdFlLaTVudjYKUGRsMEFsQ0h5NDlMUlUxZU9HMWVQdXkvZEtzYkQ0N01FSzVjVmNnekdSRklxTnRrMUdvMzdodmJuV2VIRkZ2SwpQM09UZG13ZEYwQ3pZSEhRTTBXMURzZUFxYk9tWldFLzVTd1Q5WDI2SnFNQnRVMGZMWGVOMnhTVld2YVlaQTYzClV4dWhMdy8vMUZGWjRWOEhGUEw5L0Rsa2h1a2FZVG0vQXZ4U2thZk5kWEtOdHl4UVNZUDg5VnhJS3Qzd25CZ2YKQnFyRG5lSklTdGtCSWkxY1ZTZ3VDRFg0aW56UzBGOGNpMGZxU3RMOUhJd1AySHhDaGY5U01kcm0vSUluUjVidQpsZEZ5aEdSaFNvK3JWNTFsS2YvekpzbWNMcnZnOU80Q0ZhVGlWRDFkZ1RCS2JXY1B6RUg2SXlJUlIvSkxOMXJxClh1cnVxRlpiMmNzeDVLV2xaTUZtRFFOdE91VXJEaG1CS3BUUzQxWFBjQTAvc0lsK2ZrcEdDa0hhcWxvb2ZzYlEKZmhSa3ZQT3hGQzBCRWlPdkVZSkxIZUljMnlLWThjcWdFME5jdHA0WVNrVHRha01kVHlZSHZxRWRGRkRJZTVVNApOcmhLdEdVQ0Nndz0KPVhKVU0KLS0tLS1FTkQgUEdQIE1FU1NBR0UtLS0tLQo="
   ]
  },
  {
   "cell_type": "code",
   "execution_count": null,
   "metadata": {},
   "outputs": [],
   "source": []
  },
  {
   "cell_type": "code",
   "execution_count": null,
   "metadata": {},
   "outputs": [],
   "source": []
  },
  {
   "cell_type": "code",
   "execution_count": null,
   "metadata": {},
   "outputs": [],
   "source": []
  },
  {
   "cell_type": "code",
   "execution_count": null,
   "metadata": {},
   "outputs": [],
   "source": [
    "# import geopandas as gpd\n",
    "\n",
    "# path = \"./data/pickle_parquets/others/grids_new_X_comuni_EU\"\n",
    "\n",
    "# gdf = gpd.read_parquet(path)\n",
    "\n",
    "# crs = gdf.crs\n",
    "\n",
    "# if crs:\n",
    "#     print(f\"The CRS of the GeoParquet file is: {crs}\")\n",
    "# else:\n",
    "#     print(\"The CRS of the GeoParquet file is undefined.\")\n",
    "    \n",
    "# if crs:\n",
    "#     formatted_crs = CRS(crs)  \n",
    "#     print(f\"CRS: {formatted_crs.to_string()}\") \n",
    "#     print(f\"EPSG Code: {formatted_crs.to_epsg()}\")  \n",
    "#     print(f\"PROJ String: {formatted_crs.to_proj4()}\")  \n",
    "#     print(f\"WKT Format: {formatted_crs.to_wkt()}\")  \n",
    "# else:\n",
    "#     print(\"The CRS of the GeoParquet file is undefined.\")"
   ]
  }
 ],
 "metadata": {
  "kernelspec": {
   "display_name": "sedona_venv",
   "language": "python",
   "name": "python3"
  },
  "language_info": {
   "codemirror_mode": {
    "name": "ipython",
    "version": 3
   },
   "file_extension": ".py",
   "mimetype": "text/x-python",
   "name": "python",
   "nbconvert_exporter": "python",
   "pygments_lexer": "ipython3",
   "version": "3.12.3"
  }
 },
 "nbformat": 4,
 "nbformat_minor": 4
}
