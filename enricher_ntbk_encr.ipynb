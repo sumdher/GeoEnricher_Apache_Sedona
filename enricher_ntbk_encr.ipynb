{
 "cells": [
  {
   "cell_type": "code",
   "execution_count": 23,
   "metadata": {},
   "outputs": [],
   "source": [
    "#ENCRYPTED\n",
    "# This cell was encrypted. Contact: sudheer.siddabattula@gmail.com for access/details\n",
    "\n",
    "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"
   ]
  },
  {
   "cell_type": "code",
   "execution_count": null,
   "metadata": {},
   "outputs": [],
   "source": [
    "''' \n",
    "Loading data from files.\n",
    "This will take a while. Because it cleans and makes some essential transformations.\n",
    "But it is a one-time operation. `parquet_all()` will save all datasets to the disk, preserving any transformations applied.\n",
    "From next time, you can directly load them  with: `load_from_parquets()`.\n",
    "'''\n",
    "\n",
    "\n",
    "# Provide the data directory\n",
    "data_dir = f\"./data\"\n",
    "\n",
    "# Individual file paths:\n",
    "path_contr = f\"{data_dir}/data_EU/countries_shp/\"\n",
    "path_reg = f\"{data_dir}/data_Italy/regioni/\"\n",
    "path_prov = f\"{data_dir}/data_Italy/provinci\"\n",
    "path_com_EU = f\"{data_dir}/data_EU/comuni_shp/\"\n",
    "path_com = f\"{data_dir}/data_Italy/comuni/\"\n",
    "path_grids = f\"{data_dir}/data_EU/census_grid_EU/grids_OG_corrected.parquet\"\n",
    "path_grids_new = f\"{data_dir}/data_EU/census_grid_EU/grids_new.gpkg\"\n",
    "\n",
    "# Dataset names and their file formats:\n",
    "# format: {dataset_name: (path, file_format), ...}\n",
    "\n",
    "datasets: dict[str, tuple[str, str]] = {\n",
    "    \"countries\": (path_contr, \"shapefile\"),\n",
    "    \"regions_IT\": (path_reg, \"shapefile\"),\n",
    "    \"provinces_IT\": (path_prov, \"shapefile\"),\n",
    "    \"comuni_EU\": (path_com_EU, \"shapefile\"),\n",
    "    \"comuni_IT\": (path_com, \"shapefile\"),\n",
    "    \"pop_grids\": (path_grids, \"geoparquet\"),\n",
    "    \"pop_grids_new\": (path_grids_new, \"geopackage\"),\n",
    "}\n",
    "\n",
    "obj = Enricher(crs=\"EPSG:3035\")\n",
    "\n",
    "# Setup the Enricher object with \"sedona\" (or, \"wherobots\")\n",
    "# \"ex_mem\" and \"dr_mem\" are the executor and driver memory in GB\n",
    "obj.setup_cluster(\n",
    "    data_dir=data_dir, \n",
    "    which=\"sedona\", \n",
    "    ex_mem=26,\n",
    "    dr_mem=24,\n",
    "    log_level=\"ERROR\")\n",
    "\n",
    "# Use \"load()\" to load all the datasets in {data_dir}, \n",
    "# according to the paths and file formats provided in \"datasets{}\"\n",
    "obj.load(datasets, silent=True)\n",
    "\n",
    "# Optionally, run \"fix_geometries()\" to fix invalid geometries if any; \n",
    "# if you want to skip the check for some dataframes, pass their names in \"skip[]\"\n",
    "obj.fix_geometries(\n",
    "    skip=['pop_grids', 'pop_grids_new']\n",
    "    )\n",
    "\n",
    "# Optionally, inspect the partitions and data skew:\n",
    "# obj.inspect_partitions()\n",
    "\n",
    "# and force the dataframes to be repartitioned to the number of available cores\n",
    "# pass the names of the dataframes to be skipped in skip[]\n",
    "obj.force_repartition(skip=['pop_grids'])\n",
    "\n",
    "# obj.inspect_partitions()\n",
    "\n",
    "# Transform the CRS of loaded datasets to the CRS passed in the Enricher constructor\n",
    "# lazy=True will not cache the dataframes. \n",
    "obj.transform_CRS(lazy=False)\n",
    "\n",
    "# Pickle all the dataframes to disk for quick access later.\n",
    "# default directory: \"./{data_dir}/pickle_parquets/dfs_list\"\n",
    "# you may change the directory where they are saved by pasing it in \"parquet_dir\"; relative to the {data_dir}\n",
    "obj.parquet_all(preserve_partitions=True)\n",
    "\n",
    "\n",
    "# obj.dfs_list['comuni_EU'] = obj.dfs_list['comuni_EU'].filter(F.col('CNTR_ID').isin([\"IT\", \"DE\"]))"
   ]
  },
  {
   "cell_type": "code",
   "execution_count": 24,
   "metadata": {},
   "outputs": [
    {
     "name": "stdout",
     "output_type": "stream",
     "text": [
      "sedona initialized with 10 cores for parellelism.\n",
      "Loading 'countries' from Parquet...\n",
      "Loaded dataframe 'countries'\n",
      "Loading 'regions_IT' from Parquet...\n",
      "Loaded dataframe 'regions_IT'\n",
      "Loading 'provinces_IT' from Parquet...\n",
      "Loaded dataframe 'provinces_IT'\n",
      "Loading 'comuni_EU' from Parquet...\n",
      "Loaded dataframe 'comuni_EU'\n",
      "Loading 'comuni_IT' from Parquet...\n",
      "Loaded dataframe 'comuni_IT'\n",
      "Loading 'pop_grids' from Parquet...\n",
      "Loaded dataframe 'pop_grids'\n",
      "Loading 'pop_grids_new' from Parquet...\n",
      "Loaded dataframe 'pop_grids_new'\n"
     ]
    }
   ],
   "source": [
    "''' \n",
    "Load data from pickled parquets \n",
    "\n",
    "'''\n",
    "\n",
    "# Provide the data directory\n",
    "data_dir = \"./data\"\n",
    "\n",
    "obj = Enricher(crs=\"EPSG:3035\")\n",
    "\n",
    "# Setup the Enricher object with \"sedona\" (or, \"wherobots\")\n",
    "# \"ex_mem\" and \"dr_mem\" are the executor and driver memory in GB\n",
    "obj.setup_cluster(data_dir=data_dir, \n",
    "                  which=\"sedona\", \n",
    "                  ex_mem=26, \n",
    "                  dr_mem=24, \n",
    "                  log_level=\"ERROR\")\n",
    "\n",
    "# Loads all the datasets from pickled parquets in the default direcoty: \"./{data_dir}/pickle_parquets/dfs_list\"\n",
    "# optionally, to load from a different directory, pass the directory path in \"parquet_dir\"; reative to the {data_dir}\n",
    "obj.load_from_parquets()\n",
    "# obj.inspect_partitions()"
   ]
  },
  {
   "cell_type": "code",
   "execution_count": 22,
   "metadata": {},
   "outputs": [
    {
     "name": "stdout",
     "output_type": "stream",
     "text": [
      "User Guide: https://docs.kepler.gl/docs/keplergl-jupyter\n"
     ]
    },
    {
     "data": {
      "application/vnd.jupyter.widget-view+json": {
       "model_id": "1e1d2b34891843a1bc15a1b5ab692740",
       "version_major": 2,
       "version_minor": 0
      },
      "text/plain": [
       "KeplerGl(data={'countries': {'index': [0, 1, 2, 3, 4, 5, 6, 7, 8, 9, 10, 11, 12, 13, 14, 15, 16, 17, 18, 19, 2…"
      ]
     },
     "execution_count": 22,
     "metadata": {},
     "output_type": "execute_result"
    }
   ],
   "source": [
    "obj.make_map()\n",
    "obj.add_to_map(\"countries\")"
   ]
  },
  {
   "cell_type": "code",
   "execution_count": 3,
   "metadata": {},
   "outputs": [
    {
     "data": {
      "application/vnd.jupyter.widget-view+json": {
       "model_id": "6ce269a29a6749579205325c27b0d2bb",
       "version_major": 2,
       "version_minor": 0
      },
      "text/plain": [
       "VBox(children=(HTML(value='<h1>Enrich with Overlay & Aggregation</h1>'), HTML(value=\"<div style='height: 5px;'…"
      ]
     },
     "metadata": {},
     "output_type": "display_data"
    }
   ],
   "source": [
    "'''\n",
    "GUI for Enricher primitives\n",
    "\n",
    "'''\n",
    "\n",
    "# pass the Enricher object (loaded with the datasets) to the EnricherUI\n",
    "obj_ui = EnrichOverlay(obj)\n"
   ]
  },
  {
   "cell_type": "code",
   "execution_count": null,
   "metadata": {},
   "outputs": [
    {
     "name": "stdout",
     "output_type": "stream",
     "text": [
      "['COMM_ID', 'CNTR_ID', 'CNTR_CODE', 'COMM_NAME', 'NAME_ASCI', 'TRUE_FLAG', 'NSI_CODE', 'NAME_NSI', 'NAME_LATN', 'NUTS_CODE', 'FID', 'geohash', 'geometry', 'T_agr_sum']\n",
      "58166281.116447605\n"
     ]
    }
   ],
   "source": [
    "\n",
    "from pyspark.sql.dataframe import DataFrame as SparkDataFrame\n",
    "\n",
    "\n",
    "temp: SparkDataFrame = obj.res_agr\n",
    "print(temp.columns)\n",
    "\n",
    "# temp: SparkDataFrame = temp.filter(F.col('CNTR_ID') == 'IT')\n",
    "print(temp.agg(F.sum('T_agr_sum')).collect()[0][0])\n",
    "\n",
    "# obj.parquet_this(\"intrsctn_com_grid_IT\", temp, preserve_partitions=False)\n",
    "# obj.parquet_this(\"grids_new_X_comuni_EU_IT\", temp, preserve_partitions=False)\n",
    "# temp.cache()"
   ]
  },
  {
   "cell_type": "code",
   "execution_count": null,
   "metadata": {},
   "outputs": [
    {
     "name": "stderr",
     "output_type": "stream",
     "text": [
      "[Stage 215:====================================================>(199 + 1) / 200]\r"
     ]
    },
    {
     "name": "stdout",
     "output_type": "stream",
     "text": [
      "109707\n"
     ]
    },
    {
     "name": "stderr",
     "output_type": "stream",
     "text": [
      "                                                                                \r"
     ]
    }
   ],
   "source": [
    "#ENCRYPTED\n",
    "# This cell was encrypted. Contact: sudheer.siddabattula@gmail.com for access/details\n",
    "\n",
    "LS0tLS1CRUdJTiBQR1AgTUVTU0FHRS0tLS0tCgp3Y0JNQTB5VXBDMWwzUy9oQVFmL1cxWnpvcjFQbXRHZ0c1Y2I0NStWaHRNMnplWnBrd3ZHVkZveGFqZGhXaCs3CjVFZkh3NEJaaVo4TUI0UVhCbnBPUEdWaDBlRkREZ2dCemlBMFhmcDQxbG5hUTVRTG4yYkJlMldTRjM3Y2pnSUgKeGNvTE4vQksrL0U3WitvYjVwcHNQcnRuMU50Q1ZPL2pnSmxYUVF1d2hza2RkbjBnWEdtSm9xTTRKTnptUzNXSQpFU2NtSXUzRHJRSHQ2RjZpbFIvOGEzalhLQWd1M2NjWE1ZOFBGU2srYmZEcU9xUjBxVXZld2pKNkFPd2VwVzZJCnlWSHVOS0dKZU1QSmxsVlBrV0drbzhpaU9zVnE3MS90VklyZ3RzSWVjM3YwSXRRRkt3emtEVUhhRXpQQnFwUkMKQ0R0T0dlUm5CZnhGNjQrQzBtdGVQYmlvZHdmOUhQdkQxSUlRencyWG1OTEIwQUVuM0RvU2NmdGdXaVI4VDJORwozbTZZcVhqYXpMZ2ZyMGRzdE1FczE0ZnBCZ1dlcmpSbUt5RGVBSXZTTGlyRmJOd05NL0RZUWMwSm8zZ3BPdE9ECjJsTEJ6YmhzYzluamE0dHF3Q3BTY0YrRGNETTk2N2JVeGthSVkzcFRMQmdJOWx1YlI2TWFNZ2xSWFI0SzE5VmYKVlB2cEtXK2lRdjRlSFRCVXJSelZ6eVN6QTF2Mk1tdkZyK2xJTTl0QllicmdnR2RTQklQTHpxcUhBc2ZxZC9XdQpRN2FyL2NodDBDNXd6TU1RVHdpa2U5WnhwMElrdkV3YUI5WGcwczVGL0dGVEg1T05NZ0t5dTgyQTdwczVSSXVUCm0wTlQzVzMzM0Y1eVc5VU1KT2lwMGo5cDQxUHhGeU1QVzdtRUs1UUNnY3BGRG1JVS82ckJZT2hkUHJyMXp5ZDQKejF5T1J0UGttbDZXWlA4a3NneGFhVlZST3NTR3JWblA5VUltSGpudEh0Rk1hQnp1cUo2bFFGK0xESitOZWFyMgpwa0FWSGJXZUZkckN2UEhBUlQyR1VqbjdLeFBDdWZyWHZuNmkvZDJuY216bXF0VmF3b1haWGxTbFNIYmhzamk2Cm0rUlJBU3NrdlJiK3Q2VFZkSmcrWlROZ2J4THdrQ0Q2RTdlaHVDcTNnc1pzemNrMHphTnZxeWNjUnp4QzlOVHQKQzN0RXVDak5RSndXZUJld0prb0dmYVM4Ykduc0VSK3pyU2U5cmVhSEJDK29lS3d3Slo0WUxWaXAxaW5vSGd4TQpiNmpyd1NqdytUdEEzMms3bng2blRGb2Y5eEptYkp0ZU1lUnNjL1Z6Z3Iwc3JacmZIcUdMY29LZUd0MnZ1bEVECmhFQVZUclN2Y0tvc1FVTGFRVS9lTkM0dWJNVW5EUFlLenIzK1hGblZscXY0dC81d1F3N0R6dHBKTkptWUdkUWUKZTBjcG0zeGJ4SDZmUjdLUHliQVo1UlJkVlhEMnJOVFhTSFFndFJoNzVERWVkck1qd3RoTkozanZxL1AveC84awpJQ2lXcWhVNXpQT1p6OGphUU9veEdiUGJLdktLVndqeEhTcTFDaUZmL1Bza2lTaWVSOGl0VWc2M1lUTE9HbjFpCmhuNUxud0c5WktBTkV5N1hzbkFoVGEwYgo9M0FwMwotLS0tLUVORCBQR1AgTUVTU0FHRS0tLS0tCg=="
   ]
  },
  {
   "cell_type": "code",
   "execution_count": null,
   "metadata": {},
   "outputs": [
    {
     "name": "stdout",
     "output_type": "stream",
     "text": [
      "41190463\n"
     ]
    }
   ],
   "source": [
    "\"\"\"\n",
    "Contains\n",
    "41190463\n",
    "\"\"\"\n",
    "\n",
    "print(res_n.agg(F.sum('t_agr')).collect()[0][0])\n"
   ]
  },
  {
   "cell_type": "code",
   "execution_count": null,
   "metadata": {},
   "outputs": [
    {
     "name": "stdout",
     "output_type": "stream",
     "text": [
      "77386595\n"
     ]
    }
   ],
   "source": [
    "\"\"\"\n",
    "Intersects\n",
    "77386595\n",
    "\"\"\"\n",
    "\n",
    "print(res_n.agg(F.sum('t_agr')).collect()[0][0])\n"
   ]
  },
  {
   "cell_type": "code",
   "execution_count": null,
   "metadata": {},
   "outputs": [],
   "source": [
    "\"\"\"\n",
    "ST_Intersection\n",
    "58166281\n",
    "\"\"\""
   ]
  },
  {
   "cell_type": "code",
   "execution_count": null,
   "metadata": {},
   "outputs": [],
   "source": [
    "import pyarrow.parquet as pq\n",
    "\n",
    "parquet_file = pq.ParquetFile(\"./data/pickle_parquets/others/grids_new_X_comuni_EU/test.parquet\")\n",
    "\n",
    "# Print full metadata\n",
    "print(parquet_file.metadata)\n",
    "\n",
    "# Print schema (column names, types, etc.)\n",
    "print(parquet_file.schema)\n",
    "\n",
    "# Print key-value metadata (custom user-defined metadata)\n",
    "print(parquet_file.metadata.metadata)  # This is a dictionary\n"
   ]
  },
  {
   "cell_type": "code",
   "execution_count": 16,
   "metadata": {},
   "outputs": [
    {
     "name": "stdout",
     "output_type": "stream",
     "text": [
      "{\"$schema\":\"https://proj.org/schemas/v0.7/projjson.schema.json\",\"type\":\"ProjectedCRS\",\"name\":\"ETRS89-extended / LAEA Europe\",\"base_crs\":{\"name\":\"ETRS89\",\"datum_ensemble\":{\"name\":\"European Terrestrial Reference System 1989 ensemble\",\"members\":[{\"name\":\"European Terrestrial Reference Frame 1989\",\"id\":{\"authority\":\"EPSG\",\"code\":1178}},{\"name\":\"European Terrestrial Reference Frame 1990\",\"id\":{\"authority\":\"EPSG\",\"code\":1179}},{\"name\":\"European Terrestrial Reference Frame 1991\",\"id\":{\"authority\":\"EPSG\",\"code\":1180}},{\"name\":\"European Terrestrial Reference Frame 1992\",\"id\":{\"authority\":\"EPSG\",\"code\":1181}},{\"name\":\"European Terrestrial Reference Frame 1993\",\"id\":{\"authority\":\"EPSG\",\"code\":1182}},{\"name\":\"European Terrestrial Reference Frame 1994\",\"id\":{\"authority\":\"EPSG\",\"code\":1183}},{\"name\":\"European Terrestrial Reference Frame 1996\",\"id\":{\"authority\":\"EPSG\",\"code\":1184}},{\"name\":\"European Terrestrial Reference Frame 1997\",\"id\":{\"authority\":\"EPSG\",\"code\":1185}},{\"name\":\"European Terrestrial Reference Frame 2000\",\"id\":{\"authority\":\"EPSG\",\"code\":1186}},{\"name\":\"European Terrestrial Reference Frame 2005\",\"id\":{\"authority\":\"EPSG\",\"code\":1204}},{\"name\":\"European Terrestrial Reference Frame 2014\",\"id\":{\"authority\":\"EPSG\",\"code\":1206}},{\"name\":\"European Terrestrial Reference Frame 2020\",\"id\":{\"authority\":\"EPSG\",\"code\":1382}}],\"ellipsoid\":{\"name\":\"GRS 1980\",\"semi_major_axis\":6378137,\"inverse_flattening\":298.257222101},\"accuracy\":\"0.1\",\"id\":{\"authority\":\"EPSG\",\"code\":6258}},\"coordinate_system\":{\"subtype\":\"ellipsoidal\",\"axis\":[{\"name\":\"Geodetic latitude\",\"abbreviation\":\"Lat\",\"direction\":\"north\",\"unit\":\"degree\"},{\"name\":\"Geodetic longitude\",\"abbreviation\":\"Lon\",\"direction\":\"east\",\"unit\":\"degree\"}]},\"id\":{\"authority\":\"EPSG\",\"code\":4258}},\"conversion\":{\"name\":\"Europe Equal Area 2001\",\"method\":{\"name\":\"Lambert Azimuthal Equal Area\",\"id\":{\"authority\":\"EPSG\",\"code\":9820}},\"parameters\":[{\"name\":\"Latitude of natural origin\",\"value\":52,\"unit\":\"degree\",\"id\":{\"authority\":\"EPSG\",\"code\":8801}},{\"name\":\"Longitude of natural origin\",\"value\":10,\"unit\":\"degree\",\"id\":{\"authority\":\"EPSG\",\"code\":8802}},{\"name\":\"False easting\",\"value\":4321000,\"unit\":\"metre\",\"id\":{\"authority\":\"EPSG\",\"code\":8806}},{\"name\":\"False northing\",\"value\":3210000,\"unit\":\"metre\",\"id\":{\"authority\":\"EPSG\",\"code\":8807}}]},\"coordinate_system\":{\"subtype\":\"Cartesian\",\"axis\":[{\"name\":\"Northing\",\"abbreviation\":\"Y\",\"direction\":\"north\",\"unit\":\"metre\"},{\"name\":\"Easting\",\"abbreviation\":\"X\",\"direction\":\"east\",\"unit\":\"metre\"}]},\"scope\":\"Statistical analysis.\",\"area\":\"Europe - European Union (EU) countries and candidates. Europe - onshore and offshore: Albania; Andorra; Austria; Belgium; Bosnia and Herzegovina; Bulgaria; Croatia; Cyprus; Czechia; Denmark; Estonia; Faroe Islands; Finland; France; Germany; Gibraltar; Greece; Hungary; Iceland; Ireland; Italy; Kosovo; Latvia; Liechtenstein; Lithuania; Luxembourg; Malta; Monaco; Montenegro; Netherlands; North Macedonia; Norway including Svalbard and Jan Mayen; Poland; Portugal including Madeira and Azores; Romania; San Marino; Serbia; Slovakia; Slovenia; Spain including Canary Islands; Sweden; Switzerland; Türkiye (Turkey); United Kingdom (UK) including Channel Islands and Isle of Man; Vatican City State.\",\"bbox\":{\"south_latitude\":24.6,\"west_longitude\":-35.58,\"north_latitude\":84.73,\"east_longitude\":44.83},\"id\":{\"authority\":\"EPSG\",\"code\":3035}}\n"
     ]
    }
   ],
   "source": [
    "from pyproj import CRS\n",
    "print(CRS.from_epsg(3035).to_json()) "
   ]
  },
  {
   "cell_type": "code",
   "execution_count": null,
   "metadata": {},
   "outputs": [
    {
     "name": "stdout",
     "output_type": "stream",
     "text": [
      "4531770\n"
     ]
    }
   ],
   "source": [
    "#ENCRYPTED\n",
    "# This cell was encrypted. Contact: sudheer.siddabattula@gmail.com for access/details\n",
    "\n",
    "LS0tLS1CRUdJTiBQR1AgTUVTU0FHRS0tLS0tCgp3Y0JNQTB5VXBDMWwzUy9oQVFmOUU0dDljaldYS2Q3MndhQkp0aUNVb1V2bmFUU2liei9RVU4wcUNxYk96R0EvCjlWTnBzRGRlNnRkVDJZaHduK0JkcVdzVUVYNkRoYXNlZC9uT29nOUIvektXdk04ZVh0R2IrWll3enFlVlI0UDAKMUhnbG5ERkZwU005QVFKaTJ6Zi85WFE4OXVaSFhWdVJEQ09vTXkvKzN4L3dvN1N3cjF6RHpyQ20yUmZaRXFFRApQcHJyTFZJTld6VklsTEREd1hCb1lBZG5Mb3lRZk5scWpnSmZ0NW5GZllUUGFWZkc4UkIzYTdNU2ZUVXErLy83Cms1VmFiY0xCeklkbjBpdjVVVWpBQloyWDc0b1Q3V3JGa1J5S2NSclE0Ly9kdGc0bmNCUWZ5a1NWdEI4RC9XSTAKSk1FdW9INkI4NUVGQlRpa1A0UVJoVXQ4dWxzWG9MNnJZVFA1SHNLVGM5TEFUQUY4cG5WbXNNSERDTlNaNHVZWgpJRUZQYk15clZ3WXZFN3V1NjMwcEJpMUtJNnoxZ0Q1VWZFS1Rld0NadkxUbWEzM09UaE1NZlJ4STd2Znc1THVqCmpFSUtYQ25NK1RFazZxOGhSek5tUERxSzJGUnBNVGJBczVDWGpXdTNYWUhWZnJPS3J1eXpoRFlBVkpxbTF2MEsKdlRmUSs4SmpnWHhvQkI2bi9CaGZkNVplNldzU1JzTG4rcGFiMFBjU3AxVmJ0ZzVuRGppK2x3anN0TGpzUTRLbQp0Y0p6Yk5wSXhjamU3ZlYyOW1mWW4rSFB0SE9laUJlSHFqeGRYc25NV3FSMndQWU9yN1FOTGpGL0Uyckx2VjdtClR6VzA3SEFBTzBiUHBsbjdiZUJVZnhNZ25pa1R1RngyTXlCcklTdFEza3N6dlZ2cXlydUh5SytXUldMZG02SjMKdU1jWmh4T1E1TENUbFk5dHB3WT0KPThVMUYKLS0tLS1FTkQgUEdQIE1FU1NBR0UtLS0tLQo="
   ]
  },
  {
   "cell_type": "code",
   "execution_count": null,
   "metadata": {},
   "outputs": [],
   "source": [
    "#ENCRYPTED\n",
    "# This cell was encrypted. Contact: sudheer.siddabattula@gmail.com for access/details\n",
    "\n",
    "LS0tLS1CRUdJTiBQR1AgTUVTU0FHRS0tLS0tCgp3Y0JNQTB5VXBDMWwzUy9oQVFmL2ZKNDdKVlFidTdjQ1VUSjM3SnhWblhjdm9qV3owODdNS0l3a0tlYkxvQ215CmNjSkdTYUs5cGkzUTdST0xVaWlJa1hiQW9Md3ZtMXpSaXlYUS9BL0Y0aVYvZVJFOXZtOU1lbzd3UHNsa0FWbm4KRGFCNml2QnNJRmhLMldRc1hJNVhyazNyckdEaGs5dkJ6eC9NVUREazlXMEpnc0Q1Tk56S1p2ZzZqblJEVk0vcQpSRnFNcitRQjVPQTBnTkh5MVpqNUFJMVJSSklNRlhhaDkzUTlEcHpIb1FSVjF6TzFhdUNMYzBKOUY4ZS90ek0xClBPbEdYYVlrckthTlZlMXFCVm1BMjE3UUhGcEh2QWk0dlhrWFl6eVpIL1MyWlVka293SUxVUUcwRTNlSlpqYk8KdVlnVFNqUE9IbDByVVRsTGVkbEg2bExnRG1Hc2NuaWJHVUtESE01VHJ0TEJvZ0VQVmp5QXlpN3RVWGtlK3hHSgo3WjJtUEJIRmg1cnJzWXEzYTFZQzRMeGZVVXBBMXJQNEF3WHZVN3pzWHl2NlgzVHRwNktOWVJ1SUpQaFF0VHFaClcyUVBJK256K05lY00vckdpVnB5RUFvMEEwN1pITnpQQTYyRVpYNjd6cW8zTWY3VkI2UFFoUnhKRWlhbVVoajgKdmpOUDVUdVRaaytvSWE2c00xb2RlOW9oUW02OEpuM2ZkWWhnanBkYndEZFNnS1hjUVVobHgzbkYxQ3U0cXYwYgp4UVg1U1psT0t1MlhmRDNITDBFVEFEcUQwWCtra2hZVU9kVlUzcDd6SW52SFF0SU83aytLTkY2TkdrZ3drbUswCmJtU0pQRUlRTjRCbEEzeEo3ZmZsc2oxYjRCeHZ1Y1k5QmpUZVdPQ0szRlJHdmRuYUc2K1l5dk1wMnduM2RNSmEKUkNnS3RjNFZET3JvZlduTzhwSk5oVlUxMjIwZkR3SW5qVXdDWGlCd2JOYjdkMkgrZ2s5RFI5Qm94UGxDNDBtNgpwR0RYTlRhM1ZQb3ZSemNaRGVDa1JDdW4vQUp1MzljekhtMlJ6cTc2NjlYSUd0V3UyVExQMkZoM2VBYjg5R09UCnBDc3hXT2lOZS9aYld6aGx6NDhXSEVuelBiak9JcU9BN3I1TlNaRFIwM29Kd0RsQnBhWllOYW1XNGZmM1NiRmoKU3ZZNm1LT1pneG1vVFhHVGRQVW5OU2laUUZ2NVZoakczT05QOXBwRWRhUGhMTFQweUZWOUVLS1JhTVQydTNiSwpuY0pnTmprQzdZMStFUDc4L3d6UnNSS0R5ZlpLRm1QL0pKcGY5a2M2R3ZCTWtRc2VqYWRnU0pxV0VmZkRuaDNUCkIweTYrdldERzI5UkZGS3hqM3NkZUdGTHBCakdzR3NISTNRUzNNa2xzZGhENWhvQUNZK2poZkc1Mkc2SjEyWHgKdzdneElkSDNIZWpPb1ZFMTdmM0FzMVNEdi8zZzhFbi9tZGFoZ0phMGRhT2NTWUprTncvdktlekN0OWRUaUxObQp2L0tOYlgyMThKOXhuTmlHVFFvM3Y4ZmNTRlU9Cj1TZ3NNCi0tLS0tRU5EIFBHUCBNRVNTQUdFLS0tLS0K"
   ]
  },
  {
   "cell_type": "code",
   "execution_count": null,
   "metadata": {},
   "outputs": [
    {
     "name": "stderr",
     "output_type": "stream",
     "text": [
      "/data/homes_data/sudheer/benchmark_data/sedona_venv/lib/python3.12/site-packages/jupyter_client/session.py:721: UserWarning: Message serialization failed with:\n",
      "Out of range float values are not JSON compliant: nan\n",
      "Supporting this message is deprecated in jupyter-client 7, please make sure your message is JSON-compliant\n",
      "  content = self.pack(content)\n"
     ]
    },
    {
     "data": {
      "application/vnd.jupyter.widget-view+json": {
       "model_id": "cc76fdf26c8f4a20beab056580dd247c",
       "version_major": 2,
       "version_minor": 0
      },
      "text/plain": [
       "KeplerGl(config={'version': 'v1', 'config': {'visState': {'filters': [], 'layers': [{'id': '7f1zywf', 'type': …"
      ]
     },
     "execution_count": 34,
     "metadata": {},
     "output_type": "execute_result"
    }
   ],
   "source": [
    "map.add_data(\n",
    "    data=prep_for_map(df1, obj.crs, geom_col=\"geometry\"), \n",
    "    name=\"comune\"\n",
    "    )\n",
    "map"
   ]
  },
  {
   "cell_type": "code",
   "execution_count": null,
   "metadata": {},
   "outputs": [],
   "source": [
    "#ENCRYPTED\n",
    "# This cell was encrypted. Contact: sudheer.siddabattula@gmail.com for access/details\n",
    "\n",
    "LS0tLS1CRUdJTiBQR1AgTUVTU0FHRS0tLS0tCgp3Y0JNQTB5VXBDMWwzUy9oQVFmK042R3h2VjlhSGZ3R0VEc2VCenIxNGRvblJQRUpVTThNekRkMmQxQkx3QjNHClVqeW44SG1rOVJKdjhsYVB6RnZvV3JZYTRYQkUrUENuTzBlYnBVQ1hsT2UwQ3lNOGthQjluUkNueDNkSnlBUHMKcW9VWWpVb3hVdE5rbVZrakxzNG1hTHR0emdoLzlXVU1iRUtGRkYvc0huVFVmUDRQM3h5YldpdSt2Wmh3WXpDNwpvM1RlT1BieHFSWlN5WEZWQVhiVnhEMURBL2tZN0c3d1VPbFNHeWxoUmVZZVNhSXNlNm9QZmc1T1ZwNXBNa2pGCktFb1ZyYUg2WDBBZlovcXcyMXBOZHVRc1NOTlNPU1N0bFNTUk14MUFBaTdZYmVic1JOd2pleFBFSnB4NTBnWEQKcm5xQWl0TExFUlBnQ2prVENhdEdpWlBwSSthQmVCT2M3UGZvTlNpMnl0SzhBWTlTRjZQaDUwRFdCa3VPTUtCeApvV3NzMG9Ub1dtOEk1cmtUQlNYTmZYdTVsbWdiNzNEMWZiR2tIbDlCZWtrbVFTN2FiTWRLOFRoTVl2S0IycTB4CjQzZjdwTTI5NnF6UEkvc3BFWHBEVXVyZ2t0S3k4YUwwY1VxMjdKbkFZcEFYSGhyRml5N3RHem9pOU1mZ1JZRnUKSU9FOUxnbWJqb1JSKytwOTZKaXdhVFprSkdYZXdKbFk1YllUcTRsWUJwa0p2NHNQU0FFbk5uajhua2JiMlRBNApMdURIZWhtK1pISGswUzlSTVl3ZFA5aEhjcWZSbHdRbEtZV09jWnc9Cj04d0J6Ci0tLS0tRU5EIFBHUCBNRVNTQUdFLS0tLS0K"
   ]
  },
  {
   "cell_type": "code",
   "execution_count": null,
   "metadata": {},
   "outputs": [],
   "source": [
    "#ENCRYPTED\n",
    "# This cell was encrypted. Contact: sudheer.siddabattula@gmail.com for access/details\n",
    "\n",
    "LS0tLS1CRUdJTiBQR1AgTUVTU0FHRS0tLS0tCgp3Y0JNQTB5VXBDMWwzUy9oQVFmL1dkZjlFWGJldHF2Q1VWaFF4elp2Tm54Q09qUFpKV1pONkliZDUwL2wvajZtCm4wVktwZDcvSER3UVI2YjR5cUwxUTJhc0pTbFltdUZzaS9JeGdrUXA5Zmx1dWFBQ0JoRVpqMU84d3NtNmJZbTcKVldVRERHcEN6SFdoaXRtRDJCZ0MzYmVhVFMyK2J1WnhubDQvbXJNZENsUWs0NWtPd1o1eHphRWlrK25KL0k3UQoyVU5LMk9EYkxsMXN1K1RmWEFFdy9KbTZONmxZTjRKSXNibGpRdzMxQzUwWG5UVkJDVEdyK0M1V2U2ZGRvK3drCnU3V3JTVkpzZ3hsb1E0ckN0TFpBc2RmUEdoejZuY2lxaUNZdk5DejRqUjhLNXBsQkdPa1NubGlpWVVDM0xFeUsKMFd2c01teWVVZTYzUzZ3dWJ3NlhLUmpqVWNOV1VNMmJrdEVzOC9oWDI5TEJDZ0Z0ZENraVRhOWdFUnh6a0MwVApDTlM1V0xLbWNBc2taSElCL1h1N2o0SVBFNXVhRXM1WjhIWnpVcHR4VjhMQS9qK3RVVXQvNmdjK1pmdElVZGg0ClgyQU1HeHB1N3V0YjlFN3c4L0F3U0ZWWkJ5ZXBGUzk2MjBZOEdxSi9LbnArY2ttRVdPTzJ3akpDejRkTjVXMW4KTVBoSnJHd2FJcEhQMzQ3WHorWXNWNVlpdEd3TVd4QzVTbnh6TS9hMkNjK002TjBRRWFPSXgyRENDejIxdG5yTwphemFMMGxBcUJJRHdsL0lWdW9Xc3lTM3h0bEpPa29FeFhLaGlHSnBHK2d1ODA1UFhoYXp4eDdLTmxqdllMc1k4CmljRUZNWjhZa25jQlMzTkVtSml5NlRMY0haa3RIR29HeC83Q1N3czBHa2N2dWRDMC9ONzVXaTRUT2pPdkZ1djUKNkZZdFVZT1I4WCt4UUcwWHU5YUN6U3kxaVZmeThBUnlBUUMyQ1B1U2JmYWl3YTRpNDRwRGdMd0NzOFdSQVhUUgp4OWU5bnNzNlpmMjI1SFNOdk1SdUE0N3ZEQmVFdHpsWEV3VXJIZ085cTNQNWtCdnBiTTRwdkFjblZYWnFBMnRLClVjckN2YXNhQ0RyV0VmcFdxL0tEVzlBS0NQMVFDbFNmRENIS1h1ajMvUHVkait1MlhLcjZNLzVFZENsUCtQOVIKZzVPK2tpUGwrNTZCbi9jOFQ0VDFNZnR4cURVa2N4OGRQaG9xdWo5aTZtTWY2Tkd6SWRzNTNOd21NL05aZkdIaQp5K1lKZXhkS2kyUFZsTEo0Cj1zZjErCi0tLS0tRU5EIFBHUCBNRVNTQUdFLS0tLS0K"
   ]
  },
  {
   "cell_type": "code",
   "execution_count": null,
   "metadata": {},
   "outputs": [],
   "source": []
  },
  {
   "cell_type": "code",
   "execution_count": null,
   "metadata": {},
   "outputs": [],
   "source": []
  },
  {
   "cell_type": "code",
   "execution_count": null,
   "metadata": {},
   "outputs": [],
   "source": []
  },
  {
   "cell_type": "code",
   "execution_count": null,
   "metadata": {},
   "outputs": [],
   "source": [
    "# import geopandas as gpd\n",
    "\n",
    "# path = \"./data/pickle_parquets/others/grids_new_X_comuni_EU\"\n",
    "\n",
    "# gdf = gpd.read_parquet(path)\n",
    "\n",
    "# crs = gdf.crs\n",
    "\n",
    "# if crs:\n",
    "#     print(f\"The CRS of the GeoParquet file is: {crs}\")\n",
    "# else:\n",
    "#     print(\"The CRS of the GeoParquet file is undefined.\")\n",
    "    \n",
    "# if crs:\n",
    "#     formatted_crs = CRS(crs)  \n",
    "#     print(f\"CRS: {formatted_crs.to_string()}\") \n",
    "#     print(f\"EPSG Code: {formatted_crs.to_epsg()}\")  \n",
    "#     print(f\"PROJ String: {formatted_crs.to_proj4()}\")  \n",
    "#     print(f\"WKT Format: {formatted_crs.to_wkt()}\")  \n",
    "# else:\n",
    "#     print(\"The CRS of the GeoParquet file is undefined.\")"
   ]
  }
 ],
 "metadata": {
  "kernelspec": {
   "display_name": "sedona_venv",
   "language": "python",
   "name": "python3"
  },
  "language_info": {
   "codemirror_mode": {
    "name": "ipython",
    "version": 3
   },
   "file_extension": ".py",
   "mimetype": "text/x-python",
   "name": "python",
   "nbconvert_exporter": "python",
   "pygments_lexer": "ipython3",
   "version": "3.12.3"
  }
 },
 "nbformat": 4,
 "nbformat_minor": 4
}
