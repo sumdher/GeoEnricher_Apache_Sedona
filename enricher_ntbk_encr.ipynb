{
 "cells": [
  {
   "cell_type": "code",
   "execution_count": 34,
   "metadata": {},
   "outputs": [],
   "source": [
    "# ENCRYPTED\n",
    "# This cell is encrypted. Will be made public soon. Contact: sudheer.siddabattula@gmail.com for access/details\n",
    "\n",
    "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"
   ]
  },
  {
   "cell_type": "code",
   "execution_count": null,
   "metadata": {},
   "outputs": [],
   "source": [
    "''' \n",
    "Loading data from files.\n",
    "This will take a while. Because it cleans and makes some essential transformations.\n",
    "But it is a one-time operation. `parquet_all()` will save all datasets to the disk, preserving any transformations applied.\n",
    "From next time, you can directly load them  with: `load_from_parquets()`.\n",
    "'''\n",
    "\n",
    "\n",
    "# Provide the data directory\n",
    "data_dir = f\"./data\"\n",
    "\n",
    "# Individual file paths:\n",
    "path_contr = f\"{data_dir}/data_EU/countries_shp/\"\n",
    "path_reg = f\"{data_dir}/data_Italy/regioni/\"\n",
    "path_prov = f\"{data_dir}/data_Italy/provinci\"\n",
    "path_com_EU = f\"{data_dir}/data_EU/comuni_shp/\"\n",
    "path_com = f\"{data_dir}/data_Italy/comuni/\"\n",
    "path_grids = f\"{data_dir}/data_EU/census_grid_EU/grids_OG_corrected.parquet\"\n",
    "path_grids_new = f\"{data_dir}/data_EU/census_grid_EU/grids_new.gpkg\"\n",
    "\n",
    "# Dataset names and their file formats:\n",
    "# format: {dataset_name: (path, file_format), ...}\n",
    "\n",
    "datasets: dict[str, tuple[str, str]] = {\n",
    "    \"countries\": (path_contr, \"shapefile\"),\n",
    "    \"regions_IT\": (path_reg, \"shapefile\"),\n",
    "    \"provinces_IT\": (path_prov, \"shapefile\"),\n",
    "    \"comuni_EU\": (path_com_EU, \"shapefile\"),\n",
    "    \"comuni_IT\": (path_com, \"shapefile\"),\n",
    "    \"pop_grids\": (path_grids, \"geoparquet\"),\n",
    "    \"pop_grids_new\": (path_grids_new, \"geopackage\"),\n",
    "}\n",
    "\n",
    "obj = Enricher(crs=\"EPSG:3035\")\n",
    "\n",
    "# Setup the Enricher object with \"sedona\" (or, \"wherobots\")\n",
    "# \"ex_mem\" and \"dr_mem\" are the executor and driver memory in GB\n",
    "obj.setup_cluster(\n",
    "    data_dir=data_dir, \n",
    "    which=\"sedona\", \n",
    "    ex_mem=26,\n",
    "    dr_mem=24,\n",
    "    log_level=\"ERROR\"\n",
    "    )\n",
    "\n",
    "# Use \"load()\" to load all the datasets in {data_dir}, \n",
    "# according to the paths and file formats provided in \"datasets{}\"\n",
    "obj.load(datasets, silent=True)\n",
    "\n",
    "# Optionally, run \"fix_geometries()\" to fix invalid geometries if any; \n",
    "# if you want to skip the check for some dataframes, pass their names in \"skip[]\"\n",
    "obj.fix_geometries(\n",
    "    skip=['pop_grids', 'pop_grids_new']\n",
    "    )\n",
    "\n",
    "# Optionally, inspect the partitions and data skew:\n",
    "# obj.inspect_partitions()\n",
    "\n",
    "# and force the dataframes to be repartitioned to the number of available cores\n",
    "# pass the names of the dataframes to be skipped in skip[]\n",
    "obj.force_repartition(skip=['pop_grids'])\n",
    "\n",
    "# obj.inspect_partitions()\n",
    "\n",
    "# Transform the CRS of loaded datasets to the CRS passed in the Enricher constructor\n",
    "# lazy=True will not cache the dataframes. \n",
    "obj.transform_CRS(lazy=False)\n",
    "\n",
    "# Pickle all the dataframes to disk for quick access later.\n",
    "# default directory: \"./{data_dir}/pickle_parquets/dfs_list\"\n",
    "# you may change the directory where they are saved by pasing it in \"parquet_dir\"; relative to the {data_dir}\n",
    "obj.parquet_all(preserve_partitions=True)\n"
   ]
  },
  {
   "cell_type": "code",
   "execution_count": 35,
   "metadata": {},
   "outputs": [
    {
     "name": "stdout",
     "output_type": "stream",
     "text": [
      "sedona initialized with 10 cores for parellelism.\n",
      "\n",
      "Loaded dataframe 'provinces_IT'\n",
      "Loaded dataframe 'comune'\n",
      "Loaded dataframe 'grids'\n",
      "Loaded dataframe 'regions_IT'\n",
      "Loaded dataframe 'countries'\n",
      "Loaded dataframe 'grids_IT'\n",
      "Loaded dataframe 'pop_grids'\n",
      "Loaded dataframe 'comuni_EU'\n",
      "Loaded dataframe 'comuni_EU_IT'\n",
      "Loaded dataframe 'pop_grids_new'\n",
      "Loaded dataframe 'comuni_IT'\n"
     ]
    }
   ],
   "source": [
    "''' \n",
    "Load data from pickled parquets \n",
    "\n",
    "'''\n",
    "\n",
    "# Provide the data directory\n",
    "data_dir = \"./data\"\n",
    "\n",
    "obj = Enricher(crs=\"EPSG:3035\")\n",
    "\n",
    "# Setup the Enricher object with \"sedona\" (or, \"wherobots\")\n",
    "# \"ex_mem\" and \"dr_mem\" are the executor and driver memory in GB\n",
    "obj.setup_cluster(\n",
    "    data_dir=data_dir, \n",
    "    which=\"sedona\", \n",
    "    ex_mem=26, \n",
    "    dr_mem=24, \n",
    "    log_level=\"ERROR\"\n",
    "    )\n",
    "\n",
    "# Loads all the datasets from pickled parquets in the default direcoty: \"./{data_dir}/pickle_parquets/dfs_list\"\n",
    "# optionally, to load from a different directory, pass the directory path in \"parquet_dir\"; reative to the {data_dir}\n",
    "obj.load_from_parquets()\n",
    "# obj.inspect_partitions()"
   ]
  },
  {
   "cell_type": "code",
   "execution_count": 14,
   "metadata": {},
   "outputs": [
    {
     "name": "stdout",
     "output_type": "stream",
     "text": [
      "User Guide: https://docs.kepler.gl/docs/keplergl-jupyter\n"
     ]
    },
    {
     "data": {
      "application/vnd.jupyter.widget-view+json": {
       "model_id": "077d413863084243a782e80e58d49b8a",
       "version_major": 2,
       "version_minor": 0
      },
      "text/plain": [
       "KeplerGl(data={'countries': 'countries'})"
      ]
     },
     "execution_count": 14,
     "metadata": {},
     "output_type": "execute_result"
    }
   ],
   "source": [
    "'''\n",
    "Visualize the datasets\n",
    "\n",
    "'''\n",
    "\n",
    "# Pass a list of: names of the loaded datasets or directly the Spark dataframes in memory\n",
    "# Make sure the geometry column is named \"geometry\".\n",
    "# If not, pass individual dataframes with thei geometry column with the argument `geom_col`\n",
    "obj.plot_this(\n",
    "    [\"countries\", obj.dfs_list[\"provinces_IT\"]],  # str | SparkDataFrame | list[str | SparkDataFrame]\n",
    "    new_map=True  # if it is False, the dataset will be added to the old map (if it exists, or else, makes a new one)\n",
    "    )\n",
    "\n",
    "# you can plot the map in another cell, just run `<obj>.map`"
   ]
  },
  {
   "cell_type": "code",
   "execution_count": null,
   "metadata": {},
   "outputs": [
    {
     "data": {
      "application/vnd.jupyter.widget-view+json": {
       "model_id": "64a02b061b6c49b3aa36deed63870880",
       "version_major": 2,
       "version_minor": 0
      },
      "text/plain": [
       "VBox(children=(HTML(value='<h1>Enrich with Overlay & Aggregation</h1>'), HTML(value=\"<div style='height: 5px;'…"
      ]
     },
     "metadata": {},
     "output_type": "display_data"
    }
   ],
   "source": [
    "'''\n",
    "GUI for Enrich by Overlay\n",
    "\n",
    "'''\n",
    "\n",
    "# pass the Enricher object (loaded with the datasets) to the EnricherUI\n",
    "obj_ui = EnrichOverlay(obj)\n"
   ]
  },
  {
   "cell_type": "code",
   "execution_count": 27,
   "metadata": {},
   "outputs": [
    {
     "name": "stdout",
     "output_type": "stream",
     "text": [
      "User Guide: https://docs.kepler.gl/docs/keplergl-jupyter\n"
     ]
    },
    {
     "data": {
      "application/vnd.jupyter.widget-view+json": {
       "model_id": "a93d6a4b2c0a4c16b25bd96a3125886a",
       "version_major": 2,
       "version_minor": 0
      },
      "text/plain": [
       "KeplerGl(data={'comuni_EU_IT': {'index': [0, 1, 2, 3, 4, 5, 6, 7, 8, 9, 10, 11, 12, 13, 14, 15, 16, 17, 18, 19…"
      ]
     },
     "execution_count": 27,
     "metadata": {},
     "output_type": "execute_result"
    }
   ],
   "source": [
    "# res_agr = obj.load_from_parquet(name=\"grids_X_countries\")\n",
    "\n",
    "obj.plot_this(\n",
    "    [obj.dfs_list['comuni_EU_IT']],  # str | SparkDataFrame | list[str | SparkDataFrame]\n",
    "    new_map=True  # if it is False, the dataset will be added to the old map (if it exists, or else, makes a new map)\n",
    "    )"
   ]
  },
  {
   "cell_type": "code",
   "execution_count": 29,
   "metadata": {},
   "outputs": [
    {
     "name": "stdout",
     "output_type": "stream",
     "text": [
      "+------------------------------------------------------------+\n",
      "|COMM_NAME                                                   |\n",
      "+------------------------------------------------------------+\n",
      "|Roma\u0000\u0000\u0000\u0000\u0000\u0000\u0000\u0000\u0000\u0000\u0000\u0000\u0000\u0000\u0000\u0000\u0000\u0000\u0000\u0000\u0000\u0000\u0000\u0000\u0000\u0000\u0000\u0000\u0000\u0000\u0000\u0000\u0000\u0000\u0000\u0000\u0000\u0000\u0000\u0000\u0000\u0000\u0000\u0000\u0000\u0000\u0000\u0000\u0000\u0000\u0000\u0000\u0000\u0000\u0000\u0000|\n",
      "|Milano\u0000\u0000\u0000\u0000\u0000\u0000\u0000\u0000\u0000\u0000\u0000\u0000\u0000\u0000\u0000\u0000\u0000\u0000\u0000\u0000\u0000\u0000\u0000\u0000\u0000\u0000\u0000\u0000\u0000\u0000\u0000\u0000\u0000\u0000\u0000\u0000\u0000\u0000\u0000\u0000\u0000\u0000\u0000\u0000\u0000\u0000\u0000\u0000\u0000\u0000\u0000\u0000\u0000\u0000|\n",
      "|Napoli\u0000\u0000\u0000\u0000\u0000\u0000\u0000\u0000\u0000\u0000\u0000\u0000\u0000\u0000\u0000\u0000\u0000\u0000\u0000\u0000\u0000\u0000\u0000\u0000\u0000\u0000\u0000\u0000\u0000\u0000\u0000\u0000\u0000\u0000\u0000\u0000\u0000\u0000\u0000\u0000\u0000\u0000\u0000\u0000\u0000\u0000\u0000\u0000\u0000\u0000\u0000\u0000\u0000\u0000|\n",
      "|Torino\u0000\u0000\u0000\u0000\u0000\u0000\u0000\u0000\u0000\u0000\u0000\u0000\u0000\u0000\u0000\u0000\u0000\u0000\u0000\u0000\u0000\u0000\u0000\u0000\u0000\u0000\u0000\u0000\u0000\u0000\u0000\u0000\u0000\u0000\u0000\u0000\u0000\u0000\u0000\u0000\u0000\u0000\u0000\u0000\u0000\u0000\u0000\u0000\u0000\u0000\u0000\u0000\u0000\u0000|\n",
      "|Palermo\u0000\u0000\u0000\u0000\u0000\u0000\u0000\u0000\u0000\u0000\u0000\u0000\u0000\u0000\u0000\u0000\u0000\u0000\u0000\u0000\u0000\u0000\u0000\u0000\u0000\u0000\u0000\u0000\u0000\u0000\u0000\u0000\u0000\u0000\u0000\u0000\u0000\u0000\u0000\u0000\u0000\u0000\u0000\u0000\u0000\u0000\u0000\u0000\u0000\u0000\u0000\u0000\u0000|\n",
      "+------------------------------------------------------------+\n",
      "only showing top 5 rows\n",
      "\n"
     ]
    }
   ],
   "source": [
    "\n",
    "obj.res_agr.orderBy(F.desc(\"T_agr_sum\")).select(\"COMM_NAME\").show(5, truncate=False)\n"
   ]
  },
  {
   "cell_type": "code",
   "execution_count": 26,
   "metadata": {},
   "outputs": [
    {
     "name": "stdout",
     "output_type": "stream",
     "text": [
      "User Guide: https://docs.kepler.gl/docs/keplergl-jupyter\n"
     ]
    },
    {
     "name": "stderr",
     "output_type": "stream",
     "text": [
      "/data/homes_data/sudheer/benchmark_data/sedona_venv/lib/python3.12/site-packages/jupyter_client/session.py:721: UserWarning: Message serialization failed with:\n",
      "Out of range float values are not JSON compliant: nan\n",
      "Supporting this message is deprecated in jupyter-client 7, please make sure your message is JSON-compliant\n",
      "  content = self.pack(content)\n"
     ]
    },
    {
     "data": {
      "application/vnd.jupyter.widget-view+json": {
       "model_id": "3c5d85b9e0e845f4937951289f1fde68",
       "version_major": 2,
       "version_minor": 0
      },
      "text/plain": [
       "KeplerGl(data={'grids_IT': {'index': [0, 1, 2, 3, 4, 5, 6, 7, 8, 9, 10, 11, 12, 13, 14, 15, 16, 17, 18, 19, 20…"
      ]
     },
     "execution_count": 26,
     "metadata": {},
     "output_type": "execute_result"
    }
   ],
   "source": [
    "# res_agr = obj.load_from_parquet(name=\"grids_X_countries\")\n",
    "\n",
    "obj.plot_this(\n",
    "    [obj.dfs_list['grids_IT']],  # str | SparkDataFrame | list[str | SparkDataFrame]\n",
    "    new_map=True  # if it is False, the dataset will be added to the old map (if it exists, or else, makes a new map)\n",
    "    )"
   ]
  },
  {
   "cell_type": "code",
   "execution_count": 16,
   "metadata": {},
   "outputs": [
    {
     "name": "stdout",
     "output_type": "stream",
     "text": [
      "Saving dataframe 'comuni_EU_IT' as GeoParquet...\n"
     ]
    },
    {
     "name": "stderr",
     "output_type": "stream",
     "text": [
      "[Stage 53:===================================================>     (9 + 1) / 10]\r"
     ]
    },
    {
     "name": "stdout",
     "output_type": "stream",
     "text": [
      "Saved to './data/pickle_parquets/others/comuni_EU_IT'\n"
     ]
    },
    {
     "name": "stderr",
     "output_type": "stream",
     "text": [
      "                                                                                \r"
     ]
    }
   ],
   "source": [
    "# obj.dfs_list.keys()\n",
    "\n",
    "ress = ress.filter(F.col('CNTR_ID') == 'IT')\n",
    "obj.parquet_this(\"comuni_EU_IT\", ress, preserve_partitions=True)\n"
   ]
  },
  {
   "cell_type": "code",
   "execution_count": 3,
   "metadata": {},
   "outputs": [
    {
     "data": {
      "text/plain": [
       "['geometry',\n",
       " 'CNTR_ID',\n",
       " 'CNTR_NAME',\n",
       " 'NAME_ENGL',\n",
       " 'NAME_FREN',\n",
       " 'ISO3_CODE',\n",
       " 'SVRG_UN',\n",
       " 'CAPT',\n",
       " 'EU_STAT',\n",
       " 'EFTA_STAT',\n",
       " 'CC_STAT',\n",
       " 'NAME_GERM',\n",
       " 'geohash']"
      ]
     },
     "execution_count": 3,
     "metadata": {},
     "output_type": "execute_result"
    }
   ],
   "source": [
    "obj.dfs_list['countries'].columns"
   ]
  },
  {
   "cell_type": "code",
   "execution_count": 15,
   "metadata": {},
   "outputs": [
    {
     "name": "stderr",
     "output_type": "stream",
     "text": [
      "[Stage 46:===================================================>     (9 + 1) / 10]\r"
     ]
    },
    {
     "name": "stdout",
     "output_type": "stream",
     "text": [
      "126089\n"
     ]
    },
    {
     "name": "stderr",
     "output_type": "stream",
     "text": [
      "                                                                                \r"
     ]
    }
   ],
   "source": [
    "ress = obj.join_simple(df1=\"comuni_EU\", df2=obj.dfs_list['countries'], enr_cols=[\"CNTR_ID\", \"CNTR_NAME\"])\n",
    "ress.cache()\n",
    "print(ress.count())"
   ]
  },
  {
   "cell_type": "code",
   "execution_count": null,
   "metadata": {},
   "outputs": [
    {
     "name": "stdout",
     "output_type": "stream",
     "text": [
      "['COMM_ID', 'CNTR_ID', 'CNTR_CODE', 'COMM_NAME', 'NAME_ASCI', 'TRUE_FLAG', 'NSI_CODE', 'NAME_NSI', 'NAME_LATN', 'NUTS_CODE', 'FID', 'geohash', 'geometry', 'T_agr_sum']\n",
      "58166281.116447605\n"
     ]
    }
   ],
   "source": [
    "temp: SparkDataFrame = obj.res_agr\n",
    "print(temp.columns)\n",
    "\n",
    "# temp: SparkDataFrame = temp.filter(F.col('CNTR_ID') == 'IT')\n",
    "print(temp.agg(F.sum('T_agr_sum')).collect()[0][0])\n",
    "\n",
    "# obj.parquet_this(\"intrsctn_com_grid_IT\", temp, preserve_partitions=False)\n",
    "# obj.parquet_this(\"grids_new_X_comuni_EU_IT\", temp, preserve_partitions=False)\n",
    "# temp.cache()"
   ]
  },
  {
   "cell_type": "code",
   "execution_count": null,
   "metadata": {},
   "outputs": [
    {
     "name": "stderr",
     "output_type": "stream",
     "text": [
      "[Stage 215:====================================================>(199 + 1) / 200]\r"
     ]
    },
    {
     "name": "stdout",
     "output_type": "stream",
     "text": [
      "109707\n"
     ]
    },
    {
     "name": "stderr",
     "output_type": "stream",
     "text": [
      "                                                                                \r"
     ]
    }
   ],
   "source": [
    "# ENCRYPTED\n",
    "# This cell is encrypted. Will be made public soon. Contact: sudheer.siddabattula@gmail.com for access/details\n",
    "\n",
    "LS0tLS1CRUdJTiBQR1AgTUVTU0FHRS0tLS0tCgp3Y0JNQTNPRWs1MWpOSTZhQVFnQW1NQjQvNzVZT042SksrVGZmd0dXTU54aENqbzFBVko2Y3QyL2F5Tk9pTXltCmtiNEtWV0dBV3pxcUM3aXlLQWJIR1J3SnZZNmw3aTFNZjR2N3hnT0FXZnJZcmlXY3lTN010V3VGYVZYS2p3YlgKQWd2YWRCeEtEVlByYVUxeHFNSVVlUHJ1T2FzaHZHRjVmK3ZmbGVtb1dhbTJaN01PeDdXRjdPWmxHZk1DbHdtMApQMHJlZHpBbTV5N3h0WFNOemVkYTVSdlZsZFkwSXRRR29wUDRMRVBrcW4xdFpTZ2lxZGpzYWJqamRYTmNsM01HCnQ0eHNGUXZPYmcvSnc3RmRGQUFIRG1iVndmSC9QVGJ0S1ljN0hTWjMrSU1TczIvZlZIRFoyRFNyQmJRYXY5aGgKYlgrSmtjWGcxbm5TanpOL3dvYllNZUxhTzNpbmhGaEFZQ0tlcU1QVUNkTEIwQUZyNnE3RGtHY0VJYldzeGRJVgo2OXhiSEZYb1EyT2FMbHkrK0lNLzNUeDk4WlhTd2VPUld4UW9qaEdCWW5xWVpVNGdxdnlLaU00aXZjUGxqQ0N5CkM2ZENwSkgreDhSU1FkZzdRN0xleDhPemhtK1J3ZXBTcFlzZGlSK09LQUZESXZQVjljZUVDYkhla3BUZlQzbXUKZXFyNmRTK3gzT21GTTQwdDFJeTI0NHZWMzBhd2lkd0svWCt1T29BL1F3bHJmUGNlWHJTR2MrYks0YkRnK3VOVwpxSUtITS9hdGdPS0o1WkpFaUZJMUFUODl5Q2ZMcmJzMVo2TkczdVFvWG5BZENtNUpDTEZ6WTRZTUFFeUxkcWJUCjNyN0E3UElyMmNZVUNPY3N3WElyNzdZdlUvZlkvanlVMit5Z290bXh6bTlrMkQ0bDIrMU92ZFlzZlpjdTh5K3YKS0V2ZU5DWVRXbUQ4Ti9lcGVlcG41S1hqdGxtRzNiWER5cjR5enMxZWp4Zzdqa0ppQ2xHdWU0SHo0aTRCVFhUVgp3T0t4OUltbmN2bTFkbVlBODh6RFFuUWU2aTg0a3NIZGlhc0pReGRwQlM4ellkRjd1TWxIM1I3cDJTamxhaktZCmF6MDNzNklweStWcXpTRkF6UXJEL0pTOVZkZHJTOEUvUU1ubnJJK24reVpyV01zTHh6YjQvb1lBMmVrbGtDUDAKY0paK0JWeno5TEpRdUpQbndVVFIwY0JsZGd5bVdvS2RFd2FKRUd6d1dKNFY5OU93OTR3Q2FQYjF5bURxc1BrZAo0eHVvVE5UdW5qdVVoYlZkR0M2MlRlMzdIc1dGWDF2T1JSeTJ2U1NUQ0w4SzVVZWp5NW9FL0VoaDVtTkh6S1hnCjV0WkRxQ2RDWE1kQ3FwQU9pQ0g4WEs1cE5xemZTWndDTkJqdDB2NkQ4UktmNEN5YWpNOTlkbzhJOUxielVGZFEKNjAyY0o2QWlNMmJQSHh2SlliZjArbVdWTGUyM29jU09OUXROakUwamVmOVJhNmp2b3lJMWRpa0RKdTFxeTUyZQpkajFjWXB4bEw5bWxBY0x5RWlabmlNNGZXd2FxMXhhdUJibHVSb2FRMUtzdHJGT1lXMzVJakhWTHR1WE5ETlNICnJBTnlBcktxaFA5NDB3SE9vejkreDRSQQo9dG9tNQotLS0tLUVORCBQR1AgTUVTU0FHRS0tLS0tCg=="
   ]
  },
  {
   "cell_type": "code",
   "execution_count": null,
   "metadata": {},
   "outputs": [
    {
     "name": "stdout",
     "output_type": "stream",
     "text": [
      "41190463\n"
     ]
    }
   ],
   "source": [
    "\"\"\"\n",
    "Contains\n",
    "41190463\n",
    "\"\"\"\n",
    "\n",
    "print(res_n.agg(F.sum('t_agr')).collect()[0][0])\n"
   ]
  },
  {
   "cell_type": "code",
   "execution_count": null,
   "metadata": {},
   "outputs": [
    {
     "name": "stdout",
     "output_type": "stream",
     "text": [
      "77386595\n"
     ]
    }
   ],
   "source": [
    "\"\"\"\n",
    "Intersects\n",
    "77386595\n",
    "\"\"\"\n",
    "\n",
    "print(res_n.agg(F.sum('t_agr')).collect()[0][0])\n"
   ]
  },
  {
   "cell_type": "code",
   "execution_count": null,
   "metadata": {},
   "outputs": [],
   "source": [
    "\"\"\"\n",
    "ST_Intersection\n",
    "58166281\n",
    "\"\"\""
   ]
  },
  {
   "cell_type": "code",
   "execution_count": null,
   "metadata": {},
   "outputs": [],
   "source": [
    "import pyarrow.parquet as pq\n",
    "\n",
    "parquet_file = pq.ParquetFile(\"./data/pickle_parquets/others/grids_new_X_comuni_EU/test.parquet\")\n",
    "\n",
    "# Print full metadata\n",
    "print(parquet_file.metadata)\n",
    "\n",
    "# Print schema (column names, types, etc.)\n",
    "print(parquet_file.schema)\n",
    "\n",
    "# Print key-value metadata (custom user-defined metadata)\n",
    "print(parquet_file.metadata.metadata)  # This is a dictionary\n"
   ]
  },
  {
   "cell_type": "code",
   "execution_count": 16,
   "metadata": {},
   "outputs": [
    {
     "name": "stdout",
     "output_type": "stream",
     "text": [
      "{\"$schema\":\"https://proj.org/schemas/v0.7/projjson.schema.json\",\"type\":\"ProjectedCRS\",\"name\":\"ETRS89-extended / LAEA Europe\",\"base_crs\":{\"name\":\"ETRS89\",\"datum_ensemble\":{\"name\":\"European Terrestrial Reference System 1989 ensemble\",\"members\":[{\"name\":\"European Terrestrial Reference Frame 1989\",\"id\":{\"authority\":\"EPSG\",\"code\":1178}},{\"name\":\"European Terrestrial Reference Frame 1990\",\"id\":{\"authority\":\"EPSG\",\"code\":1179}},{\"name\":\"European Terrestrial Reference Frame 1991\",\"id\":{\"authority\":\"EPSG\",\"code\":1180}},{\"name\":\"European Terrestrial Reference Frame 1992\",\"id\":{\"authority\":\"EPSG\",\"code\":1181}},{\"name\":\"European Terrestrial Reference Frame 1993\",\"id\":{\"authority\":\"EPSG\",\"code\":1182}},{\"name\":\"European Terrestrial Reference Frame 1994\",\"id\":{\"authority\":\"EPSG\",\"code\":1183}},{\"name\":\"European Terrestrial Reference Frame 1996\",\"id\":{\"authority\":\"EPSG\",\"code\":1184}},{\"name\":\"European Terrestrial Reference Frame 1997\",\"id\":{\"authority\":\"EPSG\",\"code\":1185}},{\"name\":\"European Terrestrial Reference Frame 2000\",\"id\":{\"authority\":\"EPSG\",\"code\":1186}},{\"name\":\"European Terrestrial Reference Frame 2005\",\"id\":{\"authority\":\"EPSG\",\"code\":1204}},{\"name\":\"European Terrestrial Reference Frame 2014\",\"id\":{\"authority\":\"EPSG\",\"code\":1206}},{\"name\":\"European Terrestrial Reference Frame 2020\",\"id\":{\"authority\":\"EPSG\",\"code\":1382}}],\"ellipsoid\":{\"name\":\"GRS 1980\",\"semi_major_axis\":6378137,\"inverse_flattening\":298.257222101},\"accuracy\":\"0.1\",\"id\":{\"authority\":\"EPSG\",\"code\":6258}},\"coordinate_system\":{\"subtype\":\"ellipsoidal\",\"axis\":[{\"name\":\"Geodetic latitude\",\"abbreviation\":\"Lat\",\"direction\":\"north\",\"unit\":\"degree\"},{\"name\":\"Geodetic longitude\",\"abbreviation\":\"Lon\",\"direction\":\"east\",\"unit\":\"degree\"}]},\"id\":{\"authority\":\"EPSG\",\"code\":4258}},\"conversion\":{\"name\":\"Europe Equal Area 2001\",\"method\":{\"name\":\"Lambert Azimuthal Equal Area\",\"id\":{\"authority\":\"EPSG\",\"code\":9820}},\"parameters\":[{\"name\":\"Latitude of natural origin\",\"value\":52,\"unit\":\"degree\",\"id\":{\"authority\":\"EPSG\",\"code\":8801}},{\"name\":\"Longitude of natural origin\",\"value\":10,\"unit\":\"degree\",\"id\":{\"authority\":\"EPSG\",\"code\":8802}},{\"name\":\"False easting\",\"value\":4321000,\"unit\":\"metre\",\"id\":{\"authority\":\"EPSG\",\"code\":8806}},{\"name\":\"False northing\",\"value\":3210000,\"unit\":\"metre\",\"id\":{\"authority\":\"EPSG\",\"code\":8807}}]},\"coordinate_system\":{\"subtype\":\"Cartesian\",\"axis\":[{\"name\":\"Northing\",\"abbreviation\":\"Y\",\"direction\":\"north\",\"unit\":\"metre\"},{\"name\":\"Easting\",\"abbreviation\":\"X\",\"direction\":\"east\",\"unit\":\"metre\"}]},\"scope\":\"Statistical analysis.\",\"area\":\"Europe - European Union (EU) countries and candidates. Europe - onshore and offshore: Albania; Andorra; Austria; Belgium; Bosnia and Herzegovina; Bulgaria; Croatia; Cyprus; Czechia; Denmark; Estonia; Faroe Islands; Finland; France; Germany; Gibraltar; Greece; Hungary; Iceland; Ireland; Italy; Kosovo; Latvia; Liechtenstein; Lithuania; Luxembourg; Malta; Monaco; Montenegro; Netherlands; North Macedonia; Norway including Svalbard and Jan Mayen; Poland; Portugal including Madeira and Azores; Romania; San Marino; Serbia; Slovakia; Slovenia; Spain including Canary Islands; Sweden; Switzerland; Türkiye (Turkey); United Kingdom (UK) including Channel Islands and Isle of Man; Vatican City State.\",\"bbox\":{\"south_latitude\":24.6,\"west_longitude\":-35.58,\"north_latitude\":84.73,\"east_longitude\":44.83},\"id\":{\"authority\":\"EPSG\",\"code\":3035}}\n"
     ]
    }
   ],
   "source": [
    "from pyproj import CRS\n",
    "print(CRS.from_epsg(3035).to_json()) "
   ]
  },
  {
   "cell_type": "code",
   "execution_count": null,
   "metadata": {},
   "outputs": [
    {
     "name": "stdout",
     "output_type": "stream",
     "text": [
      "4531770\n"
     ]
    }
   ],
   "source": [
    "# ENCRYPTED\n",
    "# This cell is encrypted. Will be made public soon. Contact: sudheer.siddabattula@gmail.com for access/details\n",
    "\n",
    "LS0tLS1CRUdJTiBQR1AgTUVTU0FHRS0tLS0tCgp3Y0JNQTNPRWs1MWpOSTZhQVFmNkE1NWEzMTBnMVUxbWozdXYySytWc3UxczQvOUlncGFHVTVCRWdlL0NBRXFoCjJUMEVzVWw4YTRSamlFb1V5YzdwdElaQXBYeEcxVHJ4VEJzTE1wZ2x3SWVzMWV2dE1uNzYyelpweVUrMHU2ajEKN1d0YzJpVXIxeU9sbzNBS2F1ak0vVWtjL0tydGhFVks0RFRNSm9sUGZoSE9YNFZ3QVA2azVWWkZVSkZCVVdhYQpPakhGS1p5cjY1L2VIdlE2L1oxeWQ5eWN5TGZpcEFvU1pXWnQ1YkNENDEyNk1rRGxqUnhwYkFiSE1TZkRwZFNMCjlNd0wyS2VxOGxVelBjZ3ZTdkFEVDBoSUtwdHdVMGR2TzFTMVdDTEMrYkxOcFkwYVB1Y0FjblZBc2hoQWJaaVYKYVNhdTJXYlV3ajZpeUFZWXVIOEpGM2w2WmRSckVWcTNKd0VzY1M5eEp0TEFUUUgvSERXQ0hYNG40Y3hwZ3FMWAppb0lwVHh6UzhVak8vcjZMK2p4RFFYbDB0cTNxei93Nm5OcXQ1VE5xM2s5ZXJ0VDArVFZwelhMYW1qejFjMFdBCkluS2prOXZIVG5vSGtvbWZNeENSbU5OeHVpeHdrMVMreUFOaVFFRFQwLzhPZFc4cUFqVE1OR0swSDI3RGMwZGwKNVNsVzhTTnFndUt5TjNONEZ4MVhSMTUwUnlWQ0Z5S2o2NU1PNlNYNW9GL2Z6UnhaNlA4MkpBbFhTbVdWajZhUAppblZvOEFCSnVLOTZvczJRWG9rNjBWSUlQVzRza3k4YVBINUVBZis3eUdQT29BNnJzRTFFWXQzU3BRWlNnVHhkCjQ0UnA5WmxFN2hMcm5SSENzNjJmSVlQbXJlVG85MUNHMlYwb0k3cFVZSzFaSjN2c2pjT2xuTkJGRkVWK20xSjIKZXBzVEV4STR2VEVERFMvVnBJelgKPWNKL3IKLS0tLS1FTkQgUEdQIE1FU1NBR0UtLS0tLQo="
   ]
  },
  {
   "cell_type": "code",
   "execution_count": null,
   "metadata": {},
   "outputs": [],
   "source": [
    "# ENCRYPTED\n",
    "# This cell is encrypted. Will be made public soon. Contact: sudheer.siddabattula@gmail.com for access/details\n",
    "\n",
    "LS0tLS1CRUdJTiBQR1AgTUVTU0FHRS0tLS0tCgp3Y0JNQTNPRWs1MWpOSTZhQVFmK0wxTmVMelYyd0o2OVZPNXV3YU53U0Q4QnoyMFVEaGRzdmloT2dqSWR2KzdNClhxaHBoUFNSZzQveGMrNEdTcHpKb242L0l4L1E4OVk2SDNoOFNOMXpJN1NtdnYwMCtHcktaems4bXJiQmRaNk8KWERwU0NPUXYybVhNM1FLVEFpR1I0dFRUZWhOMW5qbGlhT2NvdzgrRDFncURYUnFKMjNGZUZyMjBDcEJ3OHZPYgpMNUlSZ0FNekpKTHBNdlVScksvNEl0VW1relVoZ2p2bzU0UFFlRlhpc2tNTHBHeU5ia0ZLdTRGR1lnZ1hVQnFNClNmSXhaYzBrSExhMDlQNUdZMUdmd0c3VWJEUDRMcDRMZEh5TUhJaGFuYXhGam5zMU5weXRpeS9QTzlSRFBIVW0KSFIwWlBOek9oMllSYk5qRU5UWlY4UEIrUUs0cEhGemZ3NUZSeW9jMm90TEJvZ0h3d1pPY1djRjNsWmNRUFhiagp4Vm8wYUdxeXNNY2kvWEpFbkdMUkJGYW9hMXF3dkxlVU1MWmJiMVlvWTEyU2I3ak9vWXgxRzFlbHJxbW9yWnNDCjZnS05ZVFlIbTJUbEd6MC8xclBPWjBicHJMZjJhcmhmc21kemFWSEM4c25Ra0x1QVpIOHVuT1pDWVNtNDVWM0IKeEJUNHFrRGdlT1VxL1MxZiswekdyYjMzRXBsQjdxVWt1UVY1M3MzU21ydnFuZlJobHUwWXBYNnNHa1JsbDk5aApsa0xmLzRvenpXM0dZVTRBeUJ4YWhqTTF2aEdVVWJocXNqVEtVc0xDaFJ2bFZwSmM0ZFpUdjI3cEl0OTB3djVxCkJvVFFpZVZ4ZFA3dll0UWtSNHgyYUpXeEhJL2EvZ0NjOGovQ0FMQnFTSGxsNitEU1RwK29mcmZ2aWtRSHhNSnkKNzhtNHFKMDN4bXB2Q0JqcnlYMnM5SjBRNEdCOVFHWnJ1NW00c1lFRmU1UkR5MS9TYzdZTzRGSkFGUjRBV1N0Ngo0Z3h5RkkrbDdzR25yZFVPSXBhTFRQQlpZMnlKTFZOSU1PS25VU1YxYktod3FYbE9RTEpJY1RwVWgzUVQ3ZWtkCnpsdnFHNU9kV1BzdmRZcHQ1RHZZU3RuMzlpNThYbnp2dTNNdEtWL252K29hYjdkVE9JWXJNK0NKSW9kTml6YXMKUG5tR3l6VGlJcXh2ZjBSNDdzNldGdEJRUldWeWI1dTEyakdBSW55b3JLa2ZibjdkeFJTTlBOYkZmeDJCNmRqVQpOTVhUeXRuTHJZeS9TTEdUYnR4MjI1NlptdVFoQnlqTCs3eDgyc3RJU2d3UVg4WWkxVFNGQ0p4dTdZSDRJcWxYCnp2K2ZJZXpqSlRKWWs5WW5TS1kxYXNsaGIrbzVTRlZERmpENWdSS25PRC9VYjhxRTdaNDBXTVRVU1poZ0hYUVgKalZoaXlFQVNSUnh1NUhCcmR6L2dFMFBsdFdjRDVXdmxRWTJlMjM1dFFWYnFQTWxlWFFXNS9HTVRIQzc3NzFaUApqOFZPUzFpVml6Mlh1aklIVDdxYVlkSWZWRWc9Cj0zei9BCi0tLS0tRU5EIFBHUCBNRVNTQUdFLS0tLS0K"
   ]
  },
  {
   "cell_type": "code",
   "execution_count": null,
   "metadata": {},
   "outputs": [
    {
     "name": "stderr",
     "output_type": "stream",
     "text": [
      "/data/homes_data/sudheer/benchmark_data/sedona_venv/lib/python3.12/site-packages/jupyter_client/session.py:721: UserWarning: Message serialization failed with:\n",
      "Out of range float values are not JSON compliant: nan\n",
      "Supporting this message is deprecated in jupyter-client 7, please make sure your message is JSON-compliant\n",
      "  content = self.pack(content)\n"
     ]
    },
    {
     "data": {
      "application/vnd.jupyter.widget-view+json": {
       "model_id": "cc76fdf26c8f4a20beab056580dd247c",
       "version_major": 2,
       "version_minor": 0
      },
      "text/plain": [
       "KeplerGl(config={'version': 'v1', 'config': {'visState': {'filters': [], 'layers': [{'id': '7f1zywf', 'type': …"
      ]
     },
     "execution_count": 34,
     "metadata": {},
     "output_type": "execute_result"
    }
   ],
   "source": [
    "map.add_data(\n",
    "    data=prep_for_map(df1, obj.crs, geom_col=\"geometry\"), \n",
    "    name=\"comune\"\n",
    "    )\n",
    "map"
   ]
  },
  {
   "cell_type": "code",
   "execution_count": 17,
   "metadata": {},
   "outputs": [
    {
     "name": "stdout",
     "output_type": "stream",
     "text": [
      "User Guide: https://docs.kepler.gl/docs/keplergl-jupyter\n"
     ]
    },
    {
     "data": {
      "application/vnd.jupyter.widget-view+json": {
       "model_id": "3d1da6fa92384e37ba4e1bd81d65337f",
       "version_major": 2,
       "version_minor": 0
      },
      "text/plain": [
       "KeplerGl(data={'temp': {'index': [0, 1, 2, 3, 4, 5, 6, 7, 8, 9, 10, 11, 12, 13, 14, 15, 16, 17, 18, 19, 20, 21…"
      ]
     },
     "execution_count": 17,
     "metadata": {},
     "output_type": "execute_result"
    }
   ],
   "source": [
    "# ENCRYPTED\n",
    "# This cell is encrypted. Will be made public soon. Contact: sudheer.siddabattula@gmail.com for access/details\n",
    "\n",
    "LS0tLS1CRUdJTiBQR1AgTUVTU0FHRS0tLS0tCgp3Y0JNQTNPRWs1MWpOSTZhQVFmK0tOWDFzV3N4WGh2dVBaL1JhMTBacTdnNWNvYUVscTlhYTFKazRFZFJXLzR1CnhGblhMRWV3L0UvbTh3dFBCSXZReU14TmF3cmdmR08ySnRlTU9EMlV2VmpHVlRaVG1HWGRHL3VDUm9WZ0JaUHEKazZ4WXNvUzRGZEh1WGlIdWdSdDA2SzdYNkRLUGN4SVJ0MGFFWm42RzdjK2oxYVVFUGlodGFVeUU5NmxURU1nNwozWWp1WDEvS1BEa3N3bjVEalREdGR4ZUFpWEpsQmlpNXY5clJabjV6VDJXcHhXaG14VlhsRzdsTUZySzFqODh4CnlMNk9TVmkvQ3pYU0gzTm5rREttRXZmdmRXQUJpSDhrc1NXVjNvYnJBUE5iSE1zeXJwbWJTN3cxdzBvYlB6cGYKSUg3NmVaeU9YY1c3YStaMzc2WkQxZjQ3RXU2WjAvVlFoeHI2bWxPU2c5TEFCUUVZVjliQkpzT3FwVzBNdUlYQgp4QzJXWUd4aDBEaXZZUmdWMHZsdDVmNUhxUkhVb1NrakJUV05TMm5rVlJHWHJVZG5yUnRyYWc3SVJOSUV0V2RSCkx0cTd1NUVDRElVcytJanhZWmREeUpqaFgrNzJvZStGbU1SNERZUWFMVjRKUDJnbmY0S0c0VFJEa3k4c0QwLzAKTElGaHExK2xwTXlDVEkxSXVyQkVjRjFURlJzRW8rOStOODByYUZ1UzNpYkhoNVpOUmo5NHo3VnlCY1hkNXJVdApkK3k3bmlJVkZZNlhwZlZNUnBEM1RlV0ZqU3RObXhYVFlsM1lBZ1d3eWx0V2EvQnVNd1F3Cj1oYWNpCi0tLS0tRU5EIFBHUCBNRVNTQUdFLS0tLS0K"
   ]
  },
  {
   "cell_type": "code",
   "execution_count": null,
   "metadata": {},
   "outputs": [],
   "source": [
    "# ENCRYPTED\n",
    "# This cell is encrypted. Will be made public soon. Contact: sudheer.siddabattula@gmail.com for access/details\n",
    "\n",
    "LS0tLS1CRUdJTiBQR1AgTUVTU0FHRS0tLS0tCgp3Y0JNQTNPRWs1MWpOSTZhQVFmK1BXc29MTUZlT21CakVPYWRjeHZmclZvTENIaE52a0NDQUo0NWNPcDhVaGYrCmpKME9CWnNtQmFpVEVRc0VsVFh6N1dPU0ZkQkhKOHI4bkhRNHZIZ2ljdGJ5bVRFd0dOQkVuTzlOdmFWWnlQQUIKUy9PVkRScHdVS3ExQzJndW9raXNmU1FqclIxY1d3Qk1jdyt2QU5DREl4SU5TbG1ETDAxL1FjTGp2ZUV4aE5TNwp4dVN2T0hyWWNGYzVzeGw1K1dtSDlXaU93Zmt4WkRjMjd6QmhGTG5XQWJOVkZFZS83dytJRDR4VVVrNFJRMmVGClNrZkYrUEN1QnM4bUhkOW85WDhab1J0QXJyQ3JuNk1iSWw3eE5NNnNJUzdPOWdkdUVJUUYxMktQbmpKSVZwcUsKbEFOdHFSUTErM0cyS3lReVFueXRXUFBtOW1QWjhPbWw2SjNPSURzbTM5TEJDZ0h4Q05QTmlWQ0U4em9ldGlKaQpmaHYwYWhoVVNoc1QvQUY4a2l3Y2FwbkhqU1JOV3ZNeTU0c1RrNkRSc2prVDJIUjhnZUhjWWNxVzhtTGxhWVpnCmwrYUwxbUhKRmdtVVN5SFl5Qmk0WHJES1BBYkFDaWdBU21vVUNLb05JaTR1VVJyOE9URWpJTW5QZVB1RjBsdGcKRDNlU1BTL0x2Y2Z3N2RKRUJiODFQQmF3eGVpYnozUWpRRDFaS0g3V2piRWtsc010L3lQWlA3TzNCS0ZNSEFMdQpFdCs5bi9CUndqOVlJWXRKVVFrKzBFMWJ1dGZxYm40Q0NESDVyU29NMTBRQ3RDTXEyOTFSeDlCdEhXU05VY3EwCldXNkFZOTRLS09tc1ovQkVnQ3JSQmVHQ2xDVWJLNzNyUDZTZkxhZExLdVM3RGY1amZLeDdBU0FGR1h5SjZhYm0KS2g3VCtZdGt3Q3lETEtBTk4vSVJsNUlneFdsYnEyZURCbHdPOHRMYzlXNjJmTkFLOWVEOW5kb012NExYZStZTgo0RzdmaHhDT1lSNWdYWVRhSEpMbloweEFlWlExQk1vVHVaWGpDT1NtTVBMV1paN3RtS3haeXkxbTRaaWdYR3IvCk9RVlFXNXhFaU9DQUVwaU5zWk9XcEFjbFdNaEtuTHdBRVI1ZWxocEdtVVRLa1owakFvNzZuT1VRQVp1Yy9NcDUKcWhSbUNWMWZMY3JKZXI4YjBBOVdDNVYvZ2ZIV2loT1Rxdzh0eUNWVUVTNUpIdnBQbWhQdFJqcUwxbjJkNnUzdgpQSFZjYm9KQVpjMzZoQmdlCj1GeGNDCi0tLS0tRU5EIFBHUCBNRVNTQUdFLS0tLS0K"
   ]
  },
  {
   "cell_type": "code",
   "execution_count": null,
   "metadata": {},
   "outputs": [],
   "source": []
  },
  {
   "cell_type": "code",
   "execution_count": null,
   "metadata": {},
   "outputs": [],
   "source": []
  },
  {
   "cell_type": "code",
   "execution_count": null,
   "metadata": {},
   "outputs": [],
   "source": []
  },
  {
   "cell_type": "code",
   "execution_count": null,
   "metadata": {},
   "outputs": [],
   "source": [
    "# import geopandas as gpd\n",
    "\n",
    "# path = \"./data/pickle_parquets/others/grids_new_X_comuni_EU\"\n",
    "\n",
    "# gdf = gpd.read_parquet(path)\n",
    "\n",
    "# crs = gdf.crs\n",
    "\n",
    "# if crs:\n",
    "#     print(f\"The CRS of the GeoParquet file is: {crs}\")\n",
    "# else:\n",
    "#     print(\"The CRS of the GeoParquet file is undefined.\")\n",
    "    \n",
    "# if crs:\n",
    "#     formatted_crs = CRS(crs)  \n",
    "#     print(f\"CRS: {formatted_crs.to_string()}\") \n",
    "#     print(f\"EPSG Code: {formatted_crs.to_epsg()}\")  \n",
    "#     print(f\"PROJ String: {formatted_crs.to_proj4()}\")  \n",
    "#     print(f\"WKT Format: {formatted_crs.to_wkt()}\")  \n",
    "# else:\n",
    "#     print(\"The CRS of the GeoParquet file is undefined.\")"
   ]
  }
 ],
 "metadata": {
  "kernelspec": {
   "display_name": "sedona_venv",
   "language": "python",
   "name": "python3"
  },
  "language_info": {
   "codemirror_mode": {
    "name": "ipython",
    "version": 3
   },
   "file_extension": ".py",
   "mimetype": "text/x-python",
   "name": "python",
   "nbconvert_exporter": "python",
   "pygments_lexer": "ipython3",
   "version": "3.12.3"
  }
 },
 "nbformat": 4,
 "nbformat_minor": 4
}
