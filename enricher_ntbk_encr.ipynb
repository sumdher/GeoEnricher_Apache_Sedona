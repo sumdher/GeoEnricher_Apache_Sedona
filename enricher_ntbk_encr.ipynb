{
 "cells": [
  {
   "cell_type": "code",
   "execution_count": null,
   "metadata": {},
   "outputs": [],
   "source": [
    "# This is encypted content. \n",
    "# Contact me: \"sudheer.siddabattula@gmail.com\" for details/access.\n",
    "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"
   ]
  },
  {
   "cell_type": "code",
   "execution_count": 2,
   "metadata": {},
   "outputs": [
    {
     "name": "stderr",
     "output_type": "stream",
     "text": [
      "25/02/21 17:59:29 WARN Utils: Your hostname, marvin resolves to a loopback address: 127.0.1.1; using 172.20.27.4 instead (on interface eth0)\n",
      "25/02/21 17:59:29 WARN Utils: Set SPARK_LOCAL_IP if you need to bind to another address\n",
      "Setting default log level to \"WARN\".\n",
      "To adjust logging level use sc.setLogLevel(newLevel). For SparkR, use setLogLevel(newLevel).\n",
      "25/02/21 17:59:30 WARN NativeCodeLoader: Unable to load native-hadoop library for your platform... using builtin-java classes where applicable\n",
      "25/02/21 17:59:37 ERROR TorrentBroadcast: Store broadcast broadcast_0 fail, remove all pieces of the broadcast\n"
     ]
    },
    {
     "ename": "Py4JJavaError",
     "evalue": "An error occurred while calling o32.count.\n: org.apache.spark.SparkException: Job aborted due to stage failure: Task serialization failed: org.apache.spark.SparkException: Failed to register classes with Kryo\norg.apache.spark.SparkException: Failed to register classes with Kryo\n\tat org.apache.spark.serializer.KryoSerializer.$anonfun$newKryo$5(KryoSerializer.scala:186)\n\tat scala.runtime.java8.JFunction0$mcV$sp.apply(JFunction0$mcV$sp.java:23)\n\tat org.apache.spark.util.Utils$.withContextClassLoader(Utils.scala:178)\n\tat org.apache.spark.serializer.KryoSerializer.newKryo(KryoSerializer.scala:174)\n\tat org.apache.spark.serializer.KryoSerializer$$anon$1.create(KryoSerializer.scala:105)\n\tat com.esotericsoftware.kryo.pool.KryoPoolQueueImpl.borrow(KryoPoolQueueImpl.java:48)\n\tat org.apache.spark.serializer.KryoSerializer$PoolWrapper.borrow(KryoSerializer.scala:112)\n\tat org.apache.spark.serializer.KryoSerializerInstance.borrowKryo(KryoSerializer.scala:401)\n\tat org.apache.spark.serializer.KryoSerializationStream.<init>(KryoSerializer.scala:275)\n\tat org.apache.spark.serializer.KryoSerializerInstance.serializeStream(KryoSerializer.scala:487)\n\tat org.apache.spark.broadcast.TorrentBroadcast$.blockifyObject(TorrentBroadcast.scala:363)\n\tat org.apache.spark.broadcast.TorrentBroadcast.writeBlocks(TorrentBroadcast.scala:161)\n\tat org.apache.spark.broadcast.TorrentBroadcast.<init>(TorrentBroadcast.scala:99)\n\tat org.apache.spark.broadcast.TorrentBroadcastFactory.newBroadcast(TorrentBroadcastFactory.scala:38)\n\tat org.apache.spark.broadcast.BroadcastManager.newBroadcast(BroadcastManager.scala:78)\n\tat org.apache.spark.SparkContext.broadcastInternal(SparkContext.scala:1657)\n\tat org.apache.spark.SparkContext.broadcast(SparkContext.scala:1639)\n\tat org.apache.spark.scheduler.DAGScheduler.submitMissingTasks(DAGScheduler.scala:1585)\n\tat org.apache.spark.scheduler.DAGScheduler.submitStage(DAGScheduler.scala:1402)\n\tat org.apache.spark.scheduler.DAGScheduler.handleMapStageSubmitted(DAGScheduler.scala:1377)\n\tat org.apache.spark.scheduler.DAGSchedulerEventProcessLoop.doOnReceive(DAGScheduler.scala:3007)\n\tat org.apache.spark.scheduler.DAGSchedulerEventProcessLoop.onReceive(DAGScheduler.scala:2994)\n\tat org.apache.spark.scheduler.DAGSchedulerEventProcessLoop.onReceive(DAGScheduler.scala:2983)\n\tat org.apache.spark.util.EventLoop$$anon$1.run(EventLoop.scala:49)\nCaused by: java.lang.ClassNotFoundException: org.apache.sedona.core.serde.SedonaKryoRegistrator\n\tat java.net.URLClassLoader.findClass(URLClassLoader.java:382)\n\tat java.lang.ClassLoader.loadClass(ClassLoader.java:424)\n\tat java.lang.ClassLoader.loadClass(ClassLoader.java:357)\n\tat java.lang.Class.forName0(Native Method)\n\tat java.lang.Class.forName(Class.java:348)\n\tat org.apache.spark.util.SparkClassUtils.classForName(SparkClassUtils.scala:43)\n\tat org.apache.spark.util.SparkClassUtils.classForName$(SparkClassUtils.scala:36)\n\tat org.apache.spark.util.Utils$.classForName(Utils.scala:94)\n\tat org.apache.spark.serializer.KryoSerializer.$anonfun$newKryo$7(KryoSerializer.scala:181)\n\tat scala.collection.TraversableLike.$anonfun$map$1(TraversableLike.scala:286)\n\tat scala.collection.mutable.ResizableArray.foreach(ResizableArray.scala:62)\n\tat scala.collection.mutable.ResizableArray.foreach$(ResizableArray.scala:55)\n\tat scala.collection.mutable.ArrayBuffer.foreach(ArrayBuffer.scala:49)\n\tat scala.collection.TraversableLike.map(TraversableLike.scala:286)\n\tat scala.collection.TraversableLike.map$(TraversableLike.scala:279)\n\tat scala.collection.AbstractTraversable.map(Traversable.scala:108)\n\tat org.apache.spark.serializer.KryoSerializer.$anonfun$newKryo$5(KryoSerializer.scala:181)\n\t... 23 more\n\n\tat org.apache.spark.scheduler.DAGScheduler.failJobAndIndependentStages(DAGScheduler.scala:2856)\n\tat org.apache.spark.scheduler.DAGScheduler.$anonfun$abortStage$2(DAGScheduler.scala:2792)\n\tat org.apache.spark.scheduler.DAGScheduler.$anonfun$abortStage$2$adapted(DAGScheduler.scala:2791)\n\tat scala.collection.mutable.ResizableArray.foreach(ResizableArray.scala:62)\n\tat scala.collection.mutable.ResizableArray.foreach$(ResizableArray.scala:55)\n\tat scala.collection.mutable.ArrayBuffer.foreach(ArrayBuffer.scala:49)\n\tat org.apache.spark.scheduler.DAGScheduler.abortStage(DAGScheduler.scala:2791)\n\tat org.apache.spark.scheduler.DAGScheduler.submitMissingTasks(DAGScheduler.scala:1595)\n\tat org.apache.spark.scheduler.DAGScheduler.submitStage(DAGScheduler.scala:1402)\n\tat org.apache.spark.scheduler.DAGScheduler.handleMapStageSubmitted(DAGScheduler.scala:1377)\n\tat org.apache.spark.scheduler.DAGSchedulerEventProcessLoop.doOnReceive(DAGScheduler.scala:3007)\n\tat org.apache.spark.scheduler.DAGSchedulerEventProcessLoop.onReceive(DAGScheduler.scala:2994)\n\tat org.apache.spark.scheduler.DAGSchedulerEventProcessLoop.onReceive(DAGScheduler.scala:2983)\n\tat org.apache.spark.util.EventLoop$$anon$1.run(EventLoop.scala:49)\nCaused by: org.apache.spark.SparkException: Failed to register classes with Kryo\n\tat org.apache.spark.serializer.KryoSerializer.$anonfun$newKryo$5(KryoSerializer.scala:186)\n\tat scala.runtime.java8.JFunction0$mcV$sp.apply(JFunction0$mcV$sp.java:23)\n\tat org.apache.spark.util.Utils$.withContextClassLoader(Utils.scala:178)\n\tat org.apache.spark.serializer.KryoSerializer.newKryo(KryoSerializer.scala:174)\n\tat org.apache.spark.serializer.KryoSerializer$$anon$1.create(KryoSerializer.scala:105)\n\tat com.esotericsoftware.kryo.pool.KryoPoolQueueImpl.borrow(KryoPoolQueueImpl.java:48)\n\tat org.apache.spark.serializer.KryoSerializer$PoolWrapper.borrow(KryoSerializer.scala:112)\n\tat org.apache.spark.serializer.KryoSerializerInstance.borrowKryo(KryoSerializer.scala:401)\n\tat org.apache.spark.serializer.KryoSerializationStream.<init>(KryoSerializer.scala:275)\n\tat org.apache.spark.serializer.KryoSerializerInstance.serializeStream(KryoSerializer.scala:487)\n\tat org.apache.spark.broadcast.TorrentBroadcast$.blockifyObject(TorrentBroadcast.scala:363)\n\tat org.apache.spark.broadcast.TorrentBroadcast.writeBlocks(TorrentBroadcast.scala:161)\n\tat org.apache.spark.broadcast.TorrentBroadcast.<init>(TorrentBroadcast.scala:99)\n\tat org.apache.spark.broadcast.TorrentBroadcastFactory.newBroadcast(TorrentBroadcastFactory.scala:38)\n\tat org.apache.spark.broadcast.BroadcastManager.newBroadcast(BroadcastManager.scala:78)\n\tat org.apache.spark.SparkContext.broadcastInternal(SparkContext.scala:1657)\n\tat org.apache.spark.SparkContext.broadcast(SparkContext.scala:1639)\n\tat org.apache.spark.scheduler.DAGScheduler.submitMissingTasks(DAGScheduler.scala:1585)\n\t... 6 more\nCaused by: java.lang.ClassNotFoundException: org.apache.sedona.core.serde.SedonaKryoRegistrator\n\tat java.net.URLClassLoader.findClass(URLClassLoader.java:382)\n\tat java.lang.ClassLoader.loadClass(ClassLoader.java:424)\n\tat java.lang.ClassLoader.loadClass(ClassLoader.java:357)\n\tat java.lang.Class.forName0(Native Method)\n\tat java.lang.Class.forName(Class.java:348)\n\tat org.apache.spark.util.SparkClassUtils.classForName(SparkClassUtils.scala:43)\n\tat org.apache.spark.util.SparkClassUtils.classForName$(SparkClassUtils.scala:36)\n\tat org.apache.spark.util.Utils$.classForName(Utils.scala:94)\n\tat org.apache.spark.serializer.KryoSerializer.$anonfun$newKryo$7(KryoSerializer.scala:181)\n\tat scala.collection.TraversableLike.$anonfun$map$1(TraversableLike.scala:286)\n\tat scala.collection.mutable.ResizableArray.foreach(ResizableArray.scala:62)\n\tat scala.collection.mutable.ResizableArray.foreach$(ResizableArray.scala:55)\n\tat scala.collection.mutable.ArrayBuffer.foreach(ArrayBuffer.scala:49)\n\tat scala.collection.TraversableLike.map(TraversableLike.scala:286)\n\tat scala.collection.TraversableLike.map$(TraversableLike.scala:279)\n\tat scala.collection.AbstractTraversable.map(Traversable.scala:108)\n\tat org.apache.spark.serializer.KryoSerializer.$anonfun$newKryo$5(KryoSerializer.scala:181)\n\t... 23 more\n",
     "output_type": "error",
     "traceback": [
      "\u001b[0;31m---------------------------------------------------------------------------\u001b[0m",
      "\u001b[0;31mPy4JJavaError\u001b[0m                             Traceback (most recent call last)",
      "Cell \u001b[0;32mIn[2], line 2\u001b[0m\n\u001b[1;32m      1\u001b[0m obj \u001b[38;5;241m=\u001b[39m Enricher(crs\u001b[38;5;241m=\u001b[39m\u001b[38;5;124m\"\u001b[39m\u001b[38;5;124mEPSG:3035\u001b[39m\u001b[38;5;124m\"\u001b[39m)\n\u001b[0;32m----> 2\u001b[0m \u001b[43mobj\u001b[49m\u001b[38;5;241;43m.\u001b[39;49m\u001b[43msetup_cluster\u001b[49m\u001b[43m(\u001b[49m\u001b[43m)\u001b[49m\n",
      "Cell \u001b[0;32mIn[1], line 49\u001b[0m, in \u001b[0;36mEnricher.setup_cluster\u001b[0;34m(self, which, ex_mem, dr_mem, log_level)\u001b[0m\n\u001b[1;32m     37\u001b[0m \u001b[38;5;28;01mif\u001b[39;00m which \u001b[38;5;241m==\u001b[39m \u001b[38;5;124m\"\u001b[39m\u001b[38;5;124mwherobots\u001b[39m\u001b[38;5;124m\"\u001b[39m:\n\u001b[1;32m     38\u001b[0m     \u001b[38;5;66;03m# config = SedonaContext.builder(). \\\u001b[39;00m\n\u001b[1;32m     39\u001b[0m     \u001b[38;5;66;03m#     config(\"spark.hadoop.fs.s3a.bucket.wherobots-examples.aws.credentials.provider\",\u001b[39;00m\n\u001b[1;32m     40\u001b[0m     \u001b[38;5;66;03m#         \"org.apache.hadoop.fs.s3a.AnonymousAWSCredentialsProvider\"). \\\u001b[39;00m\n\u001b[1;32m     41\u001b[0m     \u001b[38;5;66;03m#     getOrCreate()\u001b[39;00m\n\u001b[1;32m     42\u001b[0m     config \u001b[38;5;241m=\u001b[39m SedonaContext\u001b[38;5;241m.\u001b[39mbuilder() \\\n\u001b[1;32m     43\u001b[0m         \u001b[38;5;241m.\u001b[39mconfig(\u001b[38;5;124m\"\u001b[39m\u001b[38;5;124mspark.serializer\u001b[39m\u001b[38;5;124m\"\u001b[39m, \u001b[38;5;124m\"\u001b[39m\u001b[38;5;124morg.apache.spark.serializer.KryoSerializer\u001b[39m\u001b[38;5;124m\"\u001b[39m) \\\n\u001b[1;32m     44\u001b[0m         \u001b[38;5;241m.\u001b[39mconfig(\u001b[38;5;124m\"\u001b[39m\u001b[38;5;124mspark.kryo.registrator\u001b[39m\u001b[38;5;124m\"\u001b[39m, \u001b[38;5;124m\"\u001b[39m\u001b[38;5;124morg.apache.sedona.core.serde.SedonaKryoRegistrator\u001b[39m\u001b[38;5;124m\"\u001b[39m) \\\n\u001b[1;32m     45\u001b[0m         \u001b[38;5;241m.\u001b[39mconfig(\u001b[38;5;124m\"\u001b[39m\u001b[38;5;124mspark.hadoop.fs.s3a.bucket.wherobots-examples.aws.credentials.provider\u001b[39m\u001b[38;5;124m\"\u001b[39m,\n\u001b[1;32m     46\u001b[0m                 \u001b[38;5;124m\"\u001b[39m\u001b[38;5;124morg.apache.hadoop.fs.s3a.AnonymousAWSCredentialsProvider\u001b[39m\u001b[38;5;124m\"\u001b[39m) \\\n\u001b[1;32m     47\u001b[0m         \u001b[38;5;241m.\u001b[39mgetOrCreate()\n\u001b[0;32m---> 49\u001b[0m     sedona \u001b[38;5;241m=\u001b[39m \u001b[43mSedonaContext\u001b[49m\u001b[38;5;241;43m.\u001b[39;49m\u001b[43mcreate\u001b[49m\u001b[43m(\u001b[49m\u001b[43mconfig\u001b[49m\u001b[43m)\u001b[49m\n\u001b[1;32m     50\u001b[0m     \u001b[38;5;28mself\u001b[39m\u001b[38;5;241m.\u001b[39msedona \u001b[38;5;241m=\u001b[39m SedonaContext\u001b[38;5;241m.\u001b[39mcreate(config)\n\u001b[1;32m     52\u001b[0m     \u001b[38;5;28mself\u001b[39m\u001b[38;5;241m.\u001b[39mcores \u001b[38;5;241m=\u001b[39m \u001b[38;5;28mself\u001b[39m\u001b[38;5;241m.\u001b[39msedona\u001b[38;5;241m.\u001b[39msparkContext\u001b[38;5;241m.\u001b[39mdefaultParallelism\n",
      "File \u001b[0;32m~/benchmark_data/sedona_venv/lib/python3.12/site-packages/sedona/spark/SedonaContext.py:43\u001b[0m, in \u001b[0;36mSedonaContext.create\u001b[0;34m(cls, spark)\u001b[0m\n\u001b[1;32m     34\u001b[0m \u001b[38;5;129m@classmethod\u001b[39m\n\u001b[1;32m     35\u001b[0m \u001b[38;5;28;01mdef\u001b[39;00m\u001b[38;5;250m \u001b[39m\u001b[38;5;21mcreate\u001b[39m(\u001b[38;5;28mcls\u001b[39m, spark: SparkSession) \u001b[38;5;241m-\u001b[39m\u001b[38;5;241m>\u001b[39m SparkSession:\n\u001b[1;32m     36\u001b[0m \u001b[38;5;250m    \u001b[39m\u001b[38;5;124;03m\"\"\"\u001b[39;00m\n\u001b[1;32m     37\u001b[0m \u001b[38;5;124;03m    This is the core of whole package, It uses py4j to run wrapper which takes existing SparkSession\u001b[39;00m\n\u001b[1;32m     38\u001b[0m \u001b[38;5;124;03m    and register the core logics of Apache Sedona, for this SparkSession.\u001b[39;00m\n\u001b[0;32m   (...)\u001b[0m\n\u001b[1;32m     41\u001b[0m \u001b[38;5;124;03m    :return: SedonaContext which is an instance of SparkSession\u001b[39;00m\n\u001b[1;32m     42\u001b[0m \u001b[38;5;124;03m    \"\"\"\u001b[39;00m\n\u001b[0;32m---> 43\u001b[0m     \u001b[43mspark\u001b[49m\u001b[38;5;241;43m.\u001b[39;49m\u001b[43msql\u001b[49m\u001b[43m(\u001b[49m\u001b[38;5;124;43m\"\u001b[39;49m\u001b[38;5;124;43mSELECT 1 as geom\u001b[39;49m\u001b[38;5;124;43m\"\u001b[39;49m\u001b[43m)\u001b[49m\u001b[38;5;241;43m.\u001b[39;49m\u001b[43mcount\u001b[49m\u001b[43m(\u001b[49m\u001b[43m)\u001b[49m\n\u001b[1;32m     45\u001b[0m     \u001b[38;5;66;03m# with Spark Connect there is no local JVM\u001b[39;00m\n\u001b[1;32m     46\u001b[0m     \u001b[38;5;28;01mif\u001b[39;00m \u001b[38;5;129;01mnot\u001b[39;00m is_remote():\n",
      "File \u001b[0;32m~/benchmark_data/sedona_venv/lib/python3.12/site-packages/pyspark/sql/dataframe.py:1240\u001b[0m, in \u001b[0;36mDataFrame.count\u001b[0;34m(self)\u001b[0m\n\u001b[1;32m   1217\u001b[0m \u001b[38;5;28;01mdef\u001b[39;00m\u001b[38;5;250m \u001b[39m\u001b[38;5;21mcount\u001b[39m(\u001b[38;5;28mself\u001b[39m) \u001b[38;5;241m-\u001b[39m\u001b[38;5;241m>\u001b[39m \u001b[38;5;28mint\u001b[39m:\n\u001b[1;32m   1218\u001b[0m \u001b[38;5;250m    \u001b[39m\u001b[38;5;124;03m\"\"\"Returns the number of rows in this :class:`DataFrame`.\u001b[39;00m\n\u001b[1;32m   1219\u001b[0m \n\u001b[1;32m   1220\u001b[0m \u001b[38;5;124;03m    .. versionadded:: 1.3.0\u001b[39;00m\n\u001b[0;32m   (...)\u001b[0m\n\u001b[1;32m   1238\u001b[0m \u001b[38;5;124;03m    3\u001b[39;00m\n\u001b[1;32m   1239\u001b[0m \u001b[38;5;124;03m    \"\"\"\u001b[39;00m\n\u001b[0;32m-> 1240\u001b[0m     \u001b[38;5;28;01mreturn\u001b[39;00m \u001b[38;5;28mint\u001b[39m(\u001b[38;5;28;43mself\u001b[39;49m\u001b[38;5;241;43m.\u001b[39;49m\u001b[43m_jdf\u001b[49m\u001b[38;5;241;43m.\u001b[39;49m\u001b[43mcount\u001b[49m\u001b[43m(\u001b[49m\u001b[43m)\u001b[49m)\n",
      "File \u001b[0;32m~/benchmark_data/sedona_venv/lib/python3.12/site-packages/py4j/java_gateway.py:1322\u001b[0m, in \u001b[0;36mJavaMember.__call__\u001b[0;34m(self, *args)\u001b[0m\n\u001b[1;32m   1316\u001b[0m command \u001b[38;5;241m=\u001b[39m proto\u001b[38;5;241m.\u001b[39mCALL_COMMAND_NAME \u001b[38;5;241m+\u001b[39m\\\n\u001b[1;32m   1317\u001b[0m     \u001b[38;5;28mself\u001b[39m\u001b[38;5;241m.\u001b[39mcommand_header \u001b[38;5;241m+\u001b[39m\\\n\u001b[1;32m   1318\u001b[0m     args_command \u001b[38;5;241m+\u001b[39m\\\n\u001b[1;32m   1319\u001b[0m     proto\u001b[38;5;241m.\u001b[39mEND_COMMAND_PART\n\u001b[1;32m   1321\u001b[0m answer \u001b[38;5;241m=\u001b[39m \u001b[38;5;28mself\u001b[39m\u001b[38;5;241m.\u001b[39mgateway_client\u001b[38;5;241m.\u001b[39msend_command(command)\n\u001b[0;32m-> 1322\u001b[0m return_value \u001b[38;5;241m=\u001b[39m \u001b[43mget_return_value\u001b[49m\u001b[43m(\u001b[49m\n\u001b[1;32m   1323\u001b[0m \u001b[43m    \u001b[49m\u001b[43manswer\u001b[49m\u001b[43m,\u001b[49m\u001b[43m \u001b[49m\u001b[38;5;28;43mself\u001b[39;49m\u001b[38;5;241;43m.\u001b[39;49m\u001b[43mgateway_client\u001b[49m\u001b[43m,\u001b[49m\u001b[43m \u001b[49m\u001b[38;5;28;43mself\u001b[39;49m\u001b[38;5;241;43m.\u001b[39;49m\u001b[43mtarget_id\u001b[49m\u001b[43m,\u001b[49m\u001b[43m \u001b[49m\u001b[38;5;28;43mself\u001b[39;49m\u001b[38;5;241;43m.\u001b[39;49m\u001b[43mname\u001b[49m\u001b[43m)\u001b[49m\n\u001b[1;32m   1325\u001b[0m \u001b[38;5;28;01mfor\u001b[39;00m temp_arg \u001b[38;5;129;01min\u001b[39;00m temp_args:\n\u001b[1;32m   1326\u001b[0m     \u001b[38;5;28;01mif\u001b[39;00m \u001b[38;5;28mhasattr\u001b[39m(temp_arg, \u001b[38;5;124m\"\u001b[39m\u001b[38;5;124m_detach\u001b[39m\u001b[38;5;124m\"\u001b[39m):\n",
      "File \u001b[0;32m~/benchmark_data/sedona_venv/lib/python3.12/site-packages/pyspark/errors/exceptions/captured.py:179\u001b[0m, in \u001b[0;36mcapture_sql_exception.<locals>.deco\u001b[0;34m(*a, **kw)\u001b[0m\n\u001b[1;32m    177\u001b[0m \u001b[38;5;28;01mdef\u001b[39;00m\u001b[38;5;250m \u001b[39m\u001b[38;5;21mdeco\u001b[39m(\u001b[38;5;241m*\u001b[39ma: Any, \u001b[38;5;241m*\u001b[39m\u001b[38;5;241m*\u001b[39mkw: Any) \u001b[38;5;241m-\u001b[39m\u001b[38;5;241m>\u001b[39m Any:\n\u001b[1;32m    178\u001b[0m     \u001b[38;5;28;01mtry\u001b[39;00m:\n\u001b[0;32m--> 179\u001b[0m         \u001b[38;5;28;01mreturn\u001b[39;00m \u001b[43mf\u001b[49m\u001b[43m(\u001b[49m\u001b[38;5;241;43m*\u001b[39;49m\u001b[43ma\u001b[49m\u001b[43m,\u001b[49m\u001b[43m \u001b[49m\u001b[38;5;241;43m*\u001b[39;49m\u001b[38;5;241;43m*\u001b[39;49m\u001b[43mkw\u001b[49m\u001b[43m)\u001b[49m\n\u001b[1;32m    180\u001b[0m     \u001b[38;5;28;01mexcept\u001b[39;00m Py4JJavaError \u001b[38;5;28;01mas\u001b[39;00m e:\n\u001b[1;32m    181\u001b[0m         converted \u001b[38;5;241m=\u001b[39m convert_exception(e\u001b[38;5;241m.\u001b[39mjava_exception)\n",
      "File \u001b[0;32m~/benchmark_data/sedona_venv/lib/python3.12/site-packages/py4j/protocol.py:326\u001b[0m, in \u001b[0;36mget_return_value\u001b[0;34m(answer, gateway_client, target_id, name)\u001b[0m\n\u001b[1;32m    324\u001b[0m value \u001b[38;5;241m=\u001b[39m OUTPUT_CONVERTER[\u001b[38;5;28mtype\u001b[39m](answer[\u001b[38;5;241m2\u001b[39m:], gateway_client)\n\u001b[1;32m    325\u001b[0m \u001b[38;5;28;01mif\u001b[39;00m answer[\u001b[38;5;241m1\u001b[39m] \u001b[38;5;241m==\u001b[39m REFERENCE_TYPE:\n\u001b[0;32m--> 326\u001b[0m     \u001b[38;5;28;01mraise\u001b[39;00m Py4JJavaError(\n\u001b[1;32m    327\u001b[0m         \u001b[38;5;124m\"\u001b[39m\u001b[38;5;124mAn error occurred while calling \u001b[39m\u001b[38;5;132;01m{0}\u001b[39;00m\u001b[38;5;132;01m{1}\u001b[39;00m\u001b[38;5;132;01m{2}\u001b[39;00m\u001b[38;5;124m.\u001b[39m\u001b[38;5;130;01m\\n\u001b[39;00m\u001b[38;5;124m\"\u001b[39m\u001b[38;5;241m.\u001b[39m\n\u001b[1;32m    328\u001b[0m         \u001b[38;5;28mformat\u001b[39m(target_id, \u001b[38;5;124m\"\u001b[39m\u001b[38;5;124m.\u001b[39m\u001b[38;5;124m\"\u001b[39m, name), value)\n\u001b[1;32m    329\u001b[0m \u001b[38;5;28;01melse\u001b[39;00m:\n\u001b[1;32m    330\u001b[0m     \u001b[38;5;28;01mraise\u001b[39;00m Py4JError(\n\u001b[1;32m    331\u001b[0m         \u001b[38;5;124m\"\u001b[39m\u001b[38;5;124mAn error occurred while calling \u001b[39m\u001b[38;5;132;01m{0}\u001b[39;00m\u001b[38;5;132;01m{1}\u001b[39;00m\u001b[38;5;132;01m{2}\u001b[39;00m\u001b[38;5;124m. Trace:\u001b[39m\u001b[38;5;130;01m\\n\u001b[39;00m\u001b[38;5;132;01m{3}\u001b[39;00m\u001b[38;5;130;01m\\n\u001b[39;00m\u001b[38;5;124m\"\u001b[39m\u001b[38;5;241m.\u001b[39m\n\u001b[1;32m    332\u001b[0m         \u001b[38;5;28mformat\u001b[39m(target_id, \u001b[38;5;124m\"\u001b[39m\u001b[38;5;124m.\u001b[39m\u001b[38;5;124m\"\u001b[39m, name, value))\n",
      "\u001b[0;31mPy4JJavaError\u001b[0m: An error occurred while calling o32.count.\n: org.apache.spark.SparkException: Job aborted due to stage failure: Task serialization failed: org.apache.spark.SparkException: Failed to register classes with Kryo\norg.apache.spark.SparkException: Failed to register classes with Kryo\n\tat org.apache.spark.serializer.KryoSerializer.$anonfun$newKryo$5(KryoSerializer.scala:186)\n\tat scala.runtime.java8.JFunction0$mcV$sp.apply(JFunction0$mcV$sp.java:23)\n\tat org.apache.spark.util.Utils$.withContextClassLoader(Utils.scala:178)\n\tat org.apache.spark.serializer.KryoSerializer.newKryo(KryoSerializer.scala:174)\n\tat org.apache.spark.serializer.KryoSerializer$$anon$1.create(KryoSerializer.scala:105)\n\tat com.esotericsoftware.kryo.pool.KryoPoolQueueImpl.borrow(KryoPoolQueueImpl.java:48)\n\tat org.apache.spark.serializer.KryoSerializer$PoolWrapper.borrow(KryoSerializer.scala:112)\n\tat org.apache.spark.serializer.KryoSerializerInstance.borrowKryo(KryoSerializer.scala:401)\n\tat org.apache.spark.serializer.KryoSerializationStream.<init>(KryoSerializer.scala:275)\n\tat org.apache.spark.serializer.KryoSerializerInstance.serializeStream(KryoSerializer.scala:487)\n\tat org.apache.spark.broadcast.TorrentBroadcast$.blockifyObject(TorrentBroadcast.scala:363)\n\tat org.apache.spark.broadcast.TorrentBroadcast.writeBlocks(TorrentBroadcast.scala:161)\n\tat org.apache.spark.broadcast.TorrentBroadcast.<init>(TorrentBroadcast.scala:99)\n\tat org.apache.spark.broadcast.TorrentBroadcastFactory.newBroadcast(TorrentBroadcastFactory.scala:38)\n\tat org.apache.spark.broadcast.BroadcastManager.newBroadcast(BroadcastManager.scala:78)\n\tat org.apache.spark.SparkContext.broadcastInternal(SparkContext.scala:1657)\n\tat org.apache.spark.SparkContext.broadcast(SparkContext.scala:1639)\n\tat org.apache.spark.scheduler.DAGScheduler.submitMissingTasks(DAGScheduler.scala:1585)\n\tat org.apache.spark.scheduler.DAGScheduler.submitStage(DAGScheduler.scala:1402)\n\tat org.apache.spark.scheduler.DAGScheduler.handleMapStageSubmitted(DAGScheduler.scala:1377)\n\tat org.apache.spark.scheduler.DAGSchedulerEventProcessLoop.doOnReceive(DAGScheduler.scala:3007)\n\tat org.apache.spark.scheduler.DAGSchedulerEventProcessLoop.onReceive(DAGScheduler.scala:2994)\n\tat org.apache.spark.scheduler.DAGSchedulerEventProcessLoop.onReceive(DAGScheduler.scala:2983)\n\tat org.apache.spark.util.EventLoop$$anon$1.run(EventLoop.scala:49)\nCaused by: java.lang.ClassNotFoundException: org.apache.sedona.core.serde.SedonaKryoRegistrator\n\tat java.net.URLClassLoader.findClass(URLClassLoader.java:382)\n\tat java.lang.ClassLoader.loadClass(ClassLoader.java:424)\n\tat java.lang.ClassLoader.loadClass(ClassLoader.java:357)\n\tat java.lang.Class.forName0(Native Method)\n\tat java.lang.Class.forName(Class.java:348)\n\tat org.apache.spark.util.SparkClassUtils.classForName(SparkClassUtils.scala:43)\n\tat org.apache.spark.util.SparkClassUtils.classForName$(SparkClassUtils.scala:36)\n\tat org.apache.spark.util.Utils$.classForName(Utils.scala:94)\n\tat org.apache.spark.serializer.KryoSerializer.$anonfun$newKryo$7(KryoSerializer.scala:181)\n\tat scala.collection.TraversableLike.$anonfun$map$1(TraversableLike.scala:286)\n\tat scala.collection.mutable.ResizableArray.foreach(ResizableArray.scala:62)\n\tat scala.collection.mutable.ResizableArray.foreach$(ResizableArray.scala:55)\n\tat scala.collection.mutable.ArrayBuffer.foreach(ArrayBuffer.scala:49)\n\tat scala.collection.TraversableLike.map(TraversableLike.scala:286)\n\tat scala.collection.TraversableLike.map$(TraversableLike.scala:279)\n\tat scala.collection.AbstractTraversable.map(Traversable.scala:108)\n\tat org.apache.spark.serializer.KryoSerializer.$anonfun$newKryo$5(KryoSerializer.scala:181)\n\t... 23 more\n\n\tat org.apache.spark.scheduler.DAGScheduler.failJobAndIndependentStages(DAGScheduler.scala:2856)\n\tat org.apache.spark.scheduler.DAGScheduler.$anonfun$abortStage$2(DAGScheduler.scala:2792)\n\tat org.apache.spark.scheduler.DAGScheduler.$anonfun$abortStage$2$adapted(DAGScheduler.scala:2791)\n\tat scala.collection.mutable.ResizableArray.foreach(ResizableArray.scala:62)\n\tat scala.collection.mutable.ResizableArray.foreach$(ResizableArray.scala:55)\n\tat scala.collection.mutable.ArrayBuffer.foreach(ArrayBuffer.scala:49)\n\tat org.apache.spark.scheduler.DAGScheduler.abortStage(DAGScheduler.scala:2791)\n\tat org.apache.spark.scheduler.DAGScheduler.submitMissingTasks(DAGScheduler.scala:1595)\n\tat org.apache.spark.scheduler.DAGScheduler.submitStage(DAGScheduler.scala:1402)\n\tat org.apache.spark.scheduler.DAGScheduler.handleMapStageSubmitted(DAGScheduler.scala:1377)\n\tat org.apache.spark.scheduler.DAGSchedulerEventProcessLoop.doOnReceive(DAGScheduler.scala:3007)\n\tat org.apache.spark.scheduler.DAGSchedulerEventProcessLoop.onReceive(DAGScheduler.scala:2994)\n\tat org.apache.spark.scheduler.DAGSchedulerEventProcessLoop.onReceive(DAGScheduler.scala:2983)\n\tat org.apache.spark.util.EventLoop$$anon$1.run(EventLoop.scala:49)\nCaused by: org.apache.spark.SparkException: Failed to register classes with Kryo\n\tat org.apache.spark.serializer.KryoSerializer.$anonfun$newKryo$5(KryoSerializer.scala:186)\n\tat scala.runtime.java8.JFunction0$mcV$sp.apply(JFunction0$mcV$sp.java:23)\n\tat org.apache.spark.util.Utils$.withContextClassLoader(Utils.scala:178)\n\tat org.apache.spark.serializer.KryoSerializer.newKryo(KryoSerializer.scala:174)\n\tat org.apache.spark.serializer.KryoSerializer$$anon$1.create(KryoSerializer.scala:105)\n\tat com.esotericsoftware.kryo.pool.KryoPoolQueueImpl.borrow(KryoPoolQueueImpl.java:48)\n\tat org.apache.spark.serializer.KryoSerializer$PoolWrapper.borrow(KryoSerializer.scala:112)\n\tat org.apache.spark.serializer.KryoSerializerInstance.borrowKryo(KryoSerializer.scala:401)\n\tat org.apache.spark.serializer.KryoSerializationStream.<init>(KryoSerializer.scala:275)\n\tat org.apache.spark.serializer.KryoSerializerInstance.serializeStream(KryoSerializer.scala:487)\n\tat org.apache.spark.broadcast.TorrentBroadcast$.blockifyObject(TorrentBroadcast.scala:363)\n\tat org.apache.spark.broadcast.TorrentBroadcast.writeBlocks(TorrentBroadcast.scala:161)\n\tat org.apache.spark.broadcast.TorrentBroadcast.<init>(TorrentBroadcast.scala:99)\n\tat org.apache.spark.broadcast.TorrentBroadcastFactory.newBroadcast(TorrentBroadcastFactory.scala:38)\n\tat org.apache.spark.broadcast.BroadcastManager.newBroadcast(BroadcastManager.scala:78)\n\tat org.apache.spark.SparkContext.broadcastInternal(SparkContext.scala:1657)\n\tat org.apache.spark.SparkContext.broadcast(SparkContext.scala:1639)\n\tat org.apache.spark.scheduler.DAGScheduler.submitMissingTasks(DAGScheduler.scala:1585)\n\t... 6 more\nCaused by: java.lang.ClassNotFoundException: org.apache.sedona.core.serde.SedonaKryoRegistrator\n\tat java.net.URLClassLoader.findClass(URLClassLoader.java:382)\n\tat java.lang.ClassLoader.loadClass(ClassLoader.java:424)\n\tat java.lang.ClassLoader.loadClass(ClassLoader.java:357)\n\tat java.lang.Class.forName0(Native Method)\n\tat java.lang.Class.forName(Class.java:348)\n\tat org.apache.spark.util.SparkClassUtils.classForName(SparkClassUtils.scala:43)\n\tat org.apache.spark.util.SparkClassUtils.classForName$(SparkClassUtils.scala:36)\n\tat org.apache.spark.util.Utils$.classForName(Utils.scala:94)\n\tat org.apache.spark.serializer.KryoSerializer.$anonfun$newKryo$7(KryoSerializer.scala:181)\n\tat scala.collection.TraversableLike.$anonfun$map$1(TraversableLike.scala:286)\n\tat scala.collection.mutable.ResizableArray.foreach(ResizableArray.scala:62)\n\tat scala.collection.mutable.ResizableArray.foreach$(ResizableArray.scala:55)\n\tat scala.collection.mutable.ArrayBuffer.foreach(ArrayBuffer.scala:49)\n\tat scala.collection.TraversableLike.map(TraversableLike.scala:286)\n\tat scala.collection.TraversableLike.map$(TraversableLike.scala:279)\n\tat scala.collection.AbstractTraversable.map(Traversable.scala:108)\n\tat org.apache.spark.serializer.KryoSerializer.$anonfun$newKryo$5(KryoSerializer.scala:181)\n\t... 23 more\n"
     ]
    }
   ],
   "source": [
    "obj = Enricher(crs=\"EPSG:3035\")\n",
    "obj.setup_cluster()"
   ]
  },
  {
   "cell_type": "code",
   "execution_count": null,
   "metadata": {},
   "outputs": [
    {
     "name": "stderr",
     "output_type": "stream",
     "text": [
      "25/02/21 17:55:41 WARN SparkSession: Using an existing Spark session; only runtime SQL configurations will take effect.\n",
      "25/02/21 17:55:41 ERROR TorrentBroadcast: Store broadcast broadcast_1 fail, remove all pieces of the broadcast\n"
     ]
    },
    {
     "ename": "Py4JJavaError",
     "evalue": "An error occurred while calling o40.count.\n: org.apache.spark.SparkException: Job aborted due to stage failure: Task serialization failed: org.apache.spark.SparkException: Failed to register classes with Kryo\norg.apache.spark.SparkException: Failed to register classes with Kryo\n\tat org.apache.spark.serializer.KryoSerializer.$anonfun$newKryo$5(KryoSerializer.scala:186)\n\tat scala.runtime.java8.JFunction0$mcV$sp.apply(JFunction0$mcV$sp.java:23)\n\tat org.apache.spark.util.Utils$.withContextClassLoader(Utils.scala:178)\n\tat org.apache.spark.serializer.KryoSerializer.newKryo(KryoSerializer.scala:174)\n\tat org.apache.spark.serializer.KryoSerializer$$anon$1.create(KryoSerializer.scala:105)\n\tat com.esotericsoftware.kryo.pool.KryoPoolQueueImpl.borrow(KryoPoolQueueImpl.java:48)\n\tat org.apache.spark.serializer.KryoSerializer$PoolWrapper.borrow(KryoSerializer.scala:112)\n\tat org.apache.spark.serializer.KryoSerializerInstance.borrowKryo(KryoSerializer.scala:401)\n\tat org.apache.spark.serializer.KryoSerializationStream.<init>(KryoSerializer.scala:275)\n\tat org.apache.spark.serializer.KryoSerializerInstance.serializeStream(KryoSerializer.scala:487)\n\tat org.apache.spark.broadcast.TorrentBroadcast$.blockifyObject(TorrentBroadcast.scala:363)\n\tat org.apache.spark.broadcast.TorrentBroadcast.writeBlocks(TorrentBroadcast.scala:161)\n\tat org.apache.spark.broadcast.TorrentBroadcast.<init>(TorrentBroadcast.scala:99)\n\tat org.apache.spark.broadcast.TorrentBroadcastFactory.newBroadcast(TorrentBroadcastFactory.scala:38)\n\tat org.apache.spark.broadcast.BroadcastManager.newBroadcast(BroadcastManager.scala:78)\n\tat org.apache.spark.SparkContext.broadcastInternal(SparkContext.scala:1657)\n\tat org.apache.spark.SparkContext.broadcast(SparkContext.scala:1639)\n\tat org.apache.spark.scheduler.DAGScheduler.submitMissingTasks(DAGScheduler.scala:1585)\n\tat org.apache.spark.scheduler.DAGScheduler.submitStage(DAGScheduler.scala:1402)\n\tat org.apache.spark.scheduler.DAGScheduler.handleMapStageSubmitted(DAGScheduler.scala:1377)\n\tat org.apache.spark.scheduler.DAGSchedulerEventProcessLoop.doOnReceive(DAGScheduler.scala:3007)\n\tat org.apache.spark.scheduler.DAGSchedulerEventProcessLoop.onReceive(DAGScheduler.scala:2994)\n\tat org.apache.spark.scheduler.DAGSchedulerEventProcessLoop.onReceive(DAGScheduler.scala:2983)\n\tat org.apache.spark.util.EventLoop$$anon$1.run(EventLoop.scala:49)\nCaused by: java.lang.ClassNotFoundException: org.apache.sedona.core.serde.SedonaKryoRegistrator\n\tat java.net.URLClassLoader.findClass(URLClassLoader.java:382)\n\tat java.lang.ClassLoader.loadClass(ClassLoader.java:424)\n\tat java.lang.ClassLoader.loadClass(ClassLoader.java:357)\n\tat java.lang.Class.forName0(Native Method)\n\tat java.lang.Class.forName(Class.java:348)\n\tat org.apache.spark.util.SparkClassUtils.classForName(SparkClassUtils.scala:43)\n\tat org.apache.spark.util.SparkClassUtils.classForName$(SparkClassUtils.scala:36)\n\tat org.apache.spark.util.Utils$.classForName(Utils.scala:94)\n\tat org.apache.spark.serializer.KryoSerializer.$anonfun$newKryo$7(KryoSerializer.scala:181)\n\tat scala.collection.TraversableLike.$anonfun$map$1(TraversableLike.scala:286)\n\tat scala.collection.mutable.ResizableArray.foreach(ResizableArray.scala:62)\n\tat scala.collection.mutable.ResizableArray.foreach$(ResizableArray.scala:55)\n\tat scala.collection.mutable.ArrayBuffer.foreach(ArrayBuffer.scala:49)\n\tat scala.collection.TraversableLike.map(TraversableLike.scala:286)\n\tat scala.collection.TraversableLike.map$(TraversableLike.scala:279)\n\tat scala.collection.AbstractTraversable.map(Traversable.scala:108)\n\tat org.apache.spark.serializer.KryoSerializer.$anonfun$newKryo$5(KryoSerializer.scala:181)\n\t... 23 more\n\n\tat org.apache.spark.scheduler.DAGScheduler.failJobAndIndependentStages(DAGScheduler.scala:2856)\n\tat org.apache.spark.scheduler.DAGScheduler.$anonfun$abortStage$2(DAGScheduler.scala:2792)\n\tat org.apache.spark.scheduler.DAGScheduler.$anonfun$abortStage$2$adapted(DAGScheduler.scala:2791)\n\tat scala.collection.mutable.ResizableArray.foreach(ResizableArray.scala:62)\n\tat scala.collection.mutable.ResizableArray.foreach$(ResizableArray.scala:55)\n\tat scala.collection.mutable.ArrayBuffer.foreach(ArrayBuffer.scala:49)\n\tat org.apache.spark.scheduler.DAGScheduler.abortStage(DAGScheduler.scala:2791)\n\tat org.apache.spark.scheduler.DAGScheduler.submitMissingTasks(DAGScheduler.scala:1595)\n\tat org.apache.spark.scheduler.DAGScheduler.submitStage(DAGScheduler.scala:1402)\n\tat org.apache.spark.scheduler.DAGScheduler.handleMapStageSubmitted(DAGScheduler.scala:1377)\n\tat org.apache.spark.scheduler.DAGSchedulerEventProcessLoop.doOnReceive(DAGScheduler.scala:3007)\n\tat org.apache.spark.scheduler.DAGSchedulerEventProcessLoop.onReceive(DAGScheduler.scala:2994)\n\tat org.apache.spark.scheduler.DAGSchedulerEventProcessLoop.onReceive(DAGScheduler.scala:2983)\n\tat org.apache.spark.util.EventLoop$$anon$1.run(EventLoop.scala:49)\nCaused by: org.apache.spark.SparkException: Failed to register classes with Kryo\n\tat org.apache.spark.serializer.KryoSerializer.$anonfun$newKryo$5(KryoSerializer.scala:186)\n\tat scala.runtime.java8.JFunction0$mcV$sp.apply(JFunction0$mcV$sp.java:23)\n\tat org.apache.spark.util.Utils$.withContextClassLoader(Utils.scala:178)\n\tat org.apache.spark.serializer.KryoSerializer.newKryo(KryoSerializer.scala:174)\n\tat org.apache.spark.serializer.KryoSerializer$$anon$1.create(KryoSerializer.scala:105)\n\tat com.esotericsoftware.kryo.pool.KryoPoolQueueImpl.borrow(KryoPoolQueueImpl.java:48)\n\tat org.apache.spark.serializer.KryoSerializer$PoolWrapper.borrow(KryoSerializer.scala:112)\n\tat org.apache.spark.serializer.KryoSerializerInstance.borrowKryo(KryoSerializer.scala:401)\n\tat org.apache.spark.serializer.KryoSerializationStream.<init>(KryoSerializer.scala:275)\n\tat org.apache.spark.serializer.KryoSerializerInstance.serializeStream(KryoSerializer.scala:487)\n\tat org.apache.spark.broadcast.TorrentBroadcast$.blockifyObject(TorrentBroadcast.scala:363)\n\tat org.apache.spark.broadcast.TorrentBroadcast.writeBlocks(TorrentBroadcast.scala:161)\n\tat org.apache.spark.broadcast.TorrentBroadcast.<init>(TorrentBroadcast.scala:99)\n\tat org.apache.spark.broadcast.TorrentBroadcastFactory.newBroadcast(TorrentBroadcastFactory.scala:38)\n\tat org.apache.spark.broadcast.BroadcastManager.newBroadcast(BroadcastManager.scala:78)\n\tat org.apache.spark.SparkContext.broadcastInternal(SparkContext.scala:1657)\n\tat org.apache.spark.SparkContext.broadcast(SparkContext.scala:1639)\n\tat org.apache.spark.scheduler.DAGScheduler.submitMissingTasks(DAGScheduler.scala:1585)\n\t... 6 more\nCaused by: java.lang.ClassNotFoundException: org.apache.sedona.core.serde.SedonaKryoRegistrator\n\tat java.net.URLClassLoader.findClass(URLClassLoader.java:382)\n\tat java.lang.ClassLoader.loadClass(ClassLoader.java:424)\n\tat java.lang.ClassLoader.loadClass(ClassLoader.java:357)\n\tat java.lang.Class.forName0(Native Method)\n\tat java.lang.Class.forName(Class.java:348)\n\tat org.apache.spark.util.SparkClassUtils.classForName(SparkClassUtils.scala:43)\n\tat org.apache.spark.util.SparkClassUtils.classForName$(SparkClassUtils.scala:36)\n\tat org.apache.spark.util.Utils$.classForName(Utils.scala:94)\n\tat org.apache.spark.serializer.KryoSerializer.$anonfun$newKryo$7(KryoSerializer.scala:181)\n\tat scala.collection.TraversableLike.$anonfun$map$1(TraversableLike.scala:286)\n\tat scala.collection.mutable.ResizableArray.foreach(ResizableArray.scala:62)\n\tat scala.collection.mutable.ResizableArray.foreach$(ResizableArray.scala:55)\n\tat scala.collection.mutable.ArrayBuffer.foreach(ArrayBuffer.scala:49)\n\tat scala.collection.TraversableLike.map(TraversableLike.scala:286)\n\tat scala.collection.TraversableLike.map$(TraversableLike.scala:279)\n\tat scala.collection.AbstractTraversable.map(Traversable.scala:108)\n\tat org.apache.spark.serializer.KryoSerializer.$anonfun$newKryo$5(KryoSerializer.scala:181)\n\t... 23 more\n",
     "output_type": "error",
     "traceback": [
      "\u001b[0;31m---------------------------------------------------------------------------\u001b[0m",
      "\u001b[0;31mPy4JJavaError\u001b[0m                             Traceback (most recent call last)",
      "Cell \u001b[0;32mIn[3], line 32\u001b[0m\n\u001b[1;32m     19\u001b[0m datasets \u001b[38;5;241m=\u001b[39m {\n\u001b[1;32m     20\u001b[0m     \u001b[38;5;124m\"\u001b[39m\u001b[38;5;124mcountries\u001b[39m\u001b[38;5;124m\"\u001b[39m: (path_contr, \u001b[38;5;124m\"\u001b[39m\u001b[38;5;124mshapefile\u001b[39m\u001b[38;5;124m\"\u001b[39m),\n\u001b[1;32m     21\u001b[0m     \u001b[38;5;124m\"\u001b[39m\u001b[38;5;124mregions_IT\u001b[39m\u001b[38;5;124m\"\u001b[39m: (path_reg, \u001b[38;5;124m\"\u001b[39m\u001b[38;5;124mshapefile\u001b[39m\u001b[38;5;124m\"\u001b[39m),\n\u001b[0;32m   (...)\u001b[0m\n\u001b[1;32m     27\u001b[0m     \u001b[38;5;66;03m# \"census\": (path_census, \"\"),\u001b[39;00m\n\u001b[1;32m     28\u001b[0m }\n\u001b[1;32m     31\u001b[0m obj \u001b[38;5;241m=\u001b[39m Enricher(crs\u001b[38;5;241m=\u001b[39m\u001b[38;5;124m\"\u001b[39m\u001b[38;5;124mEPSG:3035\u001b[39m\u001b[38;5;124m\"\u001b[39m)\n\u001b[0;32m---> 32\u001b[0m \u001b[43mobj\u001b[49m\u001b[38;5;241;43m.\u001b[39;49m\u001b[43msetup_cluster\u001b[49m\u001b[43m(\u001b[49m\u001b[43mwhich\u001b[49m\u001b[38;5;241;43m=\u001b[39;49m\u001b[38;5;124;43m\"\u001b[39;49m\u001b[38;5;124;43msedona\u001b[39;49m\u001b[38;5;124;43m\"\u001b[39;49m\u001b[43m,\u001b[49m\u001b[43m \u001b[49m\u001b[43mex_mem\u001b[49m\u001b[38;5;241;43m=\u001b[39;49m\u001b[38;5;241;43m26\u001b[39;49m\u001b[43m,\u001b[49m\u001b[43m \u001b[49m\u001b[43mdr_mem\u001b[49m\u001b[38;5;241;43m=\u001b[39;49m\u001b[38;5;241;43m24\u001b[39;49m\u001b[43m,\u001b[49m\u001b[43m \u001b[49m\u001b[43mlog_level\u001b[49m\u001b[38;5;241;43m=\u001b[39;49m\u001b[38;5;124;43m\"\u001b[39;49m\u001b[38;5;124;43mERROR\u001b[39;49m\u001b[38;5;124;43m\"\u001b[39;49m\u001b[43m)\u001b[49m\n\u001b[1;32m     34\u001b[0m obj\u001b[38;5;241m.\u001b[39mload(datasets, data_dir\u001b[38;5;241m=\u001b[39mdata_dir, silent\u001b[38;5;241m=\u001b[39m\u001b[38;5;28;01mTrue\u001b[39;00m)\n\u001b[1;32m     35\u001b[0m obj\u001b[38;5;241m.\u001b[39mfix_geometries(skip\u001b[38;5;241m=\u001b[39m[\u001b[38;5;124m'\u001b[39m\u001b[38;5;124mpop_grids\u001b[39m\u001b[38;5;124m'\u001b[39m, \u001b[38;5;124m'\u001b[39m\u001b[38;5;124mpop_grids_new\u001b[39m\u001b[38;5;124m'\u001b[39m])\n",
      "Cell \u001b[0;32mIn[1], line 68\u001b[0m, in \u001b[0;36mEnricher.setup_cluster\u001b[0;34m(self, which, ex_mem, dr_mem, log_level)\u001b[0m\n\u001b[1;32m     48\u001b[0m \u001b[38;5;28;01melif\u001b[39;00m which \u001b[38;5;241m==\u001b[39m \u001b[38;5;124m\"\u001b[39m\u001b[38;5;124msedona\u001b[39m\u001b[38;5;124m\"\u001b[39m:\n\u001b[1;32m     49\u001b[0m     \u001b[38;5;66;03m# config = SedonaContext.builder() .\\\u001b[39;00m\n\u001b[1;32m     50\u001b[0m     \u001b[38;5;66;03m#     config(\"spark.executor.memory\", f\"{ex_mem}g\").\\\u001b[39;00m\n\u001b[0;32m   (...)\u001b[0m\n\u001b[1;32m     54\u001b[0m     \u001b[38;5;66;03m#         'org.datasyslab:geotools-wrapper:1.7.0-28.5').\\\u001b[39;00m\n\u001b[1;32m     55\u001b[0m     \u001b[38;5;66;03m#     getOrCreate()\u001b[39;00m\n\u001b[1;32m     57\u001b[0m     config \u001b[38;5;241m=\u001b[39m SedonaContext\u001b[38;5;241m.\u001b[39mbuilder() \\\n\u001b[1;32m     58\u001b[0m         \u001b[38;5;241m.\u001b[39mconfig(\u001b[38;5;124m\"\u001b[39m\u001b[38;5;124mspark.executor.memory\u001b[39m\u001b[38;5;124m\"\u001b[39m, \u001b[38;5;124mf\u001b[39m\u001b[38;5;124m\"\u001b[39m\u001b[38;5;132;01m{\u001b[39;00mex_mem\u001b[38;5;132;01m}\u001b[39;00m\u001b[38;5;124mg\u001b[39m\u001b[38;5;124m\"\u001b[39m) \\\n\u001b[1;32m     59\u001b[0m         \u001b[38;5;241m.\u001b[39mconfig(\u001b[38;5;124m\"\u001b[39m\u001b[38;5;124mspark.driver.memory\u001b[39m\u001b[38;5;124m\"\u001b[39m, \u001b[38;5;124mf\u001b[39m\u001b[38;5;124m\"\u001b[39m\u001b[38;5;132;01m{\u001b[39;00mdr_mem\u001b[38;5;132;01m}\u001b[39;00m\u001b[38;5;124mg\u001b[39m\u001b[38;5;124m\"\u001b[39m) \\\n\u001b[0;32m   (...)\u001b[0m\n\u001b[1;32m     64\u001b[0m             \u001b[38;5;124m'\u001b[39m\u001b[38;5;124morg.datasyslab:geotools-wrapper:1.7.0-28.5\u001b[39m\u001b[38;5;124m'\u001b[39m) \\\n\u001b[1;32m     65\u001b[0m         \u001b[38;5;241m.\u001b[39mgetOrCreate()\n\u001b[0;32m---> 68\u001b[0m     \u001b[38;5;28mself\u001b[39m\u001b[38;5;241m.\u001b[39msedona \u001b[38;5;241m=\u001b[39m \u001b[43mSedonaContext\u001b[49m\u001b[38;5;241;43m.\u001b[39;49m\u001b[43mcreate\u001b[49m\u001b[43m(\u001b[49m\u001b[43mconfig\u001b[49m\u001b[43m)\u001b[49m\n\u001b[1;32m     70\u001b[0m     \u001b[38;5;28;01mif\u001b[39;00m log_level \u001b[38;5;129;01min\u001b[39;00m [\u001b[38;5;124m\"\u001b[39m\u001b[38;5;124mOFF\u001b[39m\u001b[38;5;124m\"\u001b[39m, \u001b[38;5;124m\"\u001b[39m\u001b[38;5;124mERROR\u001b[39m\u001b[38;5;124m\"\u001b[39m, \u001b[38;5;124m\"\u001b[39m\u001b[38;5;124mWARN\u001b[39m\u001b[38;5;124m\"\u001b[39m, \u001b[38;5;124m\"\u001b[39m\u001b[38;5;124mINFO\u001b[39m\u001b[38;5;124m\"\u001b[39m, \u001b[38;5;124m\"\u001b[39m\u001b[38;5;124mDEBUG\u001b[39m\u001b[38;5;124m\"\u001b[39m]:\n\u001b[1;32m     71\u001b[0m         \u001b[38;5;28mself\u001b[39m\u001b[38;5;241m.\u001b[39msedona\u001b[38;5;241m.\u001b[39msparkContext\u001b[38;5;241m.\u001b[39msetLogLevel(log_level)\n",
      "File \u001b[0;32m~/benchmark_data/sedona_venv/lib/python3.12/site-packages/sedona/spark/SedonaContext.py:43\u001b[0m, in \u001b[0;36mSedonaContext.create\u001b[0;34m(cls, spark)\u001b[0m\n\u001b[1;32m     34\u001b[0m \u001b[38;5;129m@classmethod\u001b[39m\n\u001b[1;32m     35\u001b[0m \u001b[38;5;28;01mdef\u001b[39;00m\u001b[38;5;250m \u001b[39m\u001b[38;5;21mcreate\u001b[39m(\u001b[38;5;28mcls\u001b[39m, spark: SparkSession) \u001b[38;5;241m-\u001b[39m\u001b[38;5;241m>\u001b[39m SparkSession:\n\u001b[1;32m     36\u001b[0m \u001b[38;5;250m    \u001b[39m\u001b[38;5;124;03m\"\"\"\u001b[39;00m\n\u001b[1;32m     37\u001b[0m \u001b[38;5;124;03m    This is the core of whole package, It uses py4j to run wrapper which takes existing SparkSession\u001b[39;00m\n\u001b[1;32m     38\u001b[0m \u001b[38;5;124;03m    and register the core logics of Apache Sedona, for this SparkSession.\u001b[39;00m\n\u001b[0;32m   (...)\u001b[0m\n\u001b[1;32m     41\u001b[0m \u001b[38;5;124;03m    :return: SedonaContext which is an instance of SparkSession\u001b[39;00m\n\u001b[1;32m     42\u001b[0m \u001b[38;5;124;03m    \"\"\"\u001b[39;00m\n\u001b[0;32m---> 43\u001b[0m     \u001b[43mspark\u001b[49m\u001b[38;5;241;43m.\u001b[39;49m\u001b[43msql\u001b[49m\u001b[43m(\u001b[49m\u001b[38;5;124;43m\"\u001b[39;49m\u001b[38;5;124;43mSELECT 1 as geom\u001b[39;49m\u001b[38;5;124;43m\"\u001b[39;49m\u001b[43m)\u001b[49m\u001b[38;5;241;43m.\u001b[39;49m\u001b[43mcount\u001b[49m\u001b[43m(\u001b[49m\u001b[43m)\u001b[49m\n\u001b[1;32m     45\u001b[0m     \u001b[38;5;66;03m# with Spark Connect there is no local JVM\u001b[39;00m\n\u001b[1;32m     46\u001b[0m     \u001b[38;5;28;01mif\u001b[39;00m \u001b[38;5;129;01mnot\u001b[39;00m is_remote():\n",
      "File \u001b[0;32m~/benchmark_data/sedona_venv/lib/python3.12/site-packages/pyspark/sql/dataframe.py:1240\u001b[0m, in \u001b[0;36mDataFrame.count\u001b[0;34m(self)\u001b[0m\n\u001b[1;32m   1217\u001b[0m \u001b[38;5;28;01mdef\u001b[39;00m\u001b[38;5;250m \u001b[39m\u001b[38;5;21mcount\u001b[39m(\u001b[38;5;28mself\u001b[39m) \u001b[38;5;241m-\u001b[39m\u001b[38;5;241m>\u001b[39m \u001b[38;5;28mint\u001b[39m:\n\u001b[1;32m   1218\u001b[0m \u001b[38;5;250m    \u001b[39m\u001b[38;5;124;03m\"\"\"Returns the number of rows in this :class:`DataFrame`.\u001b[39;00m\n\u001b[1;32m   1219\u001b[0m \n\u001b[1;32m   1220\u001b[0m \u001b[38;5;124;03m    .. versionadded:: 1.3.0\u001b[39;00m\n\u001b[0;32m   (...)\u001b[0m\n\u001b[1;32m   1238\u001b[0m \u001b[38;5;124;03m    3\u001b[39;00m\n\u001b[1;32m   1239\u001b[0m \u001b[38;5;124;03m    \"\"\"\u001b[39;00m\n\u001b[0;32m-> 1240\u001b[0m     \u001b[38;5;28;01mreturn\u001b[39;00m \u001b[38;5;28mint\u001b[39m(\u001b[38;5;28;43mself\u001b[39;49m\u001b[38;5;241;43m.\u001b[39;49m\u001b[43m_jdf\u001b[49m\u001b[38;5;241;43m.\u001b[39;49m\u001b[43mcount\u001b[49m\u001b[43m(\u001b[49m\u001b[43m)\u001b[49m)\n",
      "File \u001b[0;32m~/benchmark_data/sedona_venv/lib/python3.12/site-packages/py4j/java_gateway.py:1322\u001b[0m, in \u001b[0;36mJavaMember.__call__\u001b[0;34m(self, *args)\u001b[0m\n\u001b[1;32m   1316\u001b[0m command \u001b[38;5;241m=\u001b[39m proto\u001b[38;5;241m.\u001b[39mCALL_COMMAND_NAME \u001b[38;5;241m+\u001b[39m\\\n\u001b[1;32m   1317\u001b[0m     \u001b[38;5;28mself\u001b[39m\u001b[38;5;241m.\u001b[39mcommand_header \u001b[38;5;241m+\u001b[39m\\\n\u001b[1;32m   1318\u001b[0m     args_command \u001b[38;5;241m+\u001b[39m\\\n\u001b[1;32m   1319\u001b[0m     proto\u001b[38;5;241m.\u001b[39mEND_COMMAND_PART\n\u001b[1;32m   1321\u001b[0m answer \u001b[38;5;241m=\u001b[39m \u001b[38;5;28mself\u001b[39m\u001b[38;5;241m.\u001b[39mgateway_client\u001b[38;5;241m.\u001b[39msend_command(command)\n\u001b[0;32m-> 1322\u001b[0m return_value \u001b[38;5;241m=\u001b[39m \u001b[43mget_return_value\u001b[49m\u001b[43m(\u001b[49m\n\u001b[1;32m   1323\u001b[0m \u001b[43m    \u001b[49m\u001b[43manswer\u001b[49m\u001b[43m,\u001b[49m\u001b[43m \u001b[49m\u001b[38;5;28;43mself\u001b[39;49m\u001b[38;5;241;43m.\u001b[39;49m\u001b[43mgateway_client\u001b[49m\u001b[43m,\u001b[49m\u001b[43m \u001b[49m\u001b[38;5;28;43mself\u001b[39;49m\u001b[38;5;241;43m.\u001b[39;49m\u001b[43mtarget_id\u001b[49m\u001b[43m,\u001b[49m\u001b[43m \u001b[49m\u001b[38;5;28;43mself\u001b[39;49m\u001b[38;5;241;43m.\u001b[39;49m\u001b[43mname\u001b[49m\u001b[43m)\u001b[49m\n\u001b[1;32m   1325\u001b[0m \u001b[38;5;28;01mfor\u001b[39;00m temp_arg \u001b[38;5;129;01min\u001b[39;00m temp_args:\n\u001b[1;32m   1326\u001b[0m     \u001b[38;5;28;01mif\u001b[39;00m \u001b[38;5;28mhasattr\u001b[39m(temp_arg, \u001b[38;5;124m\"\u001b[39m\u001b[38;5;124m_detach\u001b[39m\u001b[38;5;124m\"\u001b[39m):\n",
      "File \u001b[0;32m~/benchmark_data/sedona_venv/lib/python3.12/site-packages/pyspark/errors/exceptions/captured.py:179\u001b[0m, in \u001b[0;36mcapture_sql_exception.<locals>.deco\u001b[0;34m(*a, **kw)\u001b[0m\n\u001b[1;32m    177\u001b[0m \u001b[38;5;28;01mdef\u001b[39;00m\u001b[38;5;250m \u001b[39m\u001b[38;5;21mdeco\u001b[39m(\u001b[38;5;241m*\u001b[39ma: Any, \u001b[38;5;241m*\u001b[39m\u001b[38;5;241m*\u001b[39mkw: Any) \u001b[38;5;241m-\u001b[39m\u001b[38;5;241m>\u001b[39m Any:\n\u001b[1;32m    178\u001b[0m     \u001b[38;5;28;01mtry\u001b[39;00m:\n\u001b[0;32m--> 179\u001b[0m         \u001b[38;5;28;01mreturn\u001b[39;00m \u001b[43mf\u001b[49m\u001b[43m(\u001b[49m\u001b[38;5;241;43m*\u001b[39;49m\u001b[43ma\u001b[49m\u001b[43m,\u001b[49m\u001b[43m \u001b[49m\u001b[38;5;241;43m*\u001b[39;49m\u001b[38;5;241;43m*\u001b[39;49m\u001b[43mkw\u001b[49m\u001b[43m)\u001b[49m\n\u001b[1;32m    180\u001b[0m     \u001b[38;5;28;01mexcept\u001b[39;00m Py4JJavaError \u001b[38;5;28;01mas\u001b[39;00m e:\n\u001b[1;32m    181\u001b[0m         converted \u001b[38;5;241m=\u001b[39m convert_exception(e\u001b[38;5;241m.\u001b[39mjava_exception)\n",
      "File \u001b[0;32m~/benchmark_data/sedona_venv/lib/python3.12/site-packages/py4j/protocol.py:326\u001b[0m, in \u001b[0;36mget_return_value\u001b[0;34m(answer, gateway_client, target_id, name)\u001b[0m\n\u001b[1;32m    324\u001b[0m value \u001b[38;5;241m=\u001b[39m OUTPUT_CONVERTER[\u001b[38;5;28mtype\u001b[39m](answer[\u001b[38;5;241m2\u001b[39m:], gateway_client)\n\u001b[1;32m    325\u001b[0m \u001b[38;5;28;01mif\u001b[39;00m answer[\u001b[38;5;241m1\u001b[39m] \u001b[38;5;241m==\u001b[39m REFERENCE_TYPE:\n\u001b[0;32m--> 326\u001b[0m     \u001b[38;5;28;01mraise\u001b[39;00m Py4JJavaError(\n\u001b[1;32m    327\u001b[0m         \u001b[38;5;124m\"\u001b[39m\u001b[38;5;124mAn error occurred while calling \u001b[39m\u001b[38;5;132;01m{0}\u001b[39;00m\u001b[38;5;132;01m{1}\u001b[39;00m\u001b[38;5;132;01m{2}\u001b[39;00m\u001b[38;5;124m.\u001b[39m\u001b[38;5;130;01m\\n\u001b[39;00m\u001b[38;5;124m\"\u001b[39m\u001b[38;5;241m.\u001b[39m\n\u001b[1;32m    328\u001b[0m         \u001b[38;5;28mformat\u001b[39m(target_id, \u001b[38;5;124m\"\u001b[39m\u001b[38;5;124m.\u001b[39m\u001b[38;5;124m\"\u001b[39m, name), value)\n\u001b[1;32m    329\u001b[0m \u001b[38;5;28;01melse\u001b[39;00m:\n\u001b[1;32m    330\u001b[0m     \u001b[38;5;28;01mraise\u001b[39;00m Py4JError(\n\u001b[1;32m    331\u001b[0m         \u001b[38;5;124m\"\u001b[39m\u001b[38;5;124mAn error occurred while calling \u001b[39m\u001b[38;5;132;01m{0}\u001b[39;00m\u001b[38;5;132;01m{1}\u001b[39;00m\u001b[38;5;132;01m{2}\u001b[39;00m\u001b[38;5;124m. Trace:\u001b[39m\u001b[38;5;130;01m\\n\u001b[39;00m\u001b[38;5;132;01m{3}\u001b[39;00m\u001b[38;5;130;01m\\n\u001b[39;00m\u001b[38;5;124m\"\u001b[39m\u001b[38;5;241m.\u001b[39m\n\u001b[1;32m    332\u001b[0m         \u001b[38;5;28mformat\u001b[39m(target_id, \u001b[38;5;124m\"\u001b[39m\u001b[38;5;124m.\u001b[39m\u001b[38;5;124m\"\u001b[39m, name, value))\n",
      "\u001b[0;31mPy4JJavaError\u001b[0m: An error occurred while calling o40.count.\n: org.apache.spark.SparkException: Job aborted due to stage failure: Task serialization failed: org.apache.spark.SparkException: Failed to register classes with Kryo\norg.apache.spark.SparkException: Failed to register classes with Kryo\n\tat org.apache.spark.serializer.KryoSerializer.$anonfun$newKryo$5(KryoSerializer.scala:186)\n\tat scala.runtime.java8.JFunction0$mcV$sp.apply(JFunction0$mcV$sp.java:23)\n\tat org.apache.spark.util.Utils$.withContextClassLoader(Utils.scala:178)\n\tat org.apache.spark.serializer.KryoSerializer.newKryo(KryoSerializer.scala:174)\n\tat org.apache.spark.serializer.KryoSerializer$$anon$1.create(KryoSerializer.scala:105)\n\tat com.esotericsoftware.kryo.pool.KryoPoolQueueImpl.borrow(KryoPoolQueueImpl.java:48)\n\tat org.apache.spark.serializer.KryoSerializer$PoolWrapper.borrow(KryoSerializer.scala:112)\n\tat org.apache.spark.serializer.KryoSerializerInstance.borrowKryo(KryoSerializer.scala:401)\n\tat org.apache.spark.serializer.KryoSerializationStream.<init>(KryoSerializer.scala:275)\n\tat org.apache.spark.serializer.KryoSerializerInstance.serializeStream(KryoSerializer.scala:487)\n\tat org.apache.spark.broadcast.TorrentBroadcast$.blockifyObject(TorrentBroadcast.scala:363)\n\tat org.apache.spark.broadcast.TorrentBroadcast.writeBlocks(TorrentBroadcast.scala:161)\n\tat org.apache.spark.broadcast.TorrentBroadcast.<init>(TorrentBroadcast.scala:99)\n\tat org.apache.spark.broadcast.TorrentBroadcastFactory.newBroadcast(TorrentBroadcastFactory.scala:38)\n\tat org.apache.spark.broadcast.BroadcastManager.newBroadcast(BroadcastManager.scala:78)\n\tat org.apache.spark.SparkContext.broadcastInternal(SparkContext.scala:1657)\n\tat org.apache.spark.SparkContext.broadcast(SparkContext.scala:1639)\n\tat org.apache.spark.scheduler.DAGScheduler.submitMissingTasks(DAGScheduler.scala:1585)\n\tat org.apache.spark.scheduler.DAGScheduler.submitStage(DAGScheduler.scala:1402)\n\tat org.apache.spark.scheduler.DAGScheduler.handleMapStageSubmitted(DAGScheduler.scala:1377)\n\tat org.apache.spark.scheduler.DAGSchedulerEventProcessLoop.doOnReceive(DAGScheduler.scala:3007)\n\tat org.apache.spark.scheduler.DAGSchedulerEventProcessLoop.onReceive(DAGScheduler.scala:2994)\n\tat org.apache.spark.scheduler.DAGSchedulerEventProcessLoop.onReceive(DAGScheduler.scala:2983)\n\tat org.apache.spark.util.EventLoop$$anon$1.run(EventLoop.scala:49)\nCaused by: java.lang.ClassNotFoundException: org.apache.sedona.core.serde.SedonaKryoRegistrator\n\tat java.net.URLClassLoader.findClass(URLClassLoader.java:382)\n\tat java.lang.ClassLoader.loadClass(ClassLoader.java:424)\n\tat java.lang.ClassLoader.loadClass(ClassLoader.java:357)\n\tat java.lang.Class.forName0(Native Method)\n\tat java.lang.Class.forName(Class.java:348)\n\tat org.apache.spark.util.SparkClassUtils.classForName(SparkClassUtils.scala:43)\n\tat org.apache.spark.util.SparkClassUtils.classForName$(SparkClassUtils.scala:36)\n\tat org.apache.spark.util.Utils$.classForName(Utils.scala:94)\n\tat org.apache.spark.serializer.KryoSerializer.$anonfun$newKryo$7(KryoSerializer.scala:181)\n\tat scala.collection.TraversableLike.$anonfun$map$1(TraversableLike.scala:286)\n\tat scala.collection.mutable.ResizableArray.foreach(ResizableArray.scala:62)\n\tat scala.collection.mutable.ResizableArray.foreach$(ResizableArray.scala:55)\n\tat scala.collection.mutable.ArrayBuffer.foreach(ArrayBuffer.scala:49)\n\tat scala.collection.TraversableLike.map(TraversableLike.scala:286)\n\tat scala.collection.TraversableLike.map$(TraversableLike.scala:279)\n\tat scala.collection.AbstractTraversable.map(Traversable.scala:108)\n\tat org.apache.spark.serializer.KryoSerializer.$anonfun$newKryo$5(KryoSerializer.scala:181)\n\t... 23 more\n\n\tat org.apache.spark.scheduler.DAGScheduler.failJobAndIndependentStages(DAGScheduler.scala:2856)\n\tat org.apache.spark.scheduler.DAGScheduler.$anonfun$abortStage$2(DAGScheduler.scala:2792)\n\tat org.apache.spark.scheduler.DAGScheduler.$anonfun$abortStage$2$adapted(DAGScheduler.scala:2791)\n\tat scala.collection.mutable.ResizableArray.foreach(ResizableArray.scala:62)\n\tat scala.collection.mutable.ResizableArray.foreach$(ResizableArray.scala:55)\n\tat scala.collection.mutable.ArrayBuffer.foreach(ArrayBuffer.scala:49)\n\tat org.apache.spark.scheduler.DAGScheduler.abortStage(DAGScheduler.scala:2791)\n\tat org.apache.spark.scheduler.DAGScheduler.submitMissingTasks(DAGScheduler.scala:1595)\n\tat org.apache.spark.scheduler.DAGScheduler.submitStage(DAGScheduler.scala:1402)\n\tat org.apache.spark.scheduler.DAGScheduler.handleMapStageSubmitted(DAGScheduler.scala:1377)\n\tat org.apache.spark.scheduler.DAGSchedulerEventProcessLoop.doOnReceive(DAGScheduler.scala:3007)\n\tat org.apache.spark.scheduler.DAGSchedulerEventProcessLoop.onReceive(DAGScheduler.scala:2994)\n\tat org.apache.spark.scheduler.DAGSchedulerEventProcessLoop.onReceive(DAGScheduler.scala:2983)\n\tat org.apache.spark.util.EventLoop$$anon$1.run(EventLoop.scala:49)\nCaused by: org.apache.spark.SparkException: Failed to register classes with Kryo\n\tat org.apache.spark.serializer.KryoSerializer.$anonfun$newKryo$5(KryoSerializer.scala:186)\n\tat scala.runtime.java8.JFunction0$mcV$sp.apply(JFunction0$mcV$sp.java:23)\n\tat org.apache.spark.util.Utils$.withContextClassLoader(Utils.scala:178)\n\tat org.apache.spark.serializer.KryoSerializer.newKryo(KryoSerializer.scala:174)\n\tat org.apache.spark.serializer.KryoSerializer$$anon$1.create(KryoSerializer.scala:105)\n\tat com.esotericsoftware.kryo.pool.KryoPoolQueueImpl.borrow(KryoPoolQueueImpl.java:48)\n\tat org.apache.spark.serializer.KryoSerializer$PoolWrapper.borrow(KryoSerializer.scala:112)\n\tat org.apache.spark.serializer.KryoSerializerInstance.borrowKryo(KryoSerializer.scala:401)\n\tat org.apache.spark.serializer.KryoSerializationStream.<init>(KryoSerializer.scala:275)\n\tat org.apache.spark.serializer.KryoSerializerInstance.serializeStream(KryoSerializer.scala:487)\n\tat org.apache.spark.broadcast.TorrentBroadcast$.blockifyObject(TorrentBroadcast.scala:363)\n\tat org.apache.spark.broadcast.TorrentBroadcast.writeBlocks(TorrentBroadcast.scala:161)\n\tat org.apache.spark.broadcast.TorrentBroadcast.<init>(TorrentBroadcast.scala:99)\n\tat org.apache.spark.broadcast.TorrentBroadcastFactory.newBroadcast(TorrentBroadcastFactory.scala:38)\n\tat org.apache.spark.broadcast.BroadcastManager.newBroadcast(BroadcastManager.scala:78)\n\tat org.apache.spark.SparkContext.broadcastInternal(SparkContext.scala:1657)\n\tat org.apache.spark.SparkContext.broadcast(SparkContext.scala:1639)\n\tat org.apache.spark.scheduler.DAGScheduler.submitMissingTasks(DAGScheduler.scala:1585)\n\t... 6 more\nCaused by: java.lang.ClassNotFoundException: org.apache.sedona.core.serde.SedonaKryoRegistrator\n\tat java.net.URLClassLoader.findClass(URLClassLoader.java:382)\n\tat java.lang.ClassLoader.loadClass(ClassLoader.java:424)\n\tat java.lang.ClassLoader.loadClass(ClassLoader.java:357)\n\tat java.lang.Class.forName0(Native Method)\n\tat java.lang.Class.forName(Class.java:348)\n\tat org.apache.spark.util.SparkClassUtils.classForName(SparkClassUtils.scala:43)\n\tat org.apache.spark.util.SparkClassUtils.classForName$(SparkClassUtils.scala:36)\n\tat org.apache.spark.util.Utils$.classForName(Utils.scala:94)\n\tat org.apache.spark.serializer.KryoSerializer.$anonfun$newKryo$7(KryoSerializer.scala:181)\n\tat scala.collection.TraversableLike.$anonfun$map$1(TraversableLike.scala:286)\n\tat scala.collection.mutable.ResizableArray.foreach(ResizableArray.scala:62)\n\tat scala.collection.mutable.ResizableArray.foreach$(ResizableArray.scala:55)\n\tat scala.collection.mutable.ArrayBuffer.foreach(ArrayBuffer.scala:49)\n\tat scala.collection.TraversableLike.map(TraversableLike.scala:286)\n\tat scala.collection.TraversableLike.map$(TraversableLike.scala:279)\n\tat scala.collection.AbstractTraversable.map(Traversable.scala:108)\n\tat org.apache.spark.serializer.KryoSerializer.$anonfun$newKryo$5(KryoSerializer.scala:181)\n\t... 23 more\n"
     ]
    }
   ],
   "source": [
    "# Load data\n",
    "\n",
    "data_dir = \"./data\"\n",
    "\n",
    "# file paths:\n",
    "\n",
    "path_contr = f\"{data_dir}/data_EU/countries_shp/\"\n",
    "path_reg = f\"{data_dir}/data_Italy/regioni/\"\n",
    "path_prov = f\"{data_dir}/data_Italy/provinci\"\n",
    "path_com_EU = f\"{data_dir}/data_EU/comuni_shp/\"\n",
    "path_com = f\"{data_dir}/data_Italy/comuni/\"\n",
    "path_grids = f\"{data_dir}/data_EU/census_grid_EU/grids_corrected.parquet\"\n",
    "path_grids_new = f\"{data_dir}/data_EU/census_grid_EU/grids_new.gpkg\"\n",
    "\n",
    "\n",
    "# datasets:\n",
    "# format: {display_name: (path, file_format), ...}\n",
    "\n",
    "datasets = {\n",
    "    \"countries\": (path_contr, \"shapefile\"),\n",
    "    \"regions_IT\": (path_reg, \"shapefile\"),\n",
    "    \"provinces_IT\": (path_prov, \"shapefile\"),\n",
    "    \"comuni_EU\": (path_com_EU, \"shapefile\"),\n",
    "    \"comuni_IT\": (path_com, \"shapefile\"),\n",
    "    \"pop_grids\": (path_grids, \"geoparquet\"),\n",
    "    \"pop_grids_new\": (path_grids_new, \"geopackage\")\n",
    "    # \"census\": (path_census, \"\"),\n",
    "}\n",
    "\n",
    "\n",
    "obj = Enricher(crs=\"EPSG:3035\")\n",
    "obj.setup_cluster(which=\"sedona\", ex_mem=26, dr_mem=24, log_level=\"ERROR\")\n",
    "\n",
    "obj.load(datasets, data_dir=data_dir, silent=True)\n",
    "obj.fix_geometries(skip=['pop_grids', 'pop_grids_new'])\n",
    "obj.force_repartition(skip=['pop_grids'])\n",
    "# obj.inspect_partitions()\n",
    "obj.transform_CRS(lazy=False)\n",
    "obj.parquet_all(preserve_partitions=True)\n",
    "\n",
    "\n",
    "# obj.dfs_list['comuni_EU'] = obj.dfs_list['comuni_EU'].filter(F.col('CNTR_ID').isin([\"IT\", \"DE\"]))"
   ]
  },
  {
   "cell_type": "code",
   "execution_count": 5,
   "metadata": {},
   "outputs": [
    {
     "name": "stdout",
     "output_type": "stream",
     "text": [
      "Loading 'countries' from Parquet...\n",
      "Loaded dataframe 'countries'\n",
      "Loading 'regions_IT' from Parquet...\n",
      "Loaded dataframe 'regions_IT'\n",
      "Loading 'provinces_IT' from Parquet...\n",
      "Loaded dataframe 'provinces_IT'\n",
      "Loading 'comuni_EU' from Parquet...\n",
      "Loaded dataframe 'comuni_EU'\n",
      "Loading 'comuni_IT' from Parquet...\n",
      "Loaded dataframe 'comuni_IT'\n",
      "Loading 'pop_grids' from Parquet...\n",
      "Loaded dataframe 'pop_grids'\n",
      "Loading 'pop_grids_new' from Parquet...\n",
      "Loaded dataframe 'pop_grids_new'\n"
     ]
    }
   ],
   "source": [
    "# Load from pickles\n",
    "\n",
    "data_dir = \"./data\"\n",
    "\n",
    "# file paths:\n",
    "\n",
    "path_contr = f\"{data_dir}/data_EU/countries_shp/\"\n",
    "path_reg = f\"{data_dir}/data_Italy/regioni/\"\n",
    "path_prov = f\"{data_dir}/data_Italy/provinci\"\n",
    "path_com_EU = f\"{data_dir}/data_EU/comuni_shp/\"\n",
    "path_com = f\"{data_dir}/data_Italy/comuni/\"\n",
    "path_grids = f\"{data_dir}/data_EU/census_grid_EU/grids_corrected.parquet\"\n",
    "path_grids_new = f\"{data_dir}/data_EU/census_grid_EU/grids_new.gpkg\"\n",
    "\n",
    "\n",
    "# datasets:\n",
    "# format: {display_name: (path, file_format), ...}\n",
    "\n",
    "datasets = {\n",
    "    \"countries\": (path_contr, \"shapefile\"),\n",
    "    \"regions_IT\": (path_reg, \"shapefile\"),\n",
    "    \"provinces_IT\": (path_prov, \"shapefile\"),\n",
    "    \"comuni_EU\": (path_com_EU, \"shapefile\"),\n",
    "    \"comuni_IT\": (path_com, \"shapefile\"),\n",
    "    \"pop_grids\": (path_grids, \"geoparquet\"),\n",
    "    \"pop_grids_new\": (path_grids_new, \"geopackage\")\n",
    "    # \"census\": (path_census, \"\"),\n",
    "}\n",
    "\n",
    "# obj = Enricher(crs=\"EPSG:3035\")\n",
    "# obj.setup_cluster(which=\"sedona\", ex_mem=26, dr_mem=24, log_level=\"ERROR\")\n",
    "obj.load_from_parquets(datasets)\n",
    "# obj.inspect_partitions()"
   ]
  },
  {
   "cell_type": "code",
   "execution_count": null,
   "metadata": {},
   "outputs": [
    {
     "name": "stdout",
     "output_type": "stream",
     "text": [
      "['COMM_ID', 'CNTR_ID', 'CNTR_CODE', 'COMM_NAME', 'NAME_ASCI', 'TRUE_FLAG', 'NSI_CODE', 'NAME_NSI', 'NAME_LATN', 'NUTS_CODE', 'FID', 'DIST_BORD', 'TOT_P_2018', 'TOT_P_2006', 'GRD_ID', 'TOT_P_2011', 'Y_LLC', 'NUTS2016_3', 'NUTS2016_2', 'NUTS2016_1', 'NUTS2016_0', 'LAND_PC', 'X_LLC', 'NUTS2021_3', 'NUTS2021_2', 'NUTS2021_1', 'NUTS2021_0', 'geometry', 'intr_ratio', 'TOT_P_2021_agr_sum', 'DIST_COAST_agr_mean']\n",
      "Saving dataframe 'pop_new_X_comuni_EU_res' as Parquet...\n"
     ]
    },
    {
     "name": "stderr",
     "output_type": "stream",
     "text": [
      "[Stage 155:>                                                        (0 + 1) / 1]\r"
     ]
    },
    {
     "name": "stdout",
     "output_type": "stream",
     "text": [
      "Saved to './pickle_parquets/others/pop_new_X_comuni_EU_res'\n"
     ]
    },
    {
     "name": "stderr",
     "output_type": "stream",
     "text": [
      "                                                                                \r"
     ]
    }
   ],
   "source": [
    "# obj.parquet_this(\"pop_new_X_comuni_EU\", obj.res_agr, preserve_partitions=False)\n",
    "\n",
    "obj.parquet_this(\"pop_new_X_comuni_EU_res\", obj.res, preserve_partitions=False)\n"
   ]
  },
  {
   "cell_type": "code",
   "execution_count": 6,
   "metadata": {},
   "outputs": [
    {
     "data": {
      "application/vnd.jupyter.widget-view+json": {
       "model_id": "f20138849a0a4028a69f7f4d345753f8",
       "version_major": 2,
       "version_minor": 0
      },
      "text/plain": [
       "VBox(children=(HTML(value='<h1>Enrich with Overlay & Aggregation</h1>'), HTML(value=\"<div style='height: 5px;'…"
      ]
     },
     "metadata": {},
     "output_type": "display_data"
    }
   ],
   "source": [
    "# GUI\n",
    "\n",
    "obj_ui = EnricherUI(obj)\n"
   ]
  },
  {
   "cell_type": "code",
   "execution_count": null,
   "metadata": {},
   "outputs": [],
   "source": [
    "\n",
    "# unique_values = obj.res.select('CNTR_ID').distinct().rdd.flatMap(lambda x: x).collect()\n",
    "# print(unique_values)"
   ]
  },
  {
   "cell_type": "code",
   "execution_count": 1,
   "metadata": {},
   "outputs": [
    {
     "ename": "NameError",
     "evalue": "name 'obj' is not defined",
     "output_type": "error",
     "traceback": [
      "\u001b[0;31m---------------------------------------------------------------------------\u001b[0m",
      "\u001b[0;31mNameError\u001b[0m                                 Traceback (most recent call last)",
      "Cell \u001b[0;32mIn[1], line 6\u001b[0m\n\u001b[1;32m      3\u001b[0m \u001b[38;5;28;01mfrom\u001b[39;00m\u001b[38;5;250m \u001b[39m\u001b[38;5;21;01mshapely\u001b[39;00m\u001b[38;5;21;01m.\u001b[39;00m\u001b[38;5;21;01mgeometry\u001b[39;00m\u001b[38;5;250m \u001b[39m\u001b[38;5;28;01mimport\u001b[39;00m shape\n\u001b[1;32m      4\u001b[0m \u001b[38;5;28;01mimport\u001b[39;00m\u001b[38;5;250m \u001b[39m\u001b[38;5;21;01mdecimal\u001b[39;00m\n\u001b[0;32m----> 6\u001b[0m temp_df \u001b[38;5;241m=\u001b[39m \u001b[43mobj\u001b[49m\u001b[38;5;241m.\u001b[39mres_agr\n\u001b[1;32m      7\u001b[0m \u001b[38;5;66;03m# temp_df = obj.res.filter(F.col('CNTR_ID').isin(\"NL\", \"BE\", \"DE\", \"IT\"))\u001b[39;00m\n\u001b[1;32m      8\u001b[0m \u001b[38;5;66;03m# temp_df = obj.dfs_list['comuni_EU']\u001b[39;00m\n\u001b[1;32m      9\u001b[0m \u001b[38;5;66;03m# temp_df = obj.dfs_list['pop_grids'].filter(F.col('T')>1000)\u001b[39;00m\n\u001b[1;32m     12\u001b[0m \u001b[38;5;28;01mdef\u001b[39;00m\u001b[38;5;250m \u001b[39m\u001b[38;5;21mprep_for_map\u001b[39m(res_agr, crs, geom_col\u001b[38;5;241m=\u001b[39m\u001b[38;5;124m'\u001b[39m\u001b[38;5;124mgeometry\u001b[39m\u001b[38;5;124m'\u001b[39m):\n",
      "\u001b[0;31mNameError\u001b[0m: name 'obj' is not defined"
     ]
    }
   ],
   "source": [
    "from keplergl import KeplerGl\n",
    "import geopandas as gpd\n",
    "from shapely.geometry import shape\n",
    "import decimal\n",
    "\n",
    "temp_df = obj.res_agr\n",
    "# temp_df = obj.res.filter(F.col('CNTR_ID').isin(\"NL\", \"BE\", \"DE\", \"IT\"))\n",
    "# temp_df = obj.dfs_list['comuni_EU']\n",
    "# temp_df = obj.dfs_list['pop_grids'].filter(F.col('T')>1000)\n",
    "\n",
    "\n",
    "def prep_for_map(res_agr, crs, geom_col='geometry'):\n",
    "    df = res_agr.toPandas()\n",
    "    df = df.map(lambda x: float(x) if isinstance(x, decimal.Decimal) else x)\n",
    "    df['geometry'] = df[f'{geom_col}'].apply(lambda geom: shape(geom))\n",
    "\n",
    "    gdf = gpd.GeoDataFrame(df, geometry='geometry')\n",
    "    gdf.crs = crs\n",
    "    \n",
    "    return gdf\n",
    "\n",
    "map = KeplerGl(height=600)\n",
    "map.add_data(data=prep_for_map(temp_df, obj.crs, geom_col=\"geometry\"), name=\"pop_grids\")\n",
    "map"
   ]
  },
  {
   "cell_type": "code",
   "execution_count": null,
   "metadata": {},
   "outputs": [],
   "source": [
    "from keplergl import KeplerGl\n",
    "import geopandas as gpd\n",
    "from shapely.geometry import shape\n",
    "import decimal\n",
    "\n",
    "# temp_df = obj.res_agr\n",
    "temp_df = obj.dfs_list['pop_grids_new']\n",
    "# temp_df = obj.dfs_list['comuni_EU']\n",
    "# temp_df = obj.dfs_list['pop_grids_new'].filter(F.col('CNTR_ID').isin(\"NL\", \"BE\", \"DE\", \"IT\"))\n",
    "\n",
    "\n",
    "def prep_for_map(res_agr, crs, geom_col='geometry'):\n",
    "    df = res_agr.toPandas()\n",
    "    df = df.map(lambda x: float(x) if isinstance(x, decimal.Decimal) else x)\n",
    "    df['geometry'] = df[f'{geom_col}'].apply(lambda geom: shape(geom))\n",
    "\n",
    "    gdf = gpd.GeoDataFrame(df, geometry='geometry')\n",
    "    gdf.crs = crs\n",
    "    \n",
    "    return gdf\n",
    "\n",
    "map = KeplerGl(height=600)\n",
    "map.add_data(data=prep_for_map(temp_df, obj.crs, geom_col=\"geometry\"), name=\"pop_grids\")\n",
    "map"
   ]
  },
  {
   "cell_type": "code",
   "execution_count": null,
   "metadata": {},
   "outputs": [],
   "source": []
  },
  {
   "cell_type": "code",
   "execution_count": 12,
   "metadata": {},
   "outputs": [],
   "source": [
    "full_EU_com_enriched = obj.res_agr"
   ]
  },
  {
   "cell_type": "code",
   "execution_count": 11,
   "metadata": {},
   "outputs": [
    {
     "name": "stdout",
     "output_type": "stream",
     "text": [
      "User Guide: https://docs.kepler.gl/docs/keplergl-jupyter\n"
     ]
    },
    {
     "data": {
      "application/vnd.jupyter.widget-view+json": {
       "model_id": "4a537a4fb6604e8fab471ca6fb390dcc",
       "version_major": 2,
       "version_minor": 0
      },
      "text/plain": [
       "KeplerGl(data={'res_agr': {'index': [0, 1, 2, 3, 4, 5, 6, 7, 8, 9, 10, 11, 12, 13, 14, 15, 16, 17, 18, 19, 20,…"
      ]
     },
     "execution_count": 11,
     "metadata": {},
     "output_type": "execute_result"
    }
   ],
   "source": [
    "from keplergl import KeplerGl\n",
    "import geopandas as gpd\n",
    "from shapely.geometry import shape\n",
    "\n",
    "com_pop = obj.res_agr\n",
    "\n",
    "res_agr = com_pop.toPandas()\n",
    "res_agr['geometry'] = res_agr['geometry'].apply(lambda geom: shape(geom))\n",
    "\n",
    "gdf = gpd.GeoDataFrame(res_agr, geometry='geometry')\n",
    "gdf.crs = \"EPSG:3035\"\n",
    "\n",
    "map = KeplerGl(height=600)\n",
    "map.add_data(data=gdf, name=\"res_agr\")\n",
    "map"
   ]
  },
  {
   "cell_type": "code",
   "execution_count": null,
   "metadata": {},
   "outputs": [],
   "source": []
  },
  {
   "cell_type": "code",
   "execution_count": null,
   "metadata": {},
   "outputs": [],
   "source": []
  },
  {
   "cell_type": "code",
   "execution_count": null,
   "metadata": {},
   "outputs": [],
   "source": []
  },
  {
   "cell_type": "code",
   "execution_count": null,
   "metadata": {},
   "outputs": [],
   "source": []
  },
  {
   "cell_type": "code",
   "execution_count": null,
   "metadata": {},
   "outputs": [],
   "source": []
  },
  {
   "cell_type": "code",
   "execution_count": null,
   "metadata": {},
   "outputs": [],
   "source": []
  },
  {
   "cell_type": "code",
   "execution_count": null,
   "metadata": {},
   "outputs": [],
   "source": []
  },
  {
   "cell_type": "code",
   "execution_count": null,
   "metadata": {},
   "outputs": [],
   "source": []
  },
  {
   "cell_type": "code",
   "execution_count": null,
   "metadata": {},
   "outputs": [],
   "source": []
  }
 ],
 "metadata": {
  "kernelspec": {
   "display_name": "sedona_venv",
   "language": "python",
   "name": "python3"
  },
  "language_info": {
   "codemirror_mode": {
    "name": "ipython",
    "version": 3
   },
   "file_extension": ".py",
   "mimetype": "text/x-python",
   "name": "python",
   "nbconvert_exporter": "python",
   "pygments_lexer": "ipython3",
   "version": "3.12.3"
  }
 },
 "nbformat": 4,
 "nbformat_minor": 4
}
