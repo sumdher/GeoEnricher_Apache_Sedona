{
 "cells": [
  {
   "cell_type": "code",
   "execution_count": null,
   "metadata": {},
   "outputs": [],
   "source": [
    "# This is encypted content. \n",
    "# Contact me: \"sudheer.siddabattula@gmail.com\" for details/access.\n",
    "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"
   ]
  },
  {
   "cell_type": "code",
   "execution_count": null,
   "metadata": {},
   "outputs": [
    {
     "name": "stdout",
     "output_type": "stream",
     "text": [
      "Sedona initialized with 10 cores for parellelism.\n",
      "\n",
      "Loading datasets...\n",
      "Make sure the geometry column is named \"geometry\" in the datasets\n",
      "Loaded 'countries': (259, 12), 'EPSG:3035'\n",
      "Loaded 'regions_IT': (20, 6), 'EPSG:32632'\n",
      "Loaded 'provinces_IT': (107, 13), 'EPSG:32632'\n",
      "Loaded 'comuni_EU': (122750, 12), 'EPSG:3035'\n",
      "Loaded 'comuni_IT': (7899, 13), 'EPSG:32632'\n"
     ]
    },
    {
     "name": "stderr",
     "output_type": "stream",
     "text": [
      "                                                                                \r"
     ]
    },
    {
     "name": "stdout",
     "output_type": "stream",
     "text": [
      "Loaded 'pop_grids': (4594018, 18), 'EPSG:3035'\n"
     ]
    },
    {
     "name": "stderr",
     "output_type": "stream",
     "text": [
      "/opt/conda/lib/python3.12/contextlib.py:137: RuntimeWarning: GPKG: unrecognized user_version=0x00000000 (0) on './data/data_EU/census_grid_EU/grids_new.gpkg'\n",
      "  return next(self.gen)\n"
     ]
    },
    {
     "name": "stdout",
     "output_type": "stream",
     "text": [
      "Loaded 'pop_grids_new': (7055226, 20), 'EPSG:3035'\n",
      "7 datasets loaded. \n",
      "\n"
     ]
    },
    {
     "name": "stderr",
     "output_type": "stream",
     "text": [
      "                                                                                \r"
     ]
    },
    {
     "name": "stdout",
     "output_type": "stream",
     "text": [
      "'countries' has 0.00% invalid geometries.\n",
      "Nothing to fix in 'countries'\n"
     ]
    },
    {
     "name": "stderr",
     "output_type": "stream",
     "text": [
      "                                                                                \r"
     ]
    },
    {
     "name": "stdout",
     "output_type": "stream",
     "text": [
      "'regions_IT' has 5.00% invalid geometries.\n",
      "Fixed 1 geometries in 'regions_IT'\n"
     ]
    },
    {
     "name": "stderr",
     "output_type": "stream",
     "text": [
      "                                                                                \r"
     ]
    },
    {
     "name": "stdout",
     "output_type": "stream",
     "text": [
      "'provinces_IT' has 0.93% invalid geometries.\n",
      "Fixed 1 geometries in 'provinces_IT'\n"
     ]
    },
    {
     "name": "stderr",
     "output_type": "stream",
     "text": [
      "                                                                                \r"
     ]
    },
    {
     "name": "stdout",
     "output_type": "stream",
     "text": [
      "'comuni_EU' has 0.00% invalid geometries.\n",
      "Nothing to fix in 'comuni_EU'\n"
     ]
    },
    {
     "name": "stderr",
     "output_type": "stream",
     "text": [
      "                                                                                \r"
     ]
    },
    {
     "name": "stdout",
     "output_type": "stream",
     "text": [
      "'comuni_IT' has 0.10% invalid geometries.\n",
      "Fixed 8 geometries in 'comuni_IT'\n",
      "\n",
      "Transforming CRS...\n",
      "Changed CRS of 'countries': 'EPSG:3035' to 'EPSG:3035'\n",
      "Changed CRS of 'regions_IT': 'EPSG:32632' to 'EPSG:3035'\n",
      "Changed CRS of 'provinces_IT': 'EPSG:32632' to 'EPSG:3035'\n",
      "Changed CRS of 'comuni_EU': 'EPSG:3035' to 'EPSG:3035'\n",
      "Changed CRS of 'comuni_IT': 'EPSG:32632' to 'EPSG:3035'\n",
      "Changed CRS of 'pop_grids': 'EPSG:3035' to 'EPSG:3035'\n",
      "Changed CRS of 'pop_grids_new': 'EPSG:3035' to 'EPSG:3035'\n",
      "Dataset cached. 259 rows.\n"
     ]
    },
    {
     "name": "stderr",
     "output_type": "stream",
     "text": [
      "                                                                                \r"
     ]
    },
    {
     "name": "stdout",
     "output_type": "stream",
     "text": [
      "Dataset cached. 20 rows.\n"
     ]
    },
    {
     "name": "stderr",
     "output_type": "stream",
     "text": [
      "                                                                                \r"
     ]
    },
    {
     "name": "stdout",
     "output_type": "stream",
     "text": [
      "Dataset cached. 107 rows.\n"
     ]
    },
    {
     "name": "stderr",
     "output_type": "stream",
     "text": [
      "                                                                                \r"
     ]
    },
    {
     "name": "stdout",
     "output_type": "stream",
     "text": [
      "Dataset cached. 122750 rows.\n"
     ]
    },
    {
     "name": "stderr",
     "output_type": "stream",
     "text": [
      "                                                                                \r"
     ]
    },
    {
     "name": "stdout",
     "output_type": "stream",
     "text": [
      "Dataset cached. 7899 rows.\n"
     ]
    },
    {
     "name": "stderr",
     "output_type": "stream",
     "text": [
      "                                                                                \r"
     ]
    },
    {
     "name": "stdout",
     "output_type": "stream",
     "text": [
      "Dataset cached. 4594018 rows.\n"
     ]
    },
    {
     "name": "stderr",
     "output_type": "stream",
     "text": [
      "                                                                                \r"
     ]
    },
    {
     "name": "stdout",
     "output_type": "stream",
     "text": [
      "Dataset cached. 7055226 rows.\n",
      "Saving 'countries' as Parquet...\n"
     ]
    },
    {
     "name": "stderr",
     "output_type": "stream",
     "text": [
      "                                                                                \r"
     ]
    },
    {
     "name": "stdout",
     "output_type": "stream",
     "text": [
      "Saved to './data/pickle_parquets/dfs_list/countries'\n",
      "Saving 'regions_IT' as Parquet...\n",
      "Saved to './data/pickle_parquets/dfs_list/regions_IT'\n",
      "Saving 'provinces_IT' as Parquet...\n",
      "Saved to './data/pickle_parquets/dfs_list/provinces_IT'\n",
      "Saving 'comuni_EU' as Parquet...\n"
     ]
    },
    {
     "name": "stderr",
     "output_type": "stream",
     "text": [
      "                                                                                \r"
     ]
    },
    {
     "name": "stdout",
     "output_type": "stream",
     "text": [
      "Saved to './data/pickle_parquets/dfs_list/comuni_EU'\n",
      "Saving 'comuni_IT' as Parquet...\n"
     ]
    },
    {
     "name": "stderr",
     "output_type": "stream",
     "text": [
      "                                                                                \r"
     ]
    },
    {
     "name": "stdout",
     "output_type": "stream",
     "text": [
      "Saved to './data/pickle_parquets/dfs_list/comuni_IT'\n",
      "Saving 'pop_grids' as Parquet...\n"
     ]
    },
    {
     "name": "stderr",
     "output_type": "stream",
     "text": [
      "                                                                                \r"
     ]
    },
    {
     "name": "stdout",
     "output_type": "stream",
     "text": [
      "Saved to './data/pickle_parquets/dfs_list/pop_grids'\n",
      "Saving 'pop_grids_new' as Parquet...\n"
     ]
    },
    {
     "name": "stderr",
     "output_type": "stream",
     "text": [
      "[Stage 121:============================>                           (5 + 5) / 10]\r"
     ]
    },
    {
     "name": "stdout",
     "output_type": "stream",
     "text": [
      "Saved to './data/pickle_parquets/dfs_list/pop_grids_new'\n"
     ]
    },
    {
     "name": "stderr",
     "output_type": "stream",
     "text": [
      "                                                                                \r"
     ]
    }
   ],
   "source": [
    "''' \n",
    "Load data from files \n",
    "\n",
    "'''\n",
    "\n",
    "\n",
    "# Provide the data directory\n",
    "data_dir = \"./data\"\n",
    "\n",
    "# Individual file path:\n",
    "path_contr = f\"{data_dir}/data_EU/countries_shp/\"\n",
    "path_reg = f\"{data_dir}/data_Italy/regioni/\"\n",
    "path_prov = f\"{data_dir}/data_Italy/provinci\"\n",
    "path_com_EU = f\"{data_dir}/data_EU/comuni_shp/\"\n",
    "path_com = f\"{data_dir}/data_Italy/comuni/\"\n",
    "path_grids = f\"{data_dir}/data_EU/census_grid_EU/grids_OG_corrected.parquet\"\n",
    "path_grids_new = f\"{data_dir}/data_EU/census_grid_EU/grids_new.gpkg\"\n",
    "\n",
    "\n",
    "# Dataset names and their file formats:\n",
    "# format: {dataset_name: (path, file_format), ...}\n",
    "\n",
    "datasets = {\n",
    "    \"countries\": (path_contr, \"shapefile\"),\n",
    "    \"regions_IT\": (path_reg, \"shapefile\"),\n",
    "    \"provinces_IT\": (path_prov, \"shapefile\"),\n",
    "    \"comuni_EU\": (path_com_EU, \"shapefile\"),\n",
    "    \"comuni_IT\": (path_com, \"shapefile\"),\n",
    "    \"pop_grids\": (path_grids, \"geoparquet\"),\n",
    "    \"pop_grids_new\": (path_grids_new, \"geopackage\")\n",
    "    # \"census\": (path_census, \"\"),\n",
    "}\n",
    "\n",
    "obj = Enricher(crs=\"EPSG:3035\")\n",
    "\n",
    "# Setup the Enricher object with \"sedona\" (or, \"wherobots\")\n",
    "# \"ex_mem\" and \"dr_mem\" are the executor and driver memory in GB\n",
    "obj.setup_cluster(data_dir=data_dir, which=\"sedona\", ex_mem=26, dr_mem=24, log_level=\"ERROR\")\n",
    "\n",
    "# Use \"load()\" to load all the datasets in {data_dir}, \n",
    "# according to the paths and file formats provided in \"datasets{}\"\n",
    "obj.load(datasets, silent=True)\n",
    "\n",
    "# Optionally, run \"fix_geometries()\" to fix invalid geometries if any; \n",
    "# if you want to skip the check for some dataframes, pass their names in \"skip[]\"\n",
    "obj.fix_geometries(skip=['pop_grids', 'pop_grids_new'])\n",
    "\n",
    "# Optionally, inspect the partitions and data skew\n",
    "# obj.inspect_partitions()\n",
    "\n",
    "# if you want, force the dataframes to be repartitioned to the number of available cores\n",
    "# pass the names of the dataframes to be skipped in skip[]\n",
    "obj.force_repartition(skip=['pop_grids'])\n",
    "\n",
    "# obj.inspect_partitions()\n",
    "\n",
    "# Transform the CRS of loaded datasets to the CRS passed in the Enricher constructor\n",
    "# lazy=True will not materialize and cache the dataframes. \n",
    "obj.transform_CRS(lazy=False)\n",
    "\n",
    "# Pickle all the dataframes to disk for quick access later.\n",
    "# default directory: \"./{data_dir}/pickle_parquets/dfs_list\"\n",
    "# you may change the directory where they are saved by pasing it in \"parquet_dir\"; relative to the {data_dir}\n",
    "obj.parquet_all(preserve_partitions=True)\n",
    "\n",
    "\n",
    "# obj.dfs_list['comuni_EU'] = obj.dfs_list['comuni_EU'].filter(F.col('CNTR_ID').isin([\"IT\", \"DE\"]))"
   ]
  },
  {
   "cell_type": "code",
   "execution_count": null,
   "metadata": {},
   "outputs": [
    {
     "name": "stdout",
     "output_type": "stream",
     "text": [
      "Sedona initialized with 10 cores for parellelism.\n",
      "Loading 'countries' from Parquet...\n",
      "Loaded dataframe 'countries'\n",
      "Loading 'regions_IT' from Parquet...\n",
      "Loaded dataframe 'regions_IT'\n",
      "Loading 'provinces_IT' from Parquet...\n",
      "Loaded dataframe 'provinces_IT'\n",
      "Loading 'comuni_EU' from Parquet...\n",
      "Loaded dataframe 'comuni_EU'\n",
      "Loading 'comuni_IT' from Parquet...\n",
      "Loaded dataframe 'comuni_IT'\n",
      "Loading 'pop_grids' from Parquet...\n",
      "Loaded dataframe 'pop_grids'\n",
      "Loading 'pop_grids_new' from Parquet...\n",
      "Loaded dataframe 'pop_grids_new'\n"
     ]
    }
   ],
   "source": [
    "''' \n",
    "Load data from pickled parquets \n",
    "\n",
    "'''\n",
    "\n",
    "# data_dir = \"./data\"\n",
    "\n",
    "# # Although you are loading\n",
    "# path_contr = f\"{data_dir}/data_EU/countries_shp/\"\n",
    "# path_reg = f\"{data_dir}/data_Italy/regioni/\"\n",
    "# path_prov = f\"{data_dir}/data_\n",
    "# Italy/provinci\"\n",
    "# path_com_EU = f\"{data_dir}/data_EU/comuni_shp/\"\n",
    "# path_com = f\"{data_dir}/data_Italy/comuni/\"\n",
    "# path_grids = f\"{data_dir}/data_EU/census_grid_EU/grids_OG_corrected.parquet\"\n",
    "# path_grids_new = f\"{data_dir}/data_EU/census_grid_EU/grids_new.gpkg\"\n",
    "\n",
    "\n",
    "# # datasets:\n",
    "# # format: {display_name: (path, file_format), ...}\n",
    "\n",
    "# datasets = {\n",
    "#     \"countries\": (path_contr, \"shapefile\"),\n",
    "#     \"regions_IT\": (path_reg, \"shapefile\"),\n",
    "#     \"provinces_IT\": (path_prov, \"shapefile\"),\n",
    "#     \"comuni_EU\": (path_com_EU, \"shapefile\"),\n",
    "#     \"comuni_IT\": (path_com, \"shapefile\"),\n",
    "#     \"pop_grids\": (path_grids, \"geoparquet\"),\n",
    "#     \"pop_grids_new\": (path_grids_new, \"geopackage\")\n",
    "#     # \"census\": (path_census, \"\"),\n",
    "# }\n",
    "\n",
    "obj = Enricher(crs=\"EPSG:3035\")\n",
    "\n",
    "# Setup the Enricher object with \"sedona\" (or, \"wherobots\")\n",
    "# \"ex_mem\" and \"dr_mem\" are the executor and driver memory in GB\n",
    "obj.setup_cluster(data_dir=data_dir, which=\"sedona\", ex_mem=26, dr_mem=24, log_level=\"ERROR\")\n",
    "\n",
    "# Loads all the datasets from pickled parquets in the default direcoty: \"./{data_dir}/pickle_parquets/dfs_list\"\n",
    "# optionally, to load from a different directory, pass the directory path in \"parquet_dir\"; reative to the {data_dir}\n",
    "obj.load_from_parquets(datasets)\n",
    "# obj.inspect_partitions()"
   ]
  },
  {
   "cell_type": "code",
   "execution_count": null,
   "metadata": {},
   "outputs": [
    {
     "name": "stdout",
     "output_type": "stream",
     "text": [
      "['COMM_ID', 'CNTR_ID', 'CNTR_CODE', 'COMM_NAME', 'NAME_ASCI', 'TRUE_FLAG', 'NSI_CODE', 'NAME_NSI', 'NAME_LATN', 'NUTS_CODE', 'FID', 'DIST_BORD', 'TOT_P_2018', 'TOT_P_2006', 'GRD_ID', 'TOT_P_2011', 'Y_LLC', 'NUTS2016_3', 'NUTS2016_2', 'NUTS2016_1', 'NUTS2016_0', 'LAND_PC', 'X_LLC', 'NUTS2021_3', 'NUTS2021_2', 'NUTS2021_1', 'NUTS2021_0', 'geometry', 'intr_ratio', 'TOT_P_2021_agr_sum', 'DIST_COAST_agr_mean']\n",
      "Saving dataframe 'pop_new_X_comuni_EU_res' as Parquet...\n"
     ]
    },
    {
     "name": "stderr",
     "output_type": "stream",
     "text": [
      "[Stage 155:>                                                        (0 + 1) / 1]\r"
     ]
    },
    {
     "name": "stdout",
     "output_type": "stream",
     "text": [
      "Saved to './pickle_parquets/others/pop_new_X_comuni_EU_res'\n"
     ]
    },
    {
     "name": "stderr",
     "output_type": "stream",
     "text": [
      "                                                                                \r"
     ]
    }
   ],
   "source": [
    "# obj.parquet_this(\"pop_new_X_comuni_EU\", obj.res_agr, preserve_partitions=False)\n",
    "\n",
    "obj.parquet_this(\"pop_new_X_comuni_EU_res\", obj.res, preserve_partitions=False)\n"
   ]
  },
  {
   "cell_type": "code",
   "execution_count": null,
   "metadata": {},
   "outputs": [
    {
     "data": {
      "application/vnd.jupyter.widget-view+json": {
       "model_id": "ab16c59dacaa4e8d8525fdb1bf23d136",
       "version_major": 2,
       "version_minor": 0
      },
      "text/plain": [
       "VBox(children=(HTML(value='<h1>Enrich with Overlay & Aggregation</h1>'), HTML(value=\"<div style='height: 5px;'…"
      ]
     },
     "metadata": {},
     "output_type": "display_data"
    }
   ],
   "source": [
    "'''\n",
    "GUI for Enricher primitives\n",
    "\n",
    "'''\n",
    "\n",
    "# pass the Enricher object (loaded with the datasets) to the EnricherUI\n",
    "obj_ui = EnricherUI(obj)\n"
   ]
  },
  {
   "cell_type": "code",
   "execution_count": null,
   "metadata": {},
   "outputs": [
    {
     "name": "stdout",
     "output_type": "stream",
     "text": [
      "User Guide: https://docs.kepler.gl/docs/keplergl-jupyter\n"
     ]
    },
    {
     "data": {
      "application/vnd.jupyter.widget-view+json": {
       "model_id": "d8fc78ed0899463eb996895294e377ec",
       "version_major": 2,
       "version_minor": 0
      },
      "text/plain": [
       "KeplerGl(data={'unnamed': {'index': [0, 1, 2, 3, 4, 5, 6, 7, 8, 9, 10, 11, 12, 13, 14, 15, 16, 17, 18, 19, 20,…"
      ]
     },
     "execution_count": 12,
     "metadata": {},
     "output_type": "execute_result"
    }
   ],
   "source": [
    "'''\n",
    "For visualizing the results or other spatial datasets\n",
    "\n",
    "'''\n",
    "\n",
    "\n",
    "from keplergl import KeplerGl\n",
    "import geopandas as gpd\n",
    "from shapely.geometry import shape\n",
    "import decimal\n",
    "\n",
    "\n",
    "def prep_for_map(res_agr, crs, geom_col='geometry'):\n",
    "    df = res_agr.toPandas()\n",
    "    df = df.map(lambda x: float(x) if isinstance(x, decimal.Decimal) else x)\n",
    "    df['geometry'] = df[f'{geom_col}'].apply(lambda geom: shape(geom))\n",
    "\n",
    "    gdf = gpd.GeoDataFrame(df, geometry='geometry')\n",
    "    gdf.crs = crs\n",
    "    \n",
    "    return gdf\n",
    "\n",
    "\n",
    "# Pass the dataset you want to visualize to \"temp_df\"\n",
    "temp_df = obj.res_agr\n",
    "# temp_df = obj.res.filter(F.col('CNTR_ID').isin(\"NL\", \"BE\", \"DE\", \"IT\"))\n",
    "# temp_df = obj.dfs_list['comuni_EU']\n",
    "# temp_df = obj.dfs_list['pop_grids'].filter(F.col('T')>1000)\n",
    "\n",
    "map = KeplerGl(height=600)\n",
    "\n",
    "map.add_data(\n",
    "    data=prep_for_map(temp_df, obj.crs, geom_col=\"geometry\"), \n",
    "    name=\"unnamed\"\n",
    "    )\n",
    "map"
   ]
  },
  {
   "cell_type": "code",
   "execution_count": null,
   "metadata": {},
   "outputs": [],
   "source": [
    "from keplergl import KeplerGl\n",
    "import geopandas as gpd\n",
    "from shapely.geometry import shape\n",
    "import decimal\n",
    "\n",
    "# temp_df = obj.res_agr\n",
    "temp_df = obj.dfs_list['pop_grids_new']\n",
    "# temp_df = obj.dfs_list['comuni_EU']\n",
    "# temp_df = obj.dfs_list['pop_grids_new'].filter(F.col('CNTR_ID').isin(\"NL\", \"BE\", \"DE\", \"IT\"))\n",
    "\n",
    "\n",
    "def prep_for_map(res_agr, crs, geom_col='geometry'):\n",
    "    df = res_agr.toPandas()\n",
    "    df = df.map(lambda x: float(x) if isinstance(x, decimal.Decimal) else x)\n",
    "    df['geometry'] = df[f'{geom_col}'].apply(lambda geom: shape(geom))\n",
    "\n",
    "    gdf = gpd.GeoDataFrame(df, geometry='geometry')\n",
    "    gdf.crs = crs\n",
    "    \n",
    "    return gdf\n",
    "\n",
    "map = KeplerGl(height=600)\n",
    "map.add_data(data=prep_for_map(temp_df, obj.crs, geom_col=\"geometry\"), name=\"pop_grids\")\n",
    "map"
   ]
  },
  {
   "cell_type": "code",
   "execution_count": null,
   "metadata": {},
   "outputs": [],
   "source": []
  },
  {
   "cell_type": "code",
   "execution_count": null,
   "metadata": {},
   "outputs": [],
   "source": []
  },
  {
   "cell_type": "code",
   "execution_count": null,
   "metadata": {},
   "outputs": [],
   "source": []
  },
  {
   "cell_type": "code",
   "execution_count": null,
   "metadata": {},
   "outputs": [],
   "source": []
  },
  {
   "cell_type": "code",
   "execution_count": null,
   "metadata": {},
   "outputs": [],
   "source": []
  }
 ],
 "metadata": {
  "kernelspec": {
   "display_name": "sedona_venv",
   "language": "python",
   "name": "python3"
  },
  "language_info": {
   "codemirror_mode": {
    "name": "ipython",
    "version": 3
   },
   "file_extension": ".py",
   "mimetype": "text/x-python",
   "name": "python",
   "nbconvert_exporter": "python",
   "pygments_lexer": "ipython3",
   "version": "3.12.3"
  }
 },
 "nbformat": 4,
 "nbformat_minor": 4
}
