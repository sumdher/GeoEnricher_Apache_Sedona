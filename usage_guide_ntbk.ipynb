{
 "cells": [
  {
   "cell_type": "markdown",
   "id": "8ffceaa2",
   "metadata": {},
   "source": [
    "# **GeoEnricher**\n",
    "\n",
    "Geospatial processing pipeline for large-scale datasets. Built on PySpark + Sedona, Kepler.gl.\n",
    "\n",
    "*Suitable for spatial big data analyses, service accessibility modeling, and grid-based enrichment.*"
   ]
  },
  {
   "cell_type": "markdown",
   "id": "3cd4ed99",
   "metadata": {},
   "source": [
    "## **Prerequisites**\n",
    "\n",
    "### Select the python kernel where `geoenricher` is installed.\n",
    "\n",
    "#### Environment Variables Setup: **JAVA_HOME**, (**HADOOP_HOME** for windows)\n",
    "\n",
    "1. Download **Java** and install it if not already done.\n",
    "  - Set `JAVA_HOME` its respective installation directory that has directories like \"*bin*, *lib*, *legal*...\"\n",
    "  - Usually it is something like `C:\\Program Files\\Java\\jre-1.8` on windows.\n",
    "  - And set system PATH = `%JAVA_HOME%\\bin`.\n",
    "\n",
    "2. Download `winutils.exe` and `hadoop.dll` from [this repo](https://github.com/steveloughran/winutils/tree/master/hadoop-3.0.0/bin).\n",
    "   - Place `winutils.exe` in a directory such as `C:/Hadoop/bin`.\n",
    "   - Place `hadoop.dll` in `C:/Windows/System32`.\n",
    "   - And set HADOOP_HOME = `C:/Hadoop/bin` and system PATH = `%HADOOP_HOME%\\bin`.\n",
    "\n",
    "3. Reload the notebook."
   ]
  },
  {
   "cell_type": "markdown",
   "id": "c65c0725",
   "metadata": {},
   "source": [
    "## **Setup the Spark cluster**\n",
    "\n",
    "Pass the CRS in the **Enricher**'s constructor.\n",
    "\n",
    "Setup the Enricher object with \"sedona\" or \"wherobots\" (beta).\n",
    "\n",
    "The default directory tree is automatically made when you run `geoenricher` in the terminal.\n",
    "\n",
    "If it is located somewhere else, overwrite the default path in: `data_dir`.\n",
    "\n",
    "`\"ex_mem\"` and `\"dr_mem\"` are the executor and driver memories in GB.\n",
    "\n"
   ]
  },
  {
   "cell_type": "code",
   "execution_count": 1,
   "id": "99b7ec03",
   "metadata": {},
   "outputs": [
    {
     "name": "stderr",
     "output_type": "stream",
     "text": [
      "25/03/15 00:27:21 WARN Utils: Your hostname, marvin resolves to a loopback address: 127.0.1.1; using 172.20.27.4 instead (on interface eth0)\n",
      "25/03/15 00:27:21 WARN Utils: Set SPARK_LOCAL_IP if you need to bind to another address\n"
     ]
    },
    {
     "name": "stdout",
     "output_type": "stream",
     "text": [
      ":: loading settings :: url = jar:file:/data/homes_data/sudheer/benchmark_data/.venv/lib/python3.12/site-packages/pyspark/jars/ivy-2.5.1.jar!/org/apache/ivy/core/settings/ivysettings.xml\n"
     ]
    },
    {
     "name": "stderr",
     "output_type": "stream",
     "text": [
      "Ivy Default Cache set to: /data/homes_data/sudheer/.ivy2/cache\n",
      "The jars for the packages stored in: /data/homes_data/sudheer/.ivy2/jars\n",
      "org.apache.sedona#sedona-spark-shaded-3.5_2.12 added as a dependency\n",
      "org.datasyslab#geotools-wrapper added as a dependency\n",
      ":: resolving dependencies :: org.apache.spark#spark-submit-parent-53acb0c2-7f47-4425-b4b4-abcaa3e15f25;1.0\n",
      "\tconfs: [default]\n",
      "\tfound org.apache.sedona#sedona-spark-shaded-3.5_2.12;1.7.0 in central\n",
      "\tfound org.datasyslab#geotools-wrapper;1.7.0-28.5 in central\n",
      ":: resolution report :: resolve 232ms :: artifacts dl 9ms\n",
      "\t:: modules in use:\n",
      "\torg.apache.sedona#sedona-spark-shaded-3.5_2.12;1.7.0 from central in [default]\n",
      "\torg.datasyslab#geotools-wrapper;1.7.0-28.5 from central in [default]\n",
      "\t---------------------------------------------------------------------\n",
      "\t|                  |            modules            ||   artifacts   |\n",
      "\t|       conf       | number| search|dwnlded|evicted|| number|dwnlded|\n",
      "\t---------------------------------------------------------------------\n",
      "\t|      default     |   2   |   0   |   0   |   0   ||   2   |   0   |\n",
      "\t---------------------------------------------------------------------\n",
      ":: retrieving :: org.apache.spark#spark-submit-parent-53acb0c2-7f47-4425-b4b4-abcaa3e15f25\n",
      "\tconfs: [default]\n",
      "\t0 artifacts copied, 2 already retrieved (0kB/7ms)\n",
      "25/03/15 00:27:22 WARN NativeCodeLoader: Unable to load native-hadoop library for your platform... using builtin-java classes where applicable\n",
      "Setting default log level to \"WARN\".\n",
      "To adjust logging level use sc.setLogLevel(newLevel). For SparkR, use setLogLevel(newLevel).\n",
      "Exception in thread \"main\" java.nio.file.NoSuchFileException: /tmp/tmp0_z8647e/connection4406013580865680143.info\n",
      "\tat sun.nio.fs.UnixException.translateToIOException(UnixException.java:86)\n",
      "\tat sun.nio.fs.UnixException.rethrowAsIOException(UnixException.java:102)\n",
      "\tat sun.nio.fs.UnixException.rethrowAsIOException(UnixException.java:107)\n",
      "\tat sun.nio.fs.UnixFileSystemProvider.newByteChannel(UnixFileSystemProvider.java:214)\n",
      "\tat java.nio.file.Files.newByteChannel(Files.java:361)\n",
      "\tat java.nio.file.Files.createFile(Files.java:632)\n",
      "\tat java.nio.file.TempFileHelper.create(TempFileHelper.java:138)\n",
      "\tat java.nio.file.TempFileHelper.createTempFile(TempFileHelper.java:161)\n",
      "\tat java.nio.file.Files.createTempFile(Files.java:852)\n",
      "\tat org.apache.spark.api.python.PythonGatewayServer$.main(PythonGatewayServer.scala:54)\n",
      "\tat org.apache.spark.api.python.PythonGatewayServer.main(PythonGatewayServer.scala)\n",
      "\tat sun.reflect.NativeMethodAccessorImpl.invoke0(Native Method)\n",
      "\tat sun.reflect.NativeMethodAccessorImpl.invoke(NativeMethodAccessorImpl.java:62)\n",
      "\tat sun.reflect.DelegatingMethodAccessorImpl.invoke(DelegatingMethodAccessorImpl.java:43)\n",
      "\tat java.lang.reflect.Method.invoke(Method.java:498)\n",
      "\tat org.apache.spark.deploy.JavaMainApplication.start(SparkApplication.scala:52)\n",
      "\tat org.apache.spark.deploy.SparkSubmit.org$apache$spark$deploy$SparkSubmit$$runMain(SparkSubmit.scala:1034)\n",
      "\tat org.apache.spark.deploy.SparkSubmit.doRunMain$1(SparkSubmit.scala:199)\n",
      "\tat org.apache.spark.deploy.SparkSubmit.submit(SparkSubmit.scala:222)\n",
      "\tat org.apache.spark.deploy.SparkSubmit.doSubmit(SparkSubmit.scala:91)\n",
      "\tat org.apache.spark.deploy.SparkSubmit$$anon$2.doSubmit(SparkSubmit.scala:1125)\n",
      "\tat org.apache.spark.deploy.SparkSubmit$.main(SparkSubmit.scala:1134)\n",
      "\tat org.apache.spark.deploy.SparkSubmit.main(SparkSubmit.scala)\n"
     ]
    },
    {
     "ename": "KeyboardInterrupt",
     "evalue": "",
     "output_type": "error",
     "traceback": [
      "\u001b[31m---------------------------------------------------------------------------\u001b[39m",
      "\u001b[31mKeyboardInterrupt\u001b[39m                         Traceback (most recent call last)",
      "\u001b[36mCell\u001b[39m\u001b[36m \u001b[39m\u001b[32mIn[1]\u001b[39m\u001b[32m, line 12\u001b[39m\n\u001b[32m      8\u001b[39m obj = Enricher(crs=\u001b[33m\"\u001b[39m\u001b[33mEPSG:3035\u001b[39m\u001b[33m\"\u001b[39m)\n\u001b[32m     10\u001b[39m data_dir = \u001b[33mf\u001b[39m\u001b[33m\"\u001b[39m\u001b[33m./data\u001b[39m\u001b[33m\"\u001b[39m\n\u001b[32m---> \u001b[39m\u001b[32m12\u001b[39m \u001b[43mobj\u001b[49m\u001b[43m.\u001b[49m\u001b[43msetup_cluster\u001b[49m\u001b[43m(\u001b[49m\n\u001b[32m     13\u001b[39m \u001b[43m    \u001b[49m\u001b[43mdata_dir\u001b[49m\u001b[43m=\u001b[49m\u001b[43mdata_dir\u001b[49m\u001b[43m,\u001b[49m\u001b[43m \u001b[49m\n\u001b[32m     14\u001b[39m \u001b[43m    \u001b[49m\u001b[43mwhich\u001b[49m\u001b[43m=\u001b[49m\u001b[33;43m\"\u001b[39;49m\u001b[33;43msedona\u001b[39;49m\u001b[33;43m\"\u001b[39;49m\u001b[43m,\u001b[49m\u001b[43m \u001b[49m\n\u001b[32m     15\u001b[39m \u001b[43m    \u001b[49m\u001b[43mex_mem\u001b[49m\u001b[43m=\u001b[49m\u001b[32;43m26\u001b[39;49m\u001b[43m,\u001b[49m\u001b[43m  \u001b[49m\u001b[38;5;66;43;03m# change this\u001b[39;49;00m\n\u001b[32m     16\u001b[39m \u001b[43m    \u001b[49m\u001b[43mdr_mem\u001b[49m\u001b[43m=\u001b[49m\u001b[32;43m24\u001b[39;49m\u001b[43m,\u001b[49m\u001b[43m  \u001b[49m\u001b[38;5;66;43;03m# change this\u001b[39;49;00m\n\u001b[32m     17\u001b[39m \u001b[43m    \u001b[49m\u001b[43mlog_level\u001b[49m\u001b[43m=\u001b[49m\u001b[33;43m\"\u001b[39;49m\u001b[33;43mERROR\u001b[39;49m\u001b[33;43m\"\u001b[39;49m\n\u001b[32m     18\u001b[39m \u001b[43m)\u001b[49m\n",
      "\u001b[36mFile \u001b[39m\u001b[32m~/benchmark_data/.venv/lib/python3.12/site-packages/geoenricher/src/enricher.py:79\u001b[39m, in \u001b[36mEnricher.setup_cluster\u001b[39m\u001b[34m(self, data_dir, which, ex_mem, dr_mem, log_level)\u001b[39m\n\u001b[32m     66\u001b[39m     \u001b[38;5;28mprint\u001b[39m(\u001b[33mf\u001b[39m\u001b[33m\"\u001b[39m\u001b[33mWherobots setup started with \u001b[39m\u001b[38;5;132;01m{\u001b[39;00m\u001b[38;5;28mself\u001b[39m.cores\u001b[38;5;132;01m}\u001b[39;00m\u001b[33m cores for parellelism.\u001b[39m\u001b[33m\"\u001b[39m)\n\u001b[32m     68\u001b[39m \u001b[38;5;28;01melif\u001b[39;00m which == \u001b[33m\"\u001b[39m\u001b[33msedona\u001b[39m\u001b[33m\"\u001b[39m:\n\u001b[32m     69\u001b[39m     \u001b[38;5;28mself\u001b[39m.config = \u001b[43mSedonaContext\u001b[49m\u001b[43m.\u001b[49m\u001b[43mbuilder\u001b[49m\u001b[43m(\u001b[49m\u001b[43m)\u001b[49m\u001b[43m \u001b[49m\u001b[43m\\\u001b[49m\n\u001b[32m     70\u001b[39m \u001b[43m        \u001b[49m\u001b[43m.\u001b[49m\u001b[43mconfig\u001b[49m\u001b[43m(\u001b[49m\u001b[33;43m\"\u001b[39;49m\u001b[33;43mspark.executor.memory\u001b[39;49m\u001b[33;43m\"\u001b[39;49m\u001b[43m,\u001b[49m\u001b[43m \u001b[49m\u001b[33;43mf\u001b[39;49m\u001b[33;43m\"\u001b[39;49m\u001b[38;5;132;43;01m{\u001b[39;49;00m\u001b[43mex_mem\u001b[49m\u001b[38;5;132;43;01m}\u001b[39;49;00m\u001b[33;43mg\u001b[39;49m\u001b[33;43m\"\u001b[39;49m\u001b[43m)\u001b[49m\u001b[43m \u001b[49m\u001b[43m\\\u001b[49m\n\u001b[32m     71\u001b[39m \u001b[43m        \u001b[49m\u001b[43m.\u001b[49m\u001b[43mconfig\u001b[49m\u001b[43m(\u001b[49m\u001b[33;43m\"\u001b[39;49m\u001b[33;43mspark.driver.memory\u001b[39;49m\u001b[33;43m\"\u001b[39;49m\u001b[43m,\u001b[49m\u001b[43m \u001b[49m\u001b[33;43mf\u001b[39;49m\u001b[33;43m\"\u001b[39;49m\u001b[38;5;132;43;01m{\u001b[39;49;00m\u001b[43mdr_mem\u001b[49m\u001b[38;5;132;43;01m}\u001b[39;49;00m\u001b[33;43mg\u001b[39;49m\u001b[33;43m\"\u001b[39;49m\u001b[43m)\u001b[49m\u001b[43m \u001b[49m\u001b[43m\\\u001b[49m\n\u001b[32m     72\u001b[39m \u001b[43m        \u001b[49m\u001b[43m.\u001b[49m\u001b[43mconfig\u001b[49m\u001b[43m(\u001b[49m\u001b[33;43m\"\u001b[39;49m\u001b[33;43mspark.local.dir\u001b[39;49m\u001b[33;43m\"\u001b[39;49m\u001b[43m,\u001b[49m\u001b[43m \u001b[49m\u001b[33;43m\"\u001b[39;49m\u001b[33;43m./.tmp_spark_spills\u001b[39;49m\u001b[33;43m\"\u001b[39;49m\u001b[43m)\u001b[49m\u001b[43m \u001b[49m\u001b[43m\\\u001b[49m\n\u001b[32m     73\u001b[39m \u001b[43m        \u001b[49m\u001b[43m.\u001b[49m\u001b[43mconfig\u001b[49m\u001b[43m(\u001b[49m\u001b[33;43m\"\u001b[39;49m\u001b[33;43mspark.driver.maxResultSize\u001b[39;49m\u001b[33;43m\"\u001b[39;49m\u001b[43m,\u001b[49m\u001b[43m \u001b[49m\u001b[33;43m\"\u001b[39;49m\u001b[33;43m4g\u001b[39;49m\u001b[33;43m\"\u001b[39;49m\u001b[43m)\u001b[49m\u001b[43m \u001b[49m\u001b[43m\\\u001b[49m\n\u001b[32m     74\u001b[39m \u001b[43m        \u001b[49m\u001b[43m.\u001b[49m\u001b[43mconfig\u001b[49m\u001b[43m(\u001b[49m\u001b[33;43m\"\u001b[39;49m\u001b[33;43mspark.driver.extraJavaOptions\u001b[39;49m\u001b[33;43m\"\u001b[39;49m\u001b[43m,\u001b[49m\u001b[43m \u001b[49m\u001b[33;43m\"\u001b[39;49m\u001b[33;43m-Djts.overlay=ng\u001b[39;49m\u001b[33;43m\"\u001b[39;49m\u001b[43m)\u001b[49m\u001b[43m \u001b[49m\u001b[43m\\\u001b[49m\n\u001b[32m     75\u001b[39m \u001b[43m        \u001b[49m\u001b[43m.\u001b[49m\u001b[43mconfig\u001b[49m\u001b[43m(\u001b[49m\u001b[33;43m\"\u001b[39;49m\u001b[33;43mspark.executor.extraJavaOptions\u001b[39;49m\u001b[33;43m\"\u001b[39;49m\u001b[43m,\u001b[49m\u001b[43m \u001b[49m\u001b[33;43m\"\u001b[39;49m\u001b[33;43m-Djts.overlay=ng\u001b[39;49m\u001b[33;43m\"\u001b[39;49m\u001b[43m)\u001b[49m\u001b[43m \u001b[49m\u001b[43m\\\u001b[49m\n\u001b[32m     76\u001b[39m \u001b[43m        \u001b[49m\u001b[43m.\u001b[49m\u001b[43mconfig\u001b[49m\u001b[43m(\u001b[49m\u001b[33;43m'\u001b[39;49m\u001b[33;43mspark.jars.packages\u001b[39;49m\u001b[33;43m'\u001b[39;49m\u001b[43m,\u001b[49m\n\u001b[32m     77\u001b[39m \u001b[43m            \u001b[49m\u001b[33;43m'\u001b[39;49m\u001b[33;43morg.apache.sedona:sedona-spark-shaded-3.5_2.12:1.7.0,\u001b[39;49m\u001b[33;43m'\u001b[39;49m\n\u001b[32m     78\u001b[39m \u001b[43m            \u001b[49m\u001b[33;43m'\u001b[39;49m\u001b[33;43morg.datasyslab:geotools-wrapper:1.7.0-28.5\u001b[39;49m\u001b[33;43m'\u001b[39;49m\u001b[43m)\u001b[49m\u001b[43m \u001b[49m\u001b[43m\\\u001b[49m\n\u001b[32m---> \u001b[39m\u001b[32m79\u001b[39m \u001b[43m        \u001b[49m\u001b[43m.\u001b[49m\u001b[43mgetOrCreate\u001b[49m\u001b[43m(\u001b[49m\u001b[43m)\u001b[49m\n\u001b[32m     81\u001b[39m \u001b[38;5;28;01melse\u001b[39;00m:\n\u001b[32m     82\u001b[39m     \u001b[38;5;28;01mraise\u001b[39;00m \u001b[38;5;167;01mValueError\u001b[39;00m(\u001b[33m\"\u001b[39m\u001b[33mInvalid \u001b[39m\u001b[33m'\u001b[39m\u001b[33mwhich\u001b[39m\u001b[33m'\u001b[39m\u001b[33m. Choose either \u001b[39m\u001b[33m'\u001b[39m\u001b[33mwherobots\u001b[39m\u001b[33m'\u001b[39m\u001b[33m or \u001b[39m\u001b[33m'\u001b[39m\u001b[33msedona\u001b[39m\u001b[33m'\u001b[39m\u001b[33m\"\u001b[39m)\n",
      "\u001b[36mFile \u001b[39m\u001b[32m~/benchmark_data/.venv/lib/python3.12/site-packages/pyspark/sql/session.py:497\u001b[39m, in \u001b[36mSparkSession.Builder.getOrCreate\u001b[39m\u001b[34m(self)\u001b[39m\n\u001b[32m    495\u001b[39m     sparkConf.set(key, value)\n\u001b[32m    496\u001b[39m \u001b[38;5;66;03m# This SparkContext may be an existing one.\u001b[39;00m\n\u001b[32m--> \u001b[39m\u001b[32m497\u001b[39m sc = \u001b[43mSparkContext\u001b[49m\u001b[43m.\u001b[49m\u001b[43mgetOrCreate\u001b[49m\u001b[43m(\u001b[49m\u001b[43msparkConf\u001b[49m\u001b[43m)\u001b[49m\n\u001b[32m    498\u001b[39m \u001b[38;5;66;03m# Do not update `SparkConf` for existing `SparkContext`, as it's shared\u001b[39;00m\n\u001b[32m    499\u001b[39m \u001b[38;5;66;03m# by all sessions.\u001b[39;00m\n\u001b[32m    500\u001b[39m session = SparkSession(sc, options=\u001b[38;5;28mself\u001b[39m._options)\n",
      "\u001b[36mFile \u001b[39m\u001b[32m~/benchmark_data/.venv/lib/python3.12/site-packages/pyspark/context.py:515\u001b[39m, in \u001b[36mSparkContext.getOrCreate\u001b[39m\u001b[34m(cls, conf)\u001b[39m\n\u001b[32m    513\u001b[39m \u001b[38;5;28;01mwith\u001b[39;00m SparkContext._lock:\n\u001b[32m    514\u001b[39m     \u001b[38;5;28;01mif\u001b[39;00m SparkContext._active_spark_context \u001b[38;5;129;01mis\u001b[39;00m \u001b[38;5;28;01mNone\u001b[39;00m:\n\u001b[32m--> \u001b[39m\u001b[32m515\u001b[39m         \u001b[43mSparkContext\u001b[49m\u001b[43m(\u001b[49m\u001b[43mconf\u001b[49m\u001b[43m=\u001b[49m\u001b[43mconf\u001b[49m\u001b[43m \u001b[49m\u001b[38;5;129;43;01mor\u001b[39;49;00m\u001b[43m \u001b[49m\u001b[43mSparkConf\u001b[49m\u001b[43m(\u001b[49m\u001b[43m)\u001b[49m\u001b[43m)\u001b[49m\n\u001b[32m    516\u001b[39m     \u001b[38;5;28;01massert\u001b[39;00m SparkContext._active_spark_context \u001b[38;5;129;01mis\u001b[39;00m \u001b[38;5;129;01mnot\u001b[39;00m \u001b[38;5;28;01mNone\u001b[39;00m\n\u001b[32m    517\u001b[39m     \u001b[38;5;28;01mreturn\u001b[39;00m SparkContext._active_spark_context\n",
      "\u001b[36mFile \u001b[39m\u001b[32m~/benchmark_data/.venv/lib/python3.12/site-packages/pyspark/context.py:201\u001b[39m, in \u001b[36mSparkContext.__init__\u001b[39m\u001b[34m(self, master, appName, sparkHome, pyFiles, environment, batchSize, serializer, conf, gateway, jsc, profiler_cls, udf_profiler_cls, memory_profiler_cls)\u001b[39m\n\u001b[32m    195\u001b[39m \u001b[38;5;28;01mif\u001b[39;00m gateway \u001b[38;5;129;01mis\u001b[39;00m \u001b[38;5;129;01mnot\u001b[39;00m \u001b[38;5;28;01mNone\u001b[39;00m \u001b[38;5;129;01mand\u001b[39;00m gateway.gateway_parameters.auth_token \u001b[38;5;129;01mis\u001b[39;00m \u001b[38;5;28;01mNone\u001b[39;00m:\n\u001b[32m    196\u001b[39m     \u001b[38;5;28;01mraise\u001b[39;00m \u001b[38;5;167;01mValueError\u001b[39;00m(\n\u001b[32m    197\u001b[39m         \u001b[33m\"\u001b[39m\u001b[33mYou are trying to pass an insecure Py4j gateway to Spark. This\u001b[39m\u001b[33m\"\u001b[39m\n\u001b[32m    198\u001b[39m         \u001b[33m\"\u001b[39m\u001b[33m is not allowed as it is a security risk.\u001b[39m\u001b[33m\"\u001b[39m\n\u001b[32m    199\u001b[39m     )\n\u001b[32m--> \u001b[39m\u001b[32m201\u001b[39m \u001b[43mSparkContext\u001b[49m\u001b[43m.\u001b[49m\u001b[43m_ensure_initialized\u001b[49m\u001b[43m(\u001b[49m\u001b[38;5;28;43mself\u001b[39;49m\u001b[43m,\u001b[49m\u001b[43m \u001b[49m\u001b[43mgateway\u001b[49m\u001b[43m=\u001b[49m\u001b[43mgateway\u001b[49m\u001b[43m,\u001b[49m\u001b[43m \u001b[49m\u001b[43mconf\u001b[49m\u001b[43m=\u001b[49m\u001b[43mconf\u001b[49m\u001b[43m)\u001b[49m\n\u001b[32m    202\u001b[39m \u001b[38;5;28;01mtry\u001b[39;00m:\n\u001b[32m    203\u001b[39m     \u001b[38;5;28mself\u001b[39m._do_init(\n\u001b[32m    204\u001b[39m         master,\n\u001b[32m    205\u001b[39m         appName,\n\u001b[32m   (...)\u001b[39m\u001b[32m    215\u001b[39m         memory_profiler_cls,\n\u001b[32m    216\u001b[39m     )\n",
      "\u001b[36mFile \u001b[39m\u001b[32m~/benchmark_data/.venv/lib/python3.12/site-packages/pyspark/context.py:436\u001b[39m, in \u001b[36mSparkContext._ensure_initialized\u001b[39m\u001b[34m(cls, instance, gateway, conf)\u001b[39m\n\u001b[32m    434\u001b[39m \u001b[38;5;28;01mwith\u001b[39;00m SparkContext._lock:\n\u001b[32m    435\u001b[39m     \u001b[38;5;28;01mif\u001b[39;00m \u001b[38;5;129;01mnot\u001b[39;00m SparkContext._gateway:\n\u001b[32m--> \u001b[39m\u001b[32m436\u001b[39m         SparkContext._gateway = gateway \u001b[38;5;129;01mor\u001b[39;00m \u001b[43mlaunch_gateway\u001b[49m\u001b[43m(\u001b[49m\u001b[43mconf\u001b[49m\u001b[43m)\u001b[49m\n\u001b[32m    437\u001b[39m         SparkContext._jvm = SparkContext._gateway.jvm\n\u001b[32m    439\u001b[39m     \u001b[38;5;28;01mif\u001b[39;00m instance:\n",
      "\u001b[36mFile \u001b[39m\u001b[32m~/benchmark_data/.venv/lib/python3.12/site-packages/pyspark/java_gateway.py:104\u001b[39m, in \u001b[36mlaunch_gateway\u001b[39m\u001b[34m(conf, popen_kwargs)\u001b[39m\n\u001b[32m    102\u001b[39m \u001b[38;5;66;03m# Wait for the file to appear, or for the process to exit, whichever happens first.\u001b[39;00m\n\u001b[32m    103\u001b[39m \u001b[38;5;28;01mwhile\u001b[39;00m \u001b[38;5;129;01mnot\u001b[39;00m proc.poll() \u001b[38;5;129;01mand\u001b[39;00m \u001b[38;5;129;01mnot\u001b[39;00m os.path.isfile(conn_info_file):\n\u001b[32m--> \u001b[39m\u001b[32m104\u001b[39m     \u001b[43mtime\u001b[49m\u001b[43m.\u001b[49m\u001b[43msleep\u001b[49m\u001b[43m(\u001b[49m\u001b[32;43m0.1\u001b[39;49m\u001b[43m)\u001b[49m\n\u001b[32m    106\u001b[39m \u001b[38;5;28;01mif\u001b[39;00m \u001b[38;5;129;01mnot\u001b[39;00m os.path.isfile(conn_info_file):\n\u001b[32m    107\u001b[39m     \u001b[38;5;28;01mraise\u001b[39;00m PySparkRuntimeError(\n\u001b[32m    108\u001b[39m         error_class=\u001b[33m\"\u001b[39m\u001b[33mJAVA_GATEWAY_EXITED\u001b[39m\u001b[33m\"\u001b[39m,\n\u001b[32m    109\u001b[39m         message_parameters={},\n\u001b[32m    110\u001b[39m     )\n",
      "\u001b[31mKeyboardInterrupt\u001b[39m: "
     ]
    }
   ],
   "source": [
    "'''\n",
    "Setup cluster\n",
    "\n",
    "'''\n",
    "\n",
    "from geoenricher import Enricher\n",
    "\n",
    "obj = Enricher(crs=\"EPSG:3035\")\n",
    "\n",
    "data_dir = f\"./data\"\n",
    "\n",
    "obj.setup_cluster(\n",
    "    data_dir=data_dir, \n",
    "    which=\"sedona\", \n",
    "    ex_mem=26,  # change this\n",
    "    dr_mem=24,  # change this\n",
    "    log_level=\"ERROR\"\n",
    ")"
   ]
  },
  {
   "cell_type": "markdown",
   "id": "bcadeb90",
   "metadata": {},
   "source": [
    "## **First run (Load data from files)**\n",
    "\n",
    "This loads data from files in `data_dir`. This will take a while since it makes some essential transformations on the datasets. \n",
    "\n",
    "`parquet_all()` will save all datasets to the disk, preserving any transformations applied. \n",
    "\n",
    "From next time, you can directly load them  with: `load_from_parquets()` to save time.\n"
   ]
  },
  {
   "cell_type": "code",
   "execution_count": null,
   "id": "77010933",
   "metadata": {},
   "outputs": [],
   "source": [
    "'''\n",
    "First Run\n",
    "\n",
    "'''\n",
    "\n",
    "from geoenricher import Enricher\n",
    "\n",
    "\n",
    "\n",
    "# provide the data directory\n",
    "data_dir = f\"./data\"\n",
    "\n",
    "# individual file paths:\n",
    "path_com_EU = f\"{data_dir}/data_EU/comuni_shp/\"\n",
    "path_contr = f\"{data_dir}/data_EU/countries_shp/\"\n",
    "path_grids = f\"{data_dir}/data_EU/census_grid_EU/grids_OG_corrected.parquet\"\n",
    "path_grids_new = f\"{data_dir}/data_EU/census_grid_EU/grids_new.gpkg\"\n",
    "path_reg = f\"{data_dir}/data_Italy/regioni/\"\n",
    "path_prov = f\"{data_dir}/data_Italy/provinci\"\n",
    "path_com = f\"{data_dir}/data_Italy/comuni/\"\n",
    "path_hlth = f\"{data_dir}/data_EU/services/healthcare_dropna.gpkg\"\n",
    "path_edu = f\"{data_dir}/data_EU/services/education_dropna.gpkg\"\n",
    "path_acc_health = f\"{data_dir}/data_EU/accessibility/healthcare/grid_accessibility_health.geoparquet\"\n",
    "path_acc_edu = f\"{data_dir}/data_EU/accessibility/education/grid_accessibility_educ.geoparquet\"\n",
    "path_NUTS = f\"{data_dir}/NUTS.shp\"\n",
    "path_LAU = f\"{data_dir}/LAU.shp\"\n",
    "path_DGURBA = f\"{data_dir}/DGURBA\"\n",
    "\n",
    "# dataset names and their file formats:\n",
    "# format: {dataset_name: (path, file_format), ...}\n",
    "\n",
    "datasets: dict[str, tuple[str, str]] = {\n",
    "    \"comuni_EU\": (path_com_EU, \"shapefile\"),\n",
    "    \"countries\": (path_contr, \"shapefile\"),\n",
    "    \"pop_grids\": (path_grids, \"geoparquet\"),\n",
    "    # \"pop_grids_new\": (path_grids_new, \"geopackage\"),\n",
    "    \"regions_IT\": (path_reg, \"shapefile\"),\n",
    "    \"provinces_IT\": (path_prov, \"shapefile\"),\n",
    "    \"comuni_IT\": (path_com, \"shapefile\"),\n",
    "    \"hospitals\": (path_hlth, \"geopackage\"),\n",
    "    # \"education\": (path_edu, \"geopackage\"),\n",
    "    \"accessibility_hosp\": (path_acc_health, \"geoparquet\"),\n",
    "    \"accessibility_educ\": (path_acc_edu, \"geoparquet\"),\n",
    "    \"NUTS\": (path_NUTS, \"shapefile\"),\n",
    "    \"LAU\": (path_LAU, \"shapefile\"),\n",
    "    \"DGURBAN\": (path_DGURBA, \"shapefile\"),\n",
    "}\n",
    "\n",
    "obj = Enricher(crs=\"EPSG:3035\")\n",
    "\n",
    "obj.setup_cluster(\n",
    "    data_dir=data_dir, \n",
    "    which=\"sedona\", \n",
    "    ex_mem=26,  # change this\n",
    "    dr_mem=24,  # change this\n",
    "    log_level=\"ERROR\"\n",
    ")\n",
    "\n",
    "# use \"load()\" to load all the datasets in {data_dir}, \n",
    "# according to the paths and file formats provided in \"datasets{}\"\n",
    "obj.load(datasets, silent=True)\n"
   ]
  },
  {
   "cell_type": "markdown",
   "id": "e26348d7",
   "metadata": {},
   "source": [
    "## Data Prep and Fix\n",
    "\n",
    "1. Optionally, run `fix_geometries()` to fix invalid geometries, if any.\n",
    "   If you want to skip the check for some dataframes, pass their names in `skip[]`.\n",
    "\n",
    "2. Inspect the partitions and data skew by running `inspect_partitions()`.\n",
    "    > **Note:** This may cause memory error and the kernel to break if the driver memory is not enough.\n",
    "\n",
    "3. Force the dataframes to be *repartitioned* to the number of available cores.\n",
    "   Pass the names of the dataframes to be skipped in skip[]\n",
    "\n",
    "4. Transform the CRS of loaded datasets to the CRS passed in the Enricher's constructor. `lazy=True` will not cache the dataframes. "
   ]
  },
  {
   "cell_type": "code",
   "execution_count": null,
   "id": "4b566e4d",
   "metadata": {},
   "outputs": [],
   "source": [
    "obj.fix_geometries(\n",
    "    skip=['pop_grids', 'pop_grids_new']\n",
    ")\n",
    "\n",
    "obj.force_repartition(skip=['pop_grids'])\n",
    "\n",
    "obj.transform_CRS(lazy=False)\n",
    "\n",
    "\n",
    "obj.parquet_all(preserve_partitions=True)"
   ]
  },
  {
   "cell_type": "markdown",
   "id": "8df5e9c3",
   "metadata": {},
   "source": [
    "## ***Pickle* the loaded dataframes for Quick Access in the subsequent runs**\n",
    "\n",
    "Default directory: `./{data_dir}/pickle_parquets/dfs_list`.\n",
    "You may change the directory where they are saved by passing it in `parquet_dir`\n",
    "\n",
    "Like: pqrquet_dir = `.{data_dir}/pickle_parquets/archive`"
   ]
  },
  {
   "cell_type": "code",
   "execution_count": 2,
   "id": "c80428bf",
   "metadata": {},
   "outputs": [
    {
     "name": "stderr",
     "output_type": "stream",
     "text": [
      "25/03/15 00:27:28 WARN Utils: Your hostname, marvin resolves to a loopback address: 127.0.1.1; using 172.20.27.4 instead (on interface eth0)\n",
      "25/03/15 00:27:28 WARN Utils: Set SPARK_LOCAL_IP if you need to bind to another address\n"
     ]
    },
    {
     "name": "stdout",
     "output_type": "stream",
     "text": [
      ":: loading settings :: url = jar:file:/data/homes_data/sudheer/benchmark_data/.venv/lib/python3.12/site-packages/pyspark/jars/ivy-2.5.1.jar!/org/apache/ivy/core/settings/ivysettings.xml\n"
     ]
    },
    {
     "name": "stderr",
     "output_type": "stream",
     "text": [
      "Ivy Default Cache set to: /data/homes_data/sudheer/.ivy2/cache\n",
      "The jars for the packages stored in: /data/homes_data/sudheer/.ivy2/jars\n",
      "org.apache.sedona#sedona-spark-shaded-3.5_2.12 added as a dependency\n",
      "org.datasyslab#geotools-wrapper added as a dependency\n",
      ":: resolving dependencies :: org.apache.spark#spark-submit-parent-c32d2f8e-c74f-49b7-997c-d2f8148e3941;1.0\n",
      "\tconfs: [default]\n",
      "\tfound org.apache.sedona#sedona-spark-shaded-3.5_2.12;1.7.0 in central\n",
      "\tfound org.datasyslab#geotools-wrapper;1.7.0-28.5 in central\n",
      ":: resolution report :: resolve 200ms :: artifacts dl 8ms\n",
      "\t:: modules in use:\n",
      "\torg.apache.sedona#sedona-spark-shaded-3.5_2.12;1.7.0 from central in [default]\n",
      "\torg.datasyslab#geotools-wrapper;1.7.0-28.5 from central in [default]\n",
      "\t---------------------------------------------------------------------\n",
      "\t|                  |            modules            ||   artifacts   |\n",
      "\t|       conf       | number| search|dwnlded|evicted|| number|dwnlded|\n",
      "\t---------------------------------------------------------------------\n",
      "\t|      default     |   2   |   0   |   0   |   0   ||   2   |   0   |\n",
      "\t---------------------------------------------------------------------\n",
      ":: retrieving :: org.apache.spark#spark-submit-parent-c32d2f8e-c74f-49b7-997c-d2f8148e3941\n",
      "\tconfs: [default]\n",
      "\t0 artifacts copied, 2 already retrieved (0kB/7ms)\n",
      "25/03/15 00:27:29 WARN NativeCodeLoader: Unable to load native-hadoop library for your platform... using builtin-java classes where applicable\n",
      "Setting default log level to \"WARN\".\n",
      "To adjust logging level use sc.setLogLevel(newLevel). For SparkR, use setLogLevel(newLevel).\n",
      "25/03/15 00:27:30 WARN SparkConf: Note that spark.local.dir will be overridden by the value set by the cluster manager (via SPARK_LOCAL_DIRS in mesos/standalone/kubernetes and LOCAL_DIRS in YARN).\n",
      "                                                                                \r"
     ]
    },
    {
     "name": "stdout",
     "output_type": "stream",
     "text": [
      "sedona initialized with 10 cores for parellelism.\n",
      "\n"
     ]
    },
    {
     "name": "stderr",
     "output_type": "stream",
     "text": [
      "                                                                                \r"
     ]
    },
    {
     "name": "stdout",
     "output_type": "stream",
     "text": [
      "Loaded dataframe 'hospitals'\n",
      "Loaded dataframe 'com_X_pop_accssblty_hosps'\n",
      "Loaded dataframe 'NUTS'\n",
      "Loaded dataframe 'pop_grids_full'\n",
      "Loaded dataframe 'LAU'\n",
      "Loaded dataframe 'comuni_EU'\n",
      "Loaded dataframe 'DGURBAN'\n"
     ]
    }
   ],
   "source": [
    "\n",
    "from geoenricher import Enricher\n",
    "\n",
    "'''\n",
    "Load data from pickled parquets \n",
    "\n",
    "'''\n",
    "\n",
    "data_dir = \"./data\"\n",
    "\n",
    "obj = Enricher(crs=\"EPSG:3035\")\n",
    "\n",
    "obj.setup_cluster(\n",
    "    data_dir=data_dir, \n",
    "    which=\"sedona\", \n",
    "    ex_mem=26,  # change this\n",
    "    dr_mem=24,  # change this\n",
    "    log_level=\"ERROR\"\n",
    ")\n",
    "\n",
    "# pqrquet_dir = f\".{data_dir}/pickle_parquets/archive\"\n",
    "obj.load_from_parquets()\n",
    "# obj.inspect_partitions()\n"
   ]
  },
  {
   "cell_type": "markdown",
   "id": "d1e9ad4a",
   "metadata": {},
   "source": [
    "## **Interactive 3D Maps for Visualization**\n",
    "##### Powered by kepler.gl\n",
    "\n",
    "Pass a list of either:\n",
    "- Names of the loaded datasets\n",
    "- Or directly the Spark dataframes in memory\n",
    "- ```dfs: str | SparkDataFrame | list[str | SparkDataFrame]```"
   ]
  },
  {
   "cell_type": "code",
   "execution_count": 4,
   "id": "96f351da",
   "metadata": {},
   "outputs": [
    {
     "name": "stdout",
     "output_type": "stream",
     "text": [
      "User Guide: https://docs.kepler.gl/docs/keplergl-jupyter\n"
     ]
    },
    {
     "name": "stderr",
     "output_type": "stream",
     "text": [
      "                                                                                \r"
     ]
    },
    {
     "name": "stdout",
     "output_type": "stream",
     "text": [
      "Auto-detected geometry columns: ['geometry', 'centroid']\n"
     ]
    },
    {
     "data": {
      "application/vnd.jupyter.widget-view+json": {
       "model_id": "b46e7021cdf149aeaef69df3cac67abf",
       "version_major": 2,
       "version_minor": 0
      },
      "text/plain": [
       "KeplerGl(data={'unnamed_0': {'index': [0, 1, 2, 3, 4, 5, 6, 7, 8, 9, 10, 11, 12, 13, 14, 15, 16, 17, 18, 19, 2…"
      ]
     },
     "execution_count": 4,
     "metadata": {},
     "output_type": "execute_result"
    }
   ],
   "source": [
    "\n",
    "from pyspark.sql import functions as F\n",
    "from keplergl.keplergl import KeplerGl\n",
    "'''\n",
    "Visualize the datasets\n",
    "\n",
    "'''\n",
    "\n",
    "map_1: KeplerGl = obj.plot_this(\n",
    "            df=[\n",
    "                obj.dfs_list['com_X_pop_accssblty_hosps'].filter(F.col('CNTR_ID') == 'IT'),\n",
    "                # obj.dfs_list[\"dg_urban\"].filter(F.col('CNTR_CODE') == 'IT'),\n",
    "                ],\n",
    "            )\n",
    "\n",
    "map_1\n"
   ]
  },
  {
   "cell_type": "code",
   "execution_count": null,
   "id": "93d748a7",
   "metadata": {},
   "outputs": [],
   "source": [
    "\n",
    "'''\n",
    "Enrich by Spatial Joion\n",
    "\n",
    "'''\n",
    "\n",
    "from pyspark.sql import functions as F\n",
    "\n",
    "grids_IT_df = obj.enrich_sjoin(\n",
    "    df1=\"pop_grids\", \n",
    "    df2=obj.dfs_list['countries'], \n",
    "    enr_cols=[\"CNTR_ID\", \"CNTR_NAME\"]\n",
    "    ).filter(F.col('CNTR_ID').isin(\"IT\"))\n",
    "\n",
    "with obj.get_time(\"exporting\"):\n",
    "    obj.parquet_this(\"grids_IT\", grids_IT_df, preserve_partitions=True)\n",
    "\n",
    "\n",
    "comuni_IT_df = obj.dfs_list['comuni_EU'].filter(F.col('CNTR_ID') == 'IT')\n",
    "\n",
    "with obj.get_time(\"exporting\"):\n",
    "    obj.parquet_this(\"comuni_IT\", comuni_IT_df, preserve_partitions=True)\n"
   ]
  },
  {
   "cell_type": "code",
   "execution_count": 3,
   "id": "ad818193",
   "metadata": {},
   "outputs": [
    {
     "data": {
      "application/vnd.jupyter.widget-view+json": {
       "model_id": "647dc20cca514510a9fa602518764665",
       "version_major": 2,
       "version_minor": 0
      },
      "text/plain": [
       "VBox(children=(HTML(value='<h1>Enrich with Overlay & Aggregation</h1>'), HTML(value=\"<div style='height: 5px;'…"
      ]
     },
     "metadata": {},
     "output_type": "display_data"
    }
   ],
   "source": [
    "\n",
    "from geoenricher import EnricherGUIOverlay\n",
    "\n",
    "'''\n",
    "# GUI for Enrich by Overlay\n",
    "\n",
    "'''\n",
    "# pass the `Enricher` object (loaded with the datasets) to the EnricherGUIOverlay constructor\n",
    "obj_ui = EnricherGUIOverlay(obj)\n"
   ]
  },
  {
   "cell_type": "code",
   "execution_count": null,
   "id": "b6a9ffdd",
   "metadata": {},
   "outputs": [],
   "source": [
    "\n",
    "'''\n",
    "Save the map with the applied symbology as a .html file\n",
    "'''\n",
    "\n",
    "map_1.save_to_html(file_name=\"./map_1.html\")\n"
   ]
  }
 ],
 "metadata": {
  "kernelspec": {
   "display_name": ".venv",
   "language": "python",
   "name": "python3"
  },
  "language_info": {
   "codemirror_mode": {
    "name": "ipython",
    "version": 3
   },
   "file_extension": ".py",
   "mimetype": "text/x-python",
   "name": "python",
   "nbconvert_exporter": "python",
   "pygments_lexer": "ipython3",
   "version": "3.12.3"
  }
 },
 "nbformat": 4,
 "nbformat_minor": 5
}
