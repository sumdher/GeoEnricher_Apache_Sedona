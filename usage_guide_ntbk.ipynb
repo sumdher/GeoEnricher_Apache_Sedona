{
 "cells": [
  {
   "cell_type": "markdown",
   "id": "8ffceaa2",
   "metadata": {},
   "source": [
    "# **GeoEnricher**\n",
    "```md\n",
    "       ______              ______              _        __                   \n",
    "      / ____/___   ____   / ____/____   _____ (_)_____ / /_   ___   _____    \n",
    "     / / __ / _ \\ / __ \\ / __/  / __ \\ / ___// // ___// __ \\ / _ \\ / ___/    \n",
    "    / /_/ //  __// /_/ // /___ / / / // /   / // /__ / / / //  __// /        \n",
    "    \\____/ \\___/ \\____//_____//_/ /_//_/   /_/ \\___//_/ /_/ \\___//_/       \n",
    "```\n",
    "\n",
    "Geospatial processing pipeline for large-scale datasets. Built on PySpark + Sedona, Kepler.gl.\n",
    "\n",
    "*Suitable for spatial big data analyses, service accessibility modeling, and grid-based enrichment.*"
   ]
  },
  {
   "cell_type": "markdown",
   "id": "096e4f3b",
   "metadata": {},
   "source": [
    "---"
   ]
  },
  {
   "cell_type": "markdown",
   "id": "3cd4ed99",
   "metadata": {},
   "source": [
    "## **Prerequisites**\n",
    "\n",
    "### Select the python kernel where `geoenricher` is installed.\n",
    "\n",
    "#### Environment Variables Setup: **JAVA_HOME**, (**HADOOP_HOME** for windows)\n",
    "\n",
    "1. Download **Java** and install it if not already done.\n",
    "  - Set `JAVA_HOME` its respective installation directory that has directories like \"*bin*, *lib*, *legal*...\"\n",
    "  - Usually it is something like `C:\\Program Files\\Java\\jre-1.8` on windows.\n",
    "  - And set system PATH = `%JAVA_HOME%\\bin`.\n",
    "\n",
    "2. Download `winutils.exe` and `hadoop.dll` from [this repo](https://github.com/steveloughran/winutils/tree/master/hadoop-3.0.0/bin).\n",
    "   - Place `winutils.exe` in a directory such as `C:/Hadoop/bin`.\n",
    "   - Place `hadoop.dll` in `C:/Windows/System32`.\n",
    "   - And set HADOOP_HOME = `C:/Hadoop/bin` and system PATH = `%HADOOP_HOME%\\bin`.\n",
    "\n",
    "3. Reload the notebook."
   ]
  },
  {
   "cell_type": "markdown",
   "id": "c65c0725",
   "metadata": {},
   "source": [
    "## **Setup the Spark cluster**\n",
    "\n",
    "Pass the CRS in the **Enricher**'s constructor.\n",
    "\n",
    "Setup the Enricher object with \"sedona\" or \"wherobots\" (beta).\n",
    "\n",
    "The default directory tree is automatically made when you run `geoenricher` in the terminal.\n",
    "\n",
    "If it is located somewhere else, overwrite the default path in: `data_dir`.\n",
    "\n",
    "`\"ex_mem\"` and `\"dr_mem\"` are the executor and driver memories in GB.\n",
    "\n"
   ]
  },
  {
   "cell_type": "code",
   "execution_count": null,
   "id": "99b7ec03",
   "metadata": {},
   "outputs": [],
   "source": [
    "'''\n",
    "Setup cluster\n",
    "\n",
    "'''\n",
    "\n",
    "from geoenricher import Enricher\n",
    "\n",
    "obj = Enricher(crs=\"EPSG:3035\")\n",
    "\n",
    "data_dir = f\"./data\"\n",
    "\n",
    "obj.setup_cluster(\n",
    "    data_dir=data_dir, \n",
    "    which=\"sedona\", \n",
    "    ex_mem=26,  # change this\n",
    "    dr_mem=24,  # change this\n",
    "    log_level=\"ERROR\"\n",
    ")"
   ]
  },
  {
   "cell_type": "markdown",
   "id": "bcadeb90",
   "metadata": {},
   "source": [
    "## **First run (Load data from files)**\n",
    "\n",
    "This loads data from files in `data_dir`. This will take a while since it makes some essential transformations on the datasets. \n",
    "\n",
    "`parquet_all()` will save all datasets to the disk, preserving any transformations applied. \n",
    "\n",
    "From next time, you can directly load them  with: `load_from_parquets()` to save time.\n"
   ]
  },
  {
   "cell_type": "code",
   "execution_count": null,
   "id": "77010933",
   "metadata": {},
   "outputs": [],
   "source": [
    "'''\n",
    "First Run\n",
    "\n",
    "'''\n",
    "\n",
    "from geoenricher import Enricher\n",
    "\n",
    "\n",
    "\n",
    "# provide the data directory\n",
    "data_dir = f\"./data\"\n",
    "\n",
    "# individual file paths:\n",
    "path_com_EU = f\"{data_dir}/data_EU/comuni_shp/\"\n",
    "path_contr = f\"{data_dir}/data_EU/countries_shp/\"\n",
    "path_grids = f\"{data_dir}/data_EU/census_grid_EU/grids_OG_corrected.parquet\"\n",
    "# path_grids_new = f\"{data_dir}/data_EU/census_grid_EU/grids_new.gpkg\"\n",
    "path_reg = f\"{data_dir}/data_Italy/regioni/\"\n",
    "path_prov = f\"{data_dir}/data_Italy/provinci\"\n",
    "path_com = f\"{data_dir}/data_Italy/comuni/\"\n",
    "path_hlth = f\"{data_dir}/data_EU/services/healthcare_dropna.gpkg\"\n",
    "# path_edu = f\"{data_dir}/data_EU/services/education_dropna.gpkg\"\n",
    "path_acc_health = f\"{data_dir}/data_EU/accessibility/healthcare/grid_accessibility_health.geoparquet\"\n",
    "path_acc_edu = f\"{data_dir}/data_EU/accessibility/education/grid_accessibility_educ.geoparquet\"\n",
    "path_NUTS = f\"{data_dir}/NUTS.shp\"\n",
    "path_LAU = f\"{data_dir}/LAU.shp\"\n",
    "path_DGURBA = f\"{data_dir}/DGURBA\"\n",
    "\n",
    "# dataset names and their file formats:\n",
    "# format: {dataset_name: (path, file_format), ...}\n",
    "\n",
    "datasets: dict[str, tuple[str, str]] = {\n",
    "    \"comuni_EU\": (path_com_EU, \"shapefile\"),\n",
    "    \"countries\": (path_contr, \"shapefile\"),\n",
    "    \"pop_grids\": (path_grids, \"geoparquet\"),\n",
    "    # \"pop_grids_new\": (path_grids_new, \"geopackage\"),\n",
    "    \"regions_IT\": (path_reg, \"shapefile\"),\n",
    "    \"provinces_IT\": (path_prov, \"shapefile\"),\n",
    "    \"comuni_IT\": (path_com, \"shapefile\"),\n",
    "    \"hospitals\": (path_hlth, \"geopackage\"),\n",
    "    # \"education\": (path_edu, \"geopackage\"),\n",
    "    \"accessibility_hosp\": (path_acc_health, \"geoparquet\"),\n",
    "    \"accessibility_educ\": (path_acc_edu, \"geoparquet\"),\n",
    "    \"NUTS\": (path_NUTS, \"shapefile\"),\n",
    "    \"LAU\": (path_LAU, \"shapefile\"),\n",
    "    \"DGURBAN\": (path_DGURBA, \"shapefile\"),\n",
    "}\n",
    "\n",
    "obj = Enricher(crs=\"EPSG:3035\")\n",
    "\n",
    "obj.setup_cluster(\n",
    "    data_dir=data_dir, \n",
    "    which=\"sedona\", \n",
    "    ex_mem=26,  # change this\n",
    "    dr_mem=24,  # change this\n",
    "    log_level=\"ERROR\"\n",
    ")\n",
    "\n",
    "# use \"load()\" to load all the datasets in {data_dir}, \n",
    "# according to the paths and file formats provided in \"datasets{}\"\n",
    "obj.load(datasets, silent=True)\n"
   ]
  },
  {
   "cell_type": "markdown",
   "id": "e26348d7",
   "metadata": {},
   "source": [
    "## **Data Prep and Fix**\n",
    "\n",
    "1. Optionally, run `fix_geometries()` to fix invalid geometries, if any.\n",
    "   If you want to skip the check for some dataframes, pass their names in `skip[]`.\n",
    "\n",
    "2. Inspect the partitions and data skew by running `inspect_partitions()`.\n",
    "    > **Note:** This may cause memory error and the kernel to break if the driver memory is not enough.\n",
    "\n",
    "3. Force the dataframes to be *repartitioned* to the number of available cores.\n",
    "   Pass the names of the dataframes to be skipped in skip[]\n",
    "\n",
    "4. Transform the CRS of loaded datasets to the CRS passed in the Enricher's constructor. `lazy=True` will not cache the dataframes. "
   ]
  },
  {
   "cell_type": "code",
   "execution_count": null,
   "id": "4b566e4d",
   "metadata": {},
   "outputs": [],
   "source": [
    "obj.fix_geometries(\n",
    "    skip=['pop_grids', 'pop_grids_new']\n",
    ")\n",
    "\n",
    "obj.force_repartition(skip=['pop_grids'])\n",
    "\n",
    "obj.transform_CRS(lazy=False)\n"
   ]
  },
  {
   "cell_type": "markdown",
   "id": "8df5e9c3",
   "metadata": {},
   "source": [
    "## ***Pickle*** **the loaded dataframes for Quick Access in the subsequent runs**\n",
    "\n",
    "Default directory: `./{data_dir}/pickle_parquets/dfs_list`.\n",
    "You may change the directory where they are saved by passing it in `parquet_dir`\n",
    "\n",
    "Like: pqrquet_dir = `.{data_dir}/pickle_parquets/archive`"
   ]
  },
  {
   "cell_type": "code",
   "execution_count": null,
   "id": "eaf1d4ed",
   "metadata": {},
   "outputs": [],
   "source": [
    "obj.parquet_all(preserve_partitions=True)"
   ]
  },
  {
   "cell_type": "markdown",
   "id": "dff54470",
   "metadata": {},
   "source": [
    "## **Subsequent Runs**\n",
    "\n",
    "### **Load from pickled parquets**\n",
    "\n",
    "Run `load_from_parquets()` to load all the dataframes in the default directory: `./{data_dir}/pickle_parquets/dfs_list` into `obj.dfs_list`."
   ]
  },
  {
   "cell_type": "code",
   "execution_count": 5,
   "id": "c80428bf",
   "metadata": {},
   "outputs": [
    {
     "name": "stdout",
     "output_type": "stream",
     "text": [
      "sedona initialized with 10 cores for parellelism.\n",
      "\n",
      "Loaded dataframe 'hospitals'\n",
      "Loaded dataframe 'com_X_pop_accssblty_hosps'\n",
      "Loaded dataframe 'NUTS'\n",
      "Loaded dataframe 'pop_grids_full'\n",
      "Loaded dataframe 'LAU'\n",
      "Loaded dataframe 'comuni_EU'\n",
      "Loaded dataframe 'DGURBAN'\n"
     ]
    }
   ],
   "source": [
    "\n",
    "from geoenricher import Enricher\n",
    "\n",
    "'''\n",
    "Load data from pickled parquets \n",
    "\n",
    "'''\n",
    "\n",
    "data_dir = \"./data\"\n",
    "\n",
    "obj = Enricher(crs=\"EPSG:3035\")\n",
    "\n",
    "obj.setup_cluster(\n",
    "    data_dir=data_dir, \n",
    "    which=\"sedona\", \n",
    "    ex_mem=26,  # change this\n",
    "    dr_mem=24,  # change this\n",
    "    log_level=\"ERROR\"\n",
    ")\n",
    "\n",
    "# pqrquet_dir = f\".{data_dir}/pickle_parquets/archive\"\n",
    "obj.load_from_parquets()\n",
    "# obj.inspect_partitions()\n"
   ]
  },
  {
   "cell_type": "markdown",
   "id": "d1e9ad4a",
   "metadata": {},
   "source": [
    "## **Interactive 3D Maps for Visualization**\n",
    "##### Powered by kepler.gl\n",
    "\n",
    "Pass a list of either:\n",
    "- Names of the loaded datasets\n",
    "- Or directly the Spark dataframes in memory\n",
    "- ```dfs: str | SparkDataFrame | list[str | SparkDataFrame]```"
   ]
  },
  {
   "cell_type": "code",
   "execution_count": 4,
   "id": "96f351da",
   "metadata": {},
   "outputs": [
    {
     "name": "stdout",
     "output_type": "stream",
     "text": [
      "User Guide: https://docs.kepler.gl/docs/keplergl-jupyter\n"
     ]
    },
    {
     "name": "stderr",
     "output_type": "stream",
     "text": [
      "                                                                                \r"
     ]
    },
    {
     "name": "stdout",
     "output_type": "stream",
     "text": [
      "Auto-detected geometry columns: ['geometry', 'centroid']\n"
     ]
    },
    {
     "data": {
      "application/vnd.jupyter.widget-view+json": {
       "model_id": "b46e7021cdf149aeaef69df3cac67abf",
       "version_major": 2,
       "version_minor": 0
      },
      "text/plain": [
       "KeplerGl(data={'unnamed_0': {'index': [0, 1, 2, 3, 4, 5, 6, 7, 8, 9, 10, 11, 12, 13, 14, 15, 16, 17, 18, 19, 2…"
      ]
     },
     "execution_count": 4,
     "metadata": {},
     "output_type": "execute_result"
    }
   ],
   "source": [
    "\n",
    "from pyspark.sql import functions as F\n",
    "from keplergl.keplergl import KeplerGl\n",
    "'''\n",
    "Visualize the datasets\n",
    "\n",
    "'''\n",
    "\n",
    "map_1: KeplerGl = obj.plot_this(\n",
    "            df=[\n",
    "                obj.dfs_list['com_X_pop_accssblty_hosps'].filter(F.col('CNTR_ID') == 'IT'),\n",
    "                # obj.dfs_list[\"dg_urban\"].filter(F.col('CNTR_CODE') == 'IT'),\n",
    "                ],\n",
    "            )\n",
    "\n",
    "map_1\n"
   ]
  },
  {
   "cell_type": "code",
   "execution_count": null,
   "id": "93d748a7",
   "metadata": {},
   "outputs": [],
   "source": [
    "\n",
    "'''\n",
    "Enrich by Spatial Joion\n",
    "\n",
    "'''\n",
    "\n",
    "from pyspark.sql import functions as F\n",
    "\n",
    "grids_IT_df = obj.enrich_sjoin(\n",
    "    df1=\"pop_grids\", \n",
    "    df2=obj.dfs_list['countries'], \n",
    "    enr_cols=[\"CNTR_ID\", \"CNTR_NAME\"]\n",
    "    ).filter(F.col('CNTR_ID').isin(\"IT\"))\n",
    "\n",
    "with obj.get_time(\"exporting\"):\n",
    "    obj.parquet_this(\"grids_IT\", grids_IT_df, preserve_partitions=True)\n",
    "\n",
    "\n",
    "comuni_IT_df = obj.dfs_list['comuni_EU'].filter(F.col('CNTR_ID') == 'IT')\n",
    "\n",
    "with obj.get_time(\"exporting\"):\n",
    "    obj.parquet_this(\"comuni_IT\", comuni_IT_df, preserve_partitions=True)\n"
   ]
  },
  {
   "cell_type": "code",
   "execution_count": 3,
   "id": "ad818193",
   "metadata": {},
   "outputs": [
    {
     "data": {
      "application/vnd.jupyter.widget-view+json": {
       "model_id": "647dc20cca514510a9fa602518764665",
       "version_major": 2,
       "version_minor": 0
      },
      "text/plain": [
       "VBox(children=(HTML(value='<h1>Enrich with Overlay & Aggregation</h1>'), HTML(value=\"<div style='height: 5px;'…"
      ]
     },
     "metadata": {},
     "output_type": "display_data"
    }
   ],
   "source": [
    "\n",
    "from geoenricher import EnricherGUIOverlay\n",
    "\n",
    "'''\n",
    "# GUI for Enrich by Overlay\n",
    "\n",
    "'''\n",
    "# pass the `Enricher` object (loaded with the datasets) to the EnricherGUIOverlay constructor\n",
    "obj_ui = EnricherGUIOverlay(obj)\n"
   ]
  },
  {
   "cell_type": "code",
   "execution_count": null,
   "id": "b6a9ffdd",
   "metadata": {},
   "outputs": [],
   "source": [
    "\n",
    "'''\n",
    "Save the map with the applied symbology as a .html file\n",
    "'''\n",
    "\n",
    "map_1.save_to_html(file_name=\"./map_1.html\")\n"
   ]
  }
 ],
 "metadata": {
  "kernelspec": {
   "display_name": ".venv",
   "language": "python",
   "name": "python3"
  },
  "language_info": {
   "codemirror_mode": {
    "name": "ipython",
    "version": 3
   },
   "file_extension": ".py",
   "mimetype": "text/x-python",
   "name": "python",
   "nbconvert_exporter": "python",
   "pygments_lexer": "ipython3",
   "version": "3.12.3"
  }
 },
 "nbformat": 4,
 "nbformat_minor": 5
}
