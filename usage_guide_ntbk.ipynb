{
 "cells": [
  {
   "cell_type": "code",
   "execution_count": null,
   "id": "5b97ac93",
   "metadata": {},
   "outputs": [],
   "source": [
    "# select the python kernel where `geoenricher` is installed.\n",
    "# make sure the imports work.\n",
    "\n",
    "# env vars:\n",
    "# set: JAVA_HOME, SPARK_HOME and HADOOP_HOME to point to respective installed directories\n",
    "# And, add \"$JAVA_HOME$/bin\", \"$SPARK_HOME$/bin\" and \"$HADOOP_HOME$/bin\" to sys PATH\n",
    "\n",
    "import geoenricher \n",
    "# from geoenricher import Enricher, EnrichOverlay\n"
   ]
  },
  {
   "cell_type": "code",
   "execution_count": null,
   "id": "13a9d066",
   "metadata": {},
   "outputs": [],
   "source": [
    "\n",
    "from geoenricher import Enricher\n",
    "\n",
    "'''\n",
    "Loading data from files.\n",
    "This will take a while. Because it cleans and makes some essential transformations.\n",
    "But it is a one-time operation. `parquet_all()` will save all datasets to the disk; \n",
    "preserving any transformations applied.\n",
    "From next time, you can directly load them  with: `load_from_parquets()` to save time.\n",
    "\n",
    "'''\n",
    "\n",
    "# provide the data directory\n",
    "data_dir = f\"./data\"\n",
    "\n",
    "# individual file paths:\n",
    "path_com_EU = f\"{data_dir}/data_EU/comuni_shp/\"\n",
    "path_contr = f\"{data_dir}/data_EU/countries_shp/\"\n",
    "path_grids = f\"{data_dir}/data_EU/census_grid_EU/grids_OG_corrected.parquet\"\n",
    "path_grids_new = f\"{data_dir}/data_EU/census_grid_EU/grids_new.gpkg\"\n",
    "path_reg = f\"{data_dir}/data_Italy/regioni/\"\n",
    "path_prov = f\"{data_dir}/data_Italy/provinci\"\n",
    "path_com = f\"{data_dir}/data_Italy/comuni/\"\n",
    "path_hlth = f\"{data_dir}/data_EU/services/healthcare_dropna.gpkg\"\n",
    "path_edu = f\"{data_dir}/data_EU/services/education_dropna.gpkg\"\n",
    "path_acc_health = f\"{data_dir}/data_EU/accessibility/healthcare/grid_accessibility_health.geoparquet\"\n",
    "path_acc_edu = f\"{data_dir}/data_EU/accessibility/education/grid_accessibility_educ.geoparquet\"\n",
    "path_NUTS = f\"{data_dir}/NUTS.shp\"\n",
    "path_LAU = f\"{data_dir}/LAU.shp\"\n",
    "path_DGURBA = f\"{data_dir}/DGURBA\"\n",
    "\n",
    "# dataset names and their file formats:\n",
    "# format: {dataset_name: (path, file_format), ...}\n",
    "\n",
    "datasets: dict[str, tuple[str, str]] = {\n",
    "    # \"comuni_EU\": (path_com_EU, \"shapefile\"),\n",
    "    # \"countries\": (path_contr, \"shapefile\"),\n",
    "    # \"pop_grids\": (path_grids, \"geoparquet\"),\n",
    "    # # \"pop_grids_new\": (path_grids_new, \"geopackage\"),\n",
    "    # \"regions_IT\": (path_reg, \"shapefile\"),\n",
    "    # \"provinces_IT\": (path_prov, \"shapefile\"),\n",
    "    # \"comuni_IT\": (path_com, \"shapefile\"),\n",
    "    # \"healthcare\": (path_hlth, \"geopackage\"),\n",
    "    # \"education\": (path_edu, \"geopackage\"),\n",
    "    # \"acc_health\": (path_acc_health, \"geoparquet\"),\n",
    "    # \"acc_edu\": (path_acc_edu, \"geoparquet\"),\n",
    "    # \"nuts\": (path_NUTS, \"shapefile\"),\n",
    "    # \"lau\": (path_LAU, \"shapefile\"),\n",
    "    \"dg_urban\": (path_DGURBA, \"shapefile\"),\n",
    "}\n",
    "\n",
    "obj = Enricher(crs=\"EPSG:3035\")\n",
    "\n",
    "# setup the Enricher object with \"sedona\" (or, \"wherobots\")\n",
    "# \"ex_mem\" and \"dr_mem\" are the executor and driver memory in GB\n",
    "obj.setup_cluster(\n",
    "    data_dir=data_dir, \n",
    "    which=\"sedona\", \n",
    "    ex_mem=26,  # change this\n",
    "    dr_mem=24,  # change this\n",
    "    log_level=\"ERROR\"\n",
    ")\n",
    "\n",
    "# use \"load()\" to load all the datasets in {data_dir}, \n",
    "# according to the paths and file formats provided in \"datasets{}\"\n",
    "obj.load(datasets, silent=True)\n",
    "\n",
    "# optionally, run \"fix_geometries()\" to fix invalid geometries, if any; \n",
    "# if you want to skip the check for some dataframes, pass their names in \"skip[]\"\n",
    "obj.fix_geometries(\n",
    "    skip=['pop_grids', 'pop_grids_new']\n",
    ")\n",
    "\n",
    "# Optionally, inspect the partitions and data skew:\n",
    "# obj.inspect_partitions()\n",
    "\n",
    "# and force the dataframes to be repartitioned to the number of available cores\n",
    "# pass the names of the dataframes to be skipped in skip[]\n",
    "obj.force_repartition(skip=['pop_grids'])\n",
    "\n",
    "# obj.inspect_partitions()\n",
    "\n",
    "# transform the CRS of loaded datasets to the CRS passed in the Enricher constructor\n",
    "# lazy=True will not cache the dataframes. \n",
    "obj.transform_CRS(lazy=False)\n",
    "\n",
    "# pickle all the dataframes to disk for quick access later.\n",
    "# default directory: \"./{data_dir}/pickle_parquets/dfs_list\"\n",
    "# you may change the directory where they are saved by pasing it in \"parquet_dir\"; relative to the {data_dir}\n",
    "obj.parquet_all(preserve_partitions=True)\n"
   ]
  },
  {
   "cell_type": "code",
   "execution_count": 3,
   "id": "cff77fb7",
   "metadata": {},
   "outputs": [
    {
     "name": "stderr",
     "output_type": "stream",
     "text": [
      "25/03/13 11:40:39 WARN Utils: Your hostname, marvin resolves to a loopback address: 127.0.1.1; using 172.20.27.4 instead (on interface eth0)\n",
      "25/03/13 11:40:39 WARN Utils: Set SPARK_LOCAL_IP if you need to bind to another address\n"
     ]
    },
    {
     "name": "stdout",
     "output_type": "stream",
     "text": [
      ":: loading settings :: url = jar:file:/data/homes_data/sudheer/benchmark_data/.venv/lib/python3.12/site-packages/pyspark/jars/ivy-2.5.1.jar!/org/apache/ivy/core/settings/ivysettings.xml\n"
     ]
    },
    {
     "name": "stderr",
     "output_type": "stream",
     "text": [
      "Ivy Default Cache set to: /data/homes_data/sudheer/.ivy2/cache\n",
      "The jars for the packages stored in: /data/homes_data/sudheer/.ivy2/jars\n",
      "org.apache.sedona#sedona-spark-shaded-3.5_2.12 added as a dependency\n",
      "org.datasyslab#geotools-wrapper added as a dependency\n",
      ":: resolving dependencies :: org.apache.spark#spark-submit-parent-51a8baf1-8270-469e-a223-06b612d9944c;1.0\n",
      "\tconfs: [default]\n",
      "\tfound org.apache.sedona#sedona-spark-shaded-3.5_2.12;1.7.0 in central\n",
      "\tfound org.datasyslab#geotools-wrapper;1.7.0-28.5 in central\n",
      ":: resolution report :: resolve 223ms :: artifacts dl 8ms\n",
      "\t:: modules in use:\n",
      "\torg.apache.sedona#sedona-spark-shaded-3.5_2.12;1.7.0 from central in [default]\n",
      "\torg.datasyslab#geotools-wrapper;1.7.0-28.5 from central in [default]\n",
      "\t---------------------------------------------------------------------\n",
      "\t|                  |            modules            ||   artifacts   |\n",
      "\t|       conf       | number| search|dwnlded|evicted|| number|dwnlded|\n",
      "\t---------------------------------------------------------------------\n",
      "\t|      default     |   2   |   0   |   0   |   0   ||   2   |   0   |\n",
      "\t---------------------------------------------------------------------\n",
      ":: retrieving :: org.apache.spark#spark-submit-parent-51a8baf1-8270-469e-a223-06b612d9944c\n",
      "\tconfs: [default]\n",
      "\t0 artifacts copied, 2 already retrieved (0kB/7ms)\n",
      "25/03/13 11:40:40 WARN NativeCodeLoader: Unable to load native-hadoop library for your platform... using builtin-java classes where applicable\n",
      "Setting default log level to \"WARN\".\n",
      "To adjust logging level use sc.setLogLevel(newLevel). For SparkR, use setLogLevel(newLevel).\n",
      "25/03/13 11:40:41 WARN SparkConf: Note that spark.local.dir will be overridden by the value set by the cluster manager (via SPARK_LOCAL_DIRS in mesos/standalone/kubernetes and LOCAL_DIRS in YARN).\n",
      "                                                                                \r"
     ]
    },
    {
     "name": "stdout",
     "output_type": "stream",
     "text": [
      "sedona initialized with 10 cores for parellelism.\n",
      "\n"
     ]
    },
    {
     "name": "stderr",
     "output_type": "stream",
     "text": [
      "                                                                                \r"
     ]
    },
    {
     "name": "stdout",
     "output_type": "stream",
     "text": [
      "Loaded dataframe 'hospitals'\n",
      "Loaded dataframe 'com_X_pop_accssblty_hosps'\n",
      "Loaded dataframe 'lau'\n",
      "Loaded dataframe 'dg_urban'\n",
      "Loaded dataframe 'countries'\n",
      "Loaded dataframe 'pop_grids_full'\n",
      "Loaded dataframe 'comuni_EU'\n",
      "Loaded dataframe 'nuts'\n"
     ]
    }
   ],
   "source": [
    "\n",
    "from geoenricher import Enricher\n",
    "\n",
    "'''\n",
    "Load data from pickled parquets \n",
    "\n",
    "'''\n",
    "\n",
    "if 'obj' in globals():\n",
    "    del obj\n",
    "\n",
    "# provide the data directory\n",
    "data_dir = \"./data\"\n",
    "\n",
    "obj = Enricher(crs=\"EPSG:3035\")\n",
    "\n",
    "# setup the Enricher object with \"sedona\" (or, \"wherobots\")\n",
    "# \"ex_mem\" and \"dr_mem\" are the executor and driver memory in GB\n",
    "obj.setup_cluster(\n",
    "    data_dir=data_dir, \n",
    "    which=\"sedona\", \n",
    "    ex_mem=26,  # change this\n",
    "    dr_mem=24,  # change this\n",
    "    log_level=\"INsdFO\"\n",
    ")\n",
    "\n",
    "# loads all the datasets from pickled parquets in the default direcoty: \"./{data_dir}/pickle_parquets/dfs_list\"\n",
    "# optionally, to load from a different directory, pass the directory path in \"parquet_dir\"; reative to the {data_dir}\n",
    "obj.load_from_parquets()\n",
    "# obj.inspect_partitions()\n"
   ]
  },
  {
   "cell_type": "code",
   "execution_count": null,
   "id": "1a941521",
   "metadata": {},
   "outputs": [],
   "source": [
    "\n",
    "'''\n",
    "Enrich by Spatial Joion\n",
    "\n",
    "'''\n",
    "\n",
    "from pyspark.sql import functions as F\n",
    "\n",
    "grids_IT_df = obj.enrich_sjoin(\n",
    "    df1=\"pop_grids\", \n",
    "    df2=obj.dfs_list['countries'], \n",
    "    enr_cols=[\"CNTR_ID\", \"CNTR_NAME\"]\n",
    "    ).filter(F.col('CNTR_ID').isin(\"IT\"))\n",
    "\n",
    "with obj.get_time(\"exporting\"):\n",
    "    obj.parquet_this(\"grids_IT\", grids_IT_df, preserve_partitions=True)\n",
    "\n",
    "\n",
    "comuni_IT_df = obj.dfs_list['comuni_EU'].filter(F.col('CNTR_ID') == 'IT')\n",
    "\n",
    "with obj.get_time(\"exporting\"):\n",
    "    obj.parquet_this(\"comuni_IT\", comuni_IT_df, preserve_partitions=True)\n"
   ]
  },
  {
   "cell_type": "code",
   "execution_count": null,
   "id": "0d1eaaad",
   "metadata": {},
   "outputs": [
    {
     "data": {
      "application/vnd.jupyter.widget-view+json": {
       "model_id": "6f14ba4363ad42ed912853d739f96d68",
       "version_major": 2,
       "version_minor": 0
      },
      "text/plain": [
       "VBox(children=(HTML(value='<h1>Enrich with Overlay & Aggregation</h1>'), HTML(value=\"<div style='height: 5px;'…"
      ]
     },
     "metadata": {},
     "output_type": "display_data"
    }
   ],
   "source": [
    "\n",
    "from geoenricher import EnricherGUIOverlay\n",
    "\n",
    "'''\n",
    "# GUI for Enrich by Overlay\n",
    "\n",
    "'''\n",
    "# pass the `Enricher` object (loaded with the datasets) to the EnricherGUIOverlay constructor\n",
    "obj_ui = EnricherGUIOverlay(obj)\n"
   ]
  },
  {
   "cell_type": "code",
   "execution_count": null,
   "id": "5e4c513b",
   "metadata": {},
   "outputs": [],
   "source": [
    "\n",
    "'''\n",
    "Visualize the datasets\n",
    "\n",
    "'''\n",
    "\n",
    "# pass a list of: names of the loaded datasets or directly the Spark dataframes in memory\n",
    "# make sure the geometry column is named \"geometry\".\n",
    "# ifg not, pass individual dataframes with their geometry column with the argument `geom_col`\n",
    "obj.plot_this(\n",
    "    df=[ # str | SparkDataFrame | list[str | SparkDataFrame]\n",
    "        obj.dfs_list[''].filter(F.col('CNTR_ID') == 'IT'),\n",
    "        # obj.dfs_list[\"dg_urban\"].filter(F.col('CNTR_CODE') == 'IT'),\n",
    "        # temp.filter(F.col('CNTR_ID') == 'IT'),\n",
    "        ],  \n",
    "    new_map=True,  # if it is False, the dataset will be added to the old map (if it exists, or else, makes a new one)\n",
    "    save_html=False,\n",
    "    )\n",
    "\n",
    "# you can plot the map in another cell, by running `<obj>.map`\n"
   ]
  }
 ],
 "metadata": {
  "kernelspec": {
   "display_name": ".venv",
   "language": "python",
   "name": "python3"
  },
  "language_info": {
   "codemirror_mode": {
    "name": "ipython",
    "version": 3
   },
   "file_extension": ".py",
   "mimetype": "text/x-python",
   "name": "python",
   "nbconvert_exporter": "python",
   "pygments_lexer": "ipython3",
   "version": "3.12.3"
  }
 },
 "nbformat": 4,
 "nbformat_minor": 5
}
